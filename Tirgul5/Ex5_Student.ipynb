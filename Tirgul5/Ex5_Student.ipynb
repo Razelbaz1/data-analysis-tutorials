{
 "cells": [
  {
   "cell_type": "markdown",
   "id": "1a79ceef-285d-47cc-a3b7-4dccbe854a76",
   "metadata": {},
   "source": [
    "##### <a class=\"anchor\" id=\"Up\"> </a>  "
   ]
  },
  {
   "cell_type": "markdown",
   "id": "47cd9121-44a4-4e4e-8a50-86fed29ff358",
   "metadata": {},
   "source": [
    "## Histograms, Correlations and Scatterplots"
   ]
  },
  {
   "cell_type": "markdown",
   "id": "07f5f45e-97bb-4382-9a3b-cf759bb55063",
   "metadata": {},
   "source": [
    "1. [Quick recap](#1)\n",
    "2. [Histogram](#2)\n",
    "3. [FacetGrid & Pairplot](#3)\n",
    "4. [ScatterPlot](#4)\n",
    "5. [Correlation](#5)\n",
    "6. [Melt](#6)"
   ]
  },
  {
   "cell_type": "markdown",
   "id": "5e9a78a5-a97b-457a-a889-1699cc804903",
   "metadata": {},
   "source": [
    "## <font color=\"navy\">Quick recap.</font> <a class=\"anchor\" id='1'></a>"
   ]
  },
  {
   "cell_type": "markdown",
   "id": "874749f7-afc8-4d8a-8350-c86af3ee54d1",
   "metadata": {},
   "source": [
    "---\n",
    ">### Functions covered in unit 6:\n",
    ">\n",
    "> `scatterplot` - (x,y) points on the graphs\n",
    ">\n",
    "> `lineplot` - simple lineplot\n",
    ">\n",
    "> `plt.figure(fixsize(m,n))` - set the size of the graph\\figure to (m,n)\n",
    ">\n",
    "> `boxplot` - create a boxplot\n",
    ">\n",
    "> `reset_index` - reset index to a numerical index beginning at 0\n",
    ">\n",
    "> `sort_values()` - sorts values \n",
    ">\n",
    "> `histplot` - create a histogram\n",
    ">\n",
    "> `std()` - standard deviation\n",
    ">\n",
    "> `to_pickle`, `read_pickle` - serialize dataframe to file, read from file\n",
    "---\n",
    ">### Functions covered in unit 7:\n",
    ">\n",
    ">* `.corr` - compute pairwise correlation of columns, excluding NA/null values. [documentation](https://pandas.pydata.org/pandas-docs/stable/reference/api/pandas.DataFrame.corr.html)\n",
    ">\n",
    ">* `.corr.style.background_gradient` - change the background color. [various options](corr.style.background_gradient)\n",
    ">\n",
    ">* `.plotting.scatter_matrix` - draw a matrix of scatter plots. [documentation](https://pandas.pydata.org/pandas-docs/stable/reference/api/pandas.plotting.scatter_matrix.html?highlight=scatter_matrix)\n",
    ">\n",
    ">* `.plot.scatter` - plot a scatter plot\n",
    ">\n",
    "> Seaborn package:\n",
    ">\n",
    ">* `sns.scatterplot` - a scatter plot\n",
    ">\n",
    ">* `sns.regplot` - a scatter plot with a regression line\n",
    ">\n",
    ">* `sns.pairplot` - scatter plot matrix\n",
    ">\n",
    "> * `sns.heatmap` - a heatmap. @annot = True to print the values inside the square\n",
    ">\n",
    "---\n",
    ">\n",
    ">* `.rename` - alter axes (columns or rows) labels\n",
    ">\n",
    ">* `str.split(\";\", n = 6, expand = True)` - split strings around given separator/delimiter. When expand=True, expand the split stirngs to seperate columns\n",
    ">\n",
    ">* `pd.melt` - long format where one or more columns are identifier variables (id_vars), while all other columns, considered measured variables (value_vars), are “unpivoted” to the row axis, leaving just two non-identifier columns, ‘variable’ and ‘value’\n",
    ">\n",
    ">* `replace` - replace values\n",
    ">\n",
    "> * `sns.barplot` - shows mean and confidence intervals \n",
    ">\n",
    ">* `sns.scatterplot` - a scatter plot\n",
    ">\n",
    ">* `plt.xticks(rotation=70)` - rotate the labels on the x-axis of a plot\n",
    ">\n",
    ">* `sns.FacetGrid` - show different aspects (Facets) of the data, on a grid\n",
    ">\n",
    ">* `map_datframe` - plots a function on the grid\n"
   ]
  },
  {
   "cell_type": "markdown",
   "id": "0185b123-1e98-4809-a440-ab7447f54b2f",
   "metadata": {},
   "source": [
    "### [▲](#Up)\n",
    "---"
   ]
  },
  {
   "cell_type": "markdown",
   "id": "46df1943-0e79-4e55-ac8b-9a42309c7752",
   "metadata": {},
   "source": [
    "<a class=\"anchor\" id='2'></a>\n",
    "## <font color=\"navy\">Histogram.</font>"
   ]
  },
  {
   "cell_type": "markdown",
   "id": "e2693bed-e918-496f-89a1-91701b194458",
   "metadata": {},
   "source": [
    "##### In the past week, we discussed, among other things, the box plot, in which we delved a bit into the interquartile range (IQR). \n",
    "##### We understood that there are advantages and disadvantages to using it.\n",
    "##### One of the solutions to cope with this drawback is a __histogram__."
   ]
  },
  {
   "cell_type": "code",
   "execution_count": 1,
   "id": "41e3a7e3-d691-4848-adae-c8dba403e59b",
   "metadata": {},
   "outputs": [],
   "source": [
    "import pandas as pd\n",
    "import seaborn as sns  # for creating the graphs\n",
    "import matplotlib.pyplot as plt  #for reshaping graph size\n",
    "import numpy as np\n",
    "import random"
   ]
  },
  {
   "cell_type": "code",
   "execution_count": 2,
   "id": "8620f359-4ce3-47da-a33c-9604d9e09132",
   "metadata": {},
   "outputs": [],
   "source": [
    "# Creating a first DataFrame with the relative distribution of scores in the center and an average of 75\n",
    "np.random.seed(0)\n",
    "num_students = 80\n",
    "grades = np.random.randint(60, 90, num_students)  # grade range 60-89\n",
    "student_ids = range(1, num_students + 1)\n",
    "names = ['Student ' + str(i) for i in range(1, num_students + 1)]\n",
    "df1 = pd.DataFrame({'ID': student_ids, 'Name': names, 'Grade': grades})\n",
    "\n",
    "# Creating a second DataFrame with the distribution of scores at the edges and an average of 75\n",
    "np.random.seed(1)\n",
    "grades_low = np.random.randint(40, 60, num_students // 2)  # grade range  40-59\n",
    "grades_high = np.random.randint(90, 100, num_students // 2)  # grade range  90-99\n",
    "grades = np.concatenate((grades_low, grades_high))\n",
    "random.shuffle(grades)  # shuffle grades\n",
    "df2 = pd.DataFrame({'ID': student_ids, 'Name': names, 'Grade': grades})\n",
    "\n"
   ]
  },
  {
   "cell_type": "markdown",
   "id": "0819b8d7-5a60-41b7-a566-927864c8b58d",
   "metadata": {},
   "source": [
    "#### 1.1 Display side-by-side box plots for df1 and df2 depicting their distributions with appropriate titles for each graph."
   ]
  },
  {
   "cell_type": "code",
   "execution_count": null,
   "id": "858c8773-5868-42f3-8055-bd35f33d7275",
   "metadata": {},
   "outputs": [],
   "source": []
  },
  {
   "cell_type": "markdown",
   "id": "c1bed113-cdda-4b3c-8371-e6abc4f66aee",
   "metadata": {},
   "source": [
    "#### 1.2 Do the plots appear similar when placed next to each other? Suggest a better way to visualize the plots."
   ]
  },
  {
   "cell_type": "code",
   "execution_count": null,
   "id": "802616df-2ad3-45ad-b244-ebdbd2505718",
   "metadata": {},
   "outputs": [],
   "source": []
  },
  {
   "cell_type": "markdown",
   "id": "b9622f60-eb38-4b15-bdcb-25f2abc39aa5",
   "metadata": {},
   "source": [
    "#### 1.3 Create a histogram that will be displayed next to each other, note that you can learn a lot from this histogram."
   ]
  },
  {
   "cell_type": "code",
   "execution_count": 3,
   "id": "f93e43fc-5727-46bb-9f3a-3c07dcf5b1f0",
   "metadata": {},
   "outputs": [
    {
     "data": {
      "image/png": "[encoded data removed]",
      "text/plain": [
       "<Figure size 864x288 with 2 Axes>"
      ]
     },
     "metadata": {
      "needs_background": "light"
     },
     "output_type": "display_data"
    }
   ],
   "source": [
    "fig, ax = plt.subplots(1,2, figsize = (12,4))\n",
    "plt.subplots_adjust(wspace = 0.5)\n",
    "\n",
    "# Create histograms for the 'Grade' column in df1 and df2 with titles\n",
    "sns.histplot(data = df1, x = 'Grade', ax = ax[0], bins=30)\n",
    "ax[0].set_title('Histogram of Grades in df1')\n",
    "\n",
    "sns.histplot(data = df2, x = 'Grade', ax = ax[1], bins=30)\n",
    "ax[1].set_title('Histogram of Grades in df2')\n",
    "\n",
    "plt.show()"
   ]
  },
  {
   "cell_type": "markdown",
   "id": "e696d7d5-48d8-40d2-a42b-da9c22008302",
   "metadata": {},
   "source": [
    "#### Bonus question, display the 2 histograms in one graph.\n",
    "##### We will expand on their uses in the following exercises"
   ]
  },
  {
   "cell_type": "code",
   "execution_count": 4,
   "id": "dfdf760c-46db-46a6-8b23-c61aa4489f28",
   "metadata": {},
   "outputs": [
    {
     "data": {
      "image/png": "[encoded data removed]",
      "text/plain": [
       "<Figure size 1296x360 with 1 Axes>"
      ]
     },
     "metadata": {
      "needs_background": "light"
     },
     "output_type": "display_data"
    }
   ],
   "source": [
    "# Create Histogram Overlay\n",
    "plt.figure(figsize=(18, 5))\n",
    "plt.hist(df1['Grade'], bins=30, alpha=0.5, label='df1', color='blue')\n",
    "plt.hist(df2['Grade'], bins=30, alpha=0.5, label='df2', color='red')\n",
    "plt.legend()\n",
    "plt.title(\"Histogram Overlay of df1 and df2 Distributions\")\n",
    "\n",
    "plt.tight_layout()\n",
    "plt.show();\n",
    "\n",
    "# The 'plt.tight_layout()' function in Matplotlib is used to automatically adjust the spacing between subplots to prevent overlapping.\n",
    "# It adjusts the positions of axes to make sure there is no overlapping and the plots fit nicely within the fig"
   ]
  },
  {
   "cell_type": "markdown",
   "id": "d8e797c7-fa61-45b6-8b89-d09f9a93d43c",
   "metadata": {},
   "source": [
    "#### More suggestions for question 1.2, we will talk about them later."
   ]
  },
  {
   "cell_type": "code",
   "execution_count": 5,
   "id": "518bd2f7-f23a-4d14-a7f9-afa30f2801dc",
   "metadata": {},
   "outputs": [
    {
     "data": {
      "image/png": "[encoded data removed]",
      "text/plain": [
       "<Figure size 1296x360 with 3 Axes>"
      ]
     },
     "metadata": {
      "needs_background": "light"
     },
     "output_type": "display_data"
    }
   ],
   "source": [
    "# Create Violin Plot\n",
    "plt.figure(figsize=(18, 5))\n",
    "plt.subplot(1, 3, 1)\n",
    "sns.violinplot(data=[df1['Grade'], df2['Grade']], inner=\"stick\")\n",
    "plt.xticks([0, 1], [\"df1\", \"df2\"])\n",
    "plt.title(\"Violin Plot of df1 and df2 Distributions\")\n",
    "\n",
    "# Create Histogram Overlay\n",
    "plt.subplot(1, 3, 2)\n",
    "plt.hist(df1['Grade'], bins=30, alpha=0.5, label='df1', color='blue')\n",
    "plt.hist(df2['Grade'], bins=30, alpha=0.5, label='df2', color='red')\n",
    "plt.legend()\n",
    "plt.title(\"Histogram Overlay of df1 and df2 Distributions\")\n",
    "\n",
    "# Create KDE plot\n",
    "plt.subplot(1, 3, 3)\n",
    "sns.kdeplot(df1['Grade'], label='df1', shade=True)\n",
    "sns.kdeplot(df2['Grade'], label='df2', shade=True)\n",
    "plt.legend()\n",
    "plt.title(\"Kernel Density Estimation (KDE) Plots of df1 and df2 Distributions\")\n",
    "\n",
    "plt.tight_layout()\n",
    "plt.show();"
   ]
  },
  {
   "cell_type": "markdown",
   "id": "6c906b21-8224-4935-92c9-7285156e8779",
   "metadata": {},
   "source": [
    "---\n",
    "### Types of distributions.\n",
    "##### Let's learn how to read the code and how it works."
   ]
  },
  {
   "cell_type": "code",
   "execution_count": 6,
   "id": "3663d90a-d818-44e9-a090-d4e8273382df",
   "metadata": {},
   "outputs": [
    {
     "data": {
      "image/png": "[encoded data removed]",
      "text/plain": [
       "<Figure size 864x720 with 4 Axes>"
      ]
     },
     "metadata": {
      "needs_background": "light"
     },
     "output_type": "display_data"
    }
   ],
   "source": [
    "import numpy as np\n",
    "import matplotlib.pyplot as plt\n",
    "import seaborn as sns\n",
    "\n",
    "# Create a figure with subplots\n",
    "fig, axes = plt.subplots(2, 2, figsize=(12, 10))\n",
    "\n",
    "# Create data for each distribution\n",
    "data1 = np.random.gamma(2, 1, 1000)  # Right-skewed Distribution\n",
    "data2 = (1- np.random.gamma(2, 1, 1000))  # Left-skewed Distribution\n",
    "data3 = np.random.standard_normal(1000)  # Symmetric Distribution\n",
    "data4 = np.random.uniform(0, 1, 1000)  # Uniform Distribution\n",
    "\n",
    "# Titles for each subplot\n",
    "titles = [\"Right-skewed (Positive) Distribution\", \"Left-skewed (Negative) Distribution\", \"Symmetric Distribution\", \"Uniform Distribution\"]\n",
    "\n",
    "# Explanation text for each subplot\n",
    "explanations = [\n",
    "    \"Ave > Com > Med\",\n",
    "    \" Ave < Med < Com\",\n",
    "    \"Ave = Com = Med\",\n",
    "    \"Ave = Com = Med\"\n",
    "]\n",
    "# Data and KDE for each subplot\n",
    "datasets = [data1, data2, data3, data4]\n",
    "\n",
    "for i, ax in enumerate(axes.flat):\n",
    "    ax.hist(datasets[i], bins=30, density=True, alpha=0.6, color='blue')\n",
    "    sns.kdeplot(datasets[i], color='red', ax=ax)\n",
    "    ax.set_title(titles[i])\n",
    "\n",
    "    # Add explanation text\n",
    "    ax.text(0.3, 0.95, explanations[i], transform=ax.transAxes, fontsize=15,\n",
    "            verticalalignment='top', bbox=dict(boxstyle='round', facecolor='yellow', alpha=0.8))\n",
    "    \n",
    "# Adjust layout and display\n",
    "plt.tight_layout()\n",
    "plt.show()\n"
   ]
  },
  {
   "cell_type": "markdown",
   "id": "683790d2-9011-434f-8784-b4f0f204ca1a",
   "metadata": {},
   "source": [
    "---\n",
    "## Read the following file:\n",
    "#### titanic_df."
   ]
  },
  {
   "cell_type": "code",
   "execution_count": 7,
   "id": "e5072aa1-0c49-4dc3-8d76-0f4abed47643",
   "metadata": {},
   "outputs": [],
   "source": [
    "url = 'https://raw.githubusercontent.com/Razelbaz1/exercises-package/master/data/titanic.csv'\n",
    "titanic_df = pd.read_csv(url,encoding='latin1')"
   ]
  },
  {
   "cell_type": "code",
   "execution_count": 8,
   "id": "1bd52d58-e423-46f5-a040-08c60a19a2ad",
   "metadata": {},
   "outputs": [
    {
     "name": "stdout",
     "output_type": "stream",
     "text": [
      "<class 'pandas.core.frame.DataFrame'>\n",
      "RangeIndex: 1313 entries, 0 to 1312\n",
      "Data columns (total 11 columns):\n",
      " #   Column     Non-Null Count  Dtype  \n",
      "---  ------     --------------  -----  \n",
      " 0   row.names  1313 non-null   int64  \n",
      " 1   pclass     1313 non-null   object \n",
      " 2   survived   1313 non-null   int64  \n",
      " 3   name       1313 non-null   object \n",
      " 4   age        633 non-null    float64\n",
      " 5   embarked   821 non-null    object \n",
      " 6   home.dest  754 non-null    object \n",
      " 7   room       77 non-null     object \n",
      " 8   ticket     69 non-null     object \n",
      " 9   boat       347 non-null    object \n",
      " 10  sex        1313 non-null   object \n",
      "dtypes: float64(1), int64(2), object(8)\n",
      "memory usage: 113.0+ KB\n"
     ]
    }
   ],
   "source": [
    "titanic_df.info()"
   ]
  },
  {
   "cell_type": "markdown",
   "id": "3c6b3c3a-a3a5-40dc-84de-e242e3c31596",
   "metadata": {},
   "source": [
    "#### 2. Present in a histogram the percentage of ages by department (in only one figure)\n",
    "#### Add __KDE__ parameter to your figure."
   ]
  },
  {
   "cell_type": "code",
   "execution_count": null,
   "id": "efb87e93-f268-4a22-94f0-d1bb15c89776",
   "metadata": {},
   "outputs": [],
   "source": []
  },
  {
   "cell_type": "markdown",
   "id": "4e6ce69d-fe53-4664-b9c6-2ed5e35eaad5",
   "metadata": {},
   "source": [
    "#### 3. Show the distribution of classes on the ship according to __probability__  and according to age groups in increments of 10 (starting from age 0)."
   ]
  },
  {
   "cell_type": "code",
   "execution_count": null,
   "id": "6388eb2e-6d2f-4572-8a40-2b9d42bb5758",
   "metadata": {},
   "outputs": [],
   "source": []
  },
  {
   "cell_type": "markdown",
   "id": "d2ddee0b-59c9-4405-b3b6-298d64aa8b46",
   "metadata": {},
   "source": [
    "#### 3.1 Show only the ages 10 to 50 in the figure."
   ]
  },
  {
   "cell_type": "code",
   "execution_count": null,
   "id": "93d55dff-b8e3-4034-adb5-9722cd30afed",
   "metadata": {},
   "outputs": [],
   "source": []
  },
  {
   "cell_type": "markdown",
   "id": "9b675647-01f9-4221-a0bb-aef341aa607b",
   "metadata": {},
   "source": [
    "#### 4. Look at the following parameter: what do you think is the difference and what does it contribute to us?"
   ]
  },
  {
   "cell_type": "code",
   "execution_count": 9,
   "id": "a9bd1f17-7e25-4968-b072-d18ef7f5addd",
   "metadata": {},
   "outputs": [
    {
     "data": {
      "image/png": "[encoded data removed]",
      "text/plain": [
       "<Figure size 720x360 with 2 Axes>"
      ]
     },
     "metadata": {
      "needs_background": "light"
     },
     "output_type": "display_data"
    }
   ],
   "source": [
    "# Sample data with two categories\n",
    "data = {'Category': ['A'] * 20 + ['B'] * 80, 'Value': [1, 2, 2, 3, 3, 3, 4, 4, 4, 4] * 10}\n",
    "\n",
    "plt.figure(figsize=(10, 5))\n",
    "\n",
    "# Without common_norm\n",
    "plt.subplot(1, 2, 1)\n",
    "sns.histplot(data=data, x='Value', hue='Category', common_norm=False)\n",
    "plt.title('Without common_norm')\n",
    "\n",
    "# With common_norm\n",
    "plt.subplot(1, 2, 2)\n",
    "sns.histplot(data=data, x='Value', hue='Category', common_norm=True)\n",
    "plt.title('With common_norm')\n",
    "\n",
    "plt.show()\n"
   ]
  },
  {
   "cell_type": "markdown",
   "id": "26a33111-7ac7-45f3-bdc5-be4d3c9dbc66",
   "metadata": {},
   "source": [
    "#### Can we conclude that all adults prefer first class? (ages 60-70)"
   ]
  },
  {
   "cell_type": "markdown",
   "id": "1d4b7566-c7ae-4959-bda8-73b875390e11",
   "metadata": {},
   "source": [
    "### [▲](#Up)\n",
    "---"
   ]
  },
  {
   "cell_type": "markdown",
   "id": "a50c6bb1-8fb4-4525-9755-5df408d3481f",
   "metadata": {},
   "source": [
    "<a class=\"anchor\" id='3'></a>\n",
    "## <font color=\"navy\">FacetGrid &  Pairplot.</font>"
   ]
  },
  {
   "cell_type": "markdown",
   "id": "430197aa-eb55-46ba-bfe1-2fd801149309",
   "metadata": {},
   "source": [
    "### Main idea :  pick out a categorical feature in our data and then create one plot for each and every category."
   ]
  },
  {
   "cell_type": "markdown",
   "id": "5322a5e2-e03b-4d91-acf9-313627b4baf2",
   "metadata": {},
   "source": [
    "### Steps for building FacetGrid :\n",
    "\n",
    ">    1. __Create FacetGrid:__ Start by setting up a FacetGrid using `sns.FacetGrid()`. This is where you tell it what data to use and how to group your data into facets.\n",
    "\n",
    ">    2. __Choose Plot Type:__ Decide what type of plot you want to use for each facet. You can do this with `g.map()` or `g.map_dataframe()`. This step specifies the kind of plot that    >                              goes into each part of your grid.\n",
    "\n",
    ">    3. __Customize Your Grid:__ To make your grid unique, you can use different `methods` and `attributes` that come with the *FacetGrid*.\n",
    ">    This allows you to personalize and fine-tune your visual representation.\n",
    "\n",
    "\n",
    "\n"
   ]
  },
  {
   "cell_type": "markdown",
   "id": "2f72dc3e-7058-4ef6-9467-4b987bf4b7d1",
   "metadata": {},
   "source": [
    "#### 5. Display a facetgrid figure by classes so that the corresponding ages are displayed."
   ]
  },
  {
   "cell_type": "code",
   "execution_count": null,
   "id": "6f823627-e307-4309-b809-ee99e42c9f67",
   "metadata": {},
   "outputs": [],
   "source": []
  },
  {
   "cell_type": "code",
   "execution_count": null,
   "id": "ff4e1cc4-acc4-4173-a017-86c27200038f",
   "metadata": {},
   "outputs": [],
   "source": []
  },
  {
   "cell_type": "markdown",
   "id": "cfd92663-bfb5-44ef-8047-da8459981d37",
   "metadata": {},
   "source": [
    "### Data from Unit 7, house_df :"
   ]
  },
  {
   "cell_type": "code",
   "execution_count": 10,
   "id": "a8b7920b-b9ab-4e23-b7d4-70a0899949d8",
   "metadata": {},
   "outputs": [
    {
     "data": {
      "text/html": [
       "<div>\n",
       "<style scoped>\n",
       "    .dataframe tbody tr th:only-of-type {\n",
       "        vertical-align: middle;\n",
       "    }\n",
       "\n",
       "    .dataframe tbody tr th {\n",
       "        vertical-align: top;\n",
       "    }\n",
       "\n",
       "    .dataframe thead th {\n",
       "        text-align: right;\n",
       "    }\n",
       "</style>\n",
       "<table border=\"1\" class=\"dataframe\">\n",
       "  <thead>\n",
       "    <tr style=\"text-align: right;\">\n",
       "      <th></th>\n",
       "      <th>longitude</th>\n",
       "      <th>latitude</th>\n",
       "      <th>housing_median_age</th>\n",
       "      <th>total_rooms</th>\n",
       "      <th>total_bedrooms</th>\n",
       "      <th>population</th>\n",
       "      <th>households</th>\n",
       "      <th>median_income</th>\n",
       "      <th>median_house_value</th>\n",
       "      <th>ocean_proximity</th>\n",
       "    </tr>\n",
       "  </thead>\n",
       "  <tbody>\n",
       "    <tr>\n",
       "      <th>0</th>\n",
       "      <td>-122.23</td>\n",
       "      <td>37.88</td>\n",
       "      <td>41.0</td>\n",
       "      <td>880.0</td>\n",
       "      <td>129.0</td>\n",
       "      <td>322.0</td>\n",
       "      <td>126.0</td>\n",
       "      <td>8.3252</td>\n",
       "      <td>452600.0</td>\n",
       "      <td>NEAR BAY</td>\n",
       "    </tr>\n",
       "    <tr>\n",
       "      <th>1</th>\n",
       "      <td>-122.22</td>\n",
       "      <td>37.86</td>\n",
       "      <td>21.0</td>\n",
       "      <td>7099.0</td>\n",
       "      <td>1106.0</td>\n",
       "      <td>2401.0</td>\n",
       "      <td>1138.0</td>\n",
       "      <td>8.3014</td>\n",
       "      <td>358500.0</td>\n",
       "      <td>NEAR BAY</td>\n",
       "    </tr>\n",
       "    <tr>\n",
       "      <th>2</th>\n",
       "      <td>-122.24</td>\n",
       "      <td>37.85</td>\n",
       "      <td>52.0</td>\n",
       "      <td>1467.0</td>\n",
       "      <td>190.0</td>\n",
       "      <td>496.0</td>\n",
       "      <td>177.0</td>\n",
       "      <td>7.2574</td>\n",
       "      <td>352100.0</td>\n",
       "      <td>NEAR BAY</td>\n",
       "    </tr>\n",
       "    <tr>\n",
       "      <th>3</th>\n",
       "      <td>-122.25</td>\n",
       "      <td>37.85</td>\n",
       "      <td>52.0</td>\n",
       "      <td>1274.0</td>\n",
       "      <td>235.0</td>\n",
       "      <td>558.0</td>\n",
       "      <td>219.0</td>\n",
       "      <td>5.6431</td>\n",
       "      <td>341300.0</td>\n",
       "      <td>NEAR BAY</td>\n",
       "    </tr>\n",
       "    <tr>\n",
       "      <th>4</th>\n",
       "      <td>-122.25</td>\n",
       "      <td>37.85</td>\n",
       "      <td>52.0</td>\n",
       "      <td>1627.0</td>\n",
       "      <td>280.0</td>\n",
       "      <td>565.0</td>\n",
       "      <td>259.0</td>\n",
       "      <td>3.8462</td>\n",
       "      <td>342200.0</td>\n",
       "      <td>NEAR BAY</td>\n",
       "    </tr>\n",
       "  </tbody>\n",
       "</table>\n",
       "</div>"
      ],
      "text/plain": [
       "   longitude  latitude  housing_median_age  total_rooms  total_bedrooms  \\\n",
       "0    -122.23     37.88                41.0        880.0           129.0   \n",
       "1    -122.22     37.86                21.0       7099.0          1106.0   \n",
       "2    -122.24     37.85                52.0       1467.0           190.0   \n",
       "3    -122.25     37.85                52.0       1274.0           235.0   \n",
       "4    -122.25     37.85                52.0       1627.0           280.0   \n",
       "\n",
       "   population  households  median_income  median_house_value ocean_proximity  \n",
       "0       322.0       126.0         8.3252            452600.0        NEAR BAY  \n",
       "1      2401.0      1138.0         8.3014            358500.0        NEAR BAY  \n",
       "2       496.0       177.0         7.2574            352100.0        NEAR BAY  \n",
       "3       558.0       219.0         5.6431            341300.0        NEAR BAY  \n",
       "4       565.0       259.0         3.8462            342200.0        NEAR BAY  "
      ]
     },
     "execution_count": 10,
     "metadata": {},
     "output_type": "execute_result"
    }
   ],
   "source": [
    "url = 'https://raw.githubusercontent.com/nlihin/data-analytics/main/datasets/housing.csv'\n",
    "house_df = pd.read_csv(url)\n",
    "house_df.head()"
   ]
  },
  {
   "cell_type": "markdown",
   "id": "1f5f0988-1ab9-4048-956f-9063e652aab1",
   "metadata": {},
   "source": [
    "#### 6. Display a facetgrid figure by 'ocean_proximity' over the distribution of median income and median house value"
   ]
  },
  {
   "cell_type": "code",
   "execution_count": null,
   "id": "b2a2943d-4e2a-4ad4-ba17-21f6f5b45dac",
   "metadata": {},
   "outputs": [],
   "source": []
  },
  {
   "cell_type": "markdown",
   "id": "cc1bfb6e-9569-4e2b-a04a-530843e5ce8b",
   "metadata": {},
   "source": [
    "#### 7. Create a grid to visualize the distribution of the `housing_median_age` variable for each ocean proximity category using Seaborn's FacetGrid function:"
   ]
  },
  {
   "cell_type": "markdown",
   "id": "f3733151-4150-4a1e-881b-e8f95982f6fe",
   "metadata": {},
   "source": [
    "### hint\n",
    "Facet the grid based on the ocean_proximity variable.\n",
    "Create histograms for the housing_median_age variable within each facet."
   ]
  },
  {
   "cell_type": "code",
   "execution_count": null,
   "id": "3eb9c8de-b66f-44e1-9a85-aedc4f0d1ca3",
   "metadata": {},
   "outputs": [],
   "source": []
  },
  {
   "cell_type": "markdown",
   "id": "e1a18945-5b8d-4e58-9c35-2e15518e9c93",
   "metadata": {},
   "source": [
    "---\n",
    "#### 8. We can distinguish relationships between columns by the `pairplot` function Type `sns.pairplot()` and enter the appropriate parameters"
   ]
  },
  {
   "cell_type": "code",
   "execution_count": null,
   "id": "8684efff-33ea-4411-9708-1744366d4e58",
   "metadata": {},
   "outputs": [],
   "source": []
  },
  {
   "cell_type": "markdown",
   "id": "10ccb6d8-5831-45f7-9c3a-3469ad8ec345",
   "metadata": {},
   "source": [
    "#### 9. As with any function, there are countless options to set our preferences. \n",
    "#### Display only the following columns using `pairplot()`\n",
    "##### 'housing_median_age','total_rooms','total_bedrooms','population'"
   ]
  },
  {
   "cell_type": "code",
   "execution_count": null,
   "id": "a21de250-bbc8-4259-9a87-abe01d110d68",
   "metadata": {},
   "outputs": [],
   "source": []
  },
  {
   "cell_type": "markdown",
   "id": "b2d57bf9-0074-4fd5-8ff7-c2a6787505c2",
   "metadata": {},
   "source": [
    "### [▲](#Up)\n",
    "---"
   ]
  },
  {
   "cell_type": "markdown",
   "id": "d0cd9501-5d3e-42c6-bcb1-7ceb47c48961",
   "metadata": {},
   "source": [
    "<a class=\"anchor\" id='4'></a>\n",
    "## <font color=\"navy\">Scatter Plot.</font>"
   ]
  },
  {
   "cell_type": "code",
   "execution_count": 11,
   "id": "24d4c0d4-50a7-45c2-8411-597d64c9b3ef",
   "metadata": {},
   "outputs": [
    {
     "data": {
      "text/plain": [
       "Index(['longitude', 'latitude', 'housing_median_age', 'total_rooms',\n",
       "       'total_bedrooms', 'population', 'households', 'median_income',\n",
       "       'median_house_value', 'ocean_proximity'],\n",
       "      dtype='object')"
      ]
     },
     "execution_count": 11,
     "metadata": {},
     "output_type": "execute_result"
    }
   ],
   "source": [
    "house_df.columns"
   ]
  },
  {
   "cell_type": "markdown",
   "id": "acc7dfc3-58da-42dd-93ab-55a0867ee7a3",
   "metadata": {},
   "source": [
    "#### 10. Show a scatter graph of `total_bedrooms` by `total_rooms` and next to it a scatter graph of `total_bedrooms` by `housing_median_age`"
   ]
  },
  {
   "cell_type": "code",
   "execution_count": null,
   "id": "9a9998bd-eea0-403f-8c0c-cc0ba804f681",
   "metadata": {},
   "outputs": [],
   "source": []
  },
  {
   "cell_type": "markdown",
   "id": "269c49e9-fd8c-44ca-a143-65022632c5fc",
   "metadata": {},
   "source": [
    "#### 11. Display a scatter graph by `total_rooms` and `total_bedrooms` and differentiate between the values by `ocean_proximity`"
   ]
  },
  {
   "cell_type": "code",
   "execution_count": null,
   "id": "c654021d-f0c9-4995-aa3c-ee164584ae59",
   "metadata": {},
   "outputs": [],
   "source": []
  },
  {
   "cell_type": "markdown",
   "id": "ac7e45fb-841d-4f41-b5c7-3d11fb1ed7d7",
   "metadata": {},
   "source": [
    "### [▲](#Up)\n",
    "---"
   ]
  },
  {
   "cell_type": "markdown",
   "id": "5f311140-b75d-4b20-956e-b9cc2cee8562",
   "metadata": {},
   "source": [
    "<a class=\"anchor\" id='5'></a>\n",
    "## <font color=\"navy\">Correlation.</font>"
   ]
  },
  {
   "cell_type": "code",
   "execution_count": 12,
   "id": "158e60c9-4d74-44cb-8ead-2e6e922e3110",
   "metadata": {},
   "outputs": [],
   "source": [
    "# plt.colormaps()"
   ]
  },
  {
   "cell_type": "code",
   "execution_count": 13,
   "id": "4541c32d-844f-4258-9486-84ddd705fe39",
   "metadata": {},
   "outputs": [],
   "source": [
    "diamonds = sns.load_dataset('diamonds')"
   ]
  },
  {
   "cell_type": "code",
   "execution_count": 14,
   "id": "52e576f2-f055-4dfc-bb97-8a3190062d1f",
   "metadata": {},
   "outputs": [
    {
     "data": {
      "text/html": [
       "<div>\n",
       "<style scoped>\n",
       "    .dataframe tbody tr th:only-of-type {\n",
       "        vertical-align: middle;\n",
       "    }\n",
       "\n",
       "    .dataframe tbody tr th {\n",
       "        vertical-align: top;\n",
       "    }\n",
       "\n",
       "    .dataframe thead th {\n",
       "        text-align: right;\n",
       "    }\n",
       "</style>\n",
       "<table border=\"1\" class=\"dataframe\">\n",
       "  <thead>\n",
       "    <tr style=\"text-align: right;\">\n",
       "      <th></th>\n",
       "      <th>carat</th>\n",
       "      <th>cut</th>\n",
       "      <th>color</th>\n",
       "      <th>clarity</th>\n",
       "      <th>depth</th>\n",
       "      <th>table</th>\n",
       "      <th>price</th>\n",
       "      <th>x</th>\n",
       "      <th>y</th>\n",
       "      <th>z</th>\n",
       "    </tr>\n",
       "  </thead>\n",
       "  <tbody>\n",
       "    <tr>\n",
       "      <th>0</th>\n",
       "      <td>0.23</td>\n",
       "      <td>Ideal</td>\n",
       "      <td>E</td>\n",
       "      <td>SI2</td>\n",
       "      <td>61.5</td>\n",
       "      <td>55.0</td>\n",
       "      <td>326</td>\n",
       "      <td>3.95</td>\n",
       "      <td>3.98</td>\n",
       "      <td>2.43</td>\n",
       "    </tr>\n",
       "    <tr>\n",
       "      <th>1</th>\n",
       "      <td>0.21</td>\n",
       "      <td>Premium</td>\n",
       "      <td>E</td>\n",
       "      <td>SI1</td>\n",
       "      <td>59.8</td>\n",
       "      <td>61.0</td>\n",
       "      <td>326</td>\n",
       "      <td>3.89</td>\n",
       "      <td>3.84</td>\n",
       "      <td>2.31</td>\n",
       "    </tr>\n",
       "    <tr>\n",
       "      <th>2</th>\n",
       "      <td>0.23</td>\n",
       "      <td>Good</td>\n",
       "      <td>E</td>\n",
       "      <td>VS1</td>\n",
       "      <td>56.9</td>\n",
       "      <td>65.0</td>\n",
       "      <td>327</td>\n",
       "      <td>4.05</td>\n",
       "      <td>4.07</td>\n",
       "      <td>2.31</td>\n",
       "    </tr>\n",
       "    <tr>\n",
       "      <th>3</th>\n",
       "      <td>0.29</td>\n",
       "      <td>Premium</td>\n",
       "      <td>I</td>\n",
       "      <td>VS2</td>\n",
       "      <td>62.4</td>\n",
       "      <td>58.0</td>\n",
       "      <td>334</td>\n",
       "      <td>4.20</td>\n",
       "      <td>4.23</td>\n",
       "      <td>2.63</td>\n",
       "    </tr>\n",
       "    <tr>\n",
       "      <th>4</th>\n",
       "      <td>0.31</td>\n",
       "      <td>Good</td>\n",
       "      <td>J</td>\n",
       "      <td>SI2</td>\n",
       "      <td>63.3</td>\n",
       "      <td>58.0</td>\n",
       "      <td>335</td>\n",
       "      <td>4.34</td>\n",
       "      <td>4.35</td>\n",
       "      <td>2.75</td>\n",
       "    </tr>\n",
       "  </tbody>\n",
       "</table>\n",
       "</div>"
      ],
      "text/plain": [
       "   carat      cut color clarity  depth  table  price     x     y     z\n",
       "0   0.23    Ideal     E     SI2   61.5   55.0    326  3.95  3.98  2.43\n",
       "1   0.21  Premium     E     SI1   59.8   61.0    326  3.89  3.84  2.31\n",
       "2   0.23     Good     E     VS1   56.9   65.0    327  4.05  4.07  2.31\n",
       "3   0.29  Premium     I     VS2   62.4   58.0    334  4.20  4.23  2.63\n",
       "4   0.31     Good     J     SI2   63.3   58.0    335  4.34  4.35  2.75"
      ]
     },
     "execution_count": 14,
     "metadata": {},
     "output_type": "execute_result"
    }
   ],
   "source": [
    "diamonds.head()"
   ]
  },
  {
   "cell_type": "markdown",
   "id": "ed13c1a3-afee-4467-bb90-677630cf691d",
   "metadata": {},
   "source": [
    "#### We will write the names of the columns to make it clearer"
   ]
  },
  {
   "cell_type": "code",
   "execution_count": 15,
   "id": "7ec9696d-7007-4d42-8787-317f51fd36f2",
   "metadata": {},
   "outputs": [
    {
     "data": {
      "text/html": [
       "<div>\n",
       "<style scoped>\n",
       "    .dataframe tbody tr th:only-of-type {\n",
       "        vertical-align: middle;\n",
       "    }\n",
       "\n",
       "    .dataframe tbody tr th {\n",
       "        vertical-align: top;\n",
       "    }\n",
       "\n",
       "    .dataframe thead th {\n",
       "        text-align: right;\n",
       "    }\n",
       "</style>\n",
       "<table border=\"1\" class=\"dataframe\">\n",
       "  <thead>\n",
       "    <tr style=\"text-align: right;\">\n",
       "      <th></th>\n",
       "      <th>carat</th>\n",
       "      <th>cut</th>\n",
       "      <th>color</th>\n",
       "      <th>clarity</th>\n",
       "      <th>depth %</th>\n",
       "      <th>table %</th>\n",
       "      <th>price</th>\n",
       "      <th>length</th>\n",
       "      <th>width</th>\n",
       "      <th>depth</th>\n",
       "    </tr>\n",
       "  </thead>\n",
       "  <tbody>\n",
       "    <tr>\n",
       "      <th>0</th>\n",
       "      <td>0.23</td>\n",
       "      <td>Ideal</td>\n",
       "      <td>E</td>\n",
       "      <td>SI2</td>\n",
       "      <td>61.5</td>\n",
       "      <td>55.0</td>\n",
       "      <td>326</td>\n",
       "      <td>3.95</td>\n",
       "      <td>3.98</td>\n",
       "      <td>2.43</td>\n",
       "    </tr>\n",
       "  </tbody>\n",
       "</table>\n",
       "</div>"
      ],
      "text/plain": [
       "   carat    cut color clarity  depth %  table %  price  length  width  depth\n",
       "0   0.23  Ideal     E     SI2     61.5     55.0    326    3.95   3.98   2.43"
      ]
     },
     "execution_count": 15,
     "metadata": {},
     "output_type": "execute_result"
    }
   ],
   "source": [
    "diamonds.rename(columns={\"x\": \"length\", \"y\": \"width\", \"z\" : \"depth\",\"depth\" : \"depth %\", \"table\": \"table %\"},inplace = True)\n",
    "diamonds.head(1)"
   ]
  },
  {
   "cell_type": "markdown",
   "id": "fe32f29f-9742-4d40-ae20-2a3abf49a72d",
   "metadata": {},
   "source": [
    "#### Create another column called L/W ratio by dividing the length by width and see how it correlates with our other features later."
   ]
  },
  {
   "cell_type": "code",
   "execution_count": 16,
   "id": "53895b74-c1b1-4664-9e6e-d546074044b9",
   "metadata": {},
   "outputs": [],
   "source": [
    "diamonds['L/W'] = diamonds['length']/diamonds['width']"
   ]
  },
  {
   "cell_type": "code",
   "execution_count": 17,
   "id": "ce3c2400-6b1b-464b-b887-b35542aae70a",
   "metadata": {},
   "outputs": [
    {
     "name": "stdout",
     "output_type": "stream",
     "text": [
      "   carat      cut color clarity  depth %  table %  price  length  width  \\\n",
      "0   0.23    Ideal     E     SI2     61.5     55.0    326    3.95   3.98   \n",
      "1   0.21  Premium     E     SI1     59.8     61.0    326    3.89   3.84   \n",
      "2   0.23     Good     E     VS1     56.9     65.0    327    4.05   4.07   \n",
      "3   0.29  Premium     I     VS2     62.4     58.0    334    4.20   4.23   \n",
      "4   0.31     Good     J     SI2     63.3     58.0    335    4.34   4.35   \n",
      "\n",
      "   depth       L/W  \n",
      "0   2.43  0.992462  \n",
      "1   2.31  1.013021  \n",
      "2   2.31  0.995086  \n",
      "3   2.63  0.992908  \n",
      "4   2.75  0.997701  \n"
     ]
    }
   ],
   "source": [
    "print(diamonds.head())"
   ]
  },
  {
   "cell_type": "markdown",
   "id": "9e1ca4f8-3e59-44d1-99e8-6da2e4604a78",
   "metadata": {},
   "source": [
    "#### We will explain the following lines in more depth in the prediction chapter."
   ]
  },
  {
   "cell_type": "code",
   "execution_count": 18,
   "id": "5434e53c-9a35-4015-9154-8e7cceed8cd9",
   "metadata": {},
   "outputs": [],
   "source": [
    "diamonds[['length','width','depth','L/W']]=diamonds[['length','width','depth','L/W']].replace(0,np.NaN)\n",
    "\n",
    "diamonds.dropna(inplace=True)"
   ]
  },
  {
   "cell_type": "code",
   "execution_count": 19,
   "id": "ea1ba82d-2ea2-4fdb-adca-916a2186d507",
   "metadata": {},
   "outputs": [
    {
     "data": {
      "text/html": [
       "<div>\n",
       "<style scoped>\n",
       "    .dataframe tbody tr th:only-of-type {\n",
       "        vertical-align: middle;\n",
       "    }\n",
       "\n",
       "    .dataframe tbody tr th {\n",
       "        vertical-align: top;\n",
       "    }\n",
       "\n",
       "    .dataframe thead th {\n",
       "        text-align: right;\n",
       "    }\n",
       "</style>\n",
       "<table border=\"1\" class=\"dataframe\">\n",
       "  <thead>\n",
       "    <tr style=\"text-align: right;\">\n",
       "      <th></th>\n",
       "      <th>carat</th>\n",
       "      <th>cut</th>\n",
       "      <th>color</th>\n",
       "      <th>clarity</th>\n",
       "      <th>depth %</th>\n",
       "      <th>table %</th>\n",
       "      <th>price</th>\n",
       "      <th>length</th>\n",
       "      <th>width</th>\n",
       "      <th>depth</th>\n",
       "      <th>L/W</th>\n",
       "    </tr>\n",
       "  </thead>\n",
       "  <tbody>\n",
       "  </tbody>\n",
       "</table>\n",
       "</div>"
      ],
      "text/plain": [
       "Empty DataFrame\n",
       "Columns: [carat, cut, color, clarity, depth %, table %, price, length, width, depth, L/W]\n",
       "Index: []"
      ]
     },
     "execution_count": 19,
     "metadata": {},
     "output_type": "execute_result"
    }
   ],
   "source": [
    "diamonds.loc[(diamonds['length'] == 0) | (diamonds['width'] == 0) | (diamonds['depth'] == 0) | (diamonds['L/W'] == 0) ]"
   ]
  },
  {
   "cell_type": "code",
   "execution_count": 20,
   "id": "d36394ec-1962-470a-b7c4-995d12d13e40",
   "metadata": {},
   "outputs": [
    {
     "data": {
      "image/png": "[encoded data removed]",
      "text/plain": [
       "<Figure size 1368x432 with 2 Axes>"
      ]
     },
     "metadata": {
      "needs_background": "light"
     },
     "output_type": "display_data"
    }
   ],
   "source": [
    "f, ax = plt.subplots(figsize=(19, 6))\n",
    "sns.heatmap(diamonds.corr(), annot=True, linewidths=8,cmap='Blues',\n",
    "            annot_kws = {\n",
    "                   'fontsize' : 15,\n",
    "                   'fontweight' : 'bold'\n",
    "                       },center=0,ax=ax)\n",
    "plt.yticks(rotation = 0);"
   ]
  },
  {
   "cell_type": "markdown",
   "id": "973bd360-6718-4498-b227-7a37c6ba0e62",
   "metadata": {},
   "source": [
    "From the above plot, We can see that carat, length, width, depth, and price are having a high correlation with each other.\r\n",
    "\r\n",
    "However, the categorical data is not taken into account. Since these categories are considered as essential factors for pricing the diamond, therefore, we will compare each category feature with the price."
   ]
  },
  {
   "cell_type": "markdown",
   "id": "5dbe2ee1-4322-4b5f-9d07-40602c92a3ec",
   "metadata": {},
   "source": [
    "#### 12. Correlate on house_df\n",
    "#### Class discussion: What can be said about this correlation?"
   ]
  },
  {
   "cell_type": "code",
   "execution_count": null,
   "id": "36235aba-92c7-4d8b-9271-b31b80ac2f34",
   "metadata": {},
   "outputs": [],
   "source": []
  },
  {
   "cell_type": "markdown",
   "id": "4a08385c-9bca-444a-bea1-a878e6e373d3",
   "metadata": {},
   "source": [
    "### [▲](#Up)\n",
    "---"
   ]
  },
  {
   "cell_type": "markdown",
   "id": "4fc4cb92-c694-48b5-a7f8-ac7b125f9f31",
   "metadata": {},
   "source": [
    " <a class=\"anchor\" id='6'></a>\n",
    "## <font color=\"navy\">Melt.</font>"
   ]
  },
  {
   "cell_type": "code",
   "execution_count": 21,
   "id": "cfc0af39-ddc2-40ae-a6f0-584568666dc4",
   "metadata": {},
   "outputs": [],
   "source": [
    "data = {'Date': ['2023-01-01', '2023-01-02'],\n",
    "        'Product A Sales': [100, 120],\n",
    "        'Product B Sales': [80, 90],\n",
    "        'Product C Sales': [50, 60]}\n",
    "\n",
    "sales_df = pd.DataFrame(data)\n"
   ]
  },
  {
   "cell_type": "raw",
   "id": "fe67e9b9-e4b9-4ae3-9879-e86111b0b3b6",
   "metadata": {},
   "source": [
    "         Date  Product A Sales  Product B Sales  Product C Sales\n",
    "0  2023-01-01              100               80               50\n",
    "1  2023-01-02              120               90               60\n"
   ]
  },
  {
   "cell_type": "markdown",
   "id": "b8e9f813-dd59-4fe7-981b-3e81df2b428e",
   "metadata": {},
   "source": [
    "### Now, if you want to analyze this data more effectively, you may want to reshape it into a long format where each row represents a single sale with columns 'Date', 'Product', and 'Sales'. You can achieve this using the `melt()` function."
   ]
  },
  {
   "cell_type": "code",
   "execution_count": 22,
   "id": "52d5e779-f1c3-450e-b2f0-8b7a1a203d32",
   "metadata": {},
   "outputs": [],
   "source": [
    "# Reshaping the data using melt\n",
    "melted_df = sales_df.melt(id_vars=['Date'], var_name='Product', value_name='Sales')"
   ]
  },
  {
   "cell_type": "raw",
   "id": "0314589a-2ffa-4b2a-8a0a-f7627132c570",
   "metadata": {},
   "source": [
    "         Date           Product  Sales\n",
    "0  2023-01-01  Product A Sales    100\n",
    "1  2023-01-02  Product A Sales    120\n",
    "2  2023-01-01  Product B Sales     80\n",
    "3  2023-01-02  Product B Sales     90\n",
    "4  2023-01-01  Product C Sales     50\n",
    "5  2023-01-02  Product C Sales     60\n"
   ]
  },
  {
   "cell_type": "markdown",
   "id": "30141e27-3016-4cbf-bc60-ce4857acc90f",
   "metadata": {},
   "source": [
    "### Now, you have the data in a format that makes it easier to perform various __analyses and visualizations__, such as __calculating total sales__ for each product or __plotting trends__ over time."
   ]
  },
  {
   "cell_type": "markdown",
   "id": "18cdc647-0cf1-4f60-b191-9dff51fe8e0e",
   "metadata": {},
   "source": [
    "---\n",
    "### Question for Practice:"
   ]
  },
  {
   "cell_type": "markdown",
   "id": "7185f6e0-5136-4f06-8896-99126d0c5d48",
   "metadata": {},
   "source": [
    "1. Given a DataFrame containing student exam scores with columns 'Student ID', 'Math Score', 'Science Score', and 'English Score', use the `melt()` function to reshape the data into a long format with columns 'Student ID', 'Subject', and 'Score'. This format will make it easier to compare scores across subjects for each student. Provide the code to achieve this transformation."
   ]
  },
  {
   "cell_type": "code",
   "execution_count": 23,
   "id": "bdb596a6-c062-4e1a-87f4-7ec633603a9f",
   "metadata": {},
   "outputs": [],
   "source": [
    "# Sample DataFrame with exam scores\n",
    "data = {'Student ID': [1, 2, 3],\n",
    "        'Math Score': [85, 78, 92],\n",
    "        'Science Score': [92, 88, 75],\n",
    "        'English Score': [78, 90, 85]}\n",
    "\n",
    "exam_scores_df = pd.DataFrame(data)"
   ]
  },
  {
   "cell_type": "raw",
   "id": "d5817f7c-4e02-42ae-8ab5-0d7568809dc4",
   "metadata": {},
   "source": [
    "    Student ID\t  Math Score\tScience Score\tEnglish Score\n",
    "0\t     1\t         85\t            92\t             78\n",
    "1\t     2\t         78\t            88\t             90\n",
    "2\t     3\t         92\t            75\t             85"
   ]
  },
  {
   "cell_type": "code",
   "execution_count": null,
   "id": "abb8136a-57e7-4913-bd80-245473e982ce",
   "metadata": {},
   "outputs": [],
   "source": []
  },
  {
   "cell_type": "raw",
   "id": "45e8eb8a-2caa-4db1-acf7-4f0b8a65d716",
   "metadata": {},
   "source": [
    "   Student ID         Subject  Score\n",
    "0           1      Math Score     85\n",
    "1           2      Math Score     78\n",
    "2           3      Math Score     92\n",
    "3           1  Science Score     92\n",
    "4           2  Science Score     88\n",
    "5           3  Science Score     75\n",
    "6           1  English Score     78\n",
    "7           2  English Score     90\n",
    "8           3  English Score     85\n"
   ]
  },
  {
   "cell_type": "markdown",
   "id": "3465bac5-1bc1-4795-9099-632d6b011dd1",
   "metadata": {},
   "source": [
    "2. You have a dataset containing monthly weather data for different cities, with columns 'City', 'Jan Temp', 'Feb Temp', ..., 'Dec Temp'. Use the `melt()` function to reshape the data into a long format with columns 'City', 'Month', and 'Temperature'. Provide the code to perform this transformation.\""
   ]
  },
  {
   "cell_type": "code",
   "execution_count": 24,
   "id": "82f961dc-9793-4146-9b2e-7eab7c2eb487",
   "metadata": {},
   "outputs": [],
   "source": [
    "# Sample DataFrame with monthly weather data\n",
    "data = {'City': ['City A', 'City B', 'City C'],\n",
    "        'Jan Temp': [15, 12, 18],\n",
    "        'Feb Temp': [14, 13, 16],\n",
    "        'Mar Temp': [17, 15, 20],\n",
    "        # ... Continue with temperature data for other months\n",
    "        }\n",
    "\n",
    "weather_df = pd.DataFrame(data)"
   ]
  },
  {
   "cell_type": "code",
   "execution_count": 25,
   "id": "81586924-0467-49da-b5b4-c648fac7b18c",
   "metadata": {},
   "outputs": [
    {
     "data": {
      "text/html": [
       "<div>\n",
       "<style scoped>\n",
       "    .dataframe tbody tr th:only-of-type {\n",
       "        vertical-align: middle;\n",
       "    }\n",
       "\n",
       "    .dataframe tbody tr th {\n",
       "        vertical-align: top;\n",
       "    }\n",
       "\n",
       "    .dataframe thead th {\n",
       "        text-align: right;\n",
       "    }\n",
       "</style>\n",
       "<table border=\"1\" class=\"dataframe\">\n",
       "  <thead>\n",
       "    <tr style=\"text-align: right;\">\n",
       "      <th></th>\n",
       "      <th>City</th>\n",
       "      <th>Jan Temp</th>\n",
       "      <th>Feb Temp</th>\n",
       "      <th>Mar Temp</th>\n",
       "    </tr>\n",
       "  </thead>\n",
       "  <tbody>\n",
       "    <tr>\n",
       "      <th>0</th>\n",
       "      <td>City A</td>\n",
       "      <td>15</td>\n",
       "      <td>14</td>\n",
       "      <td>17</td>\n",
       "    </tr>\n",
       "    <tr>\n",
       "      <th>1</th>\n",
       "      <td>City B</td>\n",
       "      <td>12</td>\n",
       "      <td>13</td>\n",
       "      <td>15</td>\n",
       "    </tr>\n",
       "    <tr>\n",
       "      <th>2</th>\n",
       "      <td>City C</td>\n",
       "      <td>18</td>\n",
       "      <td>16</td>\n",
       "      <td>20</td>\n",
       "    </tr>\n",
       "  </tbody>\n",
       "</table>\n",
       "</div>"
      ],
      "text/plain": [
       "     City  Jan Temp  Feb Temp  Mar Temp\n",
       "0  City A        15        14        17\n",
       "1  City B        12        13        15\n",
       "2  City C        18        16        20"
      ]
     },
     "execution_count": 25,
     "metadata": {},
     "output_type": "execute_result"
    }
   ],
   "source": [
    "weather_df"
   ]
  },
  {
   "cell_type": "code",
   "execution_count": null,
   "id": "d67377f1-5fe9-4ca6-9bea-6d27420571ec",
   "metadata": {},
   "outputs": [],
   "source": []
  },
  {
   "cell_type": "raw",
   "id": "ec9d838e-2530-472b-958e-526d42a7e10e",
   "metadata": {},
   "source": [
    "     City      Month  Temperature\n",
    "0  City A   Jan Temp           15\n",
    "1  City B   Jan Temp           12\n",
    "2  City C   Jan Temp           18\n",
    "3  City A   Feb Temp           14\n",
    "4  City B   Feb Temp           13\n",
    "5  City C   Feb Temp           16\n",
    "6  City A   Mar Temp           17\n",
    "7  City B   Mar Temp           15\n",
    "8  City C   Mar Temp           20\n",
    "# ... Continue with the reshaped data for other months\n"
   ]
  },
  {
   "cell_type": "markdown",
   "id": "636317df-c75e-402c-8f09-6cf8801ce35f",
   "metadata": {},
   "source": [
    "3. Given a DataFrame representing customer orders with columns 'Order ID', 'Customer Name', 'Product 1', 'Product 2', ..., 'Product N', where 'Product 1', 'Product 2', etc., represent different products in an order, use the `melt()` function to reshape the data into a long format with columns 'Order ID', 'Customer Name', 'Product Name', and 'Quantity'. This format will make it easier to analyze individual product quantities in each order. Provide the code to achieve this transformation.\""
   ]
  },
  {
   "cell_type": "code",
   "execution_count": 26,
   "id": "28fab85a-9d9d-46ff-b38d-025f841e342e",
   "metadata": {},
   "outputs": [],
   "source": [
    "# Sample DataFrame with customer orders\n",
    "data = {'Order ID': [1, 2, 3],\n",
    "        'Customer Name': ['Alice', 'Bob', 'Charlie'],\n",
    "        'Product 1': ['Item A', 'Item B', 'Item C'],\n",
    "        'Product 2': ['Item D', 'Item E', 'Item F'],\n",
    "        # ... Continue with product columns\n",
    "        }\n",
    "\n",
    "orders_df = pd.DataFrame(data)"
   ]
  },
  {
   "cell_type": "code",
   "execution_count": null,
   "id": "985e22eb-8128-4727-9eca-792237151a26",
   "metadata": {},
   "outputs": [],
   "source": []
  },
  {
   "cell_type": "raw",
   "id": "bfdf0900-aa9b-4e4f-9707-fa160eeebade",
   "metadata": {},
   "source": [
    "   Order ID Customer Name Product Number Product Name\n",
    "0        1         Alice      Product 1       Item A\n",
    "1        2           Bob      Product 1       Item B\n",
    "2        3       Charlie      Product 1       Item C\n",
    "3        1         Alice      Product 2       Item D\n",
    "4        2           Bob      Product 2       Item E\n",
    "5        3       Charlie      Product 2       Item F\n",
    "# ... Continue with the reshaped data for other products\n"
   ]
  },
  {
   "cell_type": "markdown",
   "id": "0b42c9e8-2c4a-4a9d-ace6-53e4afdf8e2f",
   "metadata": {},
   "source": [
    "### [▲](#Up)\n",
    "---"
   ]
  }
 ],
 "metadata": {
  "kernelspec": {
   "display_name": "Python 3 (ipykernel)",
   "language": "python",
   "name": "python3"
  },
  "language_info": {
   "codemirror_mode": {
    "name": "ipython",
    "version": 3
   },
   "file_extension": ".py",
   "mimetype": "text/x-python",
   "name": "python",
   "nbconvert_exporter": "python",
   "pygments_lexer": "ipython3",
   "version": "3.10.2"
  }
 },
 "nbformat": 4,
 "nbformat_minor": 5
}
