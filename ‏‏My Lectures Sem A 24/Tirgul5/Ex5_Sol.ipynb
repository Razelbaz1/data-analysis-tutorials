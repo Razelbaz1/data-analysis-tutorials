{
 "cells": [
  {
   "cell_type": "markdown",
   "id": "486672fb-aaf7-488f-8b34-ffe2f28e808c",
   "metadata": {
    "editable": true,
    "slideshow": {
     "slide_type": ""
    },
    "tags": []
   },
   "source": [
    "##### <a class=\"anchor\" id=\"Up\"> </a>  "
   ]
  },
  {
   "cell_type": "markdown",
   "id": "dbfe4765-b9a9-44bd-a69d-4cad5b89cfcf",
   "metadata": {},
   "source": [
    "## Histograms, Correlations and Scatterplots"
   ]
  },
  {
   "cell_type": "markdown",
   "id": "86290f66-1e3a-4eee-a671-2bc81d866736",
   "metadata": {},
   "source": [
    "1. [Quick recap](#1)\n",
    "2. [Heatmaps](#2)\n",
    "3. [Melt](#3)\n",
    "4. [One-hot encoding](#4)\n",
    "5. [Bonus for your project: Introduction to custom Word Cloud ☁️](#5)\n",
    "6. [Tirgul_3 : Pivot_Table](6#)"
   ]
  },
  {
   "cell_type": "markdown",
   "id": "c81a4211-b3a6-4aa6-b1c1-e24ffce4fd1d",
   "metadata": {},
   "source": [
    "<a class=\"anchor\" id='1'></a>"
   ]
  },
  {
   "cell_type": "markdown",
   "id": "27661cbc-223e-477e-8f91-807632cd6b66",
   "metadata": {},
   "source": [
    "<h1 style=\"background-color: #fff4d9; color: #0046d6; border-radius: 20px; text-align: center; padding-top: 20px; padding-bottom: 20px; font-family: 'Arial'\" id=\"introduction\">Quick recap.</h1>"
   ]
  },
  {
   "cell_type": "markdown",
   "id": "418c142d-fab5-49b3-a658-da9cb2986ff3",
   "metadata": {},
   "source": [
    "---\n",
    "> A summary of new functions:\n",
    ">\n",
    ">* `drop()` - remove labels or columns [documentation](https://pandas.pydata.org/pandas-docs/stable/reference/api/pandas.DataFrame.drop.html?highlight=drop#pandas.DataFrame.drop)\n",
    ">\n",
    ">* `str.replace('x','y')` - replace string x with string y\n",
    ">\n",
    ">* `reset_index(drop=true)` - resets the index. As defult, the old index is added as a column. Use drop=True to avoid this. [documentation](https://pandas.pydata.org/pandas-docs/stable/reference/api/pandas.DataFrame.reset_index.html)\n",
    ">\n",
    ">* `plt.subplots_adjust` - a matplotlib function. adjusts space between the plots. [documentation](https://matplotlib.org/stable/api/_as_gen/matplotlib.pyplot.subplots_adjust.html)\n",
    ">\n",
    ">* `sum(axis=1)` - sums the values according to the rows, instead of the default sum by columns\n",
    ">\n",
    ">* create a list using [list comprehension](https://docs.python.org/3.4/tutorial/datastructures.html#list-comprehensions) - \"do something for data in dataframe if condition holds\"\n",
    ">\n",
    ">* `catplot()` - plot categorical variables onto a grid. [documentation](https://seaborn.pydata.org/generated/seaborn.catplot.html)\n",
    ">\n",
    ">* `countplot()` - counts observations for each category (this is like a histogram, but for categorical data)\n",
    ">\n",
    ">* `pd.get_dummies()` - creates one-hot encodings for categorical variables. [documentation](https://pandas.pydata.org/docs/reference/api/pandas.get_dummies.html)\n",
    ">\n",
    ">* `unstack()` - change the hiearachy of data. [documentation](https://pandas.pydata.org/docs/reference/api/pandas.DataFrame.unstack.html)\n",
    ">\n",
    ">* `pivot()` - create a pivot table to group and summarize data. [documentation](https://pandas.pydata.org/docs/reference/api/pandas.DataFrame.pivot.html)\n",
    "---"
   ]
  },
  {
   "cell_type": "markdown",
   "id": "53f53d82-c348-4b55-a104-a65f2c13d073",
   "metadata": {},
   "source": [
    "### [▲](#Up)\n",
    "---"
   ]
  },
  {
   "cell_type": "markdown",
   "id": "5c557f4d-9427-470a-bbe1-3578cd939b5d",
   "metadata": {},
   "source": [
    "<a class=\"anchor\" id='2'></a>"
   ]
  },
  {
   "cell_type": "markdown",
   "id": "1a75c5ae-9544-40ac-bdf0-416e51757229",
   "metadata": {},
   "source": [
    "<h1 style=\"background-color: #fff4d9; color: #0046d6; border-radius: 20px; text-align: center; padding-top: 20px; padding-bottom: 20px; font-family: 'Arial'\" id=\"introduction\">Heatmaps.</h1>"
   ]
  },
  {
   "cell_type": "code",
   "execution_count": 1,
   "id": "1475c2f6-f323-4a06-941b-ce6a073a64f3",
   "metadata": {},
   "outputs": [],
   "source": [
    "import pandas as pd\n",
    "import matplotlib.pyplot as plt\n",
    "import numpy as np\n",
    "import seaborn as sns"
   ]
  },
  {
   "cell_type": "code",
   "execution_count": 2,
   "id": "b91dcab1-4a24-4c8b-b18a-0d4978e605ab",
   "metadata": {},
   "outputs": [],
   "source": [
    "# plt.colormaps()"
   ]
  },
  {
   "cell_type": "code",
   "execution_count": 3,
   "id": "89612aad-be85-4fc9-86f2-70035759ce33",
   "metadata": {},
   "outputs": [],
   "source": [
    "diamonds = sns.load_dataset('diamonds')"
   ]
  },
  {
   "cell_type": "code",
   "execution_count": 4,
   "id": "21d4c5f2-a538-44b7-9344-3e18a9a9a4dd",
   "metadata": {},
   "outputs": [
    {
     "data": {
      "text/html": [
       "<div>\n",
       "<style scoped>\n",
       "    .dataframe tbody tr th:only-of-type {\n",
       "        vertical-align: middle;\n",
       "    }\n",
       "\n",
       "    .dataframe tbody tr th {\n",
       "        vertical-align: top;\n",
       "    }\n",
       "\n",
       "    .dataframe thead th {\n",
       "        text-align: right;\n",
       "    }\n",
       "</style>\n",
       "<table border=\"1\" class=\"dataframe\">\n",
       "  <thead>\n",
       "    <tr style=\"text-align: right;\">\n",
       "      <th></th>\n",
       "      <th>carat</th>\n",
       "      <th>cut</th>\n",
       "      <th>color</th>\n",
       "      <th>clarity</th>\n",
       "      <th>depth</th>\n",
       "      <th>table</th>\n",
       "      <th>price</th>\n",
       "      <th>x</th>\n",
       "      <th>y</th>\n",
       "      <th>z</th>\n",
       "    </tr>\n",
       "  </thead>\n",
       "  <tbody>\n",
       "    <tr>\n",
       "      <th>0</th>\n",
       "      <td>0.23</td>\n",
       "      <td>Ideal</td>\n",
       "      <td>E</td>\n",
       "      <td>SI2</td>\n",
       "      <td>61.5</td>\n",
       "      <td>55.0</td>\n",
       "      <td>326</td>\n",
       "      <td>3.95</td>\n",
       "      <td>3.98</td>\n",
       "      <td>2.43</td>\n",
       "    </tr>\n",
       "    <tr>\n",
       "      <th>1</th>\n",
       "      <td>0.21</td>\n",
       "      <td>Premium</td>\n",
       "      <td>E</td>\n",
       "      <td>SI1</td>\n",
       "      <td>59.8</td>\n",
       "      <td>61.0</td>\n",
       "      <td>326</td>\n",
       "      <td>3.89</td>\n",
       "      <td>3.84</td>\n",
       "      <td>2.31</td>\n",
       "    </tr>\n",
       "    <tr>\n",
       "      <th>2</th>\n",
       "      <td>0.23</td>\n",
       "      <td>Good</td>\n",
       "      <td>E</td>\n",
       "      <td>VS1</td>\n",
       "      <td>56.9</td>\n",
       "      <td>65.0</td>\n",
       "      <td>327</td>\n",
       "      <td>4.05</td>\n",
       "      <td>4.07</td>\n",
       "      <td>2.31</td>\n",
       "    </tr>\n",
       "    <tr>\n",
       "      <th>3</th>\n",
       "      <td>0.29</td>\n",
       "      <td>Premium</td>\n",
       "      <td>I</td>\n",
       "      <td>VS2</td>\n",
       "      <td>62.4</td>\n",
       "      <td>58.0</td>\n",
       "      <td>334</td>\n",
       "      <td>4.20</td>\n",
       "      <td>4.23</td>\n",
       "      <td>2.63</td>\n",
       "    </tr>\n",
       "    <tr>\n",
       "      <th>4</th>\n",
       "      <td>0.31</td>\n",
       "      <td>Good</td>\n",
       "      <td>J</td>\n",
       "      <td>SI2</td>\n",
       "      <td>63.3</td>\n",
       "      <td>58.0</td>\n",
       "      <td>335</td>\n",
       "      <td>4.34</td>\n",
       "      <td>4.35</td>\n",
       "      <td>2.75</td>\n",
       "    </tr>\n",
       "  </tbody>\n",
       "</table>\n",
       "</div>"
      ],
      "text/plain": [
       "   carat      cut color clarity  depth  table  price     x     y     z\n",
       "0   0.23    Ideal     E     SI2   61.5   55.0    326  3.95  3.98  2.43\n",
       "1   0.21  Premium     E     SI1   59.8   61.0    326  3.89  3.84  2.31\n",
       "2   0.23     Good     E     VS1   56.9   65.0    327  4.05  4.07  2.31\n",
       "3   0.29  Premium     I     VS2   62.4   58.0    334  4.20  4.23  2.63\n",
       "4   0.31     Good     J     SI2   63.3   58.0    335  4.34  4.35  2.75"
      ]
     },
     "execution_count": 4,
     "metadata": {},
     "output_type": "execute_result"
    }
   ],
   "source": [
    "diamonds.head()"
   ]
  },
  {
   "cell_type": "markdown",
   "id": "7f58a0a6-d452-463c-b76d-f1a132d8a6db",
   "metadata": {},
   "source": [
    "#### We will write the names of the columns to make it clearer"
   ]
  },
  {
   "cell_type": "code",
   "execution_count": 5,
   "id": "4b9d6666-002c-4678-8a22-777086fbd53d",
   "metadata": {},
   "outputs": [
    {
     "data": {
      "text/html": [
       "<div>\n",
       "<style scoped>\n",
       "    .dataframe tbody tr th:only-of-type {\n",
       "        vertical-align: middle;\n",
       "    }\n",
       "\n",
       "    .dataframe tbody tr th {\n",
       "        vertical-align: top;\n",
       "    }\n",
       "\n",
       "    .dataframe thead th {\n",
       "        text-align: right;\n",
       "    }\n",
       "</style>\n",
       "<table border=\"1\" class=\"dataframe\">\n",
       "  <thead>\n",
       "    <tr style=\"text-align: right;\">\n",
       "      <th></th>\n",
       "      <th>carat</th>\n",
       "      <th>cut</th>\n",
       "      <th>color</th>\n",
       "      <th>clarity</th>\n",
       "      <th>depth %</th>\n",
       "      <th>table %</th>\n",
       "      <th>price</th>\n",
       "      <th>length</th>\n",
       "      <th>width</th>\n",
       "      <th>depth</th>\n",
       "    </tr>\n",
       "  </thead>\n",
       "  <tbody>\n",
       "    <tr>\n",
       "      <th>0</th>\n",
       "      <td>0.23</td>\n",
       "      <td>Ideal</td>\n",
       "      <td>E</td>\n",
       "      <td>SI2</td>\n",
       "      <td>61.5</td>\n",
       "      <td>55.0</td>\n",
       "      <td>326</td>\n",
       "      <td>3.95</td>\n",
       "      <td>3.98</td>\n",
       "      <td>2.43</td>\n",
       "    </tr>\n",
       "  </tbody>\n",
       "</table>\n",
       "</div>"
      ],
      "text/plain": [
       "   carat    cut color clarity  depth %  table %  price  length  width  depth\n",
       "0   0.23  Ideal     E     SI2     61.5     55.0    326    3.95   3.98   2.43"
      ]
     },
     "execution_count": 5,
     "metadata": {},
     "output_type": "execute_result"
    }
   ],
   "source": [
    "diamonds.rename(columns={\"x\": \"length\", \"y\": \"width\", \"z\" : \"depth\",\"depth\" : \"depth %\", \"table\": \"table %\"},inplace = True)\n",
    "diamonds.head(1)"
   ]
  },
  {
   "cell_type": "markdown",
   "id": "3d00a7a1-bffb-4a67-a80d-f4100ff45563",
   "metadata": {},
   "source": [
    "#### Create another column called L/W ratio by dividing the length by width and see how it correlates with our other features later."
   ]
  },
  {
   "cell_type": "code",
   "execution_count": 7,
   "id": "1ebc7728-0359-4cce-b673-72180539a94e",
   "metadata": {},
   "outputs": [],
   "source": [
    "diamonds['L/W'] = diamonds['length']/diamonds['width']"
   ]
  },
  {
   "cell_type": "code",
   "execution_count": 8,
   "id": "354a1cfa-1683-474f-a7d9-4da487883067",
   "metadata": {},
   "outputs": [
    {
     "name": "stdout",
     "output_type": "stream",
     "text": [
      "   carat      cut color clarity  depth %  table %  price  length  width  \\\n",
      "0   0.23    Ideal     E     SI2     61.5     55.0    326    3.95   3.98   \n",
      "1   0.21  Premium     E     SI1     59.8     61.0    326    3.89   3.84   \n",
      "2   0.23     Good     E     VS1     56.9     65.0    327    4.05   4.07   \n",
      "3   0.29  Premium     I     VS2     62.4     58.0    334    4.20   4.23   \n",
      "4   0.31     Good     J     SI2     63.3     58.0    335    4.34   4.35   \n",
      "\n",
      "   depth       L/W  \n",
      "0   2.43  0.992462  \n",
      "1   2.31  1.013021  \n",
      "2   2.31  0.995086  \n",
      "3   2.63  0.992908  \n",
      "4   2.75  0.997701  \n"
     ]
    }
   ],
   "source": [
    "print(diamonds.head())"
   ]
  },
  {
   "cell_type": "markdown",
   "id": "9c6a5ceb-5759-40e3-ab95-2a960061cb7a",
   "metadata": {},
   "source": [
    "#### We will explain the following lines in more depth in the prediction chapter."
   ]
  },
  {
   "cell_type": "code",
   "execution_count": 9,
   "id": "2c2af2b1-c420-49ae-8820-87449b9e0c1b",
   "metadata": {},
   "outputs": [],
   "source": [
    "diamonds[['length','width','depth','L/W']]=diamonds[['length','width','depth','L/W']].replace(0,np.NaN)\n",
    "\n",
    "diamonds.dropna(inplace=True)"
   ]
  },
  {
   "cell_type": "code",
   "execution_count": 10,
   "id": "71b8ae21-3edf-4039-8146-151142b630de",
   "metadata": {},
   "outputs": [
    {
     "data": {
      "text/html": [
       "<div>\n",
       "<style scoped>\n",
       "    .dataframe tbody tr th:only-of-type {\n",
       "        vertical-align: middle;\n",
       "    }\n",
       "\n",
       "    .dataframe tbody tr th {\n",
       "        vertical-align: top;\n",
       "    }\n",
       "\n",
       "    .dataframe thead th {\n",
       "        text-align: right;\n",
       "    }\n",
       "</style>\n",
       "<table border=\"1\" class=\"dataframe\">\n",
       "  <thead>\n",
       "    <tr style=\"text-align: right;\">\n",
       "      <th></th>\n",
       "      <th>carat</th>\n",
       "      <th>cut</th>\n",
       "      <th>color</th>\n",
       "      <th>clarity</th>\n",
       "      <th>depth %</th>\n",
       "      <th>table %</th>\n",
       "      <th>price</th>\n",
       "      <th>length</th>\n",
       "      <th>width</th>\n",
       "      <th>depth</th>\n",
       "      <th>L/W</th>\n",
       "    </tr>\n",
       "  </thead>\n",
       "  <tbody>\n",
       "  </tbody>\n",
       "</table>\n",
       "</div>"
      ],
      "text/plain": [
       "Empty DataFrame\n",
       "Columns: [carat, cut, color, clarity, depth %, table %, price, length, width, depth, L/W]\n",
       "Index: []"
      ]
     },
     "execution_count": 10,
     "metadata": {},
     "output_type": "execute_result"
    }
   ],
   "source": [
    "diamonds.loc[(diamonds['length'] == 0) | (diamonds['width'] == 0) | (diamonds['depth'] == 0) | (diamonds['L/W'] == 0) ]"
   ]
  },
  {
   "cell_type": "code",
   "execution_count": 6,
   "id": "5edbda67-cf50-4f9d-be04-1635e1977cd9",
   "metadata": {},
   "outputs": [
    {
     "data": {
      "text/html": [
       "<div>\n",
       "<style scoped>\n",
       "    .dataframe tbody tr th:only-of-type {\n",
       "        vertical-align: middle;\n",
       "    }\n",
       "\n",
       "    .dataframe tbody tr th {\n",
       "        vertical-align: top;\n",
       "    }\n",
       "\n",
       "    .dataframe thead th {\n",
       "        text-align: right;\n",
       "    }\n",
       "</style>\n",
       "<table border=\"1\" class=\"dataframe\">\n",
       "  <thead>\n",
       "    <tr style=\"text-align: right;\">\n",
       "      <th></th>\n",
       "      <th>carat</th>\n",
       "      <th>depth %</th>\n",
       "      <th>table %</th>\n",
       "      <th>price</th>\n",
       "      <th>length</th>\n",
       "      <th>width</th>\n",
       "      <th>depth</th>\n",
       "    </tr>\n",
       "  </thead>\n",
       "  <tbody>\n",
       "    <tr>\n",
       "      <th>carat</th>\n",
       "      <td>1.000</td>\n",
       "      <td>0.028</td>\n",
       "      <td>0.182</td>\n",
       "      <td>0.922</td>\n",
       "      <td>0.975</td>\n",
       "      <td>0.952</td>\n",
       "      <td>0.953</td>\n",
       "    </tr>\n",
       "    <tr>\n",
       "      <th>depth %</th>\n",
       "      <td>0.028</td>\n",
       "      <td>1.000</td>\n",
       "      <td>-0.296</td>\n",
       "      <td>-0.011</td>\n",
       "      <td>-0.025</td>\n",
       "      <td>-0.029</td>\n",
       "      <td>0.095</td>\n",
       "    </tr>\n",
       "    <tr>\n",
       "      <th>table %</th>\n",
       "      <td>0.182</td>\n",
       "      <td>-0.296</td>\n",
       "      <td>1.000</td>\n",
       "      <td>0.127</td>\n",
       "      <td>0.195</td>\n",
       "      <td>0.184</td>\n",
       "      <td>0.151</td>\n",
       "    </tr>\n",
       "    <tr>\n",
       "      <th>price</th>\n",
       "      <td>0.922</td>\n",
       "      <td>-0.011</td>\n",
       "      <td>0.127</td>\n",
       "      <td>1.000</td>\n",
       "      <td>0.884</td>\n",
       "      <td>0.865</td>\n",
       "      <td>0.861</td>\n",
       "    </tr>\n",
       "    <tr>\n",
       "      <th>length</th>\n",
       "      <td>0.975</td>\n",
       "      <td>-0.025</td>\n",
       "      <td>0.195</td>\n",
       "      <td>0.884</td>\n",
       "      <td>1.000</td>\n",
       "      <td>0.975</td>\n",
       "      <td>0.971</td>\n",
       "    </tr>\n",
       "    <tr>\n",
       "      <th>width</th>\n",
       "      <td>0.952</td>\n",
       "      <td>-0.029</td>\n",
       "      <td>0.184</td>\n",
       "      <td>0.865</td>\n",
       "      <td>0.975</td>\n",
       "      <td>1.000</td>\n",
       "      <td>0.952</td>\n",
       "    </tr>\n",
       "    <tr>\n",
       "      <th>depth</th>\n",
       "      <td>0.953</td>\n",
       "      <td>0.095</td>\n",
       "      <td>0.151</td>\n",
       "      <td>0.861</td>\n",
       "      <td>0.971</td>\n",
       "      <td>0.952</td>\n",
       "      <td>1.000</td>\n",
       "    </tr>\n",
       "  </tbody>\n",
       "</table>\n",
       "</div>"
      ],
      "text/plain": [
       "         carat  depth %  table %  price  length  width  depth\n",
       "carat    1.000    0.028    0.182  0.922   0.975  0.952  0.953\n",
       "depth %  0.028    1.000   -0.296 -0.011  -0.025 -0.029  0.095\n",
       "table %  0.182   -0.296    1.000  0.127   0.195  0.184  0.151\n",
       "price    0.922   -0.011    0.127  1.000   0.884  0.865  0.861\n",
       "length   0.975   -0.025    0.195  0.884   1.000  0.975  0.971\n",
       "width    0.952   -0.029    0.184  0.865   0.975  1.000  0.952\n",
       "depth    0.953    0.095    0.151  0.861   0.971  0.952  1.000"
      ]
     },
     "execution_count": 6,
     "metadata": {},
     "output_type": "execute_result"
    }
   ],
   "source": [
    "\n",
    "# Find the pearson correlations matrix\n",
    "corr = diamonds.corr(method = 'pearson').round(3)\n",
    "corr"
   ]
  },
  {
   "cell_type": "code",
   "execution_count": 12,
   "id": "b5c05307-091c-4467-8474-cf89bc540419",
   "metadata": {},
   "outputs": [
    {
     "data": {
      "image/png": "[encoded data removed]",
      "text/plain": [
       "<Figure size 1368x432 with 2 Axes>"
      ]
     },
     "metadata": {
      "needs_background": "light"
     },
     "output_type": "display_data"
    }
   ],
   "source": [
    "f, ax = plt.subplots(figsize=(19, 6))\n",
    "sns.heatmap(diamonds.corr(), annot=True, linewidths=8,cmap='Blues',\n",
    "            annot_kws = {\n",
    "                   'fontsize' : 15,\n",
    "                   'fontweight' : 'bold'\n",
    "                       },center=0,ax=ax)\n",
    "plt.yticks(rotation = 0);"
   ]
  },
  {
   "cell_type": "markdown",
   "id": "bd52f4c2-1126-446b-8221-64de14a3d3c9",
   "metadata": {},
   "source": [
    "From the above plot, We can see that carat, length, width, depth, and price are having a high correlation with each other.\r\n",
    "\r\n",
    "However, the categorical data is not taken into account. Since these categories are considered as essential factors for pricing the diamond, therefore, we will compare each category feature with the price."
   ]
  },
  {
   "cell_type": "markdown",
   "id": "e249d531-a9b4-4f4e-8f93-e6e60dca7509",
   "metadata": {},
   "source": [
    "## Try it yourself at home! Suggest a way to solve this"
   ]
  },
  {
   "cell_type": "code",
   "execution_count": null,
   "id": "2a29c6e4-afd6-41c6-a63b-fd217d737496",
   "metadata": {},
   "outputs": [],
   "source": []
  },
  {
   "cell_type": "code",
   "execution_count": null,
   "id": "9346a2f3-a992-4097-ba33-fd4a84ab534e",
   "metadata": {},
   "outputs": [],
   "source": []
  },
  {
   "cell_type": "markdown",
   "id": "6021b2b8-73a5-437f-b9da-ad03b6b1ebe4",
   "metadata": {},
   "source": [
    "---"
   ]
  },
  {
   "cell_type": "markdown",
   "id": "371bbd4f-96ff-4bc8-869b-99a85a26eef8",
   "metadata": {},
   "source": [
    "### Correlate on house_df\n",
    "#### Class discussion: What can be said about this correlation?"
   ]
  },
  {
   "cell_type": "code",
   "execution_count": null,
   "id": "07390db4-1209-48bb-8103-b19c948354a4",
   "metadata": {},
   "outputs": [],
   "source": [
    "url = 'https://raw.githubusercontent.com/nlihin/data-analytics/main/datasets/housing.csv'\n",
    "house_df = pd.read_csv(url)"
   ]
  },
  {
   "cell_type": "code",
   "execution_count": 142,
   "id": "55038954-2f6c-4888-9239-402b9fa411bb",
   "metadata": {},
   "outputs": [
    {
     "data": {
      "image/png": "[encoded data removed]",
      "text/plain": [
       "<Figure size 1368x432 with 2 Axes>"
      ]
     },
     "metadata": {},
     "output_type": "display_data"
    }
   ],
   "source": [
    "f, ax = plt.subplots(figsize=(19, 6))\n",
    "sns.heatmap(house_df.corr(), annot=True, linewidths=8,cmap='Blues',\n",
    "            annot_kws = {\n",
    "                   'fontsize' : 15,\n",
    "                   'fontweight' : 'bold'\n",
    "                       },center=0,ax=ax)\n",
    "plt.yticks(rotation = 0);"
   ]
  },
  {
   "cell_type": "code",
   "execution_count": null,
   "id": "3cce15f5-a6b1-4643-9087-6296ca87e6c4",
   "metadata": {},
   "outputs": [],
   "source": []
  },
  {
   "cell_type": "markdown",
   "id": "f6ad90a3-25a1-4115-b0ee-7410eba00cdb",
   "metadata": {},
   "source": [
    "### [▲](#Up)\n",
    "---"
   ]
  },
  {
   "cell_type": "markdown",
   "id": "13594151-a516-4f15-bc9b-60dede581aa8",
   "metadata": {},
   "source": [
    "<a class=\"anchor\" id='3'></a>"
   ]
  },
  {
   "cell_type": "markdown",
   "id": "c048947f-6627-4391-87d6-6eeb14a4f296",
   "metadata": {},
   "source": [
    "<h1 style=\"background-color: #fff4d9; color: #0046d6; border-radius: 20px; text-align: center; padding-top: 20px; padding-bottom: 20px; font-family: 'Arial'\" >.Melt()</h1>"
   ]
  },
  {
   "cell_type": "markdown",
   "id": "05ab66c4-1c36-4290-a5f8-c7d3ad50aafd",
   "metadata": {},
   "source": [
    "### [`.Melt()` documentation](https://pandas.pydata.org/docs/reference/api/pandas.melt.html)"
   ]
  },
  {
   "cell_type": "markdown",
   "id": "3e201a55-bc23-4e26-8205-a8f9c4036c9f",
   "metadata": {},
   "source": [
    "> __id_vars :__   __(scalar, tuple, list, or ndarray, optional)__\n",
    ">\n",
    ">  Column(s) to use as identifier variables.\n",
    "\n",
    "> __value_vars :__ __(scalar, default None)__\n",
    ">\n",
    "> Name to use for the ‘variable’ column. If None it uses frame.columns.name or ‘variable’.\n",
    "\n",
    "> __value_name :__ __(\n",
    "scalar, default ‘value)__\n",
    ">\n",
    "> Name to use for the ‘value’ column, can’t be an existing column label.\n",
    "\n",
    "> __ignore_index :__ __(bool, default True)__\n",
    ">\n",
    "> If True, original index is ignored. If False, the original index is retained. Index labels will be repeated as necessary.\n",
    "\n",
    "y.l’\n"
   ]
  },
  {
   "cell_type": "code",
   "execution_count": 13,
   "id": "ced41b68-40ae-477f-83d7-a80cf41099b7",
   "metadata": {},
   "outputs": [],
   "source": [
    "data = {'Date': ['2023-01-01', '2023-01-02'],\n",
    "        'Product A Sales': [100, 120],\n",
    "        'Product B Sales': [80, 90],\n",
    "        'Product C Sales': [50, 60]}\n",
    "\n",
    "sales_df = pd.DataFrame(data)\n"
   ]
  },
  {
   "cell_type": "raw",
   "id": "786a9626-4232-4b84-866e-ea3ccb17b3e7",
   "metadata": {},
   "source": [
    "         Date  Product A Sales  Product B Sales  Product C Sales\n",
    "0  2023-01-01              100               80               50\n",
    "1  2023-01-02              120               90               60\n"
   ]
  },
  {
   "cell_type": "markdown",
   "id": "e8a90e19-12ef-40cd-af2a-8d83282adb08",
   "metadata": {},
   "source": [
    "### Now, if you want to analyze this data more effectively, you may want to reshape it into a long format where each row represents a single sale with columns 'Date', 'Product', and 'Sales'. You can achieve this using the `melt()` function."
   ]
  },
  {
   "cell_type": "code",
   "execution_count": 14,
   "id": "abb285b9-cc37-4bda-b6ec-02f685cdca2b",
   "metadata": {},
   "outputs": [],
   "source": [
    "# Reshaping the data using melt\n",
    "melted_df = sales_df.melt(id_vars=['Date'], var_name='Product', value_name='Sales')"
   ]
  },
  {
   "cell_type": "raw",
   "id": "cffb475d-7c19-4e26-805a-53dcf95573a9",
   "metadata": {},
   "source": [
    "         Date           Product  Sales\n",
    "0  2023-01-01  Product A Sales    100\n",
    "1  2023-01-02  Product A Sales    120\n",
    "2  2023-01-01  Product B Sales     80\n",
    "3  2023-01-02  Product B Sales     90\n",
    "4  2023-01-01  Product C Sales     50\n",
    "5  2023-01-02  Product C Sales     60\n"
   ]
  },
  {
   "cell_type": "markdown",
   "id": "9d9f6176-b313-416e-ae9b-9b54cdb0c026",
   "metadata": {},
   "source": [
    "### Now, you have the data in a format that makes it easier to perform various __analyses and visualizations__, such as __calculating total sales__ for each product or __plotting trends__ over time."
   ]
  },
  {
   "cell_type": "markdown",
   "id": "735e5ebb-ef64-42f0-988e-50e0116d6e81",
   "metadata": {},
   "source": [
    "---\n",
    "### Question for Practice:"
   ]
  },
  {
   "cell_type": "markdown",
   "id": "ac4e8bc5-1aaa-492a-9e36-914879a21c41",
   "metadata": {},
   "source": [
    "1. Given a DataFrame containing student exam scores with columns 'Student ID', 'Math Score', 'Science Score', and 'English Score', use the `melt()` function to reshape the data into a long format with columns 'Student ID', 'Subject', and 'Score'. This format will make it easier to compare scores across subjects for each student. Provide the code to achieve this transformation."
   ]
  },
  {
   "cell_type": "code",
   "execution_count": 147,
   "id": "0f4082d7-c6db-4521-b966-be57b5eb88c9",
   "metadata": {},
   "outputs": [],
   "source": [
    "# Sample DataFrame with exam scores\n",
    "data = {'Student ID': [1, 2, 3],\n",
    "        'Math Score': [85, 78, 92],\n",
    "        'Science Score': [92, 88, 75],\n",
    "        'English Score': [78, 90, 85]}\n",
    "\n",
    "exam_scores_df = pd.DataFrame(data)"
   ]
  },
  {
   "cell_type": "raw",
   "id": "39d45378-ebf4-460a-b023-d2084dcbcafd",
   "metadata": {},
   "source": [
    "    Student ID\t  Math Score\tScience Score\tEnglish Score\n",
    "0\t     1\t         85\t            92\t             78\n",
    "1\t     2\t         78\t            88\t             90\n",
    "2\t     3\t         92\t            75\t             85"
   ]
  },
  {
   "cell_type": "code",
   "execution_count": 148,
   "id": "33ce4985-9786-4bca-9244-690bede7be4f",
   "metadata": {},
   "outputs": [
    {
     "name": "stdout",
     "output_type": "stream",
     "text": [
      "   Student ID        Subject  Score\n",
      "0           1     Math Score     85\n",
      "1           2     Math Score     78\n",
      "2           3     Math Score     92\n",
      "3           1  Science Score     92\n",
      "4           2  Science Score     88\n",
      "5           3  Science Score     75\n",
      "6           1  English Score     78\n",
      "7           2  English Score     90\n",
      "8           3  English Score     85\n"
     ]
    }
   ],
   "source": [
    "# Reshape the data using melt\n",
    "melted_scores_df = exam_scores_df.melt(id_vars=['Student ID'], var_name='Subject', value_name='Score')\n",
    "\n",
    "# Display the reshaped DataFrame\n",
    "print(melted_scores_df)"
   ]
  },
  {
   "cell_type": "raw",
   "id": "68f37aec-4207-41ad-8d95-f03ba49c394a",
   "metadata": {},
   "source": [
    "   Student ID         Subject  Score\n",
    "0           1      Math Score     85\n",
    "1           2      Math Score     78\n",
    "2           3      Math Score     92\n",
    "3           1  Science Score     92\n",
    "4           2  Science Score     88\n",
    "5           3  Science Score     75\n",
    "6           1  English Score     78\n",
    "7           2  English Score     90\n",
    "8           3  English Score     85\n"
   ]
  },
  {
   "cell_type": "markdown",
   "id": "65e9837c-b5f4-4d3c-893f-1668fc4b0cce",
   "metadata": {},
   "source": [
    "2. You have a dataset containing monthly weather data for different cities, with columns 'City', 'Jan Temp', 'Feb Temp', ..., 'Dec Temp'. Use the `melt()` function to reshape the data into a long format with columns 'City', 'Month', and 'Temperature'. Provide the code to perform this transformation.\""
   ]
  },
  {
   "cell_type": "code",
   "execution_count": 20,
   "id": "ceea15a0-0ec7-4f99-9014-315cf3a9760f",
   "metadata": {},
   "outputs": [
    {
     "data": {
      "text/html": [
       "<div>\n",
       "<style scoped>\n",
       "    .dataframe tbody tr th:only-of-type {\n",
       "        vertical-align: middle;\n",
       "    }\n",
       "\n",
       "    .dataframe tbody tr th {\n",
       "        vertical-align: top;\n",
       "    }\n",
       "\n",
       "    .dataframe thead th {\n",
       "        text-align: right;\n",
       "    }\n",
       "</style>\n",
       "<table border=\"1\" class=\"dataframe\">\n",
       "  <thead>\n",
       "    <tr style=\"text-align: right;\">\n",
       "      <th></th>\n",
       "      <th>City</th>\n",
       "      <th>Jan Temp</th>\n",
       "      <th>Feb Temp</th>\n",
       "      <th>Mar Temp</th>\n",
       "      <th>Apr Temp</th>\n",
       "      <th>May Temp</th>\n",
       "      <th>Jun Temp</th>\n",
       "      <th>Jul Temp</th>\n",
       "      <th>Aug Temp</th>\n",
       "      <th>Sep Temp</th>\n",
       "      <th>Oct Temp</th>\n",
       "      <th>Nov Temp</th>\n",
       "      <th>Dec Temp</th>\n",
       "    </tr>\n",
       "  </thead>\n",
       "  <tbody>\n",
       "    <tr>\n",
       "      <th>0</th>\n",
       "      <td>City A</td>\n",
       "      <td>16</td>\n",
       "      <td>24</td>\n",
       "      <td>22</td>\n",
       "      <td>19</td>\n",
       "      <td>20</td>\n",
       "      <td>14</td>\n",
       "      <td>17</td>\n",
       "      <td>14</td>\n",
       "      <td>21</td>\n",
       "      <td>11</td>\n",
       "      <td>10</td>\n",
       "      <td>15</td>\n",
       "    </tr>\n",
       "    <tr>\n",
       "      <th>1</th>\n",
       "      <td>City B</td>\n",
       "      <td>13</td>\n",
       "      <td>20</td>\n",
       "      <td>14</td>\n",
       "      <td>12</td>\n",
       "      <td>20</td>\n",
       "      <td>13</td>\n",
       "      <td>12</td>\n",
       "      <td>11</td>\n",
       "      <td>23</td>\n",
       "      <td>21</td>\n",
       "      <td>21</td>\n",
       "      <td>22</td>\n",
       "    </tr>\n",
       "    <tr>\n",
       "      <th>2</th>\n",
       "      <td>City C</td>\n",
       "      <td>22</td>\n",
       "      <td>17</td>\n",
       "      <td>16</td>\n",
       "      <td>16</td>\n",
       "      <td>17</td>\n",
       "      <td>17</td>\n",
       "      <td>15</td>\n",
       "      <td>17</td>\n",
       "      <td>15</td>\n",
       "      <td>14</td>\n",
       "      <td>19</td>\n",
       "      <td>21</td>\n",
       "    </tr>\n",
       "  </tbody>\n",
       "</table>\n",
       "</div>"
      ],
      "text/plain": [
       "     City  Jan Temp  Feb Temp  Mar Temp  Apr Temp  May Temp  Jun Temp  \\\n",
       "0  City A        16        24        22        19        20        14   \n",
       "1  City B        13        20        14        12        20        13   \n",
       "2  City C        22        17        16        16        17        17   \n",
       "\n",
       "   Jul Temp  Aug Temp  Sep Temp  Oct Temp  Nov Temp  Dec Temp  \n",
       "0        17        14        21        11        10        15  \n",
       "1        12        11        23        21        21        22  \n",
       "2        15        17        15        14        19        21  "
      ]
     },
     "execution_count": 20,
     "metadata": {},
     "output_type": "execute_result"
    }
   ],
   "source": [
    "# Set a random seed for reproducibility\n",
    "np.random.seed(42)\n",
    "\n",
    "# City temperature data for all months\n",
    "data = {'City': ['City A', 'City B', 'City C'],\n",
    "        'Jan Temp': np.random.randint(10, 25, size=3),\n",
    "        'Feb Temp': np.random.randint(10, 25, size=3),\n",
    "        'Mar Temp': np.random.randint(10, 25, size=3),\n",
    "        'Apr Temp': np.random.randint(10, 25, size=3),\n",
    "        'May Temp': np.random.randint(10, 25, size=3),\n",
    "        'Jun Temp': np.random.randint(10, 25, size=3),\n",
    "        'Jul Temp': np.random.randint(10, 25, size=3),\n",
    "        'Aug Temp': np.random.randint(10, 25, size=3),\n",
    "        'Sep Temp': np.random.randint(10, 25, size=3),\n",
    "        'Oct Temp': np.random.randint(10, 25, size=3),\n",
    "        'Nov Temp': np.random.randint(10, 25, size=3),\n",
    "        'Dec Temp': np.random.randint(10, 25, size=3)}\n",
    "\n",
    "# Creating a DataFrame\n",
    "weather_df = pd.DataFrame(data)\n",
    "\n",
    "# Displaying the DataFrame\n",
    "weather_df"
   ]
  },
  {
   "cell_type": "code",
   "execution_count": 25,
   "id": "8d2e1015-5be5-4b3a-926b-450e8e42162b",
   "metadata": {},
   "outputs": [
    {
     "name": "stdout",
     "output_type": "stream",
     "text": [
      "      City     Month  Temperature\n",
      "0   City A  Jan Temp           16\n",
      "1   City B  Jan Temp           13\n",
      "2   City C  Jan Temp           22\n",
      "3   City A  Feb Temp           24\n",
      "4   City B  Feb Temp           20\n",
      "5   City C  Feb Temp           17\n",
      "6   City A  Mar Temp           22\n",
      "7   City B  Mar Temp           14\n",
      "8   City C  Mar Temp           16\n",
      "9   City A  Apr Temp           19\n",
      "10  City B  Apr Temp           12\n",
      "11  City C  Apr Temp           16\n",
      "12  City A  May Temp           20\n",
      "13  City B  May Temp           20\n",
      "14  City C  May Temp           17\n",
      "15  City A  Jun Temp           14\n",
      "16  City B  Jun Temp           13\n",
      "17  City C  Jun Temp           17\n",
      "18  City A  Jul Temp           17\n",
      "19  City B  Jul Temp           12\n",
      "20  City C  Jul Temp           15\n",
      "21  City A  Aug Temp           14\n",
      "22  City B  Aug Temp           11\n",
      "23  City C  Aug Temp           17\n",
      "24  City A  Sep Temp           21\n",
      "25  City B  Sep Temp           23\n",
      "26  City C  Sep Temp           15\n",
      "27  City A  Oct Temp           11\n",
      "28  City B  Oct Temp           21\n",
      "29  City C  Oct Temp           14\n",
      "30  City A  Nov Temp           10\n",
      "31  City B  Nov Temp           21\n",
      "32  City C  Nov Temp           19\n",
      "33  City A  Dec Temp           15\n",
      "34  City B  Dec Temp           22\n",
      "35  City C  Dec Temp           21\n"
     ]
    }
   ],
   "source": [
    "# Reshape the data using melt\n",
    "melted_weather_df = weather_df.melt(id_vars=['City'], var_name='Month', value_name='Temperature')\n",
    "\n",
    "# Display the reshaped DataFrame\n",
    "print(melted_weather_df)"
   ]
  },
  {
   "cell_type": "markdown",
   "id": "1bb134b2-6e8a-42b9-80e2-9cf6433defdf",
   "metadata": {},
   "source": [
    "3. Given a DataFrame representing customer orders with columns 'Order ID', 'Customer Name', 'Product 1', 'Product 2', ..., 'Product N', where 'Product 1', 'Product 2', etc., represent different products in an order, use the `melt()` function to reshape the data into a long format with columns 'Order ID', 'Customer Name', 'Product Name', and 'Quantity'. This format will make it easier to analyze individual product quantities in each order. Provide the code to achieve this transformation.\""
   ]
  },
  {
   "cell_type": "code",
   "execution_count": 153,
   "id": "5f93dd8d-db9d-4c84-a413-768b1094fbed",
   "metadata": {},
   "outputs": [],
   "source": [
    "# Sample DataFrame with customer orders\n",
    "data = {'Order ID': [1, 2, 3],\n",
    "        'Customer Name': ['Alice', 'Bob', 'Charlie'],\n",
    "        'Product 1': ['Item A', 'Item B', 'Item C'],\n",
    "        'Product 2': ['Item D', 'Item E', 'Item F'],\n",
    "        # ... Continue with product columns\n",
    "        }\n",
    "\n",
    "orders_df = pd.DataFrame(data)"
   ]
  },
  {
   "cell_type": "code",
   "execution_count": 154,
   "id": "75b21522-6629-4a6a-8eb1-e1ed1ae8f53a",
   "metadata": {},
   "outputs": [
    {
     "name": "stdout",
     "output_type": "stream",
     "text": [
      "   Order ID Customer Name Product Number Product Name\n",
      "0         1         Alice      Product 1       Item A\n",
      "1         2           Bob      Product 1       Item B\n",
      "2         3       Charlie      Product 1       Item C\n",
      "3         1         Alice      Product 2       Item D\n",
      "4         2           Bob      Product 2       Item E\n",
      "5         3       Charlie      Product 2       Item F\n"
     ]
    }
   ],
   "source": [
    "# Reshape the data using melt\n",
    "melted_orders_df = orders_df.melt(id_vars=['Order ID', 'Customer Name'], var_name='Product Number', value_name='Product Name')\n",
    "\n",
    "# Display the reshaped DataFrame\n",
    "print(melted_orders_df)"
   ]
  },
  {
   "cell_type": "raw",
   "id": "e38220e1-6157-4487-b6e1-051e2f82bbf8",
   "metadata": {},
   "source": [
    "   Order ID Customer Name Product Number Product Name\n",
    "0        1         Alice      Product 1       Item A\n",
    "1        2           Bob      Product 1       Item B\n",
    "2        3       Charlie      Product 1       Item C\n",
    "3        1         Alice      Product 2       Item D\n",
    "4        2           Bob      Product 2       Item E\n",
    "5        3       Charlie      Product 2       Item F\n",
    "# ... Continue with the reshaped data for other products\n"
   ]
  },
  {
   "cell_type": "markdown",
   "id": "73731509-3576-4823-86b1-28b258a04292",
   "metadata": {},
   "source": [
    "### [▲](#Up)\n",
    "---"
   ]
  },
  {
   "cell_type": "markdown",
   "id": "416b02d6-c387-48d3-8b3e-bcc021bb7f62",
   "metadata": {},
   "source": [
    "<a class=\"anchor\" id='4'></a>"
   ]
  },
  {
   "cell_type": "markdown",
   "id": "6564d192-a42d-4b5d-8f11-badaf2d7bc07",
   "metadata": {},
   "source": [
    "<h1 style=\"background-color: #fff4d9; color: #0046d6; border-radius: 20px; text-align: center; padding-top: 20px; padding-bottom: 20px; font-family: 'Arial'\" id=\"introduction\">One Hot Encoding.</h1>"
   ]
  },
  {
   "cell_type": "code",
   "execution_count": 1,
   "id": "7f110c64-1080-41fc-9b18-e467f9f4a93e",
   "metadata": {},
   "outputs": [],
   "source": [
    "import numpy as np\n",
    "import pandas as pd\n",
    "from sklearn.preprocessing import OneHotEncoder"
   ]
  },
  {
   "cell_type": "code",
   "execution_count": 2,
   "id": "88c1fe36-e514-457e-ad51-d385cabde7ad",
   "metadata": {},
   "outputs": [],
   "source": [
    "df = pd.read_csv(\"OneHotEncodingData.csv\")"
   ]
  },
  {
   "cell_type": "code",
   "execution_count": 3,
   "id": "5336d037-4bf4-4a3c-a806-3873005c3131",
   "metadata": {},
   "outputs": [
    {
     "data": {
      "text/html": [
       "<div>\n",
       "<style scoped>\n",
       "    .dataframe tbody tr th:only-of-type {\n",
       "        vertical-align: middle;\n",
       "    }\n",
       "\n",
       "    .dataframe tbody tr th {\n",
       "        vertical-align: top;\n",
       "    }\n",
       "\n",
       "    .dataframe thead th {\n",
       "        text-align: right;\n",
       "    }\n",
       "</style>\n",
       "<table border=\"1\" class=\"dataframe\">\n",
       "  <thead>\n",
       "    <tr style=\"text-align: right;\">\n",
       "      <th></th>\n",
       "      <th>Id</th>\n",
       "      <th>Colour</th>\n",
       "      <th>Country</th>\n",
       "    </tr>\n",
       "  </thead>\n",
       "  <tbody>\n",
       "    <tr>\n",
       "      <th>0</th>\n",
       "      <td>1</td>\n",
       "      <td>Red</td>\n",
       "      <td>USA</td>\n",
       "    </tr>\n",
       "    <tr>\n",
       "      <th>1</th>\n",
       "      <td>2</td>\n",
       "      <td>Blue</td>\n",
       "      <td>UK</td>\n",
       "    </tr>\n",
       "    <tr>\n",
       "      <th>2</th>\n",
       "      <td>3</td>\n",
       "      <td>Green</td>\n",
       "      <td>Canada</td>\n",
       "    </tr>\n",
       "    <tr>\n",
       "      <th>3</th>\n",
       "      <td>4</td>\n",
       "      <td>Blue</td>\n",
       "      <td>USA</td>\n",
       "    </tr>\n",
       "    <tr>\n",
       "      <th>4</th>\n",
       "      <td>5</td>\n",
       "      <td>Blue</td>\n",
       "      <td>USA</td>\n",
       "    </tr>\n",
       "  </tbody>\n",
       "</table>\n",
       "</div>"
      ],
      "text/plain": [
       "   Id Colour Country\n",
       "0   1    Red     USA\n",
       "1   2   Blue      UK\n",
       "2   3  Green  Canada\n",
       "3   4   Blue     USA\n",
       "4   5   Blue     USA"
      ]
     },
     "execution_count": 3,
     "metadata": {},
     "output_type": "execute_result"
    }
   ],
   "source": [
    "df.head()"
   ]
  },
  {
   "cell_type": "code",
   "execution_count": 4,
   "id": "1af9d966-4cb4-4c02-a5a2-00c0ffa61a1a",
   "metadata": {},
   "outputs": [
    {
     "data": {
      "text/html": [
       "<div>\n",
       "<style scoped>\n",
       "    .dataframe tbody tr th:only-of-type {\n",
       "        vertical-align: middle;\n",
       "    }\n",
       "\n",
       "    .dataframe tbody tr th {\n",
       "        vertical-align: top;\n",
       "    }\n",
       "\n",
       "    .dataframe thead th {\n",
       "        text-align: right;\n",
       "    }\n",
       "</style>\n",
       "<table border=\"1\" class=\"dataframe\">\n",
       "  <thead>\n",
       "    <tr style=\"text-align: right;\">\n",
       "      <th></th>\n",
       "      <th>Id</th>\n",
       "      <th>Colour</th>\n",
       "      <th>Country</th>\n",
       "    </tr>\n",
       "  </thead>\n",
       "  <tbody>\n",
       "    <tr>\n",
       "      <th>295</th>\n",
       "      <td>296</td>\n",
       "      <td>Red</td>\n",
       "      <td>Canada</td>\n",
       "    </tr>\n",
       "    <tr>\n",
       "      <th>296</th>\n",
       "      <td>297</td>\n",
       "      <td>Green</td>\n",
       "      <td>UK</td>\n",
       "    </tr>\n",
       "    <tr>\n",
       "      <th>297</th>\n",
       "      <td>298</td>\n",
       "      <td>Green</td>\n",
       "      <td>UK</td>\n",
       "    </tr>\n",
       "    <tr>\n",
       "      <th>298</th>\n",
       "      <td>299</td>\n",
       "      <td>Red</td>\n",
       "      <td>Canada</td>\n",
       "    </tr>\n",
       "    <tr>\n",
       "      <th>299</th>\n",
       "      <td>300</td>\n",
       "      <td>Red</td>\n",
       "      <td>Canada</td>\n",
       "    </tr>\n",
       "  </tbody>\n",
       "</table>\n",
       "</div>"
      ],
      "text/plain": [
       "      Id Colour Country\n",
       "295  296    Red  Canada\n",
       "296  297  Green      UK\n",
       "297  298  Green      UK\n",
       "298  299    Red  Canada\n",
       "299  300    Red  Canada"
      ]
     },
     "execution_count": 4,
     "metadata": {},
     "output_type": "execute_result"
    }
   ],
   "source": [
    "df.tail()"
   ]
  },
  {
   "cell_type": "code",
   "execution_count": 5,
   "id": "0aa9b2d4-78ae-4654-98cd-c3e105c6532d",
   "metadata": {},
   "outputs": [
    {
     "data": {
      "text/plain": [
       "Id          int64\n",
       "Colour     object\n",
       "Country    object\n",
       "dtype: object"
      ]
     },
     "execution_count": 5,
     "metadata": {},
     "output_type": "execute_result"
    }
   ],
   "source": [
    "df.dtypes"
   ]
  },
  {
   "cell_type": "code",
   "execution_count": 6,
   "id": "0deb8dac-11a9-43b3-9009-8ea588f4a495",
   "metadata": {},
   "outputs": [
    {
     "data": {
      "text/plain": [
       "array(['Red', 'Blue', 'Green'], dtype=object)"
      ]
     },
     "execution_count": 6,
     "metadata": {},
     "output_type": "execute_result"
    }
   ],
   "source": [
    "df[\"Colour\"].unique()"
   ]
  },
  {
   "cell_type": "code",
   "execution_count": 7,
   "id": "8d6d2be4-06ed-44de-8ad2-85212559b13b",
   "metadata": {},
   "outputs": [
    {
     "data": {
      "text/plain": [
       "array(['USA', 'UK', 'Canada'], dtype=object)"
      ]
     },
     "execution_count": 7,
     "metadata": {},
     "output_type": "execute_result"
    }
   ],
   "source": [
    "df[\"Country\"].unique()"
   ]
  },
  {
   "cell_type": "code",
   "execution_count": 8,
   "id": "119d31d9-024e-4cea-af81-6a7d4c2ef492",
   "metadata": {},
   "outputs": [],
   "source": [
    "ohe = OneHotEncoder()"
   ]
  },
  {
   "cell_type": "code",
   "execution_count": 9,
   "id": "5d81bf5e-2c8e-45ff-876c-c2d1c92f6d7a",
   "metadata": {},
   "outputs": [
    {
     "name": "stdout",
     "output_type": "stream",
     "text": [
      "OneHotEncoder()\n"
     ]
    }
   ],
   "source": [
    "print(ohe)"
   ]
  },
  {
   "cell_type": "code",
   "execution_count": 10,
   "id": "eea5b4df-4336-448b-8b91-98f1687d8a4f",
   "metadata": {},
   "outputs": [
    {
     "data": {
      "text/plain": [
       "array([[0., 0., 1., 0., 0., 1.],\n",
       "       [1., 0., 0., 0., 1., 0.],\n",
       "       [0., 1., 0., 1., 0., 0.],\n",
       "       ...,\n",
       "       [0., 1., 0., 0., 1., 0.],\n",
       "       [0., 0., 1., 1., 0., 0.],\n",
       "       [0., 0., 1., 1., 0., 0.]])"
      ]
     },
     "execution_count": 10,
     "metadata": {},
     "output_type": "execute_result"
    }
   ],
   "source": [
    "ohe.fit_transform(df[[\"Colour\", \"Country\"]]).toarray()"
   ]
  },
  {
   "cell_type": "code",
   "execution_count": 11,
   "id": "6220b0fe-7be4-48f0-86e5-4763ce0af78b",
   "metadata": {},
   "outputs": [],
   "source": [
    "feature_arry = ohe.fit_transform(df[[\"Colour\", \"Country\"]]).toarray()"
   ]
  },
  {
   "cell_type": "code",
   "execution_count": 12,
   "id": "dcc7097a-8b69-419b-b07e-22206765020a",
   "metadata": {},
   "outputs": [
    {
     "name": "stdout",
     "output_type": "stream",
     "text": [
      "[[0. 0. 1. 0. 0. 1.]\n",
      " [1. 0. 0. 0. 1. 0.]\n",
      " [0. 1. 0. 1. 0. 0.]\n",
      " ...\n",
      " [0. 1. 0. 0. 1. 0.]\n",
      " [0. 0. 1. 1. 0. 0.]\n",
      " [0. 0. 1. 1. 0. 0.]]\n"
     ]
    }
   ],
   "source": [
    "print(feature_arry)"
   ]
  },
  {
   "cell_type": "code",
   "execution_count": 13,
   "id": "a629535c-fc7d-4ec5-bf64-a55bd5bae199",
   "metadata": {},
   "outputs": [
    {
     "data": {
      "text/plain": [
       "[array(['Blue', 'Green', 'Red'], dtype=object),\n",
       " array(['Canada', 'UK', 'USA'], dtype=object)]"
      ]
     },
     "execution_count": 13,
     "metadata": {},
     "output_type": "execute_result"
    }
   ],
   "source": [
    "ohe.categories_"
   ]
  },
  {
   "cell_type": "code",
   "execution_count": 14,
   "id": "800fdfc1-a4c4-4a0e-bd5e-4da632e03fe5",
   "metadata": {},
   "outputs": [],
   "source": [
    "feature_labels = ohe.categories_"
   ]
  },
  {
   "cell_type": "code",
   "execution_count": 15,
   "id": "0bdf93c4-8d68-4f0c-8348-174be21efdd3",
   "metadata": {},
   "outputs": [
    {
     "data": {
      "text/plain": [
       "array(['Blue', 'Green', 'Red', 'Canada', 'UK', 'USA'], dtype=object)"
      ]
     },
     "execution_count": 15,
     "metadata": {},
     "output_type": "execute_result"
    }
   ],
   "source": [
    "np.array(feature_labels).ravel()"
   ]
  },
  {
   "cell_type": "code",
   "execution_count": 16,
   "id": "29e44649-35ed-4fb1-959f-dd367efb1688",
   "metadata": {},
   "outputs": [],
   "source": [
    "feature_labels = np.array(feature_labels).ravel()"
   ]
  },
  {
   "cell_type": "code",
   "execution_count": 17,
   "id": "0b188438-a5e3-4040-b951-eaa7d5cfdd78",
   "metadata": {},
   "outputs": [
    {
     "name": "stdout",
     "output_type": "stream",
     "text": [
      "['Blue' 'Green' 'Red' 'Canada' 'UK' 'USA']\n"
     ]
    }
   ],
   "source": [
    "print(feature_labels)"
   ]
  },
  {
   "cell_type": "code",
   "execution_count": 18,
   "id": "82542304-37e6-4028-b7c9-f579ed94dc9d",
   "metadata": {},
   "outputs": [
    {
     "data": {
      "text/html": [
       "<div>\n",
       "<style scoped>\n",
       "    .dataframe tbody tr th:only-of-type {\n",
       "        vertical-align: middle;\n",
       "    }\n",
       "\n",
       "    .dataframe tbody tr th {\n",
       "        vertical-align: top;\n",
       "    }\n",
       "\n",
       "    .dataframe thead th {\n",
       "        text-align: right;\n",
       "    }\n",
       "</style>\n",
       "<table border=\"1\" class=\"dataframe\">\n",
       "  <thead>\n",
       "    <tr style=\"text-align: right;\">\n",
       "      <th></th>\n",
       "      <th>Blue</th>\n",
       "      <th>Green</th>\n",
       "      <th>Red</th>\n",
       "      <th>Canada</th>\n",
       "      <th>UK</th>\n",
       "      <th>USA</th>\n",
       "    </tr>\n",
       "  </thead>\n",
       "  <tbody>\n",
       "    <tr>\n",
       "      <th>0</th>\n",
       "      <td>0.0</td>\n",
       "      <td>0.0</td>\n",
       "      <td>1.0</td>\n",
       "      <td>0.0</td>\n",
       "      <td>0.0</td>\n",
       "      <td>1.0</td>\n",
       "    </tr>\n",
       "    <tr>\n",
       "      <th>1</th>\n",
       "      <td>1.0</td>\n",
       "      <td>0.0</td>\n",
       "      <td>0.0</td>\n",
       "      <td>0.0</td>\n",
       "      <td>1.0</td>\n",
       "      <td>0.0</td>\n",
       "    </tr>\n",
       "    <tr>\n",
       "      <th>2</th>\n",
       "      <td>0.0</td>\n",
       "      <td>1.0</td>\n",
       "      <td>0.0</td>\n",
       "      <td>1.0</td>\n",
       "      <td>0.0</td>\n",
       "      <td>0.0</td>\n",
       "    </tr>\n",
       "    <tr>\n",
       "      <th>3</th>\n",
       "      <td>1.0</td>\n",
       "      <td>0.0</td>\n",
       "      <td>0.0</td>\n",
       "      <td>0.0</td>\n",
       "      <td>0.0</td>\n",
       "      <td>1.0</td>\n",
       "    </tr>\n",
       "    <tr>\n",
       "      <th>4</th>\n",
       "      <td>1.0</td>\n",
       "      <td>0.0</td>\n",
       "      <td>0.0</td>\n",
       "      <td>0.0</td>\n",
       "      <td>0.0</td>\n",
       "      <td>1.0</td>\n",
       "    </tr>\n",
       "    <tr>\n",
       "      <th>...</th>\n",
       "      <td>...</td>\n",
       "      <td>...</td>\n",
       "      <td>...</td>\n",
       "      <td>...</td>\n",
       "      <td>...</td>\n",
       "      <td>...</td>\n",
       "    </tr>\n",
       "    <tr>\n",
       "      <th>295</th>\n",
       "      <td>0.0</td>\n",
       "      <td>0.0</td>\n",
       "      <td>1.0</td>\n",
       "      <td>1.0</td>\n",
       "      <td>0.0</td>\n",
       "      <td>0.0</td>\n",
       "    </tr>\n",
       "    <tr>\n",
       "      <th>296</th>\n",
       "      <td>0.0</td>\n",
       "      <td>1.0</td>\n",
       "      <td>0.0</td>\n",
       "      <td>0.0</td>\n",
       "      <td>1.0</td>\n",
       "      <td>0.0</td>\n",
       "    </tr>\n",
       "    <tr>\n",
       "      <th>297</th>\n",
       "      <td>0.0</td>\n",
       "      <td>1.0</td>\n",
       "      <td>0.0</td>\n",
       "      <td>0.0</td>\n",
       "      <td>1.0</td>\n",
       "      <td>0.0</td>\n",
       "    </tr>\n",
       "    <tr>\n",
       "      <th>298</th>\n",
       "      <td>0.0</td>\n",
       "      <td>0.0</td>\n",
       "      <td>1.0</td>\n",
       "      <td>1.0</td>\n",
       "      <td>0.0</td>\n",
       "      <td>0.0</td>\n",
       "    </tr>\n",
       "    <tr>\n",
       "      <th>299</th>\n",
       "      <td>0.0</td>\n",
       "      <td>0.0</td>\n",
       "      <td>1.0</td>\n",
       "      <td>1.0</td>\n",
       "      <td>0.0</td>\n",
       "      <td>0.0</td>\n",
       "    </tr>\n",
       "  </tbody>\n",
       "</table>\n",
       "<p>300 rows × 6 columns</p>\n",
       "</div>"
      ],
      "text/plain": [
       "     Blue  Green  Red  Canada   UK  USA\n",
       "0     0.0    0.0  1.0     0.0  0.0  1.0\n",
       "1     1.0    0.0  0.0     0.0  1.0  0.0\n",
       "2     0.0    1.0  0.0     1.0  0.0  0.0\n",
       "3     1.0    0.0  0.0     0.0  0.0  1.0\n",
       "4     1.0    0.0  0.0     0.0  0.0  1.0\n",
       "..    ...    ...  ...     ...  ...  ...\n",
       "295   0.0    0.0  1.0     1.0  0.0  0.0\n",
       "296   0.0    1.0  0.0     0.0  1.0  0.0\n",
       "297   0.0    1.0  0.0     0.0  1.0  0.0\n",
       "298   0.0    0.0  1.0     1.0  0.0  0.0\n",
       "299   0.0    0.0  1.0     1.0  0.0  0.0\n",
       "\n",
       "[300 rows x 6 columns]"
      ]
     },
     "execution_count": 18,
     "metadata": {},
     "output_type": "execute_result"
    }
   ],
   "source": [
    "pd.DataFrame(feature_arry, columns = feature_labels)"
   ]
  },
  {
   "cell_type": "code",
   "execution_count": 19,
   "id": "526529ca-dabb-4fb9-8fcf-93988a06c777",
   "metadata": {},
   "outputs": [],
   "source": [
    "features = pd.DataFrame(feature_arry, columns = feature_labels)"
   ]
  },
  {
   "cell_type": "code",
   "execution_count": 20,
   "id": "67ce59e7-c6b7-470a-a440-88644c111eb5",
   "metadata": {},
   "outputs": [
    {
     "name": "stdout",
     "output_type": "stream",
     "text": [
      "     Blue  Green  Red  Canada   UK  USA\n",
      "0     0.0    0.0  1.0     0.0  0.0  1.0\n",
      "1     1.0    0.0  0.0     0.0  1.0  0.0\n",
      "2     0.0    1.0  0.0     1.0  0.0  0.0\n",
      "3     1.0    0.0  0.0     0.0  0.0  1.0\n",
      "4     1.0    0.0  0.0     0.0  0.0  1.0\n",
      "..    ...    ...  ...     ...  ...  ...\n",
      "295   0.0    0.0  1.0     1.0  0.0  0.0\n",
      "296   0.0    1.0  0.0     0.0  1.0  0.0\n",
      "297   0.0    1.0  0.0     0.0  1.0  0.0\n",
      "298   0.0    0.0  1.0     1.0  0.0  0.0\n",
      "299   0.0    0.0  1.0     1.0  0.0  0.0\n",
      "\n",
      "[300 rows x 6 columns]\n"
     ]
    }
   ],
   "source": [
    "print(features)"
   ]
  },
  {
   "cell_type": "code",
   "execution_count": 21,
   "id": "4c2a1b48-ad8c-472e-8563-4fa95465dd52",
   "metadata": {},
   "outputs": [
    {
     "data": {
      "text/html": [
       "<div>\n",
       "<style scoped>\n",
       "    .dataframe tbody tr th:only-of-type {\n",
       "        vertical-align: middle;\n",
       "    }\n",
       "\n",
       "    .dataframe tbody tr th {\n",
       "        vertical-align: top;\n",
       "    }\n",
       "\n",
       "    .dataframe thead th {\n",
       "        text-align: right;\n",
       "    }\n",
       "</style>\n",
       "<table border=\"1\" class=\"dataframe\">\n",
       "  <thead>\n",
       "    <tr style=\"text-align: right;\">\n",
       "      <th></th>\n",
       "      <th>Blue</th>\n",
       "      <th>Green</th>\n",
       "      <th>Red</th>\n",
       "      <th>Canada</th>\n",
       "      <th>UK</th>\n",
       "      <th>USA</th>\n",
       "    </tr>\n",
       "  </thead>\n",
       "  <tbody>\n",
       "    <tr>\n",
       "      <th>0</th>\n",
       "      <td>0.0</td>\n",
       "      <td>0.0</td>\n",
       "      <td>1.0</td>\n",
       "      <td>0.0</td>\n",
       "      <td>0.0</td>\n",
       "      <td>1.0</td>\n",
       "    </tr>\n",
       "    <tr>\n",
       "      <th>1</th>\n",
       "      <td>1.0</td>\n",
       "      <td>0.0</td>\n",
       "      <td>0.0</td>\n",
       "      <td>0.0</td>\n",
       "      <td>1.0</td>\n",
       "      <td>0.0</td>\n",
       "    </tr>\n",
       "    <tr>\n",
       "      <th>2</th>\n",
       "      <td>0.0</td>\n",
       "      <td>1.0</td>\n",
       "      <td>0.0</td>\n",
       "      <td>1.0</td>\n",
       "      <td>0.0</td>\n",
       "      <td>0.0</td>\n",
       "    </tr>\n",
       "    <tr>\n",
       "      <th>3</th>\n",
       "      <td>1.0</td>\n",
       "      <td>0.0</td>\n",
       "      <td>0.0</td>\n",
       "      <td>0.0</td>\n",
       "      <td>0.0</td>\n",
       "      <td>1.0</td>\n",
       "    </tr>\n",
       "    <tr>\n",
       "      <th>4</th>\n",
       "      <td>1.0</td>\n",
       "      <td>0.0</td>\n",
       "      <td>0.0</td>\n",
       "      <td>0.0</td>\n",
       "      <td>0.0</td>\n",
       "      <td>1.0</td>\n",
       "    </tr>\n",
       "  </tbody>\n",
       "</table>\n",
       "</div>"
      ],
      "text/plain": [
       "   Blue  Green  Red  Canada   UK  USA\n",
       "0   0.0    0.0  1.0     0.0  0.0  1.0\n",
       "1   1.0    0.0  0.0     0.0  1.0  0.0\n",
       "2   0.0    1.0  0.0     1.0  0.0  0.0\n",
       "3   1.0    0.0  0.0     0.0  0.0  1.0\n",
       "4   1.0    0.0  0.0     0.0  0.0  1.0"
      ]
     },
     "execution_count": 21,
     "metadata": {},
     "output_type": "execute_result"
    }
   ],
   "source": [
    "features.head()"
   ]
  },
  {
   "cell_type": "code",
   "execution_count": 22,
   "id": "a913d90c-e849-416d-a7fb-2b4226f83b2d",
   "metadata": {},
   "outputs": [
    {
     "data": {
      "text/html": [
       "<div>\n",
       "<style scoped>\n",
       "    .dataframe tbody tr th:only-of-type {\n",
       "        vertical-align: middle;\n",
       "    }\n",
       "\n",
       "    .dataframe tbody tr th {\n",
       "        vertical-align: top;\n",
       "    }\n",
       "\n",
       "    .dataframe thead th {\n",
       "        text-align: right;\n",
       "    }\n",
       "</style>\n",
       "<table border=\"1\" class=\"dataframe\">\n",
       "  <thead>\n",
       "    <tr style=\"text-align: right;\">\n",
       "      <th></th>\n",
       "      <th>Id</th>\n",
       "      <th>Colour</th>\n",
       "      <th>Country</th>\n",
       "      <th>Blue</th>\n",
       "      <th>Green</th>\n",
       "      <th>Red</th>\n",
       "      <th>Canada</th>\n",
       "      <th>UK</th>\n",
       "      <th>USA</th>\n",
       "    </tr>\n",
       "  </thead>\n",
       "  <tbody>\n",
       "    <tr>\n",
       "      <th>0</th>\n",
       "      <td>1</td>\n",
       "      <td>Red</td>\n",
       "      <td>USA</td>\n",
       "      <td>0.0</td>\n",
       "      <td>0.0</td>\n",
       "      <td>1.0</td>\n",
       "      <td>0.0</td>\n",
       "      <td>0.0</td>\n",
       "      <td>1.0</td>\n",
       "    </tr>\n",
       "    <tr>\n",
       "      <th>1</th>\n",
       "      <td>2</td>\n",
       "      <td>Blue</td>\n",
       "      <td>UK</td>\n",
       "      <td>1.0</td>\n",
       "      <td>0.0</td>\n",
       "      <td>0.0</td>\n",
       "      <td>0.0</td>\n",
       "      <td>1.0</td>\n",
       "      <td>0.0</td>\n",
       "    </tr>\n",
       "    <tr>\n",
       "      <th>2</th>\n",
       "      <td>3</td>\n",
       "      <td>Green</td>\n",
       "      <td>Canada</td>\n",
       "      <td>0.0</td>\n",
       "      <td>1.0</td>\n",
       "      <td>0.0</td>\n",
       "      <td>1.0</td>\n",
       "      <td>0.0</td>\n",
       "      <td>0.0</td>\n",
       "    </tr>\n",
       "    <tr>\n",
       "      <th>3</th>\n",
       "      <td>4</td>\n",
       "      <td>Blue</td>\n",
       "      <td>USA</td>\n",
       "      <td>1.0</td>\n",
       "      <td>0.0</td>\n",
       "      <td>0.0</td>\n",
       "      <td>0.0</td>\n",
       "      <td>0.0</td>\n",
       "      <td>1.0</td>\n",
       "    </tr>\n",
       "    <tr>\n",
       "      <th>4</th>\n",
       "      <td>5</td>\n",
       "      <td>Blue</td>\n",
       "      <td>USA</td>\n",
       "      <td>1.0</td>\n",
       "      <td>0.0</td>\n",
       "      <td>0.0</td>\n",
       "      <td>0.0</td>\n",
       "      <td>0.0</td>\n",
       "      <td>1.0</td>\n",
       "    </tr>\n",
       "    <tr>\n",
       "      <th>...</th>\n",
       "      <td>...</td>\n",
       "      <td>...</td>\n",
       "      <td>...</td>\n",
       "      <td>...</td>\n",
       "      <td>...</td>\n",
       "      <td>...</td>\n",
       "      <td>...</td>\n",
       "      <td>...</td>\n",
       "      <td>...</td>\n",
       "    </tr>\n",
       "    <tr>\n",
       "      <th>295</th>\n",
       "      <td>296</td>\n",
       "      <td>Red</td>\n",
       "      <td>Canada</td>\n",
       "      <td>0.0</td>\n",
       "      <td>0.0</td>\n",
       "      <td>1.0</td>\n",
       "      <td>1.0</td>\n",
       "      <td>0.0</td>\n",
       "      <td>0.0</td>\n",
       "    </tr>\n",
       "    <tr>\n",
       "      <th>296</th>\n",
       "      <td>297</td>\n",
       "      <td>Green</td>\n",
       "      <td>UK</td>\n",
       "      <td>0.0</td>\n",
       "      <td>1.0</td>\n",
       "      <td>0.0</td>\n",
       "      <td>0.0</td>\n",
       "      <td>1.0</td>\n",
       "      <td>0.0</td>\n",
       "    </tr>\n",
       "    <tr>\n",
       "      <th>297</th>\n",
       "      <td>298</td>\n",
       "      <td>Green</td>\n",
       "      <td>UK</td>\n",
       "      <td>0.0</td>\n",
       "      <td>1.0</td>\n",
       "      <td>0.0</td>\n",
       "      <td>0.0</td>\n",
       "      <td>1.0</td>\n",
       "      <td>0.0</td>\n",
       "    </tr>\n",
       "    <tr>\n",
       "      <th>298</th>\n",
       "      <td>299</td>\n",
       "      <td>Red</td>\n",
       "      <td>Canada</td>\n",
       "      <td>0.0</td>\n",
       "      <td>0.0</td>\n",
       "      <td>1.0</td>\n",
       "      <td>1.0</td>\n",
       "      <td>0.0</td>\n",
       "      <td>0.0</td>\n",
       "    </tr>\n",
       "    <tr>\n",
       "      <th>299</th>\n",
       "      <td>300</td>\n",
       "      <td>Red</td>\n",
       "      <td>Canada</td>\n",
       "      <td>0.0</td>\n",
       "      <td>0.0</td>\n",
       "      <td>1.0</td>\n",
       "      <td>1.0</td>\n",
       "      <td>0.0</td>\n",
       "      <td>0.0</td>\n",
       "    </tr>\n",
       "  </tbody>\n",
       "</table>\n",
       "<p>300 rows × 9 columns</p>\n",
       "</div>"
      ],
      "text/plain": [
       "      Id Colour Country  Blue  Green  Red  Canada   UK  USA\n",
       "0      1    Red     USA   0.0    0.0  1.0     0.0  0.0  1.0\n",
       "1      2   Blue      UK   1.0    0.0  0.0     0.0  1.0  0.0\n",
       "2      3  Green  Canada   0.0    1.0  0.0     1.0  0.0  0.0\n",
       "3      4   Blue     USA   1.0    0.0  0.0     0.0  0.0  1.0\n",
       "4      5   Blue     USA   1.0    0.0  0.0     0.0  0.0  1.0\n",
       "..   ...    ...     ...   ...    ...  ...     ...  ...  ...\n",
       "295  296    Red  Canada   0.0    0.0  1.0     1.0  0.0  0.0\n",
       "296  297  Green      UK   0.0    1.0  0.0     0.0  1.0  0.0\n",
       "297  298  Green      UK   0.0    1.0  0.0     0.0  1.0  0.0\n",
       "298  299    Red  Canada   0.0    0.0  1.0     1.0  0.0  0.0\n",
       "299  300    Red  Canada   0.0    0.0  1.0     1.0  0.0  0.0\n",
       "\n",
       "[300 rows x 9 columns]"
      ]
     },
     "execution_count": 22,
     "metadata": {},
     "output_type": "execute_result"
    }
   ],
   "source": [
    "pd.concat([df, features], axis=1)"
   ]
  },
  {
   "cell_type": "code",
   "execution_count": 23,
   "id": "8cd630a7-7692-4a60-b52d-e89ff0a75bc4",
   "metadata": {},
   "outputs": [],
   "source": [
    "df_new = pd.concat([df, features], axis=1)"
   ]
  },
  {
   "cell_type": "code",
   "execution_count": 24,
   "id": "c47ba064-a72a-4a47-a2cd-c25425d5add8",
   "metadata": {},
   "outputs": [
    {
     "data": {
      "text/html": [
       "<div>\n",
       "<style scoped>\n",
       "    .dataframe tbody tr th:only-of-type {\n",
       "        vertical-align: middle;\n",
       "    }\n",
       "\n",
       "    .dataframe tbody tr th {\n",
       "        vertical-align: top;\n",
       "    }\n",
       "\n",
       "    .dataframe thead th {\n",
       "        text-align: right;\n",
       "    }\n",
       "</style>\n",
       "<table border=\"1\" class=\"dataframe\">\n",
       "  <thead>\n",
       "    <tr style=\"text-align: right;\">\n",
       "      <th></th>\n",
       "      <th>Id</th>\n",
       "      <th>Colour</th>\n",
       "      <th>Country</th>\n",
       "      <th>Blue</th>\n",
       "      <th>Green</th>\n",
       "      <th>Red</th>\n",
       "      <th>Canada</th>\n",
       "      <th>UK</th>\n",
       "      <th>USA</th>\n",
       "    </tr>\n",
       "  </thead>\n",
       "  <tbody>\n",
       "    <tr>\n",
       "      <th>0</th>\n",
       "      <td>1</td>\n",
       "      <td>Red</td>\n",
       "      <td>USA</td>\n",
       "      <td>0.0</td>\n",
       "      <td>0.0</td>\n",
       "      <td>1.0</td>\n",
       "      <td>0.0</td>\n",
       "      <td>0.0</td>\n",
       "      <td>1.0</td>\n",
       "    </tr>\n",
       "    <tr>\n",
       "      <th>1</th>\n",
       "      <td>2</td>\n",
       "      <td>Blue</td>\n",
       "      <td>UK</td>\n",
       "      <td>1.0</td>\n",
       "      <td>0.0</td>\n",
       "      <td>0.0</td>\n",
       "      <td>0.0</td>\n",
       "      <td>1.0</td>\n",
       "      <td>0.0</td>\n",
       "    </tr>\n",
       "    <tr>\n",
       "      <th>2</th>\n",
       "      <td>3</td>\n",
       "      <td>Green</td>\n",
       "      <td>Canada</td>\n",
       "      <td>0.0</td>\n",
       "      <td>1.0</td>\n",
       "      <td>0.0</td>\n",
       "      <td>1.0</td>\n",
       "      <td>0.0</td>\n",
       "      <td>0.0</td>\n",
       "    </tr>\n",
       "    <tr>\n",
       "      <th>3</th>\n",
       "      <td>4</td>\n",
       "      <td>Blue</td>\n",
       "      <td>USA</td>\n",
       "      <td>1.0</td>\n",
       "      <td>0.0</td>\n",
       "      <td>0.0</td>\n",
       "      <td>0.0</td>\n",
       "      <td>0.0</td>\n",
       "      <td>1.0</td>\n",
       "    </tr>\n",
       "    <tr>\n",
       "      <th>4</th>\n",
       "      <td>5</td>\n",
       "      <td>Blue</td>\n",
       "      <td>USA</td>\n",
       "      <td>1.0</td>\n",
       "      <td>0.0</td>\n",
       "      <td>0.0</td>\n",
       "      <td>0.0</td>\n",
       "      <td>0.0</td>\n",
       "      <td>1.0</td>\n",
       "    </tr>\n",
       "  </tbody>\n",
       "</table>\n",
       "</div>"
      ],
      "text/plain": [
       "   Id Colour Country  Blue  Green  Red  Canada   UK  USA\n",
       "0   1    Red     USA   0.0    0.0  1.0     0.0  0.0  1.0\n",
       "1   2   Blue      UK   1.0    0.0  0.0     0.0  1.0  0.0\n",
       "2   3  Green  Canada   0.0    1.0  0.0     1.0  0.0  0.0\n",
       "3   4   Blue     USA   1.0    0.0  0.0     0.0  0.0  1.0\n",
       "4   5   Blue     USA   1.0    0.0  0.0     0.0  0.0  1.0"
      ]
     },
     "execution_count": 24,
     "metadata": {},
     "output_type": "execute_result"
    }
   ],
   "source": [
    "df_new.head()"
   ]
  },
  {
   "cell_type": "markdown",
   "id": "0ee6cd21-78dc-492f-9870-8fe5ab79cfe6",
   "metadata": {},
   "source": [
    "### [▲](#Up)\n",
    "---"
   ]
  },
  {
   "cell_type": "markdown",
   "id": "1149183f-134d-4018-a24b-8f6e0064e6c7",
   "metadata": {},
   "source": [
    "<a class=\"anchor\" id='5'></a>"
   ]
  },
  {
   "cell_type": "markdown",
   "id": "347ee7af-4d05-4b4c-bd6f-fa5deb4b450c",
   "metadata": {},
   "source": [
    "<h1 style=\"background-color: #fff4d9; color: #0046d6; border-radius: 20px; text-align: center; padding-top: 20px; padding-bottom: 20px; font-family: 'Arial'\" >Bonus for your project : Word Cloud</h1>"
   ]
  },
  {
   "cell_type": "markdown",
   "id": "157a3991-af34-4e78-b087-a72ae94c655a",
   "metadata": {},
   "source": [
    "## Word Cloud ☁️"
   ]
  },
  {
   "cell_type": "markdown",
   "id": "aa9ae5d4-dc7a-451e-a153-53cf856c23f9",
   "metadata": {},
   "source": [
    "#### If you want to use this library in the future, you will need the following commands first."
   ]
  },
  {
   "cell_type": "raw",
   "id": "270d8d81-8fc0-41f4-892b-71d2fd9e2c3a",
   "metadata": {},
   "source": [
    "!pip install wordcloud"
   ]
  },
  {
   "cell_type": "raw",
   "id": "8ddde7bd-0814-4cd7-882e-0e1fc3e6f451",
   "metadata": {},
   "source": [
    "pip install --upgrade pip\n",
    "pip install --upgrade Pillow"
   ]
  },
  {
   "cell_type": "markdown",
   "id": "a15aa91b-23b5-4654-bb7b-325dcb1ec712",
   "metadata": {},
   "source": [
    "### Import libraries :"
   ]
  },
  {
   "cell_type": "code",
   "execution_count": 1,
   "id": "6e2f81fa-8ac6-4762-9b44-0e1e35d1fcbf",
   "metadata": {},
   "outputs": [],
   "source": [
    "import pandas as pd\n",
    "import matplotlib.pyplot as plt\n",
    "import numpy as np\n",
    "from PIL import Image\n",
    "from wordcloud import WordCloud, STOPWORDS, ImageColorGenerator"
   ]
  },
  {
   "cell_type": "markdown",
   "id": "7ba5e94b-90cd-4da5-aa37-220a44c251e0",
   "metadata": {},
   "source": [
    ">* __Pillow:__ pillow library is used for collecting different images for the word cloud generation, Used as PIL."
   ]
  },
  {
   "cell_type": "code",
   "execution_count": 2,
   "id": "a9c04953-8290-428c-ae1e-d08d151800b6",
   "metadata": {},
   "outputs": [],
   "source": [
    "text = \"This is a sample text that we will use to create a word cloud Now I will write more additional words to produce a lot of occurrences of different words and among them will be words that are not related to the sentence at all so that the illustration will be distributed in a random way\"\n",
    "\n",
    "wordcloud = WordCloud().generate(text)\n"
   ]
  },
  {
   "cell_type": "markdown",
   "id": "831bad5d-37aa-4b17-b5ce-ec719462cf9b",
   "metadata": {},
   "source": [
    "#### Basic view :"
   ]
  },
  {
   "cell_type": "code",
   "execution_count": 3,
   "id": "1c0f8d0f-7668-448d-89ce-c4f5110ddcf9",
   "metadata": {},
   "outputs": [
    {
     "data": {
      "image/png": "[encoded data removed]",
      "text/plain": [
       "<Figure size 432x288 with 1 Axes>"
      ]
     },
     "metadata": {
      "needs_background": "light"
     },
     "output_type": "display_data"
    }
   ],
   "source": [
    "plt.imshow(wordcloud, interpolation='bilinear')\n",
    "plt.axis(\"off\")\n",
    "plt.show()"
   ]
  },
  {
   "cell_type": "markdown",
   "id": "44157798-082a-4cd2-ba09-150f90cc096f",
   "metadata": {},
   "source": [
    ">* __wordcloud():__ It was imported from the WordCloud library. This function will generate a word cloud.\n",
    ">* __.generate method:__ In .generation method contain one argument of the text data (which we want to create a word cloud). The syntax is .generate(text)\n",
    ">* __imshow():__ imshow function will display the image."
   ]
  },
  {
   "cell_type": "markdown",
   "id": "dd2dd576-f0fb-456f-af05-d0ed9095e462",
   "metadata": {},
   "source": [
    "#### Advance changes:"
   ]
  },
  {
   "cell_type": "code",
   "execution_count": 4,
   "id": "f18522b9-3a7c-438c-b232-3743b2ffa8ac",
   "metadata": {},
   "outputs": [
    {
     "data": {
      "image/png": "[encoded data removed]",
      "text/plain": [
       "<Figure size 432x288 with 1 Axes>"
      ]
     },
     "metadata": {
      "needs_background": "light"
     },
     "output_type": "display_data"
    }
   ],
   "source": [
    "#change font_size, max_word and background_color\n",
    "wordcloud = WordCloud(max_font_size=50, max_words=10, background_color=\"white\").generate(text)\n",
    "#Display the image\n",
    "plt.imshow(wordcloud, interpolation=\"bilinear\")\n",
    "plt.axis(\"off\")\n",
    "plt.show()"
   ]
  },
  {
   "cell_type": "markdown",
   "id": "6192f955-87db-492b-a61d-563ef5fa68ce",
   "metadata": {},
   "source": [
    ">* __max_font_size:__ This argument defines the maximum font size for the biggest word. If none, adjust as image height.\n",
    ">* __max_words:__ It specifies the maximum number of the word, default is 200.\n",
    ">* __background_color:__ It set up the background color of the word cloud image, by default the color is defined as black.\n",
    "To display word cloud image `.imshow()` method of matplotlib.pyplot is used. In the above code, we are using two parameters:\n",
    ">* __wordcloud:__ created in the above step\n",
    ">* __interpolation=”bilinear”:__ used to display smoother image."
   ]
  },
  {
   "cell_type": "code",
   "execution_count": 5,
   "id": "d361d172-a7fa-43d5-9abc-56a49aaf9f24",
   "metadata": {},
   "outputs": [
    {
     "data": {
      "image/png": "[encoded data removed]",
      "text/plain": [
       "<Figure size 432x288 with 1 Axes>"
      ]
     },
     "metadata": {
      "needs_background": "light"
     },
     "output_type": "display_data"
    }
   ],
   "source": [
    "# Create stopword\n",
    "stopwords = set(STOPWORDS)\n",
    "# Generate a word cloud image\n",
    "wordcloud = WordCloud(width = 3000, height = 2000, random_state=1, background_color='black', colormap='Set2', collocations=False, stopwords = STOPWORDS).generate(text)\n",
    "# Display the generated image\n",
    "plt.imshow(wordcloud, interpolation='bilinear')\n",
    "plt.axis(\"off\")\n",
    "plt.show()"
   ]
  },
  {
   "cell_type": "markdown",
   "id": "7fb53edd-581d-47ba-8533-2481f5217cd1",
   "metadata": {},
   "source": [
    "### The description of the following arguments is below\n",
    ">\n",
    ">* __width/height:__ we can change the dimension of the canvas using these arguments. Here we assign width as 3000 and height as 2000.\n",
    "\n",
    ">* __random_state:__  It will return PIL color for each word, set as an int value. \n",
    "\n",
    ">* __background_color:__ It is used for the background color of the word cloud image. If you want to add a    different color, you can explore this website.\n",
    "\n",
    ">* __colormap:__ using this argument we can change each word color. Matplotlib colormaps provide awesome colors.\n",
    "\n",
    ">* __collocation:__ collocation argument is set to FALSE to ensure that the word cloud doesn’t contain any   bigrams or duplicate words.\n",
    "\n",
    ">* __stopwords:__ ‘stop_words’ are those words that are commonly used in the English language such as ‘we’,  ‘the’, ‘a’, ‘an’, etc. thus, we have to eliminate those words. we already imported the STOPWORDS function > from the WordCloud library."
   ]
  },
  {
   "cell_type": "markdown",
   "id": "f3eefdac-be3c-473e-b9be-57fc6c395df4",
   "metadata": {},
   "source": [
    "---\n",
    "### Using mask:\n",
    "To create a custom shape, `WordCloud` function has a mask argument enabling it to take maskable images. \n",
    "We add the ‘cloud.png’ image using the NumPy array and store it as a mask variable. \n",
    "Here we are changing some more arguments to create an attractive word cloud. \n",
    "The arguments description as:\n",
    "\n",
    ">* __mask:__ Specify the shape of the word cloud image. By default, it takes a rectangle. As we know we have created a variable as a mask assign it to the mask parameter.\n",
    ">* __Contour_width:__ This parameter creates an outline of the word cloud mask. We set the width of the mask image is as 3.\n",
    ">* __Contour_color:__ Contour_color use for the outline color of the mask image. It can be a string or color code. Here we use color code as ‘#023075’."
   ]
  },
  {
   "cell_type": "code",
   "execution_count": 6,
   "id": "6b539b5b-3b91-436c-8c00-59c134252285",
   "metadata": {},
   "outputs": [
    {
     "data": {
      "image/png": "[encoded data removed]",
      "text/plain": [
       "<Figure size 432x288 with 1 Axes>"
      ]
     },
     "metadata": {
      "needs_background": "light"
     },
     "output_type": "display_data"
    }
   ],
   "source": [
    "# Generate a word cloud image\n",
    "stopwords = set(STOPWORDS)\n",
    "mask = np.array(Image.open(\"apple logo png transparent Download png.png\"))\n",
    "wordcloud = WordCloud(stopwords=stopwords,background_color='white', max_words=1000, mask=mask,contour_color='#023075',contour_width=3,colormap='rainbow').generate(text)\n",
    "# create image as cloud\n",
    "plt.figure()\n",
    "plt.imshow(wordcloud, interpolation=\"bilinear\")\n",
    "plt.axis(\"off\")\n",
    "# store to file\n",
    "plt.savefig(\"cloud.png\", format=\"png\")\n",
    "plt.show()\n"
   ]
  },
  {
   "cell_type": "markdown",
   "id": "cdc54558-65e1-4d16-b5c6-f960c037f1bb",
   "metadata": {},
   "source": [
    "see more here : [click here](https://www.kaggle.com/code/tarzon/custom-word-cloud)"
   ]
  },
  {
   "cell_type": "markdown",
   "id": "9b2884cc-6f53-4a36-bda3-3a13e7f78e22",
   "metadata": {},
   "source": [
    "### [▲](#Top)"
   ]
  },
  {
   "cell_type": "code",
   "execution_count": null,
   "id": "6174cf8c-0ca4-49b8-8e79-4324bfc5e84a",
   "metadata": {},
   "outputs": [],
   "source": []
  },
  {
   "cell_type": "code",
   "execution_count": null,
   "id": "716afc57-14fa-4669-a7c7-74b5c8248477",
   "metadata": {},
   "outputs": [],
   "source": []
  }
 ],
 "metadata": {
  "kernelspec": {
   "display_name": "Python 3 (ipykernel)",
   "language": "python",
   "name": "python3"
  },
  "language_info": {
   "codemirror_mode": {
    "name": "ipython",
    "version": 3
   },
   "file_extension": ".py",
   "mimetype": "text/x-python",
   "name": "python",
   "nbconvert_exporter": "python",
   "pygments_lexer": "ipython3",
   "version": "3.10.2"
  }
 },
 "nbformat": 4,
 "nbformat_minor": 5
}
