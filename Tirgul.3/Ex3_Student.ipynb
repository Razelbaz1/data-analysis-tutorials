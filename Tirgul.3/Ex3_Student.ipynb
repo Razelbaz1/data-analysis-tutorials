{
 "cells": [
  {
   "cell_type": "markdown",
   "id": "6cc6cff2-bd9c-45aa-a3a6-54ef7b1206ea",
   "metadata": {},
   "source": [
    "# Exercise no. 3\n",
    "---"
   ]
  },
  {
   "cell_type": "markdown",
   "id": "a3a2d8b1-6635-4388-ac24-1e1ff305c91b",
   "metadata": {},
   "source": [
    "## Missing Values & DateTime format"
   ]
  },
  {
   "cell_type": "markdown",
   "id": "c16ed2be-0be9-4547-916b-cf2b853da62a",
   "metadata": {},
   "source": [
    "<div>\n",
    "<img src=\"https://github.com/Razelbaz1/exercises-package/blob/master/pics/39935Missing%20Values%201.png?raw=true\"/>\n",
    "</div>"
   ]
  },
  {
   "cell_type": "code",
   "execution_count": null,
   "id": "9e049baa-2212-4a54-ac14-615e9d91587d",
   "metadata": {},
   "outputs": [],
   "source": [
    "import pandas as pd\n",
    "#df = pd.read_csv(\"weather_data.csv\",parse_dates=['day'])\n",
    "\n",
    "# or \n",
    "df = pd.read_csv(\"https://raw.githubusercontent.com/Razelbaz1/exercises-package/master/data/weather_data.csv\")\n"
   ]
  },
  {
   "cell_type": "markdown",
   "id": "84b62383-36c9-4574-85cf-386bf401ff33",
   "metadata": {},
   "source": [
    "##### 1. Display the data - what can be said about the time format? \n",
    "Propose a way to correct it."
   ]
  },
  {
   "cell_type": "code",
   "execution_count": null,
   "id": "6f179ab8-5a27-440d-9f70-057dcf3ad938",
   "metadata": {},
   "outputs": [],
   "source": []
  },
  {
   "cell_type": "code",
   "execution_count": null,
   "id": "6e7a7d98-c693-422e-a3a1-ba9305844838",
   "metadata": {},
   "outputs": [],
   "source": []
  },
  {
   "cell_type": "markdown",
   "id": "f2af17ff-5007-4f7b-9d87-a963587fc0f0",
   "metadata": {},
   "source": [
    "##### 2. How many missing values are there in each column?\n",
    "\n",
    "##### Provide an appropriate name for a column that will display the count of missing values."
   ]
  },
  {
   "cell_type": "code",
   "execution_count": null,
   "id": "107bac2a-6aea-482b-93f6-46fdd97812dd",
   "metadata": {},
   "outputs": [],
   "source": []
  },
  {
   "cell_type": "code",
   "execution_count": null,
   "id": "d12b9361-29b9-48df-9191-4c9527a4f76a",
   "metadata": {},
   "outputs": [],
   "source": []
  },
  {
   "cell_type": "markdown",
   "id": "42f39f2d-d563-4499-a6fc-13a0edb75f63",
   "metadata": {},
   "source": [
    "##### 3. Display the data where there are __no__ missing values in the 'Temperature' column, while there __may be__ missing values in the other columns.\n"
   ]
  },
  {
   "cell_type": "code",
   "execution_count": null,
   "id": "0c8641fc-99a7-4f6f-8761-dcc1cd57ce07",
   "metadata": {},
   "outputs": [],
   "source": []
  },
  {
   "cell_type": "code",
   "execution_count": null,
   "id": "2b4feb66-3e06-4544-934e-6c93271b669e",
   "metadata": {},
   "outputs": [],
   "source": []
  },
  {
   "cell_type": "markdown",
   "id": "d329f478-c76b-465c-bdba-5ae874322d77",
   "metadata": {},
   "source": [
    "##### 4. Fill in the missing values with the number 0. Is this a reasonable imputation method?\n",
    "##### Explain why or why not."
   ]
  },
  {
   "cell_type": "code",
   "execution_count": null,
   "id": "4fa31337-73c1-4f66-b995-b830ece10694",
   "metadata": {},
   "outputs": [],
   "source": []
  },
  {
   "cell_type": "code",
   "execution_count": null,
   "id": "13cf30ee-62fb-418a-845f-9fb819a33305",
   "metadata": {},
   "outputs": [],
   "source": []
  },
  {
   "cell_type": "markdown",
   "id": "28616c94-3a1e-4ef8-8e9f-68252f04a9d7",
   "metadata": {},
   "source": [
    "##### 5. Suggest an alternative solution to overcome the issue encountered in the previous question."
   ]
  },
  {
   "cell_type": "markdown",
   "id": "310549b0-b236-4071-b946-d433c1e7a236",
   "metadata": {
    "jp-MarkdownHeadingCollapsed": true
   },
   "source": [
    "##### Hint"
   ]
  },
  {
   "cell_type": "markdown",
   "id": "ddfb08f5-3301-4db8-998c-447b95e1b936",
   "metadata": {},
   "source": [
    "use fillna with dictionary method"
   ]
  },
  {
   "cell_type": "markdown",
   "id": "e3232552-0c49-474b-9e7b-5dcfb07ab6e6",
   "metadata": {},
   "source": [
    "### Type your Ans down here"
   ]
  },
  {
   "cell_type": "code",
   "execution_count": null,
   "id": "d3095b28-e977-4ca5-8228-bcdfa0114b80",
   "metadata": {},
   "outputs": [],
   "source": []
  },
  {
   "cell_type": "code",
   "execution_count": null,
   "id": "dc0f4e9f-5b55-4cbb-85f5-94a656271799",
   "metadata": {},
   "outputs": [],
   "source": []
  },
  {
   "cell_type": "markdown",
   "id": "7473298a-4c87-4cc6-bf71-59437163be5d",
   "metadata": {},
   "source": [
    "##### 6. Show the use of filling missing values with `ffill` , `bfill`, `axis` ."
   ]
  },
  {
   "cell_type": "code",
   "execution_count": null,
   "id": "506a5c9d-3d8e-4b2f-ab8f-31f7a88cc5a4",
   "metadata": {},
   "outputs": [],
   "source": []
  },
  {
   "cell_type": "code",
   "execution_count": null,
   "id": "53089cf6-ff86-4f19-a730-11012bf93fc5",
   "metadata": {},
   "outputs": [],
   "source": []
  },
  {
   "cell_type": "markdown",
   "id": "acb0e554-8167-4cbb-9db9-c9b2fe2af0a2",
   "metadata": {},
   "source": [
    "##### 7. Limit the filling of missing values for only one specific value. Recommendation: Press `Shift + Tab` after left-clicking __inside__ the function."
   ]
  },
  {
   "cell_type": "code",
   "execution_count": null,
   "id": "3d00b653-b704-43fe-b09d-f73019538ddc",
   "metadata": {},
   "outputs": [],
   "source": []
  },
  {
   "cell_type": "code",
   "execution_count": null,
   "id": "8be06746-a8a3-4569-8a4e-d09744ffa20f",
   "metadata": {},
   "outputs": [],
   "source": []
  },
  {
   "cell_type": "markdown",
   "id": "b984c8a1-e5f0-4b1e-a1f8-3ad0f2e285a3",
   "metadata": {},
   "source": [
    "#### 8. Bonus: #### \n",
    "Complete the missing values based on the average temperature. \r\n",
    "Then, display an appropriate graph that shows temperature on the y-axis and date on the x-axis"
   ]
  },
  {
   "cell_type": "code",
   "execution_count": null,
   "id": "dc26db6b-e9da-4e19-9fd9-6c5d25b073de",
   "metadata": {},
   "outputs": [],
   "source": []
  },
  {
   "cell_type": "code",
   "execution_count": null,
   "id": "a2873c3b-2157-46d5-968e-9ac797b2b731",
   "metadata": {},
   "outputs": [],
   "source": []
  },
  {
   "cell_type": "markdown",
   "id": "37b83047-1f33-49f5-95ab-ed3eec85a828",
   "metadata": {},
   "source": [
    "#### 9.1. Complete the values using `.interpolate()`."
   ]
  },
  {
   "cell_type": "code",
   "execution_count": null,
   "id": "1346e602-a860-4644-b03c-7e8a7046acc9",
   "metadata": {},
   "outputs": [],
   "source": []
  },
  {
   "cell_type": "code",
   "execution_count": null,
   "id": "04ca938d-ff6a-4430-943d-c5fb3ef54bce",
   "metadata": {},
   "outputs": [],
   "source": []
  },
  {
   "cell_type": "markdown",
   "id": "dd7558e4-a942-4930-bf3a-b1b8c558d053",
   "metadata": {},
   "source": [
    "#### 9.2. Press `Shift + Tab` when you've selected the function, which method can you pass in?"
   ]
  },
  {
   "cell_type": "code",
   "execution_count": null,
   "id": "67f9277c-b5be-4b3e-a61a-92ec32d8f0f1",
   "metadata": {},
   "outputs": [],
   "source": []
  },
  {
   "cell_type": "code",
   "execution_count": null,
   "id": "70328f4a-98a9-45ad-9822-f40b222f14bb",
   "metadata": {},
   "outputs": [],
   "source": []
  },
  {
   "cell_type": "markdown",
   "id": "64a117a7-ca72-460b-bef6-84e1c1921706",
   "metadata": {},
   "source": [
    "#### 10.1 . Use the `.dropna()` function. Show how the output will look now."
   ]
  },
  {
   "cell_type": "code",
   "execution_count": null,
   "id": "0a5ba85e-ed57-42e2-98db-992995220ecc",
   "metadata": {},
   "outputs": [],
   "source": []
  },
  {
   "cell_type": "code",
   "execution_count": null,
   "id": "cee7854f-998c-4293-ad81-8194c9f09ef8",
   "metadata": {},
   "outputs": [],
   "source": []
  },
  {
   "cell_type": "markdown",
   "id": "283c3ff2-8b6b-4a91-95d4-aca6dc367833",
   "metadata": {},
   "source": [
    "#### 10.2 Press `Shift + Tab` when you've selected the function,What method can we use to set conditions for imputing missing values  ?"
   ]
  },
  {
   "cell_type": "code",
   "execution_count": null,
   "id": "3298fcf0-8eeb-4c1e-b95c-2b4a18b607b8",
   "metadata": {},
   "outputs": [],
   "source": []
  },
  {
   "cell_type": "code",
   "execution_count": null,
   "id": "3ca4e852-7c04-4fba-a17e-a7066ab4037c",
   "metadata": {},
   "outputs": [],
   "source": []
  },
  {
   "cell_type": "markdown",
   "id": "a3192d3c-164f-4f02-9c2a-75443daf9828",
   "metadata": {},
   "source": [
    "#### 11. It seems that our index column, which is defined by date, only displays data for the dates where information was entered. Complete the missing dates."
   ]
  },
  {
   "cell_type": "code",
   "execution_count": null,
   "id": "fb102f22-9908-4dd8-a2d2-4f76b45afbba",
   "metadata": {},
   "outputs": [],
   "source": []
  },
  {
   "cell_type": "code",
   "execution_count": null,
   "id": "9b141664-6b63-4166-a676-377531d87c83",
   "metadata": {},
   "outputs": [],
   "source": []
  },
  {
   "cell_type": "code",
   "execution_count": null,
   "id": "203209e7-3017-4c49-9b29-41ca135a7e41",
   "metadata": {},
   "outputs": [],
   "source": []
  },
  {
   "cell_type": "markdown",
   "id": "7d91b9a0-3bcc-464b-821c-2fbb5870337f",
   "metadata": {},
   "source": [
    "#### 12. Remove rows with missing values by 'temperature' column only"
   ]
  },
  {
   "cell_type": "code",
   "execution_count": null,
   "id": "639d5115-d266-4b34-bc84-e4ed570e73cd",
   "metadata": {},
   "outputs": [],
   "source": []
  },
  {
   "cell_type": "code",
   "execution_count": null,
   "id": "37f4d701-7fe9-4faa-b490-e8eca35e102c",
   "metadata": {},
   "outputs": [],
   "source": []
  },
  {
   "cell_type": "code",
   "execution_count": null,
   "id": "10edca2f-43b2-431f-8a0c-d67f6e5955f5",
   "metadata": {},
   "outputs": [],
   "source": []
  },
  {
   "cell_type": "code",
   "execution_count": null,
   "id": "0ef7838b-92ca-4101-8b1e-cde00384eee7",
   "metadata": {},
   "outputs": [],
   "source": [
    "import pandas as pd\n",
    "url = 'https://raw.githubusercontent.com/nlihin/data-analytics/main/datasets/italy-covid-daywise.csv'\n",
    "covid_df = pd.read_csv(url)\n",
    "covid_df.tail()"
   ]
  },
  {
   "cell_type": "code",
   "execution_count": null,
   "id": "658779ad-99d7-4e6e-b2f5-59d314910b66",
   "metadata": {},
   "outputs": [],
   "source": []
  },
  {
   "cell_type": "code",
   "execution_count": null,
   "id": "623a37ee-6e56-413c-a784-8daada95dc28",
   "metadata": {},
   "outputs": [],
   "source": []
  },
  {
   "cell_type": "markdown",
   "id": "92f0eb53-92ac-413e-ad73-68e29fb0abe2",
   "metadata": {},
   "source": [
    "---\n",
    "### More practice "
   ]
  },
  {
   "cell_type": "code",
   "execution_count": null,
   "id": "e3c8bf1b-37a7-47ce-988f-f0ce04fd7304",
   "metadata": {},
   "outputs": [],
   "source": [
    "# self learning:.\n",
    "# 1. calculate total deaths in May at the above 'italy-covid-daywise.csv' url\n",
    "# 2. python pandas datetime excercises (with solutions):\n",
    "# https://www.w3resource.com/python-exercises/pandas/datetime/index.php\n",
    "\n",
    "# Read tirgul 5 on SeaBorn (not matplotlib)"
   ]
  },
  {
   "cell_type": "code",
   "execution_count": null,
   "id": "1e2a9c0f-732e-4995-ab6d-1d2ecba8ad35",
   "metadata": {},
   "outputs": [],
   "source": []
  },
  {
   "cell_type": "code",
   "execution_count": null,
   "id": "5860c037-104e-4c84-9e57-3676d6aea71c",
   "metadata": {},
   "outputs": [],
   "source": []
  },
  {
   "cell_type": "code",
   "execution_count": null,
   "id": "413f034a-f2cc-4a12-9e32-02bbae6cccd4",
   "metadata": {},
   "outputs": [],
   "source": [
    "# print todays date in pandas:\n",
    "# import pandas as pd\n",
    "from datetime import date # get python datetime\n",
    "print(date.today())"
   ]
  }
 ],
 "metadata": {
  "kernelspec": {
   "display_name": "Python 3 (ipykernel)",
   "language": "python",
   "name": "python3"
  },
  "language_info": {
   "codemirror_mode": {
    "name": "ipython",
    "version": 3
   },
   "file_extension": ".py",
   "mimetype": "text/x-python",
   "name": "python",
   "nbconvert_exporter": "python",
   "pygments_lexer": "ipython3",
   "version": "3.10.2"
  }
 },
 "nbformat": 4,
 "nbformat_minor": 5
}
