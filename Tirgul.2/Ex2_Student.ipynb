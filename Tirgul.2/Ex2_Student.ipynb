{
 "cells": [
  {
   "cell_type": "markdown",
   "id": "ae29c6fa-e8a9-45e9-8b67-9b9d76693ad9",
   "metadata": {},
   "source": [
    "# Exercise no. 2\n",
    "---"
   ]
  },
  {
   "cell_type": "markdown",
   "id": "a99db20e-3366-468a-ae2b-dcc947895d4f",
   "metadata": {},
   "source": [
    "## What will we talk about today?"
   ]
  },
  {
   "cell_type": "markdown",
   "id": "46f9f5f5-30bb-48eb-a84b-754fb880176d",
   "metadata": {},
   "source": [
    "1. [Pandas](#section1)\n",
    "2. [Numpy](#section2)\n",
    "3. [Random](#section3)\n",
    "4. [conditional selection](#section4)\n",
    "\n",
    "---"
   ]
  },
  {
   "cell_type": "markdown",
   "id": "421528d5-1485-4c3d-8da5-7f760f3a0824",
   "metadata": {},
   "source": [
    "<b id=\"Top\"> </b>  \n"
   ]
  },
  {
   "cell_type": "markdown",
   "id": "137625e5-a2af-4cc7-b2e3-bd48d6833a72",
   "metadata": {},
   "source": [
    "<a id='section1'></a>"
   ]
  },
  {
   "cell_type": "markdown",
   "id": "722ab18c-a5b9-4844-bbd0-0ff10ed7dd51",
   "metadata": {},
   "source": [
    "<div class=\"image-container\">\n",
    "  <img src= \"https://github.com/Razelbaz1/exercises-package/blob/master/pics/Reading-and-Writing-Data-With-Pandas_Watermarked.png?raw=true\"\n",
    "    alt=\"Centered Image\" width=\"800\" height=\"200\" /> </div>\n"
   ]
  },
  {
   "cell_type": "markdown",
   "id": "7e30d961-da33-419a-bc27-167a593d2264",
   "metadata": {},
   "source": [
    "\n",
    "  }\r\n",
    "</style>\n",
    "<div class=\"image-container\">\n",
    "  <img src= \"https://github.com/Razelbaz1/exercises-package/blob/master/pics/iloc_working.png?raw=true\"\n",
    "    alt=\"Centered Image\" width=\"400\" height=\"400\" /> </div>\n"
   ]
  },
  {
   "cell_type": "code",
   "execution_count": 2,
   "id": "7755c334-6e43-4c4b-8cb8-b0fc552a94ce",
   "metadata": {},
   "outputs": [
    {
     "data": {
      "text/html": [
       "<div>\n",
       "<style scoped>\n",
       "    .dataframe tbody tr th:only-of-type {\n",
       "        vertical-align: middle;\n",
       "    }\n",
       "\n",
       "    .dataframe tbody tr th {\n",
       "        vertical-align: top;\n",
       "    }\n",
       "\n",
       "    .dataframe thead th {\n",
       "        text-align: right;\n",
       "    }\n",
       "</style>\n",
       "<table border=\"1\" class=\"dataframe\">\n",
       "  <thead>\n",
       "    <tr style=\"text-align: right;\">\n",
       "      <th></th>\n",
       "      <th>Condition</th>\n",
       "      <th>Subject_ID</th>\n",
       "      <th>Trial</th>\n",
       "      <th>Group</th>\n",
       "    </tr>\n",
       "  </thead>\n",
       "  <tbody>\n",
       "    <tr>\n",
       "      <th>0</th>\n",
       "      <td>Affect</td>\n",
       "      <td>1</td>\n",
       "      <td>1</td>\n",
       "      <td>Control</td>\n",
       "    </tr>\n",
       "    <tr>\n",
       "      <th>1</th>\n",
       "      <td>Affect</td>\n",
       "      <td>1</td>\n",
       "      <td>2</td>\n",
       "      <td>Control</td>\n",
       "    </tr>\n",
       "    <tr>\n",
       "      <th>2</th>\n",
       "      <td>Affect</td>\n",
       "      <td>1</td>\n",
       "      <td>3</td>\n",
       "      <td>Control</td>\n",
       "    </tr>\n",
       "    <tr>\n",
       "      <th>3</th>\n",
       "      <td>Affect</td>\n",
       "      <td>1</td>\n",
       "      <td>4</td>\n",
       "      <td>Control</td>\n",
       "    </tr>\n",
       "    <tr>\n",
       "      <th>4</th>\n",
       "      <td>Affect</td>\n",
       "      <td>1</td>\n",
       "      <td>5</td>\n",
       "      <td>Control</td>\n",
       "    </tr>\n",
       "    <tr>\n",
       "      <th>5</th>\n",
       "      <td>Affect</td>\n",
       "      <td>1</td>\n",
       "      <td>6</td>\n",
       "      <td>Control</td>\n",
       "    </tr>\n",
       "    <tr>\n",
       "      <th>6</th>\n",
       "      <td>Affect</td>\n",
       "      <td>1</td>\n",
       "      <td>7</td>\n",
       "      <td>Control</td>\n",
       "    </tr>\n",
       "    <tr>\n",
       "      <th>7</th>\n",
       "      <td>Affect</td>\n",
       "      <td>1</td>\n",
       "      <td>8</td>\n",
       "      <td>Control</td>\n",
       "    </tr>\n",
       "    <tr>\n",
       "      <th>8</th>\n",
       "      <td>Affect</td>\n",
       "      <td>1</td>\n",
       "      <td>9</td>\n",
       "      <td>Control</td>\n",
       "    </tr>\n",
       "    <tr>\n",
       "      <th>9</th>\n",
       "      <td>Affect</td>\n",
       "      <td>1</td>\n",
       "      <td>10</td>\n",
       "      <td>Control</td>\n",
       "    </tr>\n",
       "  </tbody>\n",
       "</table>\n",
       "</div>"
      ],
      "text/plain": [
       "  Condition  Subject_ID  Trial    Group\n",
       "0    Affect           1      1  Control\n",
       "1    Affect           1      2  Control\n",
       "2    Affect           1      3  Control\n",
       "3    Affect           1      4  Control\n",
       "4    Affect           1      5  Control\n",
       "5    Affect           1      6  Control\n",
       "6    Affect           1      7  Control\n",
       "7    Affect           1      8  Control\n",
       "8    Affect           1      9  Control\n",
       "9    Affect           1     10  Control"
      ]
     },
     "execution_count": 2,
     "metadata": {},
     "output_type": "execute_result"
    }
   ],
   "source": [
    "import pandas as pd\n",
    "\n",
    "# Create some variables\n",
    "trials = range(1, 21)\n",
    "n_rows = len(trials)\n",
    "subj_id = [1]*n_rows\n",
    "group = ['Control']*n_rows\n",
    "condition = ['Affect']*int((n_rows/2)) + ['Neutral']*int((n_rows/2))\n",
    "\n",
    "# Create a dictionairy\n",
    "data = {'Condition':condition, 'Subject_ID':subj_id, \n",
    "        'Trial':trials, 'Group':group}\n",
    "\n",
    "# Create the dataframe\n",
    "df = pd.DataFrame(data)\n",
    "df.head(10)"
   ]
  },
  {
   "cell_type": "markdown",
   "id": "8097627c-205a-462a-99fc-bc44a2612c43",
   "metadata": {},
   "source": [
    "#### 1. Select row five to 10 __without__ using loc / iloc\n"
   ]
  },
  {
   "cell_type": "code",
   "execution_count": 1,
   "id": "7a7cfa2c-d63d-4d39-bc50-2ebccac95593",
   "metadata": {},
   "outputs": [],
   "source": [
    "# Select row five to 10 "
   ]
  },
  {
   "cell_type": "markdown",
   "id": "88bb66a5-aa1f-4207-8754-14a8cfa1c0a2",
   "metadata": {},
   "source": [
    "#### 2. Select row five to 10 by using loc "
   ]
  },
  {
   "cell_type": "code",
   "execution_count": null,
   "id": "66b22608-f724-4d92-a950-3a18c154227c",
   "metadata": {},
   "outputs": [],
   "source": []
  },
  {
   "cell_type": "markdown",
   "id": "68bd6f55-9617-42a2-9380-404569c61256",
   "metadata": {},
   "source": [
    "#### 3. Show only the value from row number 0 under the \"Conditions\" column"
   ]
  },
  {
   "cell_type": "code",
   "execution_count": null,
   "id": "162999b0-6802-42fa-a832-158071745c55",
   "metadata": {},
   "outputs": [],
   "source": []
  },
  {
   "cell_type": "markdown",
   "id": "55fefb18-6f97-4774-adc7-72a49d8697a1",
   "metadata": {},
   "source": [
    "#### 4.1  print only the \"Conditions\" column , show all rows"
   ]
  },
  {
   "cell_type": "code",
   "execution_count": 2,
   "id": "cc6e7b3e-c7f9-4e6b-bf0e-a26bc3fc7b5a",
   "metadata": {},
   "outputs": [],
   "source": [
    "# Printing out one column\n"
   ]
  },
  {
   "cell_type": "markdown",
   "id": "247597e1-6f02-4cac-a2dc-87e02997f0e0",
   "metadata": {},
   "source": [
    "#### 4.2  print only the \"Conditions\" and 'Group' column , show all rows"
   ]
  },
  {
   "cell_type": "code",
   "execution_count": 3,
   "id": "2b69c79f-4045-4120-acfc-29c2411a7edc",
   "metadata": {},
   "outputs": [],
   "source": [
    "# Printing out two columns\n"
   ]
  },
  {
   "cell_type": "markdown",
   "id": "b0091ecf-5193-4348-9b13-43132f5f14d3",
   "metadata": {},
   "source": [
    "#### 5. Combine your answer from question 2 and question 4.2"
   ]
  },
  {
   "cell_type": "code",
   "execution_count": 4,
   "id": "18ef0c24-19c7-4cea-a014-1888414428d1",
   "metadata": {},
   "outputs": [],
   "source": [
    "# Printing out from second column\n"
   ]
  },
  {
   "cell_type": "markdown",
   "id": "b07f5174-033b-4dec-ba2e-76b7f38ad650",
   "metadata": {},
   "source": [
    "#### 6. According to the slice you made in question 2: display the columns starting from the  'Subject_ID' column and forward and display again starting from 'Trial' column and forward"
   ]
  },
  {
   "cell_type": "code",
   "execution_count": null,
   "id": "b6d1f894-0e74-43ca-9d1a-42bb87ed697c",
   "metadata": {},
   "outputs": [],
   "source": []
  },
  {
   "cell_type": "markdown",
   "id": "691b4dd3-5a5c-4f7c-846b-40a0653d54f4",
   "metadata": {},
   "source": [
    "#### 7.1 Display the same dataframe as you did in question #1 by using __iloc__"
   ]
  },
  {
   "cell_type": "code",
   "execution_count": null,
   "id": "aa8b638f-e6fa-4094-ad2f-6b16a97a0f1a",
   "metadata": {},
   "outputs": [],
   "source": []
  },
  {
   "cell_type": "markdown",
   "id": "bcc3c688-80b4-4dd7-9bb7-127cbb4fa2d1",
   "metadata": {},
   "source": [
    "#### 7.2 Now show only the first column"
   ]
  },
  {
   "cell_type": "code",
   "execution_count": null,
   "id": "16066c19-7183-4e27-a756-8249227769ef",
   "metadata": {},
   "outputs": [],
   "source": []
  },
  {
   "cell_type": "markdown",
   "id": "b9d4491c-732e-4096-894e-1741c9093b40",
   "metadata": {},
   "source": [
    "#### Display the first and last column by using __iloc__ , show all rows"
   ]
  },
  {
   "cell_type": "code",
   "execution_count": null,
   "id": "887a2a75-c7c2-4298-903d-3ecd44b368a9",
   "metadata": {},
   "outputs": [],
   "source": []
  },
  {
   "cell_type": "markdown",
   "id": "6d4f0392-4ab5-42a5-aacc-36926d29c77a",
   "metadata": {},
   "source": [
    "#### Show all columns except the first column"
   ]
  },
  {
   "cell_type": "code",
   "execution_count": null,
   "id": "16dfd91f-5a85-4e28-8448-5849cf302d24",
   "metadata": {},
   "outputs": [],
   "source": []
  },
  {
   "cell_type": "markdown",
   "id": "86e44aa9-6f9e-4ac5-b704-0b1060d3d8cb",
   "metadata": {},
   "source": [
    "#### According to the following line of code - what do you think will be displayed in the output?"
   ]
  },
  {
   "cell_type": "raw",
   "id": "5cbece58-2021-40b0-86a4-1d5b29904abd",
   "metadata": {},
   "source": [
    "# change this line from Raw to Code\n",
    "df.iloc[4:10, ['Condition']]"
   ]
  },
  {
   "cell_type": "markdown",
   "id": "f03e7a6a-ba83-4f1e-8cd4-6fd6409d6c42",
   "metadata": {},
   "source": [
    "### [▲](#Top)\n",
    "---"
   ]
  },
  {
   "cell_type": "markdown",
   "id": "c95d3fc8-6d6a-4223-ab64-f99d260913df",
   "metadata": {},
   "source": [
    "<a id='section2'></a>\n",
    "\n",
    "<style>\r\n",
    "  /* Center the image horizontally and vertically */\r\n",
    "  .centered-image {\r\n",
    "    display: flex;\r\n",
    "    justify-content: center;\r\n",
    "    align-items: center;\r\n",
    "    height: 100vh; /* Optional: Adjust the height to your liking */\r\n",
    "  }\r\n",
    "\r\n",
    "  /* Set a maximum width for the image */\r\n",
    "  .centered-image img {\r\n",
    "    5x-width: 100%; /* Ensures the image doesn't exceed its container */\r\n",
    " \n",
    " }\r\n",
    "</style>\r\n",
    "\r\n",
    "<div class=\"centered-image\">\r\n",
    "  <img src=\"https://github.com/Razelbaz1/exercises-package/blob/master/pics/Title_numpy.png?raw=true\" alt=\"Centered Image\" />\r\n",
    "</div>\"400\"  \n",
    "</div>5"
   ]
  },
  {
   "cell_type": "markdown",
   "id": "d539cb06-a02c-4bb2-abf7-05ef46c1cc30",
   "metadata": {},
   "source": [
    "<div>\n",
    "<img src=\"https://github.com/Razelbaz1/exercises-package/blob/master/pics/Uses-of-NumPy-1.png?raw=true\"\n",
    "    width=\"1000\"/>\n",
    "</div>"
   ]
  },
  {
   "cell_type": "markdown",
   "id": "34db5647-4412-46b9-8407-06bdf2b929a3",
   "metadata": {},
   "source": [
    "<div>\n",
    "<img src=\"https://github.com/Razelbaz1/exercises-package/blob/master/pics/nice_explain.png?raw=true\"\n",
    "     width=\"800\"/>\n",
    "</div>"
   ]
  },
  {
   "cell_type": "markdown",
   "id": "b256a800-d757-4f01-ac32-f7de2c5017c6",
   "metadata": {},
   "source": [
    "---\n",
    "\n",
    "### Numpy in terms of complexity\n",
    "\n"
   ]
  },
  {
   "cell_type": "code",
   "execution_count": 10,
   "id": "39c2c102-7197-41e2-b1be-8c448de8ab6c",
   "metadata": {},
   "outputs": [],
   "source": [
    "import numpy as np\n",
    "import pandas as pd "
   ]
  },
  {
   "cell_type": "code",
   "execution_count": 3,
   "id": "11b74af1-495c-44c5-9475-c59aa7b6a348",
   "metadata": {},
   "outputs": [
    {
     "name": "stdout",
     "output_type": "stream",
     "text": [
      "CPU times: total: 828 ms\n",
      "Wall time: 1.06 s\n"
     ]
    }
   ],
   "source": [
    "%%time \n",
    "my_list = list(range(10000000))\n",
    "mult_by_3 = [3 * num for num in my_list]"
   ]
  },
  {
   "cell_type": "code",
   "execution_count": 4,
   "id": "27f78824-41fb-48c1-ab92-ca886ca13fbc",
   "metadata": {},
   "outputs": [
    {
     "name": "stdout",
     "output_type": "stream",
     "text": [
      "CPU times: total: 0 ns\n",
      "Wall time: 33.6 ms\n"
     ]
    }
   ],
   "source": [
    "%%time \n",
    "my_array = np.arange(10000000)\n",
    "mult_by_3 = 3 * my_array\n"
   ]
  },
  {
   "cell_type": "code",
   "execution_count": 7,
   "id": "a7ae4bcd-31d8-445f-ad7f-ee5aefbf817b",
   "metadata": {},
   "outputs": [
    {
     "data": {
      "text/plain": [
       "3.154761904761905e-05"
      ]
     },
     "execution_count": 7,
     "metadata": {},
     "output_type": "execute_result"
    }
   ],
   "source": [
    "1.06 / 33.6 * 0.001 "
   ]
  },
  {
   "cell_type": "markdown",
   "id": "7d3b4465-8498-41c4-80b2-e8bc8f9d6a90",
   "metadata": {},
   "source": [
    "### 3x faster using numpy\n",
    "---"
   ]
  },
  {
   "cell_type": "code",
   "execution_count": null,
   "id": "2d95e079-012e-49cb-acc2-7e8662de584e",
   "metadata": {},
   "outputs": [],
   "source": []
  },
  {
   "cell_type": "markdown",
   "id": "8c84b148-af98-4bba-a3b7-d5cef9b71810",
   "metadata": {},
   "source": [
    "### [▲](#Top)\n",
    "---"
   ]
  },
  {
   "cell_type": "markdown",
   "id": "c0adedd5-549b-459d-baaa-dd6a5f978bff",
   "metadata": {},
   "source": [
    "<a id='section3'></a>\n",
    "\n",
    "## <b id=\"section_2\">Some  </b> <b style='color:#F05454'>Random </b> <b>before Numpy.</b> "
   ]
  },
  {
   "cell_type": "code",
   "execution_count": 13,
   "id": "d746e9fd-c1d3-465c-b119-4b71cbef2ce9",
   "metadata": {},
   "outputs": [],
   "source": [
    "import random # import library"
   ]
  },
  {
   "cell_type": "code",
   "execution_count": 15,
   "id": "90b21ed1-e7bf-4066-a96a-81e193afd373",
   "metadata": {},
   "outputs": [
    {
     "name": "stdout",
     "output_type": "stream",
     "text": [
      "0.6283311115999547\n"
     ]
    }
   ],
   "source": [
    "# Method 1- using random method\n",
    "num = random.random()\n",
    "print(num)\n",
    "# Result will always between (0,1)"
   ]
  },
  {
   "cell_type": "code",
   "execution_count": 29,
   "id": "513eff2d-8511-49ec-b57c-c9af18a97fb4",
   "metadata": {},
   "outputs": [
    {
     "name": "stdout",
     "output_type": "stream",
     "text": [
      "10\n"
     ]
    }
   ],
   "source": [
    "# Method 2- using randint method ---> Rand - int ---\n",
    "num = random.randint(10, 20)\n",
    "print(num)"
   ]
  },
  {
   "cell_type": "code",
   "execution_count": null,
   "id": "7b034337-3da0-4279-a9a7-b295eed99a54",
   "metadata": {},
   "outputs": [],
   "source": [
    "#Try to compute \n",
    "num = random.randint(10.5, 10.6) \n",
    "# Why is that ?"
   ]
  },
  {
   "cell_type": "code",
   "execution_count": 21,
   "id": "c41b4c70-bf2a-4dc2-b099-5639ca543f5b",
   "metadata": {},
   "outputs": [
    {
     "name": "stdout",
     "output_type": "stream",
     "text": [
      "152\n"
     ]
    }
   ],
   "source": [
    "# Method 3- using randrange method\n",
    "\n",
    "num = random.randrange(100,200,2) # (Start,Stop,Step)\n",
    "print(num)"
   ]
  },
  {
   "cell_type": "code",
   "execution_count": 25,
   "id": "89e12791-868b-4b03-a9fc-a0722bee5fbe",
   "metadata": {},
   "outputs": [
    {
     "name": "stdout",
     "output_type": "stream",
     "text": [
      "65.83690809920176\n"
     ]
    }
   ],
   "source": [
    "# Method 4- using uniform method\n",
    "\n",
    "num = random.uniform(50,70) # (a,b)  \n",
    "print(num)\n",
    "\n",
    "# The uniform() method returns a random floating number between the two specified numbers\n",
    "# (both included)."
   ]
  },
  {
   "cell_type": "code",
   "execution_count": 26,
   "id": "d4052285-d204-4fe9-8563-24c00d930396",
   "metadata": {},
   "outputs": [
    {
     "name": "stdout",
     "output_type": "stream",
     "text": [
      "[202, 224, 157, 234, 172, 175, 188, 242, 201, 205, 150, 228, 162, 193, 216]\n"
     ]
    }
   ],
   "source": [
    "# Method 5- using sample method\n",
    "\n",
    "numList = random.sample(range(150,250), 15)\n",
    "print(numList)\n",
    "\n"
   ]
  },
  {
   "cell_type": "code",
   "execution_count": 27,
   "id": "aa10e9a6-a5e5-4d47-ba81-e5695180dd9a",
   "metadata": {},
   "outputs": [
    {
     "name": "stdout",
     "output_type": "stream",
     "text": [
      "[2, 3, 5, 1, 4]\n",
      "2\n"
     ]
    }
   ],
   "source": [
    "# Method 6- using shuffle and choice method\n",
    "\n",
    "numList = [1,2,3,4,5]\n",
    "random.shuffle(numList)\n",
    "print(numList)\n",
    "print(random.choice(numList))"
   ]
  },
  {
   "cell_type": "code",
   "execution_count": null,
   "id": "54fdded9-1872-471c-b05a-a12d34bcd52d",
   "metadata": {},
   "outputs": [],
   "source": [
    "# Method 7 - using random.choices is the same as #6 , try yourself !\n",
    "# random.choices()"
   ]
  },
  {
   "cell_type": "code",
   "execution_count": 57,
   "id": "f3013fb7-22e0-4b0d-8898-3b47b3ec72af",
   "metadata": {},
   "outputs": [
    {
     "name": "stdout",
     "output_type": "stream",
     "text": [
      "Hola, Your_Name\n"
     ]
    }
   ],
   "source": [
    "# Nice greeting\n",
    "\n",
    "greetings = ['Hello', 'Hi', 'Hey', 'Howdy', 'Hola']\n",
    "value = random.choice(greetings)\n",
    "my_name = 'Your_Name'\n",
    "print(value + ', ' + my_name)"
   ]
  },
  {
   "cell_type": "markdown",
   "id": "1f14b17a-3022-4d3a-a03a-cc9cf3a41b83",
   "metadata": {},
   "source": [
    "### Exercise\n",
    "#### Write a coin flip code, with 10 samples"
   ]
  },
  {
   "cell_type": "code",
   "execution_count": 6,
   "id": "200e8173-be9f-4471-85ee-8a352ecea3ca",
   "metadata": {},
   "outputs": [],
   "source": [
    "coin = ['Tail', 'Head']\n",
    "# המשיכו את הקוד כאן\n"
   ]
  },
  {
   "cell_type": "markdown",
   "id": "fe668847-a91c-4a60-a0af-63825a15947c",
   "metadata": {},
   "source": [
    "#### Write code to flip an unfair coin so that the chance of getting a head is 90 percent"
   ]
  },
  {
   "cell_type": "code",
   "execution_count": 7,
   "id": "a82f8a31-c81b-4f06-a7c7-b64c1a9a1653",
   "metadata": {},
   "outputs": [],
   "source": [
    "coin = ['Tail', 'Head']\n",
    "# המשיכו את הקוד כאן\n"
   ]
  },
  {
   "cell_type": "code",
   "execution_count": null,
   "id": "2c005396-4fb1-4088-808c-e9d56b7a2e89",
   "metadata": {},
   "outputs": [],
   "source": []
  },
  {
   "cell_type": "markdown",
   "id": "50b6b39a-da17-4fb7-acf8-62aba6fad56a",
   "metadata": {},
   "source": [
    "## <b id=\"section_2\">Back to  </b> <b style='color:#F05454'>Numpy. </b> "
   ]
  },
  {
   "cell_type": "code",
   "execution_count": 83,
   "id": "9b3cfcb2-8149-4e84-8ae0-182a4fcc1112",
   "metadata": {},
   "outputs": [
    {
     "name": "stdout",
     "output_type": "stream",
     "text": [
      "[ 1  4  9 16 25]\n"
     ]
    }
   ],
   "source": [
    "arr = np.array([1, 2, 3, 4, 5])\n",
    "# . product\n",
    "print(arr*arr)"
   ]
  },
  {
   "cell_type": "markdown",
   "id": "67df5ffb-a446-42de-acd8-f3e2b6979516",
   "metadata": {
    "id": "FRUQ5nbe7u3g"
   },
   "source": [
    "#### vector multiplication"
   ]
  },
  {
   "cell_type": "code",
   "execution_count": 15,
   "id": "7e2cd1cb-b86d-40fb-b67a-72ee3b8b7bf7",
   "metadata": {
    "colab": {
     "base_uri": "https://localhost:8080/"
    },
    "executionInfo": {
     "elapsed": 42,
     "status": "ok",
     "timestamp": 1688489653927,
     "user": {
      "displayName": "Shai Tirgulim",
      "userId": "18041892042069420089"
     },
     "user_tz": -180
    },
    "id": "UF2uB8lSqazY",
    "outputId": "ce276068-2797-4bc8-b2f9-e408ac306ac2"
   },
   "outputs": [
    {
     "data": {
      "text/plain": [
       "55"
      ]
     },
     "execution_count": 15,
     "metadata": {},
     "output_type": "execute_result"
    }
   ],
   "source": [
    "\n",
    "arr.dot(arr)\n",
    "# or by\n",
    "arr@arr\n"
   ]
  },
  {
   "cell_type": "markdown",
   "id": "5ee10592-70dc-47e4-a013-ad6b8611e116",
   "metadata": {
    "id": "IXkw4blD70k9"
   },
   "source": [
    "* create ones matrix of specific size:"
   ]
  },
  {
   "cell_type": "code",
   "execution_count": 16,
   "id": "edcbae5d-c349-4f83-8f4c-de98ed0c4792",
   "metadata": {
    "colab": {
     "base_uri": "https://localhost:8080/"
    },
    "executionInfo": {
     "elapsed": 42,
     "status": "ok",
     "timestamp": 1688489653928,
     "user": {
      "displayName": "Shai Tirgulim",
      "userId": "18041892042069420089"
     },
     "user_tz": -180
    },
    "id": "H5odPwP5qazZ",
    "outputId": "29d32f99-db33-4fd1-bead-d3d9f85b250b"
   },
   "outputs": [
    {
     "data": {
      "text/plain": [
       "array([[1., 1., 1.],\n",
       "       [1., 1., 1.]])"
      ]
     },
     "execution_count": 16,
     "metadata": {},
     "output_type": "execute_result"
    }
   ],
   "source": [
    "\n",
    "np.ones((2,3))"
   ]
  },
  {
   "cell_type": "markdown",
   "id": "22730a4b-12af-4fd2-94c0-de3f8aacc5d4",
   "metadata": {
    "id": "qk7tXPt5qaza"
   },
   "source": [
    "* self excercise: Suggest how to create zeros matrix of specific size:"
   ]
  },
  {
   "cell_type": "code",
   "execution_count": 17,
   "id": "9700bce5-60b9-4c9e-930a-d29b1ebc4eca",
   "metadata": {
    "colab": {
     "base_uri": "https://localhost:8080/"
    },
    "executionInfo": {
     "elapsed": 40,
     "status": "ok",
     "timestamp": 1688489653929,
     "user": {
      "displayName": "Shai Tirgulim",
      "userId": "18041892042069420089"
     },
     "user_tz": -180
    },
    "id": "CQ_CTsirqaza",
    "outputId": "24dcdf91-4940-4021-db47-0c98f08120f8"
   },
   "outputs": [
    {
     "data": {
      "text/plain": [
       "array([[0., 0.],\n",
       "       [0., 0.],\n",
       "       [0., 0.]])"
      ]
     },
     "execution_count": 17,
     "metadata": {},
     "output_type": "execute_result"
    }
   ],
   "source": [
    "np.zeros((3,2))"
   ]
  },
  {
   "cell_type": "markdown",
   "id": "6bbcd010-0c9f-4478-ad0e-9e195c0f605a",
   "metadata": {
    "id": "xxsvmLYH766o"
   },
   "source": [
    "* Create any constant array"
   ]
  },
  {
   "cell_type": "code",
   "execution_count": 18,
   "id": "aa47521c-eed3-4d8c-9af4-74dcb004ae50",
   "metadata": {
    "colab": {
     "base_uri": "https://localhost:8080/"
    },
    "executionInfo": {
     "elapsed": 38,
     "status": "ok",
     "timestamp": 1688489653929,
     "user": {
      "displayName": "Shai Tirgulim",
      "userId": "18041892042069420089"
     },
     "user_tz": -180
    },
    "id": "pVW9kk-Tqazb",
    "outputId": "7a9f2cd1-834b-4ff9-cb20-4c2156c54f9e"
   },
   "outputs": [
    {
     "name": "stdout",
     "output_type": "stream",
     "text": [
      "[[7 7]\n",
      " [7 7]]\n"
     ]
    }
   ],
   "source": [
    "c = np.full((2,2), 7)\n",
    "print(c)"
   ]
  },
  {
   "cell_type": "code",
   "execution_count": 19,
   "id": "763861cf-0a18-4acf-b88f-c0b37695c78b",
   "metadata": {
    "colab": {
     "base_uri": "https://localhost:8080/"
    },
    "executionInfo": {
     "elapsed": 36,
     "status": "ok",
     "timestamp": 1688489653929,
     "user": {
      "displayName": "Shai Tirgulim",
      "userId": "18041892042069420089"
     },
     "user_tz": -180
    },
    "id": "9WaVw-1_qazb",
    "outputId": "add6b896-cd6e-490d-ccb3-26577098e36e"
   },
   "outputs": [
    {
     "name": "stdout",
     "output_type": "stream",
     "text": [
      "[[1. 0.]\n",
      " [0. 1.]]\n"
     ]
    }
   ],
   "source": [
    "d = np.eye(2)\n",
    "print(d)"
   ]
  },
  {
   "cell_type": "markdown",
   "id": "3e3fce3f-afec-42c7-9473-e5d0e587c66a",
   "metadata": {
    "id": "cjnFvCsqqazc"
   },
   "source": [
    "* self excercise: suggest how to create a 3X3 matrix where digonal has value of 8"
   ]
  },
  {
   "cell_type": "code",
   "execution_count": null,
   "id": "e7fe3772-ac53-401f-a390-d74d99dd0036",
   "metadata": {
    "colab": {
     "base_uri": "https://localhost:8080/"
    },
    "executionInfo": {
     "elapsed": 35,
     "status": "ok",
     "timestamp": 1688489653930,
     "user": {
      "displayName": "Shai Tirgulim",
      "userId": "18041892042069420089"
     },
     "user_tz": -180
    },
    "id": "Y69YiE5Zqazc",
    "outputId": "dafafc41-a284-43b9-f723-e6c6c7a1d5a2"
   },
   "outputs": [],
   "source": []
  },
  {
   "cell_type": "code",
   "execution_count": null,
   "id": "5ba59c10-4270-492d-b7f0-b939af1d87d0",
   "metadata": {
    "colab": {
     "base_uri": "https://localhost:8080/"
    },
    "executionInfo": {
     "elapsed": 34,
     "status": "ok",
     "timestamp": 1688489653930,
     "user": {
      "displayName": "Shai Tirgulim",
      "userId": "18041892042069420089"
     },
     "user_tz": -180
    },
    "id": "ZvPLpW9vqazc",
    "outputId": "ddfbb5a2-e54a-4868-e3a1-2d2e88ac7415"
   },
   "outputs": [],
   "source": []
  },
  {
   "cell_type": "markdown",
   "id": "49c606b4-8b43-4334-a9d3-f254deb564ff",
   "metadata": {
    "id": "-NuT4Ium8EAO"
   },
   "source": [
    "#### self learning:\n",
    "1. Read Lec3\n",
    "2. Read the tutorials in links\n",
    "3. Write a NumPy program to test whether none of the elements of a given array is zero (create a sample array)."
   ]
  },
  {
   "cell_type": "code",
   "execution_count": null,
   "id": "5e9b6370-cd9b-4601-9f9e-30496be6ed87",
   "metadata": {},
   "outputs": [],
   "source": []
  },
  {
   "cell_type": "markdown",
   "id": "5fdf1ee7-4df5-4d26-b8e3-4a2819638138",
   "metadata": {
    "jp-MarkdownHeadingCollapsed": true
   },
   "source": [
    "### Result"
   ]
  },
  {
   "cell_type": "markdown",
   "id": "3cfb03b4-167a-4952-83f9-6c16f4036c23",
   "metadata": {
    "colab": {
     "base_uri": "https://localhost:8080/"
    },
    "executionInfo": {
     "elapsed": 33,
     "status": "ok",
     "timestamp": 1688489653930,
     "user": {
      "displayName": "Shai Tirgulim",
      "userId": "18041892042069420089"
     },
     "user_tz": -180
    },
    "id": "BVWajHtSqazd",
    "outputId": "ae151fcd-184b-4493-ca8c-fa52e4e482b4",
    "scrolled": true
   },
   "source": [
    "\n",
    "\n",
    "import numpy as np\n",
    "x = np.array([1, 2, 3, 4])\n",
    "print(\"Original array:\")\n",
    "print(x)\n",
    "print(\"Test if none of the elements of the said array is zero:\")\n",
    "print(np.all(x))\n",
    "x = np.array([0, 1, 2, 3])\n",
    "print(\"Original array:\")\n",
    "print(x)\n",
    "print(\"Test if none of the elements of the said array is zero:\")\n",
    "print(np.all(x))"
   ]
  },
  {
   "cell_type": "markdown",
   "id": "c471a05a-ec34-4214-959b-0b1370caf68b",
   "metadata": {},
   "source": [
    "### "
   ]
  },
  {
   "cell_type": "markdown",
   "id": "6481c430-c826-4ad2-9cbf-c295900369c9",
   "metadata": {},
   "source": [
    "### [▲](#Top)"
   ]
  },
  {
   "cell_type": "markdown",
   "id": "0301ac8a-22ba-4e59-9f9f-3322969c0a85",
   "metadata": {},
   "source": [
    "---\n",
    "<a id='section4'></a>\n",
    "## conditional selection "
   ]
  },
  {
   "cell_type": "markdown",
   "id": "83bd650c-7e98-4e1f-8b1b-2ec31b46fba9",
   "metadata": {},
   "source": [
    "\n",
    "#### Summary of the functions in unit 2:\n",
    "\n",
    "\n",
    ">* `.index.values` - the row indexes of this part of the dataframes\n",
    ">* `.str.contains` - selects rows and columns that contain a string\n",
    ">* `.max` - maximum value\n",
    ">* `.mean` - average value\n",
    ">* `.count` - the number of rows that contain a value\n",
    ">* `len()` - dataframe length"
   ]
  },
  {
   "cell_type": "code",
   "execution_count": 110,
   "id": "4e5297cb-da58-4a3a-a7d0-d327c85c93ed",
   "metadata": {},
   "outputs": [
    {
     "ename": "UnicodeDecodeError",
     "evalue": "'utf-8' codec can't decode byte 0xe9 in position 3767: invalid continuation byte",
     "output_type": "error",
     "traceback": [
      "\u001b[1;31m---------------------------------------------------------------------------\u001b[0m",
      "\u001b[1;31mUnicodeDecodeError\u001b[0m                        Traceback (most recent call last)",
      "Input \u001b[1;32mIn [110]\u001b[0m, in \u001b[0;36m<cell line: 3>\u001b[1;34m()\u001b[0m\n\u001b[0;32m      1\u001b[0m url \u001b[38;5;241m=\u001b[39m \u001b[38;5;124m'\u001b[39m\u001b[38;5;124mhttps://raw.githubusercontent.com/Razelbaz1/exercises-package/master/data/titanic.csv\u001b[39m\u001b[38;5;124m'\u001b[39m\n\u001b[1;32m----> 3\u001b[0m titanic_df \u001b[38;5;241m=\u001b[39m \u001b[43mpd\u001b[49m\u001b[38;5;241;43m.\u001b[39;49m\u001b[43mread_csv\u001b[49m\u001b[43m(\u001b[49m\u001b[43murl\u001b[49m\u001b[43m)\u001b[49m\n",
      "File \u001b[1;32m~\\AppData\\Local\\Programs\\Python\\Python310\\lib\\site-packages\\pandas\\util\\_decorators.py:311\u001b[0m, in \u001b[0;36mdeprecate_nonkeyword_arguments.<locals>.decorate.<locals>.wrapper\u001b[1;34m(*args, **kwargs)\u001b[0m\n\u001b[0;32m    305\u001b[0m \u001b[38;5;28;01mif\u001b[39;00m \u001b[38;5;28mlen\u001b[39m(args) \u001b[38;5;241m>\u001b[39m num_allow_args:\n\u001b[0;32m    306\u001b[0m     warnings\u001b[38;5;241m.\u001b[39mwarn(\n\u001b[0;32m    307\u001b[0m         msg\u001b[38;5;241m.\u001b[39mformat(arguments\u001b[38;5;241m=\u001b[39marguments),\n\u001b[0;32m    308\u001b[0m         \u001b[38;5;167;01mFutureWarning\u001b[39;00m,\n\u001b[0;32m    309\u001b[0m         stacklevel\u001b[38;5;241m=\u001b[39mstacklevel,\n\u001b[0;32m    310\u001b[0m     )\n\u001b[1;32m--> 311\u001b[0m \u001b[38;5;28;01mreturn\u001b[39;00m func(\u001b[38;5;241m*\u001b[39margs, \u001b[38;5;241m*\u001b[39m\u001b[38;5;241m*\u001b[39mkwargs)\n",
      "File \u001b[1;32m~\\AppData\\Local\\Programs\\Python\\Python310\\lib\\site-packages\\pandas\\io\\parsers\\readers.py:680\u001b[0m, in \u001b[0;36mread_csv\u001b[1;34m(filepath_or_buffer, sep, delimiter, header, names, index_col, usecols, squeeze, prefix, mangle_dupe_cols, dtype, engine, converters, true_values, false_values, skipinitialspace, skiprows, skipfooter, nrows, na_values, keep_default_na, na_filter, verbose, skip_blank_lines, parse_dates, infer_datetime_format, keep_date_col, date_parser, dayfirst, cache_dates, iterator, chunksize, compression, thousands, decimal, lineterminator, quotechar, quoting, doublequote, escapechar, comment, encoding, encoding_errors, dialect, error_bad_lines, warn_bad_lines, on_bad_lines, delim_whitespace, low_memory, memory_map, float_precision, storage_options)\u001b[0m\n\u001b[0;32m    665\u001b[0m kwds_defaults \u001b[38;5;241m=\u001b[39m _refine_defaults_read(\n\u001b[0;32m    666\u001b[0m     dialect,\n\u001b[0;32m    667\u001b[0m     delimiter,\n\u001b[1;32m   (...)\u001b[0m\n\u001b[0;32m    676\u001b[0m     defaults\u001b[38;5;241m=\u001b[39m{\u001b[38;5;124m\"\u001b[39m\u001b[38;5;124mdelimiter\u001b[39m\u001b[38;5;124m\"\u001b[39m: \u001b[38;5;124m\"\u001b[39m\u001b[38;5;124m,\u001b[39m\u001b[38;5;124m\"\u001b[39m},\n\u001b[0;32m    677\u001b[0m )\n\u001b[0;32m    678\u001b[0m kwds\u001b[38;5;241m.\u001b[39mupdate(kwds_defaults)\n\u001b[1;32m--> 680\u001b[0m \u001b[38;5;28;01mreturn\u001b[39;00m \u001b[43m_read\u001b[49m\u001b[43m(\u001b[49m\u001b[43mfilepath_or_buffer\u001b[49m\u001b[43m,\u001b[49m\u001b[43m \u001b[49m\u001b[43mkwds\u001b[49m\u001b[43m)\u001b[49m\n",
      "File \u001b[1;32m~\\AppData\\Local\\Programs\\Python\\Python310\\lib\\site-packages\\pandas\\io\\parsers\\readers.py:575\u001b[0m, in \u001b[0;36m_read\u001b[1;34m(filepath_or_buffer, kwds)\u001b[0m\n\u001b[0;32m    572\u001b[0m _validate_names(kwds\u001b[38;5;241m.\u001b[39mget(\u001b[38;5;124m\"\u001b[39m\u001b[38;5;124mnames\u001b[39m\u001b[38;5;124m\"\u001b[39m, \u001b[38;5;28;01mNone\u001b[39;00m))\n\u001b[0;32m    574\u001b[0m \u001b[38;5;66;03m# Create the parser.\u001b[39;00m\n\u001b[1;32m--> 575\u001b[0m parser \u001b[38;5;241m=\u001b[39m TextFileReader(filepath_or_buffer, \u001b[38;5;241m*\u001b[39m\u001b[38;5;241m*\u001b[39mkwds)\n\u001b[0;32m    577\u001b[0m \u001b[38;5;28;01mif\u001b[39;00m chunksize \u001b[38;5;129;01mor\u001b[39;00m iterator:\n\u001b[0;32m    578\u001b[0m     \u001b[38;5;28;01mreturn\u001b[39;00m parser\n",
      "File \u001b[1;32m~\\AppData\\Local\\Programs\\Python\\Python310\\lib\\site-packages\\pandas\\io\\parsers\\readers.py:933\u001b[0m, in \u001b[0;36mTextFileReader.__init__\u001b[1;34m(self, f, engine, **kwds)\u001b[0m\n\u001b[0;32m    930\u001b[0m     \u001b[38;5;28mself\u001b[39m\u001b[38;5;241m.\u001b[39moptions[\u001b[38;5;124m\"\u001b[39m\u001b[38;5;124mhas_index_names\u001b[39m\u001b[38;5;124m\"\u001b[39m] \u001b[38;5;241m=\u001b[39m kwds[\u001b[38;5;124m\"\u001b[39m\u001b[38;5;124mhas_index_names\u001b[39m\u001b[38;5;124m\"\u001b[39m]\n\u001b[0;32m    932\u001b[0m \u001b[38;5;28mself\u001b[39m\u001b[38;5;241m.\u001b[39mhandles: IOHandles \u001b[38;5;241m|\u001b[39m \u001b[38;5;28;01mNone\u001b[39;00m \u001b[38;5;241m=\u001b[39m \u001b[38;5;28;01mNone\u001b[39;00m\n\u001b[1;32m--> 933\u001b[0m \u001b[38;5;28mself\u001b[39m\u001b[38;5;241m.\u001b[39m_engine \u001b[38;5;241m=\u001b[39m \u001b[38;5;28;43mself\u001b[39;49m\u001b[38;5;241;43m.\u001b[39;49m\u001b[43m_make_engine\u001b[49m\u001b[43m(\u001b[49m\u001b[43mf\u001b[49m\u001b[43m,\u001b[49m\u001b[43m \u001b[49m\u001b[38;5;28;43mself\u001b[39;49m\u001b[38;5;241;43m.\u001b[39;49m\u001b[43mengine\u001b[49m\u001b[43m)\u001b[49m\n",
      "File \u001b[1;32m~\\AppData\\Local\\Programs\\Python\\Python310\\lib\\site-packages\\pandas\\io\\parsers\\readers.py:1231\u001b[0m, in \u001b[0;36mTextFileReader._make_engine\u001b[1;34m(self, f, engine)\u001b[0m\n\u001b[0;32m   1228\u001b[0m     f \u001b[38;5;241m=\u001b[39m \u001b[38;5;28mself\u001b[39m\u001b[38;5;241m.\u001b[39mhandles\u001b[38;5;241m.\u001b[39mhandle\n\u001b[0;32m   1230\u001b[0m \u001b[38;5;28;01mtry\u001b[39;00m:\n\u001b[1;32m-> 1231\u001b[0m     \u001b[38;5;28;01mreturn\u001b[39;00m mapping[engine](f, \u001b[38;5;241m*\u001b[39m\u001b[38;5;241m*\u001b[39m\u001b[38;5;28mself\u001b[39m\u001b[38;5;241m.\u001b[39moptions)\n\u001b[0;32m   1232\u001b[0m \u001b[38;5;28;01mexcept\u001b[39;00m \u001b[38;5;167;01mException\u001b[39;00m:\n\u001b[0;32m   1233\u001b[0m     \u001b[38;5;28;01mif\u001b[39;00m \u001b[38;5;28mself\u001b[39m\u001b[38;5;241m.\u001b[39mhandles \u001b[38;5;129;01mis\u001b[39;00m \u001b[38;5;129;01mnot\u001b[39;00m \u001b[38;5;28;01mNone\u001b[39;00m:\n",
      "File \u001b[1;32m~\\AppData\\Local\\Programs\\Python\\Python310\\lib\\site-packages\\pandas\\io\\parsers\\c_parser_wrapper.py:75\u001b[0m, in \u001b[0;36mCParserWrapper.__init__\u001b[1;34m(self, src, **kwds)\u001b[0m\n\u001b[0;32m     72\u001b[0m     kwds\u001b[38;5;241m.\u001b[39mpop(key, \u001b[38;5;28;01mNone\u001b[39;00m)\n\u001b[0;32m     74\u001b[0m kwds[\u001b[38;5;124m\"\u001b[39m\u001b[38;5;124mdtype\u001b[39m\u001b[38;5;124m\"\u001b[39m] \u001b[38;5;241m=\u001b[39m ensure_dtype_objs(kwds\u001b[38;5;241m.\u001b[39mget(\u001b[38;5;124m\"\u001b[39m\u001b[38;5;124mdtype\u001b[39m\u001b[38;5;124m\"\u001b[39m, \u001b[38;5;28;01mNone\u001b[39;00m))\n\u001b[1;32m---> 75\u001b[0m \u001b[38;5;28mself\u001b[39m\u001b[38;5;241m.\u001b[39m_reader \u001b[38;5;241m=\u001b[39m parsers\u001b[38;5;241m.\u001b[39mTextReader(src, \u001b[38;5;241m*\u001b[39m\u001b[38;5;241m*\u001b[39mkwds)\n\u001b[0;32m     77\u001b[0m \u001b[38;5;28mself\u001b[39m\u001b[38;5;241m.\u001b[39munnamed_cols \u001b[38;5;241m=\u001b[39m \u001b[38;5;28mself\u001b[39m\u001b[38;5;241m.\u001b[39m_reader\u001b[38;5;241m.\u001b[39munnamed_cols\n\u001b[0;32m     79\u001b[0m \u001b[38;5;66;03m# error: Cannot determine type of 'names'\u001b[39;00m\n",
      "File \u001b[1;32m~\\AppData\\Local\\Programs\\Python\\Python310\\lib\\site-packages\\pandas\\_libs\\parsers.pyx:544\u001b[0m, in \u001b[0;36mpandas._libs.parsers.TextReader.__cinit__\u001b[1;34m()\u001b[0m\n",
      "File \u001b[1;32m~\\AppData\\Local\\Programs\\Python\\Python310\\lib\\site-packages\\pandas\\_libs\\parsers.pyx:633\u001b[0m, in \u001b[0;36mpandas._libs.parsers.TextReader._get_header\u001b[1;34m()\u001b[0m\n",
      "File \u001b[1;32m~\\AppData\\Local\\Programs\\Python\\Python310\\lib\\site-packages\\pandas\\_libs\\parsers.pyx:847\u001b[0m, in \u001b[0;36mpandas._libs.parsers.TextReader._tokenize_rows\u001b[1;34m()\u001b[0m\n",
      "File \u001b[1;32m~\\AppData\\Local\\Programs\\Python\\Python310\\lib\\site-packages\\pandas\\_libs\\parsers.pyx:1952\u001b[0m, in \u001b[0;36mpandas._libs.parsers.raise_parser_error\u001b[1;34m()\u001b[0m\n",
      "\u001b[1;31mUnicodeDecodeError\u001b[0m: 'utf-8' codec can't decode byte 0xe9 in position 3767: invalid continuation byte"
     ]
    }
   ],
   "source": [
    "url = 'https://raw.githubusercontent.com/Razelbaz1/exercises-package/master/data/titanic.csv'\n",
    "titanic_df = pd.read_csv(url)"
   ]
  },
  {
   "cell_type": "code",
   "execution_count": 134,
   "id": "30cf365a-80e0-4d25-a73b-bb321a6c1ef6",
   "metadata": {},
   "outputs": [
    {
     "data": {
      "text/html": [
       "<div>\n",
       "<style scoped>\n",
       "    .dataframe tbody tr th:only-of-type {\n",
       "        vertical-align: middle;\n",
       "    }\n",
       "\n",
       "    .dataframe tbody tr th {\n",
       "        vertical-align: top;\n",
       "    }\n",
       "\n",
       "    .dataframe thead th {\n",
       "        text-align: right;\n",
       "    }\n",
       "</style>\n",
       "<table border=\"1\" class=\"dataframe\">\n",
       "  <thead>\n",
       "    <tr style=\"text-align: right;\">\n",
       "      <th></th>\n",
       "      <th>row.names</th>\n",
       "      <th>pclass</th>\n",
       "      <th>survived</th>\n",
       "      <th>name</th>\n",
       "      <th>age</th>\n",
       "      <th>embarked</th>\n",
       "      <th>home.dest</th>\n",
       "      <th>room</th>\n",
       "      <th>ticket</th>\n",
       "      <th>boat</th>\n",
       "      <th>sex</th>\n",
       "    </tr>\n",
       "  </thead>\n",
       "  <tbody>\n",
       "    <tr>\n",
       "      <th>0</th>\n",
       "      <td>1</td>\n",
       "      <td>1st</td>\n",
       "      <td>1</td>\n",
       "      <td>Allen, Miss Elisabeth Walton</td>\n",
       "      <td>29.0000</td>\n",
       "      <td>Southampton</td>\n",
       "      <td>St Louis, MO</td>\n",
       "      <td>B-5</td>\n",
       "      <td>24160 L221</td>\n",
       "      <td>2</td>\n",
       "      <td>female</td>\n",
       "    </tr>\n",
       "    <tr>\n",
       "      <th>1</th>\n",
       "      <td>2</td>\n",
       "      <td>1st</td>\n",
       "      <td>0</td>\n",
       "      <td>Allison, Miss Helen Loraine</td>\n",
       "      <td>2.0000</td>\n",
       "      <td>Southampton</td>\n",
       "      <td>Montreal, PQ / Chesterville, ON</td>\n",
       "      <td>C26</td>\n",
       "      <td>NaN</td>\n",
       "      <td>NaN</td>\n",
       "      <td>female</td>\n",
       "    </tr>\n",
       "    <tr>\n",
       "      <th>2</th>\n",
       "      <td>3</td>\n",
       "      <td>1st</td>\n",
       "      <td>0</td>\n",
       "      <td>Allison, Mr Hudson Joshua Creighton</td>\n",
       "      <td>30.0000</td>\n",
       "      <td>Southampton</td>\n",
       "      <td>Montreal, PQ / Chesterville, ON</td>\n",
       "      <td>C26</td>\n",
       "      <td>NaN</td>\n",
       "      <td>-135</td>\n",
       "      <td>male</td>\n",
       "    </tr>\n",
       "    <tr>\n",
       "      <th>3</th>\n",
       "      <td>4</td>\n",
       "      <td>1st</td>\n",
       "      <td>0</td>\n",
       "      <td>Allison, Mrs Hudson J.C. (Bessie Waldo Daniels)</td>\n",
       "      <td>25.0000</td>\n",
       "      <td>Southampton</td>\n",
       "      <td>Montreal, PQ / Chesterville, ON</td>\n",
       "      <td>C26</td>\n",
       "      <td>NaN</td>\n",
       "      <td>NaN</td>\n",
       "      <td>female</td>\n",
       "    </tr>\n",
       "    <tr>\n",
       "      <th>4</th>\n",
       "      <td>5</td>\n",
       "      <td>1st</td>\n",
       "      <td>1</td>\n",
       "      <td>Allison, Master Hudson Trevor</td>\n",
       "      <td>0.9167</td>\n",
       "      <td>Southampton</td>\n",
       "      <td>Montreal, PQ / Chesterville, ON</td>\n",
       "      <td>C22</td>\n",
       "      <td>NaN</td>\n",
       "      <td>11</td>\n",
       "      <td>male</td>\n",
       "    </tr>\n",
       "    <tr>\n",
       "      <th>...</th>\n",
       "      <td>...</td>\n",
       "      <td>...</td>\n",
       "      <td>...</td>\n",
       "      <td>...</td>\n",
       "      <td>...</td>\n",
       "      <td>...</td>\n",
       "      <td>...</td>\n",
       "      <td>...</td>\n",
       "      <td>...</td>\n",
       "      <td>...</td>\n",
       "      <td>...</td>\n",
       "    </tr>\n",
       "    <tr>\n",
       "      <th>1308</th>\n",
       "      <td>1309</td>\n",
       "      <td>3rd</td>\n",
       "      <td>0</td>\n",
       "      <td>Zakarian, Mr Artun</td>\n",
       "      <td>NaN</td>\n",
       "      <td>NaN</td>\n",
       "      <td>NaN</td>\n",
       "      <td>NaN</td>\n",
       "      <td>NaN</td>\n",
       "      <td>NaN</td>\n",
       "      <td>male</td>\n",
       "    </tr>\n",
       "    <tr>\n",
       "      <th>1309</th>\n",
       "      <td>1310</td>\n",
       "      <td>3rd</td>\n",
       "      <td>0</td>\n",
       "      <td>Zakarian, Mr Maprieder</td>\n",
       "      <td>NaN</td>\n",
       "      <td>NaN</td>\n",
       "      <td>NaN</td>\n",
       "      <td>NaN</td>\n",
       "      <td>NaN</td>\n",
       "      <td>NaN</td>\n",
       "      <td>male</td>\n",
       "    </tr>\n",
       "    <tr>\n",
       "      <th>1310</th>\n",
       "      <td>1311</td>\n",
       "      <td>3rd</td>\n",
       "      <td>0</td>\n",
       "      <td>Zenn, Mr Philip</td>\n",
       "      <td>NaN</td>\n",
       "      <td>NaN</td>\n",
       "      <td>NaN</td>\n",
       "      <td>NaN</td>\n",
       "      <td>NaN</td>\n",
       "      <td>NaN</td>\n",
       "      <td>male</td>\n",
       "    </tr>\n",
       "    <tr>\n",
       "      <th>1311</th>\n",
       "      <td>1312</td>\n",
       "      <td>3rd</td>\n",
       "      <td>0</td>\n",
       "      <td>Zievens, Rene</td>\n",
       "      <td>NaN</td>\n",
       "      <td>NaN</td>\n",
       "      <td>NaN</td>\n",
       "      <td>NaN</td>\n",
       "      <td>NaN</td>\n",
       "      <td>NaN</td>\n",
       "      <td>female</td>\n",
       "    </tr>\n",
       "    <tr>\n",
       "      <th>1312</th>\n",
       "      <td>1313</td>\n",
       "      <td>3rd</td>\n",
       "      <td>0</td>\n",
       "      <td>Zimmerman, Leo</td>\n",
       "      <td>NaN</td>\n",
       "      <td>NaN</td>\n",
       "      <td>NaN</td>\n",
       "      <td>NaN</td>\n",
       "      <td>NaN</td>\n",
       "      <td>NaN</td>\n",
       "      <td>male</td>\n",
       "    </tr>\n",
       "  </tbody>\n",
       "</table>\n",
       "<p>1313 rows × 11 columns</p>\n",
       "</div>"
      ],
      "text/plain": [
       "      row.names pclass  survived  \\\n",
       "0             1    1st         1   \n",
       "1             2    1st         0   \n",
       "2             3    1st         0   \n",
       "3             4    1st         0   \n",
       "4             5    1st         1   \n",
       "...         ...    ...       ...   \n",
       "1308       1309    3rd         0   \n",
       "1309       1310    3rd         0   \n",
       "1310       1311    3rd         0   \n",
       "1311       1312    3rd         0   \n",
       "1312       1313    3rd         0   \n",
       "\n",
       "                                                 name      age     embarked  \\\n",
       "0                        Allen, Miss Elisabeth Walton  29.0000  Southampton   \n",
       "1                         Allison, Miss Helen Loraine   2.0000  Southampton   \n",
       "2                 Allison, Mr Hudson Joshua Creighton  30.0000  Southampton   \n",
       "3     Allison, Mrs Hudson J.C. (Bessie Waldo Daniels)  25.0000  Southampton   \n",
       "4                       Allison, Master Hudson Trevor   0.9167  Southampton   \n",
       "...                                               ...      ...          ...   \n",
       "1308                               Zakarian, Mr Artun      NaN          NaN   \n",
       "1309                           Zakarian, Mr Maprieder      NaN          NaN   \n",
       "1310                                  Zenn, Mr Philip      NaN          NaN   \n",
       "1311                                    Zievens, Rene      NaN          NaN   \n",
       "1312                                   Zimmerman, Leo      NaN          NaN   \n",
       "\n",
       "                            home.dest room      ticket  boat     sex  \n",
       "0                        St Louis, MO  B-5  24160 L221     2  female  \n",
       "1     Montreal, PQ / Chesterville, ON  C26         NaN   NaN  female  \n",
       "2     Montreal, PQ / Chesterville, ON  C26         NaN  -135    male  \n",
       "3     Montreal, PQ / Chesterville, ON  C26         NaN   NaN  female  \n",
       "4     Montreal, PQ / Chesterville, ON  C22         NaN    11    male  \n",
       "...                               ...  ...         ...   ...     ...  \n",
       "1308                              NaN  NaN         NaN   NaN    male  \n",
       "1309                              NaN  NaN         NaN   NaN    male  \n",
       "1310                              NaN  NaN         NaN   NaN    male  \n",
       "1311                              NaN  NaN         NaN   NaN  female  \n",
       "1312                              NaN  NaN         NaN   NaN    male  \n",
       "\n",
       "[1313 rows x 11 columns]"
      ]
     },
     "execution_count": 134,
     "metadata": {},
     "output_type": "execute_result"
    }
   ],
   "source": [
    "titanic_df = pd.read_csv('titanic.csv',encoding='latin1')\n",
    "titanic_df"
   ]
  },
  {
   "cell_type": "code",
   "execution_count": 135,
   "id": "c1aaa488-e7bd-4ad3-b989-574fc345e7c4",
   "metadata": {},
   "outputs": [
    {
     "data": {
      "text/plain": [
       "Index(['row.names', 'pclass', 'survived', 'name', 'age', 'embarked',\n",
       "       'home.dest', 'room', 'ticket', 'boat', 'sex'],\n",
       "      dtype='object')"
      ]
     },
     "execution_count": 135,
     "metadata": {},
     "output_type": "execute_result"
    }
   ],
   "source": [
    "titanic_df.columns"
   ]
  },
  {
   "cell_type": "markdown",
   "id": "a83921f2-29ff-4091-9966-1fed4e7c004d",
   "metadata": {},
   "source": [
    "#### 1. Display a table so that you see all the passengers who belong to the third class\n",
    "##### For your convenience, the list of columns is given"
   ]
  },
  {
   "cell_type": "code",
   "execution_count": null,
   "id": "58f8398c-dc4f-4029-90f7-76cd36699cb1",
   "metadata": {},
   "outputs": [],
   "source": []
  },
  {
   "cell_type": "markdown",
   "id": "bd9dea7f-2a43-4526-bfe0-ae2ed80d862b",
   "metadata": {},
   "source": [
    "#### 2. Display a table so that you see all the passengers belonging to the third <ins>**or**</ins> second class"
   ]
  },
  {
   "cell_type": "code",
   "execution_count": null,
   "id": "46139694-8669-4915-b50d-0a42e05eadbf",
   "metadata": {},
   "outputs": [],
   "source": []
  },
  {
   "cell_type": "markdown",
   "id": "4bedac54-af8d-45ef-a0d4-c58286aad799",
   "metadata": {},
   "source": [
    "#### Suggest a solution in another way"
   ]
  },
  {
   "cell_type": "code",
   "execution_count": null,
   "id": "349c08fa-0687-46a5-b5b3-4988e41009fa",
   "metadata": {},
   "outputs": [],
   "source": []
  },
  {
   "cell_type": "code",
   "execution_count": 118,
   "id": "9cb7bc18-6e78-4f13-a31e-0fce3e6a2b25",
   "metadata": {},
   "outputs": [
    {
     "data": {
      "text/plain": [
       "1313"
      ]
     },
     "execution_count": 118,
     "metadata": {},
     "output_type": "execute_result"
    }
   ],
   "source": [
    "len(titanic_df)"
   ]
  },
  {
   "cell_type": "markdown",
   "id": "7cea0256-664f-49bb-baf6-d2df38dcbb61",
   "metadata": {},
   "source": [
    "#### 3. Display the oldest age on the ship, display only one row of that age"
   ]
  },
  {
   "cell_type": "code",
   "execution_count": null,
   "id": "d7637be7-a66c-4f39-8bf3-004ade377fd9",
   "metadata": {},
   "outputs": [],
   "source": []
  },
  {
   "cell_type": "code",
   "execution_count": null,
   "id": "351b421e-178b-4951-8774-d7c954ac6540",
   "metadata": {},
   "outputs": [],
   "source": []
  },
  {
   "cell_type": "code",
   "execution_count": null,
   "id": "aecb219f-d7a0-4d2f-8aea-19bacd8b8a10",
   "metadata": {},
   "outputs": [],
   "source": []
  },
  {
   "cell_type": "markdown",
   "id": "76310a62-773a-4e21-9132-500db01971da",
   "metadata": {},
   "source": [
    "#### 4. Display the youngest age on the ship, display only one row of that age"
   ]
  },
  {
   "cell_type": "code",
   "execution_count": 148,
   "id": "e599f775-9f57-4f5f-a4f1-3daae04be9ea",
   "metadata": {},
   "outputs": [
    {
     "data": {
      "text/plain": [
       "0.1667"
      ]
     },
     "execution_count": 148,
     "metadata": {},
     "output_type": "execute_result"
    }
   ],
   "source": [
    "min_age = titanic_df['age'].min()\n",
    "min_age"
   ]
  },
  {
   "cell_type": "code",
   "execution_count": null,
   "id": "20f03b92-d396-4031-bb39-da99e3942619",
   "metadata": {},
   "outputs": [],
   "source": []
  },
  {
   "cell_type": "code",
   "execution_count": null,
   "id": "89d212cd-0b09-4402-a49e-3e9d29f56670",
   "metadata": {},
   "outputs": [],
   "source": []
  },
  {
   "cell_type": "markdown",
   "id": "366e3629-3f11-4c76-a3ad-90c9f028bf5c",
   "metadata": {},
   "source": [
    "#### 5. Are there more men than women on the ship? Show the solution by a function learned in class\n",
    "#### Show in 2 different ways"
   ]
  },
  {
   "cell_type": "code",
   "execution_count": 153,
   "id": "e0377005-1945-4fca-a057-e5a3fa1c6a92",
   "metadata": {},
   "outputs": [
    {
     "data": {
      "text/plain": [
       "True"
      ]
     },
     "execution_count": 153,
     "metadata": {},
     "output_type": "execute_result"
    }
   ],
   "source": [
    "titanic_df_male = titanic_df.loc[titanic_df.sex == 'male']\n",
    "titanic_df_female = titanic_df.loc[titanic_df.sex == 'female']\n",
    "len(titanic_df_female) < len(titanic_df_male)"
   ]
  },
  {
   "cell_type": "code",
   "execution_count": null,
   "id": "8b86adcf-3897-426f-bb82-5333ce8b9e90",
   "metadata": {},
   "outputs": [],
   "source": []
  },
  {
   "cell_type": "code",
   "execution_count": 157,
   "id": "303d2339-670d-4b23-8b70-5320884b51e7",
   "metadata": {},
   "outputs": [
    {
     "data": {
      "text/plain": [
       "850"
      ]
     },
     "execution_count": 157,
     "metadata": {},
     "output_type": "execute_result"
    }
   ],
   "source": [
    "titanic_df_male['sex'].count()"
   ]
  },
  {
   "cell_type": "code",
   "execution_count": 158,
   "id": "65beb222-4411-46f3-924e-d24ab91bae07",
   "metadata": {},
   "outputs": [
    {
     "data": {
      "text/plain": [
       "463"
      ]
     },
     "execution_count": 158,
     "metadata": {},
     "output_type": "execute_result"
    }
   ],
   "source": [
    "titanic_df_female['sex'].count()"
   ]
  },
  {
   "cell_type": "code",
   "execution_count": null,
   "id": "cf3731c1-10d9-4fe9-be90-1ea41c9a511d",
   "metadata": {},
   "outputs": [],
   "source": []
  },
  {
   "cell_type": "markdown",
   "id": "f94c12a5-6da9-4ecd-9bcd-e9df7fdfd7a1",
   "metadata": {},
   "source": [
    "#### 6. Note that there is a column that shows who survived the disaster, which gender survived more?"
   ]
  },
  {
   "cell_type": "code",
   "execution_count": 161,
   "id": "5cba27c8-99db-446e-98fb-44f199c2286a",
   "metadata": {},
   "outputs": [
    {
     "data": {
      "text/plain": [
       "142"
      ]
     },
     "execution_count": 161,
     "metadata": {},
     "output_type": "execute_result"
    }
   ],
   "source": [
    "titanic_df_male = titanic_df[(titanic_df.sex == 'male') & (titanic_df.survived == 1)]\n",
    "titanic_df_male['sex'].count()"
   ]
  },
  {
   "cell_type": "code",
   "execution_count": 162,
   "id": "4e1b24ed-1abd-4e74-9cc9-93f426a1d5d4",
   "metadata": {},
   "outputs": [
    {
     "data": {
      "text/plain": [
       "307"
      ]
     },
     "execution_count": 162,
     "metadata": {},
     "output_type": "execute_result"
    }
   ],
   "source": [
    "titanic_df_female = titanic_df[(titanic_df.sex == 'female') & (titanic_df.survived == 1)]\n",
    "titanic_df_female['sex'].count()"
   ]
  },
  {
   "cell_type": "code",
   "execution_count": null,
   "id": "a31ca14b-350c-4b7d-8c7f-bebdc8f35f59",
   "metadata": {},
   "outputs": [],
   "source": []
  },
  {
   "cell_type": "markdown",
   "id": "92d1832d-4945-441b-836d-b5bdb5a5797d",
   "metadata": {},
   "source": [
    "#### 7. Find the passenger who goes by the name 'Maprieder', did he survive?"
   ]
  },
  {
   "cell_type": "code",
   "execution_count": 119,
   "id": "e239128d-c14c-4f7c-8efb-0a5b58c37dd6",
   "metadata": {},
   "outputs": [
    {
     "data": {
      "text/html": [
       "<div>\n",
       "<style scoped>\n",
       "    .dataframe tbody tr th:only-of-type {\n",
       "        vertical-align: middle;\n",
       "    }\n",
       "\n",
       "    .dataframe tbody tr th {\n",
       "        vertical-align: top;\n",
       "    }\n",
       "\n",
       "    .dataframe thead th {\n",
       "        text-align: right;\n",
       "    }\n",
       "</style>\n",
       "<table border=\"1\" class=\"dataframe\">\n",
       "  <thead>\n",
       "    <tr style=\"text-align: right;\">\n",
       "      <th></th>\n",
       "      <th>row.names</th>\n",
       "      <th>pclass</th>\n",
       "      <th>survived</th>\n",
       "      <th>name</th>\n",
       "      <th>age</th>\n",
       "      <th>embarked</th>\n",
       "      <th>home.dest</th>\n",
       "      <th>room</th>\n",
       "      <th>ticket</th>\n",
       "      <th>boat</th>\n",
       "      <th>sex</th>\n",
       "    </tr>\n",
       "  </thead>\n",
       "  <tbody>\n",
       "    <tr>\n",
       "      <th>1309</th>\n",
       "      <td>1310</td>\n",
       "      <td>3rd</td>\n",
       "      <td>0</td>\n",
       "      <td>Zakarian, Mr Maprieder</td>\n",
       "      <td>NaN</td>\n",
       "      <td>NaN</td>\n",
       "      <td>NaN</td>\n",
       "      <td>NaN</td>\n",
       "      <td>NaN</td>\n",
       "      <td>NaN</td>\n",
       "      <td>male</td>\n",
       "    </tr>\n",
       "  </tbody>\n",
       "</table>\n",
       "</div>"
      ],
      "text/plain": [
       "      row.names pclass  survived                    name  age embarked  \\\n",
       "1309       1310    3rd         0  Zakarian, Mr Maprieder  NaN      NaN   \n",
       "\n",
       "     home.dest room ticket boat   sex  \n",
       "1309       NaN  NaN    NaN  NaN  male  "
      ]
     },
     "execution_count": 119,
     "metadata": {},
     "output_type": "execute_result"
    }
   ],
   "source": [
    "titanic_df[titanic_df['name'].str.contains('Maprieder')]                         "
   ]
  },
  {
   "cell_type": "markdown",
   "id": "0844e9e0-fab4-410b-a4e8-342750dab3b0",
   "metadata": {},
   "source": [
    "#### 8. Is there only one such name ?"
   ]
  },
  {
   "cell_type": "code",
   "execution_count": 125,
   "id": "28796da1-797b-4ef2-86a0-7f7b73e665a8",
   "metadata": {},
   "outputs": [
    {
     "data": {
      "text/plain": [
       "array(['Zakarian, Mr Maprieder'], dtype=object)"
      ]
     },
     "execution_count": 125,
     "metadata": {},
     "output_type": "execute_result"
    }
   ],
   "source": [
    "titanic_df[titanic_df['name'].str.contains('Maprieder')]['name'].unique()    \n"
   ]
  },
  {
   "cell_type": "code",
   "execution_count": null,
   "id": "ce170e1d-5297-42aa-bd33-ec047493cae4",
   "metadata": {},
   "outputs": [],
   "source": []
  }
 ],
 "metadata": {
  "kernelspec": {
   "display_name": "Python 3 (ipykernel)",
   "language": "python",
   "name": "python3"
  },
  "language_info": {
   "codemirror_mode": {
    "name": "ipython",
    "version": 3
   },
   "file_extension": ".py",
   "mimetype": "text/x-python",
   "name": "python",
   "nbconvert_exporter": "python",
   "pygments_lexer": "ipython3",
   "version": "3.10.2"
  }
 },
 "nbformat": 4,
 "nbformat_minor": 5
}
