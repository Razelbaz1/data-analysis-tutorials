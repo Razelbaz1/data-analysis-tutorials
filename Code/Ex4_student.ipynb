{
 "cells": [
  {
   "cell_type": "markdown",
   "id": "0937c7b0-0450-4d10-bef1-6521df4f9105",
   "metadata": {
    "slideshow": {
     "slide_type": "slide"
    },
    "tags": []
   },
   "source": [
    "<div style=\"color:white;display:fill;border-radius:8px;\n",
    "            background-color:#03112A;font-size:250%; \n",
    "            letter-spacing:1.0px;background-image: url(https://i.imgur.com/GVd0La1.png)\">\n",
    "    <p style=\"padding: 8px;text-align: center;color:white; border-radius: 20px; padding-top: 20px; padding-bottom: 20px;\"><b><b><span style='color:#2ae4f5''></span></b> Exercise no. 4  </b></p>\n",
    "</div>"
   ]
  },
  {
   "cell_type": "markdown",
   "id": "76cc84d2-4279-497a-bd2a-186aebfb1533",
   "metadata": {
    "slideshow": {
     "slide_type": "fragment"
    },
    "tags": []
   },
   "source": [
    "# Groupby and Introduction to Boxplot"
   ]
  },
  {
   "cell_type": "markdown",
   "id": "80fd0699-11ff-4474-9fa0-040a02248505",
   "metadata": {
    "slideshow": {
     "slide_type": "fragment"
    },
    "tags": []
   },
   "source": [
    "1. [Quick recap](#1)\n",
    "2. [Groupby: titanic_df questions](#2)\n",
    "3. [Boxplot: Definition and example](#3)\n",
    "4. [Working with Boxplot](#4)\n",
    "\n",
    "\n",
    "#  <b id=\"Top\"> </b>  "
   ]
  },
  {
   "cell_type": "markdown",
   "id": "c4b91ed7-2156-47cd-b588-6796fabefb69",
   "metadata": {
    "slideshow": {
     "slide_type": "skip"
    }
   },
   "source": [
    "<a id='1'></a>"
   ]
  },
  {
   "cell_type": "markdown",
   "id": "a2fefb2a-16b5-4eb0-b1f8-04ea6ced17ae",
   "metadata": {
    "slideshow": {
     "slide_type": "skip"
    }
   },
   "source": [
    "<a class=\"anchor\" id='1'></a>"
   ]
  },
  {
   "cell_type": "markdown",
   "id": "9da7f897-cf1f-4a7d-b2b7-5630922b967d",
   "metadata": {
    "slideshow": {
     "slide_type": "slide"
    }
   },
   "source": [
    "<h1 style=\"background-color: #fff4d9; color: #0046d6; border-radius: 20px; text-align: center; padding-top: 20px; padding-bottom: 20px; font-family: 'Arial'\" id=\"introduction\">Quick recap.</h1>"
   ]
  },
  {
   "cell_type": "markdown",
   "id": "16c5c84b-0d52-4b3c-b672-6a9a5c8cd225",
   "metadata": {
    "output_scroll": false,
    "output_stretch": true,
    "slideshow": {
     "slide_type": "fragment"
    }
   },
   "source": [
    "---\n",
    "\n",
    ">\n",
    ">* `groupby()` - group according to the columns specified\n",
    ">\n",
    ">* `reset_index()`  adds a numerical index\n",
    ">\n",
    ">* `pd.to_datetime(df['date'])` - changes the attribute type to datetime\n",
    ">\n",
    ">* `pd.DatetimeIndex(df['date']).month` - extracts the month from the datatime attribute\n",
    ">\n",
    ">* `apply` - applies a function on each row (axis =0) in the dataframe. Change to (axis = 1) to apply the function on each column [documentation](https://pandas.pydata.org/pandas-docs/stable/reference/api/pandas.DataFrame.apply.html#pandas.DataFrame.apply)\n",
    ">\n",
    ">* `lambda` - small anonymous function\n",
    ">\n",
    ">* `agg` - apply multiple functions at once, one for each specified column [documentation](https://pandas.pydata.org/pandas-docs/stable/reference/api/pandas.DataFrame.agg.html)\n",
    ">\n",
    ">* `unstack` - unstack the inner-most index onto a column [documentation](https://pandas.pydata.org/docs/reference/api/pandas.DataFrame.unstack.html)\n",
    ">\n",
    ">* `droplevel(0, axis = 1)` - drops the highest (first) level in the column index of a multi-index dataframe\n",
    ">\n",
    ">* `transpose` - switch between columns and rows\n",
    "---"
   ]
  },
  {
   "cell_type": "markdown",
   "id": "b22436f0-321e-4528-a5b2-bbd50ab77f3c",
   "metadata": {
    "slideshow": {
     "slide_type": "skip"
    }
   },
   "source": [
    "<a id='2'></a>"
   ]
  },
  {
   "cell_type": "markdown",
   "id": "2df8a2e8-13dd-4029-8c77-cffad5bf3131",
   "metadata": {
    "slideshow": {
     "slide_type": "slide"
    }
   },
   "source": [
    "<h1 style=\"background-color: #fff4d9; color: #0046d6; border-radius: 20px; text-align: center; padding-top: 20px; padding-bottom: 20px; font-family: 'Arial'\" id=\"introduction\">Groupby: titanic_df</h1>"
   ]
  },
  {
   "cell_type": "code",
   "execution_count": 2,
   "id": "7cfd7f66-8b32-4381-8c88-7df6a98fbb09",
   "metadata": {
    "slideshow": {
     "slide_type": "fragment"
    }
   },
   "outputs": [],
   "source": [
    "import pandas as pd"
   ]
  },
  {
   "cell_type": "code",
   "execution_count": 3,
   "id": "392ce172-46b1-42b7-b84b-d3d67914e65f",
   "metadata": {
    "slideshow": {
     "slide_type": "fragment"
    }
   },
   "outputs": [
    {
     "data": {
      "text/plain": [
       "'C:\\\\Users\\\\razel\\\\Desktop\\\\אריאל\\\\data-analytics\\\\\\u200f\\u200fMy Lectures Sem B 24\\\\tirgul4\\\\Tigul4'"
      ]
     },
     "execution_count": 3,
     "metadata": {},
     "output_type": "execute_result"
    }
   ],
   "source": [
    "import os\n",
    "os.getcwd()"
   ]
  },
  {
   "cell_type": "code",
   "execution_count": 4,
   "id": "cd4af829-0b7b-4860-8915-f6f59e4a7264",
   "metadata": {
    "slideshow": {
     "slide_type": "fragment"
    }
   },
   "outputs": [],
   "source": [
    "url = 'https://raw.githubusercontent.com/Razelbaz1/exercises-package/master/data/titanic.csv'\n",
    "titanic_df = pd.read_csv(url,encoding='latin1')"
   ]
  },
  {
   "cell_type": "code",
   "execution_count": 5,
   "id": "4af287e2-d26b-41fb-be6e-85ed002ac590",
   "metadata": {
    "slideshow": {
     "slide_type": "fragment"
    }
   },
   "outputs": [
    {
     "data": {
      "text/html": [
       "<div>\n",
       "<style scoped>\n",
       "    .dataframe tbody tr th:only-of-type {\n",
       "        vertical-align: middle;\n",
       "    }\n",
       "\n",
       "    .dataframe tbody tr th {\n",
       "        vertical-align: top;\n",
       "    }\n",
       "\n",
       "    .dataframe thead th {\n",
       "        text-align: right;\n",
       "    }\n",
       "</style>\n",
       "<table border=\"1\" class=\"dataframe\">\n",
       "  <thead>\n",
       "    <tr style=\"text-align: right;\">\n",
       "      <th></th>\n",
       "      <th>row.names</th>\n",
       "      <th>pclass</th>\n",
       "      <th>survived</th>\n",
       "      <th>name</th>\n",
       "      <th>age</th>\n",
       "      <th>embarked</th>\n",
       "      <th>home.dest</th>\n",
       "      <th>room</th>\n",
       "      <th>ticket</th>\n",
       "      <th>boat</th>\n",
       "      <th>sex</th>\n",
       "    </tr>\n",
       "  </thead>\n",
       "  <tbody>\n",
       "    <tr>\n",
       "      <th>0</th>\n",
       "      <td>1</td>\n",
       "      <td>1st</td>\n",
       "      <td>1</td>\n",
       "      <td>Allen, Miss Elisabeth Walton</td>\n",
       "      <td>29.0000</td>\n",
       "      <td>Southampton</td>\n",
       "      <td>St Louis, MO</td>\n",
       "      <td>B-5</td>\n",
       "      <td>24160 L221</td>\n",
       "      <td>2</td>\n",
       "      <td>female</td>\n",
       "    </tr>\n",
       "    <tr>\n",
       "      <th>1</th>\n",
       "      <td>2</td>\n",
       "      <td>1st</td>\n",
       "      <td>0</td>\n",
       "      <td>Allison, Miss Helen Loraine</td>\n",
       "      <td>2.0000</td>\n",
       "      <td>Southampton</td>\n",
       "      <td>Montreal, PQ / Chesterville, ON</td>\n",
       "      <td>C26</td>\n",
       "      <td>NaN</td>\n",
       "      <td>NaN</td>\n",
       "      <td>female</td>\n",
       "    </tr>\n",
       "    <tr>\n",
       "      <th>2</th>\n",
       "      <td>3</td>\n",
       "      <td>1st</td>\n",
       "      <td>0</td>\n",
       "      <td>Allison, Mr Hudson Joshua Creighton</td>\n",
       "      <td>30.0000</td>\n",
       "      <td>Southampton</td>\n",
       "      <td>Montreal, PQ / Chesterville, ON</td>\n",
       "      <td>C26</td>\n",
       "      <td>NaN</td>\n",
       "      <td>-135</td>\n",
       "      <td>male</td>\n",
       "    </tr>\n",
       "    <tr>\n",
       "      <th>3</th>\n",
       "      <td>4</td>\n",
       "      <td>1st</td>\n",
       "      <td>0</td>\n",
       "      <td>Allison, Mrs Hudson J.C. (Bessie Waldo Daniels)</td>\n",
       "      <td>25.0000</td>\n",
       "      <td>Southampton</td>\n",
       "      <td>Montreal, PQ / Chesterville, ON</td>\n",
       "      <td>C26</td>\n",
       "      <td>NaN</td>\n",
       "      <td>NaN</td>\n",
       "      <td>female</td>\n",
       "    </tr>\n",
       "    <tr>\n",
       "      <th>4</th>\n",
       "      <td>5</td>\n",
       "      <td>1st</td>\n",
       "      <td>1</td>\n",
       "      <td>Allison, Master Hudson Trevor</td>\n",
       "      <td>0.9167</td>\n",
       "      <td>Southampton</td>\n",
       "      <td>Montreal, PQ / Chesterville, ON</td>\n",
       "      <td>C22</td>\n",
       "      <td>NaN</td>\n",
       "      <td>11</td>\n",
       "      <td>male</td>\n",
       "    </tr>\n",
       "  </tbody>\n",
       "</table>\n",
       "</div>"
      ],
      "text/plain": [
       "   row.names pclass  survived  \\\n",
       "0          1    1st         1   \n",
       "1          2    1st         0   \n",
       "2          3    1st         0   \n",
       "3          4    1st         0   \n",
       "4          5    1st         1   \n",
       "\n",
       "                                              name      age     embarked  \\\n",
       "0                     Allen, Miss Elisabeth Walton  29.0000  Southampton   \n",
       "1                      Allison, Miss Helen Loraine   2.0000  Southampton   \n",
       "2              Allison, Mr Hudson Joshua Creighton  30.0000  Southampton   \n",
       "3  Allison, Mrs Hudson J.C. (Bessie Waldo Daniels)  25.0000  Southampton   \n",
       "4                    Allison, Master Hudson Trevor   0.9167  Southampton   \n",
       "\n",
       "                         home.dest room      ticket  boat     sex  \n",
       "0                     St Louis, MO  B-5  24160 L221     2  female  \n",
       "1  Montreal, PQ / Chesterville, ON  C26         NaN   NaN  female  \n",
       "2  Montreal, PQ / Chesterville, ON  C26         NaN  -135    male  \n",
       "3  Montreal, PQ / Chesterville, ON  C26         NaN   NaN  female  \n",
       "4  Montreal, PQ / Chesterville, ON  C22         NaN    11    male  "
      ]
     },
     "execution_count": 5,
     "metadata": {},
     "output_type": "execute_result"
    }
   ],
   "source": [
    "titanic_df.head()"
   ]
  },
  {
   "cell_type": "markdown",
   "id": "7b23ae0c-3dc7-4fbb-89cc-c60cfbe7ec70",
   "metadata": {
    "slideshow": {
     "slide_type": "slide"
    }
   },
   "source": [
    "# Now you."
   ]
  },
  {
   "cell_type": "markdown",
   "id": "ab66c98b-c98a-432f-ae67-31f63f9b7741",
   "metadata": {
    "slideshow": {
     "slide_type": "fragment"
    }
   },
   "source": [
    "#### 1.1 What is the average age for male versus female Titanic passengers?"
   ]
  },
  {
   "cell_type": "code",
   "execution_count": 6,
   "id": "4e9c2d5f-8a05-4951-b719-169c81dd750c",
   "metadata": {
    "slideshow": {
     "slide_type": "fragment"
    }
   },
   "outputs": [
    {
     "data": {
      "text/plain": [
       "Index(['row.names', 'pclass', 'survived', 'name', 'age', 'embarked',\n",
       "       'home.dest', 'room', 'ticket', 'boat', 'sex'],\n",
       "      dtype='object')"
      ]
     },
     "execution_count": 6,
     "metadata": {},
     "output_type": "execute_result"
    }
   ],
   "source": [
    "titanic_df.columns"
   ]
  },
  {
   "cell_type": "code",
   "execution_count": 7,
   "id": "aca8419d-7c90-4730-87ce-d6db8f6e4483",
   "metadata": {
    "slideshow": {
     "slide_type": "fragment"
    }
   },
   "outputs": [
    {
     "data": {
      "text/plain": [
       "sex\n",
       "female    30.572702\n",
       "male      31.581410\n",
       "Name: age, dtype: float64"
      ]
     },
     "execution_count": 7,
     "metadata": {},
     "output_type": "execute_result"
    }
   ],
   "source": []
  },
  {
   "cell_type": "markdown",
   "id": "9d2722f7-5bdd-4817-a1b6-8fa0c28cd9ef",
   "metadata": {
    "slideshow": {
     "slide_type": "fragment"
    }
   },
   "source": [
    "> Or alternatively: if we want to save the output as a `DataFrame`."
   ]
  },
  {
   "cell_type": "code",
   "execution_count": 8,
   "id": "296342a3-ff43-4fdc-ada5-6cc8cf34053b",
   "metadata": {
    "slideshow": {
     "slide_type": "fragment"
    }
   },
   "outputs": [
    {
     "data": {
      "text/html": [
       "<div>\n",
       "<style scoped>\n",
       "    .dataframe tbody tr th:only-of-type {\n",
       "        vertical-align: middle;\n",
       "    }\n",
       "\n",
       "    .dataframe tbody tr th {\n",
       "        vertical-align: top;\n",
       "    }\n",
       "\n",
       "    .dataframe thead th {\n",
       "        text-align: right;\n",
       "    }\n",
       "</style>\n",
       "<table border=\"1\" class=\"dataframe\">\n",
       "  <thead>\n",
       "    <tr style=\"text-align: right;\">\n",
       "      <th></th>\n",
       "      <th>age</th>\n",
       "    </tr>\n",
       "    <tr>\n",
       "      <th>sex</th>\n",
       "      <th></th>\n",
       "    </tr>\n",
       "  </thead>\n",
       "  <tbody>\n",
       "    <tr>\n",
       "      <th>female</th>\n",
       "      <td>30.572702</td>\n",
       "    </tr>\n",
       "    <tr>\n",
       "      <th>male</th>\n",
       "      <td>31.581410</td>\n",
       "    </tr>\n",
       "  </tbody>\n",
       "</table>\n",
       "</div>"
      ],
      "text/plain": [
       "              age\n",
       "sex              \n",
       "female  30.572702\n",
       "male    31.581410"
      ]
     },
     "execution_count": 8,
     "metadata": {},
     "output_type": "execute_result"
    }
   ],
   "source": []
  },
  {
   "cell_type": "markdown",
   "id": "6c9a8a8c-5885-4596-93e2-d51302cb37ca",
   "metadata": {
    "slideshow": {
     "slide_type": "slide"
    }
   },
   "source": [
    "#### 1.2 How many passengers were in each class ?"
   ]
  },
  {
   "cell_type": "code",
   "execution_count": 9,
   "id": "c784425d-8388-4cbf-a194-66baa5b06bdf",
   "metadata": {
    "slideshow": {
     "slide_type": "fragment"
    }
   },
   "outputs": [
    {
     "data": {
      "text/plain": [
       "pclass\n",
       "1st    322\n",
       "2nd    280\n",
       "3rd    711\n",
       "Name: pclass, dtype: int64"
      ]
     },
     "execution_count": 9,
     "metadata": {},
     "output_type": "execute_result"
    }
   ],
   "source": []
  },
  {
   "cell_type": "code",
   "execution_count": 10,
   "id": "5de617d6-e4cd-4bf6-a107-5856caaf83b1",
   "metadata": {
    "slideshow": {
     "slide_type": "fragment"
    }
   },
   "outputs": [
    {
     "data": {
      "text/html": [
       "<div>\n",
       "<style scoped>\n",
       "    .dataframe tbody tr th:only-of-type {\n",
       "        vertical-align: middle;\n",
       "    }\n",
       "\n",
       "    .dataframe tbody tr th {\n",
       "        vertical-align: top;\n",
       "    }\n",
       "\n",
       "    .dataframe thead th {\n",
       "        text-align: right;\n",
       "    }\n",
       "</style>\n",
       "<table border=\"1\" class=\"dataframe\">\n",
       "  <thead>\n",
       "    <tr style=\"text-align: right;\">\n",
       "      <th></th>\n",
       "      <th>pclass</th>\n",
       "      <th>counts</th>\n",
       "    </tr>\n",
       "  </thead>\n",
       "  <tbody>\n",
       "    <tr>\n",
       "      <th>0</th>\n",
       "      <td>1st</td>\n",
       "      <td>322</td>\n",
       "    </tr>\n",
       "    <tr>\n",
       "      <th>1</th>\n",
       "      <td>2nd</td>\n",
       "      <td>280</td>\n",
       "    </tr>\n",
       "    <tr>\n",
       "      <th>2</th>\n",
       "      <td>3rd</td>\n",
       "      <td>711</td>\n",
       "    </tr>\n",
       "  </tbody>\n",
       "</table>\n",
       "</div>"
      ],
      "text/plain": [
       "  pclass  counts\n",
       "0    1st     322\n",
       "1    2nd     280\n",
       "2    3rd     711"
      ]
     },
     "execution_count": 10,
     "metadata": {},
     "output_type": "execute_result"
    }
   ],
   "source": []
  },
  {
   "cell_type": "markdown",
   "id": "18f2abac-bdd9-47d1-8b91-824a563405d2",
   "metadata": {
    "slideshow": {
     "slide_type": "fragment"
    }
   },
   "source": [
    "**OR**"
   ]
  },
  {
   "cell_type": "code",
   "execution_count": 11,
   "id": "5d2e0a42-3a1d-4ad0-aa3f-fd040e9932db",
   "metadata": {
    "slideshow": {
     "slide_type": "fragment"
    }
   },
   "outputs": [
    {
     "data": {
      "text/plain": [
       "pclass\n",
       "1st    322\n",
       "2nd    280\n",
       "3rd    711\n",
       "dtype: int64"
      ]
     },
     "execution_count": 11,
     "metadata": {},
     "output_type": "execute_result"
    }
   ],
   "source": []
  },
  {
   "cell_type": "markdown",
   "id": "0c3d009c-abc7-47f9-862e-62c87dd1602b",
   "metadata": {
    "slideshow": {
     "slide_type": "fragment"
    }
   },
   "source": [
    "> Basically, a `size` function counts the number of rows in each group."
   ]
  },
  {
   "cell_type": "code",
   "execution_count": 12,
   "id": "1a1a0b8b-6a2e-4809-94af-a96af83fc492",
   "metadata": {},
   "outputs": [],
   "source": [
    "#titanic_df.groupby(\"pclass\").count()  "
   ]
  },
  {
   "cell_type": "code",
   "execution_count": 13,
   "id": "6cddfd0d-5006-4d2d-b02e-e2538129fd5a",
   "metadata": {},
   "outputs": [],
   "source": [
    "# Whats the problem here ?"
   ]
  },
  {
   "cell_type": "markdown",
   "id": "97553187-31cc-4a65-b65c-7aaf7c1829b2",
   "metadata": {
    "slideshow": {
     "slide_type": "slide"
    }
   },
   "source": [
    "#### 1.3 Answer the question so that the output is as a data frame. "
   ]
  },
  {
   "cell_type": "code",
   "execution_count": 14,
   "id": "96b59740-b8a7-4ecf-832f-ebaeb98adccd",
   "metadata": {
    "slideshow": {
     "slide_type": "fragment"
    }
   },
   "outputs": [
    {
     "data": {
      "text/html": [
       "<div>\n",
       "<style scoped>\n",
       "    .dataframe tbody tr th:only-of-type {\n",
       "        vertical-align: middle;\n",
       "    }\n",
       "\n",
       "    .dataframe tbody tr th {\n",
       "        vertical-align: top;\n",
       "    }\n",
       "\n",
       "    .dataframe thead th {\n",
       "        text-align: right;\n",
       "    }\n",
       "</style>\n",
       "<table border=\"1\" class=\"dataframe\">\n",
       "  <thead>\n",
       "    <tr style=\"text-align: right;\">\n",
       "      <th></th>\n",
       "      <th>pclass</th>\n",
       "      <th>counts</th>\n",
       "    </tr>\n",
       "  </thead>\n",
       "  <tbody>\n",
       "    <tr>\n",
       "      <th>0</th>\n",
       "      <td>1st</td>\n",
       "      <td>322</td>\n",
       "    </tr>\n",
       "    <tr>\n",
       "      <th>1</th>\n",
       "      <td>2nd</td>\n",
       "      <td>280</td>\n",
       "    </tr>\n",
       "    <tr>\n",
       "      <th>2</th>\n",
       "      <td>3rd</td>\n",
       "      <td>711</td>\n",
       "    </tr>\n",
       "  </tbody>\n",
       "</table>\n",
       "</div>"
      ],
      "text/plain": [
       "  pclass  counts\n",
       "0    1st     322\n",
       "1    2nd     280\n",
       "2    3rd     711"
      ]
     },
     "execution_count": 14,
     "metadata": {},
     "output_type": "execute_result"
    }
   ],
   "source": [
    "# As dataframe\n"
   ]
  },
  {
   "cell_type": "markdown",
   "id": "de6f670b-5005-4797-9c7b-de38dfdfd5ca",
   "metadata": {
    "slideshow": {
     "slide_type": "fragment"
    }
   },
   "source": [
    "**OR**"
   ]
  },
  {
   "cell_type": "code",
   "execution_count": 15,
   "id": "243bebc9-ff11-4295-ab1d-14170b064a23",
   "metadata": {
    "slideshow": {
     "slide_type": "fragment"
    }
   },
   "outputs": [
    {
     "data": {
      "text/html": [
       "<div>\n",
       "<style scoped>\n",
       "    .dataframe tbody tr th:only-of-type {\n",
       "        vertical-align: middle;\n",
       "    }\n",
       "\n",
       "    .dataframe tbody tr th {\n",
       "        vertical-align: top;\n",
       "    }\n",
       "\n",
       "    .dataframe thead th {\n",
       "        text-align: right;\n",
       "    }\n",
       "</style>\n",
       "<table border=\"1\" class=\"dataframe\">\n",
       "  <thead>\n",
       "    <tr style=\"text-align: right;\">\n",
       "      <th></th>\n",
       "      <th>pclass</th>\n",
       "      <th>counts</th>\n",
       "    </tr>\n",
       "  </thead>\n",
       "  <tbody>\n",
       "    <tr>\n",
       "      <th>0</th>\n",
       "      <td>1st</td>\n",
       "      <td>322</td>\n",
       "    </tr>\n",
       "    <tr>\n",
       "      <th>1</th>\n",
       "      <td>2nd</td>\n",
       "      <td>280</td>\n",
       "    </tr>\n",
       "    <tr>\n",
       "      <th>2</th>\n",
       "      <td>3rd</td>\n",
       "      <td>711</td>\n",
       "    </tr>\n",
       "  </tbody>\n",
       "</table>\n",
       "</div>"
      ],
      "text/plain": [
       "  pclass  counts\n",
       "0    1st     322\n",
       "1    2nd     280\n",
       "2    3rd     711"
      ]
     },
     "execution_count": 15,
     "metadata": {},
     "output_type": "execute_result"
    }
   ],
   "source": []
  },
  {
   "cell_type": "markdown",
   "id": "68dded89-1151-4996-872d-9b09a5ddd587",
   "metadata": {
    "slideshow": {
     "slide_type": "slide"
    }
   },
   "source": [
    "#### 2. Suggest a solution for the code you wrote to additionally classify by gender."
   ]
  },
  {
   "cell_type": "code",
   "execution_count": 16,
   "id": "750c5497-8b95-4f19-a434-22b00a7c9b42",
   "metadata": {
    "slideshow": {
     "slide_type": "fragment"
    }
   },
   "outputs": [
    {
     "data": {
      "text/plain": [
       "pclass  sex   \n",
       "1st     male      179\n",
       "        female    143\n",
       "2nd     male      173\n",
       "        female    107\n",
       "3rd     male      498\n",
       "        female    213\n",
       "Name: count, dtype: int64"
      ]
     },
     "execution_count": 16,
     "metadata": {},
     "output_type": "execute_result"
    }
   ],
   "source": []
  },
  {
   "cell_type": "code",
   "execution_count": 17,
   "id": "9d6060e8-733d-48a7-a41b-3860c2696943",
   "metadata": {
    "slideshow": {
     "slide_type": "fragment"
    }
   },
   "outputs": [
    {
     "data": {
      "text/plain": [
       "pclass  sex   \n",
       "1st     female    143\n",
       "        male      179\n",
       "2nd     female    107\n",
       "        male      173\n",
       "3rd     female    213\n",
       "        male      498\n",
       "Name: sex, dtype: int64"
      ]
     },
     "execution_count": 17,
     "metadata": {},
     "output_type": "execute_result"
    }
   ],
   "source": []
  },
  {
   "cell_type": "markdown",
   "id": "b5e76940-d240-4402-9c15-529c75bbb3ed",
   "metadata": {
    "slideshow": {
     "slide_type": "slide"
    }
   },
   "source": [
    "#### 3.1 Suggest a solution for how many survived by class and gender."
   ]
  },
  {
   "cell_type": "code",
   "execution_count": 18,
   "id": "21b214f6-eb15-452f-aa6c-45188c4f6ba7",
   "metadata": {
    "slideshow": {
     "slide_type": "fragment"
    }
   },
   "outputs": [
    {
     "data": {
      "text/plain": [
       "pclass  sex   \n",
       "1st     female    134\n",
       "        male       59\n",
       "2nd     female     94\n",
       "        male       25\n",
       "3rd     female     79\n",
       "        male       58\n",
       "Name: survived, dtype: int64"
      ]
     },
     "execution_count": 18,
     "metadata": {},
     "output_type": "execute_result"
    }
   ],
   "source": []
  },
  {
   "cell_type": "markdown",
   "id": "903f7c54-153b-4bd5-b86c-bfe84b0fd042",
   "metadata": {
    "slideshow": {
     "slide_type": "fragment"
    }
   },
   "source": [
    "#### 3.2 Suggest a solution for how many survived AND not survived by class and gender."
   ]
  },
  {
   "cell_type": "code",
   "execution_count": 19,
   "id": "4b44465a-f910-4d26-b382-f16fb808559e",
   "metadata": {
    "slideshow": {
     "slide_type": "fragment"
    }
   },
   "outputs": [
    {
     "data": {
      "text/plain": [
       "pclass  sex     survived\n",
       "1st     female  1           134\n",
       "                0             9\n",
       "        male    0           120\n",
       "                1            59\n",
       "2nd     female  1            94\n",
       "                0            13\n",
       "        male    0           148\n",
       "                1            25\n",
       "3rd     female  0           134\n",
       "                1            79\n",
       "        male    0           440\n",
       "                1            58\n",
       "Name: count, dtype: int64"
      ]
     },
     "execution_count": 19,
     "metadata": {},
     "output_type": "execute_result"
    }
   ],
   "source": []
  },
  {
   "cell_type": "markdown",
   "id": "deaed9cc-1c61-414d-8ad1-1b55a1b7da99",
   "metadata": {
    "slideshow": {
     "slide_type": "slide"
    }
   },
   "source": [
    "#### 4. Suggest a solution for how many total and average survivors by class"
   ]
  },
  {
   "cell_type": "code",
   "execution_count": 20,
   "id": "cc99e95b-2547-476f-90fb-b0dd2a04ae48",
   "metadata": {
    "slideshow": {
     "slide_type": "fragment"
    }
   },
   "outputs": [
    {
     "data": {
      "text/html": [
       "<div>\n",
       "<style scoped>\n",
       "    .dataframe tbody tr th:only-of-type {\n",
       "        vertical-align: middle;\n",
       "    }\n",
       "\n",
       "    .dataframe tbody tr th {\n",
       "        vertical-align: top;\n",
       "    }\n",
       "\n",
       "    .dataframe thead th {\n",
       "        text-align: right;\n",
       "    }\n",
       "</style>\n",
       "<table border=\"1\" class=\"dataframe\">\n",
       "  <thead>\n",
       "    <tr style=\"text-align: right;\">\n",
       "      <th></th>\n",
       "      <th>mean</th>\n",
       "      <th>sum</th>\n",
       "    </tr>\n",
       "    <tr>\n",
       "      <th>pclass</th>\n",
       "      <th></th>\n",
       "      <th></th>\n",
       "    </tr>\n",
       "  </thead>\n",
       "  <tbody>\n",
       "    <tr>\n",
       "      <th>1st</th>\n",
       "      <td>0.599379</td>\n",
       "      <td>193</td>\n",
       "    </tr>\n",
       "    <tr>\n",
       "      <th>2nd</th>\n",
       "      <td>0.425000</td>\n",
       "      <td>119</td>\n",
       "    </tr>\n",
       "    <tr>\n",
       "      <th>3rd</th>\n",
       "      <td>0.192686</td>\n",
       "      <td>137</td>\n",
       "    </tr>\n",
       "  </tbody>\n",
       "</table>\n",
       "</div>"
      ],
      "text/plain": [
       "            mean  sum\n",
       "pclass               \n",
       "1st     0.599379  193\n",
       "2nd     0.425000  119\n",
       "3rd     0.192686  137"
      ]
     },
     "execution_count": 20,
     "metadata": {},
     "output_type": "execute_result"
    }
   ],
   "source": []
  },
  {
   "cell_type": "markdown",
   "id": "eaf05b41-5844-4a23-be38-1f0555137a6a",
   "metadata": {
    "slideshow": {
     "slide_type": "slide"
    }
   },
   "source": [
    "#### Can we convert continuous or interval ratio types of data into a categorical variable ?\n",
    "#### Think about a way to group by `age`\n"
   ]
  },
  {
   "cell_type": "markdown",
   "id": "1577b59b-464e-4356-8bdf-3c93a556c0a1",
   "metadata": {
    "slideshow": {
     "slide_type": "fragment"
    }
   },
   "source": [
    "---\n",
    "#### A common way to look at the distribution of a continuous number is through a graph called a `histogram`. [Read here for more](#https://seaborn.pydata.org/generated/seaborn.histplot.html)\n",
    "A histogram is a classic visualization tool that represents the distribution of one or more variables by counting the number of observations that fall within discrete bins.\n",
    "\n",
    "We will talk about this in detail during the semester."
   ]
  },
  {
   "cell_type": "code",
   "execution_count": 21,
   "id": "341384df-250f-4f1f-a4f3-865f6641d58d",
   "metadata": {
    "slideshow": {
     "slide_type": "fragment"
    }
   },
   "outputs": [
    {
     "data": {
      "image/png": "[encoded data removed]",
      "text/plain": [
       "<Figure size 640x480 with 1 Axes>"
      ]
     },
     "metadata": {},
     "output_type": "display_data"
    }
   ],
   "source": [
    "import seaborn as sns\n",
    "sns.histplot(titanic_df['age'],bins = 40 ,kde= True);"
   ]
  },
  {
   "cell_type": "markdown",
   "id": "a362f611-d696-432d-9f66-96f4b9c3f991",
   "metadata": {
    "slideshow": {
     "slide_type": "slide"
    }
   },
   "source": [
    "#### Can we convert continuous or interval ratio types of data into a categorical variable ?\n",
    "#### Think about a way to group by `age`\n"
   ]
  },
  {
   "cell_type": "markdown",
   "id": "a783f22b-ed54-45e7-a4f0-2591a09c8285",
   "metadata": {
    "slideshow": {
     "slide_type": "fragment"
    }
   },
   "source": [
    "##### Hint: look for `pd.cut` via internet\n",
    "\n",
    "\"\n",
    "    Bin values into discrete intervals.\n",
    "\n",
    "Use cut when you need to segment and sort data values into bins. This function is also useful for going from a continuous variable to a categorical variable. For example, cut could convert ages to groups of age ranges. Supports binning into an equal number of bins, or a pre-specified array of bins.\n",
    "        \""
   ]
  },
  {
   "cell_type": "markdown",
   "id": "b3d47f84-2851-4907-9930-f3fbf2cb1507",
   "metadata": {
    "slideshow": {
     "slide_type": "fragment"
    }
   },
   "source": [
    "### So how do we divide them?\n",
    "##### By equal ranges in numbers **or** by the amount of values?"
   ]
  },
  {
   "cell_type": "code",
   "execution_count": 22,
   "id": "138981c2-c567-470b-af7b-89c98b94885f",
   "metadata": {
    "slideshow": {
     "slide_type": "fragment"
    }
   },
   "outputs": [
    {
     "data": {
      "text/html": [
       "<div>\n",
       "<style scoped>\n",
       "    .dataframe tbody tr th:only-of-type {\n",
       "        vertical-align: middle;\n",
       "    }\n",
       "\n",
       "    .dataframe tbody tr th {\n",
       "        vertical-align: top;\n",
       "    }\n",
       "\n",
       "    .dataframe thead th {\n",
       "        text-align: right;\n",
       "    }\n",
       "</style>\n",
       "<table border=\"1\" class=\"dataframe\">\n",
       "  <thead>\n",
       "    <tr style=\"text-align: right;\">\n",
       "      <th></th>\n",
       "      <th>age</th>\n",
       "    </tr>\n",
       "  </thead>\n",
       "  <tbody>\n",
       "    <tr>\n",
       "      <th>count</th>\n",
       "      <td>633.0</td>\n",
       "    </tr>\n",
       "    <tr>\n",
       "      <th>mean</th>\n",
       "      <td>31.0</td>\n",
       "    </tr>\n",
       "    <tr>\n",
       "      <th>std</th>\n",
       "      <td>15.0</td>\n",
       "    </tr>\n",
       "    <tr>\n",
       "      <th>min</th>\n",
       "      <td>0.0</td>\n",
       "    </tr>\n",
       "    <tr>\n",
       "      <th>25%</th>\n",
       "      <td>21.0</td>\n",
       "    </tr>\n",
       "    <tr>\n",
       "      <th>50%</th>\n",
       "      <td>30.0</td>\n",
       "    </tr>\n",
       "    <tr>\n",
       "      <th>75%</th>\n",
       "      <td>41.0</td>\n",
       "    </tr>\n",
       "    <tr>\n",
       "      <th>max</th>\n",
       "      <td>71.0</td>\n",
       "    </tr>\n",
       "  </tbody>\n",
       "</table>\n",
       "</div>"
      ],
      "text/plain": [
       "         age\n",
       "count  633.0\n",
       "mean    31.0\n",
       "std     15.0\n",
       "min      0.0\n",
       "25%     21.0\n",
       "50%     30.0\n",
       "75%     41.0\n",
       "max     71.0"
      ]
     },
     "execution_count": 22,
     "metadata": {},
     "output_type": "execute_result"
    }
   ],
   "source": [
    "titanic_df[['age']].describe().round()"
   ]
  },
  {
   "cell_type": "markdown",
   "id": "70c2bf84-9aa0-4b46-9ace-b4755abed2a6",
   "metadata": {
    "slideshow": {
     "slide_type": "slide"
    }
   },
   "source": [
    "#### Division by fixed numerical ranges"
   ]
  },
  {
   "cell_type": "code",
   "execution_count": 23,
   "id": "89b17106-fd70-486d-b161-0e7bd787d695",
   "metadata": {
    "slideshow": {
     "slide_type": "fragment"
    }
   },
   "outputs": [],
   "source": [
    "titanic_df['age_bins'] = pd.cut(titanic_df['age'], bins = 3, labels = ('young', 'middle_age', 'old' )) # bins also accept intervals such as bins=range(0, 100, 10)"
   ]
  },
  {
   "cell_type": "code",
   "execution_count": 24,
   "id": "a176b1ad-6ea7-46bf-be53-fdca15bf4625",
   "metadata": {
    "slideshow": {
     "slide_type": "fragment"
    }
   },
   "outputs": [
    {
     "name": "stdout",
     "output_type": "stream",
     "text": [
      "IntervalIndex([(0.0959, 23.778], (23.778, 47.389], (47.389, 71.0]], dtype='interval[float64, right]')\n"
     ]
    }
   ],
   "source": [
    "bins = pd.cut(titanic_df['age'], bins=3) #show intervals\n",
    "print(bins.cat.categories)  "
   ]
  },
  {
   "cell_type": "code",
   "execution_count": 25,
   "id": "21255fcb-0a63-42a4-b759-50a9b8ac9934",
   "metadata": {
    "slideshow": {
     "slide_type": "fragment"
    }
   },
   "outputs": [
    {
     "data": {
      "image/png": "[encoded data removed]",
      "text/plain": [
       "<Figure size 1800x400 with 2 Axes>"
      ]
     },
     "metadata": {},
     "output_type": "display_data"
    }
   ],
   "source": [
    "import matplotlib.pyplot as plt  #for reshaping graph size\n",
    "\n",
    "fig, ax = plt.subplots(1,2, figsize = (18,4))\n",
    "plt.subplots_adjust(wspace = 0.5)\n",
    "\n",
    "sns.kdeplot(data = titanic_df,x='age', ax = ax[0]);\n",
    "ax[0].set_title('age');\n",
    "\n",
    "sns.kdeplot(data = titanic_df,x='age',hue= 'age_bins', ax = ax[1] );\n",
    "ax[1].set_title('age_bins');\n"
   ]
  },
  {
   "cell_type": "markdown",
   "id": "218e29c3-5a6f-438a-91d4-c0f5362789b0",
   "metadata": {
    "slideshow": {
     "slide_type": "fragment"
    }
   },
   "source": [
    "**KDE, or Kernl Density Estimation, is a statistical tool that aims to estimate the density function of a random variable (distribution) based on given data.** (More on the graph later in the semester.)"
   ]
  },
  {
   "cell_type": "markdown",
   "id": "306a2ffd-f32a-4564-abca-3b66d0929aad",
   "metadata": {
    "slideshow": {
     "slide_type": "slide"
    }
   },
   "source": [
    "#### How many have survived now by age group?"
   ]
  },
  {
   "cell_type": "code",
   "execution_count": 26,
   "id": "587e518c-a9fc-43bb-b990-19dcac0dfce4",
   "metadata": {
    "slideshow": {
     "slide_type": "fragment"
    }
   },
   "outputs": [
    {
     "data": {
      "text/plain": [
       "age_bins\n",
       "young         104\n",
       "middle_age    130\n",
       "old            47\n",
       "Name: survived, dtype: int64"
      ]
     },
     "execution_count": 26,
     "metadata": {},
     "output_type": "execute_result"
    }
   ],
   "source": [
    "titanic_df.groupby(['age_bins'], observed=False)['survived'].sum()\n",
    "\n",
    "# what happen if :\n",
    "# titanic_df.groupby(['age_bins']).sum()\n",
    "\n",
    "# every numeric column will appear"
   ]
  },
  {
   "cell_type": "markdown",
   "id": "6889f43e-4f2e-4c35-aacc-d75df8bc65cd",
   "metadata": {
    "slideshow": {
     "slide_type": "fragment"
    }
   },
   "source": [
    "**Add `observed=False` to include the categories that did not receive values** \n",
    "\n",
    "Suppose the `age_bins` category contains the following ranges: ['young', 'middle_age', 'old'], but the data only contains values for the ranges `young` and `old`.\n",
    "\n",
    "`observed=False`: The output will also include the `middle_age` category with a value of `0`, because it is part of the defined categories.\n",
    "\n",
    "`observed=True`: The output will only include `young` and `old`, without categories that have no data."
   ]
  },
  {
   "cell_type": "markdown",
   "id": "58152bad-fccc-4534-b1f5-569b00fd7704",
   "metadata": {
    "slideshow": {
     "slide_type": "slide"
    }
   },
   "source": [
    "###  Did you know ?"
   ]
  },
  {
   "cell_type": "markdown",
   "id": "5b5b58e1-94dc-42b5-a7b2-76bd1f3f0fa3",
   "metadata": {
    "slideshow": {
     "slide_type": "fragment"
    }
   },
   "source": [
    "#### You can display a graph as a result of grouping directly."
   ]
  },
  {
   "cell_type": "markdown",
   "id": "184cb013-5527-485e-85f6-9b8715f38065",
   "metadata": {
    "slideshow": {
     "slide_type": "fragment"
    }
   },
   "source": [
    "#### Read more online about `plot()`"
   ]
  },
  {
   "cell_type": "code",
   "execution_count": 27,
   "id": "172bbc84-3ade-400e-8bbd-ef90d2408e40",
   "metadata": {
    "slideshow": {
     "slide_type": "fragment"
    }
   },
   "outputs": [
    {
     "data": {
      "image/png": "[encoded data removed]",
      "text/plain": [
       "<Figure size 640x480 with 1 Axes>"
      ]
     },
     "metadata": {},
     "output_type": "display_data"
    }
   ],
   "source": [
    "titanic_df.groupby(['age_bins'], observed=False)['survived'].sum().plot(kind = 'pie');"
   ]
  },
  {
   "cell_type": "markdown",
   "id": "48df7dbb-e806-438e-8724-8cb4f1a78c03",
   "metadata": {
    "slideshow": {
     "slide_type": "slide"
    }
   },
   "source": [
    "##### Have we classified the ages correctly?\n",
    "##### Suggest a way to check this."
   ]
  },
  {
   "cell_type": "code",
   "execution_count": 27,
   "id": "ee334c2c-438f-4dc7-bbda-54d0888f99e6",
   "metadata": {
    "slideshow": {
     "slide_type": "fragment"
    }
   },
   "outputs": [
    {
     "data": {
      "text/html": [
       "<div>\n",
       "<style scoped>\n",
       "    .dataframe tbody tr th:only-of-type {\n",
       "        vertical-align: middle;\n",
       "    }\n",
       "\n",
       "    .dataframe tbody tr th {\n",
       "        vertical-align: top;\n",
       "    }\n",
       "\n",
       "    .dataframe thead th {\n",
       "        text-align: right;\n",
       "    }\n",
       "</style>\n",
       "<table border=\"1\" class=\"dataframe\">\n",
       "  <thead>\n",
       "    <tr style=\"text-align: right;\">\n",
       "      <th></th>\n",
       "      <th>count</th>\n",
       "      <th>mean</th>\n",
       "      <th>std</th>\n",
       "      <th>min</th>\n",
       "      <th>25%</th>\n",
       "      <th>50%</th>\n",
       "      <th>75%</th>\n",
       "      <th>max</th>\n",
       "    </tr>\n",
       "    <tr>\n",
       "      <th>age_bins</th>\n",
       "      <th></th>\n",
       "      <th></th>\n",
       "      <th></th>\n",
       "      <th></th>\n",
       "      <th></th>\n",
       "      <th></th>\n",
       "      <th></th>\n",
       "      <th></th>\n",
       "    </tr>\n",
       "  </thead>\n",
       "  <tbody>\n",
       "    <tr>\n",
       "      <th>young</th>\n",
       "      <td>209.0</td>\n",
       "      <td>15.946969</td>\n",
       "      <td>6.836041</td>\n",
       "      <td>0.1667</td>\n",
       "      <td>13.0</td>\n",
       "      <td>18.0</td>\n",
       "      <td>21.0</td>\n",
       "      <td>23.0</td>\n",
       "    </tr>\n",
       "    <tr>\n",
       "      <th>middle_age</th>\n",
       "      <td>325.0</td>\n",
       "      <td>33.596923</td>\n",
       "      <td>6.797829</td>\n",
       "      <td>24.0000</td>\n",
       "      <td>28.0</td>\n",
       "      <td>32.0</td>\n",
       "      <td>39.0</td>\n",
       "      <td>47.0</td>\n",
       "    </tr>\n",
       "    <tr>\n",
       "      <th>old</th>\n",
       "      <td>99.0</td>\n",
       "      <td>55.494949</td>\n",
       "      <td>6.255404</td>\n",
       "      <td>48.0000</td>\n",
       "      <td>50.0</td>\n",
       "      <td>54.0</td>\n",
       "      <td>60.0</td>\n",
       "      <td>71.0</td>\n",
       "    </tr>\n",
       "  </tbody>\n",
       "</table>\n",
       "</div>"
      ],
      "text/plain": [
       "            count       mean       std      min   25%   50%   75%   max\n",
       "age_bins                                                               \n",
       "young       209.0  15.946969  6.836041   0.1667  13.0  18.0  21.0  23.0\n",
       "middle_age  325.0  33.596923  6.797829  24.0000  28.0  32.0  39.0  47.0\n",
       "old          99.0  55.494949  6.255404  48.0000  50.0  54.0  60.0  71.0"
      ]
     },
     "execution_count": 27,
     "metadata": {},
     "output_type": "execute_result"
    }
   ],
   "source": [
    "age_group_stats = titanic_df.groupby('age_bins', observed=False)['age'].describe()\n",
    "age_group_stats"
   ]
  },
  {
   "cell_type": "markdown",
   "id": "ee2e4992-bdbd-48b0-87ed-4ccebb60dc91",
   "metadata": {
    "slideshow": {
     "slide_type": "slide"
    }
   },
   "source": [
    "### Division by an equal number of values - `pd.qcut`"
   ]
  },
  {
   "cell_type": "code",
   "execution_count": 28,
   "id": "294fdf58-5941-4c58-b5b7-8e0892a6c51a",
   "metadata": {
    "slideshow": {
     "slide_type": "fragment"
    }
   },
   "outputs": [
    {
     "name": "stdout",
     "output_type": "stream",
     "text": [
      "IntervalIndex([(0.166, 24.0], (24.0, 36.0], (36.0, 71.0]], dtype='interval[float64, right]')\n"
     ]
    }
   ],
   "source": [
    "bins = pd.qcut(titanic_df['age'], q=3)\n",
    "print(bins.cat.categories)"
   ]
  },
  {
   "cell_type": "code",
   "execution_count": 29,
   "id": "32453125-6c23-44a1-b4bf-df8021668579",
   "metadata": {
    "slideshow": {
     "slide_type": "fragment"
    }
   },
   "outputs": [],
   "source": [
    "titanic_df['age_bins_qcut'] = pd.qcut(titanic_df['age'], q=3, labels=['young', 'middle_age', 'old'])"
   ]
  },
  {
   "cell_type": "code",
   "execution_count": 30,
   "id": "5b84bee9-bfb4-437c-9c85-bb3178dfe760",
   "metadata": {
    "slideshow": {
     "slide_type": "fragment"
    }
   },
   "outputs": [
    {
     "data": {
      "text/plain": [
       "Text(0.5, 1.0, 'age_bins')"
      ]
     },
     "execution_count": 30,
     "metadata": {},
     "output_type": "execute_result"
    },
    {
     "data": {
      "image/png": "[encoded data removed]",
      "text/plain": [
       "<Figure size 1800x400 with 2 Axes>"
      ]
     },
     "metadata": {},
     "output_type": "display_data"
    }
   ],
   "source": [
    "import matplotlib.pyplot as plt  #for reshaping graph size\n",
    "\n",
    "fig, ax = plt.subplots(1,2, figsize = (18,4))\n",
    "plt.subplots_adjust(wspace = 0.5)\n",
    "\n",
    "sns.kdeplot(data = titanic_df,x='age',hue= 'age_bins_qcut', ax = ax[0] );\n",
    "ax[0].set_title('age_bins_qcut');\n",
    "\n",
    "sns.kdeplot(data = titanic_df,x='age',hue= 'age_bins', ax = ax[1]);\n",
    "ax[1].set_title('age_bins')\n",
    "\n",
    "\n"
   ]
  },
  {
   "cell_type": "markdown",
   "id": "7999930e-c264-481e-9a87-57835f105193",
   "metadata": {
    "slideshow": {
     "slide_type": "slide"
    }
   },
   "source": [
    "### And now :"
   ]
  },
  {
   "cell_type": "code",
   "execution_count": 31,
   "id": "203ec855-4f03-4645-8142-5e3bb7f3b457",
   "metadata": {
    "slideshow": {
     "slide_type": "fragment"
    }
   },
   "outputs": [
    {
     "data": {
      "text/plain": [
       "age_bins_qcut\n",
       "young         114\n",
       "middle_age     82\n",
       "old            85\n",
       "Name: survived, dtype: int64"
      ]
     },
     "execution_count": 31,
     "metadata": {},
     "output_type": "execute_result"
    }
   ],
   "source": [
    "titanic_df.groupby(['age_bins_qcut'], observed=False)['survived'].sum()"
   ]
  },
  {
   "cell_type": "markdown",
   "id": "2e8182ae-e359-4142-9d17-1e6dda75abea",
   "metadata": {
    "slideshow": {
     "slide_type": "fragment"
    }
   },
   "source": [
    "> Instead of the predefined statistics, specific combinations of aggregating statistics for given columns can be defined using the `DataFrame.agg()` method:"
   ]
  },
  {
   "cell_type": "code",
   "execution_count": 32,
   "id": "fd829312-6b95-4b80-843d-a05423787ff6",
   "metadata": {
    "slideshow": {
     "slide_type": "fragment"
    }
   },
   "outputs": [
    {
     "data": {
      "text/html": [
       "<div>\n",
       "<style scoped>\n",
       "    .dataframe tbody tr th:only-of-type {\n",
       "        vertical-align: middle;\n",
       "    }\n",
       "\n",
       "    .dataframe tbody tr th {\n",
       "        vertical-align: top;\n",
       "    }\n",
       "\n",
       "    .dataframe thead th {\n",
       "        text-align: right;\n",
       "    }\n",
       "</style>\n",
       "<table border=\"1\" class=\"dataframe\">\n",
       "  <thead>\n",
       "    <tr style=\"text-align: right;\">\n",
       "      <th></th>\n",
       "      <th>age</th>\n",
       "    </tr>\n",
       "  </thead>\n",
       "  <tbody>\n",
       "    <tr>\n",
       "      <th>count</th>\n",
       "      <td>633.000000</td>\n",
       "    </tr>\n",
       "    <tr>\n",
       "      <th>min</th>\n",
       "      <td>0.166700</td>\n",
       "    </tr>\n",
       "    <tr>\n",
       "      <th>max</th>\n",
       "      <td>71.000000</td>\n",
       "    </tr>\n",
       "    <tr>\n",
       "      <th>median</th>\n",
       "      <td>30.000000</td>\n",
       "    </tr>\n",
       "    <tr>\n",
       "      <th>skew</th>\n",
       "      <td>0.302984</td>\n",
       "    </tr>\n",
       "  </tbody>\n",
       "</table>\n",
       "</div>"
      ],
      "text/plain": [
       "               age\n",
       "count   633.000000\n",
       "min       0.166700\n",
       "max      71.000000\n",
       "median   30.000000\n",
       "skew      0.302984"
      ]
     },
     "execution_count": 32,
     "metadata": {},
     "output_type": "execute_result"
    }
   ],
   "source": [
    "titanic_df.agg({\"age\": [\"count\",\"min\", \"max\", \"median\", \"skew\"]})"
   ]
  },
  {
   "cell_type": "markdown",
   "id": "bf141f14-3a66-4e0f-8f3e-32dd326a9ffd",
   "metadata": {
    "slideshow": {
     "slide_type": "slide"
    }
   },
   "source": [
    "### `pd.cut` vs `pd.qcut`"
   ]
  },
  {
   "cell_type": "code",
   "execution_count": 34,
   "id": "24c76b47-681c-4d36-a8db-c99fd4b7f1a4",
   "metadata": {
    "slideshow": {
     "slide_type": "fragment"
    }
   },
   "outputs": [
    {
     "data": {
      "text/html": [
       "<div>\n",
       "<style scoped>\n",
       "    .dataframe tbody tr th:only-of-type {\n",
       "        vertical-align: middle;\n",
       "    }\n",
       "\n",
       "    .dataframe tbody tr th {\n",
       "        vertical-align: top;\n",
       "    }\n",
       "\n",
       "    .dataframe thead th {\n",
       "        text-align: right;\n",
       "    }\n",
       "</style>\n",
       "<table border=\"1\" class=\"dataframe\">\n",
       "  <thead>\n",
       "    <tr style=\"text-align: right;\">\n",
       "      <th></th>\n",
       "      <th>count</th>\n",
       "      <th>mean</th>\n",
       "      <th>std</th>\n",
       "      <th>min</th>\n",
       "      <th>25%</th>\n",
       "      <th>50%</th>\n",
       "      <th>75%</th>\n",
       "      <th>max</th>\n",
       "    </tr>\n",
       "    <tr>\n",
       "      <th>age_bins</th>\n",
       "      <th></th>\n",
       "      <th></th>\n",
       "      <th></th>\n",
       "      <th></th>\n",
       "      <th></th>\n",
       "      <th></th>\n",
       "      <th></th>\n",
       "      <th></th>\n",
       "    </tr>\n",
       "  </thead>\n",
       "  <tbody>\n",
       "    <tr>\n",
       "      <th>young</th>\n",
       "      <td>209.0</td>\n",
       "      <td>15.946969</td>\n",
       "      <td>6.836041</td>\n",
       "      <td>0.1667</td>\n",
       "      <td>13.0</td>\n",
       "      <td>18.0</td>\n",
       "      <td>21.0</td>\n",
       "      <td>23.0</td>\n",
       "    </tr>\n",
       "    <tr>\n",
       "      <th>middle_age</th>\n",
       "      <td>325.0</td>\n",
       "      <td>33.596923</td>\n",
       "      <td>6.797829</td>\n",
       "      <td>24.0000</td>\n",
       "      <td>28.0</td>\n",
       "      <td>32.0</td>\n",
       "      <td>39.0</td>\n",
       "      <td>47.0</td>\n",
       "    </tr>\n",
       "    <tr>\n",
       "      <th>old</th>\n",
       "      <td>99.0</td>\n",
       "      <td>55.494949</td>\n",
       "      <td>6.255404</td>\n",
       "      <td>48.0000</td>\n",
       "      <td>50.0</td>\n",
       "      <td>54.0</td>\n",
       "      <td>60.0</td>\n",
       "      <td>71.0</td>\n",
       "    </tr>\n",
       "  </tbody>\n",
       "</table>\n",
       "</div>"
      ],
      "text/plain": [
       "            count       mean       std      min   25%   50%   75%   max\n",
       "age_bins                                                               \n",
       "young       209.0  15.946969  6.836041   0.1667  13.0  18.0  21.0  23.0\n",
       "middle_age  325.0  33.596923  6.797829  24.0000  28.0  32.0  39.0  47.0\n",
       "old          99.0  55.494949  6.255404  48.0000  50.0  54.0  60.0  71.0"
      ]
     },
     "execution_count": 34,
     "metadata": {},
     "output_type": "execute_result"
    }
   ],
   "source": [
    "age_group_stats"
   ]
  },
  {
   "cell_type": "code",
   "execution_count": 37,
   "id": "d09c22d9-d0dd-4859-a161-24dc3bc789ea",
   "metadata": {
    "slideshow": {
     "slide_type": "fragment"
    }
   },
   "outputs": [
    {
     "data": {
      "text/html": [
       "<div>\n",
       "<style scoped>\n",
       "    .dataframe tbody tr th:only-of-type {\n",
       "        vertical-align: middle;\n",
       "    }\n",
       "\n",
       "    .dataframe tbody tr th {\n",
       "        vertical-align: top;\n",
       "    }\n",
       "\n",
       "    .dataframe thead th {\n",
       "        text-align: right;\n",
       "    }\n",
       "</style>\n",
       "<table border=\"1\" class=\"dataframe\">\n",
       "  <thead>\n",
       "    <tr style=\"text-align: right;\">\n",
       "      <th></th>\n",
       "      <th>count</th>\n",
       "      <th>mean</th>\n",
       "      <th>std</th>\n",
       "      <th>min</th>\n",
       "      <th>25%</th>\n",
       "      <th>50%</th>\n",
       "      <th>75%</th>\n",
       "      <th>max</th>\n",
       "    </tr>\n",
       "    <tr>\n",
       "      <th>age_bins_qcut</th>\n",
       "      <th></th>\n",
       "      <th></th>\n",
       "      <th></th>\n",
       "      <th></th>\n",
       "      <th></th>\n",
       "      <th></th>\n",
       "      <th></th>\n",
       "      <th></th>\n",
       "    </tr>\n",
       "  </thead>\n",
       "  <tbody>\n",
       "    <tr>\n",
       "      <th>young</th>\n",
       "      <td>231.0</td>\n",
       "      <td>16.713925</td>\n",
       "      <td>6.919096</td>\n",
       "      <td>0.1667</td>\n",
       "      <td>14.0</td>\n",
       "      <td>19.0</td>\n",
       "      <td>22.0</td>\n",
       "      <td>24.0</td>\n",
       "    </tr>\n",
       "    <tr>\n",
       "      <th>middle_age</th>\n",
       "      <td>201.0</td>\n",
       "      <td>30.348259</td>\n",
       "      <td>3.550790</td>\n",
       "      <td>25.0000</td>\n",
       "      <td>27.0</td>\n",
       "      <td>30.0</td>\n",
       "      <td>33.0</td>\n",
       "      <td>36.0</td>\n",
       "    </tr>\n",
       "    <tr>\n",
       "      <th>old</th>\n",
       "      <td>201.0</td>\n",
       "      <td>48.681592</td>\n",
       "      <td>8.328752</td>\n",
       "      <td>37.0000</td>\n",
       "      <td>42.0</td>\n",
       "      <td>47.0</td>\n",
       "      <td>54.0</td>\n",
       "      <td>71.0</td>\n",
       "    </tr>\n",
       "  </tbody>\n",
       "</table>\n",
       "</div>"
      ],
      "text/plain": [
       "               count       mean       std      min   25%   50%   75%   max\n",
       "age_bins_qcut                                                             \n",
       "young          231.0  16.713925  6.919096   0.1667  14.0  19.0  22.0  24.0\n",
       "middle_age     201.0  30.348259  3.550790  25.0000  27.0  30.0  33.0  36.0\n",
       "old            201.0  48.681592  8.328752  37.0000  42.0  47.0  54.0  71.0"
      ]
     },
     "execution_count": 37,
     "metadata": {},
     "output_type": "execute_result"
    }
   ],
   "source": [
    "age_group_stats2 = titanic_df.groupby(['age_bins_qcut'], observed=False)['age'].describe()\n",
    "age_group_stats2"
   ]
  },
  {
   "cell_type": "code",
   "execution_count": 38,
   "id": "2d727b7a-ab9a-4db5-b14e-fbcd12fd7071",
   "metadata": {
    "slideshow": {
     "slide_type": "fragment"
    }
   },
   "outputs": [
    {
     "data": {
      "text/html": [
       "<div>\n",
       "<style scoped>\n",
       "    .dataframe tbody tr th:only-of-type {\n",
       "        vertical-align: middle;\n",
       "    }\n",
       "\n",
       "    .dataframe tbody tr th {\n",
       "        vertical-align: top;\n",
       "    }\n",
       "\n",
       "    .dataframe thead th {\n",
       "        text-align: right;\n",
       "    }\n",
       "</style>\n",
       "<table border=\"1\" class=\"dataframe\">\n",
       "  <thead>\n",
       "    <tr style=\"text-align: right;\">\n",
       "      <th></th>\n",
       "      <th></th>\n",
       "      <th>count</th>\n",
       "      <th>mean</th>\n",
       "      <th>std</th>\n",
       "      <th>min</th>\n",
       "      <th>25%</th>\n",
       "      <th>50%</th>\n",
       "      <th>75%</th>\n",
       "      <th>max</th>\n",
       "    </tr>\n",
       "    <tr>\n",
       "      <th>age_bins</th>\n",
       "      <th>age_bins_qcut</th>\n",
       "      <th></th>\n",
       "      <th></th>\n",
       "      <th></th>\n",
       "      <th></th>\n",
       "      <th></th>\n",
       "      <th></th>\n",
       "      <th></th>\n",
       "      <th></th>\n",
       "    </tr>\n",
       "  </thead>\n",
       "  <tbody>\n",
       "    <tr>\n",
       "      <th>young</th>\n",
       "      <th>young</th>\n",
       "      <td>209.0</td>\n",
       "      <td>15.946969</td>\n",
       "      <td>6.836041</td>\n",
       "      <td>0.1667</td>\n",
       "      <td>13.0</td>\n",
       "      <td>18.0</td>\n",
       "      <td>21.0</td>\n",
       "      <td>23.0</td>\n",
       "    </tr>\n",
       "    <tr>\n",
       "      <th rowspan=\"3\" valign=\"top\">middle_age</th>\n",
       "      <th>young</th>\n",
       "      <td>22.0</td>\n",
       "      <td>24.000000</td>\n",
       "      <td>0.000000</td>\n",
       "      <td>24.0000</td>\n",
       "      <td>24.0</td>\n",
       "      <td>24.0</td>\n",
       "      <td>24.0</td>\n",
       "      <td>24.0</td>\n",
       "    </tr>\n",
       "    <tr>\n",
       "      <th>middle_age</th>\n",
       "      <td>201.0</td>\n",
       "      <td>30.348259</td>\n",
       "      <td>3.550790</td>\n",
       "      <td>25.0000</td>\n",
       "      <td>27.0</td>\n",
       "      <td>30.0</td>\n",
       "      <td>33.0</td>\n",
       "      <td>36.0</td>\n",
       "    </tr>\n",
       "    <tr>\n",
       "      <th>old</th>\n",
       "      <td>102.0</td>\n",
       "      <td>42.068627</td>\n",
       "      <td>3.118961</td>\n",
       "      <td>37.0000</td>\n",
       "      <td>39.0</td>\n",
       "      <td>42.0</td>\n",
       "      <td>45.0</td>\n",
       "      <td>47.0</td>\n",
       "    </tr>\n",
       "    <tr>\n",
       "      <th>old</th>\n",
       "      <th>old</th>\n",
       "      <td>99.0</td>\n",
       "      <td>55.494949</td>\n",
       "      <td>6.255404</td>\n",
       "      <td>48.0000</td>\n",
       "      <td>50.0</td>\n",
       "      <td>54.0</td>\n",
       "      <td>60.0</td>\n",
       "      <td>71.0</td>\n",
       "    </tr>\n",
       "  </tbody>\n",
       "</table>\n",
       "</div>"
      ],
      "text/plain": [
       "                          count       mean       std      min   25%   50%  \\\n",
       "age_bins   age_bins_qcut                                                    \n",
       "young      young          209.0  15.946969  6.836041   0.1667  13.0  18.0   \n",
       "middle_age young           22.0  24.000000  0.000000  24.0000  24.0  24.0   \n",
       "           middle_age     201.0  30.348259  3.550790  25.0000  27.0  30.0   \n",
       "           old            102.0  42.068627  3.118961  37.0000  39.0  42.0   \n",
       "old        old             99.0  55.494949  6.255404  48.0000  50.0  54.0   \n",
       "\n",
       "                           75%   max  \n",
       "age_bins   age_bins_qcut              \n",
       "young      young          21.0  23.0  \n",
       "middle_age young          24.0  24.0  \n",
       "           middle_age     33.0  36.0  \n",
       "           old            45.0  47.0  \n",
       "old        old            60.0  71.0  "
      ]
     },
     "execution_count": 38,
     "metadata": {},
     "output_type": "execute_result"
    }
   ],
   "source": [
    "age_group_stats3 = titanic_df.groupby(['age_bins','age_bins_qcut'], observed=False)['age'].describe()\n",
    "age_group_stats3"
   ]
  },
  {
   "cell_type": "markdown",
   "id": "70cab6fb-b1f5-45fb-83ad-00f1c5070396",
   "metadata": {
    "slideshow": {
     "slide_type": "slide"
    }
   },
   "source": [
    "### **1. `pd.cut` - Division into Fixed Numerical Ranges**"
   ]
  },
  {
   "cell_type": "markdown",
   "id": "e36e1218-c839-40f3-8082-c63f4517fbf3",
   "metadata": {
    "slideshow": {
     "slide_type": "fragment"
    }
   },
   "source": [
    "#### When to Use:\n",
    "\n",
    "- Use when you want to divide data into **fixed numerical ranges**, not by the number of values.\n",
    "- Suitable for data with a **relatively uniform distribution**, meaning there isn’t a high concentration of values in specific ranges.\n",
    "- Ideal for analyzing specific numerical ranges, such as:\n",
    "  - Age ranges (e.g., 0-20, 20-40, 40-60).\n",
    "  - Known financial intervals."
   ]
  },
  {
   "cell_type": "markdown",
   "id": "841a54e3-ec89-49dd-9a93-6916b18f042a",
   "metadata": {
    "slideshow": {
     "slide_type": "fragment"
    }
   },
   "source": [
    "#### Example for Using `pd.cut`:\n",
    "\n",
    "Suppose you have Titanic passengers' ages (ranging from 0 to 80), and most passengers are evenly spread across this range. If you divide the ages into 3 bins, the division would look like this:\n",
    "\n",
    "- **Bin 1 (0-27):** Young passengers.\n",
    "- **Bin 2 (27-53):** Middle-aged passengers.\n",
    "- **Bin 3 (53-80):** Older passengers.\n",
    "\n",
    "**Advantage**: Easy to interpret the meaning of each range in numerical terms.  \n",
    "**Disadvantage**: If most passengers are young (e.g., 80% are between 0-27), this range will be \"overcrowded,\" making it hard to analyze the entire population fairly.\n",
    "\n",
    "---"
   ]
  },
  {
   "cell_type": "markdown",
   "id": "75024338-c48d-470a-bff5-e631a4970acf",
   "metadata": {
    "slideshow": {
     "slide_type": "slide"
    }
   },
   "source": [
    "### **2. `pd.qcut` - Division into Equal-Sized Groups**"
   ]
  },
  {
   "cell_type": "markdown",
   "id": "d7315bb4-7fa3-4e2a-be73-06086b493fd5",
   "metadata": {
    "slideshow": {
     "slide_type": "fragment"
    }
   },
   "source": [
    "#### When to Use:\n",
    "\n",
    "- Use when you want to divide the data into bins with an **equal number of values**.\n",
    "- Suitable for data with a **non-uniform distribution**, where values are concentrated in specific ranges.\n",
    "- Ideal for creating balanced groups that represent **quantiles** (e.g., terciles or quartiles).\n"
   ]
  },
  {
   "cell_type": "markdown",
   "id": "2ee20448-b1f9-49e6-879d-07eb16d9d441",
   "metadata": {
    "slideshow": {
     "slide_type": "fragment"
    }
   },
   "source": [
    "#### Example for Using `pd.qcut`:\n",
    "\n",
    "Using the same Titanic age data, suppose 80% of passengers are aged 0-27, and only 20% are aged 27-80. If you use `pd.qcut` to divide the data into 3 bins, the division would look like this:\n",
    "\n",
    "- **Bin 1 (0-15):** The first tercile of passengers (very young).\n",
    "- **Bin 2 (15-30):** The second tercile (slightly older).\n",
    "- **Bin 3 (30-80):** The last tercile (older passengers).\n",
    "\n",
    "**Advantage**: Each bin contains an equal number of passengers, even if the distribution is uneven.  \n",
    "**Disadvantage**: The numerical ranges may be harder to interpret intuitively (e.g., uneven ranges like 0-15, 15-30).\n",
    "\n",
    "---"
   ]
  },
  {
   "cell_type": "markdown",
   "id": "530cd6c1-4f2d-4061-a859-593b32f619ed",
   "metadata": {
    "slideshow": {
     "slide_type": "slide"
    }
   },
   "source": [
    "### **Comparison Between the Two Methods**"
   ]
  },
  {
   "cell_type": "markdown",
   "id": "859dd44a-8f51-4830-bb36-d64291b140cb",
   "metadata": {
    "output_scroll": false,
    "output_stretch": true,
    "slideshow": {
     "slide_type": "fragment"
    }
   },
   "source": [
    "| **Feature**                    | **`pd.cut`**                              | **`pd.qcut`**                             |\n",
    "|--------------------------------|-------------------------------------------|-------------------------------------------|\n",
    "| **Division by ranges**         | Divides into equal numerical ranges.       | Divides into ranges with equal number of values. |\n",
    "| **Number of values per range** | May vary across ranges.                    | Almost equal in every category.           |\n",
    "| **Use case**                   | Analysis based on fixed numerical ranges.  | Analysis based on equal-sized groups.     |\n",
    "| **Suitable for data distribution** | Uniform or near-uniform distribution.      | Non-uniform distribution or with dense clusters. |"
   ]
  },
  {
   "cell_type": "markdown",
   "id": "f5f7f808-b96f-4d00-88c1-b230c922c680",
   "metadata": {
    "slideshow": {
     "slide_type": "skip"
    }
   },
   "source": [
    "### [▲](#Top)"
   ]
  },
  {
   "cell_type": "markdown",
   "id": "403f22c1-2f61-4975-9589-001e1adbc2b4",
   "metadata": {
    "jp-MarkdownHeadingCollapsed": true,
    "slideshow": {
     "slide_type": "skip"
    }
   },
   "source": [
    "---\n"
   ]
  },
  {
   "cell_type": "markdown",
   "id": "8a91cbb7-77e5-4ef0-a88c-581f3f36c38b",
   "metadata": {
    "slideshow": {
     "slide_type": "slide"
    }
   },
   "source": [
    "<a id='3'></a>\n",
    "<h1 style=\"background-color: #fff4d9; color: #0046d6; border-radius: 20px; text-align: center; padding-top: 20px; padding-bottom: 20px; font-family: 'Arial'\" id=\"introduction\">Boxplot.</h1>"
   ]
  },
  {
   "cell_type": "code",
   "execution_count": 27,
   "id": "6488fd08-4e33-4dfe-82b8-0d2d846286f5",
   "metadata": {
    "slideshow": {
     "slide_type": "fragment"
    }
   },
   "outputs": [],
   "source": [
    "import seaborn as sns  # for creating the graphs\n",
    "import matplotlib.pyplot as plt  #for reshaping graph size\n",
    "import numpy as np\n",
    "import random"
   ]
  },
  {
   "cell_type": "markdown",
   "id": "af0a4b99-8b53-4683-b1f9-c4c4c0f3cb30",
   "metadata": {
    "slideshow": {
     "slide_type": "fragment"
    }
   },
   "source": [
    "Check the [matplotlib documentation](https://matplotlib.org/api/_as_gen/matplotlib.pyplot.boxplot.html) for even more styling options\n",
    "\n",
    "Read more about [here](https://chartio.com/learn/charts/box-plot-complete-guide/#best-practices-for-using-a-box-plot)"
   ]
  },
  {
   "cell_type": "markdown",
   "id": "8be0191d-bad1-4c11-a748-2011100b6ed0",
   "metadata": {
    "slideshow": {
     "slide_type": "slide"
    }
   },
   "source": [
    "<a id='section1'></a>\n",
    "\n",
    "<h1 style=\"background-color: #FFFFFF; color: #0046d6; border-radius: 10px; text-align: center; \n",
    "<div class=\"image-container\">\n",
    "  <img src= \"https://github.com/Razelbaz1/exercises-package/blob/master/pics/boxplot.png?raw=true\"\n",
    "    alt=\"Centered Image\" width=\"800\" height=\"200\" /> </div>\n"
   ]
  },
  {
   "cell_type": "markdown",
   "id": "53aa9285-64e0-46cf-a9ed-35ef60c98ed0",
   "metadata": {
    "slideshow": {
     "slide_type": "slide"
    }
   },
   "source": [
    "## How It Works"
   ]
  },
  {
   "cell_type": "markdown",
   "id": "e8d07b47-b0af-461c-a16b-71939e86ae67",
   "metadata": {
    "slideshow": {
     "slide_type": "fragment"
    }
   },
   "source": [
    "---"
   ]
  },
  {
   "cell_type": "code",
   "execution_count": 28,
   "id": "b2ded2d0-7868-4fe6-af1b-118101c71c59",
   "metadata": {
    "slideshow": {
     "slide_type": "skip"
    }
   },
   "outputs": [],
   "source": [
    "sns.set_style('white')\n",
    "plt.rc('xtick', labelsize=14)\n",
    "plt.rc('ytick', labelsize=14)"
   ]
  },
  {
   "cell_type": "code",
   "execution_count": 29,
   "id": "b02b8e4b-af6c-4b74-8af3-6bddc135a589",
   "metadata": {
    "slideshow": {
     "slide_type": "skip"
    }
   },
   "outputs": [],
   "source": [
    "blue, orange, green, red = sns.color_palette()[:4]"
   ]
  },
  {
   "cell_type": "markdown",
   "id": "3c4abbf6-add4-4dbc-83c1-f17581c676fe",
   "metadata": {
    "slideshow": {
     "slide_type": "fragment"
    }
   },
   "source": [
    "#### Suppose we have a list of values."
   ]
  },
  {
   "cell_type": "code",
   "execution_count": 30,
   "id": "482e5358-78db-4aa2-9f66-47de7b4e8d6a",
   "metadata": {
    "slideshow": {
     "slide_type": "fragment"
    }
   },
   "outputs": [],
   "source": [
    "pts = [1, 1.5, (7/3), 3, 3.75, 4.25, 5, 19/3, 8, 12]"
   ]
  },
  {
   "cell_type": "code",
   "execution_count": 31,
   "id": "a222abca-07e3-4ba6-97a4-da5dbbea3be5",
   "metadata": {
    "slideshow": {
     "slide_type": "fragment"
    }
   },
   "outputs": [
    {
     "data": {
      "image/png": "[encoded data removed]",
      "text/plain": [
       "<Figure size 800x400 with 1 Axes>"
      ]
     },
     "metadata": {},
     "output_type": "display_data"
    }
   ],
   "source": [
    "plt.figure(figsize=(8, 4))\n",
    "plt.scatter(pts, [0]*len(pts), s=100, zorder=1, color=blue)\n",
    "plt.axhline(0, color='gray', zorder=0)\n",
    "plt.ylim(-0.02, 0.55)\n",
    "plt.xlim(-2, 14)\n",
    "plt.box(False)\n",
    "plt.xticks(range(13))\n",
    "plt.yticks([])\n",
    "plt.tight_layout();"
   ]
  },
  {
   "cell_type": "code",
   "execution_count": 32,
   "id": "e1ddfd57-38fe-47ee-bc08-09f0bac73c0b",
   "metadata": {},
   "outputs": [
    {
     "data": {
      "text/plain": [
       "count    10.000000\n",
       "mean      4.716667\n",
       "std       3.341010\n",
       "min       1.000000\n",
       "25%       2.500000\n",
       "50%       4.000000\n",
       "75%       6.000000\n",
       "max      12.000000\n",
       "dtype: float64"
      ]
     },
     "execution_count": 32,
     "metadata": {},
     "output_type": "execute_result"
    }
   ],
   "source": [
    "pd.Series(pts).describe()"
   ]
  },
  {
   "cell_type": "markdown",
   "id": "38952958-3271-453a-ab5f-bbf96e718493",
   "metadata": {
    "slideshow": {
     "slide_type": "slide"
    }
   },
   "source": [
    "#### Draw the median"
   ]
  },
  {
   "cell_type": "code",
   "execution_count": 33,
   "id": "83a5c1ec-c22b-45d7-862d-b13df1d87e19",
   "metadata": {
    "slideshow": {
     "slide_type": "fragment"
    }
   },
   "outputs": [
    {
     "data": {
      "image/png": "[encoded data removed]",
      "text/plain": [
       "<Figure size 800x400 with 1 Axes>"
      ]
     },
     "metadata": {},
     "output_type": "display_data"
    }
   ],
   "source": [
    "plt.figure(figsize=(8, 4))\n",
    "plt.scatter(pts, [0]*len(pts), s=100, zorder=1, color=blue)\n",
    "plt.axvline(4, ymin=0.2, ymax=0.5, color='#3E3E3E')  #median at 4\n",
    "plt.axhline(0, color='gray', zorder=0)\n",
    "plt.ylim(-0.02, 0.55)\n",
    "plt.xlim(-2, 14)\n",
    "plt.box(False)\n",
    "plt.xticks(range(13))\n",
    "plt.yticks([])\n",
    "plt.tight_layout();"
   ]
  },
  {
   "cell_type": "markdown",
   "id": "0f576e68-dd40-41a9-a3b2-a67d32b4f3d4",
   "metadata": {
    "slideshow": {
     "slide_type": "slide"
    }
   },
   "source": [
    "#### Draw the 25th percentile"
   ]
  },
  {
   "cell_type": "code",
   "execution_count": 34,
   "id": "9d5f04f2-43d2-446d-9edf-9d076827c03f",
   "metadata": {
    "slideshow": {
     "slide_type": "fragment"
    }
   },
   "outputs": [
    {
     "data": {
      "image/png": "[encoded data removed]",
      "text/plain": [
       "<Figure size 800x400 with 1 Axes>"
      ]
     },
     "metadata": {},
     "output_type": "display_data"
    }
   ],
   "source": [
    "plt.figure(figsize=(8, 4))\n",
    "plt.scatter(pts, [0]*len(pts), s=100, zorder=1, color=blue)\n",
    "plt.axvline(4, ymin=0.2, ymax=0.5, color='#3E3E3E') \n",
    "plt.axvline(2.5, ymin=0.2, ymax=0.5, color='#3E3E3E') #25th percentile\n",
    "plt.axhline(0, color='gray', zorder=0)\n",
    "plt.ylim(-0.02, 0.55)\n",
    "plt.xlim(-2, 14)\n",
    "plt.box(False)\n",
    "plt.xticks(range(13))\n",
    "plt.yticks([])\n",
    "plt.tight_layout();"
   ]
  },
  {
   "cell_type": "markdown",
   "id": "d0d3e9e7-ec20-45a7-bf13-7c88b4375033",
   "metadata": {
    "slideshow": {
     "slide_type": "slide"
    }
   },
   "source": [
    "#### Draw the 25th percentile on the other side that now represent the 75th percentile"
   ]
  },
  {
   "cell_type": "code",
   "execution_count": 35,
   "id": "7f1ff822-e316-4ff9-be67-93ad95714215",
   "metadata": {
    "slideshow": {
     "slide_type": "fragment"
    }
   },
   "outputs": [
    {
     "data": {
      "image/png": "[encoded data removed]",
      "text/plain": [
       "<Figure size 800x400 with 1 Axes>"
      ]
     },
     "metadata": {},
     "output_type": "display_data"
    }
   ],
   "source": [
    "plt.figure(figsize=(8, 4))\n",
    "plt.scatter(pts, [0]*len(pts), s=100, zorder=1, color=blue)\n",
    "plt.axvline(4, ymin=0.2, ymax=0.5, color='#3E3E3E')  \n",
    "plt.axvline(2.5, ymin=0.2, ymax=0.5, color='#3E3E3E')  \n",
    "plt.axvline(6, ymin=0.2, ymax=0.5, color='#3E3E3E')   #75th percentile\n",
    "plt.axhline(0, color='gray', zorder=0)\n",
    "plt.ylim(-0.02, 0.55)\n",
    "plt.xlim(-2, 14)\n",
    "plt.box(False)\n",
    "plt.xticks(range(13))\n",
    "plt.yticks([])\n",
    "plt.tight_layout();"
   ]
  },
  {
   "cell_type": "markdown",
   "id": "7ef5f6b5-3830-447b-849c-c1cae61452eb",
   "metadata": {
    "slideshow": {
     "slide_type": "slide"
    }
   },
   "source": [
    "#### Connect the lines and paint"
   ]
  },
  {
   "cell_type": "code",
   "execution_count": 36,
   "id": "95d2cf59-260a-40c3-9fa1-90bab5d5df74",
   "metadata": {
    "slideshow": {
     "slide_type": "fragment"
    }
   },
   "outputs": [
    {
     "data": {
      "image/png": "[encoded data removed]",
      "text/plain": [
       "<Figure size 800x400 with 1 Axes>"
      ]
     },
     "metadata": {},
     "output_type": "display_data"
    }
   ],
   "source": [
    "xvals=np.linspace(2.5, 6, 100)\n",
    "\n",
    "plt.figure(figsize=(8, 4))\n",
    "plt.scatter(pts, [0]*len(pts), s=100, zorder=1, color=blue)\n",
    "plt.axvline(4, ymin=0.2, ymax=0.5, color='#3E3E3E')\n",
    "plt.axvline(2.5, ymin=0.2, ymax=0.5, color='#3E3E3E')\n",
    "plt.axvline(6, ymin=0.2, ymax=0.5, color='#3E3E3E')\n",
    "plt.axhline(0.092, xmin=(4.5/16), xmax=0.5, color='#3E3E3E')  #connect box\n",
    "plt.axhline(0.268, xmin=(4.5/16), xmax=0.5, color='#3E3E3E')  #connect box\n",
    "plt.gca().fill_between(xvals, 0.092, 0.268, color=blue)  #add color\n",
    "plt.axhline(0, color='gray', zorder=0)\n",
    "plt.ylim(-0.02, 0.55)\n",
    "plt.xlim(-2, 14)\n",
    "plt.box(False)\n",
    "plt.xticks(range(13))\n",
    "plt.yticks([])\n",
    "plt.tight_layout();"
   ]
  },
  {
   "cell_type": "markdown",
   "id": "578232e0-a4ef-4e9a-91d2-e1306f3ce038",
   "metadata": {
    "slideshow": {
     "slide_type": "slide"
    }
   },
   "source": [
    "### Add upper & lower whiskers."
   ]
  },
  {
   "cell_type": "code",
   "execution_count": 37,
   "id": "0720c964-1306-4002-af15-7a85056bc5ae",
   "metadata": {
    "slideshow": {
     "slide_type": "fragment"
    }
   },
   "outputs": [
    {
     "data": {
      "image/png": "[encoded data removed]",
      "text/plain": [
       "<Figure size 800x400 with 1 Axes>"
      ]
     },
     "metadata": {},
     "output_type": "display_data"
    }
   ],
   "source": [
    "plt.figure(figsize=(8, 4))\n",
    "plt.scatter(pts, [0]*len(pts), s=100, zorder=1, color=blue)\n",
    "plt.axvline(4, ymin=0.2, ymax=0.5, color='#3E3E3E')\n",
    "plt.axvline(2.5, ymin=0.2, ymax=0.5, color='#3E3E3E')\n",
    "plt.axvline(6, ymin=0.2, ymax=0.5, color='#3E3E3E')\n",
    "plt.axhline(0.092, xmin=(4.5/16), xmax=0.5, color='#3E3E3E')\n",
    "plt.axhline(0.268, xmin=(4.5/16), xmax=0.5, color='#3E3E3E')\n",
    "plt.axhline(0.18, xmin=(3/16), xmax=(4.5/16), color='#3E3E3E')\n",
    "plt.axvline(1, ymin=0.3, ymax=0.4, color='#3E3E3E')\n",
    "plt.axhline(0.18, xmin=(8/16), xmax=(10/16), color='#3E3E3E') #add upper whisker\n",
    "plt.axvline(8, ymin=0.3, ymax=0.4, color='#3E3E3E')           #add upper whisker\n",
    "plt.gca().fill_between(xvals, 0.092, 0.268, color=blue)\n",
    "plt.axhline(0, color='gray', zorder=0)\n",
    "plt.ylim(-0.02, 0.55)\n",
    "plt.xlim(-2, 14)\n",
    "plt.box(False)\n",
    "plt.xticks(range(13))\n",
    "plt.yticks([])\n",
    "plt.tight_layout();"
   ]
  },
  {
   "cell_type": "markdown",
   "id": "b9a6400e-6ce0-4c9e-a517-cbf110e6c2d6",
   "metadata": {
    "slideshow": {
     "slide_type": "slide"
    }
   },
   "source": [
    "#### Add outlier"
   ]
  },
  {
   "cell_type": "code",
   "execution_count": 38,
   "id": "61d424f4-8b96-49dc-8aef-e766b8b0918d",
   "metadata": {
    "slideshow": {
     "slide_type": "fragment"
    }
   },
   "outputs": [
    {
     "data": {
      "image/png": "[encoded data removed]",
      "text/plain": [
       "<Figure size 800x400 with 1 Axes>"
      ]
     },
     "metadata": {},
     "output_type": "display_data"
    }
   ],
   "source": [
    "plt.figure(figsize=(8, 4))\n",
    "plt.scatter(pts, [0]*len(pts), s=100, zorder=1, color=blue)\n",
    "plt.axvline(4, ymin=0.2, ymax=0.5, color='#3E3E3E')\n",
    "plt.axvline(2.5, ymin=0.2, ymax=0.5, color='#3E3E3E')\n",
    "plt.axvline(6, ymin=0.2, ymax=0.5, color='#3E3E3E')\n",
    "plt.axhline(0.092, xmin=(4.5/16), xmax=0.5, color='#3E3E3E')\n",
    "plt.axhline(0.268, xmin=(4.5/16), xmax=0.5, color='#3E3E3E')\n",
    "plt.axhline(0.18, xmin=(3/16), xmax=(4.5/16), color='#3E3E3E')\n",
    "plt.axvline(1, ymin=0.3, ymax=0.4, color='#3E3E3E')\n",
    "plt.axhline(0.18, xmin=(8/16), xmax=(10/16), color='#3E3E3E')\n",
    "plt.axvline(8, ymin=0.3, ymax=0.4, color='#3E3E3E')\n",
    "plt.scatter(12, 0.18, marker=\"d\", s=30, color='#3E3E3E')  #add flier\n",
    "plt.gca().fill_between(xvals, 0.092, 0.268, color=blue)\n",
    "plt.axhline(0, color='gray', zorder=0)\n",
    "plt.ylim(-0.02, 0.55)\n",
    "plt.xlim(-2, 14)\n",
    "plt.box(False)\n",
    "plt.xticks(range(13))\n",
    "plt.yticks([])\n",
    "plt.tight_layout();"
   ]
  },
  {
   "cell_type": "markdown",
   "id": "44199fa0-adf7-4bfb-8031-19878e13e43b",
   "metadata": {
    "slideshow": {
     "slide_type": "slide"
    }
   },
   "source": [
    "#### check manual against seaborn plot."
   ]
  },
  {
   "cell_type": "code",
   "execution_count": 39,
   "id": "0d88f5f9-932a-4ed2-a377-f292b4241e26",
   "metadata": {
    "slideshow": {
     "slide_type": "fragment"
    }
   },
   "outputs": [
    {
     "data": {
      "image/png": "[encoded data removed]",
      "text/plain": [
       "<Figure size 800x400 with 1 Axes>"
      ]
     },
     "metadata": {},
     "output_type": "display_data"
    }
   ],
   "source": [
    "plt.figure(figsize=(8,4))\n",
    "sns.boxplot(x = pts, color=blue, width=0.3,)\n",
    "plt.scatter(pts, [0.47]*len(pts), s=100, zorder=10, color=blue)\n",
    "sns.despine()\n",
    "plt.xlim(-1, 13)\n",
    "\n",
    "\n",
    "plt.tight_layout();"
   ]
  },
  {
   "cell_type": "markdown",
   "id": "cadef602-8bca-4466-aec9-a683eea0f5e8",
   "metadata": {
    "slideshow": {
     "slide_type": "slide"
    }
   },
   "source": [
    "#### And in general a box plot will be obtained from the following form."
   ]
  },
  {
   "cell_type": "markdown",
   "id": "c5cb9a6d-732d-4c68-837f-f4f3ce0ed52b",
   "metadata": {
    "slideshow": {
     "slide_type": "fragment"
    }
   },
   "source": [
    "<div class=\"image-container\">\n",
    "  <img src= \"https://github.com/Razelbaz1/exercises-package/blob/master/pics/box-plot-construction.png?raw=true\"\n",
    "    alt=\"Centered Image\" width=\"800\" height=\"200\" /> </div>\n"
   ]
  },
  {
   "cell_type": "markdown",
   "id": "1a80c969-71da-40ac-b12b-83b5221757d5",
   "metadata": {
    "slideshow": {
     "slide_type": "skip"
    }
   },
   "source": [
    "### [▲](#Top)\n",
    "---"
   ]
  },
  {
   "cell_type": "markdown",
   "id": "72251db8-952d-4cc8-81dc-c7a69c709ec3",
   "metadata": {},
   "source": [
    "## Example"
   ]
  },
  {
   "cell_type": "code",
   "execution_count": 40,
   "id": "bc7055a3-7647-4af7-bacc-36a9c7ad7fa0",
   "metadata": {},
   "outputs": [
    {
     "name": "stdout",
     "output_type": "stream",
     "text": [
      "DataFrame 1:             DataFrame 2:\n"
     ]
    },
    {
     "data": {
      "text/html": [
       "<div>\n",
       "<style scoped>\n",
       "    .dataframe tbody tr th:only-of-type {\n",
       "        vertical-align: middle;\n",
       "    }\n",
       "\n",
       "    .dataframe tbody tr th {\n",
       "        vertical-align: top;\n",
       "    }\n",
       "\n",
       "    .dataframe thead th {\n",
       "        text-align: right;\n",
       "    }\n",
       "</style>\n",
       "<table border=\"1\" class=\"dataframe\">\n",
       "  <thead>\n",
       "    <tr style=\"text-align: right;\">\n",
       "      <th></th>\n",
       "      <th>ID</th>\n",
       "      <th>Name</th>\n",
       "      <th>Grade</th>\n",
       "      <th>ID</th>\n",
       "      <th>Name</th>\n",
       "      <th>Grade</th>\n",
       "    </tr>\n",
       "  </thead>\n",
       "  <tbody>\n",
       "    <tr>\n",
       "      <th>0</th>\n",
       "      <td>1</td>\n",
       "      <td>Student 1</td>\n",
       "      <td>72</td>\n",
       "      <td>1</td>\n",
       "      <td>Student 1</td>\n",
       "      <td>51</td>\n",
       "    </tr>\n",
       "    <tr>\n",
       "      <th>1</th>\n",
       "      <td>2</td>\n",
       "      <td>Student 2</td>\n",
       "      <td>75</td>\n",
       "      <td>2</td>\n",
       "      <td>Student 2</td>\n",
       "      <td>44</td>\n",
       "    </tr>\n",
       "    <tr>\n",
       "      <th>2</th>\n",
       "      <td>3</td>\n",
       "      <td>Student 3</td>\n",
       "      <td>81</td>\n",
       "      <td>3</td>\n",
       "      <td>Student 3</td>\n",
       "      <td>95</td>\n",
       "    </tr>\n",
       "    <tr>\n",
       "      <th>3</th>\n",
       "      <td>4</td>\n",
       "      <td>Student 4</td>\n",
       "      <td>60</td>\n",
       "      <td>4</td>\n",
       "      <td>Student 4</td>\n",
       "      <td>94</td>\n",
       "    </tr>\n",
       "    <tr>\n",
       "      <th>4</th>\n",
       "      <td>5</td>\n",
       "      <td>Student 5</td>\n",
       "      <td>63</td>\n",
       "      <td>5</td>\n",
       "      <td>Student 5</td>\n",
       "      <td>97</td>\n",
       "    </tr>\n",
       "    <tr>\n",
       "      <th>5</th>\n",
       "      <td>6</td>\n",
       "      <td>Student 6</td>\n",
       "      <td>87</td>\n",
       "      <td>6</td>\n",
       "      <td>Student 6</td>\n",
       "      <td>48</td>\n",
       "    </tr>\n",
       "    <tr>\n",
       "      <th>6</th>\n",
       "      <td>7</td>\n",
       "      <td>Student 7</td>\n",
       "      <td>63</td>\n",
       "      <td>7</td>\n",
       "      <td>Student 7</td>\n",
       "      <td>50</td>\n",
       "    </tr>\n",
       "    <tr>\n",
       "      <th>7</th>\n",
       "      <td>8</td>\n",
       "      <td>Student 8</td>\n",
       "      <td>67</td>\n",
       "      <td>8</td>\n",
       "      <td>Student 8</td>\n",
       "      <td>46</td>\n",
       "    </tr>\n",
       "    <tr>\n",
       "      <th>8</th>\n",
       "      <td>9</td>\n",
       "      <td>Student 9</td>\n",
       "      <td>69</td>\n",
       "      <td>9</td>\n",
       "      <td>Student 9</td>\n",
       "      <td>96</td>\n",
       "    </tr>\n",
       "    <tr>\n",
       "      <th>9</th>\n",
       "      <td>10</td>\n",
       "      <td>Student 10</td>\n",
       "      <td>79</td>\n",
       "      <td>10</td>\n",
       "      <td>Student 10</td>\n",
       "      <td>54</td>\n",
       "    </tr>\n",
       "  </tbody>\n",
       "</table>\n",
       "</div>"
      ],
      "text/plain": [
       "   ID        Name  Grade  ID        Name  Grade\n",
       "0   1   Student 1     72   1   Student 1     51\n",
       "1   2   Student 2     75   2   Student 2     44\n",
       "2   3   Student 3     81   3   Student 3     95\n",
       "3   4   Student 4     60   4   Student 4     94\n",
       "4   5   Student 5     63   5   Student 5     97\n",
       "5   6   Student 6     87   6   Student 6     48\n",
       "6   7   Student 7     63   7   Student 7     50\n",
       "7   8   Student 8     67   8   Student 8     46\n",
       "8   9   Student 9     69   9   Student 9     96\n",
       "9  10  Student 10     79  10  Student 10     54"
      ]
     },
     "execution_count": 40,
     "metadata": {},
     "output_type": "execute_result"
    }
   ],
   "source": [
    "# Creating a first DataFrame with the relative distribution of scores in the center and an average of 75\n",
    "np.random.seed(0)\n",
    "num_students = 80\n",
    "grades = np.random.randint(60, 90, num_students)  # grade range 60-89\n",
    "student_ids = range(1, num_students + 1)\n",
    "names = ['Student ' + str(i) for i in range(1, num_students + 1)]\n",
    "df1 = pd.DataFrame({'ID': student_ids, 'Name': names, 'Grade': grades})\n",
    "\n",
    "# Creating a second DataFrame with the distribution of scores at the edges and an average of 75\n",
    "np.random.seed(1)\n",
    "grades_low = np.random.randint(40, 60, num_students // 2)  # grade range  40-59\n",
    "grades_high = np.random.randint(90, 100, num_students // 2)  # grade range  90-99\n",
    "grades = np.concatenate((grades_low, grades_high))\n",
    "random.shuffle(grades)  # shuffle grades\n",
    "df2 = pd.DataFrame({'ID': student_ids, 'Name': names, 'Grade': grades})\n",
    "\n",
    "print(\"DataFrame 1:\", '            '\"DataFrame 2:\")\n",
    "pd.concat([df1, df2], axis=1).head(10)"
   ]
  },
  {
   "cell_type": "markdown",
   "id": "a803f5a9-ff14-4d7e-9fe0-8d8647124b41",
   "metadata": {},
   "source": [
    "#### Let's look at the statistics for each table, but we'll want to look at the data so that it's convenient for us to look at both at the same time - we'll add them together."
   ]
  },
  {
   "cell_type": "code",
   "execution_count": 41,
   "id": "c4dedd5e-e486-4570-bd0e-f18a7923d3df",
   "metadata": {},
   "outputs": [],
   "source": [
    "# Change column name from 'Grade' in-`df1` to 'grade_df1'\n",
    "df1.rename(columns={'Grade': 'grade_df1'}, inplace=True)\n",
    "\n",
    "# Change column name from 'Grade' in-`df2` to 'grade_df2'\n",
    "df2.rename(columns={'Grade': 'grade_df2'}, inplace=True)"
   ]
  },
  {
   "cell_type": "code",
   "execution_count": 42,
   "id": "8650382b-3f97-46a9-bc71-60443091bf46",
   "metadata": {},
   "outputs": [
    {
     "name": "stdout",
     "output_type": "stream",
     "text": [
      "     ID        Name  grade_df1  grade_df2\n",
      "0     1   Student 1       72.0        NaN\n",
      "1     2   Student 2       75.0        NaN\n",
      "2     3   Student 3       81.0        NaN\n",
      "3     4   Student 4       60.0        NaN\n",
      "4     5   Student 5       63.0        NaN\n",
      "..   ..         ...        ...        ...\n",
      "155  76  Student 76        NaN       58.0\n",
      "156  77  Student 77        NaN       53.0\n",
      "157  78  Student 78        NaN       93.0\n",
      "158  79  Student 79        NaN       92.0\n",
      "159  80  Student 80        NaN       41.0\n",
      "\n",
      "[160 rows x 4 columns]\n"
     ]
    }
   ],
   "source": [
    "\n",
    "# merge the data frames \n",
    "merged_df = pd.concat([df1, df2], ignore_index=True)\n",
    "\n",
    "# print merge df \n",
    "print(merged_df)\n"
   ]
  },
  {
   "cell_type": "code",
   "execution_count": 43,
   "id": "a39b6ae9-5b48-447b-b78f-ed3def2184b0",
   "metadata": {},
   "outputs": [
    {
     "data": {
      "text/html": [
       "<div>\n",
       "<style scoped>\n",
       "    .dataframe tbody tr th:only-of-type {\n",
       "        vertical-align: middle;\n",
       "    }\n",
       "\n",
       "    .dataframe tbody tr th {\n",
       "        vertical-align: top;\n",
       "    }\n",
       "\n",
       "    .dataframe thead th {\n",
       "        text-align: right;\n",
       "    }\n",
       "</style>\n",
       "<table border=\"1\" class=\"dataframe\">\n",
       "  <thead>\n",
       "    <tr style=\"text-align: right;\">\n",
       "      <th></th>\n",
       "      <th>ID</th>\n",
       "      <th>grade_df1</th>\n",
       "      <th>grade_df2</th>\n",
       "    </tr>\n",
       "  </thead>\n",
       "  <tbody>\n",
       "    <tr>\n",
       "      <th>count</th>\n",
       "      <td>160.000</td>\n",
       "      <td>80.000</td>\n",
       "      <td>80.000</td>\n",
       "    </tr>\n",
       "    <tr>\n",
       "      <th>mean</th>\n",
       "      <td>40.500</td>\n",
       "      <td>73.100</td>\n",
       "      <td>72.462</td>\n",
       "    </tr>\n",
       "    <tr>\n",
       "      <th>std</th>\n",
       "      <td>23.165</td>\n",
       "      <td>8.679</td>\n",
       "      <td>23.235</td>\n",
       "    </tr>\n",
       "    <tr>\n",
       "      <th>min</th>\n",
       "      <td>1.000</td>\n",
       "      <td>60.000</td>\n",
       "      <td>40.000</td>\n",
       "    </tr>\n",
       "    <tr>\n",
       "      <th>25%</th>\n",
       "      <td>20.750</td>\n",
       "      <td>65.000</td>\n",
       "      <td>49.750</td>\n",
       "    </tr>\n",
       "    <tr>\n",
       "      <th>50%</th>\n",
       "      <td>40.500</td>\n",
       "      <td>74.000</td>\n",
       "      <td>74.500</td>\n",
       "    </tr>\n",
       "    <tr>\n",
       "      <th>75%</th>\n",
       "      <td>60.250</td>\n",
       "      <td>80.000</td>\n",
       "      <td>95.250</td>\n",
       "    </tr>\n",
       "    <tr>\n",
       "      <th>max</th>\n",
       "      <td>80.000</td>\n",
       "      <td>89.000</td>\n",
       "      <td>99.000</td>\n",
       "    </tr>\n",
       "  </tbody>\n",
       "</table>\n",
       "</div>"
      ],
      "text/plain": [
       "            ID  grade_df1  grade_df2\n",
       "count  160.000     80.000     80.000\n",
       "mean    40.500     73.100     72.462\n",
       "std     23.165      8.679     23.235\n",
       "min      1.000     60.000     40.000\n",
       "25%     20.750     65.000     49.750\n",
       "50%     40.500     74.000     74.500\n",
       "75%     60.250     80.000     95.250\n",
       "max     80.000     89.000     99.000"
      ]
     },
     "execution_count": 43,
     "metadata": {},
     "output_type": "execute_result"
    }
   ],
   "source": [
    "merged_df.describe().round(3)"
   ]
  },
  {
   "cell_type": "code",
   "execution_count": 44,
   "id": "2bd682bf-8f8b-475e-9fce-e00e53d1a9ee",
   "metadata": {},
   "outputs": [
    {
     "data": {
      "image/png": "[encoded data removed]",
      "text/plain": [
       "<Figure size 1200x400 with 2 Axes>"
      ]
     },
     "metadata": {},
     "output_type": "display_data"
    }
   ],
   "source": [
    "fig, ax = plt.subplots(1,2, figsize = (12,4))\n",
    "plt.subplots_adjust(wspace = 0.5)\n",
    "\n",
    "# Create histograms for the 'Grade' column in df1 and df2 with titles\n",
    "sns.histplot(data = df1, x = 'grade_df1', ax = ax[0], bins=30)\n",
    "ax[0].set_title('Histogram of Grades in df1')\n",
    "\n",
    "sns.histplot(data = df2, x = 'grade_df2', ax = ax[1], bins=30)\n",
    "ax[1].set_title('Histogram of Grades in df2')\n",
    "\n",
    "plt.show()"
   ]
  },
  {
   "cell_type": "code",
   "execution_count": 90,
   "id": "fb2374b7-ce13-4be5-b30a-b08f33fa3fb4",
   "metadata": {},
   "outputs": [
    {
     "name": "stderr",
     "output_type": "stream",
     "text": [
      "C:\\Users\\razel\\AppData\\Local\\Temp\\ipykernel_27192\\1189554876.py:13: FutureWarning: \n",
      "\n",
      "Passing `palette` without assigning `hue` is deprecated and will be removed in v0.14.0. Assign the `x` variable to `hue` and set `legend=False` for the same effect.\n",
      "\n",
      "  sns.boxplot(x='Dataset', y='Grade', data=combined_df, showmeans=True,\n"
     ]
    },
    {
     "data": {
      "image/png": "[encoded data removed]",
      "text/plain": [
       "<Figure size 1000x600 with 1 Axes>"
      ]
     },
     "metadata": {},
     "output_type": "display_data"
    }
   ],
   "source": [
    "# Change column name from 'Grade' in-`df1` to 'grade_df1'\n",
    "df1.rename(columns={'grade_df1': 'Grade'}, inplace=True)\n",
    "\n",
    "# Change column name from 'Grade' in-`df2` to 'grade_df2'\n",
    "df2.rename(columns={'grade_df2': 'Grade'}, inplace=True)\n",
    "\n",
    "\n",
    "# Combine both DataFrames for plotting\n",
    "combined_df = pd.concat([df1.assign(Dataset='df1'), df2.assign(Dataset='df2')])\n",
    "\n",
    "# Create a boxplot using seaborn\n",
    "plt.figure(figsize=(10, 6))\n",
    "sns.boxplot(x='Dataset', y='Grade', data=combined_df, showmeans=True,\n",
    "            meanprops={'marker' : 'o', 'markerfacecolor':'white', 'markeredgecolor':'white'},palette='Blues', meanline=False)\n",
    "\n",
    "# Set labels and title\n",
    "plt.xlabel('Dataset')\n",
    "plt.ylabel('Grade')\n",
    "plt.title('Boxplot of Grades for df1 and df2')\n",
    "\n",
    "# Show the plot\n",
    "plt.show()"
   ]
  },
  {
   "cell_type": "code",
   "execution_count": 92,
   "id": "30136b7a-98e1-4cb6-b276-eaf566b7ea04",
   "metadata": {},
   "outputs": [
    {
     "name": "stderr",
     "output_type": "stream",
     "text": [
      "C:\\Users\\razel\\AppData\\Local\\Temp\\ipykernel_27192\\3141036762.py:9: FutureWarning: \n",
      "\n",
      "Passing `palette` without assigning `hue` is deprecated and will be removed in v0.14.0. Assign the `x` variable to `hue` and set `legend=False` for the same effect.\n",
      "\n",
      "  sns.boxplot(x='Dataset', y='Grade', data=combined_df, showmeans=True, ax=axes[0],\n"
     ]
    },
    {
     "data": {
      "image/png": "[encoded data removed]",
      "text/plain": [
       "<Figure size 1200x600 with 2 Axes>"
      ]
     },
     "metadata": {},
     "output_type": "display_data"
    }
   ],
   "source": [
    "import seaborn as sns\n",
    "import matplotlib.pyplot as plt\n",
    "\n",
    "# Create a figure with two subplots\n",
    "fig, axes = plt.subplots(nrows=1, ncols=2, figsize=(12, 6))\n",
    "\n",
    "# Box plot\n",
    "# Create a boxplot using seaborn\n",
    "sns.boxplot(x='Dataset', y='Grade', data=combined_df, showmeans=True, ax=axes[0],\n",
    "            meanprops={'marker' : 'o', 'markerfacecolor':'white', 'markeredgecolor':'white'},palette='Blues', meanline=False)\n",
    "axes[0].set_title(\"Box Plot\")\n",
    "\n",
    "# Jitter plot (Strip plot)\n",
    "sns.stripplot(x='Dataset', y='Grade', data=combined_df, jitter=True, color='black', alpha=0.7, ax=axes[1])\n",
    "axes[1].set_title(\"Jitter Plot\")\n",
    "\n",
    "# Adjust layout\n",
    "plt.tight_layout()\n",
    "plt.show()\n"
   ]
  },
  {
   "cell_type": "code",
   "execution_count": 47,
   "id": "9cdf7678-8651-4b40-b24d-b9bb943f35db",
   "metadata": {},
   "outputs": [],
   "source": [
    "# Change column name from 'Grade' in-`df1` to 'grade_df1'\n",
    "df1.rename(columns={'Grade': 'grade_df1'}, inplace=True)\n",
    "\n",
    "# Change column name from 'Grade' in-`df2` to 'grade_df2'\n",
    "df2.rename(columns={'Grade': 'grade_df2'}, inplace=True)"
   ]
  },
  {
   "cell_type": "code",
   "execution_count": 48,
   "id": "47ede73e-cfdc-4687-8a7f-460873b01463",
   "metadata": {},
   "outputs": [],
   "source": [
    "#df1.describe()"
   ]
  },
  {
   "cell_type": "code",
   "execution_count": 49,
   "id": "9bc776ca-d625-4397-9482-d9f5510de8f4",
   "metadata": {},
   "outputs": [],
   "source": [
    "#df2.describe()"
   ]
  },
  {
   "cell_type": "code",
   "execution_count": 50,
   "id": "14da4dac-562d-4048-b786-0afe67d02f0c",
   "metadata": {},
   "outputs": [],
   "source": [
    "import pandas as pd\n",
    "\n",
    "# list of grades\n",
    "grades_to_calculate = [i  for i in range(60,90)]\n",
    "\n",
    "# new data frame for calculation\n",
    "results_df = pd.DataFrame({'Grade': grades_to_calculate})\n",
    "\n",
    "# \n",
    "results_df['Frequency'] = [len(df1[df1['grade_df1'] == grade]) for grade in grades_to_calculate]\n",
    "results_df['Relative Frequency'] = results_df['Frequency'] / len(df1)\n",
    "results_df['Cumulative Relative Frequency'] = results_df['Relative Frequency'].cumsum()\n",
    "\n",
    "# final result"
   ]
  },
  {
   "cell_type": "code",
   "execution_count": 51,
   "id": "018cbc5a-e50c-4872-8882-a79c884b0023",
   "metadata": {},
   "outputs": [
    {
     "data": {
      "text/html": [
       "<style type=\"text/css\">\n",
       "#T_09b6a_row5_col0, #T_09b6a_row5_col1, #T_09b6a_row5_col2, #T_09b6a_row5_col3, #T_09b6a_row20_col0, #T_09b6a_row20_col1, #T_09b6a_row20_col2, #T_09b6a_row20_col3 {\n",
       "  background-color: yellow;\n",
       "}\n",
       "</style>\n",
       "<table id=\"T_09b6a\">\n",
       "  <thead>\n",
       "    <tr>\n",
       "      <th class=\"blank level0\" >&nbsp;</th>\n",
       "      <th id=\"T_09b6a_level0_col0\" class=\"col_heading level0 col0\" >Grade</th>\n",
       "      <th id=\"T_09b6a_level0_col1\" class=\"col_heading level0 col1\" >Frequency</th>\n",
       "      <th id=\"T_09b6a_level0_col2\" class=\"col_heading level0 col2\" >Relative Frequency</th>\n",
       "      <th id=\"T_09b6a_level0_col3\" class=\"col_heading level0 col3\" >Cumulative Relative Frequency</th>\n",
       "    </tr>\n",
       "  </thead>\n",
       "  <tbody>\n",
       "    <tr>\n",
       "      <th id=\"T_09b6a_level0_row0\" class=\"row_heading level0 row0\" >0</th>\n",
       "      <td id=\"T_09b6a_row0_col0\" class=\"data row0 col0\" >60</td>\n",
       "      <td id=\"T_09b6a_row0_col1\" class=\"data row0 col1\" >6</td>\n",
       "      <td id=\"T_09b6a_row0_col2\" class=\"data row0 col2\" >0.075000</td>\n",
       "      <td id=\"T_09b6a_row0_col3\" class=\"data row0 col3\" >0.075000</td>\n",
       "    </tr>\n",
       "    <tr>\n",
       "      <th id=\"T_09b6a_level0_row1\" class=\"row_heading level0 row1\" >1</th>\n",
       "      <td id=\"T_09b6a_row1_col0\" class=\"data row1 col0\" >61</td>\n",
       "      <td id=\"T_09b6a_row1_col1\" class=\"data row1 col1\" >4</td>\n",
       "      <td id=\"T_09b6a_row1_col2\" class=\"data row1 col2\" >0.050000</td>\n",
       "      <td id=\"T_09b6a_row1_col3\" class=\"data row1 col3\" >0.125000</td>\n",
       "    </tr>\n",
       "    <tr>\n",
       "      <th id=\"T_09b6a_level0_row2\" class=\"row_heading level0 row2\" >2</th>\n",
       "      <td id=\"T_09b6a_row2_col0\" class=\"data row2 col0\" >62</td>\n",
       "      <td id=\"T_09b6a_row2_col1\" class=\"data row2 col1\" >1</td>\n",
       "      <td id=\"T_09b6a_row2_col2\" class=\"data row2 col2\" >0.012500</td>\n",
       "      <td id=\"T_09b6a_row2_col3\" class=\"data row2 col3\" >0.137500</td>\n",
       "    </tr>\n",
       "    <tr>\n",
       "      <th id=\"T_09b6a_level0_row3\" class=\"row_heading level0 row3\" >3</th>\n",
       "      <td id=\"T_09b6a_row3_col0\" class=\"data row3 col0\" >63</td>\n",
       "      <td id=\"T_09b6a_row3_col1\" class=\"data row3 col1\" >4</td>\n",
       "      <td id=\"T_09b6a_row3_col2\" class=\"data row3 col2\" >0.050000</td>\n",
       "      <td id=\"T_09b6a_row3_col3\" class=\"data row3 col3\" >0.187500</td>\n",
       "    </tr>\n",
       "    <tr>\n",
       "      <th id=\"T_09b6a_level0_row4\" class=\"row_heading level0 row4\" >4</th>\n",
       "      <td id=\"T_09b6a_row4_col0\" class=\"data row4 col0\" >64</td>\n",
       "      <td id=\"T_09b6a_row4_col1\" class=\"data row4 col1\" >3</td>\n",
       "      <td id=\"T_09b6a_row4_col2\" class=\"data row4 col2\" >0.037500</td>\n",
       "      <td id=\"T_09b6a_row4_col3\" class=\"data row4 col3\" >0.225000</td>\n",
       "    </tr>\n",
       "    <tr>\n",
       "      <th id=\"T_09b6a_level0_row5\" class=\"row_heading level0 row5\" >5</th>\n",
       "      <td id=\"T_09b6a_row5_col0\" class=\"data row5 col0\" >65</td>\n",
       "      <td id=\"T_09b6a_row5_col1\" class=\"data row5 col1\" >3</td>\n",
       "      <td id=\"T_09b6a_row5_col2\" class=\"data row5 col2\" >0.037500</td>\n",
       "      <td id=\"T_09b6a_row5_col3\" class=\"data row5 col3\" >0.262500</td>\n",
       "    </tr>\n",
       "    <tr>\n",
       "      <th id=\"T_09b6a_level0_row6\" class=\"row_heading level0 row6\" >6</th>\n",
       "      <td id=\"T_09b6a_row6_col0\" class=\"data row6 col0\" >66</td>\n",
       "      <td id=\"T_09b6a_row6_col1\" class=\"data row6 col1\" >3</td>\n",
       "      <td id=\"T_09b6a_row6_col2\" class=\"data row6 col2\" >0.037500</td>\n",
       "      <td id=\"T_09b6a_row6_col3\" class=\"data row6 col3\" >0.300000</td>\n",
       "    </tr>\n",
       "    <tr>\n",
       "      <th id=\"T_09b6a_level0_row7\" class=\"row_heading level0 row7\" >7</th>\n",
       "      <td id=\"T_09b6a_row7_col0\" class=\"data row7 col0\" >67</td>\n",
       "      <td id=\"T_09b6a_row7_col1\" class=\"data row7 col1\" >3</td>\n",
       "      <td id=\"T_09b6a_row7_col2\" class=\"data row7 col2\" >0.037500</td>\n",
       "      <td id=\"T_09b6a_row7_col3\" class=\"data row7 col3\" >0.337500</td>\n",
       "    </tr>\n",
       "    <tr>\n",
       "      <th id=\"T_09b6a_level0_row8\" class=\"row_heading level0 row8\" >8</th>\n",
       "      <td id=\"T_09b6a_row8_col0\" class=\"data row8 col0\" >68</td>\n",
       "      <td id=\"T_09b6a_row8_col1\" class=\"data row8 col1\" >2</td>\n",
       "      <td id=\"T_09b6a_row8_col2\" class=\"data row8 col2\" >0.025000</td>\n",
       "      <td id=\"T_09b6a_row8_col3\" class=\"data row8 col3\" >0.362500</td>\n",
       "    </tr>\n",
       "    <tr>\n",
       "      <th id=\"T_09b6a_level0_row9\" class=\"row_heading level0 row9\" >9</th>\n",
       "      <td id=\"T_09b6a_row9_col0\" class=\"data row9 col0\" >69</td>\n",
       "      <td id=\"T_09b6a_row9_col1\" class=\"data row9 col1\" >4</td>\n",
       "      <td id=\"T_09b6a_row9_col2\" class=\"data row9 col2\" >0.050000</td>\n",
       "      <td id=\"T_09b6a_row9_col3\" class=\"data row9 col3\" >0.412500</td>\n",
       "    </tr>\n",
       "    <tr>\n",
       "      <th id=\"T_09b6a_level0_row10\" class=\"row_heading level0 row10\" >10</th>\n",
       "      <td id=\"T_09b6a_row10_col0\" class=\"data row10 col0\" >70</td>\n",
       "      <td id=\"T_09b6a_row10_col1\" class=\"data row10 col1\" >2</td>\n",
       "      <td id=\"T_09b6a_row10_col2\" class=\"data row10 col2\" >0.025000</td>\n",
       "      <td id=\"T_09b6a_row10_col3\" class=\"data row10 col3\" >0.437500</td>\n",
       "    </tr>\n",
       "    <tr>\n",
       "      <th id=\"T_09b6a_level0_row11\" class=\"row_heading level0 row11\" >11</th>\n",
       "      <td id=\"T_09b6a_row11_col0\" class=\"data row11 col0\" >71</td>\n",
       "      <td id=\"T_09b6a_row11_col1\" class=\"data row11 col1\" >1</td>\n",
       "      <td id=\"T_09b6a_row11_col2\" class=\"data row11 col2\" >0.012500</td>\n",
       "      <td id=\"T_09b6a_row11_col3\" class=\"data row11 col3\" >0.450000</td>\n",
       "    </tr>\n",
       "    <tr>\n",
       "      <th id=\"T_09b6a_level0_row12\" class=\"row_heading level0 row12\" >12</th>\n",
       "      <td id=\"T_09b6a_row12_col0\" class=\"data row12 col0\" >72</td>\n",
       "      <td id=\"T_09b6a_row12_col1\" class=\"data row12 col1\" >2</td>\n",
       "      <td id=\"T_09b6a_row12_col2\" class=\"data row12 col2\" >0.025000</td>\n",
       "      <td id=\"T_09b6a_row12_col3\" class=\"data row12 col3\" >0.475000</td>\n",
       "    </tr>\n",
       "    <tr>\n",
       "      <th id=\"T_09b6a_level0_row13\" class=\"row_heading level0 row13\" >13</th>\n",
       "      <td id=\"T_09b6a_row13_col0\" class=\"data row13 col0\" >73</td>\n",
       "      <td id=\"T_09b6a_row13_col1\" class=\"data row13 col1\" >1</td>\n",
       "      <td id=\"T_09b6a_row13_col2\" class=\"data row13 col2\" >0.012500</td>\n",
       "      <td id=\"T_09b6a_row13_col3\" class=\"data row13 col3\" >0.487500</td>\n",
       "    </tr>\n",
       "    <tr>\n",
       "      <th id=\"T_09b6a_level0_row14\" class=\"row_heading level0 row14\" >14</th>\n",
       "      <td id=\"T_09b6a_row14_col0\" class=\"data row14 col0\" >74</td>\n",
       "      <td id=\"T_09b6a_row14_col1\" class=\"data row14 col1\" >2</td>\n",
       "      <td id=\"T_09b6a_row14_col2\" class=\"data row14 col2\" >0.025000</td>\n",
       "      <td id=\"T_09b6a_row14_col3\" class=\"data row14 col3\" >0.512500</td>\n",
       "    </tr>\n",
       "    <tr>\n",
       "      <th id=\"T_09b6a_level0_row15\" class=\"row_heading level0 row15\" >15</th>\n",
       "      <td id=\"T_09b6a_row15_col0\" class=\"data row15 col0\" >75</td>\n",
       "      <td id=\"T_09b6a_row15_col1\" class=\"data row15 col1\" >4</td>\n",
       "      <td id=\"T_09b6a_row15_col2\" class=\"data row15 col2\" >0.050000</td>\n",
       "      <td id=\"T_09b6a_row15_col3\" class=\"data row15 col3\" >0.562500</td>\n",
       "    </tr>\n",
       "    <tr>\n",
       "      <th id=\"T_09b6a_level0_row16\" class=\"row_heading level0 row16\" >16</th>\n",
       "      <td id=\"T_09b6a_row16_col0\" class=\"data row16 col0\" >76</td>\n",
       "      <td id=\"T_09b6a_row16_col1\" class=\"data row16 col1\" >1</td>\n",
       "      <td id=\"T_09b6a_row16_col2\" class=\"data row16 col2\" >0.012500</td>\n",
       "      <td id=\"T_09b6a_row16_col3\" class=\"data row16 col3\" >0.575000</td>\n",
       "    </tr>\n",
       "    <tr>\n",
       "      <th id=\"T_09b6a_level0_row17\" class=\"row_heading level0 row17\" >17</th>\n",
       "      <td id=\"T_09b6a_row17_col0\" class=\"data row17 col0\" >77</td>\n",
       "      <td id=\"T_09b6a_row17_col1\" class=\"data row17 col1\" >3</td>\n",
       "      <td id=\"T_09b6a_row17_col2\" class=\"data row17 col2\" >0.037500</td>\n",
       "      <td id=\"T_09b6a_row17_col3\" class=\"data row17 col3\" >0.612500</td>\n",
       "    </tr>\n",
       "    <tr>\n",
       "      <th id=\"T_09b6a_level0_row18\" class=\"row_heading level0 row18\" >18</th>\n",
       "      <td id=\"T_09b6a_row18_col0\" class=\"data row18 col0\" >78</td>\n",
       "      <td id=\"T_09b6a_row18_col1\" class=\"data row18 col1\" >3</td>\n",
       "      <td id=\"T_09b6a_row18_col2\" class=\"data row18 col2\" >0.037500</td>\n",
       "      <td id=\"T_09b6a_row18_col3\" class=\"data row18 col3\" >0.650000</td>\n",
       "    </tr>\n",
       "    <tr>\n",
       "      <th id=\"T_09b6a_level0_row19\" class=\"row_heading level0 row19\" >19</th>\n",
       "      <td id=\"T_09b6a_row19_col0\" class=\"data row19 col0\" >79</td>\n",
       "      <td id=\"T_09b6a_row19_col1\" class=\"data row19 col1\" >6</td>\n",
       "      <td id=\"T_09b6a_row19_col2\" class=\"data row19 col2\" >0.075000</td>\n",
       "      <td id=\"T_09b6a_row19_col3\" class=\"data row19 col3\" >0.725000</td>\n",
       "    </tr>\n",
       "    <tr>\n",
       "      <th id=\"T_09b6a_level0_row20\" class=\"row_heading level0 row20\" >20</th>\n",
       "      <td id=\"T_09b6a_row20_col0\" class=\"data row20 col0\" >80</td>\n",
       "      <td id=\"T_09b6a_row20_col1\" class=\"data row20 col1\" >3</td>\n",
       "      <td id=\"T_09b6a_row20_col2\" class=\"data row20 col2\" >0.037500</td>\n",
       "      <td id=\"T_09b6a_row20_col3\" class=\"data row20 col3\" >0.762500</td>\n",
       "    </tr>\n",
       "    <tr>\n",
       "      <th id=\"T_09b6a_level0_row21\" class=\"row_heading level0 row21\" >21</th>\n",
       "      <td id=\"T_09b6a_row21_col0\" class=\"data row21 col0\" >81</td>\n",
       "      <td id=\"T_09b6a_row21_col1\" class=\"data row21 col1\" >3</td>\n",
       "      <td id=\"T_09b6a_row21_col2\" class=\"data row21 col2\" >0.037500</td>\n",
       "      <td id=\"T_09b6a_row21_col3\" class=\"data row21 col3\" >0.800000</td>\n",
       "    </tr>\n",
       "    <tr>\n",
       "      <th id=\"T_09b6a_level0_row22\" class=\"row_heading level0 row22\" >22</th>\n",
       "      <td id=\"T_09b6a_row22_col0\" class=\"data row22 col0\" >82</td>\n",
       "      <td id=\"T_09b6a_row22_col1\" class=\"data row22 col1\" >0</td>\n",
       "      <td id=\"T_09b6a_row22_col2\" class=\"data row22 col2\" >0.000000</td>\n",
       "      <td id=\"T_09b6a_row22_col3\" class=\"data row22 col3\" >0.800000</td>\n",
       "    </tr>\n",
       "    <tr>\n",
       "      <th id=\"T_09b6a_level0_row23\" class=\"row_heading level0 row23\" >23</th>\n",
       "      <td id=\"T_09b6a_row23_col0\" class=\"data row23 col0\" >83</td>\n",
       "      <td id=\"T_09b6a_row23_col1\" class=\"data row23 col1\" >4</td>\n",
       "      <td id=\"T_09b6a_row23_col2\" class=\"data row23 col2\" >0.050000</td>\n",
       "      <td id=\"T_09b6a_row23_col3\" class=\"data row23 col3\" >0.850000</td>\n",
       "    </tr>\n",
       "    <tr>\n",
       "      <th id=\"T_09b6a_level0_row24\" class=\"row_heading level0 row24\" >24</th>\n",
       "      <td id=\"T_09b6a_row24_col0\" class=\"data row24 col0\" >84</td>\n",
       "      <td id=\"T_09b6a_row24_col1\" class=\"data row24 col1\" >5</td>\n",
       "      <td id=\"T_09b6a_row24_col2\" class=\"data row24 col2\" >0.062500</td>\n",
       "      <td id=\"T_09b6a_row24_col3\" class=\"data row24 col3\" >0.912500</td>\n",
       "    </tr>\n",
       "    <tr>\n",
       "      <th id=\"T_09b6a_level0_row25\" class=\"row_heading level0 row25\" >25</th>\n",
       "      <td id=\"T_09b6a_row25_col0\" class=\"data row25 col0\" >85</td>\n",
       "      <td id=\"T_09b6a_row25_col1\" class=\"data row25 col1\" >2</td>\n",
       "      <td id=\"T_09b6a_row25_col2\" class=\"data row25 col2\" >0.025000</td>\n",
       "      <td id=\"T_09b6a_row25_col3\" class=\"data row25 col3\" >0.937500</td>\n",
       "    </tr>\n",
       "    <tr>\n",
       "      <th id=\"T_09b6a_level0_row26\" class=\"row_heading level0 row26\" >26</th>\n",
       "      <td id=\"T_09b6a_row26_col0\" class=\"data row26 col0\" >86</td>\n",
       "      <td id=\"T_09b6a_row26_col1\" class=\"data row26 col1\" >2</td>\n",
       "      <td id=\"T_09b6a_row26_col2\" class=\"data row26 col2\" >0.025000</td>\n",
       "      <td id=\"T_09b6a_row26_col3\" class=\"data row26 col3\" >0.962500</td>\n",
       "    </tr>\n",
       "    <tr>\n",
       "      <th id=\"T_09b6a_level0_row27\" class=\"row_heading level0 row27\" >27</th>\n",
       "      <td id=\"T_09b6a_row27_col0\" class=\"data row27 col0\" >87</td>\n",
       "      <td id=\"T_09b6a_row27_col1\" class=\"data row27 col1\" >1</td>\n",
       "      <td id=\"T_09b6a_row27_col2\" class=\"data row27 col2\" >0.012500</td>\n",
       "      <td id=\"T_09b6a_row27_col3\" class=\"data row27 col3\" >0.975000</td>\n",
       "    </tr>\n",
       "    <tr>\n",
       "      <th id=\"T_09b6a_level0_row28\" class=\"row_heading level0 row28\" >28</th>\n",
       "      <td id=\"T_09b6a_row28_col0\" class=\"data row28 col0\" >88</td>\n",
       "      <td id=\"T_09b6a_row28_col1\" class=\"data row28 col1\" >1</td>\n",
       "      <td id=\"T_09b6a_row28_col2\" class=\"data row28 col2\" >0.012500</td>\n",
       "      <td id=\"T_09b6a_row28_col3\" class=\"data row28 col3\" >0.987500</td>\n",
       "    </tr>\n",
       "    <tr>\n",
       "      <th id=\"T_09b6a_level0_row29\" class=\"row_heading level0 row29\" >29</th>\n",
       "      <td id=\"T_09b6a_row29_col0\" class=\"data row29 col0\" >89</td>\n",
       "      <td id=\"T_09b6a_row29_col1\" class=\"data row29 col1\" >1</td>\n",
       "      <td id=\"T_09b6a_row29_col2\" class=\"data row29 col2\" >0.012500</td>\n",
       "      <td id=\"T_09b6a_row29_col3\" class=\"data row29 col3\" >1.000000</td>\n",
       "    </tr>\n",
       "  </tbody>\n",
       "</table>\n"
      ],
      "text/plain": [
       "<pandas.io.formats.style.Styler at 0x290b14a8050>"
      ]
     },
     "execution_count": 51,
     "metadata": {},
     "output_type": "execute_result"
    }
   ],
   "source": [
    "# Define a function to highlight specific rows\n",
    "def highlight_specific_rows(s, rows_to_highlight):\n",
    "    # Create a boolean mask for rows to highlight\n",
    "    mask = s.index.isin(rows_to_highlight)\n",
    "    # Create a DataFrame of styles\n",
    "    styles = pd.DataFrame('', index=s.index, columns=s.columns)\n",
    "    # Set the background color for the specified rows\n",
    "    styles.loc[mask, :] = 'background-color: yellow'\n",
    "    return styles\n",
    "\n",
    "# Rows to highlight (in this case, rows 5 and 20)\n",
    "rows_to_highlight = [5, 20]\n",
    "\n",
    "# Apply the styling to the DataFrame\n",
    "styled_results_df = results_df.style.apply(highlight_specific_rows, rows_to_highlight=rows_to_highlight, axis=None)\n",
    "\n",
    "# Display the styled DataFrame\n",
    "styled_results_df\n"
   ]
  },
  {
   "cell_type": "code",
   "execution_count": 52,
   "id": "f2850224-0de4-4b32-b1b5-f81d08801360",
   "metadata": {},
   "outputs": [
    {
     "name": "stdout",
     "output_type": "stream",
     "text": [
      "Q1 = 65.0\n",
      "Q3 = 80.0\n",
      "upper whisker = 95.0\n",
      "lower whisker = 50.0\n"
     ]
    },
    {
     "name": "stderr",
     "output_type": "stream",
     "text": [
      "C:\\Users\\razel\\AppData\\Local\\Temp\\ipykernel_27192\\3121981807.py:10: FutureWarning: Series.__getitem__ treating keys as positions is deprecated. In a future version, integer keys will always be treated as labels (consistent with DataFrame behavior). To access a value by position, use `ser.iloc[pos]`\n",
      "  df1[(df1.grade_df1>grade_upper)|(df1.grade_df1<grade_lower)].count()[0]\n"
     ]
    },
    {
     "data": {
      "text/plain": [
       "np.int64(0)"
      ]
     },
     "execution_count": 52,
     "metadata": {},
     "output_type": "execute_result"
    }
   ],
   "source": [
    "grade_q1, grade_q3 = df1.grade_df1.quantile(.25), df1.grade_df1.quantile(.75)\n",
    "\n",
    "grade_upper = grade_q3 + (grade_q3 - grade_q1)*1\n",
    "grade_lower = grade_q1 - (grade_q3 - grade_q1)*1\n",
    "print(f\"Q1 = { grade_q1}\")\n",
    "print(f\"Q3 = {grade_q3}\")\n",
    "print(f\"upper whisker = {grade_upper}\")\n",
    "print(f\"lower whisker = {grade_lower}\")\n",
    "\n",
    "df1[(df1.grade_df1>grade_upper)|(df1.grade_df1<grade_lower)].count()[0]\n",
    "# almost 3% .. let's consider it as a special pieces"
   ]
  },
  {
   "cell_type": "raw",
   "id": "8de47ebf-3e39-46c2-b145-f711f115e820",
   "metadata": {},
   "source": [
    "'o': Circle\n",
    "'s': Square\n",
    "'D': Diamond\n",
    "'^': Upward-pointing triangle\n",
    "'v': Downward-pointing triangle\n",
    "'<': Left-pointing triangle\n",
    "'>': Right-pointing triangle\n",
    "'p': Pentagon\n",
    "'*': Star\n",
    "'h': Hexagon\n",
    "'+': Plus sign\n",
    "'x': X"
   ]
  },
  {
   "cell_type": "markdown",
   "id": "fb849b62-3bc8-4dfe-9fde-56165778792c",
   "metadata": {},
   "source": [
    "<a id='4'></a>"
   ]
  },
  {
   "cell_type": "markdown",
   "id": "3a5ea92d-6faf-4b34-9ed0-0256bc4c67f1",
   "metadata": {},
   "source": [
    "<h1 style=\"background-color: #fff4d9; color: #0046d6; border-radius: 20px; text-align: center; padding-top: 20px; padding-bottom: 20px; font-family: 'Arial'\" id=\"introduction\">Working with Boxplot.</h1>"
   ]
  },
  {
   "cell_type": "code",
   "execution_count": 53,
   "id": "5fb4e562-8ca3-4305-9118-76cd25d5c20e",
   "metadata": {},
   "outputs": [],
   "source": [
    "sns.set_style('whitegrid')"
   ]
  },
  {
   "cell_type": "code",
   "execution_count": 54,
   "id": "447ddf39-4c0c-40f8-b4be-cb6d226399b5",
   "metadata": {},
   "outputs": [
    {
     "data": {
      "text/plain": [
       "(392, 9)"
      ]
     },
     "execution_count": 54,
     "metadata": {},
     "output_type": "execute_result"
    }
   ],
   "source": [
    "cars = sns.load_dataset('mpg').dropna()\n",
    "\n",
    "cars.shape"
   ]
  },
  {
   "cell_type": "code",
   "execution_count": 55,
   "id": "8c940c40-397f-43ca-a0b2-f5db22486012",
   "metadata": {},
   "outputs": [
    {
     "data": {
      "text/html": [
       "<div>\n",
       "<style scoped>\n",
       "    .dataframe tbody tr th:only-of-type {\n",
       "        vertical-align: middle;\n",
       "    }\n",
       "\n",
       "    .dataframe tbody tr th {\n",
       "        vertical-align: top;\n",
       "    }\n",
       "\n",
       "    .dataframe thead th {\n",
       "        text-align: right;\n",
       "    }\n",
       "</style>\n",
       "<table border=\"1\" class=\"dataframe\">\n",
       "  <thead>\n",
       "    <tr style=\"text-align: right;\">\n",
       "      <th></th>\n",
       "      <th>mpg</th>\n",
       "      <th>cylinders</th>\n",
       "      <th>displacement</th>\n",
       "      <th>horsepower</th>\n",
       "      <th>weight</th>\n",
       "      <th>acceleration</th>\n",
       "      <th>model_year</th>\n",
       "      <th>origin</th>\n",
       "      <th>name</th>\n",
       "    </tr>\n",
       "  </thead>\n",
       "  <tbody>\n",
       "    <tr>\n",
       "      <th>0</th>\n",
       "      <td>18.0</td>\n",
       "      <td>8</td>\n",
       "      <td>307.0</td>\n",
       "      <td>130.0</td>\n",
       "      <td>3504</td>\n",
       "      <td>12.0</td>\n",
       "      <td>70</td>\n",
       "      <td>usa</td>\n",
       "      <td>chevrolet chevelle malibu</td>\n",
       "    </tr>\n",
       "    <tr>\n",
       "      <th>1</th>\n",
       "      <td>15.0</td>\n",
       "      <td>8</td>\n",
       "      <td>350.0</td>\n",
       "      <td>165.0</td>\n",
       "      <td>3693</td>\n",
       "      <td>11.5</td>\n",
       "      <td>70</td>\n",
       "      <td>usa</td>\n",
       "      <td>buick skylark 320</td>\n",
       "    </tr>\n",
       "    <tr>\n",
       "      <th>2</th>\n",
       "      <td>18.0</td>\n",
       "      <td>8</td>\n",
       "      <td>318.0</td>\n",
       "      <td>150.0</td>\n",
       "      <td>3436</td>\n",
       "      <td>11.0</td>\n",
       "      <td>70</td>\n",
       "      <td>usa</td>\n",
       "      <td>plymouth satellite</td>\n",
       "    </tr>\n",
       "    <tr>\n",
       "      <th>3</th>\n",
       "      <td>16.0</td>\n",
       "      <td>8</td>\n",
       "      <td>304.0</td>\n",
       "      <td>150.0</td>\n",
       "      <td>3433</td>\n",
       "      <td>12.0</td>\n",
       "      <td>70</td>\n",
       "      <td>usa</td>\n",
       "      <td>amc rebel sst</td>\n",
       "    </tr>\n",
       "    <tr>\n",
       "      <th>4</th>\n",
       "      <td>17.0</td>\n",
       "      <td>8</td>\n",
       "      <td>302.0</td>\n",
       "      <td>140.0</td>\n",
       "      <td>3449</td>\n",
       "      <td>10.5</td>\n",
       "      <td>70</td>\n",
       "      <td>usa</td>\n",
       "      <td>ford torino</td>\n",
       "    </tr>\n",
       "  </tbody>\n",
       "</table>\n",
       "</div>"
      ],
      "text/plain": [
       "    mpg  cylinders  displacement  horsepower  weight  acceleration  \\\n",
       "0  18.0          8         307.0       130.0    3504          12.0   \n",
       "1  15.0          8         350.0       165.0    3693          11.5   \n",
       "2  18.0          8         318.0       150.0    3436          11.0   \n",
       "3  16.0          8         304.0       150.0    3433          12.0   \n",
       "4  17.0          8         302.0       140.0    3449          10.5   \n",
       "\n",
       "   model_year origin                       name  \n",
       "0          70    usa  chevrolet chevelle malibu  \n",
       "1          70    usa          buick skylark 320  \n",
       "2          70    usa         plymouth satellite  \n",
       "3          70    usa              amc rebel sst  \n",
       "4          70    usa                ford torino  "
      ]
     },
     "execution_count": 55,
     "metadata": {},
     "output_type": "execute_result"
    }
   ],
   "source": [
    "cars.head()"
   ]
  },
  {
   "cell_type": "markdown",
   "id": "9b199416-c2f0-4312-9203-2542f42dfd2e",
   "metadata": {},
   "source": [
    "Filter down to only cars with even number of cylinders"
   ]
  },
  {
   "cell_type": "code",
   "execution_count": 56,
   "id": "5de90032-022b-4928-95fb-f3c54e82bcc4",
   "metadata": {},
   "outputs": [],
   "source": [
    "cars = cars[cars.cylinders.isin([4,6,8])]"
   ]
  },
  {
   "cell_type": "code",
   "execution_count": 57,
   "id": "dd0c4c61-a5af-4b2f-9bfa-72b8beb4bdc5",
   "metadata": {},
   "outputs": [
    {
     "data": {
      "image/png": "[encoded data removed]",
      "text/plain": [
       "<Figure size 640x480 with 1 Axes>"
      ]
     },
     "metadata": {},
     "output_type": "display_data"
    }
   ],
   "source": [
    "sns.boxplot(cars.mpg);"
   ]
  },
  {
   "cell_type": "code",
   "execution_count": 58,
   "id": "cd3a9e28-9e6e-4b27-9f05-7978f24504a1",
   "metadata": {},
   "outputs": [
    {
     "data": {
      "text/plain": [
       "count    385.000000\n",
       "mean      23.445455\n",
       "std        7.836911\n",
       "min        9.000000\n",
       "25%       17.000000\n",
       "50%       23.000000\n",
       "75%       29.000000\n",
       "max       46.600000\n",
       "Name: mpg, dtype: float64"
      ]
     },
     "execution_count": 58,
     "metadata": {},
     "output_type": "execute_result"
    }
   ],
   "source": [
    "cars.mpg.describe()"
   ]
  },
  {
   "cell_type": "code",
   "execution_count": 59,
   "id": "b73c0dee-1052-4888-9e07-009111af5c02",
   "metadata": {},
   "outputs": [
    {
     "data": {
      "image/png": "[encoded data removed]",
      "text/plain": [
       "<Figure size 640x480 with 1 Axes>"
      ]
     },
     "metadata": {},
     "output_type": "display_data"
    }
   ],
   "source": [
    "sns.boxplot(x=cars.origin, y=cars.mpg);"
   ]
  },
  {
   "cell_type": "code",
   "execution_count": 60,
   "id": "84cb90c5-467c-42e3-990f-49d87f2ed7bc",
   "metadata": {},
   "outputs": [
    {
     "data": {
      "image/png": "[encoded data removed]",
      "text/plain": [
       "<Figure size 640x480 with 1 Axes>"
      ]
     },
     "metadata": {},
     "output_type": "display_data"
    }
   ],
   "source": [
    "sns.boxplot(x='origin', y='mpg', data=cars);"
   ]
  },
  {
   "cell_type": "markdown",
   "id": "22f601d7-3bbb-46c1-923d-17d5a55874f0",
   "metadata": {},
   "source": [
    "### Hue"
   ]
  },
  {
   "cell_type": "markdown",
   "id": "2f75e09c-fd48-4166-8c51-5a2ee1b0c827",
   "metadata": {},
   "source": [
    "#### By Cylinders"
   ]
  },
  {
   "cell_type": "code",
   "execution_count": 61,
   "id": "99d6ea6c-5551-469e-9c68-31eb362bc550",
   "metadata": {},
   "outputs": [
    {
     "data": {
      "image/png": "[encoded data removed]",
      "text/plain": [
       "<Figure size 640x480 with 1 Axes>"
      ]
     },
     "metadata": {},
     "output_type": "display_data"
    }
   ],
   "source": [
    "sns.boxplot(x='origin', y='mpg', hue='cylinders', data=cars);"
   ]
  },
  {
   "cell_type": "markdown",
   "id": "33696495-4a3d-4f43-a519-7d243ff023e2",
   "metadata": {},
   "source": [
    "#### By Model Year"
   ]
  },
  {
   "cell_type": "code",
   "execution_count": 62,
   "id": "f88a59f2-77c1-48f8-a05b-92d1885863c5",
   "metadata": {},
   "outputs": [
    {
     "data": {
      "text/plain": [
       "count    385.000000\n",
       "mean      75.961039\n",
       "std        3.692058\n",
       "min       70.000000\n",
       "25%       73.000000\n",
       "50%       76.000000\n",
       "75%       79.000000\n",
       "max       82.000000\n",
       "Name: model_year, dtype: float64"
      ]
     },
     "execution_count": 62,
     "metadata": {},
     "output_type": "execute_result"
    }
   ],
   "source": [
    "cars.model_year.describe()"
   ]
  },
  {
   "cell_type": "code",
   "execution_count": 63,
   "id": "a61c1036-6083-4eca-a96e-1da8e86330b1",
   "metadata": {},
   "outputs": [],
   "source": [
    "cars['newer_model'] = cars.model_year > 76"
   ]
  },
  {
   "cell_type": "code",
   "execution_count": 64,
   "id": "a8c5d37c-bf74-40eb-8fc6-fd4113efabb9",
   "metadata": {},
   "outputs": [
    {
     "data": {
      "image/png": "[encoded data removed]",
      "text/plain": [
       "<Figure size 640x480 with 1 Axes>"
      ]
     },
     "metadata": {},
     "output_type": "display_data"
    }
   ],
   "source": [
    "sns.boxplot(x='origin', y='mpg', hue='newer_model', data=cars);"
   ]
  },
  {
   "cell_type": "markdown",
   "id": "b944f06f-8131-4fd6-bba0-b112d732d2dc",
   "metadata": {},
   "source": [
    "## Styling Options"
   ]
  },
  {
   "cell_type": "markdown",
   "id": "6f4d36e3-45b8-4b53-8151-6db19de0e69c",
   "metadata": {},
   "source": [
    "### order"
   ]
  },
  {
   "cell_type": "code",
   "execution_count": 65,
   "id": "0140c073-a9d9-42b0-bca8-a22765ebbca3",
   "metadata": {},
   "outputs": [
    {
     "data": {
      "image/png": "[encoded data removed]",
      "text/plain": [
       "<Figure size 640x480 with 1 Axes>"
      ]
     },
     "metadata": {},
     "output_type": "display_data"
    }
   ],
   "source": [
    "sns.boxplot(x='mpg', y='origin',   \n",
    "            data=cars\n",
    "           );"
   ]
  },
  {
   "cell_type": "code",
   "execution_count": 66,
   "id": "8d533754-9de6-4005-af27-2d6969452f89",
   "metadata": {},
   "outputs": [
    {
     "data": {
      "image/png": "[encoded data removed]",
      "text/plain": [
       "<Figure size 640x480 with 1 Axes>"
      ]
     },
     "metadata": {},
     "output_type": "display_data"
    }
   ],
   "source": [
    "sns.boxplot(x='mpg', y='origin', \n",
    "            data=cars,\n",
    "            order=['japan', 'europe', 'usa']\n",
    "           );"
   ]
  },
  {
   "cell_type": "code",
   "execution_count": 67,
   "id": "1c619a68-ac68-40f2-b1f6-99d3a9fe6c3b",
   "metadata": {},
   "outputs": [
    {
     "data": {
      "image/png": "[encoded data removed]",
      "text/plain": [
       "<Figure size 640x480 with 1 Axes>"
      ]
     },
     "metadata": {},
     "output_type": "display_data"
    }
   ],
   "source": [
    "sns.boxplot(x='mpg', y='origin', hue='newer_model',\n",
    "            data=cars,\n",
    "            order=['japan', 'europe', 'usa'],\n",
    "            hue_order=[True, False]\n",
    "           );"
   ]
  },
  {
   "cell_type": "markdown",
   "id": "a0587f77-a15a-40f5-9690-7c7976a78b4c",
   "metadata": {},
   "source": [
    "### color"
   ]
  },
  {
   "cell_type": "code",
   "execution_count": 68,
   "id": "2033e9b6-49c3-47c0-9531-b77c882050d3",
   "metadata": {},
   "outputs": [
    {
     "data": {
      "image/png": "[encoded data removed]",
      "text/plain": [
       "<Figure size 640x480 with 1 Axes>"
      ]
     },
     "metadata": {},
     "output_type": "display_data"
    }
   ],
   "source": [
    "sns.boxplot(x='mpg', y='origin',  \n",
    "            data=cars, \n",
    "            color='g'\n",
    "           );"
   ]
  },
  {
   "cell_type": "code",
   "execution_count": 69,
   "id": "cea809ee-f7c4-4baa-b343-bbbaec156015",
   "metadata": {},
   "outputs": [
    {
     "name": "stderr",
     "output_type": "stream",
     "text": [
      "C:\\Users\\razel\\AppData\\Local\\Temp\\ipykernel_27192\\556650917.py:1: FutureWarning: \n",
      "\n",
      "Setting a gradient palette using color= is deprecated and will be removed in v0.14.0. Set `palette='dark:g'` for the same effect.\n",
      "\n",
      "  sns.boxplot(x='mpg', y='origin', hue='newer_model',\n"
     ]
    },
    {
     "data": {
      "image/png": "[encoded data removed]",
      "text/plain": [
       "<Figure size 640x480 with 1 Axes>"
      ]
     },
     "metadata": {},
     "output_type": "display_data"
    }
   ],
   "source": [
    "sns.boxplot(x='mpg', y='origin', hue='newer_model',\n",
    "            data=cars,\n",
    "            color='g'\n",
    "           );"
   ]
  },
  {
   "cell_type": "markdown",
   "id": "e6c7a11a-05b8-4398-a940-8dee15179ed4",
   "metadata": {},
   "source": [
    "### width"
   ]
  },
  {
   "cell_type": "code",
   "execution_count": 70,
   "id": "3975fe78-3bfe-420f-8352-fd25ba5d3501",
   "metadata": {},
   "outputs": [
    {
     "data": {
      "image/png": "[encoded data removed]",
      "text/plain": [
       "<Figure size 640x480 with 1 Axes>"
      ]
     },
     "metadata": {},
     "output_type": "display_data"
    }
   ],
   "source": [
    "sns.boxplot(x='mpg', y='origin', \n",
    "            data=cars,\n",
    "            width=0.5\n",
    "           ); "
   ]
  },
  {
   "cell_type": "markdown",
   "id": "8d44a2a9-b122-4873-950a-e982c7756503",
   "metadata": {},
   "source": [
    "### linewidth"
   ]
  },
  {
   "cell_type": "code",
   "execution_count": 71,
   "id": "7efebe26-c564-48a3-95ce-6cf825c2525a",
   "metadata": {},
   "outputs": [
    {
     "data": {
      "image/png": "[encoded data removed]",
      "text/plain": [
       "<Figure size 640x480 with 1 Axes>"
      ]
     },
     "metadata": {},
     "output_type": "display_data"
    }
   ],
   "source": [
    "sns.boxplot(x='mpg', y='origin', \n",
    "            data=cars,\n",
    "            linewidth=2.5\n",
    "           );"
   ]
  },
  {
   "cell_type": "markdown",
   "id": "0546ce0a-0c3c-44a8-80b5-090b83e75eb2",
   "metadata": {},
   "source": [
    "### whis"
   ]
  },
  {
   "cell_type": "code",
   "execution_count": 72,
   "id": "156e3a9d-f38c-43ff-9fee-66e7890b86e1",
   "metadata": {},
   "outputs": [
    {
     "data": {
      "image/png": "[encoded data removed]",
      "text/plain": [
       "<Figure size 640x480 with 1 Axes>"
      ]
     },
     "metadata": {},
     "output_type": "display_data"
    }
   ],
   "source": [
    "sns.boxplot(x='mpg', y='origin', \n",
    "            data=cars,\n",
    "            whis=1\n",
    "           );"
   ]
  },
  {
   "cell_type": "code",
   "execution_count": 73,
   "id": "54ff469c-5817-46cd-ad5f-73d51265cf69",
   "metadata": {},
   "outputs": [
    {
     "data": {
      "image/png": "[encoded data removed]",
      "text/plain": [
       "<Figure size 640x480 with 1 Axes>"
      ]
     },
     "metadata": {},
     "output_type": "display_data"
    }
   ],
   "source": [
    "sns.boxplot(x='mpg', y='origin', \n",
    "            data=cars,\n",
    "            whis=2\n",
    "           );"
   ]
  },
  {
   "cell_type": "markdown",
   "id": "3639f9fb-ce98-4193-8f4e-21b9300dfbfd",
   "metadata": {},
   "source": [
    "### fliersize"
   ]
  },
  {
   "cell_type": "code",
   "execution_count": 74,
   "id": "02ed5ca3-88db-42f9-b5df-ac992f2862b9",
   "metadata": {},
   "outputs": [
    {
     "data": {
      "image/png": "[encoded data removed]",
      "text/plain": [
       "<Figure size 640x480 with 1 Axes>"
      ]
     },
     "metadata": {},
     "output_type": "display_data"
    }
   ],
   "source": [
    "sns.boxplot(x='mpg', y='origin', \n",
    "            data=cars,\n",
    "            fliersize=2\n",
    "           );"
   ]
  },
  {
   "cell_type": "code",
   "execution_count": 75,
   "id": "4a354e33-4779-4b0d-b5e9-7701f13b3684",
   "metadata": {},
   "outputs": [
    {
     "data": {
      "image/png": "[encoded data removed]",
      "text/plain": [
       "<Figure size 640x480 with 1 Axes>"
      ]
     },
     "metadata": {},
     "output_type": "display_data"
    }
   ],
   "source": [
    "sns.boxplot(x='mpg', y='origin', \n",
    "            data=cars,\n",
    "            fliersize=10\n",
    "           );"
   ]
  },
  {
   "cell_type": "markdown",
   "id": "f0df47aa-7db7-4a14-a4ae-b91b7f0c17db",
   "metadata": {},
   "source": [
    "### showcaps"
   ]
  },
  {
   "cell_type": "code",
   "execution_count": 76,
   "id": "3f72b331-69d8-4361-ba84-c3bd8c407628",
   "metadata": {},
   "outputs": [
    {
     "data": {
      "image/png": "[encoded data removed]",
      "text/plain": [
       "<Figure size 640x480 with 1 Axes>"
      ]
     },
     "metadata": {},
     "output_type": "display_data"
    }
   ],
   "source": [
    "sns.boxplot(x='mpg', y='origin', \n",
    "            data=cars,\n",
    "            showcaps=False\n",
    "           );"
   ]
  },
  {
   "cell_type": "markdown",
   "id": "c4e01808-989f-4280-a8ae-cd03d204f392",
   "metadata": {},
   "source": [
    "#### In some cases we would like to know starting from which value the boxplot considers the values as outliers.\n",
    "#### We can know the exact value and even count how many values are considered outliers.\n",
    "#### Suggest a way to do this and calculate what percentage of the data are outliers."
   ]
  },
  {
   "cell_type": "markdown",
   "id": "1f795bf0-7fe2-456a-9a54-e16904b8b22b",
   "metadata": {},
   "source": [
    "Here are data on diamonds, show starting from which upper and lower value the values are considered to be outliers according to the __\"carat\"__ column and show the size of the outliers in percentages"
   ]
  },
  {
   "cell_type": "code",
   "execution_count": 77,
   "id": "9be2df6d-94fc-437d-91ff-666b366e1dde",
   "metadata": {},
   "outputs": [
    {
     "data": {
      "text/html": [
       "<div>\n",
       "<style scoped>\n",
       "    .dataframe tbody tr th:only-of-type {\n",
       "        vertical-align: middle;\n",
       "    }\n",
       "\n",
       "    .dataframe tbody tr th {\n",
       "        vertical-align: top;\n",
       "    }\n",
       "\n",
       "    .dataframe thead th {\n",
       "        text-align: right;\n",
       "    }\n",
       "</style>\n",
       "<table border=\"1\" class=\"dataframe\">\n",
       "  <thead>\n",
       "    <tr style=\"text-align: right;\">\n",
       "      <th></th>\n",
       "      <th>carat</th>\n",
       "      <th>cut</th>\n",
       "      <th>color</th>\n",
       "      <th>clarity</th>\n",
       "      <th>depth</th>\n",
       "      <th>table</th>\n",
       "      <th>price</th>\n",
       "      <th>x</th>\n",
       "      <th>y</th>\n",
       "      <th>z</th>\n",
       "    </tr>\n",
       "  </thead>\n",
       "  <tbody>\n",
       "    <tr>\n",
       "      <th>0</th>\n",
       "      <td>0.23</td>\n",
       "      <td>Ideal</td>\n",
       "      <td>E</td>\n",
       "      <td>SI2</td>\n",
       "      <td>61.5</td>\n",
       "      <td>55.0</td>\n",
       "      <td>326</td>\n",
       "      <td>3.95</td>\n",
       "      <td>3.98</td>\n",
       "      <td>2.43</td>\n",
       "    </tr>\n",
       "    <tr>\n",
       "      <th>1</th>\n",
       "      <td>0.21</td>\n",
       "      <td>Premium</td>\n",
       "      <td>E</td>\n",
       "      <td>SI1</td>\n",
       "      <td>59.8</td>\n",
       "      <td>61.0</td>\n",
       "      <td>326</td>\n",
       "      <td>3.89</td>\n",
       "      <td>3.84</td>\n",
       "      <td>2.31</td>\n",
       "    </tr>\n",
       "    <tr>\n",
       "      <th>2</th>\n",
       "      <td>0.23</td>\n",
       "      <td>Good</td>\n",
       "      <td>E</td>\n",
       "      <td>VS1</td>\n",
       "      <td>56.9</td>\n",
       "      <td>65.0</td>\n",
       "      <td>327</td>\n",
       "      <td>4.05</td>\n",
       "      <td>4.07</td>\n",
       "      <td>2.31</td>\n",
       "    </tr>\n",
       "    <tr>\n",
       "      <th>3</th>\n",
       "      <td>0.29</td>\n",
       "      <td>Premium</td>\n",
       "      <td>I</td>\n",
       "      <td>VS2</td>\n",
       "      <td>62.4</td>\n",
       "      <td>58.0</td>\n",
       "      <td>334</td>\n",
       "      <td>4.20</td>\n",
       "      <td>4.23</td>\n",
       "      <td>2.63</td>\n",
       "    </tr>\n",
       "    <tr>\n",
       "      <th>4</th>\n",
       "      <td>0.31</td>\n",
       "      <td>Good</td>\n",
       "      <td>J</td>\n",
       "      <td>SI2</td>\n",
       "      <td>63.3</td>\n",
       "      <td>58.0</td>\n",
       "      <td>335</td>\n",
       "      <td>4.34</td>\n",
       "      <td>4.35</td>\n",
       "      <td>2.75</td>\n",
       "    </tr>\n",
       "  </tbody>\n",
       "</table>\n",
       "</div>"
      ],
      "text/plain": [
       "   carat      cut color clarity  depth  table  price     x     y     z\n",
       "0   0.23    Ideal     E     SI2   61.5   55.0    326  3.95  3.98  2.43\n",
       "1   0.21  Premium     E     SI1   59.8   61.0    326  3.89  3.84  2.31\n",
       "2   0.23     Good     E     VS1   56.9   65.0    327  4.05  4.07  2.31\n",
       "3   0.29  Premium     I     VS2   62.4   58.0    334  4.20  4.23  2.63\n",
       "4   0.31     Good     J     SI2   63.3   58.0    335  4.34  4.35  2.75"
      ]
     },
     "execution_count": 77,
     "metadata": {},
     "output_type": "execute_result"
    }
   ],
   "source": [
    "url = 'https://raw.githubusercontent.com/Razelbaz1/exercises-package/master/data/diamonds.csv'\n",
    "diamonds = pd.read_csv(url)\n",
    "diamonds.head()"
   ]
  },
  {
   "cell_type": "code",
   "execution_count": 78,
   "id": "e6642bda-fadf-462b-86c0-a79b272efa33",
   "metadata": {},
   "outputs": [
    {
     "name": "stdout",
     "output_type": "stream",
     "text": [
      "carat q1: 0.4\n",
      "carat q3: 1.04\n"
     ]
    }
   ],
   "source": [
    "carat_q1, carat_q3 = diamonds['carat'].quantile(0.25), diamonds['carat'].quantile(0.75)\n",
    "\n",
    "print(f'carat q1: {carat_q1}')\n",
    "print(f'carat q3: {carat_q3}')\n",
    "\n"
   ]
  },
  {
   "cell_type": "raw",
   "id": "a373684e-c510-4653-a075-48152f98c1ab",
   "metadata": {},
   "source": [
    "carat q1: 0.4\n",
    "carat q3: 1.04"
   ]
  },
  {
   "cell_type": "code",
   "execution_count": 79,
   "id": "f2cb935d-12ac-4191-8282-1fde017a4079",
   "metadata": {},
   "outputs": [
    {
     "name": "stdout",
     "output_type": "stream",
     "text": [
      "carat_upper:  2.0\n",
      "carat_lower:  -0.5599999999999999\n"
     ]
    }
   ],
   "source": [
    "carat_upper = carat_q3 + (carat_q3 - carat_q1)*1.5\n",
    "carat_lower = carat_q1 - (carat_q3 - carat_q1)*1.5\n",
    "\n",
    "print(f'carat_upper:  {carat_upper}')\n",
    "print(f'carat_lower:  {carat_lower}')"
   ]
  },
  {
   "cell_type": "raw",
   "id": "9cf7bb5f-e308-4822-9463-1a85e123be36",
   "metadata": {},
   "source": [
    "carat_upper:  2.0\n",
    "carat_lower:  -0.5599999999999999"
   ]
  },
  {
   "cell_type": "code",
   "execution_count": 80,
   "id": "c0c96b25-5d4e-4adb-9186-f5bdbe503c3b",
   "metadata": {},
   "outputs": [
    {
     "name": "stderr",
     "output_type": "stream",
     "text": [
      "C:\\Users\\razel\\AppData\\Local\\Temp\\ipykernel_27192\\4202954157.py:1: FutureWarning: Series.__getitem__ treating keys as positions is deprecated. In a future version, integer keys will always be treated as labels (consistent with DataFrame behavior). To access a value by position, use `ser.iloc[pos]`\n",
      "  outlier = diamonds[(diamonds.carat>carat_upper)|(diamonds.carat<carat_lower)].count()[0]\n"
     ]
    }
   ],
   "source": [
    "outlier = diamonds[(diamonds.carat>carat_upper)|(diamonds.carat<carat_lower)].count()[0]\n",
    "# almost 3%"
   ]
  },
  {
   "cell_type": "raw",
   "id": "d546edbb-6ca7-4abb-a107-f5e389de50d1",
   "metadata": {},
   "source": [
    "1889"
   ]
  },
  {
   "cell_type": "code",
   "execution_count": 81,
   "id": "d7f686c9-f6de-4bdf-b9cd-202a8015e5db",
   "metadata": {},
   "outputs": [
    {
     "data": {
      "text/html": [
       "<div>\n",
       "<style scoped>\n",
       "    .dataframe tbody tr th:only-of-type {\n",
       "        vertical-align: middle;\n",
       "    }\n",
       "\n",
       "    .dataframe tbody tr th {\n",
       "        vertical-align: top;\n",
       "    }\n",
       "\n",
       "    .dataframe thead th {\n",
       "        text-align: right;\n",
       "    }\n",
       "</style>\n",
       "<table border=\"1\" class=\"dataframe\">\n",
       "  <thead>\n",
       "    <tr style=\"text-align: right;\">\n",
       "      <th></th>\n",
       "      <th>carat</th>\n",
       "      <th>depth</th>\n",
       "      <th>table</th>\n",
       "      <th>price</th>\n",
       "      <th>x</th>\n",
       "      <th>y</th>\n",
       "      <th>z</th>\n",
       "    </tr>\n",
       "  </thead>\n",
       "  <tbody>\n",
       "    <tr>\n",
       "      <th>count</th>\n",
       "      <td>53940.0</td>\n",
       "      <td>53940.0</td>\n",
       "      <td>53940.0</td>\n",
       "      <td>53940.0</td>\n",
       "      <td>53940.0</td>\n",
       "      <td>53940.0</td>\n",
       "      <td>53940.0</td>\n",
       "    </tr>\n",
       "    <tr>\n",
       "      <th>mean</th>\n",
       "      <td>0.8</td>\n",
       "      <td>61.7</td>\n",
       "      <td>57.5</td>\n",
       "      <td>3932.8</td>\n",
       "      <td>5.7</td>\n",
       "      <td>5.7</td>\n",
       "      <td>3.5</td>\n",
       "    </tr>\n",
       "    <tr>\n",
       "      <th>std</th>\n",
       "      <td>0.5</td>\n",
       "      <td>1.4</td>\n",
       "      <td>2.2</td>\n",
       "      <td>3989.4</td>\n",
       "      <td>1.1</td>\n",
       "      <td>1.1</td>\n",
       "      <td>0.7</td>\n",
       "    </tr>\n",
       "    <tr>\n",
       "      <th>min</th>\n",
       "      <td>0.2</td>\n",
       "      <td>43.0</td>\n",
       "      <td>43.0</td>\n",
       "      <td>326.0</td>\n",
       "      <td>0.0</td>\n",
       "      <td>0.0</td>\n",
       "      <td>0.0</td>\n",
       "    </tr>\n",
       "    <tr>\n",
       "      <th>25%</th>\n",
       "      <td>0.4</td>\n",
       "      <td>61.0</td>\n",
       "      <td>56.0</td>\n",
       "      <td>950.0</td>\n",
       "      <td>4.7</td>\n",
       "      <td>4.7</td>\n",
       "      <td>2.9</td>\n",
       "    </tr>\n",
       "    <tr>\n",
       "      <th>50%</th>\n",
       "      <td>0.7</td>\n",
       "      <td>61.8</td>\n",
       "      <td>57.0</td>\n",
       "      <td>2401.0</td>\n",
       "      <td>5.7</td>\n",
       "      <td>5.7</td>\n",
       "      <td>3.5</td>\n",
       "    </tr>\n",
       "    <tr>\n",
       "      <th>75%</th>\n",
       "      <td>1.0</td>\n",
       "      <td>62.5</td>\n",
       "      <td>59.0</td>\n",
       "      <td>5324.2</td>\n",
       "      <td>6.5</td>\n",
       "      <td>6.5</td>\n",
       "      <td>4.0</td>\n",
       "    </tr>\n",
       "    <tr>\n",
       "      <th>max</th>\n",
       "      <td>5.0</td>\n",
       "      <td>79.0</td>\n",
       "      <td>95.0</td>\n",
       "      <td>18823.0</td>\n",
       "      <td>10.7</td>\n",
       "      <td>58.9</td>\n",
       "      <td>31.8</td>\n",
       "    </tr>\n",
       "  </tbody>\n",
       "</table>\n",
       "</div>"
      ],
      "text/plain": [
       "         carat    depth    table    price        x        y        z\n",
       "count  53940.0  53940.0  53940.0  53940.0  53940.0  53940.0  53940.0\n",
       "mean       0.8     61.7     57.5   3932.8      5.7      5.7      3.5\n",
       "std        0.5      1.4      2.2   3989.4      1.1      1.1      0.7\n",
       "min        0.2     43.0     43.0    326.0      0.0      0.0      0.0\n",
       "25%        0.4     61.0     56.0    950.0      4.7      4.7      2.9\n",
       "50%        0.7     61.8     57.0   2401.0      5.7      5.7      3.5\n",
       "75%        1.0     62.5     59.0   5324.2      6.5      6.5      4.0\n",
       "max        5.0     79.0     95.0  18823.0     10.7     58.9     31.8"
      ]
     },
     "execution_count": 81,
     "metadata": {},
     "output_type": "execute_result"
    }
   ],
   "source": [
    "diamonds.describe().round(1)"
   ]
  },
  {
   "cell_type": "code",
   "execution_count": 82,
   "id": "38e9537f-1e8a-486a-96d3-23c8add57e8b",
   "metadata": {},
   "outputs": [
    {
     "data": {
      "text/plain": [
       "carat    0.03502\n",
       "Name: count, dtype: float64"
      ]
     },
     "execution_count": 82,
     "metadata": {},
     "output_type": "execute_result"
    }
   ],
   "source": [
    "outlier/diamonds.describe().loc['count',['carat']]"
   ]
  },
  {
   "cell_type": "code",
   "execution_count": 83,
   "id": "2627d68d-580b-40f4-8cbe-3e1183f917f4",
   "metadata": {},
   "outputs": [
    {
     "data": {
      "text/plain": [
       "<Axes: ylabel='carat'>"
      ]
     },
     "execution_count": 83,
     "metadata": {},
     "output_type": "execute_result"
    },
    {
     "data": {
      "image/png": "[encoded data removed]",
      "text/plain": [
       "<Figure size 640x480 with 1 Axes>"
      ]
     },
     "metadata": {},
     "output_type": "display_data"
    }
   ],
   "source": [
    "sns.boxplot(data=diamonds,y='carat')"
   ]
  },
  {
   "cell_type": "code",
   "execution_count": null,
   "id": "6f12aafc-e414-4870-9ed9-db80d92c5d6e",
   "metadata": {},
   "outputs": [],
   "source": []
  }
 ],
 "metadata": {
  "celltoolbar": "Slideshow",
  "kernelspec": {
   "display_name": "Python 3 (ipykernel)",
   "language": "python",
   "name": "python3"
  },
  "language_info": {
   "codemirror_mode": {
    "name": "ipython",
    "version": 3
   },
   "file_extension": ".py",
   "mimetype": "text/x-python",
   "name": "python",
   "nbconvert_exporter": "python",
   "pygments_lexer": "ipython3",
   "version": "3.13.0"
  }
 },
 "nbformat": 4,
 "nbformat_minor": 5
}
