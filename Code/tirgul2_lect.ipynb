{
 "cells": [
  {
   "cell_type": "markdown",
   "id": "0202afb2-269c-4199-a584-418a475f21bc",
   "metadata": {},
   "source": [
    "<div style=\"color:white;display:fill;border-radius:8px;\n",
    "            background-color:#03112A;font-size:250%; \n",
    "            letter-spacing:1.0px;background-image: url(https://i.imgur.com/GVd0La1.png)\">\n",
    "    <p style=\"padding: 8px;text-align: center;color:white; border-radius: 20px; padding-top: 20px; padding-bottom: 20px;\"><b><b><span style='color:#2ae4f5''></span></b> Exercise no. 2 </b></p>\n",
    "</div>"
   ]
  },
  {
   "cell_type": "markdown",
   "id": "c2fe5d3f-b955-4c1f-9aef-662ba96d7cb4",
   "metadata": {},
   "source": [
    "<b id=\"up\"> </b>  "
   ]
  },
  {
   "cell_type": "markdown",
   "id": "eb90526c-cf22-4f4f-95aa-7fc859cd2349",
   "metadata": {},
   "source": [
    "1. [Pandas](#section1)\n",
    "2. [loc&iloc](#section2)\n",
    "3. [conditional selection](#section3)\n",
    "4. [⭐ Numpy](#section4)\n",
    "5. [⭐ Random](#section5)\n",
    "---"
   ]
  },
  {
   "cell_type": "markdown",
   "id": "ba1484e1-8226-4718-a29d-b9521bd3c4e3",
   "metadata": {},
   "source": [
    "<h1 style=\"background-color: #fff4d9; color: #0046d6; border-radius: 10px; text-align: center; padding-top: 10px; padding-bottom: 10px; font-family: 'Arial'\" id=\"introduction\">Quick recap : Functions you have learned so far</h1>"
   ]
  },
  {
   "cell_type": "markdown",
   "id": "b094098e-77e7-4333-87b2-0a125e16afc0",
   "metadata": {},
   "source": [
    "---\n",
    "\n",
    ">\n",
    ">* `pd.read_csv` - Read data from a CSV file into a Pandas `DataFrame` object\n",
    ">\n",
    ">* `info()` - View basic infomation about rows, columns & data types\n",
    ">\n",
    ">* `.columns` - Get the list of column names\n",
    ">\n",
    ">* `.shape` - Get the number of rows & columns as a tuple\n",
    ">\n",
    ">* `.head(), .tail()` -  View the beginning/end of the file\n",
    ">\n",
    ">* `.unique()` - view the unique entries in a series (not a dataframe) object\n",
    ">\n",
    ">* `len` - dataframe length (number of rows)\n",
    ">\n",
    "\n",
    "---"
   ]
  },
  {
   "cell_type": "markdown",
   "id": "0c0408c2-7943-40de-a767-fcffeaa644c0",
   "metadata": {},
   "source": [
    "\n",
    "#### Additional useful functions:\n",
    "\n",
    "\n",
    ">* `.index.values` - the row indexes of this part of the dataframes\n",
    ">* `.str.contains` - selects rows and columns that contain a string\n",
    ">* `.max` - maximum value\n",
    ">* `.mean` - average value\n",
    ">* `.count` - the number of rows that contain a value\n"
   ]
  },
  {
   "cell_type": "markdown",
   "id": "6c127d81-7e2f-4eb5-85f2-aa7639c37352",
   "metadata": {},
   "source": [
    "<div style=\"color:white;display:fill;border-radius:8px;\n",
    "            background-color:#03112A;font-size:150%;\n",
    "            letter-spacing:1.0px;background-image: url(https://i.imgur.com/GVd0La1.png)\">\n",
    "    <p style=\"padding: 8px;color:white;\"><b><b><span style='color:#2ae4f5''> |</span></b> Pandas.</b></p>\n",
    "</div>"
   ]
  },
  {
   "cell_type": "markdown",
   "id": "29598235-3c3d-44d5-828a-6c18a89384a6",
   "metadata": {
    "id": "WwI528DF5h2L"
   },
   "source": [
    "### read file using pandas\n",
    "### pandas is a fast, powerful, flexible and easy to use open source data analysis in python\n",
    "### Here we use it to read a csv file"
   ]
  },
  {
   "cell_type": "code",
   "execution_count": 1,
   "id": "a7cef4df-11ac-4988-be74-5e9a68e05382",
   "metadata": {},
   "outputs": [
    {
     "name": "stdout",
     "output_type": "stream",
     "text": [
      "1.4.1\n"
     ]
    }
   ],
   "source": [
    "import pandas as pd\n",
    "print(pd.__version__)"
   ]
  },
  {
   "cell_type": "markdown",
   "id": "dc5f35b5-8ada-4d9e-a1b2-a7630e96af0c",
   "metadata": {
    "id": "B_iF_eNv5pn_"
   },
   "source": [
    "* Here we read from a net repository (github)\n",
    "* to read from current folder simply write the filename\n",
    "* guess what is the commmand for the end"
   ]
  },
  {
   "cell_type": "code",
   "execution_count": 2,
   "id": "66517fd4-2b9f-4bd6-9e0b-2bcd8ed8a006",
   "metadata": {},
   "outputs": [],
   "source": [
    "#https://raw.githubusercontent.com/Razelbaz1/exercises-package/refs/heads/master/data/titanic_short.csv"
   ]
  },
  {
   "cell_type": "code",
   "execution_count": 3,
   "id": "0b2079a8-22b9-450c-84c8-29f6880d3be3",
   "metadata": {
    "colab": {
     "base_uri": "https://localhost:8080/",
     "height": 363
    },
    "executionInfo": {
     "elapsed": 17,
     "status": "ok",
     "timestamp": 1687887691947,
     "user": {
      "displayName": "Shai Tirgulim",
      "userId": "18041892042069420089"
     },
     "user_tz": -180
    },
    "id": "1sXd5ZhxoK_z",
    "outputId": "fac137a5-2305-4929-d300-1a6b1d2cec8c"
   },
   "outputs": [
    {
     "data": {
      "text/html": [
       "<div>\n",
       "<style scoped>\n",
       "    .dataframe tbody tr th:only-of-type {\n",
       "        vertical-align: middle;\n",
       "    }\n",
       "\n",
       "    .dataframe tbody tr th {\n",
       "        vertical-align: top;\n",
       "    }\n",
       "\n",
       "    .dataframe thead th {\n",
       "        text-align: right;\n",
       "    }\n",
       "</style>\n",
       "<table border=\"1\" class=\"dataframe\">\n",
       "  <thead>\n",
       "    <tr style=\"text-align: right;\">\n",
       "      <th></th>\n",
       "      <th>pclass</th>\n",
       "      <th>survived</th>\n",
       "      <th>age</th>\n",
       "      <th>sex</th>\n",
       "    </tr>\n",
       "  </thead>\n",
       "  <tbody>\n",
       "    <tr>\n",
       "      <th>0</th>\n",
       "      <td>1st</td>\n",
       "      <td>1</td>\n",
       "      <td>29.0000</td>\n",
       "      <td>female</td>\n",
       "    </tr>\n",
       "    <tr>\n",
       "      <th>1</th>\n",
       "      <td>1st</td>\n",
       "      <td>0</td>\n",
       "      <td>2.0000</td>\n",
       "      <td>female</td>\n",
       "    </tr>\n",
       "    <tr>\n",
       "      <th>2</th>\n",
       "      <td>1st</td>\n",
       "      <td>0</td>\n",
       "      <td>30.0000</td>\n",
       "      <td>male</td>\n",
       "    </tr>\n",
       "    <tr>\n",
       "      <th>3</th>\n",
       "      <td>1st</td>\n",
       "      <td>0</td>\n",
       "      <td>25.0000</td>\n",
       "      <td>female</td>\n",
       "    </tr>\n",
       "    <tr>\n",
       "      <th>4</th>\n",
       "      <td>1st</td>\n",
       "      <td>1</td>\n",
       "      <td>0.9167</td>\n",
       "      <td>male</td>\n",
       "    </tr>\n",
       "    <tr>\n",
       "      <th>5</th>\n",
       "      <td>1st</td>\n",
       "      <td>1</td>\n",
       "      <td>47.0000</td>\n",
       "      <td>male</td>\n",
       "    </tr>\n",
       "    <tr>\n",
       "      <th>6</th>\n",
       "      <td>1st</td>\n",
       "      <td>1</td>\n",
       "      <td>63.0000</td>\n",
       "      <td>female</td>\n",
       "    </tr>\n",
       "    <tr>\n",
       "      <th>7</th>\n",
       "      <td>1st</td>\n",
       "      <td>0</td>\n",
       "      <td>39.0000</td>\n",
       "      <td>male</td>\n",
       "    </tr>\n",
       "    <tr>\n",
       "      <th>8</th>\n",
       "      <td>1st</td>\n",
       "      <td>1</td>\n",
       "      <td>58.0000</td>\n",
       "      <td>female</td>\n",
       "    </tr>\n",
       "    <tr>\n",
       "      <th>9</th>\n",
       "      <td>1st</td>\n",
       "      <td>0</td>\n",
       "      <td>71.0000</td>\n",
       "      <td>male</td>\n",
       "    </tr>\n",
       "    <tr>\n",
       "      <th>10</th>\n",
       "      <td>1st</td>\n",
       "      <td>0</td>\n",
       "      <td>47.0000</td>\n",
       "      <td>male</td>\n",
       "    </tr>\n",
       "    <tr>\n",
       "      <th>11</th>\n",
       "      <td>1st</td>\n",
       "      <td>1</td>\n",
       "      <td>19.0000</td>\n",
       "      <td>female</td>\n",
       "    </tr>\n",
       "    <tr>\n",
       "      <th>12</th>\n",
       "      <td>1st</td>\n",
       "      <td>1</td>\n",
       "      <td>NaN</td>\n",
       "      <td>female</td>\n",
       "    </tr>\n",
       "    <tr>\n",
       "      <th>13</th>\n",
       "      <td>1st</td>\n",
       "      <td>1</td>\n",
       "      <td>NaN</td>\n",
       "      <td>male</td>\n",
       "    </tr>\n",
       "    <tr>\n",
       "      <th>14</th>\n",
       "      <td>1st</td>\n",
       "      <td>0</td>\n",
       "      <td>NaN</td>\n",
       "      <td>male</td>\n",
       "    </tr>\n",
       "    <tr>\n",
       "      <th>15</th>\n",
       "      <td>1st</td>\n",
       "      <td>1</td>\n",
       "      <td>50.0000</td>\n",
       "      <td>female</td>\n",
       "    </tr>\n",
       "    <tr>\n",
       "      <th>16</th>\n",
       "      <td>1st</td>\n",
       "      <td>0</td>\n",
       "      <td>24.0000</td>\n",
       "      <td>male</td>\n",
       "    </tr>\n",
       "    <tr>\n",
       "      <th>17</th>\n",
       "      <td>1st</td>\n",
       "      <td>0</td>\n",
       "      <td>36.0000</td>\n",
       "      <td>male</td>\n",
       "    </tr>\n",
       "    <tr>\n",
       "      <th>18</th>\n",
       "      <td>1st</td>\n",
       "      <td>1</td>\n",
       "      <td>37.0000</td>\n",
       "      <td>male</td>\n",
       "    </tr>\n",
       "    <tr>\n",
       "      <th>19</th>\n",
       "      <td>1st</td>\n",
       "      <td>1</td>\n",
       "      <td>NaN</td>\n",
       "      <td>female</td>\n",
       "    </tr>\n",
       "  </tbody>\n",
       "</table>\n",
       "</div>"
      ],
      "text/plain": [
       "   pclass  survived      age     sex\n",
       "0     1st         1  29.0000  female\n",
       "1     1st         0   2.0000  female\n",
       "2     1st         0  30.0000    male\n",
       "3     1st         0  25.0000  female\n",
       "4     1st         1   0.9167    male\n",
       "5     1st         1  47.0000    male\n",
       "6     1st         1  63.0000  female\n",
       "7     1st         0  39.0000    male\n",
       "8     1st         1  58.0000  female\n",
       "9     1st         0  71.0000    male\n",
       "10    1st         0  47.0000    male\n",
       "11    1st         1  19.0000  female\n",
       "12    1st         1      NaN  female\n",
       "13    1st         1      NaN    male\n",
       "14    1st         0      NaN    male\n",
       "15    1st         1  50.0000  female\n",
       "16    1st         0  24.0000    male\n",
       "17    1st         0  36.0000    male\n",
       "18    1st         1  37.0000    male\n",
       "19    1st         1      NaN  female"
      ]
     },
     "execution_count": 3,
     "metadata": {},
     "output_type": "execute_result"
    }
   ],
   "source": [
    "import pandas as pd\n",
    "#encoding='latin1'\n",
    "url = 'https://github.com/Razelbaz1/exercises-package/blob/master/data/titanic_short.csv' # read from net.\n",
    "name = 'titanic_short.csv'\n",
    "path = 'C:\\\\Users\\\\razel\\\\Desktop\\\\אריאל\\\\data-analytics\\\\‏‏My Lectures Sem B 24\\\\tirgul1\\\\titanic_short.csv'\n",
    "data = pd.read_csv(path,encoding='latin1')\n",
    "data.head(20) # we can set the number of first rows to be displayed.\n"
   ]
  },
  {
   "cell_type": "code",
   "execution_count": 4,
   "id": "8a8dc45c-34d8-4cb5-819a-c19e07d17253",
   "metadata": {
    "colab": {
     "base_uri": "https://localhost:8080/"
    },
    "executionInfo": {
     "elapsed": 266,
     "status": "ok",
     "timestamp": 1687628660476,
     "user": {
      "displayName": "Shai Tirgulim",
      "userId": "18041892042069420089"
     },
     "user_tz": -180
    },
    "id": "WpYMQPwsgaYA",
    "outputId": "eeb22acf-cee6-4014-e0c4-e1e26df4b0ef"
   },
   "outputs": [
    {
     "data": {
      "text/plain": [
       "pandas.core.frame.DataFrame"
      ]
     },
     "execution_count": 4,
     "metadata": {},
     "output_type": "execute_result"
    }
   ],
   "source": [
    "type(data)"
   ]
  },
  {
   "cell_type": "code",
   "execution_count": 5,
   "id": "654f3d17-ca6c-474f-9e52-1978934184d7",
   "metadata": {
    "colab": {
     "base_uri": "https://localhost:8080/",
     "height": 175
    },
    "executionInfo": {
     "elapsed": 419,
     "status": "ok",
     "timestamp": 1687888050034,
     "user": {
      "displayName": "Shai Tirgulim",
      "userId": "18041892042069420089"
     },
     "user_tz": -180
    },
    "id": "TrxstzsZoK_0",
    "outputId": "8816b6c0-a7f2-489b-aed1-bdf4e67d6dee"
   },
   "outputs": [
    {
     "data": {
      "text/html": [
       "<div>\n",
       "<style scoped>\n",
       "    .dataframe tbody tr th:only-of-type {\n",
       "        vertical-align: middle;\n",
       "    }\n",
       "\n",
       "    .dataframe tbody tr th {\n",
       "        vertical-align: top;\n",
       "    }\n",
       "\n",
       "    .dataframe thead th {\n",
       "        text-align: right;\n",
       "    }\n",
       "</style>\n",
       "<table border=\"1\" class=\"dataframe\">\n",
       "  <thead>\n",
       "    <tr style=\"text-align: right;\">\n",
       "      <th></th>\n",
       "      <th>pclass</th>\n",
       "      <th>survived</th>\n",
       "      <th>age</th>\n",
       "      <th>sex</th>\n",
       "    </tr>\n",
       "  </thead>\n",
       "  <tbody>\n",
       "    <tr>\n",
       "      <th>20</th>\n",
       "      <td>1st</td>\n",
       "      <td>1</td>\n",
       "      <td>26.0</td>\n",
       "      <td>male</td>\n",
       "    </tr>\n",
       "    <tr>\n",
       "      <th>21</th>\n",
       "      <td>1st</td>\n",
       "      <td>0</td>\n",
       "      <td>25.0</td>\n",
       "      <td>male</td>\n",
       "    </tr>\n",
       "    <tr>\n",
       "      <th>22</th>\n",
       "      <td>1st</td>\n",
       "      <td>1</td>\n",
       "      <td>NaN</td>\n",
       "      <td>male</td>\n",
       "    </tr>\n",
       "    <tr>\n",
       "      <th>23</th>\n",
       "      <td>1st</td>\n",
       "      <td>1</td>\n",
       "      <td>19.0</td>\n",
       "      <td>female</td>\n",
       "    </tr>\n",
       "    <tr>\n",
       "      <th>24</th>\n",
       "      <td>1st</td>\n",
       "      <td>1</td>\n",
       "      <td>28.0</td>\n",
       "      <td>male</td>\n",
       "    </tr>\n",
       "    <tr>\n",
       "      <th>25</th>\n",
       "      <td>1st</td>\n",
       "      <td>0</td>\n",
       "      <td>NaN</td>\n",
       "      <td>male</td>\n",
       "    </tr>\n",
       "    <tr>\n",
       "      <th>26</th>\n",
       "      <td>1st</td>\n",
       "      <td>1</td>\n",
       "      <td>39.0</td>\n",
       "      <td>male</td>\n",
       "    </tr>\n",
       "    <tr>\n",
       "      <th>27</th>\n",
       "      <td>1st</td>\n",
       "      <td>1</td>\n",
       "      <td>30.0</td>\n",
       "      <td>female</td>\n",
       "    </tr>\n",
       "    <tr>\n",
       "      <th>28</th>\n",
       "      <td>1st</td>\n",
       "      <td>1</td>\n",
       "      <td>58.0</td>\n",
       "      <td>female</td>\n",
       "    </tr>\n",
       "    <tr>\n",
       "      <th>29</th>\n",
       "      <td>1st</td>\n",
       "      <td>0</td>\n",
       "      <td>NaN</td>\n",
       "      <td>male</td>\n",
       "    </tr>\n",
       "  </tbody>\n",
       "</table>\n",
       "</div>"
      ],
      "text/plain": [
       "   pclass  survived   age     sex\n",
       "20    1st         1  26.0    male\n",
       "21    1st         0  25.0    male\n",
       "22    1st         1   NaN    male\n",
       "23    1st         1  19.0  female\n",
       "24    1st         1  28.0    male\n",
       "25    1st         0   NaN    male\n",
       "26    1st         1  39.0    male\n",
       "27    1st         1  30.0  female\n",
       "28    1st         1  58.0  female\n",
       "29    1st         0   NaN    male"
      ]
     },
     "execution_count": 5,
     "metadata": {},
     "output_type": "execute_result"
    }
   ],
   "source": [
    "data.tail(10) # set 2 last records"
   ]
  },
  {
   "cell_type": "code",
   "execution_count": 6,
   "id": "473c8c9c-3a70-469f-92eb-22c1da6a175f",
   "metadata": {
    "colab": {
     "base_uri": "https://localhost:8080/",
     "height": 332
    },
    "executionInfo": {
     "elapsed": 293,
     "status": "ok",
     "timestamp": 1687888062501,
     "user": {
      "displayName": "Shai Tirgulim",
      "userId": "18041892042069420089"
     },
     "user_tz": -180
    },
    "id": "s6JIIrMooK_1",
    "outputId": "0278b970-e25e-4957-aa70-e4dabfd82e4d"
   },
   "outputs": [
    {
     "data": {
      "text/html": [
       "<div>\n",
       "<style scoped>\n",
       "    .dataframe tbody tr th:only-of-type {\n",
       "        vertical-align: middle;\n",
       "    }\n",
       "\n",
       "    .dataframe tbody tr th {\n",
       "        vertical-align: top;\n",
       "    }\n",
       "\n",
       "    .dataframe thead th {\n",
       "        text-align: right;\n",
       "    }\n",
       "</style>\n",
       "<table border=\"1\" class=\"dataframe\">\n",
       "  <thead>\n",
       "    <tr style=\"text-align: right;\">\n",
       "      <th></th>\n",
       "      <th>pclass</th>\n",
       "      <th>survived</th>\n",
       "      <th>age</th>\n",
       "      <th>sex</th>\n",
       "    </tr>\n",
       "  </thead>\n",
       "  <tbody>\n",
       "    <tr>\n",
       "      <th>10</th>\n",
       "      <td>1st</td>\n",
       "      <td>0</td>\n",
       "      <td>47.0</td>\n",
       "      <td>male</td>\n",
       "    </tr>\n",
       "    <tr>\n",
       "      <th>11</th>\n",
       "      <td>1st</td>\n",
       "      <td>1</td>\n",
       "      <td>19.0</td>\n",
       "      <td>female</td>\n",
       "    </tr>\n",
       "    <tr>\n",
       "      <th>12</th>\n",
       "      <td>1st</td>\n",
       "      <td>1</td>\n",
       "      <td>NaN</td>\n",
       "      <td>female</td>\n",
       "    </tr>\n",
       "    <tr>\n",
       "      <th>13</th>\n",
       "      <td>1st</td>\n",
       "      <td>1</td>\n",
       "      <td>NaN</td>\n",
       "      <td>male</td>\n",
       "    </tr>\n",
       "    <tr>\n",
       "      <th>14</th>\n",
       "      <td>1st</td>\n",
       "      <td>0</td>\n",
       "      <td>NaN</td>\n",
       "      <td>male</td>\n",
       "    </tr>\n",
       "    <tr>\n",
       "      <th>15</th>\n",
       "      <td>1st</td>\n",
       "      <td>1</td>\n",
       "      <td>50.0</td>\n",
       "      <td>female</td>\n",
       "    </tr>\n",
       "    <tr>\n",
       "      <th>16</th>\n",
       "      <td>1st</td>\n",
       "      <td>0</td>\n",
       "      <td>24.0</td>\n",
       "      <td>male</td>\n",
       "    </tr>\n",
       "    <tr>\n",
       "      <th>17</th>\n",
       "      <td>1st</td>\n",
       "      <td>0</td>\n",
       "      <td>36.0</td>\n",
       "      <td>male</td>\n",
       "    </tr>\n",
       "    <tr>\n",
       "      <th>18</th>\n",
       "      <td>1st</td>\n",
       "      <td>1</td>\n",
       "      <td>37.0</td>\n",
       "      <td>male</td>\n",
       "    </tr>\n",
       "  </tbody>\n",
       "</table>\n",
       "</div>"
      ],
      "text/plain": [
       "   pclass  survived   age     sex\n",
       "10    1st         0  47.0    male\n",
       "11    1st         1  19.0  female\n",
       "12    1st         1   NaN  female\n",
       "13    1st         1   NaN    male\n",
       "14    1st         0   NaN    male\n",
       "15    1st         1  50.0  female\n",
       "16    1st         0  24.0    male\n",
       "17    1st         0  36.0    male\n",
       "18    1st         1  37.0    male"
      ]
     },
     "execution_count": 6,
     "metadata": {},
     "output_type": "execute_result"
    }
   ],
   "source": [
    "#### Set specific raws:\n",
    "data[10:19]"
   ]
  },
  {
   "cell_type": "code",
   "execution_count": 7,
   "id": "4295668c-8451-4de6-a755-98bdb3e955de",
   "metadata": {
    "colab": {
     "base_uri": "https://localhost:8080/",
     "height": 614
    },
    "executionInfo": {
     "elapsed": 312,
     "status": "ok",
     "timestamp": 1687888084438,
     "user": {
      "displayName": "Shai Tirgulim",
      "userId": "18041892042069420089"
     },
     "user_tz": -180
    },
    "id": "SPBmV76y3hMd",
    "outputId": "a6e63418-1652-4805-c3d7-ce600b773c12"
   },
   "outputs": [
    {
     "data": {
      "text/html": [
       "<div>\n",
       "<style scoped>\n",
       "    .dataframe tbody tr th:only-of-type {\n",
       "        vertical-align: middle;\n",
       "    }\n",
       "\n",
       "    .dataframe tbody tr th {\n",
       "        vertical-align: top;\n",
       "    }\n",
       "\n",
       "    .dataframe thead th {\n",
       "        text-align: right;\n",
       "    }\n",
       "</style>\n",
       "<table border=\"1\" class=\"dataframe\">\n",
       "  <thead>\n",
       "    <tr style=\"text-align: right;\">\n",
       "      <th></th>\n",
       "      <th>pclass</th>\n",
       "      <th>survived</th>\n",
       "      <th>age</th>\n",
       "      <th>sex</th>\n",
       "    </tr>\n",
       "  </thead>\n",
       "  <tbody>\n",
       "    <tr>\n",
       "      <th>0</th>\n",
       "      <td>1st</td>\n",
       "      <td>1</td>\n",
       "      <td>29.0000</td>\n",
       "      <td>female</td>\n",
       "    </tr>\n",
       "    <tr>\n",
       "      <th>4</th>\n",
       "      <td>1st</td>\n",
       "      <td>1</td>\n",
       "      <td>0.9167</td>\n",
       "      <td>male</td>\n",
       "    </tr>\n",
       "    <tr>\n",
       "      <th>5</th>\n",
       "      <td>1st</td>\n",
       "      <td>1</td>\n",
       "      <td>47.0000</td>\n",
       "      <td>male</td>\n",
       "    </tr>\n",
       "    <tr>\n",
       "      <th>6</th>\n",
       "      <td>1st</td>\n",
       "      <td>1</td>\n",
       "      <td>63.0000</td>\n",
       "      <td>female</td>\n",
       "    </tr>\n",
       "    <tr>\n",
       "      <th>8</th>\n",
       "      <td>1st</td>\n",
       "      <td>1</td>\n",
       "      <td>58.0000</td>\n",
       "      <td>female</td>\n",
       "    </tr>\n",
       "    <tr>\n",
       "      <th>11</th>\n",
       "      <td>1st</td>\n",
       "      <td>1</td>\n",
       "      <td>19.0000</td>\n",
       "      <td>female</td>\n",
       "    </tr>\n",
       "    <tr>\n",
       "      <th>12</th>\n",
       "      <td>1st</td>\n",
       "      <td>1</td>\n",
       "      <td>NaN</td>\n",
       "      <td>female</td>\n",
       "    </tr>\n",
       "    <tr>\n",
       "      <th>13</th>\n",
       "      <td>1st</td>\n",
       "      <td>1</td>\n",
       "      <td>NaN</td>\n",
       "      <td>male</td>\n",
       "    </tr>\n",
       "    <tr>\n",
       "      <th>15</th>\n",
       "      <td>1st</td>\n",
       "      <td>1</td>\n",
       "      <td>50.0000</td>\n",
       "      <td>female</td>\n",
       "    </tr>\n",
       "    <tr>\n",
       "      <th>18</th>\n",
       "      <td>1st</td>\n",
       "      <td>1</td>\n",
       "      <td>37.0000</td>\n",
       "      <td>male</td>\n",
       "    </tr>\n",
       "    <tr>\n",
       "      <th>19</th>\n",
       "      <td>1st</td>\n",
       "      <td>1</td>\n",
       "      <td>NaN</td>\n",
       "      <td>female</td>\n",
       "    </tr>\n",
       "    <tr>\n",
       "      <th>20</th>\n",
       "      <td>1st</td>\n",
       "      <td>1</td>\n",
       "      <td>26.0000</td>\n",
       "      <td>male</td>\n",
       "    </tr>\n",
       "    <tr>\n",
       "      <th>22</th>\n",
       "      <td>1st</td>\n",
       "      <td>1</td>\n",
       "      <td>NaN</td>\n",
       "      <td>male</td>\n",
       "    </tr>\n",
       "    <tr>\n",
       "      <th>23</th>\n",
       "      <td>1st</td>\n",
       "      <td>1</td>\n",
       "      <td>19.0000</td>\n",
       "      <td>female</td>\n",
       "    </tr>\n",
       "    <tr>\n",
       "      <th>24</th>\n",
       "      <td>1st</td>\n",
       "      <td>1</td>\n",
       "      <td>28.0000</td>\n",
       "      <td>male</td>\n",
       "    </tr>\n",
       "    <tr>\n",
       "      <th>26</th>\n",
       "      <td>1st</td>\n",
       "      <td>1</td>\n",
       "      <td>39.0000</td>\n",
       "      <td>male</td>\n",
       "    </tr>\n",
       "    <tr>\n",
       "      <th>27</th>\n",
       "      <td>1st</td>\n",
       "      <td>1</td>\n",
       "      <td>30.0000</td>\n",
       "      <td>female</td>\n",
       "    </tr>\n",
       "    <tr>\n",
       "      <th>28</th>\n",
       "      <td>1st</td>\n",
       "      <td>1</td>\n",
       "      <td>58.0000</td>\n",
       "      <td>female</td>\n",
       "    </tr>\n",
       "  </tbody>\n",
       "</table>\n",
       "</div>"
      ],
      "text/plain": [
       "   pclass  survived      age     sex\n",
       "0     1st         1  29.0000  female\n",
       "4     1st         1   0.9167    male\n",
       "5     1st         1  47.0000    male\n",
       "6     1st         1  63.0000  female\n",
       "8     1st         1  58.0000  female\n",
       "11    1st         1  19.0000  female\n",
       "12    1st         1      NaN  female\n",
       "13    1st         1      NaN    male\n",
       "15    1st         1  50.0000  female\n",
       "18    1st         1  37.0000    male\n",
       "19    1st         1      NaN  female\n",
       "20    1st         1  26.0000    male\n",
       "22    1st         1      NaN    male\n",
       "23    1st         1  19.0000  female\n",
       "24    1st         1  28.0000    male\n",
       "26    1st         1  39.0000    male\n",
       "27    1st         1  30.0000  female\n",
       "28    1st         1  58.0000  female"
      ]
     },
     "execution_count": 7,
     "metadata": {},
     "output_type": "execute_result"
    }
   ],
   "source": [
    "data[data['survived']==1]"
   ]
  },
  {
   "cell_type": "markdown",
   "id": "4932a976-0b74-4441-a8ab-0b42bdd5a91c",
   "metadata": {
    "id": "m89Pb8D_oK_1"
   },
   "source": [
    "### Suggest ideas how to display only survivors (denoted in 1)\n",
    "\n",
    "\n",
    "\n",
    "\n",
    "\n",
    "\n",
    "\n",
    "\n"
   ]
  },
  {
   "cell_type": "code",
   "execution_count": 8,
   "id": "48afc563-8186-4296-9b91-da76354f98e3",
   "metadata": {
    "colab": {
     "base_uri": "https://localhost:8080/"
    },
    "executionInfo": {
     "elapsed": 57,
     "status": "ok",
     "timestamp": 1658056256054,
     "user": {
      "displayName": "Shai Tirgulim",
      "userId": "18041892042069420089"
     },
     "user_tz": -180
    },
    "id": "q7K6Xd3-oK_2",
    "outputId": "6041b717-cfaf-4d7d-941d-772bee51ec55"
   },
   "outputs": [
    {
     "data": {
      "text/plain": [
       "0      True\n",
       "1     False\n",
       "2     False\n",
       "3     False\n",
       "4      True\n",
       "5      True\n",
       "6      True\n",
       "7     False\n",
       "8      True\n",
       "9     False\n",
       "10    False\n",
       "11     True\n",
       "12     True\n",
       "13     True\n",
       "14    False\n",
       "15     True\n",
       "16    False\n",
       "17    False\n",
       "18     True\n",
       "19     True\n",
       "20     True\n",
       "21    False\n",
       "22     True\n",
       "23     True\n",
       "24     True\n",
       "25    False\n",
       "26     True\n",
       "27     True\n",
       "28     True\n",
       "29    False\n",
       "Name: survived, dtype: bool"
      ]
     },
     "execution_count": 8,
     "metadata": {},
     "output_type": "execute_result"
    }
   ],
   "source": [
    "\n",
    "\n",
    "\n",
    "\n",
    "\n",
    "\n",
    "\n",
    "\n",
    "\n",
    "# data[data['survived'] == 1]\n",
    "data['survived']== 1"
   ]
  },
  {
   "cell_type": "markdown",
   "id": "bde0d353-99c6-4abd-b3ea-9c5d41508788",
   "metadata": {
    "id": "CGhHaMoRoK_3"
   },
   "source": [
    "### Suggest how to display only females gender"
   ]
  },
  {
   "cell_type": "code",
   "execution_count": 9,
   "id": "0c2a6cd5-ecc7-49d1-ad8a-503dae5445cd",
   "metadata": {
    "colab": {
     "base_uri": "https://localhost:8080/"
    },
    "executionInfo": {
     "elapsed": 312,
     "status": "ok",
     "timestamp": 1687888142593,
     "user": {
      "displayName": "Shai Tirgulim",
      "userId": "18041892042069420089"
     },
     "user_tz": -180
    },
    "id": "vzfghUJE55mA",
    "outputId": "8ddcc64f-32c6-4c41-867c-3aa2b464e11e"
   },
   "outputs": [
    {
     "data": {
      "text/plain": [
       "0      True\n",
       "1      True\n",
       "2     False\n",
       "3      True\n",
       "4     False\n",
       "5     False\n",
       "6      True\n",
       "7     False\n",
       "8      True\n",
       "9     False\n",
       "10    False\n",
       "11     True\n",
       "12     True\n",
       "13    False\n",
       "14    False\n",
       "15     True\n",
       "16    False\n",
       "17    False\n",
       "18    False\n",
       "19     True\n",
       "20    False\n",
       "21    False\n",
       "22    False\n",
       "23     True\n",
       "24    False\n",
       "25    False\n",
       "26    False\n",
       "27     True\n",
       "28     True\n",
       "29    False\n",
       "Name: sex, dtype: bool"
      ]
     },
     "execution_count": 9,
     "metadata": {},
     "output_type": "execute_result"
    }
   ],
   "source": [
    "data['sex']=='female'"
   ]
  },
  {
   "cell_type": "code",
   "execution_count": 10,
   "id": "dc86087e-741b-4937-915f-d865eeef74fd",
   "metadata": {
    "colab": {
     "base_uri": "https://localhost:8080/",
     "height": 426
    },
    "executionInfo": {
     "elapsed": 324,
     "status": "ok",
     "timestamp": 1687888147112,
     "user": {
      "displayName": "Shai Tirgulim",
      "userId": "18041892042069420089"
     },
     "user_tz": -180
    },
    "id": "Uqi-u4uMoK_4",
    "outputId": "c79e10d4-b7ce-4672-f146-e09a8f0aaeb2"
   },
   "outputs": [
    {
     "data": {
      "text/html": [
       "<div>\n",
       "<style scoped>\n",
       "    .dataframe tbody tr th:only-of-type {\n",
       "        vertical-align: middle;\n",
       "    }\n",
       "\n",
       "    .dataframe tbody tr th {\n",
       "        vertical-align: top;\n",
       "    }\n",
       "\n",
       "    .dataframe thead th {\n",
       "        text-align: right;\n",
       "    }\n",
       "</style>\n",
       "<table border=\"1\" class=\"dataframe\">\n",
       "  <thead>\n",
       "    <tr style=\"text-align: right;\">\n",
       "      <th></th>\n",
       "      <th>pclass</th>\n",
       "      <th>survived</th>\n",
       "      <th>age</th>\n",
       "      <th>sex</th>\n",
       "    </tr>\n",
       "  </thead>\n",
       "  <tbody>\n",
       "    <tr>\n",
       "      <th>0</th>\n",
       "      <td>1st</td>\n",
       "      <td>1</td>\n",
       "      <td>29.0</td>\n",
       "      <td>female</td>\n",
       "    </tr>\n",
       "    <tr>\n",
       "      <th>1</th>\n",
       "      <td>1st</td>\n",
       "      <td>0</td>\n",
       "      <td>2.0</td>\n",
       "      <td>female</td>\n",
       "    </tr>\n",
       "    <tr>\n",
       "      <th>3</th>\n",
       "      <td>1st</td>\n",
       "      <td>0</td>\n",
       "      <td>25.0</td>\n",
       "      <td>female</td>\n",
       "    </tr>\n",
       "    <tr>\n",
       "      <th>6</th>\n",
       "      <td>1st</td>\n",
       "      <td>1</td>\n",
       "      <td>63.0</td>\n",
       "      <td>female</td>\n",
       "    </tr>\n",
       "    <tr>\n",
       "      <th>8</th>\n",
       "      <td>1st</td>\n",
       "      <td>1</td>\n",
       "      <td>58.0</td>\n",
       "      <td>female</td>\n",
       "    </tr>\n",
       "    <tr>\n",
       "      <th>11</th>\n",
       "      <td>1st</td>\n",
       "      <td>1</td>\n",
       "      <td>19.0</td>\n",
       "      <td>female</td>\n",
       "    </tr>\n",
       "    <tr>\n",
       "      <th>12</th>\n",
       "      <td>1st</td>\n",
       "      <td>1</td>\n",
       "      <td>NaN</td>\n",
       "      <td>female</td>\n",
       "    </tr>\n",
       "    <tr>\n",
       "      <th>15</th>\n",
       "      <td>1st</td>\n",
       "      <td>1</td>\n",
       "      <td>50.0</td>\n",
       "      <td>female</td>\n",
       "    </tr>\n",
       "    <tr>\n",
       "      <th>19</th>\n",
       "      <td>1st</td>\n",
       "      <td>1</td>\n",
       "      <td>NaN</td>\n",
       "      <td>female</td>\n",
       "    </tr>\n",
       "    <tr>\n",
       "      <th>23</th>\n",
       "      <td>1st</td>\n",
       "      <td>1</td>\n",
       "      <td>19.0</td>\n",
       "      <td>female</td>\n",
       "    </tr>\n",
       "    <tr>\n",
       "      <th>27</th>\n",
       "      <td>1st</td>\n",
       "      <td>1</td>\n",
       "      <td>30.0</td>\n",
       "      <td>female</td>\n",
       "    </tr>\n",
       "    <tr>\n",
       "      <th>28</th>\n",
       "      <td>1st</td>\n",
       "      <td>1</td>\n",
       "      <td>58.0</td>\n",
       "      <td>female</td>\n",
       "    </tr>\n",
       "  </tbody>\n",
       "</table>\n",
       "</div>"
      ],
      "text/plain": [
       "   pclass  survived   age     sex\n",
       "0     1st         1  29.0  female\n",
       "1     1st         0   2.0  female\n",
       "3     1st         0  25.0  female\n",
       "6     1st         1  63.0  female\n",
       "8     1st         1  58.0  female\n",
       "11    1st         1  19.0  female\n",
       "12    1st         1   NaN  female\n",
       "15    1st         1  50.0  female\n",
       "19    1st         1   NaN  female\n",
       "23    1st         1  19.0  female\n",
       "27    1st         1  30.0  female\n",
       "28    1st         1  58.0  female"
      ]
     },
     "execution_count": 10,
     "metadata": {},
     "output_type": "execute_result"
    }
   ],
   "source": [
    "\n",
    "\n",
    "\n",
    "\n",
    "\n",
    "\n",
    "\n",
    "data[data['sex']=='female']"
   ]
  },
  {
   "cell_type": "code",
   "execution_count": 12,
   "id": "dc681ee5-f684-49e2-a830-dddd5df5b5d7",
   "metadata": {
    "colab": {
     "base_uri": "https://localhost:8080/",
     "height": 112
    },
    "executionInfo": {
     "elapsed": 309,
     "status": "ok",
     "timestamp": 1687888167583,
     "user": {
      "displayName": "Shai Tirgulim",
      "userId": "18041892042069420089"
     },
     "user_tz": -180
    },
    "id": "qGYTjfSjljqw",
    "outputId": "c475235c-29ff-4bfe-f72a-b2f73967f313"
   },
   "outputs": [
    {
     "data": {
      "text/html": [
       "<div>\n",
       "<style scoped>\n",
       "    .dataframe tbody tr th:only-of-type {\n",
       "        vertical-align: middle;\n",
       "    }\n",
       "\n",
       "    .dataframe tbody tr th {\n",
       "        vertical-align: top;\n",
       "    }\n",
       "\n",
       "    .dataframe thead th {\n",
       "        text-align: right;\n",
       "    }\n",
       "</style>\n",
       "<table border=\"1\" class=\"dataframe\">\n",
       "  <thead>\n",
       "    <tr style=\"text-align: right;\">\n",
       "      <th></th>\n",
       "      <th>pclass</th>\n",
       "      <th>survived</th>\n",
       "      <th>age</th>\n",
       "      <th>sex</th>\n",
       "    </tr>\n",
       "  </thead>\n",
       "  <tbody>\n",
       "    <tr>\n",
       "      <th>1</th>\n",
       "      <td>1st</td>\n",
       "      <td>0</td>\n",
       "      <td>2.0</td>\n",
       "      <td>female</td>\n",
       "    </tr>\n",
       "    <tr>\n",
       "      <th>3</th>\n",
       "      <td>1st</td>\n",
       "      <td>0</td>\n",
       "      <td>25.0</td>\n",
       "      <td>female</td>\n",
       "    </tr>\n",
       "  </tbody>\n",
       "</table>\n",
       "</div>"
      ],
      "text/plain": [
       "  pclass  survived   age     sex\n",
       "1    1st         0   2.0  female\n",
       "3    1st         0  25.0  female"
      ]
     },
     "execution_count": 12,
     "metadata": {},
     "output_type": "execute_result"
    }
   ],
   "source": [
    "data1to3 = data[1:4]\n",
    "data1to3\n",
    "data1to3[[True,False,True]]"
   ]
  },
  {
   "cell_type": "markdown",
   "id": "51270477-4e7b-4cfc-ba86-bd3220091ff3",
   "metadata": {
    "id": "erPVilLW6eZP"
   },
   "source": [
    "### Note that the boolean vectoer must have the same length of data\n",
    "* For example, this will not work"
   ]
  },
  {
   "cell_type": "code",
   "execution_count": 36,
   "id": "6b385d9a-d11c-4038-b61d-ae95f47d3905",
   "metadata": {
    "colab": {
     "base_uri": "https://localhost:8080/",
     "height": 331
    },
    "executionInfo": {
     "elapsed": 313,
     "status": "error",
     "timestamp": 1687888203944,
     "user": {
      "displayName": "Shai Tirgulim",
      "userId": "18041892042069420089"
     },
     "user_tz": -180
    },
    "id": "3t9GUtpc6p-m",
    "outputId": "552ea908-5148-4175-fbae-305545f7c3a1"
   },
   "outputs": [
    {
     "ename": "ValueError",
     "evalue": "Item wrong length 2 instead of 3.",
     "output_type": "error",
     "traceback": [
      "\u001b[1;31m---------------------------------------------------------------------------\u001b[0m",
      "\u001b[1;31mValueError\u001b[0m                                Traceback (most recent call last)",
      "Input \u001b[1;32mIn [36]\u001b[0m, in \u001b[0;36m<cell line: 1>\u001b[1;34m()\u001b[0m\n\u001b[1;32m----> 1\u001b[0m \u001b[43mdata1to3\u001b[49m\u001b[43m[\u001b[49m\u001b[43m[\u001b[49m\u001b[38;5;28;43;01mTrue\u001b[39;49;00m\u001b[43m,\u001b[49m\u001b[38;5;28;43;01mFalse\u001b[39;49;00m\u001b[43m]\u001b[49m\u001b[43m]\u001b[49m\n",
      "File \u001b[1;32m~\\AppData\\Local\\Programs\\Python\\Python310\\lib\\site-packages\\pandas\\core\\frame.py:3496\u001b[0m, in \u001b[0;36mDataFrame.__getitem__\u001b[1;34m(self, key)\u001b[0m\n\u001b[0;32m   3494\u001b[0m \u001b[38;5;66;03m# Do we have a (boolean) 1d indexer?\u001b[39;00m\n\u001b[0;32m   3495\u001b[0m \u001b[38;5;28;01mif\u001b[39;00m com\u001b[38;5;241m.\u001b[39mis_bool_indexer(key):\n\u001b[1;32m-> 3496\u001b[0m     \u001b[38;5;28;01mreturn\u001b[39;00m \u001b[38;5;28;43mself\u001b[39;49m\u001b[38;5;241;43m.\u001b[39;49m\u001b[43m_getitem_bool_array\u001b[49m\u001b[43m(\u001b[49m\u001b[43mkey\u001b[49m\u001b[43m)\u001b[49m\n\u001b[0;32m   3498\u001b[0m \u001b[38;5;66;03m# We are left with two options: a single key, and a collection of keys,\u001b[39;00m\n\u001b[0;32m   3499\u001b[0m \u001b[38;5;66;03m# We interpret tuples as collections only for non-MultiIndex\u001b[39;00m\n\u001b[0;32m   3500\u001b[0m is_single_key \u001b[38;5;241m=\u001b[39m \u001b[38;5;28misinstance\u001b[39m(key, \u001b[38;5;28mtuple\u001b[39m) \u001b[38;5;129;01mor\u001b[39;00m \u001b[38;5;129;01mnot\u001b[39;00m is_list_like(key)\n",
      "File \u001b[1;32m~\\AppData\\Local\\Programs\\Python\\Python310\\lib\\site-packages\\pandas\\core\\frame.py:3543\u001b[0m, in \u001b[0;36mDataFrame._getitem_bool_array\u001b[1;34m(self, key)\u001b[0m\n\u001b[0;32m   3537\u001b[0m     warnings\u001b[38;5;241m.\u001b[39mwarn(\n\u001b[0;32m   3538\u001b[0m         \u001b[38;5;124m\"\u001b[39m\u001b[38;5;124mBoolean Series key will be reindexed to match DataFrame index.\u001b[39m\u001b[38;5;124m\"\u001b[39m,\n\u001b[0;32m   3539\u001b[0m         \u001b[38;5;167;01mUserWarning\u001b[39;00m,\n\u001b[0;32m   3540\u001b[0m         stacklevel\u001b[38;5;241m=\u001b[39mfind_stack_level(),\n\u001b[0;32m   3541\u001b[0m     )\n\u001b[0;32m   3542\u001b[0m \u001b[38;5;28;01melif\u001b[39;00m \u001b[38;5;28mlen\u001b[39m(key) \u001b[38;5;241m!=\u001b[39m \u001b[38;5;28mlen\u001b[39m(\u001b[38;5;28mself\u001b[39m\u001b[38;5;241m.\u001b[39mindex):\n\u001b[1;32m-> 3543\u001b[0m     \u001b[38;5;28;01mraise\u001b[39;00m \u001b[38;5;167;01mValueError\u001b[39;00m(\n\u001b[0;32m   3544\u001b[0m         \u001b[38;5;124mf\u001b[39m\u001b[38;5;124m\"\u001b[39m\u001b[38;5;124mItem wrong length \u001b[39m\u001b[38;5;132;01m{\u001b[39;00m\u001b[38;5;28mlen\u001b[39m(key)\u001b[38;5;132;01m}\u001b[39;00m\u001b[38;5;124m instead of \u001b[39m\u001b[38;5;132;01m{\u001b[39;00m\u001b[38;5;28mlen\u001b[39m(\u001b[38;5;28mself\u001b[39m\u001b[38;5;241m.\u001b[39mindex)\u001b[38;5;132;01m}\u001b[39;00m\u001b[38;5;124m.\u001b[39m\u001b[38;5;124m\"\u001b[39m\n\u001b[0;32m   3545\u001b[0m     )\n\u001b[0;32m   3547\u001b[0m \u001b[38;5;66;03m# check_bool_indexer will throw exception if Series key cannot\u001b[39;00m\n\u001b[0;32m   3548\u001b[0m \u001b[38;5;66;03m# be reindexed to match DataFrame rows\u001b[39;00m\n\u001b[0;32m   3549\u001b[0m key \u001b[38;5;241m=\u001b[39m check_bool_indexer(\u001b[38;5;28mself\u001b[39m\u001b[38;5;241m.\u001b[39mindex, key)\n",
      "\u001b[1;31mValueError\u001b[0m: Item wrong length 2 instead of 3."
     ]
    }
   ],
   "source": [
    "data1to3[[True,False]]"
   ]
  },
  {
   "cell_type": "markdown",
   "id": "33581cb4-2cd0-48a2-b158-4e9dad78775f",
   "metadata": {
    "id": "yg0NT5o964-X"
   },
   "source": [
    "### Suggest how to display just females survivors"
   ]
  },
  {
   "cell_type": "code",
   "execution_count": 13,
   "id": "55beafd7-efa0-4c59-a3c2-6fc3fcec8d5f",
   "metadata": {
    "colab": {
     "base_uri": "https://localhost:8080/",
     "height": 363
    },
    "executionInfo": {
     "elapsed": 317,
     "status": "ok",
     "timestamp": 1687888242339,
     "user": {
      "displayName": "Shai Tirgulim",
      "userId": "18041892042069420089"
     },
     "user_tz": -180
    },
    "id": "UlNR4QI9oK_5",
    "outputId": "08464817-7adc-4e72-8adf-b5695f390772"
   },
   "outputs": [
    {
     "data": {
      "text/html": [
       "<div>\n",
       "<style scoped>\n",
       "    .dataframe tbody tr th:only-of-type {\n",
       "        vertical-align: middle;\n",
       "    }\n",
       "\n",
       "    .dataframe tbody tr th {\n",
       "        vertical-align: top;\n",
       "    }\n",
       "\n",
       "    .dataframe thead th {\n",
       "        text-align: right;\n",
       "    }\n",
       "</style>\n",
       "<table border=\"1\" class=\"dataframe\">\n",
       "  <thead>\n",
       "    <tr style=\"text-align: right;\">\n",
       "      <th></th>\n",
       "      <th>pclass</th>\n",
       "      <th>survived</th>\n",
       "      <th>age</th>\n",
       "      <th>sex</th>\n",
       "    </tr>\n",
       "  </thead>\n",
       "  <tbody>\n",
       "    <tr>\n",
       "      <th>0</th>\n",
       "      <td>1st</td>\n",
       "      <td>1</td>\n",
       "      <td>29.0</td>\n",
       "      <td>female</td>\n",
       "    </tr>\n",
       "    <tr>\n",
       "      <th>6</th>\n",
       "      <td>1st</td>\n",
       "      <td>1</td>\n",
       "      <td>63.0</td>\n",
       "      <td>female</td>\n",
       "    </tr>\n",
       "    <tr>\n",
       "      <th>8</th>\n",
       "      <td>1st</td>\n",
       "      <td>1</td>\n",
       "      <td>58.0</td>\n",
       "      <td>female</td>\n",
       "    </tr>\n",
       "    <tr>\n",
       "      <th>11</th>\n",
       "      <td>1st</td>\n",
       "      <td>1</td>\n",
       "      <td>19.0</td>\n",
       "      <td>female</td>\n",
       "    </tr>\n",
       "    <tr>\n",
       "      <th>12</th>\n",
       "      <td>1st</td>\n",
       "      <td>1</td>\n",
       "      <td>NaN</td>\n",
       "      <td>female</td>\n",
       "    </tr>\n",
       "    <tr>\n",
       "      <th>15</th>\n",
       "      <td>1st</td>\n",
       "      <td>1</td>\n",
       "      <td>50.0</td>\n",
       "      <td>female</td>\n",
       "    </tr>\n",
       "    <tr>\n",
       "      <th>19</th>\n",
       "      <td>1st</td>\n",
       "      <td>1</td>\n",
       "      <td>NaN</td>\n",
       "      <td>female</td>\n",
       "    </tr>\n",
       "    <tr>\n",
       "      <th>23</th>\n",
       "      <td>1st</td>\n",
       "      <td>1</td>\n",
       "      <td>19.0</td>\n",
       "      <td>female</td>\n",
       "    </tr>\n",
       "    <tr>\n",
       "      <th>27</th>\n",
       "      <td>1st</td>\n",
       "      <td>1</td>\n",
       "      <td>30.0</td>\n",
       "      <td>female</td>\n",
       "    </tr>\n",
       "    <tr>\n",
       "      <th>28</th>\n",
       "      <td>1st</td>\n",
       "      <td>1</td>\n",
       "      <td>58.0</td>\n",
       "      <td>female</td>\n",
       "    </tr>\n",
       "  </tbody>\n",
       "</table>\n",
       "</div>"
      ],
      "text/plain": [
       "   pclass  survived   age     sex\n",
       "0     1st         1  29.0  female\n",
       "6     1st         1  63.0  female\n",
       "8     1st         1  58.0  female\n",
       "11    1st         1  19.0  female\n",
       "12    1st         1   NaN  female\n",
       "15    1st         1  50.0  female\n",
       "19    1st         1   NaN  female\n",
       "23    1st         1  19.0  female\n",
       "27    1st         1  30.0  female\n",
       "28    1st         1  58.0  female"
      ]
     },
     "execution_count": 13,
     "metadata": {},
     "output_type": "execute_result"
    }
   ],
   "source": [
    "\n",
    "\n",
    "\n",
    "\n",
    "\n",
    "\n",
    "\n",
    "\n",
    "\n",
    "data[(data['survived'] == 1) & (data['sex']=='female')]  "
   ]
  },
  {
   "cell_type": "code",
   "execution_count": 13,
   "id": "7ed7903b-9cc0-4ea5-b2dc-1371dae0005a",
   "metadata": {
    "colab": {
     "base_uri": "https://localhost:8080/",
     "height": 990
    },
    "executionInfo": {
     "elapsed": 333,
     "status": "ok",
     "timestamp": 1687888257506,
     "user": {
      "displayName": "Shai Tirgulim",
      "userId": "18041892042069420089"
     },
     "user_tz": -180
    },
    "id": "glifJP5noK_5",
    "outputId": "53b19b38-dc89-4bc2-a670-b76586be5fa4"
   },
   "outputs": [
    {
     "data": {
      "text/html": [
       "<div>\n",
       "<style scoped>\n",
       "    .dataframe tbody tr th:only-of-type {\n",
       "        vertical-align: middle;\n",
       "    }\n",
       "\n",
       "    .dataframe tbody tr th {\n",
       "        vertical-align: top;\n",
       "    }\n",
       "\n",
       "    .dataframe thead th {\n",
       "        text-align: right;\n",
       "    }\n",
       "</style>\n",
       "<table border=\"1\" class=\"dataframe\">\n",
       "  <thead>\n",
       "    <tr style=\"text-align: right;\">\n",
       "      <th></th>\n",
       "      <th>pclass</th>\n",
       "      <th>age</th>\n",
       "    </tr>\n",
       "  </thead>\n",
       "  <tbody>\n",
       "    <tr>\n",
       "      <th>0</th>\n",
       "      <td>1st</td>\n",
       "      <td>29.0000</td>\n",
       "    </tr>\n",
       "    <tr>\n",
       "      <th>1</th>\n",
       "      <td>1st</td>\n",
       "      <td>2.0000</td>\n",
       "    </tr>\n",
       "    <tr>\n",
       "      <th>2</th>\n",
       "      <td>1st</td>\n",
       "      <td>30.0000</td>\n",
       "    </tr>\n",
       "    <tr>\n",
       "      <th>3</th>\n",
       "      <td>1st</td>\n",
       "      <td>25.0000</td>\n",
       "    </tr>\n",
       "    <tr>\n",
       "      <th>4</th>\n",
       "      <td>1st</td>\n",
       "      <td>0.9167</td>\n",
       "    </tr>\n",
       "    <tr>\n",
       "      <th>5</th>\n",
       "      <td>1st</td>\n",
       "      <td>47.0000</td>\n",
       "    </tr>\n",
       "    <tr>\n",
       "      <th>6</th>\n",
       "      <td>1st</td>\n",
       "      <td>63.0000</td>\n",
       "    </tr>\n",
       "    <tr>\n",
       "      <th>7</th>\n",
       "      <td>1st</td>\n",
       "      <td>39.0000</td>\n",
       "    </tr>\n",
       "    <tr>\n",
       "      <th>8</th>\n",
       "      <td>1st</td>\n",
       "      <td>58.0000</td>\n",
       "    </tr>\n",
       "    <tr>\n",
       "      <th>9</th>\n",
       "      <td>1st</td>\n",
       "      <td>71.0000</td>\n",
       "    </tr>\n",
       "    <tr>\n",
       "      <th>10</th>\n",
       "      <td>1st</td>\n",
       "      <td>47.0000</td>\n",
       "    </tr>\n",
       "    <tr>\n",
       "      <th>11</th>\n",
       "      <td>1st</td>\n",
       "      <td>19.0000</td>\n",
       "    </tr>\n",
       "    <tr>\n",
       "      <th>12</th>\n",
       "      <td>1st</td>\n",
       "      <td>NaN</td>\n",
       "    </tr>\n",
       "    <tr>\n",
       "      <th>13</th>\n",
       "      <td>1st</td>\n",
       "      <td>NaN</td>\n",
       "    </tr>\n",
       "    <tr>\n",
       "      <th>14</th>\n",
       "      <td>1st</td>\n",
       "      <td>NaN</td>\n",
       "    </tr>\n",
       "    <tr>\n",
       "      <th>15</th>\n",
       "      <td>1st</td>\n",
       "      <td>50.0000</td>\n",
       "    </tr>\n",
       "    <tr>\n",
       "      <th>16</th>\n",
       "      <td>1st</td>\n",
       "      <td>24.0000</td>\n",
       "    </tr>\n",
       "    <tr>\n",
       "      <th>17</th>\n",
       "      <td>1st</td>\n",
       "      <td>36.0000</td>\n",
       "    </tr>\n",
       "    <tr>\n",
       "      <th>18</th>\n",
       "      <td>1st</td>\n",
       "      <td>37.0000</td>\n",
       "    </tr>\n",
       "    <tr>\n",
       "      <th>19</th>\n",
       "      <td>1st</td>\n",
       "      <td>NaN</td>\n",
       "    </tr>\n",
       "    <tr>\n",
       "      <th>20</th>\n",
       "      <td>1st</td>\n",
       "      <td>26.0000</td>\n",
       "    </tr>\n",
       "    <tr>\n",
       "      <th>21</th>\n",
       "      <td>1st</td>\n",
       "      <td>25.0000</td>\n",
       "    </tr>\n",
       "    <tr>\n",
       "      <th>22</th>\n",
       "      <td>1st</td>\n",
       "      <td>NaN</td>\n",
       "    </tr>\n",
       "    <tr>\n",
       "      <th>23</th>\n",
       "      <td>1st</td>\n",
       "      <td>19.0000</td>\n",
       "    </tr>\n",
       "    <tr>\n",
       "      <th>24</th>\n",
       "      <td>1st</td>\n",
       "      <td>28.0000</td>\n",
       "    </tr>\n",
       "    <tr>\n",
       "      <th>25</th>\n",
       "      <td>1st</td>\n",
       "      <td>NaN</td>\n",
       "    </tr>\n",
       "    <tr>\n",
       "      <th>26</th>\n",
       "      <td>1st</td>\n",
       "      <td>39.0000</td>\n",
       "    </tr>\n",
       "    <tr>\n",
       "      <th>27</th>\n",
       "      <td>1st</td>\n",
       "      <td>30.0000</td>\n",
       "    </tr>\n",
       "    <tr>\n",
       "      <th>28</th>\n",
       "      <td>1st</td>\n",
       "      <td>58.0000</td>\n",
       "    </tr>\n",
       "    <tr>\n",
       "      <th>29</th>\n",
       "      <td>1st</td>\n",
       "      <td>NaN</td>\n",
       "    </tr>\n",
       "  </tbody>\n",
       "</table>\n",
       "</div>"
      ],
      "text/plain": [
       "   pclass      age\n",
       "0     1st  29.0000\n",
       "1     1st   2.0000\n",
       "2     1st  30.0000\n",
       "3     1st  25.0000\n",
       "4     1st   0.9167\n",
       "5     1st  47.0000\n",
       "6     1st  63.0000\n",
       "7     1st  39.0000\n",
       "8     1st  58.0000\n",
       "9     1st  71.0000\n",
       "10    1st  47.0000\n",
       "11    1st  19.0000\n",
       "12    1st      NaN\n",
       "13    1st      NaN\n",
       "14    1st      NaN\n",
       "15    1st  50.0000\n",
       "16    1st  24.0000\n",
       "17    1st  36.0000\n",
       "18    1st  37.0000\n",
       "19    1st      NaN\n",
       "20    1st  26.0000\n",
       "21    1st  25.0000\n",
       "22    1st      NaN\n",
       "23    1st  19.0000\n",
       "24    1st  28.0000\n",
       "25    1st      NaN\n",
       "26    1st  39.0000\n",
       "27    1st  30.0000\n",
       "28    1st  58.0000\n",
       "29    1st      NaN"
      ]
     },
     "execution_count": 13,
     "metadata": {},
     "output_type": "execute_result"
    }
   ],
   "source": [
    "#### display some of the collumns by a list of collumns\n",
    "data[[ 'pclass','age']]"
   ]
  },
  {
   "cell_type": "code",
   "execution_count": 39,
   "id": "35b9b449-90ed-4db2-934d-375d58e069ad",
   "metadata": {
    "colab": {
     "base_uri": "https://localhost:8080/"
    },
    "executionInfo": {
     "elapsed": 282,
     "status": "ok",
     "timestamp": 1687628889500,
     "user": {
      "displayName": "Shai Tirgulim",
      "userId": "18041892042069420089"
     },
     "user_tz": -180
    },
    "id": "giwMiJqvoK_6",
    "outputId": "4b7860ce-fc2b-457a-cac0-12a742b6e559"
   },
   "outputs": [
    {
     "data": {
      "text/plain": [
       "(30, 4)"
      ]
     },
     "execution_count": 39,
     "metadata": {},
     "output_type": "execute_result"
    }
   ],
   "source": [
    "#### Number of rows and collumns by shape attribute:\n",
    "data.shape"
   ]
  },
  {
   "cell_type": "code",
   "execution_count": 40,
   "id": "e5c49d0c-d5f4-4c3a-b86d-637000201309",
   "metadata": {
    "colab": {
     "base_uri": "https://localhost:8080/"
    },
    "executionInfo": {
     "elapsed": 406,
     "status": "ok",
     "timestamp": 1687285656402,
     "user": {
      "displayName": "Shai Tirgulim",
      "userId": "18041892042069420089"
     },
     "user_tz": -180
    },
    "id": "QQv08GzJoK_6",
    "outputId": "2656fdf0-be8f-4e9f-cdd0-5d54ba9027a7"
   },
   "outputs": [
    {
     "name": "stdout",
     "output_type": "stream",
     "text": [
      "<class 'pandas.core.frame.DataFrame'>\n",
      "RangeIndex: 30 entries, 0 to 29\n",
      "Data columns (total 4 columns):\n",
      " #   Column    Non-Null Count  Dtype  \n",
      "---  ------    --------------  -----  \n",
      " 0   pclass    30 non-null     object \n",
      " 1   survived  30 non-null     int64  \n",
      " 2   age       23 non-null     float64\n",
      " 3   sex       30 non-null     object \n",
      "dtypes: float64(1), int64(1), object(2)\n",
      "memory usage: 1.1+ KB\n"
     ]
    }
   ],
   "source": [
    "#### Get more information such as the column names by info() method\n",
    "data.info()"
   ]
  },
  {
   "cell_type": "markdown",
   "id": "05f116cb-75b1-4577-bb6a-e937ab9961a2",
   "metadata": {},
   "source": [
    "<div style=\"color:white;border-radius:10px; padding-top: 2px; padding-bottom: 0px;\n",
    "            background-color:#03112A;font-size:150%;\n",
    "            letter-spacing:1.0px;color:white; text-align: center;\"><b><b><span style='color:#2ae4f5''> </span></b> loc & iloc</b></p>\n",
    "</div>\n",
    "\n"
   ]
  },
  {
   "cell_type": "markdown",
   "id": "25df54d2-eab7-4138-9ff5-9010fe3233e8",
   "metadata": {},
   "source": [
    "### Here is a fictitious data for practice"
   ]
  },
  {
   "cell_type": "code",
   "execution_count": 14,
   "id": "51b0e662-70f4-4031-8c4a-31993a1ca972",
   "metadata": {},
   "outputs": [
    {
     "data": {
      "text/html": [
       "<div>\n",
       "<style scoped>\n",
       "    .dataframe tbody tr th:only-of-type {\n",
       "        vertical-align: middle;\n",
       "    }\n",
       "\n",
       "    .dataframe tbody tr th {\n",
       "        vertical-align: top;\n",
       "    }\n",
       "\n",
       "    .dataframe thead th {\n",
       "        text-align: right;\n",
       "    }\n",
       "</style>\n",
       "<table border=\"1\" class=\"dataframe\">\n",
       "  <thead>\n",
       "    <tr style=\"text-align: right;\">\n",
       "      <th></th>\n",
       "      <th>Condition</th>\n",
       "      <th>Subject_ID</th>\n",
       "      <th>Trial</th>\n",
       "      <th>Group</th>\n",
       "    </tr>\n",
       "  </thead>\n",
       "  <tbody>\n",
       "    <tr>\n",
       "      <th>0</th>\n",
       "      <td>Affect</td>\n",
       "      <td>1</td>\n",
       "      <td>1</td>\n",
       "      <td>Control</td>\n",
       "    </tr>\n",
       "    <tr>\n",
       "      <th>1</th>\n",
       "      <td>Affect</td>\n",
       "      <td>1</td>\n",
       "      <td>2</td>\n",
       "      <td>Control</td>\n",
       "    </tr>\n",
       "    <tr>\n",
       "      <th>2</th>\n",
       "      <td>Affect</td>\n",
       "      <td>1</td>\n",
       "      <td>3</td>\n",
       "      <td>Control</td>\n",
       "    </tr>\n",
       "    <tr>\n",
       "      <th>3</th>\n",
       "      <td>Affect</td>\n",
       "      <td>1</td>\n",
       "      <td>4</td>\n",
       "      <td>Control</td>\n",
       "    </tr>\n",
       "    <tr>\n",
       "      <th>4</th>\n",
       "      <td>Affect</td>\n",
       "      <td>1</td>\n",
       "      <td>5</td>\n",
       "      <td>Control</td>\n",
       "    </tr>\n",
       "    <tr>\n",
       "      <th>5</th>\n",
       "      <td>Affect</td>\n",
       "      <td>1</td>\n",
       "      <td>6</td>\n",
       "      <td>Control</td>\n",
       "    </tr>\n",
       "    <tr>\n",
       "      <th>6</th>\n",
       "      <td>Affect</td>\n",
       "      <td>1</td>\n",
       "      <td>7</td>\n",
       "      <td>Control</td>\n",
       "    </tr>\n",
       "    <tr>\n",
       "      <th>7</th>\n",
       "      <td>Affect</td>\n",
       "      <td>1</td>\n",
       "      <td>8</td>\n",
       "      <td>Control</td>\n",
       "    </tr>\n",
       "    <tr>\n",
       "      <th>8</th>\n",
       "      <td>Affect</td>\n",
       "      <td>1</td>\n",
       "      <td>9</td>\n",
       "      <td>Control</td>\n",
       "    </tr>\n",
       "    <tr>\n",
       "      <th>9</th>\n",
       "      <td>Affect</td>\n",
       "      <td>1</td>\n",
       "      <td>10</td>\n",
       "      <td>Control</td>\n",
       "    </tr>\n",
       "  </tbody>\n",
       "</table>\n",
       "</div>"
      ],
      "text/plain": [
       "  Condition  Subject_ID  Trial    Group\n",
       "0    Affect           1      1  Control\n",
       "1    Affect           1      2  Control\n",
       "2    Affect           1      3  Control\n",
       "3    Affect           1      4  Control\n",
       "4    Affect           1      5  Control\n",
       "5    Affect           1      6  Control\n",
       "6    Affect           1      7  Control\n",
       "7    Affect           1      8  Control\n",
       "8    Affect           1      9  Control\n",
       "9    Affect           1     10  Control"
      ]
     },
     "execution_count": 14,
     "metadata": {},
     "output_type": "execute_result"
    }
   ],
   "source": [
    "import pandas as pd\n",
    "\n",
    "# Create some variables\n",
    "trials = range(1, 21)\n",
    "n_rows = len(trials)\n",
    "subj_id = [1]*n_rows\n",
    "group = ['Control']*n_rows\n",
    "condition = ['Affect']*int((n_rows/2)) + ['Neutral']*int((n_rows/2))\n",
    "\n",
    "# Create a dictionary\n",
    "data = {'Condition':condition, 'Subject_ID':subj_id, \n",
    "        'Trial':trials, 'Group':group}\n",
    "\n",
    "# Create the dataframe\n",
    "df = pd.DataFrame(data)\n",
    "df.head(10)"
   ]
  },
  {
   "cell_type": "markdown",
   "id": "b3270f24-2247-4d3c-9faa-bf7e6cc6b105",
   "metadata": {},
   "source": [
    "#### 1. Select row five to 10 __without__ using loc / iloc\n"
   ]
  },
  {
   "cell_type": "code",
   "execution_count": 37,
   "id": "07c4ebce-bcf1-4f0b-b13e-6131411c912b",
   "metadata": {},
   "outputs": [
    {
     "data": {
      "text/html": [
       "<div>\n",
       "<style scoped>\n",
       "    .dataframe tbody tr th:only-of-type {\n",
       "        vertical-align: middle;\n",
       "    }\n",
       "\n",
       "    .dataframe tbody tr th {\n",
       "        vertical-align: top;\n",
       "    }\n",
       "\n",
       "    .dataframe thead th {\n",
       "        text-align: right;\n",
       "    }\n",
       "</style>\n",
       "<table border=\"1\" class=\"dataframe\">\n",
       "  <thead>\n",
       "    <tr style=\"text-align: right;\">\n",
       "      <th></th>\n",
       "      <th>Condition</th>\n",
       "      <th>Subject_ID</th>\n",
       "      <th>Trial</th>\n",
       "      <th>Group</th>\n",
       "    </tr>\n",
       "  </thead>\n",
       "  <tbody>\n",
       "    <tr>\n",
       "      <th>4</th>\n",
       "      <td>Affect</td>\n",
       "      <td>1</td>\n",
       "      <td>5</td>\n",
       "      <td>Control</td>\n",
       "    </tr>\n",
       "    <tr>\n",
       "      <th>5</th>\n",
       "      <td>Affect</td>\n",
       "      <td>1</td>\n",
       "      <td>6</td>\n",
       "      <td>Control</td>\n",
       "    </tr>\n",
       "    <tr>\n",
       "      <th>6</th>\n",
       "      <td>Affect</td>\n",
       "      <td>1</td>\n",
       "      <td>7</td>\n",
       "      <td>Control</td>\n",
       "    </tr>\n",
       "    <tr>\n",
       "      <th>7</th>\n",
       "      <td>Affect</td>\n",
       "      <td>1</td>\n",
       "      <td>8</td>\n",
       "      <td>Control</td>\n",
       "    </tr>\n",
       "    <tr>\n",
       "      <th>8</th>\n",
       "      <td>Affect</td>\n",
       "      <td>1</td>\n",
       "      <td>9</td>\n",
       "      <td>Control</td>\n",
       "    </tr>\n",
       "    <tr>\n",
       "      <th>9</th>\n",
       "      <td>Affect</td>\n",
       "      <td>1</td>\n",
       "      <td>10</td>\n",
       "      <td>Control</td>\n",
       "    </tr>\n",
       "  </tbody>\n",
       "</table>\n",
       "</div>"
      ],
      "text/plain": [
       "  Condition  Subject_ID  Trial    Group\n",
       "4    Affect           1      5  Control\n",
       "5    Affect           1      6  Control\n",
       "6    Affect           1      7  Control\n",
       "7    Affect           1      8  Control\n",
       "8    Affect           1      9  Control\n",
       "9    Affect           1     10  Control"
      ]
     },
     "execution_count": 37,
     "metadata": {},
     "output_type": "execute_result"
    }
   ],
   "source": [
    "# Select row five to 10 \n",
    "df[4:10:1] "
   ]
  },
  {
   "cell_type": "markdown",
   "id": "6992e902-3058-4840-a869-d861d6435ef5",
   "metadata": {},
   "source": [
    "#### 2. Select row five to 10 by using loc "
   ]
  },
  {
   "cell_type": "code",
   "execution_count": 23,
   "id": "4fccb915-9068-49c6-aaa3-9be4cbfd24e0",
   "metadata": {},
   "outputs": [
    {
     "data": {
      "text/html": [
       "<div>\n",
       "<style scoped>\n",
       "    .dataframe tbody tr th:only-of-type {\n",
       "        vertical-align: middle;\n",
       "    }\n",
       "\n",
       "    .dataframe tbody tr th {\n",
       "        vertical-align: top;\n",
       "    }\n",
       "\n",
       "    .dataframe thead th {\n",
       "        text-align: right;\n",
       "    }\n",
       "</style>\n",
       "<table border=\"1\" class=\"dataframe\">\n",
       "  <thead>\n",
       "    <tr style=\"text-align: right;\">\n",
       "      <th></th>\n",
       "      <th>Condition</th>\n",
       "      <th>Subject_ID</th>\n",
       "      <th>Trial</th>\n",
       "      <th>Group</th>\n",
       "    </tr>\n",
       "  </thead>\n",
       "  <tbody>\n",
       "    <tr>\n",
       "      <th>5</th>\n",
       "      <td>Affect</td>\n",
       "      <td>1</td>\n",
       "      <td>6</td>\n",
       "      <td>Control</td>\n",
       "    </tr>\n",
       "    <tr>\n",
       "      <th>6</th>\n",
       "      <td>Affect</td>\n",
       "      <td>1</td>\n",
       "      <td>7</td>\n",
       "      <td>Control</td>\n",
       "    </tr>\n",
       "    <tr>\n",
       "      <th>7</th>\n",
       "      <td>Affect</td>\n",
       "      <td>1</td>\n",
       "      <td>8</td>\n",
       "      <td>Control</td>\n",
       "    </tr>\n",
       "    <tr>\n",
       "      <th>8</th>\n",
       "      <td>Affect</td>\n",
       "      <td>1</td>\n",
       "      <td>9</td>\n",
       "      <td>Control</td>\n",
       "    </tr>\n",
       "    <tr>\n",
       "      <th>9</th>\n",
       "      <td>Affect</td>\n",
       "      <td>1</td>\n",
       "      <td>10</td>\n",
       "      <td>Control</td>\n",
       "    </tr>\n",
       "    <tr>\n",
       "      <th>10</th>\n",
       "      <td>Neutral</td>\n",
       "      <td>1</td>\n",
       "      <td>11</td>\n",
       "      <td>Control</td>\n",
       "    </tr>\n",
       "  </tbody>\n",
       "</table>\n",
       "</div>"
      ],
      "text/plain": [
       "   Condition  Subject_ID  Trial    Group\n",
       "5     Affect           1      6  Control\n",
       "6     Affect           1      7  Control\n",
       "7     Affect           1      8  Control\n",
       "8     Affect           1      9  Control\n",
       "9     Affect           1     10  Control\n",
       "10   Neutral           1     11  Control"
      ]
     },
     "execution_count": 23,
     "metadata": {},
     "output_type": "execute_result"
    }
   ],
   "source": [
    "df.loc[5:10,:]  # df.loc[rowNum:rowNum , colNum:colNum]"
   ]
  },
  {
   "cell_type": "markdown",
   "id": "df86d183-814c-4059-aa3d-7ddab6a04271",
   "metadata": {},
   "source": [
    "#### 3. Show only the value from row number 0 under the \"Conditions\" column"
   ]
  },
  {
   "cell_type": "code",
   "execution_count": 18,
   "id": "5ea18f40-90f3-4ea0-bf51-d49552c77977",
   "metadata": {},
   "outputs": [
    {
     "data": {
      "text/plain": [
       "'Affect'"
      ]
     },
     "execution_count": 18,
     "metadata": {},
     "output_type": "execute_result"
    }
   ],
   "source": [
    "df.loc[0, 'Condition']"
   ]
  },
  {
   "cell_type": "markdown",
   "id": "15b91bf2-c4d9-4ef3-a7c7-f6de45eadf97",
   "metadata": {},
   "source": [
    "#### 4.1  print only the \"Conditions\" column , show all rows"
   ]
  },
  {
   "cell_type": "raw",
   "id": "399e681c-4dbc-48a2-b421-310571c02e34",
   "metadata": {},
   "source": [
    "df.iloc[:, 0]"
   ]
  },
  {
   "cell_type": "code",
   "execution_count": 23,
   "id": "e46ab6b2-f390-4efa-b333-267adc9884f6",
   "metadata": {},
   "outputs": [
    {
     "data": {
      "text/html": [
       "<div>\n",
       "<style scoped>\n",
       "    .dataframe tbody tr th:only-of-type {\n",
       "        vertical-align: middle;\n",
       "    }\n",
       "\n",
       "    .dataframe tbody tr th {\n",
       "        vertical-align: top;\n",
       "    }\n",
       "\n",
       "    .dataframe thead th {\n",
       "        text-align: right;\n",
       "    }\n",
       "</style>\n",
       "<table border=\"1\" class=\"dataframe\">\n",
       "  <thead>\n",
       "    <tr style=\"text-align: right;\">\n",
       "      <th></th>\n",
       "      <th>Condition</th>\n",
       "    </tr>\n",
       "  </thead>\n",
       "  <tbody>\n",
       "    <tr>\n",
       "      <th>0</th>\n",
       "      <td>Affect</td>\n",
       "    </tr>\n",
       "    <tr>\n",
       "      <th>1</th>\n",
       "      <td>Affect</td>\n",
       "    </tr>\n",
       "    <tr>\n",
       "      <th>2</th>\n",
       "      <td>Affect</td>\n",
       "    </tr>\n",
       "    <tr>\n",
       "      <th>3</th>\n",
       "      <td>Affect</td>\n",
       "    </tr>\n",
       "    <tr>\n",
       "      <th>4</th>\n",
       "      <td>Affect</td>\n",
       "    </tr>\n",
       "    <tr>\n",
       "      <th>5</th>\n",
       "      <td>Affect</td>\n",
       "    </tr>\n",
       "    <tr>\n",
       "      <th>6</th>\n",
       "      <td>Affect</td>\n",
       "    </tr>\n",
       "    <tr>\n",
       "      <th>7</th>\n",
       "      <td>Affect</td>\n",
       "    </tr>\n",
       "    <tr>\n",
       "      <th>8</th>\n",
       "      <td>Affect</td>\n",
       "    </tr>\n",
       "    <tr>\n",
       "      <th>9</th>\n",
       "      <td>Affect</td>\n",
       "    </tr>\n",
       "    <tr>\n",
       "      <th>10</th>\n",
       "      <td>Neutral</td>\n",
       "    </tr>\n",
       "    <tr>\n",
       "      <th>11</th>\n",
       "      <td>Neutral</td>\n",
       "    </tr>\n",
       "    <tr>\n",
       "      <th>12</th>\n",
       "      <td>Neutral</td>\n",
       "    </tr>\n",
       "    <tr>\n",
       "      <th>13</th>\n",
       "      <td>Neutral</td>\n",
       "    </tr>\n",
       "    <tr>\n",
       "      <th>14</th>\n",
       "      <td>Neutral</td>\n",
       "    </tr>\n",
       "    <tr>\n",
       "      <th>15</th>\n",
       "      <td>Neutral</td>\n",
       "    </tr>\n",
       "    <tr>\n",
       "      <th>16</th>\n",
       "      <td>Neutral</td>\n",
       "    </tr>\n",
       "    <tr>\n",
       "      <th>17</th>\n",
       "      <td>Neutral</td>\n",
       "    </tr>\n",
       "    <tr>\n",
       "      <th>18</th>\n",
       "      <td>Neutral</td>\n",
       "    </tr>\n",
       "    <tr>\n",
       "      <th>19</th>\n",
       "      <td>Neutral</td>\n",
       "    </tr>\n",
       "  </tbody>\n",
       "</table>\n",
       "</div>"
      ],
      "text/plain": [
       "   Condition\n",
       "0     Affect\n",
       "1     Affect\n",
       "2     Affect\n",
       "3     Affect\n",
       "4     Affect\n",
       "5     Affect\n",
       "6     Affect\n",
       "7     Affect\n",
       "8     Affect\n",
       "9     Affect\n",
       "10   Neutral\n",
       "11   Neutral\n",
       "12   Neutral\n",
       "13   Neutral\n",
       "14   Neutral\n",
       "15   Neutral\n",
       "16   Neutral\n",
       "17   Neutral\n",
       "18   Neutral\n",
       "19   Neutral"
      ]
     },
     "execution_count": 23,
     "metadata": {},
     "output_type": "execute_result"
    }
   ],
   "source": [
    "# Printing out one column\n",
    "df.loc[:, ['Condition']]"
   ]
  },
  {
   "cell_type": "markdown",
   "id": "106f88b3-af49-43fd-a1da-4c1743bd08f5",
   "metadata": {},
   "source": [
    "#### 4.2  print only the \"Conditions\" and 'Group' column , show all rows"
   ]
  },
  {
   "cell_type": "code",
   "execution_count": 28,
   "id": "db9fa03d-20f1-4b69-8365-1457435c3626",
   "metadata": {},
   "outputs": [
    {
     "data": {
      "text/html": [
       "<div>\n",
       "<style scoped>\n",
       "    .dataframe tbody tr th:only-of-type {\n",
       "        vertical-align: middle;\n",
       "    }\n",
       "\n",
       "    .dataframe tbody tr th {\n",
       "        vertical-align: top;\n",
       "    }\n",
       "\n",
       "    .dataframe thead th {\n",
       "        text-align: right;\n",
       "    }\n",
       "</style>\n",
       "<table border=\"1\" class=\"dataframe\">\n",
       "  <thead>\n",
       "    <tr style=\"text-align: right;\">\n",
       "      <th></th>\n",
       "      <th>Condition</th>\n",
       "      <th>Group</th>\n",
       "    </tr>\n",
       "  </thead>\n",
       "  <tbody>\n",
       "    <tr>\n",
       "      <th>0</th>\n",
       "      <td>Affect</td>\n",
       "      <td>Control</td>\n",
       "    </tr>\n",
       "    <tr>\n",
       "      <th>1</th>\n",
       "      <td>Affect</td>\n",
       "      <td>Control</td>\n",
       "    </tr>\n",
       "    <tr>\n",
       "      <th>2</th>\n",
       "      <td>Affect</td>\n",
       "      <td>Control</td>\n",
       "    </tr>\n",
       "    <tr>\n",
       "      <th>3</th>\n",
       "      <td>Affect</td>\n",
       "      <td>Control</td>\n",
       "    </tr>\n",
       "    <tr>\n",
       "      <th>4</th>\n",
       "      <td>Affect</td>\n",
       "      <td>Control</td>\n",
       "    </tr>\n",
       "    <tr>\n",
       "      <th>5</th>\n",
       "      <td>Affect</td>\n",
       "      <td>Control</td>\n",
       "    </tr>\n",
       "    <tr>\n",
       "      <th>6</th>\n",
       "      <td>Affect</td>\n",
       "      <td>Control</td>\n",
       "    </tr>\n",
       "    <tr>\n",
       "      <th>7</th>\n",
       "      <td>Affect</td>\n",
       "      <td>Control</td>\n",
       "    </tr>\n",
       "    <tr>\n",
       "      <th>8</th>\n",
       "      <td>Affect</td>\n",
       "      <td>Control</td>\n",
       "    </tr>\n",
       "    <tr>\n",
       "      <th>9</th>\n",
       "      <td>Affect</td>\n",
       "      <td>Control</td>\n",
       "    </tr>\n",
       "    <tr>\n",
       "      <th>10</th>\n",
       "      <td>Neutral</td>\n",
       "      <td>Control</td>\n",
       "    </tr>\n",
       "    <tr>\n",
       "      <th>11</th>\n",
       "      <td>Neutral</td>\n",
       "      <td>Control</td>\n",
       "    </tr>\n",
       "    <tr>\n",
       "      <th>12</th>\n",
       "      <td>Neutral</td>\n",
       "      <td>Control</td>\n",
       "    </tr>\n",
       "    <tr>\n",
       "      <th>13</th>\n",
       "      <td>Neutral</td>\n",
       "      <td>Control</td>\n",
       "    </tr>\n",
       "    <tr>\n",
       "      <th>14</th>\n",
       "      <td>Neutral</td>\n",
       "      <td>Control</td>\n",
       "    </tr>\n",
       "    <tr>\n",
       "      <th>15</th>\n",
       "      <td>Neutral</td>\n",
       "      <td>Control</td>\n",
       "    </tr>\n",
       "    <tr>\n",
       "      <th>16</th>\n",
       "      <td>Neutral</td>\n",
       "      <td>Control</td>\n",
       "    </tr>\n",
       "    <tr>\n",
       "      <th>17</th>\n",
       "      <td>Neutral</td>\n",
       "      <td>Control</td>\n",
       "    </tr>\n",
       "    <tr>\n",
       "      <th>18</th>\n",
       "      <td>Neutral</td>\n",
       "      <td>Control</td>\n",
       "    </tr>\n",
       "    <tr>\n",
       "      <th>19</th>\n",
       "      <td>Neutral</td>\n",
       "      <td>Control</td>\n",
       "    </tr>\n",
       "  </tbody>\n",
       "</table>\n",
       "</div>"
      ],
      "text/plain": [
       "   Condition    Group\n",
       "0     Affect  Control\n",
       "1     Affect  Control\n",
       "2     Affect  Control\n",
       "3     Affect  Control\n",
       "4     Affect  Control\n",
       "5     Affect  Control\n",
       "6     Affect  Control\n",
       "7     Affect  Control\n",
       "8     Affect  Control\n",
       "9     Affect  Control\n",
       "10   Neutral  Control\n",
       "11   Neutral  Control\n",
       "12   Neutral  Control\n",
       "13   Neutral  Control\n",
       "14   Neutral  Control\n",
       "15   Neutral  Control\n",
       "16   Neutral  Control\n",
       "17   Neutral  Control\n",
       "18   Neutral  Control\n",
       "19   Neutral  Control"
      ]
     },
     "execution_count": 28,
     "metadata": {},
     "output_type": "execute_result"
    }
   ],
   "source": [
    "# Printing out two columns\n",
    "df.loc[:, ['Condition', 'Group']]"
   ]
  },
  {
   "cell_type": "markdown",
   "id": "244cfea8-5c68-403d-9452-63bffc7f81ac",
   "metadata": {},
   "source": [
    "#### 5. Combine your answer from question 2 and question 4.2"
   ]
  },
  {
   "cell_type": "code",
   "execution_count": 8,
   "id": "25fbae0e-4f9c-445c-97cf-1299719835ba",
   "metadata": {},
   "outputs": [
    {
     "data": {
      "text/html": [
       "<div>\n",
       "<style scoped>\n",
       "    .dataframe tbody tr th:only-of-type {\n",
       "        vertical-align: middle;\n",
       "    }\n",
       "\n",
       "    .dataframe tbody tr th {\n",
       "        vertical-align: top;\n",
       "    }\n",
       "\n",
       "    .dataframe thead th {\n",
       "        text-align: right;\n",
       "    }\n",
       "</style>\n",
       "<table border=\"1\" class=\"dataframe\">\n",
       "  <thead>\n",
       "    <tr style=\"text-align: right;\">\n",
       "      <th></th>\n",
       "      <th>Condition</th>\n",
       "      <th>Group</th>\n",
       "    </tr>\n",
       "  </thead>\n",
       "  <tbody>\n",
       "    <tr>\n",
       "      <th>4</th>\n",
       "      <td>Affect</td>\n",
       "      <td>Control</td>\n",
       "    </tr>\n",
       "    <tr>\n",
       "      <th>5</th>\n",
       "      <td>Affect</td>\n",
       "      <td>Control</td>\n",
       "    </tr>\n",
       "    <tr>\n",
       "      <th>6</th>\n",
       "      <td>Affect</td>\n",
       "      <td>Control</td>\n",
       "    </tr>\n",
       "    <tr>\n",
       "      <th>7</th>\n",
       "      <td>Affect</td>\n",
       "      <td>Control</td>\n",
       "    </tr>\n",
       "    <tr>\n",
       "      <th>8</th>\n",
       "      <td>Affect</td>\n",
       "      <td>Control</td>\n",
       "    </tr>\n",
       "    <tr>\n",
       "      <th>9</th>\n",
       "      <td>Affect</td>\n",
       "      <td>Control</td>\n",
       "    </tr>\n",
       "  </tbody>\n",
       "</table>\n",
       "</div>"
      ],
      "text/plain": [
       "  Condition    Group\n",
       "4    Affect  Control\n",
       "5    Affect  Control\n",
       "6    Affect  Control\n",
       "7    Affect  Control\n",
       "8    Affect  Control\n",
       "9    Affect  Control"
      ]
     },
     "execution_count": 8,
     "metadata": {},
     "output_type": "execute_result"
    }
   ],
   "source": [
    "# Printing out from second column\n",
    "df.loc[4:9, ['Condition', 'Group']]"
   ]
  },
  {
   "cell_type": "markdown",
   "id": "1a30379e-07cd-47e9-bc9e-deb0b89c24bd",
   "metadata": {},
   "source": [
    "#### 6. According to the slice you made in question 2: display the columns starting from the  'Subject_ID' column and forward and display again starting from 'Trial' column and forward"
   ]
  },
  {
   "cell_type": "code",
   "execution_count": 24,
   "id": "d64a1a05-659c-4588-ad2c-e49f714c864a",
   "metadata": {},
   "outputs": [
    {
     "data": {
      "text/html": [
       "<div>\n",
       "<style scoped>\n",
       "    .dataframe tbody tr th:only-of-type {\n",
       "        vertical-align: middle;\n",
       "    }\n",
       "\n",
       "    .dataframe tbody tr th {\n",
       "        vertical-align: top;\n",
       "    }\n",
       "\n",
       "    .dataframe thead th {\n",
       "        text-align: right;\n",
       "    }\n",
       "</style>\n",
       "<table border=\"1\" class=\"dataframe\">\n",
       "  <thead>\n",
       "    <tr style=\"text-align: right;\">\n",
       "      <th></th>\n",
       "      <th>Trial</th>\n",
       "      <th>Group</th>\n",
       "    </tr>\n",
       "  </thead>\n",
       "  <tbody>\n",
       "    <tr>\n",
       "      <th>4</th>\n",
       "      <td>5</td>\n",
       "      <td>Control</td>\n",
       "    </tr>\n",
       "    <tr>\n",
       "      <th>5</th>\n",
       "      <td>6</td>\n",
       "      <td>Control</td>\n",
       "    </tr>\n",
       "    <tr>\n",
       "      <th>6</th>\n",
       "      <td>7</td>\n",
       "      <td>Control</td>\n",
       "    </tr>\n",
       "    <tr>\n",
       "      <th>7</th>\n",
       "      <td>8</td>\n",
       "      <td>Control</td>\n",
       "    </tr>\n",
       "    <tr>\n",
       "      <th>8</th>\n",
       "      <td>9</td>\n",
       "      <td>Control</td>\n",
       "    </tr>\n",
       "    <tr>\n",
       "      <th>9</th>\n",
       "      <td>10</td>\n",
       "      <td>Control</td>\n",
       "    </tr>\n",
       "  </tbody>\n",
       "</table>\n",
       "</div>"
      ],
      "text/plain": [
       "   Trial    Group\n",
       "4      5  Control\n",
       "5      6  Control\n",
       "6      7  Control\n",
       "7      8  Control\n",
       "8      9  Control\n",
       "9     10  Control"
      ]
     },
     "execution_count": 24,
     "metadata": {},
     "output_type": "execute_result"
    }
   ],
   "source": [
    "# From column 'Subject_ID' and forward\n",
    "df.loc[4:9, 'Subject_ID':]\n",
    "\n",
    "# From column 'Trial' and forward\n",
    "df.loc[4:9, 'Trial':]"
   ]
  },
  {
   "cell_type": "markdown",
   "id": "fd6b0302-b0cd-4707-a221-ba14064a05a8",
   "metadata": {},
   "source": [
    "#### 7.1 Display the same dataframe as you did in question #1 by using __iloc__"
   ]
  },
  {
   "cell_type": "code",
   "execution_count": 10,
   "id": "b57fa237-216e-4530-a664-1ea6bf6263de",
   "metadata": {},
   "outputs": [
    {
     "data": {
      "text/html": [
       "<div>\n",
       "<style scoped>\n",
       "    .dataframe tbody tr th:only-of-type {\n",
       "        vertical-align: middle;\n",
       "    }\n",
       "\n",
       "    .dataframe tbody tr th {\n",
       "        vertical-align: top;\n",
       "    }\n",
       "\n",
       "    .dataframe thead th {\n",
       "        text-align: right;\n",
       "    }\n",
       "</style>\n",
       "<table border=\"1\" class=\"dataframe\">\n",
       "  <thead>\n",
       "    <tr style=\"text-align: right;\">\n",
       "      <th></th>\n",
       "      <th>Condition</th>\n",
       "      <th>Subject_ID</th>\n",
       "      <th>Trial</th>\n",
       "      <th>Group</th>\n",
       "    </tr>\n",
       "  </thead>\n",
       "  <tbody>\n",
       "    <tr>\n",
       "      <th>4</th>\n",
       "      <td>Affect</td>\n",
       "      <td>1</td>\n",
       "      <td>5</td>\n",
       "      <td>Control</td>\n",
       "    </tr>\n",
       "    <tr>\n",
       "      <th>5</th>\n",
       "      <td>Affect</td>\n",
       "      <td>1</td>\n",
       "      <td>6</td>\n",
       "      <td>Control</td>\n",
       "    </tr>\n",
       "    <tr>\n",
       "      <th>6</th>\n",
       "      <td>Affect</td>\n",
       "      <td>1</td>\n",
       "      <td>7</td>\n",
       "      <td>Control</td>\n",
       "    </tr>\n",
       "    <tr>\n",
       "      <th>7</th>\n",
       "      <td>Affect</td>\n",
       "      <td>1</td>\n",
       "      <td>8</td>\n",
       "      <td>Control</td>\n",
       "    </tr>\n",
       "    <tr>\n",
       "      <th>8</th>\n",
       "      <td>Affect</td>\n",
       "      <td>1</td>\n",
       "      <td>9</td>\n",
       "      <td>Control</td>\n",
       "    </tr>\n",
       "    <tr>\n",
       "      <th>9</th>\n",
       "      <td>Affect</td>\n",
       "      <td>1</td>\n",
       "      <td>10</td>\n",
       "      <td>Control</td>\n",
       "    </tr>\n",
       "  </tbody>\n",
       "</table>\n",
       "</div>"
      ],
      "text/plain": [
       "  Condition  Subject_ID  Trial    Group\n",
       "4    Affect           1      5  Control\n",
       "5    Affect           1      6  Control\n",
       "6    Affect           1      7  Control\n",
       "7    Affect           1      8  Control\n",
       "8    Affect           1      9  Control\n",
       "9    Affect           1     10  Control"
      ]
     },
     "execution_count": 10,
     "metadata": {},
     "output_type": "execute_result"
    }
   ],
   "source": [
    "# Printing out fifth to the twentieth row and all columns\n",
    "# Note the difference!\n",
    "df.iloc[4:10,:]"
   ]
  },
  {
   "cell_type": "markdown",
   "id": "e2339fea-3887-4b73-9be4-ca20ed5b0eb9",
   "metadata": {},
   "source": [
    "#### 7.2 Now show only the first column"
   ]
  },
  {
   "cell_type": "code",
   "execution_count": 11,
   "id": "7d23b4e9-aa29-4d03-a8ff-6fabeb4b6f87",
   "metadata": {},
   "outputs": [
    {
     "data": {
      "text/plain": [
       "4    Affect\n",
       "5    Affect\n",
       "6    Affect\n",
       "7    Affect\n",
       "8    Affect\n",
       "9    Affect\n",
       "Name: Condition, dtype: object"
      ]
     },
     "execution_count": 11,
     "metadata": {},
     "output_type": "execute_result"
    }
   ],
   "source": [
    "df.iloc[4:10, 0]"
   ]
  },
  {
   "cell_type": "markdown",
   "id": "c8301abe-5410-4a6d-82f6-631d4d1656df",
   "metadata": {},
   "source": [
    "#### Display the first and last column by using __iloc__ , show all rows"
   ]
  },
  {
   "cell_type": "code",
   "execution_count": 47,
   "id": "e8dc4b05-d32e-4300-88e8-c207a598c2f1",
   "metadata": {},
   "outputs": [
    {
     "data": {
      "text/html": [
       "<div>\n",
       "<style scoped>\n",
       "    .dataframe tbody tr th:only-of-type {\n",
       "        vertical-align: middle;\n",
       "    }\n",
       "\n",
       "    .dataframe tbody tr th {\n",
       "        vertical-align: top;\n",
       "    }\n",
       "\n",
       "    .dataframe thead th {\n",
       "        text-align: right;\n",
       "    }\n",
       "</style>\n",
       "<table border=\"1\" class=\"dataframe\">\n",
       "  <thead>\n",
       "    <tr style=\"text-align: right;\">\n",
       "      <th></th>\n",
       "      <th>Condition</th>\n",
       "      <th>Group</th>\n",
       "    </tr>\n",
       "  </thead>\n",
       "  <tbody>\n",
       "    <tr>\n",
       "      <th>4</th>\n",
       "      <td>Affect</td>\n",
       "      <td>Control</td>\n",
       "    </tr>\n",
       "    <tr>\n",
       "      <th>5</th>\n",
       "      <td>Affect</td>\n",
       "      <td>Control</td>\n",
       "    </tr>\n",
       "    <tr>\n",
       "      <th>6</th>\n",
       "      <td>Affect</td>\n",
       "      <td>Control</td>\n",
       "    </tr>\n",
       "    <tr>\n",
       "      <th>7</th>\n",
       "      <td>Affect</td>\n",
       "      <td>Control</td>\n",
       "    </tr>\n",
       "    <tr>\n",
       "      <th>8</th>\n",
       "      <td>Affect</td>\n",
       "      <td>Control</td>\n",
       "    </tr>\n",
       "    <tr>\n",
       "      <th>9</th>\n",
       "      <td>Affect</td>\n",
       "      <td>Control</td>\n",
       "    </tr>\n",
       "  </tbody>\n",
       "</table>\n",
       "</div>"
      ],
      "text/plain": [
       "  Condition    Group\n",
       "4    Affect  Control\n",
       "5    Affect  Control\n",
       "6    Affect  Control\n",
       "7    Affect  Control\n",
       "8    Affect  Control\n",
       "9    Affect  Control"
      ]
     },
     "execution_count": 47,
     "metadata": {},
     "output_type": "execute_result"
    }
   ],
   "source": [
    "df.iloc[4:10, [0, 3]]"
   ]
  },
  {
   "cell_type": "markdown",
   "id": "b6adbd61-74c9-42f0-813b-442c839da8ec",
   "metadata": {},
   "source": [
    "#### Show all columns except the first column"
   ]
  },
  {
   "cell_type": "code",
   "execution_count": 13,
   "id": "0c4bd1c8-8fe8-4878-ba1d-6302607fd3c2",
   "metadata": {},
   "outputs": [
    {
     "data": {
      "text/html": [
       "<div>\n",
       "<style scoped>\n",
       "    .dataframe tbody tr th:only-of-type {\n",
       "        vertical-align: middle;\n",
       "    }\n",
       "\n",
       "    .dataframe tbody tr th {\n",
       "        vertical-align: top;\n",
       "    }\n",
       "\n",
       "    .dataframe thead th {\n",
       "        text-align: right;\n",
       "    }\n",
       "</style>\n",
       "<table border=\"1\" class=\"dataframe\">\n",
       "  <thead>\n",
       "    <tr style=\"text-align: right;\">\n",
       "      <th></th>\n",
       "      <th>Subject_ID</th>\n",
       "      <th>Trial</th>\n",
       "      <th>Group</th>\n",
       "    </tr>\n",
       "  </thead>\n",
       "  <tbody>\n",
       "    <tr>\n",
       "      <th>4</th>\n",
       "      <td>1</td>\n",
       "      <td>5</td>\n",
       "      <td>Control</td>\n",
       "    </tr>\n",
       "    <tr>\n",
       "      <th>5</th>\n",
       "      <td>1</td>\n",
       "      <td>6</td>\n",
       "      <td>Control</td>\n",
       "    </tr>\n",
       "    <tr>\n",
       "      <th>6</th>\n",
       "      <td>1</td>\n",
       "      <td>7</td>\n",
       "      <td>Control</td>\n",
       "    </tr>\n",
       "    <tr>\n",
       "      <th>7</th>\n",
       "      <td>1</td>\n",
       "      <td>8</td>\n",
       "      <td>Control</td>\n",
       "    </tr>\n",
       "    <tr>\n",
       "      <th>8</th>\n",
       "      <td>1</td>\n",
       "      <td>9</td>\n",
       "      <td>Control</td>\n",
       "    </tr>\n",
       "    <tr>\n",
       "      <th>9</th>\n",
       "      <td>1</td>\n",
       "      <td>10</td>\n",
       "      <td>Control</td>\n",
       "    </tr>\n",
       "  </tbody>\n",
       "</table>\n",
       "</div>"
      ],
      "text/plain": [
       "   Subject_ID  Trial    Group\n",
       "4           1      5  Control\n",
       "5           1      6  Control\n",
       "6           1      7  Control\n",
       "7           1      8  Control\n",
       "8           1      9  Control\n",
       "9           1     10  Control"
      ]
     },
     "execution_count": 13,
     "metadata": {},
     "output_type": "execute_result"
    }
   ],
   "source": [
    "df.iloc[4:10, 1:]"
   ]
  },
  {
   "cell_type": "markdown",
   "id": "b2e1c4b7-2229-4cc8-9204-c623b4da5801",
   "metadata": {},
   "source": [
    "#### According to the following line of code - what do you think will be displayed in the output?"
   ]
  },
  {
   "cell_type": "raw",
   "id": "3b02d765-84e8-49f7-91af-2d89dd5469ef",
   "metadata": {},
   "source": [
    "# change this line from Raw to Code\n",
    "df.iloc[4:10, ['Condition']]"
   ]
  },
  {
   "cell_type": "markdown",
   "id": "446148ce-99e4-45f9-95ae-a55ddb4a52dc",
   "metadata": {
    "editable": true,
    "slideshow": {
     "slide_type": ""
    },
    "tags": []
   },
   "source": [
    "### [▲](#up)\n",
    "---"
   ]
  },
  {
   "cell_type": "markdown",
   "id": "c9bc64ec-343e-4fa7-a9db-c526c518229a",
   "metadata": {},
   "source": [
    "<div style=\"color:white;border-radius:10px; padding-top: 2px; padding-bottom: 0px;\n",
    "            background-color:#03112A;font-size:150%;\n",
    "            letter-spacing:1.0px;color:white; text-align: center;\"><b><b><span style='color:#2ae4f5''> </span></b> conditional selection </b></p>\n",
    "</div>\n",
    "\n"
   ]
  },
  {
   "cell_type": "markdown",
   "id": "81934737-e96f-48fa-b3fc-d71ca64ceb92",
   "metadata": {},
   "source": [
    "\n",
    "#### Summary of the functions in unit 2:\n",
    "\n",
    "\n",
    ">* `.index.values` - the row indexes of this part of the dataframes\n",
    ">* `.str.contains` - selects rows and columns that contain a string\n",
    ">* `.max` - maximum value\n",
    ">* `.mean` - average value\n",
    ">* `.count` - the number of rows that contain a value\n",
    ">* `len()` - dataframe length"
   ]
  },
  {
   "cell_type": "code",
   "execution_count": 25,
   "id": "2126dc7d-466f-4317-98e2-dd0507d32dea",
   "metadata": {},
   "outputs": [],
   "source": [
    "url = 'https://raw.githubusercontent.com/Razelbaz1/exercises-package/master/data/titanic.csv'\n",
    "titanic_df = pd.read_csv(url, encoding= 'latin1')"
   ]
  },
  {
   "cell_type": "raw",
   "id": "5b953f42-536f-4014-955d-a2e05194e991",
   "metadata": {},
   "source": [
    "titanic_df = pd.read_csv('titanic.csv',encoding='latin1')\n",
    "titanic_df.head(5)"
   ]
  },
  {
   "cell_type": "code",
   "execution_count": 26,
   "id": "25c9ae05-dfc9-4617-9d41-4d97736277b2",
   "metadata": {},
   "outputs": [
    {
     "data": {
      "text/plain": [
       "Index(['row.names', 'pclass', 'survived', 'name', 'age', 'embarked',\n",
       "       'home.dest', 'room', 'ticket', 'boat', 'sex'],\n",
       "      dtype='object')"
      ]
     },
     "execution_count": 26,
     "metadata": {},
     "output_type": "execute_result"
    }
   ],
   "source": [
    "titanic_df.columns"
   ]
  },
  {
   "cell_type": "markdown",
   "id": "f0616225-1665-4c9e-b374-745c32577ccb",
   "metadata": {},
   "source": [
    "#### 1. Display a table so that you see all the passengers who belong to the third class\n",
    "##### For your convenience, the list of columns is given"
   ]
  },
  {
   "cell_type": "code",
   "execution_count": 27,
   "id": "8f17313d-dd1f-4dd2-b260-919250268b52",
   "metadata": {},
   "outputs": [
    {
     "data": {
      "text/html": [
       "<div>\n",
       "<style scoped>\n",
       "    .dataframe tbody tr th:only-of-type {\n",
       "        vertical-align: middle;\n",
       "    }\n",
       "\n",
       "    .dataframe tbody tr th {\n",
       "        vertical-align: top;\n",
       "    }\n",
       "\n",
       "    .dataframe thead th {\n",
       "        text-align: right;\n",
       "    }\n",
       "</style>\n",
       "<table border=\"1\" class=\"dataframe\">\n",
       "  <thead>\n",
       "    <tr style=\"text-align: right;\">\n",
       "      <th></th>\n",
       "      <th>row.names</th>\n",
       "      <th>pclass</th>\n",
       "      <th>survived</th>\n",
       "      <th>name</th>\n",
       "      <th>age</th>\n",
       "      <th>embarked</th>\n",
       "      <th>home.dest</th>\n",
       "      <th>room</th>\n",
       "      <th>ticket</th>\n",
       "      <th>boat</th>\n",
       "      <th>sex</th>\n",
       "    </tr>\n",
       "  </thead>\n",
       "  <tbody>\n",
       "    <tr>\n",
       "      <th>602</th>\n",
       "      <td>603</td>\n",
       "      <td>3rd</td>\n",
       "      <td>0</td>\n",
       "      <td>Abbing, Mr Anthony</td>\n",
       "      <td>42.0</td>\n",
       "      <td>Southampton</td>\n",
       "      <td>NaN</td>\n",
       "      <td>NaN</td>\n",
       "      <td>NaN</td>\n",
       "      <td>NaN</td>\n",
       "      <td>male</td>\n",
       "    </tr>\n",
       "    <tr>\n",
       "      <th>603</th>\n",
       "      <td>604</td>\n",
       "      <td>3rd</td>\n",
       "      <td>0</td>\n",
       "      <td>Abbott, Master Eugene Joseph</td>\n",
       "      <td>13.0</td>\n",
       "      <td>Southampton</td>\n",
       "      <td>East Providence, RI</td>\n",
       "      <td>NaN</td>\n",
       "      <td>NaN</td>\n",
       "      <td>NaN</td>\n",
       "      <td>male</td>\n",
       "    </tr>\n",
       "    <tr>\n",
       "      <th>604</th>\n",
       "      <td>605</td>\n",
       "      <td>3rd</td>\n",
       "      <td>0</td>\n",
       "      <td>Abbott, Mr Rossmore Edward</td>\n",
       "      <td>16.0</td>\n",
       "      <td>Southampton</td>\n",
       "      <td>East Providence, RI</td>\n",
       "      <td>NaN</td>\n",
       "      <td>NaN</td>\n",
       "      <td>-190</td>\n",
       "      <td>male</td>\n",
       "    </tr>\n",
       "    <tr>\n",
       "      <th>605</th>\n",
       "      <td>606</td>\n",
       "      <td>3rd</td>\n",
       "      <td>1</td>\n",
       "      <td>Abbott, Mrs Stanton (Rosa)</td>\n",
       "      <td>35.0</td>\n",
       "      <td>Southampton</td>\n",
       "      <td>East Providence, RI</td>\n",
       "      <td>NaN</td>\n",
       "      <td>NaN</td>\n",
       "      <td>A</td>\n",
       "      <td>female</td>\n",
       "    </tr>\n",
       "    <tr>\n",
       "      <th>606</th>\n",
       "      <td>607</td>\n",
       "      <td>3rd</td>\n",
       "      <td>1</td>\n",
       "      <td>Abelseth, Miss Anna Karen</td>\n",
       "      <td>16.0</td>\n",
       "      <td>Southampton</td>\n",
       "      <td>Norway Los Angeles, CA</td>\n",
       "      <td>NaN</td>\n",
       "      <td>NaN</td>\n",
       "      <td>16</td>\n",
       "      <td>female</td>\n",
       "    </tr>\n",
       "  </tbody>\n",
       "</table>\n",
       "</div>"
      ],
      "text/plain": [
       "     row.names pclass  survived                          name   age  \\\n",
       "602        603    3rd         0            Abbing, Mr Anthony  42.0   \n",
       "603        604    3rd         0  Abbott, Master Eugene Joseph  13.0   \n",
       "604        605    3rd         0    Abbott, Mr Rossmore Edward  16.0   \n",
       "605        606    3rd         1    Abbott, Mrs Stanton (Rosa)  35.0   \n",
       "606        607    3rd         1     Abelseth, Miss Anna Karen  16.0   \n",
       "\n",
       "        embarked               home.dest room ticket  boat     sex  \n",
       "602  Southampton                     NaN  NaN    NaN   NaN    male  \n",
       "603  Southampton     East Providence, RI  NaN    NaN   NaN    male  \n",
       "604  Southampton     East Providence, RI  NaN    NaN  -190    male  \n",
       "605  Southampton     East Providence, RI  NaN    NaN     A  female  \n",
       "606  Southampton  Norway Los Angeles, CA  NaN    NaN    16  female  "
      ]
     },
     "execution_count": 27,
     "metadata": {},
     "output_type": "execute_result"
    }
   ],
   "source": [
    "titanic_df[titanic_df.loc[:,'pclass'] == '3rd' ].head()"
   ]
  },
  {
   "cell_type": "markdown",
   "id": "62b5fe91-fea7-48dd-9dff-3f25a2c0727c",
   "metadata": {},
   "source": [
    "#### 2. Display a table so that you see all the passengers belonging to the third <ins>**or**</ins> second class"
   ]
  },
  {
   "cell_type": "code",
   "execution_count": 15,
   "id": "6ec86afb-1210-491f-b575-1db2775bd979",
   "metadata": {},
   "outputs": [
    {
     "data": {
      "text/html": [
       "<div>\n",
       "<style scoped>\n",
       "    .dataframe tbody tr th:only-of-type {\n",
       "        vertical-align: middle;\n",
       "    }\n",
       "\n",
       "    .dataframe tbody tr th {\n",
       "        vertical-align: top;\n",
       "    }\n",
       "\n",
       "    .dataframe thead th {\n",
       "        text-align: right;\n",
       "    }\n",
       "</style>\n",
       "<table border=\"1\" class=\"dataframe\">\n",
       "  <thead>\n",
       "    <tr style=\"text-align: right;\">\n",
       "      <th></th>\n",
       "      <th>row.names</th>\n",
       "      <th>pclass</th>\n",
       "      <th>survived</th>\n",
       "      <th>name</th>\n",
       "      <th>age</th>\n",
       "      <th>embarked</th>\n",
       "      <th>home.dest</th>\n",
       "      <th>room</th>\n",
       "      <th>ticket</th>\n",
       "      <th>boat</th>\n",
       "      <th>sex</th>\n",
       "    </tr>\n",
       "  </thead>\n",
       "  <tbody>\n",
       "    <tr>\n",
       "      <th>322</th>\n",
       "      <td>323</td>\n",
       "      <td>2nd</td>\n",
       "      <td>0</td>\n",
       "      <td>Abelson, Mr Samuel</td>\n",
       "      <td>30.0</td>\n",
       "      <td>Cherbourg</td>\n",
       "      <td>Russia New York, NY</td>\n",
       "      <td>NaN</td>\n",
       "      <td>NaN</td>\n",
       "      <td>NaN</td>\n",
       "      <td>male</td>\n",
       "    </tr>\n",
       "    <tr>\n",
       "      <th>323</th>\n",
       "      <td>324</td>\n",
       "      <td>2nd</td>\n",
       "      <td>1</td>\n",
       "      <td>Abelson, Mrs Samuel (Anna)</td>\n",
       "      <td>28.0</td>\n",
       "      <td>Cherbourg</td>\n",
       "      <td>Russia New York, NY</td>\n",
       "      <td>NaN</td>\n",
       "      <td>NaN</td>\n",
       "      <td>12</td>\n",
       "      <td>female</td>\n",
       "    </tr>\n",
       "    <tr>\n",
       "      <th>324</th>\n",
       "      <td>325</td>\n",
       "      <td>2nd</td>\n",
       "      <td>0</td>\n",
       "      <td>Andrew, Mr Edgar Samuel</td>\n",
       "      <td>18.0</td>\n",
       "      <td>Southampton</td>\n",
       "      <td>Buenos Aires, Argentina / New Jersey, NJ</td>\n",
       "      <td>NaN</td>\n",
       "      <td>NaN</td>\n",
       "      <td>NaN</td>\n",
       "      <td>male</td>\n",
       "    </tr>\n",
       "    <tr>\n",
       "      <th>325</th>\n",
       "      <td>326</td>\n",
       "      <td>2nd</td>\n",
       "      <td>0</td>\n",
       "      <td>Andrew, Mr Frank</td>\n",
       "      <td>NaN</td>\n",
       "      <td>Southampton</td>\n",
       "      <td>Cornwall, England Houghton, MI</td>\n",
       "      <td>NaN</td>\n",
       "      <td>NaN</td>\n",
       "      <td>NaN</td>\n",
       "      <td>male</td>\n",
       "    </tr>\n",
       "    <tr>\n",
       "      <th>326</th>\n",
       "      <td>327</td>\n",
       "      <td>2nd</td>\n",
       "      <td>0</td>\n",
       "      <td>Angle, Mr William A.</td>\n",
       "      <td>34.0</td>\n",
       "      <td>Southampton</td>\n",
       "      <td>Warwick, England</td>\n",
       "      <td>NaN</td>\n",
       "      <td>NaN</td>\n",
       "      <td>NaN</td>\n",
       "      <td>male</td>\n",
       "    </tr>\n",
       "    <tr>\n",
       "      <th>...</th>\n",
       "      <td>...</td>\n",
       "      <td>...</td>\n",
       "      <td>...</td>\n",
       "      <td>...</td>\n",
       "      <td>...</td>\n",
       "      <td>...</td>\n",
       "      <td>...</td>\n",
       "      <td>...</td>\n",
       "      <td>...</td>\n",
       "      <td>...</td>\n",
       "      <td>...</td>\n",
       "    </tr>\n",
       "    <tr>\n",
       "      <th>1308</th>\n",
       "      <td>1309</td>\n",
       "      <td>3rd</td>\n",
       "      <td>0</td>\n",
       "      <td>Zakarian, Mr Artun</td>\n",
       "      <td>NaN</td>\n",
       "      <td>NaN</td>\n",
       "      <td>NaN</td>\n",
       "      <td>NaN</td>\n",
       "      <td>NaN</td>\n",
       "      <td>NaN</td>\n",
       "      <td>male</td>\n",
       "    </tr>\n",
       "    <tr>\n",
       "      <th>1309</th>\n",
       "      <td>1310</td>\n",
       "      <td>3rd</td>\n",
       "      <td>0</td>\n",
       "      <td>Zakarian, Mr Maprieder</td>\n",
       "      <td>NaN</td>\n",
       "      <td>NaN</td>\n",
       "      <td>NaN</td>\n",
       "      <td>NaN</td>\n",
       "      <td>NaN</td>\n",
       "      <td>NaN</td>\n",
       "      <td>male</td>\n",
       "    </tr>\n",
       "    <tr>\n",
       "      <th>1310</th>\n",
       "      <td>1311</td>\n",
       "      <td>3rd</td>\n",
       "      <td>0</td>\n",
       "      <td>Zenn, Mr Philip</td>\n",
       "      <td>NaN</td>\n",
       "      <td>NaN</td>\n",
       "      <td>NaN</td>\n",
       "      <td>NaN</td>\n",
       "      <td>NaN</td>\n",
       "      <td>NaN</td>\n",
       "      <td>male</td>\n",
       "    </tr>\n",
       "    <tr>\n",
       "      <th>1311</th>\n",
       "      <td>1312</td>\n",
       "      <td>3rd</td>\n",
       "      <td>0</td>\n",
       "      <td>Zievens, Rene</td>\n",
       "      <td>NaN</td>\n",
       "      <td>NaN</td>\n",
       "      <td>NaN</td>\n",
       "      <td>NaN</td>\n",
       "      <td>NaN</td>\n",
       "      <td>NaN</td>\n",
       "      <td>female</td>\n",
       "    </tr>\n",
       "    <tr>\n",
       "      <th>1312</th>\n",
       "      <td>1313</td>\n",
       "      <td>3rd</td>\n",
       "      <td>0</td>\n",
       "      <td>Zimmerman, Leo</td>\n",
       "      <td>NaN</td>\n",
       "      <td>NaN</td>\n",
       "      <td>NaN</td>\n",
       "      <td>NaN</td>\n",
       "      <td>NaN</td>\n",
       "      <td>NaN</td>\n",
       "      <td>male</td>\n",
       "    </tr>\n",
       "  </tbody>\n",
       "</table>\n",
       "<p>991 rows × 11 columns</p>\n",
       "</div>"
      ],
      "text/plain": [
       "      row.names pclass  survived                        name   age  \\\n",
       "322         323    2nd         0          Abelson, Mr Samuel  30.0   \n",
       "323         324    2nd         1  Abelson, Mrs Samuel (Anna)  28.0   \n",
       "324         325    2nd         0     Andrew, Mr Edgar Samuel  18.0   \n",
       "325         326    2nd         0            Andrew, Mr Frank   NaN   \n",
       "326         327    2nd         0        Angle, Mr William A.  34.0   \n",
       "...         ...    ...       ...                         ...   ...   \n",
       "1308       1309    3rd         0          Zakarian, Mr Artun   NaN   \n",
       "1309       1310    3rd         0      Zakarian, Mr Maprieder   NaN   \n",
       "1310       1311    3rd         0             Zenn, Mr Philip   NaN   \n",
       "1311       1312    3rd         0               Zievens, Rene   NaN   \n",
       "1312       1313    3rd         0              Zimmerman, Leo   NaN   \n",
       "\n",
       "         embarked                                 home.dest room ticket boat  \\\n",
       "322     Cherbourg                       Russia New York, NY  NaN    NaN  NaN   \n",
       "323     Cherbourg                       Russia New York, NY  NaN    NaN   12   \n",
       "324   Southampton  Buenos Aires, Argentina / New Jersey, NJ  NaN    NaN  NaN   \n",
       "325   Southampton            Cornwall, England Houghton, MI  NaN    NaN  NaN   \n",
       "326   Southampton                          Warwick, England  NaN    NaN  NaN   \n",
       "...           ...                                       ...  ...    ...  ...   \n",
       "1308          NaN                                       NaN  NaN    NaN  NaN   \n",
       "1309          NaN                                       NaN  NaN    NaN  NaN   \n",
       "1310          NaN                                       NaN  NaN    NaN  NaN   \n",
       "1311          NaN                                       NaN  NaN    NaN  NaN   \n",
       "1312          NaN                                       NaN  NaN    NaN  NaN   \n",
       "\n",
       "         sex  \n",
       "322     male  \n",
       "323   female  \n",
       "324     male  \n",
       "325     male  \n",
       "326     male  \n",
       "...      ...  \n",
       "1308    male  \n",
       "1309    male  \n",
       "1310    male  \n",
       "1311  female  \n",
       "1312    male  \n",
       "\n",
       "[991 rows x 11 columns]"
      ]
     },
     "execution_count": 15,
     "metadata": {},
     "output_type": "execute_result"
    }
   ],
   "source": [
    "titanic_df_two_classes = titanic_df[(titanic_df.pclass == '3rd') | (titanic_df.pclass == '2nd')]\n",
    "titanic_df_two_classes"
   ]
  },
  {
   "cell_type": "markdown",
   "id": "e2ae5850-2e57-4773-982e-c4f2b968350c",
   "metadata": {},
   "source": [
    "#### Suggest a solution in another way"
   ]
  },
  {
   "cell_type": "code",
   "execution_count": 16,
   "id": "705d3c5f-657e-45f0-8d76-bdba7bfcc70f",
   "metadata": {},
   "outputs": [
    {
     "data": {
      "text/html": [
       "<div>\n",
       "<style scoped>\n",
       "    .dataframe tbody tr th:only-of-type {\n",
       "        vertical-align: middle;\n",
       "    }\n",
       "\n",
       "    .dataframe tbody tr th {\n",
       "        vertical-align: top;\n",
       "    }\n",
       "\n",
       "    .dataframe thead th {\n",
       "        text-align: right;\n",
       "    }\n",
       "</style>\n",
       "<table border=\"1\" class=\"dataframe\">\n",
       "  <thead>\n",
       "    <tr style=\"text-align: right;\">\n",
       "      <th></th>\n",
       "      <th>row.names</th>\n",
       "      <th>pclass</th>\n",
       "      <th>survived</th>\n",
       "      <th>name</th>\n",
       "      <th>age</th>\n",
       "      <th>embarked</th>\n",
       "      <th>home.dest</th>\n",
       "      <th>room</th>\n",
       "      <th>ticket</th>\n",
       "      <th>boat</th>\n",
       "      <th>sex</th>\n",
       "    </tr>\n",
       "  </thead>\n",
       "  <tbody>\n",
       "    <tr>\n",
       "      <th>322</th>\n",
       "      <td>323</td>\n",
       "      <td>2nd</td>\n",
       "      <td>0</td>\n",
       "      <td>Abelson, Mr Samuel</td>\n",
       "      <td>30.0</td>\n",
       "      <td>Cherbourg</td>\n",
       "      <td>Russia New York, NY</td>\n",
       "      <td>NaN</td>\n",
       "      <td>NaN</td>\n",
       "      <td>NaN</td>\n",
       "      <td>male</td>\n",
       "    </tr>\n",
       "    <tr>\n",
       "      <th>323</th>\n",
       "      <td>324</td>\n",
       "      <td>2nd</td>\n",
       "      <td>1</td>\n",
       "      <td>Abelson, Mrs Samuel (Anna)</td>\n",
       "      <td>28.0</td>\n",
       "      <td>Cherbourg</td>\n",
       "      <td>Russia New York, NY</td>\n",
       "      <td>NaN</td>\n",
       "      <td>NaN</td>\n",
       "      <td>12</td>\n",
       "      <td>female</td>\n",
       "    </tr>\n",
       "    <tr>\n",
       "      <th>324</th>\n",
       "      <td>325</td>\n",
       "      <td>2nd</td>\n",
       "      <td>0</td>\n",
       "      <td>Andrew, Mr Edgar Samuel</td>\n",
       "      <td>18.0</td>\n",
       "      <td>Southampton</td>\n",
       "      <td>Buenos Aires, Argentina / New Jersey, NJ</td>\n",
       "      <td>NaN</td>\n",
       "      <td>NaN</td>\n",
       "      <td>NaN</td>\n",
       "      <td>male</td>\n",
       "    </tr>\n",
       "    <tr>\n",
       "      <th>325</th>\n",
       "      <td>326</td>\n",
       "      <td>2nd</td>\n",
       "      <td>0</td>\n",
       "      <td>Andrew, Mr Frank</td>\n",
       "      <td>NaN</td>\n",
       "      <td>Southampton</td>\n",
       "      <td>Cornwall, England Houghton, MI</td>\n",
       "      <td>NaN</td>\n",
       "      <td>NaN</td>\n",
       "      <td>NaN</td>\n",
       "      <td>male</td>\n",
       "    </tr>\n",
       "    <tr>\n",
       "      <th>326</th>\n",
       "      <td>327</td>\n",
       "      <td>2nd</td>\n",
       "      <td>0</td>\n",
       "      <td>Angle, Mr William A.</td>\n",
       "      <td>34.0</td>\n",
       "      <td>Southampton</td>\n",
       "      <td>Warwick, England</td>\n",
       "      <td>NaN</td>\n",
       "      <td>NaN</td>\n",
       "      <td>NaN</td>\n",
       "      <td>male</td>\n",
       "    </tr>\n",
       "    <tr>\n",
       "      <th>...</th>\n",
       "      <td>...</td>\n",
       "      <td>...</td>\n",
       "      <td>...</td>\n",
       "      <td>...</td>\n",
       "      <td>...</td>\n",
       "      <td>...</td>\n",
       "      <td>...</td>\n",
       "      <td>...</td>\n",
       "      <td>...</td>\n",
       "      <td>...</td>\n",
       "      <td>...</td>\n",
       "    </tr>\n",
       "    <tr>\n",
       "      <th>1308</th>\n",
       "      <td>1309</td>\n",
       "      <td>3rd</td>\n",
       "      <td>0</td>\n",
       "      <td>Zakarian, Mr Artun</td>\n",
       "      <td>NaN</td>\n",
       "      <td>NaN</td>\n",
       "      <td>NaN</td>\n",
       "      <td>NaN</td>\n",
       "      <td>NaN</td>\n",
       "      <td>NaN</td>\n",
       "      <td>male</td>\n",
       "    </tr>\n",
       "    <tr>\n",
       "      <th>1309</th>\n",
       "      <td>1310</td>\n",
       "      <td>3rd</td>\n",
       "      <td>0</td>\n",
       "      <td>Zakarian, Mr Maprieder</td>\n",
       "      <td>NaN</td>\n",
       "      <td>NaN</td>\n",
       "      <td>NaN</td>\n",
       "      <td>NaN</td>\n",
       "      <td>NaN</td>\n",
       "      <td>NaN</td>\n",
       "      <td>male</td>\n",
       "    </tr>\n",
       "    <tr>\n",
       "      <th>1310</th>\n",
       "      <td>1311</td>\n",
       "      <td>3rd</td>\n",
       "      <td>0</td>\n",
       "      <td>Zenn, Mr Philip</td>\n",
       "      <td>NaN</td>\n",
       "      <td>NaN</td>\n",
       "      <td>NaN</td>\n",
       "      <td>NaN</td>\n",
       "      <td>NaN</td>\n",
       "      <td>NaN</td>\n",
       "      <td>male</td>\n",
       "    </tr>\n",
       "    <tr>\n",
       "      <th>1311</th>\n",
       "      <td>1312</td>\n",
       "      <td>3rd</td>\n",
       "      <td>0</td>\n",
       "      <td>Zievens, Rene</td>\n",
       "      <td>NaN</td>\n",
       "      <td>NaN</td>\n",
       "      <td>NaN</td>\n",
       "      <td>NaN</td>\n",
       "      <td>NaN</td>\n",
       "      <td>NaN</td>\n",
       "      <td>female</td>\n",
       "    </tr>\n",
       "    <tr>\n",
       "      <th>1312</th>\n",
       "      <td>1313</td>\n",
       "      <td>3rd</td>\n",
       "      <td>0</td>\n",
       "      <td>Zimmerman, Leo</td>\n",
       "      <td>NaN</td>\n",
       "      <td>NaN</td>\n",
       "      <td>NaN</td>\n",
       "      <td>NaN</td>\n",
       "      <td>NaN</td>\n",
       "      <td>NaN</td>\n",
       "      <td>male</td>\n",
       "    </tr>\n",
       "  </tbody>\n",
       "</table>\n",
       "<p>991 rows × 11 columns</p>\n",
       "</div>"
      ],
      "text/plain": [
       "      row.names pclass  survived                        name   age  \\\n",
       "322         323    2nd         0          Abelson, Mr Samuel  30.0   \n",
       "323         324    2nd         1  Abelson, Mrs Samuel (Anna)  28.0   \n",
       "324         325    2nd         0     Andrew, Mr Edgar Samuel  18.0   \n",
       "325         326    2nd         0            Andrew, Mr Frank   NaN   \n",
       "326         327    2nd         0        Angle, Mr William A.  34.0   \n",
       "...         ...    ...       ...                         ...   ...   \n",
       "1308       1309    3rd         0          Zakarian, Mr Artun   NaN   \n",
       "1309       1310    3rd         0      Zakarian, Mr Maprieder   NaN   \n",
       "1310       1311    3rd         0             Zenn, Mr Philip   NaN   \n",
       "1311       1312    3rd         0               Zievens, Rene   NaN   \n",
       "1312       1313    3rd         0              Zimmerman, Leo   NaN   \n",
       "\n",
       "         embarked                                 home.dest room ticket boat  \\\n",
       "322     Cherbourg                       Russia New York, NY  NaN    NaN  NaN   \n",
       "323     Cherbourg                       Russia New York, NY  NaN    NaN   12   \n",
       "324   Southampton  Buenos Aires, Argentina / New Jersey, NJ  NaN    NaN  NaN   \n",
       "325   Southampton            Cornwall, England Houghton, MI  NaN    NaN  NaN   \n",
       "326   Southampton                          Warwick, England  NaN    NaN  NaN   \n",
       "...           ...                                       ...  ...    ...  ...   \n",
       "1308          NaN                                       NaN  NaN    NaN  NaN   \n",
       "1309          NaN                                       NaN  NaN    NaN  NaN   \n",
       "1310          NaN                                       NaN  NaN    NaN  NaN   \n",
       "1311          NaN                                       NaN  NaN    NaN  NaN   \n",
       "1312          NaN                                       NaN  NaN    NaN  NaN   \n",
       "\n",
       "         sex  \n",
       "322     male  \n",
       "323   female  \n",
       "324     male  \n",
       "325     male  \n",
       "326     male  \n",
       "...      ...  \n",
       "1308    male  \n",
       "1309    male  \n",
       "1310    male  \n",
       "1311  female  \n",
       "1312    male  \n",
       "\n",
       "[991 rows x 11 columns]"
      ]
     },
     "execution_count": 16,
     "metadata": {},
     "output_type": "execute_result"
    }
   ],
   "source": [
    "titanic_df_two_classes = titanic_df.loc[titanic_df.pclass != '1st']\n",
    "titanic_df_two_classes"
   ]
  },
  {
   "cell_type": "code",
   "execution_count": 56,
   "id": "e1b93d35-3e54-4a8e-9275-120e131b9cf0",
   "metadata": {},
   "outputs": [
    {
     "data": {
      "text/plain": [
       "1313"
      ]
     },
     "execution_count": 56,
     "metadata": {},
     "output_type": "execute_result"
    }
   ],
   "source": [
    "len(titanic_df)"
   ]
  },
  {
   "cell_type": "markdown",
   "id": "72dcc118-baed-4979-b579-cf623281c39b",
   "metadata": {},
   "source": [
    "#### 3. Display the oldest age on the ship, display only one row of that age"
   ]
  },
  {
   "cell_type": "code",
   "execution_count": 18,
   "id": "e34cbc06-62aa-49e1-ba44-8f36b6779c56",
   "metadata": {},
   "outputs": [
    {
     "data": {
      "text/plain": [
       "71.0"
      ]
     },
     "execution_count": 18,
     "metadata": {},
     "output_type": "execute_result"
    }
   ],
   "source": [
    "max_age = titanic_df['age'].max()\n",
    "max_age"
   ]
  },
  {
   "cell_type": "code",
   "execution_count": null,
   "id": "251fdb10-fdba-41d7-86cd-d0dc463724ef",
   "metadata": {},
   "outputs": [],
   "source": []
  },
  {
   "cell_type": "code",
   "execution_count": null,
   "id": "a60a6a77-d906-402d-9bbc-b51a61606853",
   "metadata": {},
   "outputs": [],
   "source": []
  },
  {
   "cell_type": "markdown",
   "id": "b989c7dc-e429-4282-bc43-de76beb3d57e",
   "metadata": {},
   "source": [
    "#### 4. Display the youngest age on the ship, display only one row of that age"
   ]
  },
  {
   "cell_type": "code",
   "execution_count": 19,
   "id": "6d3e21b9-c166-4a0e-8189-b1acf425daaa",
   "metadata": {},
   "outputs": [
    {
     "data": {
      "text/plain": [
       "0.1667"
      ]
     },
     "execution_count": 19,
     "metadata": {},
     "output_type": "execute_result"
    }
   ],
   "source": [
    "min_age = titanic_df['age'].min()\n",
    "min_age"
   ]
  },
  {
   "cell_type": "code",
   "execution_count": null,
   "id": "a207d59a-c084-42bd-8697-27df60e847d8",
   "metadata": {},
   "outputs": [],
   "source": []
  },
  {
   "cell_type": "code",
   "execution_count": null,
   "id": "44ad3f8d-3583-41ea-ba41-53c4c284b1c3",
   "metadata": {},
   "outputs": [],
   "source": []
  },
  {
   "cell_type": "markdown",
   "id": "e7d67fa9-7350-43b3-bf18-e1ea5b41ba72",
   "metadata": {},
   "source": [
    "#### 5. Are there more men than women on the ship? Show the solution by a function learned in class\n",
    "#### Show in 2 different ways"
   ]
  },
  {
   "cell_type": "code",
   "execution_count": 20,
   "id": "2a0cff4d-88df-487a-9185-5d145ed82918",
   "metadata": {},
   "outputs": [
    {
     "data": {
      "text/plain": [
       "True"
      ]
     },
     "execution_count": 20,
     "metadata": {},
     "output_type": "execute_result"
    }
   ],
   "source": [
    "titanic_df_male = titanic_df.loc[titanic_df.sex == 'male']\n",
    "titanic_df_female = titanic_df.loc[titanic_df.sex == 'female']\n",
    "len(titanic_df_female) < len(titanic_df_male)"
   ]
  },
  {
   "cell_type": "code",
   "execution_count": null,
   "id": "152a1a59-e28c-47b8-903c-2663a19b8318",
   "metadata": {},
   "outputs": [],
   "source": []
  },
  {
   "cell_type": "code",
   "execution_count": 21,
   "id": "8b511323-fb74-4cd5-a221-3bd4aea9d371",
   "metadata": {},
   "outputs": [
    {
     "name": "stdout",
     "output_type": "stream",
     "text": [
      "male count on board: 850\n"
     ]
    }
   ],
   "source": [
    "titanic_df_male['sex'].count()\n",
    "\n",
    "print(f\"{titanic_df['sex'].unique()[1]} count on board: {titanic_df_male['sex'].count()}\")"
   ]
  },
  {
   "cell_type": "code",
   "execution_count": 22,
   "id": "2e0fbf4b-5593-40d0-9dd9-073c5660d92a",
   "metadata": {},
   "outputs": [
    {
     "name": "stdout",
     "output_type": "stream",
     "text": [
      "female count on board: 463\n"
     ]
    }
   ],
   "source": [
    "titanic_df_female['sex'].count()\n",
    "\n",
    "print(f\"{titanic_df['sex'].unique()[0]} count on board: {titanic_df_female['sex'].count()}\")"
   ]
  },
  {
   "cell_type": "code",
   "execution_count": null,
   "id": "9f4cbd79-2cb3-4c51-9cf7-8b291c6321fb",
   "metadata": {},
   "outputs": [],
   "source": []
  },
  {
   "cell_type": "markdown",
   "id": "b4e9519e-66c7-40ee-9d7a-ee4b4f5aa22b",
   "metadata": {},
   "source": [
    "#### 6. Note that there is a column that shows who survived the disaster, which gender survived more?"
   ]
  },
  {
   "cell_type": "code",
   "execution_count": 23,
   "id": "b19ebbc0-581d-424e-ae97-f170dbf7ecad",
   "metadata": {},
   "outputs": [
    {
     "data": {
      "text/plain": [
       "142"
      ]
     },
     "execution_count": 23,
     "metadata": {},
     "output_type": "execute_result"
    }
   ],
   "source": [
    "titanic_df_male = titanic_df[(titanic_df.sex == 'male') & (titanic_df.survived == 1)]\n",
    "titanic_df_male['sex'].count()"
   ]
  },
  {
   "cell_type": "code",
   "execution_count": 24,
   "id": "020f1093-ce37-4c11-92fd-75af3cd882cb",
   "metadata": {},
   "outputs": [
    {
     "data": {
      "text/plain": [
       "307"
      ]
     },
     "execution_count": 24,
     "metadata": {},
     "output_type": "execute_result"
    }
   ],
   "source": [
    "titanic_df_female = titanic_df[(titanic_df.sex == 'female') & (titanic_df.survived == 1)]\n",
    "titanic_df_female['sex'].count()"
   ]
  },
  {
   "cell_type": "code",
   "execution_count": null,
   "id": "b9bd7911-5cb6-4cc2-9f4b-fd7e25545f98",
   "metadata": {},
   "outputs": [],
   "source": []
  },
  {
   "cell_type": "markdown",
   "id": "07d03549-9fea-4c75-aa74-34f66aa8b3f5",
   "metadata": {},
   "source": [
    "#### 7. Find the passenger who goes by the name 'Maprieder', did he survive?"
   ]
  },
  {
   "cell_type": "code",
   "execution_count": 25,
   "id": "a7b0de0d-bb43-44b4-8428-bba2bc25d528",
   "metadata": {},
   "outputs": [
    {
     "data": {
      "text/html": [
       "<div>\n",
       "<style scoped>\n",
       "    .dataframe tbody tr th:only-of-type {\n",
       "        vertical-align: middle;\n",
       "    }\n",
       "\n",
       "    .dataframe tbody tr th {\n",
       "        vertical-align: top;\n",
       "    }\n",
       "\n",
       "    .dataframe thead th {\n",
       "        text-align: right;\n",
       "    }\n",
       "</style>\n",
       "<table border=\"1\" class=\"dataframe\">\n",
       "  <thead>\n",
       "    <tr style=\"text-align: right;\">\n",
       "      <th></th>\n",
       "      <th>row.names</th>\n",
       "      <th>pclass</th>\n",
       "      <th>survived</th>\n",
       "      <th>name</th>\n",
       "      <th>age</th>\n",
       "      <th>embarked</th>\n",
       "      <th>home.dest</th>\n",
       "      <th>room</th>\n",
       "      <th>ticket</th>\n",
       "      <th>boat</th>\n",
       "      <th>sex</th>\n",
       "    </tr>\n",
       "  </thead>\n",
       "  <tbody>\n",
       "    <tr>\n",
       "      <th>1309</th>\n",
       "      <td>1310</td>\n",
       "      <td>3rd</td>\n",
       "      <td>0</td>\n",
       "      <td>Zakarian, Mr Maprieder</td>\n",
       "      <td>NaN</td>\n",
       "      <td>NaN</td>\n",
       "      <td>NaN</td>\n",
       "      <td>NaN</td>\n",
       "      <td>NaN</td>\n",
       "      <td>NaN</td>\n",
       "      <td>male</td>\n",
       "    </tr>\n",
       "  </tbody>\n",
       "</table>\n",
       "</div>"
      ],
      "text/plain": [
       "      row.names pclass  survived                    name  age embarked  \\\n",
       "1309       1310    3rd         0  Zakarian, Mr Maprieder  NaN      NaN   \n",
       "\n",
       "     home.dest room ticket boat   sex  \n",
       "1309       NaN  NaN    NaN  NaN  male  "
      ]
     },
     "execution_count": 25,
     "metadata": {},
     "output_type": "execute_result"
    }
   ],
   "source": [
    "titanic_df[titanic_df['name'].str.contains('Maprieder')]                         "
   ]
  },
  {
   "cell_type": "markdown",
   "id": "1f8a6d32-5c80-4d5b-ba27-d34cc985729a",
   "metadata": {},
   "source": [
    "#### 8. Is there only one such name ?"
   ]
  },
  {
   "cell_type": "code",
   "execution_count": 26,
   "id": "10a4672e-4aa2-451f-a99b-1816c663d2a7",
   "metadata": {
    "scrolled": true
   },
   "outputs": [
    {
     "data": {
      "text/plain": [
       "array(['Zakarian, Mr Maprieder'], dtype=object)"
      ]
     },
     "execution_count": 26,
     "metadata": {},
     "output_type": "execute_result"
    }
   ],
   "source": [
    "titanic_df[titanic_df['name'].str.contains('Maprieder')]['name'].unique()    \n"
   ]
  },
  {
   "cell_type": "markdown",
   "id": "ab749096-db57-45ae-9131-92abc06a5c81",
   "metadata": {},
   "source": [
    "<div style=\"color:white;border-radius:10px; padding-top: 2px; padding-bottom: 0px;\n",
    "            background-color:#03112A;font-size:150%;\n",
    "            letter-spacing:1.0px;color:white; text-align: center;\"><b><b><span style='color:#2ae4f5''> </span></b>⭐ NumPy </b></p>\n",
    "</div>\n",
    "\n"
   ]
  },
  {
   "cell_type": "markdown",
   "id": "332a6be9-03e7-4644-b9d2-c896e5af5250",
   "metadata": {},
   "source": [
    "<a id='section2'></a>\n",
    "\n",
    "<h1 style=\"background-color: #FFFFFF; color: #0046d6; border-radius: 10px; text-align: center; padding-top: 10px; padding-bottom: 10px; font-family: 'Arial'\" id=\"introduction\"><img src=\"https://github.com/Razelbaz1/exercises-package/blob/master/pics/Title_numpy.png?raw=true\" width=\"20%\" height=\"20%\" alt=\"Centered Image\" /> <div  </h1>"
   ]
  },
  {
   "cell_type": "markdown",
   "id": "6b8769ee-62c1-40a8-8019-7cab64a04730",
   "metadata": {},
   "source": [
    "<h1 style=\"background-color: #FFFFFF; color: #0046d6; border-radius: 10px; text-align: center; padding-top: 10px; padding-bottom: 10px; font-family: 'Arial'\" id=\"introduction\"><img src=\"https://github.com/Razelbaz1/exercises-package/blob/master/pics/Uses-of-NumPy-1.png?raw=true\" width=\"40%\" height=\"40%\" alt=\"Centered Image\" /> <div  </h1>"
   ]
  },
  {
   "cell_type": "markdown",
   "id": "4adee463-006d-49ae-8949-06eedd223b58",
   "metadata": {},
   "source": [
    "---\n",
    "\n",
    "### Numpy in terms of complexity\n",
    "\n"
   ]
  },
  {
   "cell_type": "code",
   "execution_count": 48,
   "id": "02f726ff-92ea-4dda-b2c2-da34748c390f",
   "metadata": {},
   "outputs": [],
   "source": [
    "import numpy as np\n",
    "import pandas as pd "
   ]
  },
  {
   "cell_type": "code",
   "execution_count": 49,
   "id": "fad2ea26-145c-4122-a83f-763e10cc9973",
   "metadata": {},
   "outputs": [
    {
     "name": "stdout",
     "output_type": "stream",
     "text": [
      "CPU times: total: 641 ms\n",
      "Wall time: 1.04 s\n"
     ]
    }
   ],
   "source": [
    "%%time \n",
    "my_list = list(range(10000000))\n",
    "mult_by_3 = [3 * num for num in my_list]"
   ]
  },
  {
   "cell_type": "code",
   "execution_count": 51,
   "id": "4f197e83-6122-4b0a-976c-8d46b15c3e6f",
   "metadata": {},
   "outputs": [
    {
     "name": "stdout",
     "output_type": "stream",
     "text": [
      "CPU times: total: 15.6 ms\n",
      "Wall time: 38.2 ms\n"
     ]
    }
   ],
   "source": [
    "%%time \n",
    "my_array = np.arange(10000000)\n",
    "mult_by_3 = 3 * my_array\n"
   ]
  },
  {
   "cell_type": "code",
   "execution_count": 52,
   "id": "a7dad05b-79dd-45bc-92eb-f4c453dc79ca",
   "metadata": {},
   "outputs": [
    {
     "data": {
      "text/plain": [
       "3.154761904761905e-05"
      ]
     },
     "execution_count": 52,
     "metadata": {},
     "output_type": "execute_result"
    }
   ],
   "source": [
    "1.06 / 33.6 * 0.001 "
   ]
  },
  {
   "cell_type": "markdown",
   "id": "63476e2c-5c8e-4e06-afbe-0a7e0659153d",
   "metadata": {},
   "source": [
    "### 3x faster using numpy\n",
    "---"
   ]
  },
  {
   "cell_type": "code",
   "execution_count": null,
   "id": "1127b421-03ea-4234-b175-0ae90d2acda5",
   "metadata": {},
   "outputs": [],
   "source": []
  },
  {
   "cell_type": "markdown",
   "id": "19dcf329-2dd2-4768-bd95-cd4de8ffc168",
   "metadata": {},
   "source": [
    "### <b >Vectors with </b> <b style='color:#32B1FF'>Numpy. </b> "
   ]
  },
  {
   "cell_type": "code",
   "execution_count": 30,
   "id": "031b9321-311a-46e1-b153-63a15e61a245",
   "metadata": {},
   "outputs": [
    {
     "name": "stdout",
     "output_type": "stream",
     "text": [
      "[ 1  4  9 16 25]\n"
     ]
    }
   ],
   "source": [
    "arr = np.array([1, 2, 3, 4, 5])\n",
    "# . product\n",
    "print(arr*arr)"
   ]
  },
  {
   "cell_type": "markdown",
   "id": "16dabf93-4a5e-4786-b927-3b69c1b67d15",
   "metadata": {
    "id": "FRUQ5nbe7u3g"
   },
   "source": [
    "#### vector multiplication"
   ]
  },
  {
   "cell_type": "code",
   "execution_count": 31,
   "id": "026f20ee-6bc6-4388-aa58-3476f074d1a5",
   "metadata": {
    "colab": {
     "base_uri": "https://localhost:8080/"
    },
    "executionInfo": {
     "elapsed": 42,
     "status": "ok",
     "timestamp": 1688489653927,
     "user": {
      "displayName": "Shai Tirgulim",
      "userId": "18041892042069420089"
     },
     "user_tz": -180
    },
    "id": "UF2uB8lSqazY",
    "outputId": "ce276068-2797-4bc8-b2f9-e408ac306ac2"
   },
   "outputs": [
    {
     "data": {
      "text/plain": [
       "55"
      ]
     },
     "execution_count": 31,
     "metadata": {},
     "output_type": "execute_result"
    }
   ],
   "source": [
    "\n",
    "arr.dot(arr)\n",
    "# or by\n",
    "arr@arr\n"
   ]
  },
  {
   "cell_type": "markdown",
   "id": "ac0a79ff-65f0-470c-94f0-b179114266f8",
   "metadata": {
    "id": "IXkw4blD70k9"
   },
   "source": [
    "* create ones matrix of specific size:"
   ]
  },
  {
   "cell_type": "code",
   "execution_count": 32,
   "id": "a4291efb-9626-4217-82fe-9333e676c25c",
   "metadata": {
    "colab": {
     "base_uri": "https://localhost:8080/"
    },
    "executionInfo": {
     "elapsed": 42,
     "status": "ok",
     "timestamp": 1688489653928,
     "user": {
      "displayName": "Shai Tirgulim",
      "userId": "18041892042069420089"
     },
     "user_tz": -180
    },
    "id": "H5odPwP5qazZ",
    "outputId": "29d32f99-db33-4fd1-bead-d3d9f85b250b"
   },
   "outputs": [
    {
     "data": {
      "text/plain": [
       "array([[1., 1., 1.],\n",
       "       [1., 1., 1.]])"
      ]
     },
     "execution_count": 32,
     "metadata": {},
     "output_type": "execute_result"
    }
   ],
   "source": [
    "\n",
    "np.ones((2,3))"
   ]
  },
  {
   "cell_type": "markdown",
   "id": "ea565d06-9192-48cc-814f-6dc1a1653995",
   "metadata": {
    "id": "qk7tXPt5qaza"
   },
   "source": [
    "* self excercise: Suggest how to create zeros matrix of specific size:"
   ]
  },
  {
   "cell_type": "code",
   "execution_count": 33,
   "id": "1998f168-57b3-416b-b86a-14af179c8691",
   "metadata": {
    "colab": {
     "base_uri": "https://localhost:8080/"
    },
    "executionInfo": {
     "elapsed": 40,
     "status": "ok",
     "timestamp": 1688489653929,
     "user": {
      "displayName": "Shai Tirgulim",
      "userId": "18041892042069420089"
     },
     "user_tz": -180
    },
    "id": "CQ_CTsirqaza",
    "outputId": "24dcdf91-4940-4021-db47-0c98f08120f8"
   },
   "outputs": [
    {
     "data": {
      "text/plain": [
       "array([[0., 0.],\n",
       "       [0., 0.],\n",
       "       [0., 0.]])"
      ]
     },
     "execution_count": 33,
     "metadata": {},
     "output_type": "execute_result"
    }
   ],
   "source": [
    "np.zeros((3,2))"
   ]
  },
  {
   "cell_type": "markdown",
   "id": "ae5a2eb4-2a4c-4ee2-ab22-3f03719c5470",
   "metadata": {
    "id": "xxsvmLYH766o"
   },
   "source": [
    "* Create any constant array"
   ]
  },
  {
   "cell_type": "code",
   "execution_count": 34,
   "id": "e8353cd4-191f-407d-bd7f-9640030c07c5",
   "metadata": {
    "colab": {
     "base_uri": "https://localhost:8080/"
    },
    "executionInfo": {
     "elapsed": 38,
     "status": "ok",
     "timestamp": 1688489653929,
     "user": {
      "displayName": "Shai Tirgulim",
      "userId": "18041892042069420089"
     },
     "user_tz": -180
    },
    "id": "pVW9kk-Tqazb",
    "outputId": "7a9f2cd1-834b-4ff9-cb20-4c2156c54f9e"
   },
   "outputs": [
    {
     "name": "stdout",
     "output_type": "stream",
     "text": [
      "[[7 7]\n",
      " [7 7]]\n"
     ]
    }
   ],
   "source": [
    "c = np.full((2,2), 7)\n",
    "print(c)"
   ]
  },
  {
   "cell_type": "code",
   "execution_count": 35,
   "id": "7a98161b-03de-4f08-b86a-52973235d2bb",
   "metadata": {
    "colab": {
     "base_uri": "https://localhost:8080/"
    },
    "executionInfo": {
     "elapsed": 36,
     "status": "ok",
     "timestamp": 1688489653929,
     "user": {
      "displayName": "Shai Tirgulim",
      "userId": "18041892042069420089"
     },
     "user_tz": -180
    },
    "id": "9WaVw-1_qazb",
    "outputId": "add6b896-cd6e-490d-ccb3-26577098e36e"
   },
   "outputs": [
    {
     "name": "stdout",
     "output_type": "stream",
     "text": [
      "[[1. 0.]\n",
      " [0. 1.]]\n"
     ]
    }
   ],
   "source": [
    "d = np.eye(2)\n",
    "print(d)"
   ]
  },
  {
   "cell_type": "markdown",
   "id": "4d0c0d3a-c9c6-4799-922b-5c5b968fd330",
   "metadata": {
    "id": "cjnFvCsqqazc"
   },
   "source": [
    "* self excercise: suggest how to create a 3X3 matrix where digonal has value of 8"
   ]
  },
  {
   "cell_type": "code",
   "execution_count": 36,
   "id": "67c28880-4db7-4bb1-a887-f44f91e41d22",
   "metadata": {
    "colab": {
     "base_uri": "https://localhost:8080/"
    },
    "executionInfo": {
     "elapsed": 35,
     "status": "ok",
     "timestamp": 1688489653930,
     "user": {
      "displayName": "Shai Tirgulim",
      "userId": "18041892042069420089"
     },
     "user_tz": -180
    },
    "id": "Y69YiE5Zqazc",
    "outputId": "dafafc41-a284-43b9-f723-e6c6c7a1d5a2"
   },
   "outputs": [
    {
     "data": {
      "text/plain": [
       "array([[8., 0., 0.],\n",
       "       [0., 8., 0.],\n",
       "       [0., 0., 8.]])"
      ]
     },
     "execution_count": 36,
     "metadata": {},
     "output_type": "execute_result"
    }
   ],
   "source": [
    "8*np.eye(3)"
   ]
  },
  {
   "cell_type": "code",
   "execution_count": 37,
   "id": "77842271-3701-4b5b-a6f6-659528434ca2",
   "metadata": {
    "colab": {
     "base_uri": "https://localhost:8080/"
    },
    "executionInfo": {
     "elapsed": 34,
     "status": "ok",
     "timestamp": 1688489653930,
     "user": {
      "displayName": "Shai Tirgulim",
      "userId": "18041892042069420089"
     },
     "user_tz": -180
    },
    "id": "ZvPLpW9vqazc",
    "outputId": "ddfbb5a2-e54a-4868-e3a1-2d2e88ac7415"
   },
   "outputs": [
    {
     "name": "stdout",
     "output_type": "stream",
     "text": [
      "[[0.36667754 0.89271365 0.12418737 0.52210356]\n",
      " [0.15130171 0.20509965 0.74131903 0.39811305]]\n"
     ]
    }
   ],
   "source": [
    "e = np.random.random((2,4))\n",
    "print(e)"
   ]
  },
  {
   "cell_type": "markdown",
   "id": "50ed453f-9916-4223-8429-66baa0a990d7",
   "metadata": {
    "id": "-NuT4Ium8EAO"
   },
   "source": [
    "#### self learning:\n",
    "1. Read Lec3\n",
    "2. Read the tutorials in links\n",
    "3. Write a NumPy program to test whether none of the elements of a given array is zero (create a sample array)."
   ]
  },
  {
   "cell_type": "code",
   "execution_count": 38,
   "id": "44fcda22-8051-4e9e-8445-5269bb821117",
   "metadata": {
    "colab": {
     "base_uri": "https://localhost:8080/"
    },
    "executionInfo": {
     "elapsed": 33,
     "status": "ok",
     "timestamp": 1688489653930,
     "user": {
      "displayName": "Shai Tirgulim",
      "userId": "18041892042069420089"
     },
     "user_tz": -180
    },
    "id": "BVWajHtSqazd",
    "outputId": "ae151fcd-184b-4493-ca8c-fa52e4e482b4"
   },
   "outputs": [
    {
     "name": "stdout",
     "output_type": "stream",
     "text": [
      "Original array:\n",
      "[1 2 3 4]\n",
      "Test if none of the elements of the said array is zero:\n",
      "True\n",
      "Original array:\n",
      "[0 1 2 3]\n",
      "Test if none of the elements of the said array is zero:\n",
      "False\n"
     ]
    }
   ],
   "source": [
    "\n",
    "\n",
    "\n",
    "import numpy as np\n",
    "x = np.array([1, 2, 3, 4])\n",
    "print(\"Original array:\")\n",
    "print(x)\n",
    "print(\"Test if none of the elements of the said array is zero:\")\n",
    "print(np.all(x))\n",
    "x = np.array([0, 1, 2, 3])\n",
    "print(\"Original array:\")\n",
    "print(x)\n",
    "print(\"Test if none of the elements of the said array is zero:\")\n",
    "print(np.all(x))"
   ]
  },
  {
   "cell_type": "markdown",
   "id": "36de9e1c-b180-4d9d-ab31-50eadcb9ecb8",
   "metadata": {},
   "source": [
    "<div style=\"color:white;border-radius:10px; padding-top: 2px; padding-bottom: 0px;\n",
    "            background-color:#03112A;font-size:150%;\n",
    "            letter-spacing:1.0px;color:white; text-align: center;\"><b><b><span style='color:#2ae4f5''> </span></b>⭐ Random </b></p>\n",
    "</div>\n",
    "\n"
   ]
  },
  {
   "cell_type": "code",
   "execution_count": 1,
   "id": "5b8afab5-c485-4c8a-94e9-1b8a23230752",
   "metadata": {},
   "outputs": [],
   "source": [
    "import random # import library"
   ]
  },
  {
   "cell_type": "code",
   "execution_count": 19,
   "id": "f04bb5af-73b4-49d6-9fb1-bb60d31d09f6",
   "metadata": {},
   "outputs": [
    {
     "name": "stdout",
     "output_type": "stream",
     "text": [
      "0.16749674115113278\n"
     ]
    }
   ],
   "source": [
    "# Method 1- using random method\n",
    "num = random.random()\n",
    "print(num)\n",
    "# Result will always between (0,1)"
   ]
  },
  {
   "cell_type": "code",
   "execution_count": 20,
   "id": "012d6c9f-466f-4d9f-a3ad-988f31d10acd",
   "metadata": {},
   "outputs": [
    {
     "name": "stdout",
     "output_type": "stream",
     "text": [
      "18\n"
     ]
    }
   ],
   "source": [
    "# Method 2- using randint method ---> Rand - int ---\n",
    "num = random.randint(10, 20)\n",
    "print(num)"
   ]
  },
  {
   "cell_type": "code",
   "execution_count": 21,
   "id": "402ff9b2-5222-44fc-b55e-15e750ea8d25",
   "metadata": {},
   "outputs": [
    {
     "ename": "ValueError",
     "evalue": "non-integer arg 1 for randrange()",
     "output_type": "error",
     "traceback": [
      "\u001b[1;31m---------------------------------------------------------------------------\u001b[0m",
      "\u001b[1;31mTypeError\u001b[0m                                 Traceback (most recent call last)",
      "File \u001b[1;32m~\\AppData\\Local\\Programs\\Python\\Python310\\lib\\random.py:303\u001b[0m, in \u001b[0;36mRandom.randrange\u001b[1;34m(self, start, stop, step)\u001b[0m\n\u001b[0;32m    302\u001b[0m \u001b[38;5;28;01mtry\u001b[39;00m:\n\u001b[1;32m--> 303\u001b[0m     istart \u001b[38;5;241m=\u001b[39m \u001b[43m_index\u001b[49m\u001b[43m(\u001b[49m\u001b[43mstart\u001b[49m\u001b[43m)\u001b[49m\n\u001b[0;32m    304\u001b[0m \u001b[38;5;28;01mexcept\u001b[39;00m \u001b[38;5;167;01mTypeError\u001b[39;00m:\n",
      "\u001b[1;31mTypeError\u001b[0m: 'float' object cannot be interpreted as an integer",
      "\nDuring handling of the above exception, another exception occurred:\n",
      "\u001b[1;31mValueError\u001b[0m                                Traceback (most recent call last)",
      "Input \u001b[1;32mIn [21]\u001b[0m, in \u001b[0;36m<cell line: 2>\u001b[1;34m()\u001b[0m\n\u001b[0;32m      1\u001b[0m \u001b[38;5;66;03m#Try to compute \u001b[39;00m\n\u001b[1;32m----> 2\u001b[0m num \u001b[38;5;241m=\u001b[39m \u001b[43mrandom\u001b[49m\u001b[38;5;241;43m.\u001b[39;49m\u001b[43mrandint\u001b[49m\u001b[43m(\u001b[49m\u001b[38;5;241;43m10.5\u001b[39;49m\u001b[43m,\u001b[49m\u001b[43m \u001b[49m\u001b[38;5;241;43m10.6\u001b[39;49m\u001b[43m)\u001b[49m\n",
      "File \u001b[1;32m~\\AppData\\Local\\Programs\\Python\\Python310\\lib\\random.py:370\u001b[0m, in \u001b[0;36mRandom.randint\u001b[1;34m(self, a, b)\u001b[0m\n\u001b[0;32m    366\u001b[0m \u001b[38;5;28;01mdef\u001b[39;00m \u001b[38;5;21mrandint\u001b[39m(\u001b[38;5;28mself\u001b[39m, a, b):\n\u001b[0;32m    367\u001b[0m     \u001b[38;5;124;03m\"\"\"Return random integer in range [a, b], including both end points.\u001b[39;00m\n\u001b[0;32m    368\u001b[0m \u001b[38;5;124;03m    \"\"\"\u001b[39;00m\n\u001b[1;32m--> 370\u001b[0m     \u001b[38;5;28;01mreturn\u001b[39;00m \u001b[38;5;28;43mself\u001b[39;49m\u001b[38;5;241;43m.\u001b[39;49m\u001b[43mrandrange\u001b[49m\u001b[43m(\u001b[49m\u001b[43ma\u001b[49m\u001b[43m,\u001b[49m\u001b[43m \u001b[49m\u001b[43mb\u001b[49m\u001b[38;5;241;43m+\u001b[39;49m\u001b[38;5;241;43m1\u001b[39;49m\u001b[43m)\u001b[49m\n",
      "File \u001b[1;32m~\\AppData\\Local\\Programs\\Python\\Python310\\lib\\random.py:309\u001b[0m, in \u001b[0;36mRandom.randrange\u001b[1;34m(self, start, stop, step)\u001b[0m\n\u001b[0;32m    306\u001b[0m     \u001b[38;5;28;01mif\u001b[39;00m istart \u001b[38;5;241m!=\u001b[39m start:\n\u001b[0;32m    307\u001b[0m         _warn(\u001b[38;5;124m'\u001b[39m\u001b[38;5;124mrandrange() will raise TypeError in the future\u001b[39m\u001b[38;5;124m'\u001b[39m,\n\u001b[0;32m    308\u001b[0m               \u001b[38;5;167;01mDeprecationWarning\u001b[39;00m, \u001b[38;5;241m2\u001b[39m)\n\u001b[1;32m--> 309\u001b[0m         \u001b[38;5;28;01mraise\u001b[39;00m \u001b[38;5;167;01mValueError\u001b[39;00m(\u001b[38;5;124m\"\u001b[39m\u001b[38;5;124mnon-integer arg 1 for randrange()\u001b[39m\u001b[38;5;124m\"\u001b[39m)\n\u001b[0;32m    310\u001b[0m     _warn(\u001b[38;5;124m'\u001b[39m\u001b[38;5;124mnon-integer arguments to randrange() have been deprecated \u001b[39m\u001b[38;5;124m'\u001b[39m\n\u001b[0;32m    311\u001b[0m           \u001b[38;5;124m'\u001b[39m\u001b[38;5;124msince Python 3.10 and will be removed in a subsequent \u001b[39m\u001b[38;5;124m'\u001b[39m\n\u001b[0;32m    312\u001b[0m           \u001b[38;5;124m'\u001b[39m\u001b[38;5;124mversion\u001b[39m\u001b[38;5;124m'\u001b[39m,\n\u001b[0;32m    313\u001b[0m           \u001b[38;5;167;01mDeprecationWarning\u001b[39;00m, \u001b[38;5;241m2\u001b[39m)\n\u001b[0;32m    314\u001b[0m \u001b[38;5;28;01mif\u001b[39;00m stop \u001b[38;5;129;01mis\u001b[39;00m \u001b[38;5;28;01mNone\u001b[39;00m:\n\u001b[0;32m    315\u001b[0m     \u001b[38;5;66;03m# We don't check for \"step != 1\" because it hasn't been\u001b[39;00m\n\u001b[0;32m    316\u001b[0m     \u001b[38;5;66;03m# type checked and converted to an integer yet.\u001b[39;00m\n",
      "\u001b[1;31mValueError\u001b[0m: non-integer arg 1 for randrange()"
     ]
    }
   ],
   "source": [
    "#Try to compute \n",
    "num = random.randint(10.5, 10.6) \n",
    "# Why is that ?"
   ]
  },
  {
   "cell_type": "code",
   "execution_count": 22,
   "id": "d8791761-5553-442c-bdf4-e09634cf717e",
   "metadata": {},
   "outputs": [
    {
     "name": "stdout",
     "output_type": "stream",
     "text": [
      "152\n"
     ]
    }
   ],
   "source": [
    "# Method 3- using randrange method\n",
    "\n",
    "num = random.randrange(100,200,2) # (Start,Stop,Step)\n",
    "print(num)"
   ]
  },
  {
   "cell_type": "code",
   "execution_count": 23,
   "id": "2cd6ca89-ba47-46c4-911b-c5784bf1e69c",
   "metadata": {},
   "outputs": [
    {
     "name": "stdout",
     "output_type": "stream",
     "text": [
      "65.37878489014041\n"
     ]
    }
   ],
   "source": [
    "# Method 4- using uniform method\n",
    "\n",
    "num = random.uniform(50,70) # (a,b)  \n",
    "print(num)\n",
    "\n",
    "# The uniform() method returns a random floating number between the two specified numbers\n",
    "# (both included)."
   ]
  },
  {
   "cell_type": "code",
   "execution_count": 24,
   "id": "d1d442af-8b7b-47de-9e71-5a0e8ed48499",
   "metadata": {},
   "outputs": [
    {
     "name": "stdout",
     "output_type": "stream",
     "text": [
      "[178, 162, 212, 185, 152, 219, 223, 196, 163, 239, 204, 203, 191, 232, 210]\n"
     ]
    }
   ],
   "source": [
    "# Method 5- using sample method\n",
    "\n",
    "numList = random.sample(range(150,250), 15)\n",
    "print(numList)\n",
    "\n"
   ]
  },
  {
   "cell_type": "code",
   "execution_count": 25,
   "id": "2ba22ba5-c558-4add-8be1-55ad453ae711",
   "metadata": {},
   "outputs": [
    {
     "name": "stdout",
     "output_type": "stream",
     "text": [
      "[2, 5, 3, 4, 1]\n",
      "4\n"
     ]
    }
   ],
   "source": [
    "# Method 6- using shuffle and choice method\n",
    "\n",
    "numList = [1,2,3,4,5]\n",
    "random.shuffle(numList)\n",
    "print(numList)\n",
    "print(random.choice(numList))"
   ]
  },
  {
   "cell_type": "code",
   "execution_count": 26,
   "id": "6daecce5-8d17-48b0-93b6-b2d390e3b402",
   "metadata": {},
   "outputs": [],
   "source": [
    "# Method 7 - using random.choices is the same as #6 , try yourself !\n",
    "# random.choices()"
   ]
  },
  {
   "cell_type": "code",
   "execution_count": 27,
   "id": "62aff8ae-d91c-4b02-ad39-89fb1d024e40",
   "metadata": {},
   "outputs": [
    {
     "name": "stdout",
     "output_type": "stream",
     "text": [
      "Hi, Your_Name\n"
     ]
    }
   ],
   "source": [
    "# Nice greeting\n",
    "\n",
    "greetings = ['Hello', 'Hi', 'Hey', 'Howdy', 'Hola']\n",
    "value = random.choice(greetings)\n",
    "my_name = 'Your_Name'\n",
    "print(value + ', ' + my_name)"
   ]
  },
  {
   "cell_type": "markdown",
   "id": "38ce677f-443b-4c08-89ed-59a76ac245a7",
   "metadata": {},
   "source": [
    "### Exercise\n",
    "#### Write a coin flip code, with 10 samples"
   ]
  },
  {
   "cell_type": "code",
   "execution_count": 28,
   "id": "f01cac9e-4db6-4d6c-9b03-cc6d893b5926",
   "metadata": {},
   "outputs": [
    {
     "name": "stdout",
     "output_type": "stream",
     "text": [
      "['Tail', 'Tail', 'Tail', 'Tail', 'Head', 'Tail', 'Tail', 'Tail', 'Tail', 'Tail']\n"
     ]
    }
   ],
   "source": [
    "coin = ['Tail', 'Head']\n",
    "value = random.choices(coin, k =10)\n",
    "print(value)"
   ]
  },
  {
   "cell_type": "markdown",
   "id": "f6a75cdd-87d6-433d-8a7c-5e8439086628",
   "metadata": {},
   "source": [
    "#### Write code to flip an unfair coin so that the chance of getting a head is 90 percent"
   ]
  },
  {
   "cell_type": "code",
   "execution_count": 29,
   "id": "3ca96862-2e91-4469-a76c-009bddb0f4c2",
   "metadata": {},
   "outputs": [
    {
     "name": "stdout",
     "output_type": "stream",
     "text": [
      "['Head', 'Head', 'Head', 'Head', 'Head', 'Head', 'Head', 'Head', 'Head', 'Head']\n"
     ]
    }
   ],
   "source": [
    "coin = ['Tail', 'Head']\n",
    "value = random.choices(coin, weights= [1,9], k = 10)\n",
    "print(value)"
   ]
  },
  {
   "cell_type": "code",
   "execution_count": null,
   "id": "7f0f6cf4-ac9f-4ee1-abe8-525698d66de2",
   "metadata": {},
   "outputs": [],
   "source": []
  },
  {
   "cell_type": "code",
   "execution_count": null,
   "id": "9cf3af94-3d81-4b62-8521-aad8c592b7ab",
   "metadata": {},
   "outputs": [],
   "source": []
  }
 ],
 "metadata": {
  "kernelspec": {
   "display_name": "Python 3 (ipykernel)",
   "language": "python",
   "name": "python3"
  },
  "language_info": {
   "codemirror_mode": {
    "name": "ipython",
    "version": 3
   },
   "file_extension": ".py",
   "mimetype": "text/x-python",
   "name": "python",
   "nbconvert_exporter": "python",
   "pygments_lexer": "ipython3",
   "version": "3.13.0"
  }
 },
 "nbformat": 4,
 "nbformat_minor": 5
}
