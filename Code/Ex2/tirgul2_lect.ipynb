{
 "cells": [
  {
   "cell_type": "markdown",
   "id": "0202afb2-269c-4199-a584-418a475f21bc",
   "metadata": {
    "slideshow": {
     "slide_type": "slide"
    }
   },
   "source": [
    "<div style=\"color:white;display:fill;border-radius:8px;\n",
    "            background-color:#03112A;font-size:250%; \n",
    "            letter-spacing:1.0px;background-image: url(https://i.imgur.com/GVd0La1.png)\">\n",
    "    <p style=\"padding: 8px;text-align: center;color:white; border-radius: 20px; padding-top: 20px; padding-bottom: 20px;\"><b><b><span style='color:#2ae4f5''></span></b> Exercise no. 2 </b></p>\n",
    "</div>"
   ]
  },
  {
   "cell_type": "markdown",
   "id": "c2fe5d3f-b955-4c1f-9aef-662ba96d7cb4",
   "metadata": {
    "slideshow": {
     "slide_type": "notes"
    }
   },
   "source": [
    "<b id=\"up\"> </b>  "
   ]
  },
  {
   "cell_type": "markdown",
   "id": "eb90526c-cf22-4f4f-95aa-7fc859cd2349",
   "metadata": {
    "slideshow": {
     "slide_type": "fragment"
    }
   },
   "source": [
    "1. [Pandas](#section1)\n",
    "2. [loc&iloc](#section2)\n",
    "3. [conditional selection](#section3)\n",
    "---"
   ]
  },
  {
   "cell_type": "markdown",
   "id": "ba1484e1-8226-4718-a29d-b9521bd3c4e3",
   "metadata": {
    "slideshow": {
     "slide_type": "slide"
    }
   },
   "source": [
    "<h1 style=\"background-color: #fff4d9; color: #0046d6; border-radius: 10px; text-align: center; padding-top: 10px; padding-bottom: 10px; font-family: 'Arial'\" id=\"introduction\">Quick recap : Functions you have learned so far</h1>"
   ]
  },
  {
   "cell_type": "markdown",
   "id": "b094098e-77e7-4333-87b2-0a125e16afc0",
   "metadata": {
    "slideshow": {
     "slide_type": "subslide"
    }
   },
   "source": [
    "---\n",
    "\n",
    ">\n",
    ">* `pd.read_csv` - Read data from a CSV file into a Pandas `DataFrame` object\n",
    ">\n",
    ">* `info()` - View basic infomation about rows, columns & data types\n",
    ">\n",
    ">* `.columns` - Get the list of column names\n",
    ">\n",
    ">* `.shape` - Get the number of rows & columns as a tuple\n",
    ">\n",
    ">* `.head(), .tail()` -  View the beginning/end of the file\n",
    ">\n",
    ">* `.unique()` - view the unique entries in a series (not a dataframe) object\n",
    ">\n",
    ">* `len` - dataframe length (number of rows)\n",
    ">\n",
    "\n",
    "---"
   ]
  },
  {
   "cell_type": "markdown",
   "id": "0c0408c2-7943-40de-a767-fcffeaa644c0",
   "metadata": {
    "slideshow": {
     "slide_type": "subslide"
    }
   },
   "source": [
    "\n",
    "#### Additional useful functions:\n",
    "\n",
    "\n",
    ">* `.index.values` - the row indexes of this part of the dataframes\n",
    ">* `.str.contains` - selects rows and columns that contain a string\n",
    ">* `.max` - maximum value\n",
    ">* `.mean` - average value\n",
    ">* `.count` - the number of rows that contain a value\n"
   ]
  },
  {
   "cell_type": "markdown",
   "id": "6c127d81-7e2f-4eb5-85f2-aa7639c37352",
   "metadata": {
    "slideshow": {
     "slide_type": "slide"
    }
   },
   "source": [
    "<div style=\"color:white;display:fill;border-radius:8px;\n",
    "            background-color:#03112A;font-size:150%;\n",
    "            letter-spacing:1.0px;background-image: url(https://i.imgur.com/GVd0La1.png)\">\n",
    "    <p style=\"padding: 8px;color:white;\"><b><b><span style='color:#2ae4f5''> |</span></b> Pandas.</b></p>\n",
    "</div>"
   ]
  },
  {
   "cell_type": "markdown",
   "id": "29598235-3c3d-44d5-828a-6c18a89384a6",
   "metadata": {
    "id": "WwI528DF5h2L",
    "slideshow": {
     "slide_type": "fragment"
    }
   },
   "source": [
    "### read file using pandas\n",
    "### pandas is a fast, powerful, flexible and easy to use open source data analysis in python\n",
    "### Here we use it to read a csv file"
   ]
  },
  {
   "cell_type": "code",
   "execution_count": 1,
   "id": "a7cef4df-11ac-4988-be74-5e9a68e05382",
   "metadata": {
    "slideshow": {
     "slide_type": "subslide"
    }
   },
   "outputs": [
    {
     "name": "stdout",
     "output_type": "stream",
     "text": [
      "2.2.3\n"
     ]
    }
   ],
   "source": [
    "import pandas as pd\n",
    "print(pd.__version__)"
   ]
  },
  {
   "cell_type": "markdown",
   "id": "dc5f35b5-8ada-4d9e-a1b2-a7630e96af0c",
   "metadata": {
    "id": "B_iF_eNv5pn_",
    "slideshow": {
     "slide_type": "subslide"
    }
   },
   "source": [
    "* Here we read from a net repository (github)\n",
    "* to read from current folder simply write the filename\n",
    "* guess what is the commmand for the end"
   ]
  },
  {
   "cell_type": "code",
   "execution_count": 4,
   "id": "66517fd4-2b9f-4bd6-9e0b-2bcd8ed8a006",
   "metadata": {
    "slideshow": {
     "slide_type": "fragment"
    }
   },
   "outputs": [],
   "source": [
    "#'https://raw.githubusercontent.com/Razelbaz1/exercises-package/master/data/titanic.csv' # read from net."
   ]
  },
  {
   "cell_type": "code",
   "execution_count": 3,
   "id": "0b2079a8-22b9-450c-84c8-29f6880d3be3",
   "metadata": {
    "colab": {
     "base_uri": "https://localhost:8080/",
     "height": 363
    },
    "executionInfo": {
     "elapsed": 17,
     "status": "ok",
     "timestamp": 1687887691947,
     "user": {
      "displayName": "Shai Tirgulim",
      "userId": "18041892042069420089"
     },
     "user_tz": -180
    },
    "id": "1sXd5ZhxoK_z",
    "outputId": "fac137a5-2305-4929-d300-1a6b1d2cec8c",
    "slideshow": {
     "slide_type": "subslide"
    }
   },
   "outputs": [
    {
     "data": {
      "text/html": [
       "<div>\n",
       "<style scoped>\n",
       "    .dataframe tbody tr th:only-of-type {\n",
       "        vertical-align: middle;\n",
       "    }\n",
       "\n",
       "    .dataframe tbody tr th {\n",
       "        vertical-align: top;\n",
       "    }\n",
       "\n",
       "    .dataframe thead th {\n",
       "        text-align: right;\n",
       "    }\n",
       "</style>\n",
       "<table border=\"1\" class=\"dataframe\">\n",
       "  <thead>\n",
       "    <tr style=\"text-align: right;\">\n",
       "      <th></th>\n",
       "      <th>row.names</th>\n",
       "      <th>pclass</th>\n",
       "      <th>survived</th>\n",
       "      <th>name</th>\n",
       "      <th>age</th>\n",
       "      <th>embarked</th>\n",
       "      <th>home.dest</th>\n",
       "      <th>room</th>\n",
       "      <th>ticket</th>\n",
       "      <th>boat</th>\n",
       "      <th>sex</th>\n",
       "    </tr>\n",
       "  </thead>\n",
       "  <tbody>\n",
       "    <tr>\n",
       "      <th>0</th>\n",
       "      <td>1</td>\n",
       "      <td>1st</td>\n",
       "      <td>1</td>\n",
       "      <td>Allen, Miss Elisabeth Walton</td>\n",
       "      <td>29.0000</td>\n",
       "      <td>Southampton</td>\n",
       "      <td>St Louis, MO</td>\n",
       "      <td>B-5</td>\n",
       "      <td>24160 L221</td>\n",
       "      <td>2</td>\n",
       "      <td>female</td>\n",
       "    </tr>\n",
       "    <tr>\n",
       "      <th>1</th>\n",
       "      <td>2</td>\n",
       "      <td>1st</td>\n",
       "      <td>0</td>\n",
       "      <td>Allison, Miss Helen Loraine</td>\n",
       "      <td>2.0000</td>\n",
       "      <td>Southampton</td>\n",
       "      <td>Montreal, PQ / Chesterville, ON</td>\n",
       "      <td>C26</td>\n",
       "      <td>NaN</td>\n",
       "      <td>NaN</td>\n",
       "      <td>female</td>\n",
       "    </tr>\n",
       "    <tr>\n",
       "      <th>2</th>\n",
       "      <td>3</td>\n",
       "      <td>1st</td>\n",
       "      <td>0</td>\n",
       "      <td>Allison, Mr Hudson Joshua Creighton</td>\n",
       "      <td>30.0000</td>\n",
       "      <td>Southampton</td>\n",
       "      <td>Montreal, PQ / Chesterville, ON</td>\n",
       "      <td>C26</td>\n",
       "      <td>NaN</td>\n",
       "      <td>-135</td>\n",
       "      <td>male</td>\n",
       "    </tr>\n",
       "    <tr>\n",
       "      <th>3</th>\n",
       "      <td>4</td>\n",
       "      <td>1st</td>\n",
       "      <td>0</td>\n",
       "      <td>Allison, Mrs Hudson J.C. (Bessie Waldo Daniels)</td>\n",
       "      <td>25.0000</td>\n",
       "      <td>Southampton</td>\n",
       "      <td>Montreal, PQ / Chesterville, ON</td>\n",
       "      <td>C26</td>\n",
       "      <td>NaN</td>\n",
       "      <td>NaN</td>\n",
       "      <td>female</td>\n",
       "    </tr>\n",
       "    <tr>\n",
       "      <th>4</th>\n",
       "      <td>5</td>\n",
       "      <td>1st</td>\n",
       "      <td>1</td>\n",
       "      <td>Allison, Master Hudson Trevor</td>\n",
       "      <td>0.9167</td>\n",
       "      <td>Southampton</td>\n",
       "      <td>Montreal, PQ / Chesterville, ON</td>\n",
       "      <td>C22</td>\n",
       "      <td>NaN</td>\n",
       "      <td>11</td>\n",
       "      <td>male</td>\n",
       "    </tr>\n",
       "  </tbody>\n",
       "</table>\n",
       "</div>"
      ],
      "text/plain": [
       "   row.names pclass  survived  \\\n",
       "0          1    1st         1   \n",
       "1          2    1st         0   \n",
       "2          3    1st         0   \n",
       "3          4    1st         0   \n",
       "4          5    1st         1   \n",
       "\n",
       "                                              name      age     embarked  \\\n",
       "0                     Allen, Miss Elisabeth Walton  29.0000  Southampton   \n",
       "1                      Allison, Miss Helen Loraine   2.0000  Southampton   \n",
       "2              Allison, Mr Hudson Joshua Creighton  30.0000  Southampton   \n",
       "3  Allison, Mrs Hudson J.C. (Bessie Waldo Daniels)  25.0000  Southampton   \n",
       "4                    Allison, Master Hudson Trevor   0.9167  Southampton   \n",
       "\n",
       "                         home.dest room      ticket  boat     sex  \n",
       "0                     St Louis, MO  B-5  24160 L221     2  female  \n",
       "1  Montreal, PQ / Chesterville, ON  C26         NaN   NaN  female  \n",
       "2  Montreal, PQ / Chesterville, ON  C26         NaN  -135    male  \n",
       "3  Montreal, PQ / Chesterville, ON  C26         NaN   NaN  female  \n",
       "4  Montreal, PQ / Chesterville, ON  C22         NaN    11    male  "
      ]
     },
     "execution_count": 3,
     "metadata": {},
     "output_type": "execute_result"
    }
   ],
   "source": [
    "import pandas as pd\n",
    "#encoding='latin1'\n",
    "url = 'https://raw.githubusercontent.com/Razelbaz1/exercises-package/master/data/titanic.csv' # read from net.\n",
    "name = 'titanic_short.csv'\n",
    "path = 'C:\\\\Users\\\\razel\\\\Desktop\\\\אריאל\\\\data-analytics\\\\‏‏My Lectures Sem B 24\\\\tirgul1\\\\titanic_short.csv'\n",
    "data = pd.read_csv(url,encoding='latin1')\n",
    "data.head(5) # we can set the number of first rows to be displayed.\n"
   ]
  },
  {
   "cell_type": "markdown",
   "id": "98a15e9f",
   "metadata": {
    "slideshow": {
     "slide_type": "slide"
    }
   },
   "source": [
    "#### Quick recap : Functions"
   ]
  },
  {
   "cell_type": "code",
   "execution_count": 5,
   "id": "8a8dc45c-34d8-4cb5-819a-c19e07d17253",
   "metadata": {
    "colab": {
     "base_uri": "https://localhost:8080/"
    },
    "executionInfo": {
     "elapsed": 266,
     "status": "ok",
     "timestamp": 1687628660476,
     "user": {
      "displayName": "Shai Tirgulim",
      "userId": "18041892042069420089"
     },
     "user_tz": -180
    },
    "id": "WpYMQPwsgaYA",
    "outputId": "eeb22acf-cee6-4014-e0c4-e1e26df4b0ef",
    "slideshow": {
     "slide_type": "fragment"
    }
   },
   "outputs": [
    {
     "name": "stdout",
     "output_type": "stream",
     "text": [
      "<class 'pandas.core.frame.DataFrame'>\n",
      "<class 'pandas.core.series.Series'>\n",
      "<class 'pandas.core.frame.DataFrame'>\n"
     ]
    }
   ],
   "source": [
    "print(type(data))\n",
    "print(type(data['name']))\n",
    "print(type(data[['name']]))"
   ]
  },
  {
   "cell_type": "code",
   "execution_count": 6,
   "id": "eccade0b",
   "metadata": {
    "slideshow": {
     "slide_type": "fragment"
    }
   },
   "outputs": [
    {
     "data": {
      "text/plain": [
       "1313"
      ]
     },
     "execution_count": 6,
     "metadata": {},
     "output_type": "execute_result"
    }
   ],
   "source": [
    "len(data)"
   ]
  },
  {
   "cell_type": "code",
   "execution_count": 7,
   "id": "82ca3c4a",
   "metadata": {
    "slideshow": {
     "slide_type": "fragment"
    }
   },
   "outputs": [
    {
     "data": {
      "text/plain": [
       "(1313, 11)"
      ]
     },
     "execution_count": 7,
     "metadata": {},
     "output_type": "execute_result"
    }
   ],
   "source": [
    "data.shape"
   ]
  },
  {
   "cell_type": "code",
   "execution_count": 8,
   "id": "c29f5c8b",
   "metadata": {
    "slideshow": {
     "slide_type": "slide"
    }
   },
   "outputs": [
    {
     "data": {
      "text/plain": [
       "Index(['row.names', 'pclass', 'survived', 'name', 'age', 'embarked',\n",
       "       'home.dest', 'room', 'ticket', 'boat', 'sex'],\n",
       "      dtype='object')"
      ]
     },
     "execution_count": 8,
     "metadata": {},
     "output_type": "execute_result"
    }
   ],
   "source": [
    "data.columns"
   ]
  },
  {
   "cell_type": "code",
   "execution_count": 9,
   "id": "c7d74764",
   "metadata": {
    "slideshow": {
     "slide_type": "fragment"
    }
   },
   "outputs": [
    {
     "data": {
      "text/plain": [
       "array(['1st', '2nd', '3rd'], dtype=object)"
      ]
     },
     "execution_count": 9,
     "metadata": {},
     "output_type": "execute_result"
    }
   ],
   "source": [
    "data['pclass'].unique()"
   ]
  },
  {
   "cell_type": "code",
   "execution_count": 11,
   "id": "6b18973f",
   "metadata": {
    "slideshow": {
     "slide_type": "slide"
    }
   },
   "outputs": [
    {
     "name": "stdout",
     "output_type": "stream",
     "text": [
      "<class 'pandas.core.frame.DataFrame'>\n",
      "RangeIndex: 1313 entries, 0 to 1312\n",
      "Data columns (total 11 columns):\n",
      " #   Column     Non-Null Count  Dtype  \n",
      "---  ------     --------------  -----  \n",
      " 0   row.names  1313 non-null   int64  \n",
      " 1   pclass     1313 non-null   object \n",
      " 2   survived   1313 non-null   int64  \n",
      " 3   name       1313 non-null   object \n",
      " 4   age        633 non-null    float64\n",
      " 5   embarked   821 non-null    object \n",
      " 6   home.dest  754 non-null    object \n",
      " 7   room       77 non-null     object \n",
      " 8   ticket     69 non-null     object \n",
      " 9   boat       347 non-null    object \n",
      " 10  sex        1313 non-null   object \n",
      "dtypes: float64(1), int64(2), object(8)\n",
      "memory usage: 113.0+ KB\n"
     ]
    }
   ],
   "source": [
    "data.info()"
   ]
  },
  {
   "cell_type": "code",
   "execution_count": 89,
   "id": "4dff8bdb",
   "metadata": {
    "slideshow": {
     "slide_type": "slide"
    }
   },
   "outputs": [
    {
     "data": {
      "text/html": [
       "<div>\n",
       "<style scoped>\n",
       "    .dataframe tbody tr th:only-of-type {\n",
       "        vertical-align: middle;\n",
       "    }\n",
       "\n",
       "    .dataframe tbody tr th {\n",
       "        vertical-align: top;\n",
       "    }\n",
       "\n",
       "    .dataframe thead th {\n",
       "        text-align: right;\n",
       "    }\n",
       "</style>\n",
       "<table border=\"1\" class=\"dataframe\">\n",
       "  <thead>\n",
       "    <tr style=\"text-align: right;\">\n",
       "      <th></th>\n",
       "      <th>row.names</th>\n",
       "      <th>survived</th>\n",
       "      <th>age</th>\n",
       "    </tr>\n",
       "  </thead>\n",
       "  <tbody>\n",
       "    <tr>\n",
       "      <th>count</th>\n",
       "      <td>1313.000000</td>\n",
       "      <td>1313.000000</td>\n",
       "      <td>633.000000</td>\n",
       "    </tr>\n",
       "    <tr>\n",
       "      <th>mean</th>\n",
       "      <td>657.000000</td>\n",
       "      <td>0.341965</td>\n",
       "      <td>31.194181</td>\n",
       "    </tr>\n",
       "    <tr>\n",
       "      <th>std</th>\n",
       "      <td>379.174762</td>\n",
       "      <td>0.474549</td>\n",
       "      <td>14.747525</td>\n",
       "    </tr>\n",
       "    <tr>\n",
       "      <th>min</th>\n",
       "      <td>1.000000</td>\n",
       "      <td>0.000000</td>\n",
       "      <td>0.166700</td>\n",
       "    </tr>\n",
       "    <tr>\n",
       "      <th>25%</th>\n",
       "      <td>329.000000</td>\n",
       "      <td>0.000000</td>\n",
       "      <td>21.000000</td>\n",
       "    </tr>\n",
       "    <tr>\n",
       "      <th>50%</th>\n",
       "      <td>657.000000</td>\n",
       "      <td>0.000000</td>\n",
       "      <td>30.000000</td>\n",
       "    </tr>\n",
       "    <tr>\n",
       "      <th>75%</th>\n",
       "      <td>985.000000</td>\n",
       "      <td>1.000000</td>\n",
       "      <td>41.000000</td>\n",
       "    </tr>\n",
       "    <tr>\n",
       "      <th>max</th>\n",
       "      <td>1313.000000</td>\n",
       "      <td>1.000000</td>\n",
       "      <td>71.000000</td>\n",
       "    </tr>\n",
       "  </tbody>\n",
       "</table>\n",
       "</div>"
      ],
      "text/plain": [
       "         row.names     survived         age\n",
       "count  1313.000000  1313.000000  633.000000\n",
       "mean    657.000000     0.341965   31.194181\n",
       "std     379.174762     0.474549   14.747525\n",
       "min       1.000000     0.000000    0.166700\n",
       "25%     329.000000     0.000000   21.000000\n",
       "50%     657.000000     0.000000   30.000000\n",
       "75%     985.000000     1.000000   41.000000\n",
       "max    1313.000000     1.000000   71.000000"
      ]
     },
     "execution_count": 89,
     "metadata": {},
     "output_type": "execute_result"
    }
   ],
   "source": [
    "data.describe()"
   ]
  },
  {
   "cell_type": "code",
   "execution_count": 90,
   "id": "c25d1864",
   "metadata": {
    "slideshow": {
     "slide_type": "slide"
    }
   },
   "outputs": [
    {
     "data": {
      "text/html": [
       "<div>\n",
       "<style scoped>\n",
       "    .dataframe tbody tr th:only-of-type {\n",
       "        vertical-align: middle;\n",
       "    }\n",
       "\n",
       "    .dataframe tbody tr th {\n",
       "        vertical-align: top;\n",
       "    }\n",
       "\n",
       "    .dataframe thead th {\n",
       "        text-align: right;\n",
       "    }\n",
       "</style>\n",
       "<table border=\"1\" class=\"dataframe\">\n",
       "  <thead>\n",
       "    <tr style=\"text-align: right;\">\n",
       "      <th></th>\n",
       "      <th>pclass</th>\n",
       "      <th>name</th>\n",
       "      <th>embarked</th>\n",
       "      <th>home.dest</th>\n",
       "      <th>room</th>\n",
       "      <th>ticket</th>\n",
       "      <th>boat</th>\n",
       "      <th>sex</th>\n",
       "    </tr>\n",
       "  </thead>\n",
       "  <tbody>\n",
       "    <tr>\n",
       "      <th>count</th>\n",
       "      <td>1313</td>\n",
       "      <td>1313</td>\n",
       "      <td>821</td>\n",
       "      <td>754</td>\n",
       "      <td>77</td>\n",
       "      <td>69</td>\n",
       "      <td>347</td>\n",
       "      <td>1313</td>\n",
       "    </tr>\n",
       "    <tr>\n",
       "      <th>unique</th>\n",
       "      <td>3</td>\n",
       "      <td>1310</td>\n",
       "      <td>3</td>\n",
       "      <td>371</td>\n",
       "      <td>53</td>\n",
       "      <td>41</td>\n",
       "      <td>99</td>\n",
       "      <td>2</td>\n",
       "    </tr>\n",
       "    <tr>\n",
       "      <th>top</th>\n",
       "      <td>3rd</td>\n",
       "      <td>Carlsson, Mr Frans Olof</td>\n",
       "      <td>Southampton</td>\n",
       "      <td>New York, NY</td>\n",
       "      <td>F-33</td>\n",
       "      <td>17608 L262 7s 6d</td>\n",
       "      <td>4</td>\n",
       "      <td>male</td>\n",
       "    </tr>\n",
       "    <tr>\n",
       "      <th>freq</th>\n",
       "      <td>711</td>\n",
       "      <td>2</td>\n",
       "      <td>573</td>\n",
       "      <td>65</td>\n",
       "      <td>4</td>\n",
       "      <td>5</td>\n",
       "      <td>27</td>\n",
       "      <td>850</td>\n",
       "    </tr>\n",
       "  </tbody>\n",
       "</table>\n",
       "</div>"
      ],
      "text/plain": [
       "       pclass                     name     embarked     home.dest  room  \\\n",
       "count    1313                     1313          821           754    77   \n",
       "unique      3                     1310            3           371    53   \n",
       "top       3rd  Carlsson, Mr Frans Olof  Southampton  New York, NY  F-33   \n",
       "freq      711                        2          573            65     4   \n",
       "\n",
       "                  ticket boat   sex  \n",
       "count                 69  347  1313  \n",
       "unique                41   99     2  \n",
       "top     17608 L262 7s 6d    4  male  \n",
       "freq                   5   27   850  "
      ]
     },
     "execution_count": 90,
     "metadata": {},
     "output_type": "execute_result"
    }
   ],
   "source": [
    "data.describe(include= 'object')"
   ]
  },
  {
   "cell_type": "code",
   "execution_count": 91,
   "id": "d210f69b",
   "metadata": {
    "slideshow": {
     "slide_type": "fragment"
    }
   },
   "outputs": [
    {
     "data": {
      "text/plain": [
       "Index(['count', 'unique', 'top', 'freq'], dtype='object')"
      ]
     },
     "execution_count": 91,
     "metadata": {},
     "output_type": "execute_result"
    }
   ],
   "source": [
    "data.describe(include= 'object').index"
   ]
  },
  {
   "cell_type": "code",
   "execution_count": 92,
   "id": "e833b725",
   "metadata": {
    "slideshow": {
     "slide_type": "fragment"
    }
   },
   "outputs": [
    {
     "data": {
      "text/plain": [
       "array([np.int64(1313), 3, '3rd', np.int64(711)], dtype=object)"
      ]
     },
     "execution_count": 92,
     "metadata": {},
     "output_type": "execute_result"
    }
   ],
   "source": [
    "data.describe(include= 'object')['pclass'].values"
   ]
  },
  {
   "cell_type": "code",
   "execution_count": 93,
   "id": "591f9f9a",
   "metadata": {
    "slideshow": {
     "slide_type": "subslide"
    }
   },
   "outputs": [
    {
     "data": {
      "text/plain": [
       "np.int64(1313)"
      ]
     },
     "execution_count": 93,
     "metadata": {},
     "output_type": "execute_result"
    }
   ],
   "source": [
    "data.describe(include= 'object')['pclass'].values[0]"
   ]
  },
  {
   "cell_type": "code",
   "execution_count": 125,
   "id": "cab86ed5",
   "metadata": {
    "slideshow": {
     "slide_type": "fragment"
    }
   },
   "outputs": [
    {
     "data": {
      "text/plain": [
       "'count'"
      ]
     },
     "execution_count": 125,
     "metadata": {},
     "output_type": "execute_result"
    }
   ],
   "source": [
    "data.describe(include= 'object')['pclass'].index[0]"
   ]
  },
  {
   "cell_type": "code",
   "execution_count": 100,
   "id": "e66c7c16",
   "metadata": {
    "slideshow": {
     "slide_type": "fragment"
    }
   },
   "outputs": [
    {
     "data": {
      "text/plain": [
       "np.int64(1313)"
      ]
     },
     "execution_count": 100,
     "metadata": {},
     "output_type": "execute_result"
    }
   ],
   "source": [
    "loc_var = data.describe(include= 'object')\n",
    "loc_var.loc['count','pclass']"
   ]
  },
  {
   "cell_type": "code",
   "execution_count": 17,
   "id": "adf9ef59-e721-446b-85fc-06745fb6f91b",
   "metadata": {
    "slideshow": {
     "slide_type": "slide"
    }
   },
   "outputs": [
    {
     "data": {
      "text/plain": [
       "pclass\n",
       "3rd       711\n",
       "1st       322\n",
       "2nd       280\n",
       "Name: count, dtype: int64"
      ]
     },
     "execution_count": 17,
     "metadata": {},
     "output_type": "execute_result"
    }
   ],
   "source": [
    "data[['pclass']].value_counts()"
   ]
  },
  {
   "cell_type": "code",
   "execution_count": 14,
   "id": "8bdea19d-4fe7-48d2-9a7a-bccc2ca26452",
   "metadata": {
    "slideshow": {
     "slide_type": "fragment"
    }
   },
   "outputs": [
    {
     "name": "stdout",
     "output_type": "stream",
     "text": [
      "3rd + 1st + 2nd\n",
      "711 + 322 + 280 = 1313\n"
     ]
    }
   ],
   "source": [
    "vars_count = data['pclass'].value_counts()\n",
    "print(f\"{vars_count.index[0]} + {vars_count.index[1]} + {vars_count.index[2]}\")\n",
    "print(f\"{vars_count.values[0]} + {vars_count.values[1]} + {vars_count.values[2]} = {vars_count.values[0]+vars_count.values[1]+vars_count.values[2]}\")"
   ]
  },
  {
   "cell_type": "code",
   "execution_count": 20,
   "id": "ee2bb6f5-3783-4aaa-a669-b70fd9e5630c",
   "metadata": {
    "slideshow": {
     "slide_type": "fragment"
    }
   },
   "outputs": [
    {
     "data": {
      "text/plain": [
       "np.int64(1313)"
      ]
     },
     "execution_count": 20,
     "metadata": {},
     "output_type": "execute_result"
    }
   ],
   "source": [
    "data['pclass'].count()"
   ]
  },
  {
   "cell_type": "code",
   "execution_count": 118,
   "id": "07807c01",
   "metadata": {
    "slideshow": {
     "slide_type": "slide"
    }
   },
   "outputs": [
    {
     "data": {
      "text/html": [
       "<div>\n",
       "<style scoped>\n",
       "    .dataframe tbody tr th:only-of-type {\n",
       "        vertical-align: middle;\n",
       "    }\n",
       "\n",
       "    .dataframe tbody tr th {\n",
       "        vertical-align: top;\n",
       "    }\n",
       "\n",
       "    .dataframe thead th {\n",
       "        text-align: right;\n",
       "    }\n",
       "</style>\n",
       "<table border=\"1\" class=\"dataframe\">\n",
       "  <thead>\n",
       "    <tr style=\"text-align: right;\">\n",
       "      <th></th>\n",
       "      <th>row.names</th>\n",
       "      <th>pclass</th>\n",
       "      <th>survived</th>\n",
       "      <th>name</th>\n",
       "      <th>age</th>\n",
       "      <th>embarked</th>\n",
       "      <th>home.dest</th>\n",
       "      <th>room</th>\n",
       "      <th>ticket</th>\n",
       "      <th>boat</th>\n",
       "      <th>sex</th>\n",
       "    </tr>\n",
       "  </thead>\n",
       "  <tbody>\n",
       "    <tr>\n",
       "      <th>0</th>\n",
       "      <td>1</td>\n",
       "      <td>1st</td>\n",
       "      <td>1</td>\n",
       "      <td>Allen, Miss Elisabeth Walton</td>\n",
       "      <td>29.0</td>\n",
       "      <td>Southampton</td>\n",
       "      <td>St Louis, MO</td>\n",
       "      <td>B-5</td>\n",
       "      <td>24160 L221</td>\n",
       "      <td>2</td>\n",
       "      <td>female</td>\n",
       "    </tr>\n",
       "  </tbody>\n",
       "</table>\n",
       "</div>"
      ],
      "text/plain": [
       "   row.names pclass  survived                          name   age  \\\n",
       "0          1    1st         1  Allen, Miss Elisabeth Walton  29.0   \n",
       "\n",
       "      embarked     home.dest room      ticket boat     sex  \n",
       "0  Southampton  St Louis, MO  B-5  24160 L221    2  female  "
      ]
     },
     "execution_count": 118,
     "metadata": {},
     "output_type": "execute_result"
    }
   ],
   "source": [
    "data.head(1)"
   ]
  },
  {
   "cell_type": "code",
   "execution_count": null,
   "id": "82cef9a2",
   "metadata": {
    "slideshow": {
     "slide_type": "fragment"
    }
   },
   "outputs": [],
   "source": [
    "data.loc[0,'pclass'] # Explain Output before running cell"
   ]
  },
  {
   "cell_type": "code",
   "execution_count": null,
   "id": "ede0a2c8",
   "metadata": {
    "slideshow": {
     "slide_type": "fragment"
    }
   },
   "outputs": [],
   "source": [
    "data.loc[0,['pclass','survived','ticket']] # Explain Output before running cell"
   ]
  },
  {
   "cell_type": "code",
   "execution_count": null,
   "id": "3eff9a40",
   "metadata": {
    "slideshow": {
     "slide_type": "subslide"
    }
   },
   "outputs": [],
   "source": [
    "pd.DataFrame(data.loc[0,['pclass','survived','ticket']]).T # Explain Output before running cell"
   ]
  },
  {
   "cell_type": "code",
   "execution_count": null,
   "id": "f9d847e0",
   "metadata": {
    "colab": {
     "base_uri": "https://localhost:8080/",
     "height": 175
    },
    "executionInfo": {
     "elapsed": 419,
     "status": "ok",
     "timestamp": 1687888050034,
     "user": {
      "displayName": "Shai Tirgulim",
      "userId": "18041892042069420089"
     },
     "user_tz": -180
    },
    "id": "TrxstzsZoK_0",
    "outputId": "8816b6c0-a7f2-489b-aed1-bdf4e67d6dee",
    "slideshow": {
     "slide_type": "slide"
    }
   },
   "outputs": [],
   "source": [
    "data.tail(10) # set 2 last records"
   ]
  },
  {
   "cell_type": "code",
   "execution_count": 6,
   "id": "473c8c9c-3a70-469f-92eb-22c1da6a175f",
   "metadata": {
    "colab": {
     "base_uri": "https://localhost:8080/",
     "height": 332
    },
    "executionInfo": {
     "elapsed": 293,
     "status": "ok",
     "timestamp": 1687888062501,
     "user": {
      "displayName": "Shai Tirgulim",
      "userId": "18041892042069420089"
     },
     "user_tz": -180
    },
    "id": "s6JIIrMooK_1",
    "outputId": "0278b970-e25e-4957-aa70-e4dabfd82e4d",
    "slideshow": {
     "slide_type": "slide"
    }
   },
   "outputs": [
    {
     "data": {
      "text/html": [
       "<div>\n",
       "<style scoped>\n",
       "    .dataframe tbody tr th:only-of-type {\n",
       "        vertical-align: middle;\n",
       "    }\n",
       "\n",
       "    .dataframe tbody tr th {\n",
       "        vertical-align: top;\n",
       "    }\n",
       "\n",
       "    .dataframe thead th {\n",
       "        text-align: right;\n",
       "    }\n",
       "</style>\n",
       "<table border=\"1\" class=\"dataframe\">\n",
       "  <thead>\n",
       "    <tr style=\"text-align: right;\">\n",
       "      <th></th>\n",
       "      <th>pclass</th>\n",
       "      <th>survived</th>\n",
       "      <th>age</th>\n",
       "      <th>sex</th>\n",
       "    </tr>\n",
       "  </thead>\n",
       "  <tbody>\n",
       "    <tr>\n",
       "      <th>10</th>\n",
       "      <td>1st</td>\n",
       "      <td>0</td>\n",
       "      <td>47.0</td>\n",
       "      <td>male</td>\n",
       "    </tr>\n",
       "    <tr>\n",
       "      <th>11</th>\n",
       "      <td>1st</td>\n",
       "      <td>1</td>\n",
       "      <td>19.0</td>\n",
       "      <td>female</td>\n",
       "    </tr>\n",
       "    <tr>\n",
       "      <th>12</th>\n",
       "      <td>1st</td>\n",
       "      <td>1</td>\n",
       "      <td>NaN</td>\n",
       "      <td>female</td>\n",
       "    </tr>\n",
       "    <tr>\n",
       "      <th>13</th>\n",
       "      <td>1st</td>\n",
       "      <td>1</td>\n",
       "      <td>NaN</td>\n",
       "      <td>male</td>\n",
       "    </tr>\n",
       "    <tr>\n",
       "      <th>14</th>\n",
       "      <td>1st</td>\n",
       "      <td>0</td>\n",
       "      <td>NaN</td>\n",
       "      <td>male</td>\n",
       "    </tr>\n",
       "    <tr>\n",
       "      <th>15</th>\n",
       "      <td>1st</td>\n",
       "      <td>1</td>\n",
       "      <td>50.0</td>\n",
       "      <td>female</td>\n",
       "    </tr>\n",
       "    <tr>\n",
       "      <th>16</th>\n",
       "      <td>1st</td>\n",
       "      <td>0</td>\n",
       "      <td>24.0</td>\n",
       "      <td>male</td>\n",
       "    </tr>\n",
       "    <tr>\n",
       "      <th>17</th>\n",
       "      <td>1st</td>\n",
       "      <td>0</td>\n",
       "      <td>36.0</td>\n",
       "      <td>male</td>\n",
       "    </tr>\n",
       "    <tr>\n",
       "      <th>18</th>\n",
       "      <td>1st</td>\n",
       "      <td>1</td>\n",
       "      <td>37.0</td>\n",
       "      <td>male</td>\n",
       "    </tr>\n",
       "  </tbody>\n",
       "</table>\n",
       "</div>"
      ],
      "text/plain": [
       "   pclass  survived   age     sex\n",
       "10    1st         0  47.0    male\n",
       "11    1st         1  19.0  female\n",
       "12    1st         1   NaN  female\n",
       "13    1st         1   NaN    male\n",
       "14    1st         0   NaN    male\n",
       "15    1st         1  50.0  female\n",
       "16    1st         0  24.0    male\n",
       "17    1st         0  36.0    male\n",
       "18    1st         1  37.0    male"
      ]
     },
     "execution_count": 6,
     "metadata": {},
     "output_type": "execute_result"
    }
   ],
   "source": [
    "#### Set specific raws:\n",
    "data[10:19]"
   ]
  },
  {
   "cell_type": "markdown",
   "id": "4932a976-0b74-4441-a8ab-0b42bdd5a91c",
   "metadata": {
    "id": "m89Pb8D_oK_1",
    "slideshow": {
     "slide_type": "slide"
    }
   },
   "source": [
    "Exit"
   ]
  },
  {
   "cell_type": "markdown",
   "id": "35c00c0f",
   "metadata": {
    "slideshow": {
     "slide_type": "slide"
    }
   },
   "source": [
    "#### End slideshow"
   ]
  },
  {
   "cell_type": "markdown",
   "id": "83f56b8b-e14d-43d9-8e8b-7711d4e61a8d",
   "metadata": {},
   "source": [
    "### Suggest ideas how to display only survivors (denoted in 1)"
   ]
  },
  {
   "cell_type": "code",
   "execution_count": null,
   "id": "5b93ea2a-292c-4d62-83b5-4f51c65f9960",
   "metadata": {},
   "outputs": [],
   "source": []
  },
  {
   "cell_type": "markdown",
   "id": "82eff9a0-8b58-4ce5-b7f3-d53442c7fb25",
   "metadata": {
    "jp-MarkdownHeadingCollapsed": true
   },
   "source": [
    "##### Asn"
   ]
  },
  {
   "cell_type": "code",
   "execution_count": 8,
   "id": "48afc563-8186-4296-9b91-da76354f98e3",
   "metadata": {
    "colab": {
     "base_uri": "https://localhost:8080/"
    },
    "executionInfo": {
     "elapsed": 57,
     "status": "ok",
     "timestamp": 1658056256054,
     "user": {
      "displayName": "Shai Tirgulim",
      "userId": "18041892042069420089"
     },
     "user_tz": -180
    },
    "id": "q7K6Xd3-oK_2",
    "outputId": "6041b717-cfaf-4d7d-941d-772bee51ec55",
    "scrolled": true
   },
   "outputs": [
    {
     "data": {
      "text/plain": [
       "0      True\n",
       "1     False\n",
       "2     False\n",
       "3     False\n",
       "4      True\n",
       "5      True\n",
       "6      True\n",
       "7     False\n",
       "8      True\n",
       "9     False\n",
       "10    False\n",
       "11     True\n",
       "12     True\n",
       "13     True\n",
       "14    False\n",
       "15     True\n",
       "16    False\n",
       "17    False\n",
       "18     True\n",
       "19     True\n",
       "20     True\n",
       "21    False\n",
       "22     True\n",
       "23     True\n",
       "24     True\n",
       "25    False\n",
       "26     True\n",
       "27     True\n",
       "28     True\n",
       "29    False\n",
       "Name: survived, dtype: bool"
      ]
     },
     "execution_count": 8,
     "metadata": {},
     "output_type": "execute_result"
    }
   ],
   "source": [
    "# data[data['survived'] == 1]\n",
    "data['survived']== 1"
   ]
  },
  {
   "cell_type": "markdown",
   "id": "bde0d353-99c6-4abd-b3ea-9c5d41508788",
   "metadata": {
    "id": "CGhHaMoRoK_3"
   },
   "source": [
    "### Suggest how to display only females gender"
   ]
  },
  {
   "cell_type": "code",
   "execution_count": null,
   "id": "47bcd7a3",
   "metadata": {},
   "outputs": [],
   "source": []
  },
  {
   "cell_type": "markdown",
   "id": "31bf8bbe",
   "metadata": {
    "jp-MarkdownHeadingCollapsed": true
   },
   "source": [
    "##### Asn"
   ]
  },
  {
   "cell_type": "code",
   "execution_count": 10,
   "id": "dc86087e-741b-4937-915f-d865eeef74fd",
   "metadata": {
    "colab": {
     "base_uri": "https://localhost:8080/",
     "height": 426
    },
    "executionInfo": {
     "elapsed": 324,
     "status": "ok",
     "timestamp": 1687888147112,
     "user": {
      "displayName": "Shai Tirgulim",
      "userId": "18041892042069420089"
     },
     "user_tz": -180
    },
    "id": "Uqi-u4uMoK_4",
    "outputId": "c79e10d4-b7ce-4672-f146-e09a8f0aaeb2"
   },
   "outputs": [
    {
     "data": {
      "text/html": [
       "<div>\n",
       "<style scoped>\n",
       "    .dataframe tbody tr th:only-of-type {\n",
       "        vertical-align: middle;\n",
       "    }\n",
       "\n",
       "    .dataframe tbody tr th {\n",
       "        vertical-align: top;\n",
       "    }\n",
       "\n",
       "    .dataframe thead th {\n",
       "        text-align: right;\n",
       "    }\n",
       "</style>\n",
       "<table border=\"1\" class=\"dataframe\">\n",
       "  <thead>\n",
       "    <tr style=\"text-align: right;\">\n",
       "      <th></th>\n",
       "      <th>pclass</th>\n",
       "      <th>survived</th>\n",
       "      <th>age</th>\n",
       "      <th>sex</th>\n",
       "    </tr>\n",
       "  </thead>\n",
       "  <tbody>\n",
       "    <tr>\n",
       "      <th>0</th>\n",
       "      <td>1st</td>\n",
       "      <td>1</td>\n",
       "      <td>29.0</td>\n",
       "      <td>female</td>\n",
       "    </tr>\n",
       "    <tr>\n",
       "      <th>1</th>\n",
       "      <td>1st</td>\n",
       "      <td>0</td>\n",
       "      <td>2.0</td>\n",
       "      <td>female</td>\n",
       "    </tr>\n",
       "    <tr>\n",
       "      <th>3</th>\n",
       "      <td>1st</td>\n",
       "      <td>0</td>\n",
       "      <td>25.0</td>\n",
       "      <td>female</td>\n",
       "    </tr>\n",
       "    <tr>\n",
       "      <th>6</th>\n",
       "      <td>1st</td>\n",
       "      <td>1</td>\n",
       "      <td>63.0</td>\n",
       "      <td>female</td>\n",
       "    </tr>\n",
       "    <tr>\n",
       "      <th>8</th>\n",
       "      <td>1st</td>\n",
       "      <td>1</td>\n",
       "      <td>58.0</td>\n",
       "      <td>female</td>\n",
       "    </tr>\n",
       "    <tr>\n",
       "      <th>11</th>\n",
       "      <td>1st</td>\n",
       "      <td>1</td>\n",
       "      <td>19.0</td>\n",
       "      <td>female</td>\n",
       "    </tr>\n",
       "    <tr>\n",
       "      <th>12</th>\n",
       "      <td>1st</td>\n",
       "      <td>1</td>\n",
       "      <td>NaN</td>\n",
       "      <td>female</td>\n",
       "    </tr>\n",
       "    <tr>\n",
       "      <th>15</th>\n",
       "      <td>1st</td>\n",
       "      <td>1</td>\n",
       "      <td>50.0</td>\n",
       "      <td>female</td>\n",
       "    </tr>\n",
       "    <tr>\n",
       "      <th>19</th>\n",
       "      <td>1st</td>\n",
       "      <td>1</td>\n",
       "      <td>NaN</td>\n",
       "      <td>female</td>\n",
       "    </tr>\n",
       "    <tr>\n",
       "      <th>23</th>\n",
       "      <td>1st</td>\n",
       "      <td>1</td>\n",
       "      <td>19.0</td>\n",
       "      <td>female</td>\n",
       "    </tr>\n",
       "    <tr>\n",
       "      <th>27</th>\n",
       "      <td>1st</td>\n",
       "      <td>1</td>\n",
       "      <td>30.0</td>\n",
       "      <td>female</td>\n",
       "    </tr>\n",
       "    <tr>\n",
       "      <th>28</th>\n",
       "      <td>1st</td>\n",
       "      <td>1</td>\n",
       "      <td>58.0</td>\n",
       "      <td>female</td>\n",
       "    </tr>\n",
       "  </tbody>\n",
       "</table>\n",
       "</div>"
      ],
      "text/plain": [
       "   pclass  survived   age     sex\n",
       "0     1st         1  29.0  female\n",
       "1     1st         0   2.0  female\n",
       "3     1st         0  25.0  female\n",
       "6     1st         1  63.0  female\n",
       "8     1st         1  58.0  female\n",
       "11    1st         1  19.0  female\n",
       "12    1st         1   NaN  female\n",
       "15    1st         1  50.0  female\n",
       "19    1st         1   NaN  female\n",
       "23    1st         1  19.0  female\n",
       "27    1st         1  30.0  female\n",
       "28    1st         1  58.0  female"
      ]
     },
     "execution_count": 10,
     "metadata": {},
     "output_type": "execute_result"
    }
   ],
   "source": [
    "data[data['sex']=='female']\n",
    "data['sex']=='female'"
   ]
  },
  {
   "cell_type": "markdown",
   "id": "6ee32e8a-0ecd-42d2-8a76-c2d726c4ab21",
   "metadata": {
    "jp-MarkdownHeadingCollapsed": true
   },
   "source": [
    "##### General Boolean method"
   ]
  },
  {
   "cell_type": "code",
   "execution_count": 39,
   "id": "dc681ee5-f684-49e2-a830-dddd5df5b5d7",
   "metadata": {
    "colab": {
     "base_uri": "https://localhost:8080/",
     "height": 112
    },
    "executionInfo": {
     "elapsed": 309,
     "status": "ok",
     "timestamp": 1687888167583,
     "user": {
      "displayName": "Shai Tirgulim",
      "userId": "18041892042069420089"
     },
     "user_tz": -180
    },
    "id": "qGYTjfSjljqw",
    "outputId": "c475235c-29ff-4bfe-f72a-b2f73967f313"
   },
   "outputs": [
    {
     "data": {
      "text/html": [
       "<div>\n",
       "<style scoped>\n",
       "    .dataframe tbody tr th:only-of-type {\n",
       "        vertical-align: middle;\n",
       "    }\n",
       "\n",
       "    .dataframe tbody tr th {\n",
       "        vertical-align: top;\n",
       "    }\n",
       "\n",
       "    .dataframe thead th {\n",
       "        text-align: right;\n",
       "    }\n",
       "</style>\n",
       "<table border=\"1\" class=\"dataframe\">\n",
       "  <thead>\n",
       "    <tr style=\"text-align: right;\">\n",
       "      <th></th>\n",
       "      <th>pclass</th>\n",
       "      <th>survived</th>\n",
       "      <th>age</th>\n",
       "      <th>sex</th>\n",
       "    </tr>\n",
       "  </thead>\n",
       "  <tbody>\n",
       "    <tr>\n",
       "      <th>1</th>\n",
       "      <td>1st</td>\n",
       "      <td>0</td>\n",
       "      <td>2.0</td>\n",
       "      <td>female</td>\n",
       "    </tr>\n",
       "    <tr>\n",
       "      <th>3</th>\n",
       "      <td>1st</td>\n",
       "      <td>0</td>\n",
       "      <td>25.0</td>\n",
       "      <td>female</td>\n",
       "    </tr>\n",
       "  </tbody>\n",
       "</table>\n",
       "</div>"
      ],
      "text/plain": [
       "  pclass  survived   age     sex\n",
       "1    1st         0   2.0  female\n",
       "3    1st         0  25.0  female"
      ]
     },
     "execution_count": 39,
     "metadata": {},
     "output_type": "execute_result"
    }
   ],
   "source": [
    "data1to3 = data[1:4]\n",
    "data1to3[[True,False,True]]"
   ]
  },
  {
   "cell_type": "markdown",
   "id": "51270477-4e7b-4cfc-ba86-bd3220091ff3",
   "metadata": {
    "id": "erPVilLW6eZP"
   },
   "source": [
    "### Note that the boolean vectoer must have the same length of data\n",
    "* For example, this will not work"
   ]
  },
  {
   "cell_type": "code",
   "execution_count": 36,
   "id": "6b385d9a-d11c-4038-b61d-ae95f47d3905",
   "metadata": {
    "colab": {
     "base_uri": "https://localhost:8080/",
     "height": 331
    },
    "executionInfo": {
     "elapsed": 313,
     "status": "error",
     "timestamp": 1687888203944,
     "user": {
      "displayName": "Shai Tirgulim",
      "userId": "18041892042069420089"
     },
     "user_tz": -180
    },
    "id": "3t9GUtpc6p-m",
    "outputId": "552ea908-5148-4175-fbae-305545f7c3a1"
   },
   "outputs": [
    {
     "ename": "ValueError",
     "evalue": "Item wrong length 2 instead of 3.",
     "output_type": "error",
     "traceback": [
      "\u001b[1;31m---------------------------------------------------------------------------\u001b[0m",
      "\u001b[1;31mValueError\u001b[0m                                Traceback (most recent call last)",
      "Input \u001b[1;32mIn [36]\u001b[0m, in \u001b[0;36m<cell line: 1>\u001b[1;34m()\u001b[0m\n\u001b[1;32m----> 1\u001b[0m \u001b[43mdata1to3\u001b[49m\u001b[43m[\u001b[49m\u001b[43m[\u001b[49m\u001b[38;5;28;43;01mTrue\u001b[39;49;00m\u001b[43m,\u001b[49m\u001b[38;5;28;43;01mFalse\u001b[39;49;00m\u001b[43m]\u001b[49m\u001b[43m]\u001b[49m\n",
      "File \u001b[1;32m~\\AppData\\Local\\Programs\\Python\\Python310\\lib\\site-packages\\pandas\\core\\frame.py:3496\u001b[0m, in \u001b[0;36mDataFrame.__getitem__\u001b[1;34m(self, key)\u001b[0m\n\u001b[0;32m   3494\u001b[0m \u001b[38;5;66;03m# Do we have a (boolean) 1d indexer?\u001b[39;00m\n\u001b[0;32m   3495\u001b[0m \u001b[38;5;28;01mif\u001b[39;00m com\u001b[38;5;241m.\u001b[39mis_bool_indexer(key):\n\u001b[1;32m-> 3496\u001b[0m     \u001b[38;5;28;01mreturn\u001b[39;00m \u001b[38;5;28;43mself\u001b[39;49m\u001b[38;5;241;43m.\u001b[39;49m\u001b[43m_getitem_bool_array\u001b[49m\u001b[43m(\u001b[49m\u001b[43mkey\u001b[49m\u001b[43m)\u001b[49m\n\u001b[0;32m   3498\u001b[0m \u001b[38;5;66;03m# We are left with two options: a single key, and a collection of keys,\u001b[39;00m\n\u001b[0;32m   3499\u001b[0m \u001b[38;5;66;03m# We interpret tuples as collections only for non-MultiIndex\u001b[39;00m\n\u001b[0;32m   3500\u001b[0m is_single_key \u001b[38;5;241m=\u001b[39m \u001b[38;5;28misinstance\u001b[39m(key, \u001b[38;5;28mtuple\u001b[39m) \u001b[38;5;129;01mor\u001b[39;00m \u001b[38;5;129;01mnot\u001b[39;00m is_list_like(key)\n",
      "File \u001b[1;32m~\\AppData\\Local\\Programs\\Python\\Python310\\lib\\site-packages\\pandas\\core\\frame.py:3543\u001b[0m, in \u001b[0;36mDataFrame._getitem_bool_array\u001b[1;34m(self, key)\u001b[0m\n\u001b[0;32m   3537\u001b[0m     warnings\u001b[38;5;241m.\u001b[39mwarn(\n\u001b[0;32m   3538\u001b[0m         \u001b[38;5;124m\"\u001b[39m\u001b[38;5;124mBoolean Series key will be reindexed to match DataFrame index.\u001b[39m\u001b[38;5;124m\"\u001b[39m,\n\u001b[0;32m   3539\u001b[0m         \u001b[38;5;167;01mUserWarning\u001b[39;00m,\n\u001b[0;32m   3540\u001b[0m         stacklevel\u001b[38;5;241m=\u001b[39mfind_stack_level(),\n\u001b[0;32m   3541\u001b[0m     )\n\u001b[0;32m   3542\u001b[0m \u001b[38;5;28;01melif\u001b[39;00m \u001b[38;5;28mlen\u001b[39m(key) \u001b[38;5;241m!=\u001b[39m \u001b[38;5;28mlen\u001b[39m(\u001b[38;5;28mself\u001b[39m\u001b[38;5;241m.\u001b[39mindex):\n\u001b[1;32m-> 3543\u001b[0m     \u001b[38;5;28;01mraise\u001b[39;00m \u001b[38;5;167;01mValueError\u001b[39;00m(\n\u001b[0;32m   3544\u001b[0m         \u001b[38;5;124mf\u001b[39m\u001b[38;5;124m\"\u001b[39m\u001b[38;5;124mItem wrong length \u001b[39m\u001b[38;5;132;01m{\u001b[39;00m\u001b[38;5;28mlen\u001b[39m(key)\u001b[38;5;132;01m}\u001b[39;00m\u001b[38;5;124m instead of \u001b[39m\u001b[38;5;132;01m{\u001b[39;00m\u001b[38;5;28mlen\u001b[39m(\u001b[38;5;28mself\u001b[39m\u001b[38;5;241m.\u001b[39mindex)\u001b[38;5;132;01m}\u001b[39;00m\u001b[38;5;124m.\u001b[39m\u001b[38;5;124m\"\u001b[39m\n\u001b[0;32m   3545\u001b[0m     )\n\u001b[0;32m   3547\u001b[0m \u001b[38;5;66;03m# check_bool_indexer will throw exception if Series key cannot\u001b[39;00m\n\u001b[0;32m   3548\u001b[0m \u001b[38;5;66;03m# be reindexed to match DataFrame rows\u001b[39;00m\n\u001b[0;32m   3549\u001b[0m key \u001b[38;5;241m=\u001b[39m check_bool_indexer(\u001b[38;5;28mself\u001b[39m\u001b[38;5;241m.\u001b[39mindex, key)\n",
      "\u001b[1;31mValueError\u001b[0m: Item wrong length 2 instead of 3."
     ]
    }
   ],
   "source": [
    "data1to3[[True,False]]"
   ]
  },
  {
   "cell_type": "markdown",
   "id": "33581cb4-2cd0-48a2-b158-4e9dad78775f",
   "metadata": {
    "id": "yg0NT5o964-X"
   },
   "source": [
    "### Suggest how to display just females survivors"
   ]
  },
  {
   "cell_type": "code",
   "execution_count": null,
   "id": "e329eef0-1d57-4d6b-8b0e-5c2c8ded5105",
   "metadata": {},
   "outputs": [],
   "source": []
  },
  {
   "cell_type": "markdown",
   "id": "a315c08b-aeae-4e01-aa28-c25a45294802",
   "metadata": {
    "jp-MarkdownHeadingCollapsed": true
   },
   "source": [
    "##### Asn"
   ]
  },
  {
   "cell_type": "code",
   "execution_count": 13,
   "id": "55beafd7-efa0-4c59-a3c2-6fc3fcec8d5f",
   "metadata": {
    "colab": {
     "base_uri": "https://localhost:8080/",
     "height": 363
    },
    "executionInfo": {
     "elapsed": 317,
     "status": "ok",
     "timestamp": 1687888242339,
     "user": {
      "displayName": "Shai Tirgulim",
      "userId": "18041892042069420089"
     },
     "user_tz": -180
    },
    "id": "UlNR4QI9oK_5",
    "outputId": "08464817-7adc-4e72-8adf-b5695f390772"
   },
   "outputs": [
    {
     "data": {
      "text/html": [
       "<div>\n",
       "<style scoped>\n",
       "    .dataframe tbody tr th:only-of-type {\n",
       "        vertical-align: middle;\n",
       "    }\n",
       "\n",
       "    .dataframe tbody tr th {\n",
       "        vertical-align: top;\n",
       "    }\n",
       "\n",
       "    .dataframe thead th {\n",
       "        text-align: right;\n",
       "    }\n",
       "</style>\n",
       "<table border=\"1\" class=\"dataframe\">\n",
       "  <thead>\n",
       "    <tr style=\"text-align: right;\">\n",
       "      <th></th>\n",
       "      <th>pclass</th>\n",
       "      <th>survived</th>\n",
       "      <th>age</th>\n",
       "      <th>sex</th>\n",
       "    </tr>\n",
       "  </thead>\n",
       "  <tbody>\n",
       "    <tr>\n",
       "      <th>0</th>\n",
       "      <td>1st</td>\n",
       "      <td>1</td>\n",
       "      <td>29.0</td>\n",
       "      <td>female</td>\n",
       "    </tr>\n",
       "    <tr>\n",
       "      <th>6</th>\n",
       "      <td>1st</td>\n",
       "      <td>1</td>\n",
       "      <td>63.0</td>\n",
       "      <td>female</td>\n",
       "    </tr>\n",
       "    <tr>\n",
       "      <th>8</th>\n",
       "      <td>1st</td>\n",
       "      <td>1</td>\n",
       "      <td>58.0</td>\n",
       "      <td>female</td>\n",
       "    </tr>\n",
       "    <tr>\n",
       "      <th>11</th>\n",
       "      <td>1st</td>\n",
       "      <td>1</td>\n",
       "      <td>19.0</td>\n",
       "      <td>female</td>\n",
       "    </tr>\n",
       "    <tr>\n",
       "      <th>12</th>\n",
       "      <td>1st</td>\n",
       "      <td>1</td>\n",
       "      <td>NaN</td>\n",
       "      <td>female</td>\n",
       "    </tr>\n",
       "    <tr>\n",
       "      <th>15</th>\n",
       "      <td>1st</td>\n",
       "      <td>1</td>\n",
       "      <td>50.0</td>\n",
       "      <td>female</td>\n",
       "    </tr>\n",
       "    <tr>\n",
       "      <th>19</th>\n",
       "      <td>1st</td>\n",
       "      <td>1</td>\n",
       "      <td>NaN</td>\n",
       "      <td>female</td>\n",
       "    </tr>\n",
       "    <tr>\n",
       "      <th>23</th>\n",
       "      <td>1st</td>\n",
       "      <td>1</td>\n",
       "      <td>19.0</td>\n",
       "      <td>female</td>\n",
       "    </tr>\n",
       "    <tr>\n",
       "      <th>27</th>\n",
       "      <td>1st</td>\n",
       "      <td>1</td>\n",
       "      <td>30.0</td>\n",
       "      <td>female</td>\n",
       "    </tr>\n",
       "    <tr>\n",
       "      <th>28</th>\n",
       "      <td>1st</td>\n",
       "      <td>1</td>\n",
       "      <td>58.0</td>\n",
       "      <td>female</td>\n",
       "    </tr>\n",
       "  </tbody>\n",
       "</table>\n",
       "</div>"
      ],
      "text/plain": [
       "   pclass  survived   age     sex\n",
       "0     1st         1  29.0  female\n",
       "6     1st         1  63.0  female\n",
       "8     1st         1  58.0  female\n",
       "11    1st         1  19.0  female\n",
       "12    1st         1   NaN  female\n",
       "15    1st         1  50.0  female\n",
       "19    1st         1   NaN  female\n",
       "23    1st         1  19.0  female\n",
       "27    1st         1  30.0  female\n",
       "28    1st         1  58.0  female"
      ]
     },
     "execution_count": 13,
     "metadata": {},
     "output_type": "execute_result"
    }
   ],
   "source": [
    "data[(data['survived'] == 1) & (data['sex']=='female')]  "
   ]
  },
  {
   "cell_type": "markdown",
   "id": "01c56441-1ebf-439a-b91a-fa33daa75a7d",
   "metadata": {},
   "source": [
    "#### display some of the collumns by a list of collumns"
   ]
  },
  {
   "cell_type": "code",
   "execution_count": null,
   "id": "00f231cc-4bd2-4ad5-ad47-dc3160d5a99a",
   "metadata": {},
   "outputs": [],
   "source": []
  },
  {
   "cell_type": "markdown",
   "id": "c7cc2ee1-c32f-41b2-b54f-1f492585e356",
   "metadata": {
    "jp-MarkdownHeadingCollapsed": true
   },
   "source": [
    "##### Asn"
   ]
  },
  {
   "cell_type": "code",
   "execution_count": 134,
   "id": "7ed7903b-9cc0-4ea5-b2dc-1371dae0005a",
   "metadata": {
    "colab": {
     "base_uri": "https://localhost:8080/",
     "height": 990
    },
    "executionInfo": {
     "elapsed": 333,
     "status": "ok",
     "timestamp": 1687888257506,
     "user": {
      "displayName": "Shai Tirgulim",
      "userId": "18041892042069420089"
     },
     "user_tz": -180
    },
    "id": "glifJP5noK_5",
    "outputId": "53b19b38-dc89-4bc2-a670-b76586be5fa4",
    "scrolled": true
   },
   "outputs": [
    {
     "data": {
      "text/html": [
       "<div>\n",
       "<style scoped>\n",
       "    .dataframe tbody tr th:only-of-type {\n",
       "        vertical-align: middle;\n",
       "    }\n",
       "\n",
       "    .dataframe tbody tr th {\n",
       "        vertical-align: top;\n",
       "    }\n",
       "\n",
       "    .dataframe thead th {\n",
       "        text-align: right;\n",
       "    }\n",
       "</style>\n",
       "<table border=\"1\" class=\"dataframe\">\n",
       "  <thead>\n",
       "    <tr style=\"text-align: right;\">\n",
       "      <th></th>\n",
       "      <th>pclass</th>\n",
       "      <th>age</th>\n",
       "    </tr>\n",
       "  </thead>\n",
       "  <tbody>\n",
       "    <tr>\n",
       "      <th>0</th>\n",
       "      <td>1st</td>\n",
       "      <td>29.0000</td>\n",
       "    </tr>\n",
       "    <tr>\n",
       "      <th>1</th>\n",
       "      <td>1st</td>\n",
       "      <td>2.0000</td>\n",
       "    </tr>\n",
       "    <tr>\n",
       "      <th>2</th>\n",
       "      <td>1st</td>\n",
       "      <td>30.0000</td>\n",
       "    </tr>\n",
       "    <tr>\n",
       "      <th>3</th>\n",
       "      <td>1st</td>\n",
       "      <td>25.0000</td>\n",
       "    </tr>\n",
       "    <tr>\n",
       "      <th>4</th>\n",
       "      <td>1st</td>\n",
       "      <td>0.9167</td>\n",
       "    </tr>\n",
       "    <tr>\n",
       "      <th>...</th>\n",
       "      <td>...</td>\n",
       "      <td>...</td>\n",
       "    </tr>\n",
       "    <tr>\n",
       "      <th>1308</th>\n",
       "      <td>3rd</td>\n",
       "      <td>NaN</td>\n",
       "    </tr>\n",
       "    <tr>\n",
       "      <th>1309</th>\n",
       "      <td>3rd</td>\n",
       "      <td>NaN</td>\n",
       "    </tr>\n",
       "    <tr>\n",
       "      <th>1310</th>\n",
       "      <td>3rd</td>\n",
       "      <td>NaN</td>\n",
       "    </tr>\n",
       "    <tr>\n",
       "      <th>1311</th>\n",
       "      <td>3rd</td>\n",
       "      <td>NaN</td>\n",
       "    </tr>\n",
       "    <tr>\n",
       "      <th>1312</th>\n",
       "      <td>3rd</td>\n",
       "      <td>NaN</td>\n",
       "    </tr>\n",
       "  </tbody>\n",
       "</table>\n",
       "<p>1313 rows × 2 columns</p>\n",
       "</div>"
      ],
      "text/plain": [
       "     pclass      age\n",
       "0       1st  29.0000\n",
       "1       1st   2.0000\n",
       "2       1st  30.0000\n",
       "3       1st  25.0000\n",
       "4       1st   0.9167\n",
       "...     ...      ...\n",
       "1308    3rd      NaN\n",
       "1309    3rd      NaN\n",
       "1310    3rd      NaN\n",
       "1311    3rd      NaN\n",
       "1312    3rd      NaN\n",
       "\n",
       "[1313 rows x 2 columns]"
      ]
     },
     "execution_count": 134,
     "metadata": {},
     "output_type": "execute_result"
    }
   ],
   "source": [
    "data[[ 'pclass','age']]"
   ]
  },
  {
   "cell_type": "markdown",
   "id": "0e06a214",
   "metadata": {
    "slideshow": {
     "slide_type": ""
    },
    "tags": []
   },
   "source": [
    "### [▲](#up)\n",
    "---"
   ]
  },
  {
   "cell_type": "markdown",
   "id": "05f116cb-75b1-4577-bb6a-e937ab9961a2",
   "metadata": {},
   "source": [
    "<a id='section2'></a>\n",
    "<div style=\"color:white;border-radius:10px; padding-top: 2px; padding-bottom: 0px;\n",
    "            background-color:#03112A;font-size:150%;\n",
    "            letter-spacing:1.0px;color:white; text-align: center;\"><b><b><span style='color:#2ae4f5''> </span></b> loc & iloc</b></p>\n",
    "</div>\n",
    "\n"
   ]
  },
  {
   "cell_type": "markdown",
   "id": "25df54d2-eab7-4138-9ff5-9010fe3233e8",
   "metadata": {},
   "source": [
    "### Here is a fictitious data for practice"
   ]
  },
  {
   "cell_type": "code",
   "execution_count": 135,
   "id": "51b0e662-70f4-4031-8c4a-31993a1ca972",
   "metadata": {},
   "outputs": [
    {
     "data": {
      "text/html": [
       "<div>\n",
       "<style scoped>\n",
       "    .dataframe tbody tr th:only-of-type {\n",
       "        vertical-align: middle;\n",
       "    }\n",
       "\n",
       "    .dataframe tbody tr th {\n",
       "        vertical-align: top;\n",
       "    }\n",
       "\n",
       "    .dataframe thead th {\n",
       "        text-align: right;\n",
       "    }\n",
       "</style>\n",
       "<table border=\"1\" class=\"dataframe\">\n",
       "  <thead>\n",
       "    <tr style=\"text-align: right;\">\n",
       "      <th></th>\n",
       "      <th>Condition</th>\n",
       "      <th>Subject_ID</th>\n",
       "      <th>Trial</th>\n",
       "      <th>Group</th>\n",
       "    </tr>\n",
       "  </thead>\n",
       "  <tbody>\n",
       "    <tr>\n",
       "      <th>0</th>\n",
       "      <td>Affect</td>\n",
       "      <td>1</td>\n",
       "      <td>1</td>\n",
       "      <td>Control</td>\n",
       "    </tr>\n",
       "    <tr>\n",
       "      <th>1</th>\n",
       "      <td>Affect</td>\n",
       "      <td>1</td>\n",
       "      <td>2</td>\n",
       "      <td>Control</td>\n",
       "    </tr>\n",
       "    <tr>\n",
       "      <th>2</th>\n",
       "      <td>Affect</td>\n",
       "      <td>1</td>\n",
       "      <td>3</td>\n",
       "      <td>Control</td>\n",
       "    </tr>\n",
       "    <tr>\n",
       "      <th>3</th>\n",
       "      <td>Affect</td>\n",
       "      <td>1</td>\n",
       "      <td>4</td>\n",
       "      <td>Control</td>\n",
       "    </tr>\n",
       "    <tr>\n",
       "      <th>4</th>\n",
       "      <td>Affect</td>\n",
       "      <td>1</td>\n",
       "      <td>5</td>\n",
       "      <td>Control</td>\n",
       "    </tr>\n",
       "    <tr>\n",
       "      <th>5</th>\n",
       "      <td>Affect</td>\n",
       "      <td>1</td>\n",
       "      <td>6</td>\n",
       "      <td>Control</td>\n",
       "    </tr>\n",
       "    <tr>\n",
       "      <th>6</th>\n",
       "      <td>Affect</td>\n",
       "      <td>1</td>\n",
       "      <td>7</td>\n",
       "      <td>Control</td>\n",
       "    </tr>\n",
       "    <tr>\n",
       "      <th>7</th>\n",
       "      <td>Affect</td>\n",
       "      <td>1</td>\n",
       "      <td>8</td>\n",
       "      <td>Control</td>\n",
       "    </tr>\n",
       "    <tr>\n",
       "      <th>8</th>\n",
       "      <td>Affect</td>\n",
       "      <td>1</td>\n",
       "      <td>9</td>\n",
       "      <td>Control</td>\n",
       "    </tr>\n",
       "    <tr>\n",
       "      <th>9</th>\n",
       "      <td>Affect</td>\n",
       "      <td>1</td>\n",
       "      <td>10</td>\n",
       "      <td>Control</td>\n",
       "    </tr>\n",
       "  </tbody>\n",
       "</table>\n",
       "</div>"
      ],
      "text/plain": [
       "  Condition  Subject_ID  Trial    Group\n",
       "0    Affect           1      1  Control\n",
       "1    Affect           1      2  Control\n",
       "2    Affect           1      3  Control\n",
       "3    Affect           1      4  Control\n",
       "4    Affect           1      5  Control\n",
       "5    Affect           1      6  Control\n",
       "6    Affect           1      7  Control\n",
       "7    Affect           1      8  Control\n",
       "8    Affect           1      9  Control\n",
       "9    Affect           1     10  Control"
      ]
     },
     "execution_count": 135,
     "metadata": {},
     "output_type": "execute_result"
    }
   ],
   "source": [
    "import pandas as pd\n",
    "\n",
    "# Create some variables\n",
    "trials = range(1, 21)\n",
    "n_rows = len(trials)\n",
    "subj_id = [1]*n_rows\n",
    "group = ['Control']*n_rows\n",
    "condition = ['Affect']*int((n_rows/2)) + ['Neutral']*int((n_rows/2))\n",
    "\n",
    "# Create a dictionary\n",
    "data = {'Condition':condition, 'Subject_ID':subj_id, \n",
    "        'Trial':trials, 'Group':group}\n",
    "\n",
    "# Create the dataframe\n",
    "df = pd.DataFrame(data)\n",
    "df.head(10)"
   ]
  },
  {
   "cell_type": "markdown",
   "id": "b3270f24-2247-4d3c-9faa-bf7e6cc6b105",
   "metadata": {},
   "source": [
    "#### 1. Select row five to 10 __without__ using loc / iloc\n"
   ]
  },
  {
   "cell_type": "code",
   "execution_count": null,
   "id": "62823b48-879d-4b65-90c2-726687536a8a",
   "metadata": {},
   "outputs": [],
   "source": []
  },
  {
   "cell_type": "markdown",
   "id": "6b07d36c-822b-4ef9-9c94-fde5575f9dc6",
   "metadata": {
    "jp-MarkdownHeadingCollapsed": true
   },
   "source": [
    "##### Asn"
   ]
  },
  {
   "cell_type": "code",
   "execution_count": 46,
   "id": "07c4ebce-bcf1-4f0b-b13e-6131411c912b",
   "metadata": {},
   "outputs": [
    {
     "data": {
      "text/html": [
       "<div>\n",
       "<style scoped>\n",
       "    .dataframe tbody tr th:only-of-type {\n",
       "        vertical-align: middle;\n",
       "    }\n",
       "\n",
       "    .dataframe tbody tr th {\n",
       "        vertical-align: top;\n",
       "    }\n",
       "\n",
       "    .dataframe thead th {\n",
       "        text-align: right;\n",
       "    }\n",
       "</style>\n",
       "<table border=\"1\" class=\"dataframe\">\n",
       "  <thead>\n",
       "    <tr style=\"text-align: right;\">\n",
       "      <th></th>\n",
       "      <th>Condition</th>\n",
       "      <th>Subject_ID</th>\n",
       "      <th>Trial</th>\n",
       "      <th>Group</th>\n",
       "    </tr>\n",
       "  </thead>\n",
       "  <tbody>\n",
       "    <tr>\n",
       "      <th>5</th>\n",
       "      <td>Affect</td>\n",
       "      <td>1</td>\n",
       "      <td>6</td>\n",
       "      <td>Control</td>\n",
       "    </tr>\n",
       "    <tr>\n",
       "      <th>6</th>\n",
       "      <td>Affect</td>\n",
       "      <td>1</td>\n",
       "      <td>7</td>\n",
       "      <td>Control</td>\n",
       "    </tr>\n",
       "    <tr>\n",
       "      <th>7</th>\n",
       "      <td>Affect</td>\n",
       "      <td>1</td>\n",
       "      <td>8</td>\n",
       "      <td>Control</td>\n",
       "    </tr>\n",
       "    <tr>\n",
       "      <th>8</th>\n",
       "      <td>Affect</td>\n",
       "      <td>1</td>\n",
       "      <td>9</td>\n",
       "      <td>Control</td>\n",
       "    </tr>\n",
       "    <tr>\n",
       "      <th>9</th>\n",
       "      <td>Affect</td>\n",
       "      <td>1</td>\n",
       "      <td>10</td>\n",
       "      <td>Control</td>\n",
       "    </tr>\n",
       "    <tr>\n",
       "      <th>10</th>\n",
       "      <td>Neutral</td>\n",
       "      <td>1</td>\n",
       "      <td>11</td>\n",
       "      <td>Control</td>\n",
       "    </tr>\n",
       "  </tbody>\n",
       "</table>\n",
       "</div>"
      ],
      "text/plain": [
       "   Condition  Subject_ID  Trial    Group\n",
       "5     Affect           1      6  Control\n",
       "6     Affect           1      7  Control\n",
       "7     Affect           1      8  Control\n",
       "8     Affect           1      9  Control\n",
       "9     Affect           1     10  Control\n",
       "10   Neutral           1     11  Control"
      ]
     },
     "execution_count": 46,
     "metadata": {},
     "output_type": "execute_result"
    }
   ],
   "source": [
    "# Select row five to 10 \n",
    "df[5:11:1] "
   ]
  },
  {
   "cell_type": "markdown",
   "id": "6992e902-3058-4840-a869-d861d6435ef5",
   "metadata": {},
   "source": [
    "#### 2. Select row five to 10 by using loc "
   ]
  },
  {
   "cell_type": "code",
   "execution_count": null,
   "id": "327e917a-b3c6-470c-8ffa-ff56033a585c",
   "metadata": {},
   "outputs": [],
   "source": []
  },
  {
   "cell_type": "markdown",
   "id": "d3c203bd-1acb-4331-a43b-1659f5d39c9a",
   "metadata": {
    "jp-MarkdownHeadingCollapsed": true
   },
   "source": [
    "##### Asn"
   ]
  },
  {
   "cell_type": "code",
   "execution_count": 23,
   "id": "4fccb915-9068-49c6-aaa3-9be4cbfd24e0",
   "metadata": {},
   "outputs": [
    {
     "data": {
      "text/html": [
       "<div>\n",
       "<style scoped>\n",
       "    .dataframe tbody tr th:only-of-type {\n",
       "        vertical-align: middle;\n",
       "    }\n",
       "\n",
       "    .dataframe tbody tr th {\n",
       "        vertical-align: top;\n",
       "    }\n",
       "\n",
       "    .dataframe thead th {\n",
       "        text-align: right;\n",
       "    }\n",
       "</style>\n",
       "<table border=\"1\" class=\"dataframe\">\n",
       "  <thead>\n",
       "    <tr style=\"text-align: right;\">\n",
       "      <th></th>\n",
       "      <th>Condition</th>\n",
       "      <th>Subject_ID</th>\n",
       "      <th>Trial</th>\n",
       "      <th>Group</th>\n",
       "    </tr>\n",
       "  </thead>\n",
       "  <tbody>\n",
       "    <tr>\n",
       "      <th>5</th>\n",
       "      <td>Affect</td>\n",
       "      <td>1</td>\n",
       "      <td>6</td>\n",
       "      <td>Control</td>\n",
       "    </tr>\n",
       "    <tr>\n",
       "      <th>6</th>\n",
       "      <td>Affect</td>\n",
       "      <td>1</td>\n",
       "      <td>7</td>\n",
       "      <td>Control</td>\n",
       "    </tr>\n",
       "    <tr>\n",
       "      <th>7</th>\n",
       "      <td>Affect</td>\n",
       "      <td>1</td>\n",
       "      <td>8</td>\n",
       "      <td>Control</td>\n",
       "    </tr>\n",
       "    <tr>\n",
       "      <th>8</th>\n",
       "      <td>Affect</td>\n",
       "      <td>1</td>\n",
       "      <td>9</td>\n",
       "      <td>Control</td>\n",
       "    </tr>\n",
       "    <tr>\n",
       "      <th>9</th>\n",
       "      <td>Affect</td>\n",
       "      <td>1</td>\n",
       "      <td>10</td>\n",
       "      <td>Control</td>\n",
       "    </tr>\n",
       "    <tr>\n",
       "      <th>10</th>\n",
       "      <td>Neutral</td>\n",
       "      <td>1</td>\n",
       "      <td>11</td>\n",
       "      <td>Control</td>\n",
       "    </tr>\n",
       "  </tbody>\n",
       "</table>\n",
       "</div>"
      ],
      "text/plain": [
       "   Condition  Subject_ID  Trial    Group\n",
       "5     Affect           1      6  Control\n",
       "6     Affect           1      7  Control\n",
       "7     Affect           1      8  Control\n",
       "8     Affect           1      9  Control\n",
       "9     Affect           1     10  Control\n",
       "10   Neutral           1     11  Control"
      ]
     },
     "execution_count": 23,
     "metadata": {},
     "output_type": "execute_result"
    }
   ],
   "source": [
    "df.loc[5:10 , :]  # df.loc[rowNum:rowNum , colNum:colNum]"
   ]
  },
  {
   "cell_type": "markdown",
   "id": "df86d183-814c-4059-aa3d-7ddab6a04271",
   "metadata": {},
   "source": [
    "#### 3. Show only the value from row number 0 under the \"Conditions\" column"
   ]
  },
  {
   "cell_type": "code",
   "execution_count": null,
   "id": "de887888-5051-47f2-aacd-09abfdcd776b",
   "metadata": {},
   "outputs": [],
   "source": []
  },
  {
   "cell_type": "markdown",
   "id": "7c5c6a38-1abc-4313-a55a-bc8acf736354",
   "metadata": {
    "jp-MarkdownHeadingCollapsed": true
   },
   "source": [
    "##### Asn"
   ]
  },
  {
   "cell_type": "code",
   "execution_count": 18,
   "id": "5ea18f40-90f3-4ea0-bf51-d49552c77977",
   "metadata": {},
   "outputs": [
    {
     "data": {
      "text/plain": [
       "'Affect'"
      ]
     },
     "execution_count": 18,
     "metadata": {},
     "output_type": "execute_result"
    }
   ],
   "source": [
    "df.loc[0, 'Condition']"
   ]
  },
  {
   "cell_type": "markdown",
   "id": "15b91bf2-c4d9-4ef3-a7c7-f6de45eadf97",
   "metadata": {},
   "source": [
    "#### 4.1  print only the \"Conditions\" column , show all rows"
   ]
  },
  {
   "cell_type": "code",
   "execution_count": null,
   "id": "9f040936-5afb-4939-aa55-bf950b2cbceb",
   "metadata": {},
   "outputs": [],
   "source": []
  },
  {
   "cell_type": "markdown",
   "id": "bd742957-c2d1-421c-aea9-30cbf4f702bd",
   "metadata": {
    "jp-MarkdownHeadingCollapsed": true
   },
   "source": [
    "##### Asn"
   ]
  },
  {
   "cell_type": "raw",
   "id": "386cb98d-2d68-4862-bf23-981b7178168f",
   "metadata": {},
   "source": [
    "df.iloc[: , [0]]"
   ]
  },
  {
   "cell_type": "code",
   "execution_count": 48,
   "id": "e46ab6b2-f390-4efa-b333-267adc9884f6",
   "metadata": {},
   "outputs": [
    {
     "data": {
      "text/html": [
       "<div>\n",
       "<style scoped>\n",
       "    .dataframe tbody tr th:only-of-type {\n",
       "        vertical-align: middle;\n",
       "    }\n",
       "\n",
       "    .dataframe tbody tr th {\n",
       "        vertical-align: top;\n",
       "    }\n",
       "\n",
       "    .dataframe thead th {\n",
       "        text-align: right;\n",
       "    }\n",
       "</style>\n",
       "<table border=\"1\" class=\"dataframe\">\n",
       "  <thead>\n",
       "    <tr style=\"text-align: right;\">\n",
       "      <th></th>\n",
       "      <th>Condition</th>\n",
       "    </tr>\n",
       "  </thead>\n",
       "  <tbody>\n",
       "    <tr>\n",
       "      <th>0</th>\n",
       "      <td>Affect</td>\n",
       "    </tr>\n",
       "    <tr>\n",
       "      <th>1</th>\n",
       "      <td>Affect</td>\n",
       "    </tr>\n",
       "    <tr>\n",
       "      <th>2</th>\n",
       "      <td>Affect</td>\n",
       "    </tr>\n",
       "    <tr>\n",
       "      <th>3</th>\n",
       "      <td>Affect</td>\n",
       "    </tr>\n",
       "    <tr>\n",
       "      <th>4</th>\n",
       "      <td>Affect</td>\n",
       "    </tr>\n",
       "    <tr>\n",
       "      <th>5</th>\n",
       "      <td>Affect</td>\n",
       "    </tr>\n",
       "    <tr>\n",
       "      <th>6</th>\n",
       "      <td>Affect</td>\n",
       "    </tr>\n",
       "    <tr>\n",
       "      <th>7</th>\n",
       "      <td>Affect</td>\n",
       "    </tr>\n",
       "    <tr>\n",
       "      <th>8</th>\n",
       "      <td>Affect</td>\n",
       "    </tr>\n",
       "    <tr>\n",
       "      <th>9</th>\n",
       "      <td>Affect</td>\n",
       "    </tr>\n",
       "    <tr>\n",
       "      <th>10</th>\n",
       "      <td>Neutral</td>\n",
       "    </tr>\n",
       "    <tr>\n",
       "      <th>11</th>\n",
       "      <td>Neutral</td>\n",
       "    </tr>\n",
       "    <tr>\n",
       "      <th>12</th>\n",
       "      <td>Neutral</td>\n",
       "    </tr>\n",
       "    <tr>\n",
       "      <th>13</th>\n",
       "      <td>Neutral</td>\n",
       "    </tr>\n",
       "    <tr>\n",
       "      <th>14</th>\n",
       "      <td>Neutral</td>\n",
       "    </tr>\n",
       "    <tr>\n",
       "      <th>15</th>\n",
       "      <td>Neutral</td>\n",
       "    </tr>\n",
       "    <tr>\n",
       "      <th>16</th>\n",
       "      <td>Neutral</td>\n",
       "    </tr>\n",
       "    <tr>\n",
       "      <th>17</th>\n",
       "      <td>Neutral</td>\n",
       "    </tr>\n",
       "    <tr>\n",
       "      <th>18</th>\n",
       "      <td>Neutral</td>\n",
       "    </tr>\n",
       "    <tr>\n",
       "      <th>19</th>\n",
       "      <td>Neutral</td>\n",
       "    </tr>\n",
       "  </tbody>\n",
       "</table>\n",
       "</div>"
      ],
      "text/plain": [
       "   Condition\n",
       "0     Affect\n",
       "1     Affect\n",
       "2     Affect\n",
       "3     Affect\n",
       "4     Affect\n",
       "5     Affect\n",
       "6     Affect\n",
       "7     Affect\n",
       "8     Affect\n",
       "9     Affect\n",
       "10   Neutral\n",
       "11   Neutral\n",
       "12   Neutral\n",
       "13   Neutral\n",
       "14   Neutral\n",
       "15   Neutral\n",
       "16   Neutral\n",
       "17   Neutral\n",
       "18   Neutral\n",
       "19   Neutral"
      ]
     },
     "execution_count": 48,
     "metadata": {},
     "output_type": "execute_result"
    }
   ],
   "source": [
    "# Printing out one column\n",
    "df.loc[:, ['Condition']]"
   ]
  },
  {
   "cell_type": "markdown",
   "id": "106f88b3-af49-43fd-a1da-4c1743bd08f5",
   "metadata": {},
   "source": [
    "#### 4.2  print only the \"Conditions\" and 'Group' column , show all rows"
   ]
  },
  {
   "cell_type": "code",
   "execution_count": null,
   "id": "22e19ade-4248-45af-a7e4-6e584defe1d2",
   "metadata": {},
   "outputs": [],
   "source": []
  },
  {
   "cell_type": "markdown",
   "id": "3304c6a4-41ae-4b79-af37-6eeeec1f60fd",
   "metadata": {
    "jp-MarkdownHeadingCollapsed": true
   },
   "source": [
    "##### Asn"
   ]
  },
  {
   "cell_type": "code",
   "execution_count": 28,
   "id": "db9fa03d-20f1-4b69-8365-1457435c3626",
   "metadata": {},
   "outputs": [
    {
     "data": {
      "text/html": [
       "<div>\n",
       "<style scoped>\n",
       "    .dataframe tbody tr th:only-of-type {\n",
       "        vertical-align: middle;\n",
       "    }\n",
       "\n",
       "    .dataframe tbody tr th {\n",
       "        vertical-align: top;\n",
       "    }\n",
       "\n",
       "    .dataframe thead th {\n",
       "        text-align: right;\n",
       "    }\n",
       "</style>\n",
       "<table border=\"1\" class=\"dataframe\">\n",
       "  <thead>\n",
       "    <tr style=\"text-align: right;\">\n",
       "      <th></th>\n",
       "      <th>Condition</th>\n",
       "      <th>Group</th>\n",
       "    </tr>\n",
       "  </thead>\n",
       "  <tbody>\n",
       "    <tr>\n",
       "      <th>0</th>\n",
       "      <td>Affect</td>\n",
       "      <td>Control</td>\n",
       "    </tr>\n",
       "    <tr>\n",
       "      <th>1</th>\n",
       "      <td>Affect</td>\n",
       "      <td>Control</td>\n",
       "    </tr>\n",
       "    <tr>\n",
       "      <th>2</th>\n",
       "      <td>Affect</td>\n",
       "      <td>Control</td>\n",
       "    </tr>\n",
       "    <tr>\n",
       "      <th>3</th>\n",
       "      <td>Affect</td>\n",
       "      <td>Control</td>\n",
       "    </tr>\n",
       "    <tr>\n",
       "      <th>4</th>\n",
       "      <td>Affect</td>\n",
       "      <td>Control</td>\n",
       "    </tr>\n",
       "    <tr>\n",
       "      <th>5</th>\n",
       "      <td>Affect</td>\n",
       "      <td>Control</td>\n",
       "    </tr>\n",
       "    <tr>\n",
       "      <th>6</th>\n",
       "      <td>Affect</td>\n",
       "      <td>Control</td>\n",
       "    </tr>\n",
       "    <tr>\n",
       "      <th>7</th>\n",
       "      <td>Affect</td>\n",
       "      <td>Control</td>\n",
       "    </tr>\n",
       "    <tr>\n",
       "      <th>8</th>\n",
       "      <td>Affect</td>\n",
       "      <td>Control</td>\n",
       "    </tr>\n",
       "    <tr>\n",
       "      <th>9</th>\n",
       "      <td>Affect</td>\n",
       "      <td>Control</td>\n",
       "    </tr>\n",
       "    <tr>\n",
       "      <th>10</th>\n",
       "      <td>Neutral</td>\n",
       "      <td>Control</td>\n",
       "    </tr>\n",
       "    <tr>\n",
       "      <th>11</th>\n",
       "      <td>Neutral</td>\n",
       "      <td>Control</td>\n",
       "    </tr>\n",
       "    <tr>\n",
       "      <th>12</th>\n",
       "      <td>Neutral</td>\n",
       "      <td>Control</td>\n",
       "    </tr>\n",
       "    <tr>\n",
       "      <th>13</th>\n",
       "      <td>Neutral</td>\n",
       "      <td>Control</td>\n",
       "    </tr>\n",
       "    <tr>\n",
       "      <th>14</th>\n",
       "      <td>Neutral</td>\n",
       "      <td>Control</td>\n",
       "    </tr>\n",
       "    <tr>\n",
       "      <th>15</th>\n",
       "      <td>Neutral</td>\n",
       "      <td>Control</td>\n",
       "    </tr>\n",
       "    <tr>\n",
       "      <th>16</th>\n",
       "      <td>Neutral</td>\n",
       "      <td>Control</td>\n",
       "    </tr>\n",
       "    <tr>\n",
       "      <th>17</th>\n",
       "      <td>Neutral</td>\n",
       "      <td>Control</td>\n",
       "    </tr>\n",
       "    <tr>\n",
       "      <th>18</th>\n",
       "      <td>Neutral</td>\n",
       "      <td>Control</td>\n",
       "    </tr>\n",
       "    <tr>\n",
       "      <th>19</th>\n",
       "      <td>Neutral</td>\n",
       "      <td>Control</td>\n",
       "    </tr>\n",
       "  </tbody>\n",
       "</table>\n",
       "</div>"
      ],
      "text/plain": [
       "   Condition    Group\n",
       "0     Affect  Control\n",
       "1     Affect  Control\n",
       "2     Affect  Control\n",
       "3     Affect  Control\n",
       "4     Affect  Control\n",
       "5     Affect  Control\n",
       "6     Affect  Control\n",
       "7     Affect  Control\n",
       "8     Affect  Control\n",
       "9     Affect  Control\n",
       "10   Neutral  Control\n",
       "11   Neutral  Control\n",
       "12   Neutral  Control\n",
       "13   Neutral  Control\n",
       "14   Neutral  Control\n",
       "15   Neutral  Control\n",
       "16   Neutral  Control\n",
       "17   Neutral  Control\n",
       "18   Neutral  Control\n",
       "19   Neutral  Control"
      ]
     },
     "execution_count": 28,
     "metadata": {},
     "output_type": "execute_result"
    }
   ],
   "source": [
    "# Printing out two columns\n",
    "df.loc[:, ['Condition', 'Group']]"
   ]
  },
  {
   "cell_type": "markdown",
   "id": "244cfea8-5c68-403d-9452-63bffc7f81ac",
   "metadata": {},
   "source": [
    "#### 5. Combine your answer from question 2 and question 4.2"
   ]
  },
  {
   "cell_type": "code",
   "execution_count": null,
   "id": "f3300bc0-8550-47f4-a4d9-1499eb3311eb",
   "metadata": {},
   "outputs": [],
   "source": []
  },
  {
   "cell_type": "markdown",
   "id": "70b7d5fa-097b-46ad-9e5d-8975b97319e4",
   "metadata": {
    "jp-MarkdownHeadingCollapsed": true
   },
   "source": [
    "##### Asn"
   ]
  },
  {
   "cell_type": "code",
   "execution_count": 8,
   "id": "25fbae0e-4f9c-445c-97cf-1299719835ba",
   "metadata": {},
   "outputs": [
    {
     "data": {
      "text/html": [
       "<div>\n",
       "<style scoped>\n",
       "    .dataframe tbody tr th:only-of-type {\n",
       "        vertical-align: middle;\n",
       "    }\n",
       "\n",
       "    .dataframe tbody tr th {\n",
       "        vertical-align: top;\n",
       "    }\n",
       "\n",
       "    .dataframe thead th {\n",
       "        text-align: right;\n",
       "    }\n",
       "</style>\n",
       "<table border=\"1\" class=\"dataframe\">\n",
       "  <thead>\n",
       "    <tr style=\"text-align: right;\">\n",
       "      <th></th>\n",
       "      <th>Condition</th>\n",
       "      <th>Group</th>\n",
       "    </tr>\n",
       "  </thead>\n",
       "  <tbody>\n",
       "    <tr>\n",
       "      <th>4</th>\n",
       "      <td>Affect</td>\n",
       "      <td>Control</td>\n",
       "    </tr>\n",
       "    <tr>\n",
       "      <th>5</th>\n",
       "      <td>Affect</td>\n",
       "      <td>Control</td>\n",
       "    </tr>\n",
       "    <tr>\n",
       "      <th>6</th>\n",
       "      <td>Affect</td>\n",
       "      <td>Control</td>\n",
       "    </tr>\n",
       "    <tr>\n",
       "      <th>7</th>\n",
       "      <td>Affect</td>\n",
       "      <td>Control</td>\n",
       "    </tr>\n",
       "    <tr>\n",
       "      <th>8</th>\n",
       "      <td>Affect</td>\n",
       "      <td>Control</td>\n",
       "    </tr>\n",
       "    <tr>\n",
       "      <th>9</th>\n",
       "      <td>Affect</td>\n",
       "      <td>Control</td>\n",
       "    </tr>\n",
       "  </tbody>\n",
       "</table>\n",
       "</div>"
      ],
      "text/plain": [
       "  Condition    Group\n",
       "4    Affect  Control\n",
       "5    Affect  Control\n",
       "6    Affect  Control\n",
       "7    Affect  Control\n",
       "8    Affect  Control\n",
       "9    Affect  Control"
      ]
     },
     "execution_count": 8,
     "metadata": {},
     "output_type": "execute_result"
    }
   ],
   "source": [
    "# Printing out from second column\n",
    "df.loc[4:9, ['Condition', 'Group']]"
   ]
  },
  {
   "cell_type": "markdown",
   "id": "1a30379e-07cd-47e9-bc9e-deb0b89c24bd",
   "metadata": {},
   "source": [
    "#### 6. According to the slice you made in question 2: display the columns starting from the  'Subject_ID' column and forward and display again starting from 'Trial' column and forward"
   ]
  },
  {
   "cell_type": "code",
   "execution_count": null,
   "id": "0775c9b5-833b-45d7-8402-1aa541606999",
   "metadata": {},
   "outputs": [],
   "source": []
  },
  {
   "cell_type": "markdown",
   "id": "d2fd20ad-e3db-4f4e-850c-3d9b231c18a5",
   "metadata": {
    "jp-MarkdownHeadingCollapsed": true
   },
   "source": [
    "##### Asn"
   ]
  },
  {
   "cell_type": "code",
   "execution_count": 24,
   "id": "d64a1a05-659c-4588-ad2c-e49f714c864a",
   "metadata": {},
   "outputs": [
    {
     "data": {
      "text/html": [
       "<div>\n",
       "<style scoped>\n",
       "    .dataframe tbody tr th:only-of-type {\n",
       "        vertical-align: middle;\n",
       "    }\n",
       "\n",
       "    .dataframe tbody tr th {\n",
       "        vertical-align: top;\n",
       "    }\n",
       "\n",
       "    .dataframe thead th {\n",
       "        text-align: right;\n",
       "    }\n",
       "</style>\n",
       "<table border=\"1\" class=\"dataframe\">\n",
       "  <thead>\n",
       "    <tr style=\"text-align: right;\">\n",
       "      <th></th>\n",
       "      <th>Trial</th>\n",
       "      <th>Group</th>\n",
       "    </tr>\n",
       "  </thead>\n",
       "  <tbody>\n",
       "    <tr>\n",
       "      <th>4</th>\n",
       "      <td>5</td>\n",
       "      <td>Control</td>\n",
       "    </tr>\n",
       "    <tr>\n",
       "      <th>5</th>\n",
       "      <td>6</td>\n",
       "      <td>Control</td>\n",
       "    </tr>\n",
       "    <tr>\n",
       "      <th>6</th>\n",
       "      <td>7</td>\n",
       "      <td>Control</td>\n",
       "    </tr>\n",
       "    <tr>\n",
       "      <th>7</th>\n",
       "      <td>8</td>\n",
       "      <td>Control</td>\n",
       "    </tr>\n",
       "    <tr>\n",
       "      <th>8</th>\n",
       "      <td>9</td>\n",
       "      <td>Control</td>\n",
       "    </tr>\n",
       "    <tr>\n",
       "      <th>9</th>\n",
       "      <td>10</td>\n",
       "      <td>Control</td>\n",
       "    </tr>\n",
       "  </tbody>\n",
       "</table>\n",
       "</div>"
      ],
      "text/plain": [
       "   Trial    Group\n",
       "4      5  Control\n",
       "5      6  Control\n",
       "6      7  Control\n",
       "7      8  Control\n",
       "8      9  Control\n",
       "9     10  Control"
      ]
     },
     "execution_count": 24,
     "metadata": {},
     "output_type": "execute_result"
    }
   ],
   "source": [
    "# From column 'Subject_ID' and forward\n",
    "df.loc[4:9, 'Subject_ID':]\n",
    "\n",
    "# From column 'Trial' and forward\n",
    "df.loc[4:9, 'Trial':]"
   ]
  },
  {
   "cell_type": "markdown",
   "id": "fd6b0302-b0cd-4707-a221-ba14064a05a8",
   "metadata": {},
   "source": [
    "#### 7.1 Display the same dataframe as you did in question #1 by using __iloc__"
   ]
  },
  {
   "cell_type": "code",
   "execution_count": null,
   "id": "d2c8b28f-10f3-4489-9700-c420e9484bce",
   "metadata": {},
   "outputs": [],
   "source": []
  },
  {
   "cell_type": "markdown",
   "id": "6d76c143-ccb1-449a-a0d5-6347b1d793a2",
   "metadata": {
    "jp-MarkdownHeadingCollapsed": true
   },
   "source": [
    "##### Asn"
   ]
  },
  {
   "cell_type": "code",
   "execution_count": 10,
   "id": "b57fa237-216e-4530-a664-1ea6bf6263de",
   "metadata": {},
   "outputs": [
    {
     "data": {
      "text/html": [
       "<div>\n",
       "<style scoped>\n",
       "    .dataframe tbody tr th:only-of-type {\n",
       "        vertical-align: middle;\n",
       "    }\n",
       "\n",
       "    .dataframe tbody tr th {\n",
       "        vertical-align: top;\n",
       "    }\n",
       "\n",
       "    .dataframe thead th {\n",
       "        text-align: right;\n",
       "    }\n",
       "</style>\n",
       "<table border=\"1\" class=\"dataframe\">\n",
       "  <thead>\n",
       "    <tr style=\"text-align: right;\">\n",
       "      <th></th>\n",
       "      <th>Condition</th>\n",
       "      <th>Subject_ID</th>\n",
       "      <th>Trial</th>\n",
       "      <th>Group</th>\n",
       "    </tr>\n",
       "  </thead>\n",
       "  <tbody>\n",
       "    <tr>\n",
       "      <th>4</th>\n",
       "      <td>Affect</td>\n",
       "      <td>1</td>\n",
       "      <td>5</td>\n",
       "      <td>Control</td>\n",
       "    </tr>\n",
       "    <tr>\n",
       "      <th>5</th>\n",
       "      <td>Affect</td>\n",
       "      <td>1</td>\n",
       "      <td>6</td>\n",
       "      <td>Control</td>\n",
       "    </tr>\n",
       "    <tr>\n",
       "      <th>6</th>\n",
       "      <td>Affect</td>\n",
       "      <td>1</td>\n",
       "      <td>7</td>\n",
       "      <td>Control</td>\n",
       "    </tr>\n",
       "    <tr>\n",
       "      <th>7</th>\n",
       "      <td>Affect</td>\n",
       "      <td>1</td>\n",
       "      <td>8</td>\n",
       "      <td>Control</td>\n",
       "    </tr>\n",
       "    <tr>\n",
       "      <th>8</th>\n",
       "      <td>Affect</td>\n",
       "      <td>1</td>\n",
       "      <td>9</td>\n",
       "      <td>Control</td>\n",
       "    </tr>\n",
       "    <tr>\n",
       "      <th>9</th>\n",
       "      <td>Affect</td>\n",
       "      <td>1</td>\n",
       "      <td>10</td>\n",
       "      <td>Control</td>\n",
       "    </tr>\n",
       "  </tbody>\n",
       "</table>\n",
       "</div>"
      ],
      "text/plain": [
       "  Condition  Subject_ID  Trial    Group\n",
       "4    Affect           1      5  Control\n",
       "5    Affect           1      6  Control\n",
       "6    Affect           1      7  Control\n",
       "7    Affect           1      8  Control\n",
       "8    Affect           1      9  Control\n",
       "9    Affect           1     10  Control"
      ]
     },
     "execution_count": 10,
     "metadata": {},
     "output_type": "execute_result"
    }
   ],
   "source": [
    "# Printing out fifth to the twentieth row and all columns\n",
    "# Note the difference!\n",
    "df.iloc[4:10,:]"
   ]
  },
  {
   "cell_type": "markdown",
   "id": "e2339fea-3887-4b73-9be4-ca20ed5b0eb9",
   "metadata": {},
   "source": [
    "#### 7.2 Now show only the first column"
   ]
  },
  {
   "cell_type": "code",
   "execution_count": null,
   "id": "5f3248f7-1a13-4a85-834e-32c23729579c",
   "metadata": {},
   "outputs": [],
   "source": []
  },
  {
   "cell_type": "markdown",
   "id": "3ca22380-83e9-4970-a94f-974c1ac3d015",
   "metadata": {
    "jp-MarkdownHeadingCollapsed": true
   },
   "source": [
    "##### Asn"
   ]
  },
  {
   "cell_type": "code",
   "execution_count": 11,
   "id": "7d23b4e9-aa29-4d03-a8ff-6fabeb4b6f87",
   "metadata": {},
   "outputs": [
    {
     "data": {
      "text/plain": [
       "4    Affect\n",
       "5    Affect\n",
       "6    Affect\n",
       "7    Affect\n",
       "8    Affect\n",
       "9    Affect\n",
       "Name: Condition, dtype: object"
      ]
     },
     "execution_count": 11,
     "metadata": {},
     "output_type": "execute_result"
    }
   ],
   "source": [
    "df.iloc[4:10, 0]"
   ]
  },
  {
   "cell_type": "markdown",
   "id": "c8301abe-5410-4a6d-82f6-631d4d1656df",
   "metadata": {},
   "source": [
    "#### 7.3 Display the first and last column by using __iloc__ , show all rows"
   ]
  },
  {
   "cell_type": "code",
   "execution_count": null,
   "id": "d3f687a8-2740-4968-aadd-276478e26228",
   "metadata": {},
   "outputs": [],
   "source": []
  },
  {
   "cell_type": "markdown",
   "id": "fa922089-7593-4474-ace0-526ae50be027",
   "metadata": {
    "jp-MarkdownHeadingCollapsed": true
   },
   "source": [
    "##### Asn"
   ]
  },
  {
   "cell_type": "code",
   "execution_count": 47,
   "id": "e8dc4b05-d32e-4300-88e8-c207a598c2f1",
   "metadata": {},
   "outputs": [
    {
     "data": {
      "text/html": [
       "<div>\n",
       "<style scoped>\n",
       "    .dataframe tbody tr th:only-of-type {\n",
       "        vertical-align: middle;\n",
       "    }\n",
       "\n",
       "    .dataframe tbody tr th {\n",
       "        vertical-align: top;\n",
       "    }\n",
       "\n",
       "    .dataframe thead th {\n",
       "        text-align: right;\n",
       "    }\n",
       "</style>\n",
       "<table border=\"1\" class=\"dataframe\">\n",
       "  <thead>\n",
       "    <tr style=\"text-align: right;\">\n",
       "      <th></th>\n",
       "      <th>Condition</th>\n",
       "      <th>Group</th>\n",
       "    </tr>\n",
       "  </thead>\n",
       "  <tbody>\n",
       "    <tr>\n",
       "      <th>4</th>\n",
       "      <td>Affect</td>\n",
       "      <td>Control</td>\n",
       "    </tr>\n",
       "    <tr>\n",
       "      <th>5</th>\n",
       "      <td>Affect</td>\n",
       "      <td>Control</td>\n",
       "    </tr>\n",
       "    <tr>\n",
       "      <th>6</th>\n",
       "      <td>Affect</td>\n",
       "      <td>Control</td>\n",
       "    </tr>\n",
       "    <tr>\n",
       "      <th>7</th>\n",
       "      <td>Affect</td>\n",
       "      <td>Control</td>\n",
       "    </tr>\n",
       "    <tr>\n",
       "      <th>8</th>\n",
       "      <td>Affect</td>\n",
       "      <td>Control</td>\n",
       "    </tr>\n",
       "    <tr>\n",
       "      <th>9</th>\n",
       "      <td>Affect</td>\n",
       "      <td>Control</td>\n",
       "    </tr>\n",
       "  </tbody>\n",
       "</table>\n",
       "</div>"
      ],
      "text/plain": [
       "  Condition    Group\n",
       "4    Affect  Control\n",
       "5    Affect  Control\n",
       "6    Affect  Control\n",
       "7    Affect  Control\n",
       "8    Affect  Control\n",
       "9    Affect  Control"
      ]
     },
     "execution_count": 47,
     "metadata": {},
     "output_type": "execute_result"
    }
   ],
   "source": [
    "df.iloc[4:10, [0, 3]]"
   ]
  },
  {
   "cell_type": "markdown",
   "id": "b6adbd61-74c9-42f0-813b-442c839da8ec",
   "metadata": {},
   "source": [
    "#### 7.4 Show all columns except the first column"
   ]
  },
  {
   "cell_type": "code",
   "execution_count": null,
   "id": "07c6d236-4897-440a-b813-76b89bf34c88",
   "metadata": {},
   "outputs": [],
   "source": []
  },
  {
   "cell_type": "markdown",
   "id": "09a9eeec-d471-4ae5-949b-c5c39b225a53",
   "metadata": {
    "jp-MarkdownHeadingCollapsed": true
   },
   "source": [
    "##### Asn"
   ]
  },
  {
   "cell_type": "code",
   "execution_count": 13,
   "id": "0c4bd1c8-8fe8-4878-ba1d-6302607fd3c2",
   "metadata": {},
   "outputs": [
    {
     "data": {
      "text/html": [
       "<div>\n",
       "<style scoped>\n",
       "    .dataframe tbody tr th:only-of-type {\n",
       "        vertical-align: middle;\n",
       "    }\n",
       "\n",
       "    .dataframe tbody tr th {\n",
       "        vertical-align: top;\n",
       "    }\n",
       "\n",
       "    .dataframe thead th {\n",
       "        text-align: right;\n",
       "    }\n",
       "</style>\n",
       "<table border=\"1\" class=\"dataframe\">\n",
       "  <thead>\n",
       "    <tr style=\"text-align: right;\">\n",
       "      <th></th>\n",
       "      <th>Subject_ID</th>\n",
       "      <th>Trial</th>\n",
       "      <th>Group</th>\n",
       "    </tr>\n",
       "  </thead>\n",
       "  <tbody>\n",
       "    <tr>\n",
       "      <th>4</th>\n",
       "      <td>1</td>\n",
       "      <td>5</td>\n",
       "      <td>Control</td>\n",
       "    </tr>\n",
       "    <tr>\n",
       "      <th>5</th>\n",
       "      <td>1</td>\n",
       "      <td>6</td>\n",
       "      <td>Control</td>\n",
       "    </tr>\n",
       "    <tr>\n",
       "      <th>6</th>\n",
       "      <td>1</td>\n",
       "      <td>7</td>\n",
       "      <td>Control</td>\n",
       "    </tr>\n",
       "    <tr>\n",
       "      <th>7</th>\n",
       "      <td>1</td>\n",
       "      <td>8</td>\n",
       "      <td>Control</td>\n",
       "    </tr>\n",
       "    <tr>\n",
       "      <th>8</th>\n",
       "      <td>1</td>\n",
       "      <td>9</td>\n",
       "      <td>Control</td>\n",
       "    </tr>\n",
       "    <tr>\n",
       "      <th>9</th>\n",
       "      <td>1</td>\n",
       "      <td>10</td>\n",
       "      <td>Control</td>\n",
       "    </tr>\n",
       "  </tbody>\n",
       "</table>\n",
       "</div>"
      ],
      "text/plain": [
       "   Subject_ID  Trial    Group\n",
       "4           1      5  Control\n",
       "5           1      6  Control\n",
       "6           1      7  Control\n",
       "7           1      8  Control\n",
       "8           1      9  Control\n",
       "9           1     10  Control"
      ]
     },
     "execution_count": 13,
     "metadata": {},
     "output_type": "execute_result"
    }
   ],
   "source": [
    "df.iloc[4:10, 1:]"
   ]
  },
  {
   "cell_type": "markdown",
   "id": "b2e1c4b7-2229-4cc8-9204-c623b4da5801",
   "metadata": {},
   "source": [
    "#### 8 According to the following line of code - what do you think will be displayed in the output?"
   ]
  },
  {
   "cell_type": "raw",
   "id": "333b42c8-2f4c-4dc7-bdc5-9e8424fb28a2",
   "metadata": {},
   "source": [
    "# change this line from Raw to Code\n",
    "df.iloc[4:10, ['Condition']]"
   ]
  },
  {
   "cell_type": "markdown",
   "id": "446148ce-99e4-45f9-95ae-a55ddb4a52dc",
   "metadata": {
    "slideshow": {
     "slide_type": ""
    },
    "tags": []
   },
   "source": [
    "### [▲](#up)\n",
    "---"
   ]
  },
  {
   "cell_type": "markdown",
   "id": "c9bc64ec-343e-4fa7-a9db-c526c518229a",
   "metadata": {},
   "source": [
    "<a id='section3'></a>\n",
    "\n",
    "<div style=\"color:white;border-radius:10px; padding-top: 2px; padding-bottom: 0px;\n",
    "            background-color:#03112A;font-size:150%;\n",
    "            letter-spacing:1.0px;color:white; text-align: center;\"><b><b><span style='color:#2ae4f5''> </span></b> conditional selection </b></p>\n",
    "</div>\n",
    "\n"
   ]
  },
  {
   "cell_type": "markdown",
   "id": "81934737-e96f-48fa-b3fc-d71ca64ceb92",
   "metadata": {},
   "source": [
    "\n",
    "#### Summary of the functions in unit 2:\n",
    "\n",
    "\n",
    ">* `.index.values` - the row indexes of this part of the dataframes\n",
    ">* `.str.contains` - selects rows and columns that contain a string\n",
    ">* `.max` - maximum value\n",
    ">* `.mean` - average value\n",
    ">* `.count` - the number of rows that contain a value\n",
    ">* `len()` - dataframe length"
   ]
  },
  {
   "cell_type": "code",
   "execution_count": 80,
   "id": "2126dc7d-466f-4317-98e2-dd0507d32dea",
   "metadata": {},
   "outputs": [],
   "source": [
    "url = 'https://raw.githubusercontent.com/Razelbaz1/exercises-package/master/data/titanic.csv'\n",
    "titanic_df = pd.read_csv(url, encoding= 'latin1')"
   ]
  },
  {
   "cell_type": "raw",
   "id": "5b953f42-536f-4014-955d-a2e05194e991",
   "metadata": {},
   "source": [
    "titanic_df = pd.read_csv('titanic.csv',encoding='latin1')\n",
    "titanic_df.head(5)"
   ]
  },
  {
   "cell_type": "code",
   "execution_count": 56,
   "id": "25c9ae05-dfc9-4617-9d41-4d97736277b2",
   "metadata": {},
   "outputs": [
    {
     "data": {
      "text/plain": [
       "Index(['row.names', 'pclass', 'survived', 'name', 'age', 'embarked',\n",
       "       'home.dest', 'room', 'ticket', 'boat', 'sex'],\n",
       "      dtype='object')"
      ]
     },
     "execution_count": 56,
     "metadata": {},
     "output_type": "execute_result"
    }
   ],
   "source": [
    "titanic_df.columns"
   ]
  },
  {
   "cell_type": "markdown",
   "id": "f0616225-1665-4c9e-b374-745c32577ccb",
   "metadata": {},
   "source": [
    "#### 1. Display a table so that you see all the passengers who belong to the third class\n",
    "##### For your convenience, the list of columns is given"
   ]
  },
  {
   "cell_type": "code",
   "execution_count": null,
   "id": "97a3a665-1402-43dd-b173-8bb917ab8cbc",
   "metadata": {},
   "outputs": [],
   "source": []
  },
  {
   "cell_type": "markdown",
   "id": "7196a442-ead9-4086-9cad-4696e0dfafed",
   "metadata": {
    "jp-MarkdownHeadingCollapsed": true
   },
   "source": [
    "##### Asn"
   ]
  },
  {
   "cell_type": "code",
   "execution_count": 61,
   "id": "8f17313d-dd1f-4dd2-b260-919250268b52",
   "metadata": {},
   "outputs": [
    {
     "data": {
      "text/html": [
       "<div>\n",
       "<style scoped>\n",
       "    .dataframe tbody tr th:only-of-type {\n",
       "        vertical-align: middle;\n",
       "    }\n",
       "\n",
       "    .dataframe tbody tr th {\n",
       "        vertical-align: top;\n",
       "    }\n",
       "\n",
       "    .dataframe thead th {\n",
       "        text-align: right;\n",
       "    }\n",
       "</style>\n",
       "<table border=\"1\" class=\"dataframe\">\n",
       "  <thead>\n",
       "    <tr style=\"text-align: right;\">\n",
       "      <th></th>\n",
       "      <th>row.names</th>\n",
       "      <th>pclass</th>\n",
       "      <th>survived</th>\n",
       "      <th>name</th>\n",
       "      <th>age</th>\n",
       "      <th>embarked</th>\n",
       "      <th>home.dest</th>\n",
       "      <th>room</th>\n",
       "      <th>ticket</th>\n",
       "      <th>boat</th>\n",
       "      <th>sex</th>\n",
       "    </tr>\n",
       "  </thead>\n",
       "  <tbody>\n",
       "    <tr>\n",
       "      <th>602</th>\n",
       "      <td>603</td>\n",
       "      <td>3rd</td>\n",
       "      <td>0</td>\n",
       "      <td>Abbing, Mr Anthony</td>\n",
       "      <td>42.0</td>\n",
       "      <td>Southampton</td>\n",
       "      <td>NaN</td>\n",
       "      <td>NaN</td>\n",
       "      <td>NaN</td>\n",
       "      <td>NaN</td>\n",
       "      <td>male</td>\n",
       "    </tr>\n",
       "    <tr>\n",
       "      <th>603</th>\n",
       "      <td>604</td>\n",
       "      <td>3rd</td>\n",
       "      <td>0</td>\n",
       "      <td>Abbott, Master Eugene Joseph</td>\n",
       "      <td>13.0</td>\n",
       "      <td>Southampton</td>\n",
       "      <td>East Providence, RI</td>\n",
       "      <td>NaN</td>\n",
       "      <td>NaN</td>\n",
       "      <td>NaN</td>\n",
       "      <td>male</td>\n",
       "    </tr>\n",
       "    <tr>\n",
       "      <th>604</th>\n",
       "      <td>605</td>\n",
       "      <td>3rd</td>\n",
       "      <td>0</td>\n",
       "      <td>Abbott, Mr Rossmore Edward</td>\n",
       "      <td>16.0</td>\n",
       "      <td>Southampton</td>\n",
       "      <td>East Providence, RI</td>\n",
       "      <td>NaN</td>\n",
       "      <td>NaN</td>\n",
       "      <td>-190</td>\n",
       "      <td>male</td>\n",
       "    </tr>\n",
       "    <tr>\n",
       "      <th>605</th>\n",
       "      <td>606</td>\n",
       "      <td>3rd</td>\n",
       "      <td>1</td>\n",
       "      <td>Abbott, Mrs Stanton (Rosa)</td>\n",
       "      <td>35.0</td>\n",
       "      <td>Southampton</td>\n",
       "      <td>East Providence, RI</td>\n",
       "      <td>NaN</td>\n",
       "      <td>NaN</td>\n",
       "      <td>A</td>\n",
       "      <td>female</td>\n",
       "    </tr>\n",
       "    <tr>\n",
       "      <th>606</th>\n",
       "      <td>607</td>\n",
       "      <td>3rd</td>\n",
       "      <td>1</td>\n",
       "      <td>Abelseth, Miss Anna Karen</td>\n",
       "      <td>16.0</td>\n",
       "      <td>Southampton</td>\n",
       "      <td>Norway Los Angeles, CA</td>\n",
       "      <td>NaN</td>\n",
       "      <td>NaN</td>\n",
       "      <td>16</td>\n",
       "      <td>female</td>\n",
       "    </tr>\n",
       "  </tbody>\n",
       "</table>\n",
       "</div>"
      ],
      "text/plain": [
       "     row.names pclass  survived                          name   age  \\\n",
       "602        603    3rd         0            Abbing, Mr Anthony  42.0   \n",
       "603        604    3rd         0  Abbott, Master Eugene Joseph  13.0   \n",
       "604        605    3rd         0    Abbott, Mr Rossmore Edward  16.0   \n",
       "605        606    3rd         1    Abbott, Mrs Stanton (Rosa)  35.0   \n",
       "606        607    3rd         1     Abelseth, Miss Anna Karen  16.0   \n",
       "\n",
       "        embarked               home.dest room ticket  boat     sex  \n",
       "602  Southampton                     NaN  NaN    NaN   NaN    male  \n",
       "603  Southampton     East Providence, RI  NaN    NaN   NaN    male  \n",
       "604  Southampton     East Providence, RI  NaN    NaN  -190    male  \n",
       "605  Southampton     East Providence, RI  NaN    NaN     A  female  \n",
       "606  Southampton  Norway Los Angeles, CA  NaN    NaN    16  female  "
      ]
     },
     "execution_count": 61,
     "metadata": {},
     "output_type": "execute_result"
    }
   ],
   "source": [
    "titanic_df[titanic_df.loc[:,'pclass'] == '3rd' ].head()"
   ]
  },
  {
   "cell_type": "markdown",
   "id": "62b5fe91-fea7-48dd-9dff-3f25a2c0727c",
   "metadata": {},
   "source": [
    "#### 2. Display a table so that you see all the passengers belonging to the third <ins>**or**</ins> second class"
   ]
  },
  {
   "cell_type": "code",
   "execution_count": null,
   "id": "c284d87f-9a94-41e6-ac01-8b23a81d7376",
   "metadata": {},
   "outputs": [],
   "source": []
  },
  {
   "cell_type": "markdown",
   "id": "83e7abc7-87e0-4ba2-ba06-41c146f34386",
   "metadata": {
    "jp-MarkdownHeadingCollapsed": true
   },
   "source": [
    "##### Asn"
   ]
  },
  {
   "cell_type": "code",
   "execution_count": 15,
   "id": "6ec86afb-1210-491f-b575-1db2775bd979",
   "metadata": {},
   "outputs": [
    {
     "data": {
      "text/html": [
       "<div>\n",
       "<style scoped>\n",
       "    .dataframe tbody tr th:only-of-type {\n",
       "        vertical-align: middle;\n",
       "    }\n",
       "\n",
       "    .dataframe tbody tr th {\n",
       "        vertical-align: top;\n",
       "    }\n",
       "\n",
       "    .dataframe thead th {\n",
       "        text-align: right;\n",
       "    }\n",
       "</style>\n",
       "<table border=\"1\" class=\"dataframe\">\n",
       "  <thead>\n",
       "    <tr style=\"text-align: right;\">\n",
       "      <th></th>\n",
       "      <th>row.names</th>\n",
       "      <th>pclass</th>\n",
       "      <th>survived</th>\n",
       "      <th>name</th>\n",
       "      <th>age</th>\n",
       "      <th>embarked</th>\n",
       "      <th>home.dest</th>\n",
       "      <th>room</th>\n",
       "      <th>ticket</th>\n",
       "      <th>boat</th>\n",
       "      <th>sex</th>\n",
       "    </tr>\n",
       "  </thead>\n",
       "  <tbody>\n",
       "    <tr>\n",
       "      <th>322</th>\n",
       "      <td>323</td>\n",
       "      <td>2nd</td>\n",
       "      <td>0</td>\n",
       "      <td>Abelson, Mr Samuel</td>\n",
       "      <td>30.0</td>\n",
       "      <td>Cherbourg</td>\n",
       "      <td>Russia New York, NY</td>\n",
       "      <td>NaN</td>\n",
       "      <td>NaN</td>\n",
       "      <td>NaN</td>\n",
       "      <td>male</td>\n",
       "    </tr>\n",
       "    <tr>\n",
       "      <th>323</th>\n",
       "      <td>324</td>\n",
       "      <td>2nd</td>\n",
       "      <td>1</td>\n",
       "      <td>Abelson, Mrs Samuel (Anna)</td>\n",
       "      <td>28.0</td>\n",
       "      <td>Cherbourg</td>\n",
       "      <td>Russia New York, NY</td>\n",
       "      <td>NaN</td>\n",
       "      <td>NaN</td>\n",
       "      <td>12</td>\n",
       "      <td>female</td>\n",
       "    </tr>\n",
       "    <tr>\n",
       "      <th>324</th>\n",
       "      <td>325</td>\n",
       "      <td>2nd</td>\n",
       "      <td>0</td>\n",
       "      <td>Andrew, Mr Edgar Samuel</td>\n",
       "      <td>18.0</td>\n",
       "      <td>Southampton</td>\n",
       "      <td>Buenos Aires, Argentina / New Jersey, NJ</td>\n",
       "      <td>NaN</td>\n",
       "      <td>NaN</td>\n",
       "      <td>NaN</td>\n",
       "      <td>male</td>\n",
       "    </tr>\n",
       "    <tr>\n",
       "      <th>325</th>\n",
       "      <td>326</td>\n",
       "      <td>2nd</td>\n",
       "      <td>0</td>\n",
       "      <td>Andrew, Mr Frank</td>\n",
       "      <td>NaN</td>\n",
       "      <td>Southampton</td>\n",
       "      <td>Cornwall, England Houghton, MI</td>\n",
       "      <td>NaN</td>\n",
       "      <td>NaN</td>\n",
       "      <td>NaN</td>\n",
       "      <td>male</td>\n",
       "    </tr>\n",
       "    <tr>\n",
       "      <th>326</th>\n",
       "      <td>327</td>\n",
       "      <td>2nd</td>\n",
       "      <td>0</td>\n",
       "      <td>Angle, Mr William A.</td>\n",
       "      <td>34.0</td>\n",
       "      <td>Southampton</td>\n",
       "      <td>Warwick, England</td>\n",
       "      <td>NaN</td>\n",
       "      <td>NaN</td>\n",
       "      <td>NaN</td>\n",
       "      <td>male</td>\n",
       "    </tr>\n",
       "    <tr>\n",
       "      <th>...</th>\n",
       "      <td>...</td>\n",
       "      <td>...</td>\n",
       "      <td>...</td>\n",
       "      <td>...</td>\n",
       "      <td>...</td>\n",
       "      <td>...</td>\n",
       "      <td>...</td>\n",
       "      <td>...</td>\n",
       "      <td>...</td>\n",
       "      <td>...</td>\n",
       "      <td>...</td>\n",
       "    </tr>\n",
       "    <tr>\n",
       "      <th>1308</th>\n",
       "      <td>1309</td>\n",
       "      <td>3rd</td>\n",
       "      <td>0</td>\n",
       "      <td>Zakarian, Mr Artun</td>\n",
       "      <td>NaN</td>\n",
       "      <td>NaN</td>\n",
       "      <td>NaN</td>\n",
       "      <td>NaN</td>\n",
       "      <td>NaN</td>\n",
       "      <td>NaN</td>\n",
       "      <td>male</td>\n",
       "    </tr>\n",
       "    <tr>\n",
       "      <th>1309</th>\n",
       "      <td>1310</td>\n",
       "      <td>3rd</td>\n",
       "      <td>0</td>\n",
       "      <td>Zakarian, Mr Maprieder</td>\n",
       "      <td>NaN</td>\n",
       "      <td>NaN</td>\n",
       "      <td>NaN</td>\n",
       "      <td>NaN</td>\n",
       "      <td>NaN</td>\n",
       "      <td>NaN</td>\n",
       "      <td>male</td>\n",
       "    </tr>\n",
       "    <tr>\n",
       "      <th>1310</th>\n",
       "      <td>1311</td>\n",
       "      <td>3rd</td>\n",
       "      <td>0</td>\n",
       "      <td>Zenn, Mr Philip</td>\n",
       "      <td>NaN</td>\n",
       "      <td>NaN</td>\n",
       "      <td>NaN</td>\n",
       "      <td>NaN</td>\n",
       "      <td>NaN</td>\n",
       "      <td>NaN</td>\n",
       "      <td>male</td>\n",
       "    </tr>\n",
       "    <tr>\n",
       "      <th>1311</th>\n",
       "      <td>1312</td>\n",
       "      <td>3rd</td>\n",
       "      <td>0</td>\n",
       "      <td>Zievens, Rene</td>\n",
       "      <td>NaN</td>\n",
       "      <td>NaN</td>\n",
       "      <td>NaN</td>\n",
       "      <td>NaN</td>\n",
       "      <td>NaN</td>\n",
       "      <td>NaN</td>\n",
       "      <td>female</td>\n",
       "    </tr>\n",
       "    <tr>\n",
       "      <th>1312</th>\n",
       "      <td>1313</td>\n",
       "      <td>3rd</td>\n",
       "      <td>0</td>\n",
       "      <td>Zimmerman, Leo</td>\n",
       "      <td>NaN</td>\n",
       "      <td>NaN</td>\n",
       "      <td>NaN</td>\n",
       "      <td>NaN</td>\n",
       "      <td>NaN</td>\n",
       "      <td>NaN</td>\n",
       "      <td>male</td>\n",
       "    </tr>\n",
       "  </tbody>\n",
       "</table>\n",
       "<p>991 rows × 11 columns</p>\n",
       "</div>"
      ],
      "text/plain": [
       "      row.names pclass  survived                        name   age  \\\n",
       "322         323    2nd         0          Abelson, Mr Samuel  30.0   \n",
       "323         324    2nd         1  Abelson, Mrs Samuel (Anna)  28.0   \n",
       "324         325    2nd         0     Andrew, Mr Edgar Samuel  18.0   \n",
       "325         326    2nd         0            Andrew, Mr Frank   NaN   \n",
       "326         327    2nd         0        Angle, Mr William A.  34.0   \n",
       "...         ...    ...       ...                         ...   ...   \n",
       "1308       1309    3rd         0          Zakarian, Mr Artun   NaN   \n",
       "1309       1310    3rd         0      Zakarian, Mr Maprieder   NaN   \n",
       "1310       1311    3rd         0             Zenn, Mr Philip   NaN   \n",
       "1311       1312    3rd         0               Zievens, Rene   NaN   \n",
       "1312       1313    3rd         0              Zimmerman, Leo   NaN   \n",
       "\n",
       "         embarked                                 home.dest room ticket boat  \\\n",
       "322     Cherbourg                       Russia New York, NY  NaN    NaN  NaN   \n",
       "323     Cherbourg                       Russia New York, NY  NaN    NaN   12   \n",
       "324   Southampton  Buenos Aires, Argentina / New Jersey, NJ  NaN    NaN  NaN   \n",
       "325   Southampton            Cornwall, England Houghton, MI  NaN    NaN  NaN   \n",
       "326   Southampton                          Warwick, England  NaN    NaN  NaN   \n",
       "...           ...                                       ...  ...    ...  ...   \n",
       "1308          NaN                                       NaN  NaN    NaN  NaN   \n",
       "1309          NaN                                       NaN  NaN    NaN  NaN   \n",
       "1310          NaN                                       NaN  NaN    NaN  NaN   \n",
       "1311          NaN                                       NaN  NaN    NaN  NaN   \n",
       "1312          NaN                                       NaN  NaN    NaN  NaN   \n",
       "\n",
       "         sex  \n",
       "322     male  \n",
       "323   female  \n",
       "324     male  \n",
       "325     male  \n",
       "326     male  \n",
       "...      ...  \n",
       "1308    male  \n",
       "1309    male  \n",
       "1310    male  \n",
       "1311  female  \n",
       "1312    male  \n",
       "\n",
       "[991 rows x 11 columns]"
      ]
     },
     "execution_count": 15,
     "metadata": {},
     "output_type": "execute_result"
    }
   ],
   "source": [
    "titanic_df_two_classes = titanic_df[(titanic_df.pclass == '3rd') | (titanic_df[\"pclass\"] == '2nd')]\n",
    "titanic_df_two_classes"
   ]
  },
  {
   "cell_type": "markdown",
   "id": "e2ae5850-2e57-4773-982e-c4f2b968350c",
   "metadata": {},
   "source": [
    "#### 2.2 Suggest a solution in another way"
   ]
  },
  {
   "cell_type": "code",
   "execution_count": null,
   "id": "e4293338-8ee7-41b3-ba58-f97f357fd2ee",
   "metadata": {},
   "outputs": [],
   "source": []
  },
  {
   "cell_type": "markdown",
   "id": "5ab92c6f-7521-4ba1-9680-6e2cf901d4c6",
   "metadata": {
    "jp-MarkdownHeadingCollapsed": true
   },
   "source": [
    "##### Ans"
   ]
  },
  {
   "cell_type": "code",
   "execution_count": 66,
   "id": "705d3c5f-657e-45f0-8d76-bdba7bfcc70f",
   "metadata": {},
   "outputs": [
    {
     "data": {
      "text/html": [
       "<div>\n",
       "<style scoped>\n",
       "    .dataframe tbody tr th:only-of-type {\n",
       "        vertical-align: middle;\n",
       "    }\n",
       "\n",
       "    .dataframe tbody tr th {\n",
       "        vertical-align: top;\n",
       "    }\n",
       "\n",
       "    .dataframe thead th {\n",
       "        text-align: right;\n",
       "    }\n",
       "</style>\n",
       "<table border=\"1\" class=\"dataframe\">\n",
       "  <thead>\n",
       "    <tr style=\"text-align: right;\">\n",
       "      <th></th>\n",
       "      <th>row.names</th>\n",
       "      <th>pclass</th>\n",
       "      <th>survived</th>\n",
       "      <th>name</th>\n",
       "      <th>age</th>\n",
       "      <th>embarked</th>\n",
       "      <th>home.dest</th>\n",
       "      <th>room</th>\n",
       "      <th>ticket</th>\n",
       "      <th>boat</th>\n",
       "      <th>sex</th>\n",
       "    </tr>\n",
       "  </thead>\n",
       "  <tbody>\n",
       "    <tr>\n",
       "      <th>322</th>\n",
       "      <td>323</td>\n",
       "      <td>2nd</td>\n",
       "      <td>0</td>\n",
       "      <td>Abelson, Mr Samuel</td>\n",
       "      <td>30.0</td>\n",
       "      <td>Cherbourg</td>\n",
       "      <td>Russia New York, NY</td>\n",
       "      <td>NaN</td>\n",
       "      <td>NaN</td>\n",
       "      <td>NaN</td>\n",
       "      <td>male</td>\n",
       "    </tr>\n",
       "    <tr>\n",
       "      <th>323</th>\n",
       "      <td>324</td>\n",
       "      <td>2nd</td>\n",
       "      <td>1</td>\n",
       "      <td>Abelson, Mrs Samuel (Anna)</td>\n",
       "      <td>28.0</td>\n",
       "      <td>Cherbourg</td>\n",
       "      <td>Russia New York, NY</td>\n",
       "      <td>NaN</td>\n",
       "      <td>NaN</td>\n",
       "      <td>12</td>\n",
       "      <td>female</td>\n",
       "    </tr>\n",
       "    <tr>\n",
       "      <th>324</th>\n",
       "      <td>325</td>\n",
       "      <td>2nd</td>\n",
       "      <td>0</td>\n",
       "      <td>Andrew, Mr Edgar Samuel</td>\n",
       "      <td>18.0</td>\n",
       "      <td>Southampton</td>\n",
       "      <td>Buenos Aires, Argentina / New Jersey, NJ</td>\n",
       "      <td>NaN</td>\n",
       "      <td>NaN</td>\n",
       "      <td>NaN</td>\n",
       "      <td>male</td>\n",
       "    </tr>\n",
       "    <tr>\n",
       "      <th>325</th>\n",
       "      <td>326</td>\n",
       "      <td>2nd</td>\n",
       "      <td>0</td>\n",
       "      <td>Andrew, Mr Frank</td>\n",
       "      <td>NaN</td>\n",
       "      <td>Southampton</td>\n",
       "      <td>Cornwall, England Houghton, MI</td>\n",
       "      <td>NaN</td>\n",
       "      <td>NaN</td>\n",
       "      <td>NaN</td>\n",
       "      <td>male</td>\n",
       "    </tr>\n",
       "    <tr>\n",
       "      <th>326</th>\n",
       "      <td>327</td>\n",
       "      <td>2nd</td>\n",
       "      <td>0</td>\n",
       "      <td>Angle, Mr William A.</td>\n",
       "      <td>34.0</td>\n",
       "      <td>Southampton</td>\n",
       "      <td>Warwick, England</td>\n",
       "      <td>NaN</td>\n",
       "      <td>NaN</td>\n",
       "      <td>NaN</td>\n",
       "      <td>male</td>\n",
       "    </tr>\n",
       "    <tr>\n",
       "      <th>...</th>\n",
       "      <td>...</td>\n",
       "      <td>...</td>\n",
       "      <td>...</td>\n",
       "      <td>...</td>\n",
       "      <td>...</td>\n",
       "      <td>...</td>\n",
       "      <td>...</td>\n",
       "      <td>...</td>\n",
       "      <td>...</td>\n",
       "      <td>...</td>\n",
       "      <td>...</td>\n",
       "    </tr>\n",
       "    <tr>\n",
       "      <th>1308</th>\n",
       "      <td>1309</td>\n",
       "      <td>3rd</td>\n",
       "      <td>0</td>\n",
       "      <td>Zakarian, Mr Artun</td>\n",
       "      <td>NaN</td>\n",
       "      <td>NaN</td>\n",
       "      <td>NaN</td>\n",
       "      <td>NaN</td>\n",
       "      <td>NaN</td>\n",
       "      <td>NaN</td>\n",
       "      <td>male</td>\n",
       "    </tr>\n",
       "    <tr>\n",
       "      <th>1309</th>\n",
       "      <td>1310</td>\n",
       "      <td>3rd</td>\n",
       "      <td>0</td>\n",
       "      <td>Zakarian, Mr Maprieder</td>\n",
       "      <td>NaN</td>\n",
       "      <td>NaN</td>\n",
       "      <td>NaN</td>\n",
       "      <td>NaN</td>\n",
       "      <td>NaN</td>\n",
       "      <td>NaN</td>\n",
       "      <td>male</td>\n",
       "    </tr>\n",
       "    <tr>\n",
       "      <th>1310</th>\n",
       "      <td>1311</td>\n",
       "      <td>3rd</td>\n",
       "      <td>0</td>\n",
       "      <td>Zenn, Mr Philip</td>\n",
       "      <td>NaN</td>\n",
       "      <td>NaN</td>\n",
       "      <td>NaN</td>\n",
       "      <td>NaN</td>\n",
       "      <td>NaN</td>\n",
       "      <td>NaN</td>\n",
       "      <td>male</td>\n",
       "    </tr>\n",
       "    <tr>\n",
       "      <th>1311</th>\n",
       "      <td>1312</td>\n",
       "      <td>3rd</td>\n",
       "      <td>0</td>\n",
       "      <td>Zievens, Rene</td>\n",
       "      <td>NaN</td>\n",
       "      <td>NaN</td>\n",
       "      <td>NaN</td>\n",
       "      <td>NaN</td>\n",
       "      <td>NaN</td>\n",
       "      <td>NaN</td>\n",
       "      <td>female</td>\n",
       "    </tr>\n",
       "    <tr>\n",
       "      <th>1312</th>\n",
       "      <td>1313</td>\n",
       "      <td>3rd</td>\n",
       "      <td>0</td>\n",
       "      <td>Zimmerman, Leo</td>\n",
       "      <td>NaN</td>\n",
       "      <td>NaN</td>\n",
       "      <td>NaN</td>\n",
       "      <td>NaN</td>\n",
       "      <td>NaN</td>\n",
       "      <td>NaN</td>\n",
       "      <td>male</td>\n",
       "    </tr>\n",
       "  </tbody>\n",
       "</table>\n",
       "<p>991 rows × 11 columns</p>\n",
       "</div>"
      ],
      "text/plain": [
       "      row.names pclass  survived                        name   age  \\\n",
       "322         323    2nd         0          Abelson, Mr Samuel  30.0   \n",
       "323         324    2nd         1  Abelson, Mrs Samuel (Anna)  28.0   \n",
       "324         325    2nd         0     Andrew, Mr Edgar Samuel  18.0   \n",
       "325         326    2nd         0            Andrew, Mr Frank   NaN   \n",
       "326         327    2nd         0        Angle, Mr William A.  34.0   \n",
       "...         ...    ...       ...                         ...   ...   \n",
       "1308       1309    3rd         0          Zakarian, Mr Artun   NaN   \n",
       "1309       1310    3rd         0      Zakarian, Mr Maprieder   NaN   \n",
       "1310       1311    3rd         0             Zenn, Mr Philip   NaN   \n",
       "1311       1312    3rd         0               Zievens, Rene   NaN   \n",
       "1312       1313    3rd         0              Zimmerman, Leo   NaN   \n",
       "\n",
       "         embarked                                 home.dest room ticket boat  \\\n",
       "322     Cherbourg                       Russia New York, NY  NaN    NaN  NaN   \n",
       "323     Cherbourg                       Russia New York, NY  NaN    NaN   12   \n",
       "324   Southampton  Buenos Aires, Argentina / New Jersey, NJ  NaN    NaN  NaN   \n",
       "325   Southampton            Cornwall, England Houghton, MI  NaN    NaN  NaN   \n",
       "326   Southampton                          Warwick, England  NaN    NaN  NaN   \n",
       "...           ...                                       ...  ...    ...  ...   \n",
       "1308          NaN                                       NaN  NaN    NaN  NaN   \n",
       "1309          NaN                                       NaN  NaN    NaN  NaN   \n",
       "1310          NaN                                       NaN  NaN    NaN  NaN   \n",
       "1311          NaN                                       NaN  NaN    NaN  NaN   \n",
       "1312          NaN                                       NaN  NaN    NaN  NaN   \n",
       "\n",
       "         sex  \n",
       "322     male  \n",
       "323   female  \n",
       "324     male  \n",
       "325     male  \n",
       "326     male  \n",
       "...      ...  \n",
       "1308    male  \n",
       "1309    male  \n",
       "1310    male  \n",
       "1311  female  \n",
       "1312    male  \n",
       "\n",
       "[991 rows x 11 columns]"
      ]
     },
     "execution_count": 66,
     "metadata": {},
     "output_type": "execute_result"
    }
   ],
   "source": [
    "titanic_df_two_classes = titanic_df.loc[titanic_df.pclass != '1st']\n",
    "titanic_df_two_classes"
   ]
  },
  {
   "cell_type": "code",
   "execution_count": 56,
   "id": "e1b93d35-3e54-4a8e-9275-120e131b9cf0",
   "metadata": {},
   "outputs": [
    {
     "data": {
      "text/plain": [
       "1313"
      ]
     },
     "execution_count": 56,
     "metadata": {},
     "output_type": "execute_result"
    }
   ],
   "source": [
    "len(titanic_df)"
   ]
  },
  {
   "cell_type": "markdown",
   "id": "353805f4-9851-4d8d-9771-c60f5a72ecc0",
   "metadata": {},
   "source": [
    "#### 2.3 Suggest a solution in another way"
   ]
  },
  {
   "cell_type": "code",
   "execution_count": null,
   "id": "71cc6a3d-9d97-4822-832c-3b5a7e02135b",
   "metadata": {},
   "outputs": [],
   "source": []
  },
  {
   "cell_type": "markdown",
   "id": "dfc048b5-93e9-4492-90bc-5ba1a69afb6d",
   "metadata": {
    "jp-MarkdownHeadingCollapsed": true
   },
   "source": [
    "##### Ans"
   ]
  },
  {
   "cell_type": "code",
   "execution_count": 141,
   "id": "eaea96ba-2cf0-497f-b1cf-b5236a044849",
   "metadata": {},
   "outputs": [
    {
     "data": {
      "text/html": [
       "<div>\n",
       "<style scoped>\n",
       "    .dataframe tbody tr th:only-of-type {\n",
       "        vertical-align: middle;\n",
       "    }\n",
       "\n",
       "    .dataframe tbody tr th {\n",
       "        vertical-align: top;\n",
       "    }\n",
       "\n",
       "    .dataframe thead th {\n",
       "        text-align: right;\n",
       "    }\n",
       "</style>\n",
       "<table border=\"1\" class=\"dataframe\">\n",
       "  <thead>\n",
       "    <tr style=\"text-align: right;\">\n",
       "      <th></th>\n",
       "      <th>row.names</th>\n",
       "      <th>pclass</th>\n",
       "      <th>survived</th>\n",
       "      <th>name</th>\n",
       "      <th>age</th>\n",
       "      <th>embarked</th>\n",
       "      <th>home.dest</th>\n",
       "      <th>room</th>\n",
       "      <th>ticket</th>\n",
       "      <th>boat</th>\n",
       "      <th>sex</th>\n",
       "    </tr>\n",
       "  </thead>\n",
       "  <tbody>\n",
       "    <tr>\n",
       "      <th>322</th>\n",
       "      <td>323</td>\n",
       "      <td>2nd</td>\n",
       "      <td>0</td>\n",
       "      <td>Abelson, Mr Samuel</td>\n",
       "      <td>30.0</td>\n",
       "      <td>Cherbourg</td>\n",
       "      <td>Russia New York, NY</td>\n",
       "      <td>NaN</td>\n",
       "      <td>NaN</td>\n",
       "      <td>NaN</td>\n",
       "      <td>male</td>\n",
       "    </tr>\n",
       "    <tr>\n",
       "      <th>323</th>\n",
       "      <td>324</td>\n",
       "      <td>2nd</td>\n",
       "      <td>1</td>\n",
       "      <td>Abelson, Mrs Samuel (Anna)</td>\n",
       "      <td>28.0</td>\n",
       "      <td>Cherbourg</td>\n",
       "      <td>Russia New York, NY</td>\n",
       "      <td>NaN</td>\n",
       "      <td>NaN</td>\n",
       "      <td>12</td>\n",
       "      <td>female</td>\n",
       "    </tr>\n",
       "    <tr>\n",
       "      <th>324</th>\n",
       "      <td>325</td>\n",
       "      <td>2nd</td>\n",
       "      <td>0</td>\n",
       "      <td>Andrew, Mr Edgar Samuel</td>\n",
       "      <td>18.0</td>\n",
       "      <td>Southampton</td>\n",
       "      <td>Buenos Aires, Argentina / New Jersey, NJ</td>\n",
       "      <td>NaN</td>\n",
       "      <td>NaN</td>\n",
       "      <td>NaN</td>\n",
       "      <td>male</td>\n",
       "    </tr>\n",
       "    <tr>\n",
       "      <th>325</th>\n",
       "      <td>326</td>\n",
       "      <td>2nd</td>\n",
       "      <td>0</td>\n",
       "      <td>Andrew, Mr Frank</td>\n",
       "      <td>NaN</td>\n",
       "      <td>Southampton</td>\n",
       "      <td>Cornwall, England Houghton, MI</td>\n",
       "      <td>NaN</td>\n",
       "      <td>NaN</td>\n",
       "      <td>NaN</td>\n",
       "      <td>male</td>\n",
       "    </tr>\n",
       "    <tr>\n",
       "      <th>326</th>\n",
       "      <td>327</td>\n",
       "      <td>2nd</td>\n",
       "      <td>0</td>\n",
       "      <td>Angle, Mr William A.</td>\n",
       "      <td>34.0</td>\n",
       "      <td>Southampton</td>\n",
       "      <td>Warwick, England</td>\n",
       "      <td>NaN</td>\n",
       "      <td>NaN</td>\n",
       "      <td>NaN</td>\n",
       "      <td>male</td>\n",
       "    </tr>\n",
       "    <tr>\n",
       "      <th>...</th>\n",
       "      <td>...</td>\n",
       "      <td>...</td>\n",
       "      <td>...</td>\n",
       "      <td>...</td>\n",
       "      <td>...</td>\n",
       "      <td>...</td>\n",
       "      <td>...</td>\n",
       "      <td>...</td>\n",
       "      <td>...</td>\n",
       "      <td>...</td>\n",
       "      <td>...</td>\n",
       "    </tr>\n",
       "    <tr>\n",
       "      <th>1308</th>\n",
       "      <td>1309</td>\n",
       "      <td>3rd</td>\n",
       "      <td>0</td>\n",
       "      <td>Zakarian, Mr Artun</td>\n",
       "      <td>NaN</td>\n",
       "      <td>NaN</td>\n",
       "      <td>NaN</td>\n",
       "      <td>NaN</td>\n",
       "      <td>NaN</td>\n",
       "      <td>NaN</td>\n",
       "      <td>male</td>\n",
       "    </tr>\n",
       "    <tr>\n",
       "      <th>1309</th>\n",
       "      <td>1310</td>\n",
       "      <td>3rd</td>\n",
       "      <td>0</td>\n",
       "      <td>Zakarian, Mr Maprieder</td>\n",
       "      <td>NaN</td>\n",
       "      <td>NaN</td>\n",
       "      <td>NaN</td>\n",
       "      <td>NaN</td>\n",
       "      <td>NaN</td>\n",
       "      <td>NaN</td>\n",
       "      <td>male</td>\n",
       "    </tr>\n",
       "    <tr>\n",
       "      <th>1310</th>\n",
       "      <td>1311</td>\n",
       "      <td>3rd</td>\n",
       "      <td>0</td>\n",
       "      <td>Zenn, Mr Philip</td>\n",
       "      <td>NaN</td>\n",
       "      <td>NaN</td>\n",
       "      <td>NaN</td>\n",
       "      <td>NaN</td>\n",
       "      <td>NaN</td>\n",
       "      <td>NaN</td>\n",
       "      <td>male</td>\n",
       "    </tr>\n",
       "    <tr>\n",
       "      <th>1311</th>\n",
       "      <td>1312</td>\n",
       "      <td>3rd</td>\n",
       "      <td>0</td>\n",
       "      <td>Zievens, Rene</td>\n",
       "      <td>NaN</td>\n",
       "      <td>NaN</td>\n",
       "      <td>NaN</td>\n",
       "      <td>NaN</td>\n",
       "      <td>NaN</td>\n",
       "      <td>NaN</td>\n",
       "      <td>female</td>\n",
       "    </tr>\n",
       "    <tr>\n",
       "      <th>1312</th>\n",
       "      <td>1313</td>\n",
       "      <td>3rd</td>\n",
       "      <td>0</td>\n",
       "      <td>Zimmerman, Leo</td>\n",
       "      <td>NaN</td>\n",
       "      <td>NaN</td>\n",
       "      <td>NaN</td>\n",
       "      <td>NaN</td>\n",
       "      <td>NaN</td>\n",
       "      <td>NaN</td>\n",
       "      <td>male</td>\n",
       "    </tr>\n",
       "  </tbody>\n",
       "</table>\n",
       "<p>991 rows × 11 columns</p>\n",
       "</div>"
      ],
      "text/plain": [
       "      row.names pclass  survived                        name   age  \\\n",
       "322         323    2nd         0          Abelson, Mr Samuel  30.0   \n",
       "323         324    2nd         1  Abelson, Mrs Samuel (Anna)  28.0   \n",
       "324         325    2nd         0     Andrew, Mr Edgar Samuel  18.0   \n",
       "325         326    2nd         0            Andrew, Mr Frank   NaN   \n",
       "326         327    2nd         0        Angle, Mr William A.  34.0   \n",
       "...         ...    ...       ...                         ...   ...   \n",
       "1308       1309    3rd         0          Zakarian, Mr Artun   NaN   \n",
       "1309       1310    3rd         0      Zakarian, Mr Maprieder   NaN   \n",
       "1310       1311    3rd         0             Zenn, Mr Philip   NaN   \n",
       "1311       1312    3rd         0               Zievens, Rene   NaN   \n",
       "1312       1313    3rd         0              Zimmerman, Leo   NaN   \n",
       "\n",
       "         embarked                                 home.dest room ticket boat  \\\n",
       "322     Cherbourg                       Russia New York, NY  NaN    NaN  NaN   \n",
       "323     Cherbourg                       Russia New York, NY  NaN    NaN   12   \n",
       "324   Southampton  Buenos Aires, Argentina / New Jersey, NJ  NaN    NaN  NaN   \n",
       "325   Southampton            Cornwall, England Houghton, MI  NaN    NaN  NaN   \n",
       "326   Southampton                          Warwick, England  NaN    NaN  NaN   \n",
       "...           ...                                       ...  ...    ...  ...   \n",
       "1308          NaN                                       NaN  NaN    NaN  NaN   \n",
       "1309          NaN                                       NaN  NaN    NaN  NaN   \n",
       "1310          NaN                                       NaN  NaN    NaN  NaN   \n",
       "1311          NaN                                       NaN  NaN    NaN  NaN   \n",
       "1312          NaN                                       NaN  NaN    NaN  NaN   \n",
       "\n",
       "         sex  \n",
       "322     male  \n",
       "323   female  \n",
       "324     male  \n",
       "325     male  \n",
       "326     male  \n",
       "...      ...  \n",
       "1308    male  \n",
       "1309    male  \n",
       "1310    male  \n",
       "1311  female  \n",
       "1312    male  \n",
       "\n",
       "[991 rows x 11 columns]"
      ]
     },
     "execution_count": 141,
     "metadata": {},
     "output_type": "execute_result"
    }
   ],
   "source": [
    "titanic_df_isin_two_classes = titanic_df[~titanic_df['pclass'].isin(['2nd','3rd'])]\n",
    "titanic_df_isin_two_classes = titanic_df[titanic_df['pclass'].isin(['2nd','3rd'])]\n",
    "titanic_df_isin_two_classes"
   ]
  },
  {
   "cell_type": "markdown",
   "id": "72dcc118-baed-4979-b579-cf623281c39b",
   "metadata": {},
   "source": [
    "#### 3. Display the oldest age on the ship, display only one row of that age"
   ]
  },
  {
   "cell_type": "markdown",
   "id": "ba5008e3-3b04-41fa-acd1-8cb4f62e66b1",
   "metadata": {
    "jp-MarkdownHeadingCollapsed": true
   },
   "source": [
    "##### Asn"
   ]
  },
  {
   "cell_type": "code",
   "execution_count": 68,
   "id": "e34cbc06-62aa-49e1-ba44-8f36b6779c56",
   "metadata": {},
   "outputs": [
    {
     "data": {
      "text/plain": [
       "np.float64(71.0)"
      ]
     },
     "execution_count": 68,
     "metadata": {},
     "output_type": "execute_result"
    }
   ],
   "source": [
    "max_age = titanic_df['age'].max()\n",
    "max_age"
   ]
  },
  {
   "cell_type": "markdown",
   "id": "b989c7dc-e429-4282-bc43-de76beb3d57e",
   "metadata": {},
   "source": [
    "#### 4. Display the youngest age on the ship, display only one row of that age"
   ]
  },
  {
   "cell_type": "code",
   "execution_count": null,
   "id": "330f271a-5414-4294-a0d0-1f4601db184b",
   "metadata": {},
   "outputs": [],
   "source": []
  },
  {
   "cell_type": "markdown",
   "id": "ae41c1be-a581-490b-b530-0b4c3a2a730c",
   "metadata": {
    "jp-MarkdownHeadingCollapsed": true
   },
   "source": [
    "##### Asn"
   ]
  },
  {
   "cell_type": "code",
   "execution_count": 19,
   "id": "6d3e21b9-c166-4a0e-8189-b1acf425daaa",
   "metadata": {},
   "outputs": [
    {
     "data": {
      "text/plain": [
       "0.1667"
      ]
     },
     "execution_count": 19,
     "metadata": {},
     "output_type": "execute_result"
    }
   ],
   "source": [
    "min_age = titanic_df['age'].min()\n",
    "min_age"
   ]
  },
  {
   "cell_type": "markdown",
   "id": "e7d67fa9-7350-43b3-bf18-e1ea5b41ba72",
   "metadata": {},
   "source": [
    "#### 5. Are there more men than women on the ship? Show the solution by a function learned in class\n",
    "#### Show in 2 different ways"
   ]
  },
  {
   "cell_type": "code",
   "execution_count": null,
   "id": "d57380ce-509d-4502-8e8b-509c685a8f3c",
   "metadata": {},
   "outputs": [],
   "source": []
  },
  {
   "cell_type": "markdown",
   "id": "35372e71-5abd-4123-8a26-7a3f75e3cdbf",
   "metadata": {
    "jp-MarkdownHeadingCollapsed": true
   },
   "source": [
    "##### Asn"
   ]
  },
  {
   "cell_type": "code",
   "execution_count": 20,
   "id": "2a0cff4d-88df-487a-9185-5d145ed82918",
   "metadata": {},
   "outputs": [
    {
     "data": {
      "text/plain": [
       "True"
      ]
     },
     "execution_count": 20,
     "metadata": {},
     "output_type": "execute_result"
    }
   ],
   "source": [
    "titanic_df_male = titanic_df.loc[titanic_df.sex == 'male']\n",
    "titanic_df_female = titanic_df.loc[titanic_df.sex == 'female']\n",
    "len(titanic_df_female) < len(titanic_df_male)"
   ]
  },
  {
   "cell_type": "code",
   "execution_count": 21,
   "id": "8b511323-fb74-4cd5-a221-3bd4aea9d371",
   "metadata": {},
   "outputs": [
    {
     "name": "stdout",
     "output_type": "stream",
     "text": [
      "male count on board: 850\n"
     ]
    }
   ],
   "source": [
    "titanic_df_male['sex'].count()\n",
    "\n",
    "print(f\"{titanic_df['sex'].unique()[1]} count on board: {titanic_df_male['sex'].count()}\")"
   ]
  },
  {
   "cell_type": "code",
   "execution_count": 22,
   "id": "2e0fbf4b-5593-40d0-9dd9-073c5660d92a",
   "metadata": {},
   "outputs": [
    {
     "name": "stdout",
     "output_type": "stream",
     "text": [
      "female count on board: 463\n"
     ]
    }
   ],
   "source": [
    "titanic_df_female['sex'].count()\n",
    "\n",
    "print(f\"{titanic_df['sex'].unique()[0]} count on board: {titanic_df_female['sex'].count()}\")"
   ]
  },
  {
   "cell_type": "markdown",
   "id": "b4e9519e-66c7-40ee-9d7a-ee4b4f5aa22b",
   "metadata": {},
   "source": [
    "#### 6. Note that there is a column that shows who survived the disaster, which gender survived more?"
   ]
  },
  {
   "cell_type": "code",
   "execution_count": null,
   "id": "754f850d-3805-4466-9ed3-737c26e33651",
   "metadata": {},
   "outputs": [],
   "source": []
  },
  {
   "cell_type": "markdown",
   "id": "b6620ffe-b6d5-4854-984e-fda8978544ff",
   "metadata": {
    "jp-MarkdownHeadingCollapsed": true
   },
   "source": [
    "##### Asn"
   ]
  },
  {
   "cell_type": "code",
   "execution_count": 23,
   "id": "b19ebbc0-581d-424e-ae97-f170dbf7ecad",
   "metadata": {},
   "outputs": [
    {
     "data": {
      "text/plain": [
       "142"
      ]
     },
     "execution_count": 23,
     "metadata": {},
     "output_type": "execute_result"
    }
   ],
   "source": [
    "titanic_df_male = titanic_df[(titanic_df.sex == 'male') & (titanic_df.survived == 1)]\n",
    "titanic_df_male['sex'].count()"
   ]
  },
  {
   "cell_type": "code",
   "execution_count": 24,
   "id": "020f1093-ce37-4c11-92fd-75af3cd882cb",
   "metadata": {},
   "outputs": [
    {
     "data": {
      "text/plain": [
       "307"
      ]
     },
     "execution_count": 24,
     "metadata": {},
     "output_type": "execute_result"
    }
   ],
   "source": [
    "titanic_df_female = titanic_df[(titanic_df.sex == 'female') & (titanic_df.survived == 1)]\n",
    "titanic_df_female['sex'].count()"
   ]
  },
  {
   "cell_type": "markdown",
   "id": "07d03549-9fea-4c75-aa74-34f66aa8b3f5",
   "metadata": {},
   "source": [
    "#### 7. Find the passenger who goes by the name 'Maprieder', did he survive?"
   ]
  },
  {
   "cell_type": "code",
   "execution_count": null,
   "id": "14aa95b5-a269-4144-9e40-ec9ad8dcaba0",
   "metadata": {},
   "outputs": [],
   "source": []
  },
  {
   "cell_type": "markdown",
   "id": "22ef0330-178b-4345-bb35-5c4aad853f32",
   "metadata": {
    "jp-MarkdownHeadingCollapsed": true
   },
   "source": [
    "##### Asn"
   ]
  },
  {
   "cell_type": "code",
   "execution_count": 65,
   "id": "a7b0de0d-bb43-44b4-8428-bba2bc25d528",
   "metadata": {},
   "outputs": [
    {
     "data": {
      "text/html": [
       "<div>\n",
       "<style scoped>\n",
       "    .dataframe tbody tr th:only-of-type {\n",
       "        vertical-align: middle;\n",
       "    }\n",
       "\n",
       "    .dataframe tbody tr th {\n",
       "        vertical-align: top;\n",
       "    }\n",
       "\n",
       "    .dataframe thead th {\n",
       "        text-align: right;\n",
       "    }\n",
       "</style>\n",
       "<table border=\"1\" class=\"dataframe\">\n",
       "  <thead>\n",
       "    <tr style=\"text-align: right;\">\n",
       "      <th></th>\n",
       "      <th>row.names</th>\n",
       "      <th>pclass</th>\n",
       "      <th>survived</th>\n",
       "      <th>name</th>\n",
       "      <th>age</th>\n",
       "      <th>embarked</th>\n",
       "      <th>home.dest</th>\n",
       "      <th>room</th>\n",
       "      <th>ticket</th>\n",
       "      <th>boat</th>\n",
       "      <th>sex</th>\n",
       "    </tr>\n",
       "  </thead>\n",
       "  <tbody>\n",
       "    <tr>\n",
       "      <th>1309</th>\n",
       "      <td>1310</td>\n",
       "      <td>3rd</td>\n",
       "      <td>0</td>\n",
       "      <td>Zakarian, Mr Maprieder</td>\n",
       "      <td>NaN</td>\n",
       "      <td>NaN</td>\n",
       "      <td>NaN</td>\n",
       "      <td>NaN</td>\n",
       "      <td>NaN</td>\n",
       "      <td>NaN</td>\n",
       "      <td>male</td>\n",
       "    </tr>\n",
       "  </tbody>\n",
       "</table>\n",
       "</div>"
      ],
      "text/plain": [
       "      row.names pclass  survived                    name  age embarked  \\\n",
       "1309       1310    3rd         0  Zakarian, Mr Maprieder  NaN      NaN   \n",
       "\n",
       "     home.dest room ticket boat   sex  \n",
       "1309       NaN  NaN    NaN  NaN  male  "
      ]
     },
     "execution_count": 65,
     "metadata": {},
     "output_type": "execute_result"
    }
   ],
   "source": [
    "titanic_df[titanic_df['name'].str.contains('Maprieder')]                         "
   ]
  },
  {
   "cell_type": "markdown",
   "id": "1f8a6d32-5c80-4d5b-ba27-d34cc985729a",
   "metadata": {},
   "source": [
    "#### 8. Is there only one such name ?"
   ]
  },
  {
   "cell_type": "code",
   "execution_count": null,
   "id": "14881d4b-13fb-4c9b-8499-dbea1bc3d51e",
   "metadata": {},
   "outputs": [],
   "source": []
  },
  {
   "cell_type": "markdown",
   "id": "7998e5ec-91ae-4dde-ba70-0392b27a891e",
   "metadata": {
    "jp-MarkdownHeadingCollapsed": true
   },
   "source": [
    "##### Asn"
   ]
  },
  {
   "cell_type": "code",
   "execution_count": 26,
   "id": "10a4672e-4aa2-451f-a99b-1816c663d2a7",
   "metadata": {
    "scrolled": true
   },
   "outputs": [
    {
     "data": {
      "text/plain": [
       "array(['Zakarian, Mr Maprieder'], dtype=object)"
      ]
     },
     "execution_count": 26,
     "metadata": {},
     "output_type": "execute_result"
    }
   ],
   "source": [
    "titanic_df[titanic_df['name'].str.contains('Maprieder')]['name'].unique()    \n"
   ]
  },
  {
   "cell_type": "markdown",
   "id": "7b12595b",
   "metadata": {},
   "source": [
    "### **More about `.str.contains()`**"
   ]
  },
  {
   "cell_type": "code",
   "execution_count": 143,
   "id": "430b630c",
   "metadata": {
    "scrolled": true
   },
   "outputs": [
    {
     "data": {
      "text/html": [
       "<div>\n",
       "<style scoped>\n",
       "    .dataframe tbody tr th:only-of-type {\n",
       "        vertical-align: middle;\n",
       "    }\n",
       "\n",
       "    .dataframe tbody tr th {\n",
       "        vertical-align: top;\n",
       "    }\n",
       "\n",
       "    .dataframe thead th {\n",
       "        text-align: right;\n",
       "    }\n",
       "</style>\n",
       "<table border=\"1\" class=\"dataframe\">\n",
       "  <thead>\n",
       "    <tr style=\"text-align: right;\">\n",
       "      <th></th>\n",
       "      <th>row.names</th>\n",
       "      <th>pclass</th>\n",
       "      <th>survived</th>\n",
       "      <th>name</th>\n",
       "      <th>age</th>\n",
       "      <th>embarked</th>\n",
       "      <th>home.dest</th>\n",
       "      <th>room</th>\n",
       "      <th>ticket</th>\n",
       "      <th>boat</th>\n",
       "      <th>sex</th>\n",
       "    </tr>\n",
       "  </thead>\n",
       "  <tbody>\n",
       "    <tr>\n",
       "      <th>3</th>\n",
       "      <td>4</td>\n",
       "      <td>1st</td>\n",
       "      <td>0</td>\n",
       "      <td>Allison, Mrs Hudson J.C. (Bessie Waldo Daniels)</td>\n",
       "      <td>25.0</td>\n",
       "      <td>Southampton</td>\n",
       "      <td>Montreal, PQ / Chesterville, ON</td>\n",
       "      <td>C26</td>\n",
       "      <td>NaN</td>\n",
       "      <td>NaN</td>\n",
       "      <td>female</td>\n",
       "    </tr>\n",
       "    <tr>\n",
       "      <th>13</th>\n",
       "      <td>14</td>\n",
       "      <td>1st</td>\n",
       "      <td>1</td>\n",
       "      <td>Barkworth, Mr Algernon H.</td>\n",
       "      <td>NaN</td>\n",
       "      <td>Southampton</td>\n",
       "      <td>Hessle, Yorks</td>\n",
       "      <td>A-23</td>\n",
       "      <td>NaN</td>\n",
       "      <td>B</td>\n",
       "      <td>male</td>\n",
       "    </tr>\n",
       "    <tr>\n",
       "      <th>14</th>\n",
       "      <td>15</td>\n",
       "      <td>1st</td>\n",
       "      <td>0</td>\n",
       "      <td>Baumann, Mr John D.</td>\n",
       "      <td>NaN</td>\n",
       "      <td>Southampton</td>\n",
       "      <td>New York, NY</td>\n",
       "      <td>NaN</td>\n",
       "      <td>NaN</td>\n",
       "      <td>NaN</td>\n",
       "      <td>male</td>\n",
       "    </tr>\n",
       "    <tr>\n",
       "      <th>22</th>\n",
       "      <td>23</td>\n",
       "      <td>1st</td>\n",
       "      <td>1</td>\n",
       "      <td>Bishop, Mr Dickinson H.</td>\n",
       "      <td>25.0</td>\n",
       "      <td>Cherbourg</td>\n",
       "      <td>Dowagiac, MI</td>\n",
       "      <td>B-49</td>\n",
       "      <td>NaN</td>\n",
       "      <td>7</td>\n",
       "      <td>male</td>\n",
       "    </tr>\n",
       "    <tr>\n",
       "      <th>23</th>\n",
       "      <td>24</td>\n",
       "      <td>1st</td>\n",
       "      <td>1</td>\n",
       "      <td>Bishop, Mrs Dickinson H. (Helen Walton)</td>\n",
       "      <td>19.0</td>\n",
       "      <td>Cherbourg</td>\n",
       "      <td>Dowagiac, MI</td>\n",
       "      <td>B-49</td>\n",
       "      <td>NaN</td>\n",
       "      <td>7</td>\n",
       "      <td>female</td>\n",
       "    </tr>\n",
       "    <tr>\n",
       "      <th>...</th>\n",
       "      <td>...</td>\n",
       "      <td>...</td>\n",
       "      <td>...</td>\n",
       "      <td>...</td>\n",
       "      <td>...</td>\n",
       "      <td>...</td>\n",
       "      <td>...</td>\n",
       "      <td>...</td>\n",
       "      <td>...</td>\n",
       "      <td>...</td>\n",
       "      <td>...</td>\n",
       "    </tr>\n",
       "    <tr>\n",
       "      <th>1089</th>\n",
       "      <td>1090</td>\n",
       "      <td>3rd</td>\n",
       "      <td>0</td>\n",
       "      <td>Olsen, Mr Ole M.</td>\n",
       "      <td>NaN</td>\n",
       "      <td>NaN</td>\n",
       "      <td>NaN</td>\n",
       "      <td>NaN</td>\n",
       "      <td>NaN</td>\n",
       "      <td>NaN</td>\n",
       "      <td>male</td>\n",
       "    </tr>\n",
       "    <tr>\n",
       "      <th>1128</th>\n",
       "      <td>1129</td>\n",
       "      <td>3rd</td>\n",
       "      <td>0</td>\n",
       "      <td>Peter (Joseph), Master Michael J.</td>\n",
       "      <td>NaN</td>\n",
       "      <td>NaN</td>\n",
       "      <td>NaN</td>\n",
       "      <td>NaN</td>\n",
       "      <td>NaN</td>\n",
       "      <td>NaN</td>\n",
       "      <td>male</td>\n",
       "    </tr>\n",
       "    <tr>\n",
       "      <th>1154</th>\n",
       "      <td>1155</td>\n",
       "      <td>3rd</td>\n",
       "      <td>0</td>\n",
       "      <td>Robins, Mr Alexander A.</td>\n",
       "      <td>NaN</td>\n",
       "      <td>NaN</td>\n",
       "      <td>NaN</td>\n",
       "      <td>NaN</td>\n",
       "      <td>NaN</td>\n",
       "      <td>NaN</td>\n",
       "      <td>male</td>\n",
       "    </tr>\n",
       "    <tr>\n",
       "      <th>1155</th>\n",
       "      <td>1156</td>\n",
       "      <td>3rd</td>\n",
       "      <td>0</td>\n",
       "      <td>Robins, Mrs Alexander A.</td>\n",
       "      <td>NaN</td>\n",
       "      <td>NaN</td>\n",
       "      <td>NaN</td>\n",
       "      <td>NaN</td>\n",
       "      <td>NaN</td>\n",
       "      <td>NaN</td>\n",
       "      <td>female</td>\n",
       "    </tr>\n",
       "    <tr>\n",
       "      <th>1200</th>\n",
       "      <td>1201</td>\n",
       "      <td>3rd</td>\n",
       "      <td>0</td>\n",
       "      <td>Shellard, Mr Frederick B.</td>\n",
       "      <td>NaN</td>\n",
       "      <td>NaN</td>\n",
       "      <td>NaN</td>\n",
       "      <td>NaN</td>\n",
       "      <td>NaN</td>\n",
       "      <td>NaN</td>\n",
       "      <td>male</td>\n",
       "    </tr>\n",
       "  </tbody>\n",
       "</table>\n",
       "<p>117 rows × 11 columns</p>\n",
       "</div>"
      ],
      "text/plain": [
       "      row.names pclass  survived  \\\n",
       "3             4    1st         0   \n",
       "13           14    1st         1   \n",
       "14           15    1st         0   \n",
       "22           23    1st         1   \n",
       "23           24    1st         1   \n",
       "...         ...    ...       ...   \n",
       "1089       1090    3rd         0   \n",
       "1128       1129    3rd         0   \n",
       "1154       1155    3rd         0   \n",
       "1155       1156    3rd         0   \n",
       "1200       1201    3rd         0   \n",
       "\n",
       "                                                 name   age     embarked  \\\n",
       "3     Allison, Mrs Hudson J.C. (Bessie Waldo Daniels)  25.0  Southampton   \n",
       "13                          Barkworth, Mr Algernon H.   NaN  Southampton   \n",
       "14                                Baumann, Mr John D.   NaN  Southampton   \n",
       "22                            Bishop, Mr Dickinson H.  25.0    Cherbourg   \n",
       "23            Bishop, Mrs Dickinson H. (Helen Walton)  19.0    Cherbourg   \n",
       "...                                               ...   ...          ...   \n",
       "1089                                 Olsen, Mr Ole M.   NaN          NaN   \n",
       "1128                Peter (Joseph), Master Michael J.   NaN          NaN   \n",
       "1154                          Robins, Mr Alexander A.   NaN          NaN   \n",
       "1155                         Robins, Mrs Alexander A.   NaN          NaN   \n",
       "1200                        Shellard, Mr Frederick B.   NaN          NaN   \n",
       "\n",
       "                            home.dest  room ticket boat     sex  \n",
       "3     Montreal, PQ / Chesterville, ON   C26    NaN  NaN  female  \n",
       "13                      Hessle, Yorks  A-23    NaN    B    male  \n",
       "14                       New York, NY   NaN    NaN  NaN    male  \n",
       "22                       Dowagiac, MI  B-49    NaN    7    male  \n",
       "23                       Dowagiac, MI  B-49    NaN    7  female  \n",
       "...                               ...   ...    ...  ...     ...  \n",
       "1089                              NaN   NaN    NaN  NaN    male  \n",
       "1128                              NaN   NaN    NaN  NaN    male  \n",
       "1154                              NaN   NaN    NaN  NaN    male  \n",
       "1155                              NaN   NaN    NaN  NaN  female  \n",
       "1200                              NaN   NaN    NaN  NaN    male  \n",
       "\n",
       "[117 rows x 11 columns]"
      ]
     },
     "execution_count": 143,
     "metadata": {},
     "output_type": "execute_result"
    }
   ],
   "source": [
    "titanic_df[titanic_df['name'].str.contains(\".\", regex=False)] # contain '.' in name MUST USE regex=False !!!\n",
    "#titanic_df[titanic_df['name'].str.contains(\".\")] \n"
   ]
  },
  {
   "cell_type": "code",
   "execution_count": 28,
   "id": "7f22fdfb",
   "metadata": {},
   "outputs": [
    {
     "data": {
      "text/html": [
       "<div>\n",
       "<style scoped>\n",
       "    .dataframe tbody tr th:only-of-type {\n",
       "        vertical-align: middle;\n",
       "    }\n",
       "\n",
       "    .dataframe tbody tr th {\n",
       "        vertical-align: top;\n",
       "    }\n",
       "\n",
       "    .dataframe thead th {\n",
       "        text-align: right;\n",
       "    }\n",
       "</style>\n",
       "<table border=\"1\" class=\"dataframe\">\n",
       "  <thead>\n",
       "    <tr style=\"text-align: right;\">\n",
       "      <th></th>\n",
       "      <th>row.names</th>\n",
       "      <th>pclass</th>\n",
       "      <th>survived</th>\n",
       "      <th>name</th>\n",
       "      <th>age</th>\n",
       "      <th>embarked</th>\n",
       "      <th>home.dest</th>\n",
       "      <th>room</th>\n",
       "      <th>ticket</th>\n",
       "      <th>boat</th>\n",
       "      <th>sex</th>\n",
       "    </tr>\n",
       "  </thead>\n",
       "  <tbody>\n",
       "    <tr>\n",
       "      <th>209</th>\n",
       "      <td>210</td>\n",
       "      <td>1st</td>\n",
       "      <td>0</td>\n",
       "      <td>Roebling, Mr Washington Augustus 2nd</td>\n",
       "      <td>31.0</td>\n",
       "      <td>Southampton</td>\n",
       "      <td>Trenton, NJ</td>\n",
       "      <td>NaN</td>\n",
       "      <td>NaN</td>\n",
       "      <td>NaN</td>\n",
       "      <td>male</td>\n",
       "    </tr>\n",
       "    <tr>\n",
       "      <th>1248</th>\n",
       "      <td>1249</td>\n",
       "      <td>3rd</td>\n",
       "      <td>0</td>\n",
       "      <td>Thomas, Mr John (? 1st/2nd class)</td>\n",
       "      <td>NaN</td>\n",
       "      <td>NaN</td>\n",
       "      <td>NaN</td>\n",
       "      <td>NaN</td>\n",
       "      <td>NaN</td>\n",
       "      <td>NaN</td>\n",
       "      <td>male</td>\n",
       "    </tr>\n",
       "  </tbody>\n",
       "</table>\n",
       "</div>"
      ],
      "text/plain": [
       "      row.names pclass  survived                                  name   age  \\\n",
       "209         210    1st         0  Roebling, Mr Washington Augustus 2nd  31.0   \n",
       "1248       1249    3rd         0     Thomas, Mr John (? 1st/2nd class)   NaN   \n",
       "\n",
       "         embarked    home.dest room ticket boat   sex  \n",
       "209   Southampton  Trenton, NJ  NaN    NaN  NaN  male  \n",
       "1248          NaN          NaN  NaN    NaN  NaN  male  "
      ]
     },
     "execution_count": 28,
     "metadata": {},
     "output_type": "execute_result"
    }
   ],
   "source": [
    "titanic_df[titanic_df['name'].str.contains(r\"\\d\", regex=True)] # numbers in name\n",
    "#titanic_df[titanic_df['home.dest'].str.contains(\"RI|CA\", na=False)] # look for destination \"|\" stand for \"OR\" \n",
    "#titanic_df[titanic_df['name'].str.contains(r\"^A\", regex=True)] # name start with A \"^\" stand for start with\n",
    "#titanic_df[titanic_df['name'].str.contains(\"abbott\", case=False)] # name start with \"abbott\" without dependencies of type of characters\n",
    "#titanic_df[~titanic_df['name'].str.contains(\"Abbott\")] # name start with \"Abbott\"\n"
   ]
  },
  {
   "cell_type": "markdown",
   "id": "1b3b2b9f",
   "metadata": {
    "slideshow": {
     "slide_type": "slide"
    }
   },
   "source": [
    " **🔍 Comparison: `.str.contains()` vs `.isin()`**\n",
    "| Feature                   | `.str.contains()`                                       | `.isin()`                                                 |\n",
    "|---------------------------|---------------------------------------------------------|-----------------------------------------------------------|\n",
    "| Checks if...              | A substring exists within a string                      | A value exists within a list of values                    |\n",
    "| Works on                 | String columns only                                     | Any column type (strings, numbers, dates, etc.)           |\n",
    "| Supports regex            | ✅ Yes (`regex=True` by default)                        | ❌ No                                                      |\n",
    "| Supports case-insensitive | ✅ Yes (`case=False`)                                   | ❌ Not applicable                                          |\n",
    "| Supports negation         | ✅ Yes (with `~`)                                       | ✅ Yes (with `~`)                                         |\n",
    "| Typical example           | `df['Product'].str.contains(\"Chair\")`                  | `df['State'].isin(['California', 'Texas'])`              |\n"
   ]
  },
  {
   "cell_type": "markdown",
   "id": "44c2ec59",
   "metadata": {
    "slideshow": {
     "slide_type": "slide"
    }
   },
   "source": [
    "**🧩 When to Use Which?**\n",
    "\n",
    "| Scenario                                           | Preferred Method     |\n",
    "|----------------------------------------------------|----------------------|\n",
    "| You want to search for text within a string        | `.str.contains()`    |\n",
    "| You want to match exact values from a known list   | `.isin()`            |\n",
    "| You want to filter strings starting with a letter  | `.str.contains()` with regex |\n",
    "| You want to check for numeric values in a list     | `.isin()`            |\n",
    "| You want to apply flexible pattern matching        | `.str.contains()`    |\n"
   ]
  },
  {
   "cell_type": "markdown",
   "id": "ad5926f3",
   "metadata": {
    "slideshow": {
     "slide_type": ""
    },
    "tags": []
   },
   "source": [
    "### [▲](#up)\n",
    "---"
   ]
  }
 ],
 "metadata": {
  "celltoolbar": "Slideshow",
  "kernelspec": {
   "display_name": "Python 3 (ipykernel)",
   "language": "python",
   "name": "python3"
  },
  "language_info": {
   "codemirror_mode": {
    "name": "ipython",
    "version": 3
   },
   "file_extension": ".py",
   "mimetype": "text/x-python",
   "name": "python",
   "nbconvert_exporter": "python",
   "pygments_lexer": "ipython3",
   "version": "3.13.0"
  }
 },
 "nbformat": 4,
 "nbformat_minor": 5
}
