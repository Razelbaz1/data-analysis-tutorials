{
 "cells": [
  {
   "cell_type": "markdown",
   "id": "0937c7b0-0450-4d10-bef1-6521df4f9105",
   "metadata": {
    "editable": true,
    "slideshow": {
     "slide_type": "slide"
    },
    "tags": []
   },
   "source": [
    "<div style=\"color:white;display:fill;border-radius:8px;\n",
    "            background-color:#03112A;font-size:250%; \n",
    "            letter-spacing:1.0px;background-image: url(https://i.imgur.com/GVd0La1.png)\">\n",
    "    <p style=\"padding: 8px;text-align: center;color:white; border-radius: 20px; padding-top: 20px; padding-bottom: 20px;\"><b><b><span style='color:#2ae4f5''></span></b> Exercise no. 4  </b></p>\n",
    "</div>"
   ]
  },
  {
   "cell_type": "markdown",
   "id": "76cc84d2-4279-497a-bd2a-186aebfb1533",
   "metadata": {
    "slideshow": {
     "slide_type": "fragment"
    },
    "tags": []
   },
   "source": [
    "# Groupby and Introduction to Boxplot"
   ]
  },
  {
   "cell_type": "markdown",
   "id": "80fd0699-11ff-4474-9fa0-040a02248505",
   "metadata": {
    "slideshow": {
     "slide_type": "fragment"
    },
    "tags": []
   },
   "source": [
    "1. [Quick recap](#1)\n",
    "2. [Groupby: titanic_df questions](#2)\n",
    "3. [DateTime.](#3)\n",
    "4. [Working with Boxplot](#4)\n",
    "\n",
    "\n",
    "#  <b id=\"Top\"> </b>  "
   ]
  },
  {
   "cell_type": "markdown",
   "id": "c4b91ed7-2156-47cd-b588-6796fabefb69",
   "metadata": {
    "slideshow": {
     "slide_type": "skip"
    }
   },
   "source": [
    "<a id='1'></a>"
   ]
  },
  {
   "cell_type": "markdown",
   "id": "a2fefb2a-16b5-4eb0-b1f8-04ea6ced17ae",
   "metadata": {
    "slideshow": {
     "slide_type": "skip"
    }
   },
   "source": [
    "<a class=\"anchor\" id='1'></a>"
   ]
  },
  {
   "cell_type": "markdown",
   "id": "9da7f897-cf1f-4a7d-b2b7-5630922b967d",
   "metadata": {
    "slideshow": {
     "slide_type": "slide"
    }
   },
   "source": [
    "<h1 style=\"background-color: #fff4d9; color: #0046d6; border-radius: 20px; text-align: center; padding-top: 20px; padding-bottom: 20px; font-family: 'Arial'\" id=\"introduction\">Quick recap.</h1>"
   ]
  },
  {
   "cell_type": "markdown",
   "id": "16c5c84b-0d52-4b3c-b672-6a9a5c8cd225",
   "metadata": {
    "output_scroll": false,
    "output_stretch": true,
    "slideshow": {
     "slide_type": "fragment"
    }
   },
   "source": [
    "---\n",
    "\n",
    ">\n",
    ">* `groupby()` - group according to the columns specified\n",
    ">\n",
    ">* `reset_index()`  adds a numerical index\n",
    ">\n",
    ">* `pd.to_datetime(df['date'])` - changes the attribute type to datetime\n",
    ">\n",
    ">* `pd.DatetimeIndex(df['date']).month` - extracts the month from the datatime attribute\n",
    ">\n",
    ">* `apply` - applies a function on each row (axis =0) in the dataframe. Change to (axis = 1) to apply the function on each column [documentation](https://pandas.pydata.org/pandas-docs/stable/reference/api/pandas.DataFrame.apply.html#pandas.DataFrame.apply)\n",
    ">\n",
    ">* `lambda` - small anonymous function\n",
    ">\n",
    ">* `agg` - apply multiple functions at once, one for each specified column [documentation](https://pandas.pydata.org/pandas-docs/stable/reference/api/pandas.DataFrame.agg.html)\n",
    ">\n",
    ">* `unstack` - unstack the inner-most index onto a column [documentation](https://pandas.pydata.org/docs/reference/api/pandas.DataFrame.unstack.html)\n",
    ">\n",
    ">* `droplevel(0, axis = 1)` - drops the highest (first) level in the column index of a multi-index dataframe\n",
    ">\n",
    ">* `transpose` - switch between columns and rows\n",
    "---"
   ]
  },
  {
   "cell_type": "markdown",
   "id": "b22436f0-321e-4528-a5b2-bbd50ab77f3c",
   "metadata": {
    "slideshow": {
     "slide_type": "skip"
    }
   },
   "source": [
    "<a id='2'></a>"
   ]
  },
  {
   "cell_type": "markdown",
   "id": "2df8a2e8-13dd-4029-8c77-cffad5bf3131",
   "metadata": {
    "slideshow": {
     "slide_type": "slide"
    }
   },
   "source": [
    "<h1 style=\"background-color: #fff4d9; color: #0046d6; border-radius: 20px; text-align: center; padding-top: 20px; padding-bottom: 20px; font-family: 'Arial'\" id=\"introduction\">Groupby: titanic_df</h1>"
   ]
  },
  {
   "cell_type": "code",
   "execution_count": 1,
   "id": "7cfd7f66-8b32-4381-8c88-7df6a98fbb09",
   "metadata": {
    "slideshow": {
     "slide_type": "fragment"
    }
   },
   "outputs": [],
   "source": [
    "import pandas as pd"
   ]
  },
  {
   "cell_type": "code",
   "execution_count": 2,
   "id": "392ce172-46b1-42b7-b84b-d3d67914e65f",
   "metadata": {
    "slideshow": {
     "slide_type": "fragment"
    }
   },
   "outputs": [
    {
     "data": {
      "text/plain": [
       "'C:\\\\Users\\\\razel\\\\Desktop\\\\אריאל\\\\data-analytics\\\\\\u200f\\u200fMy Lectures\\\\tigul4'"
      ]
     },
     "execution_count": 2,
     "metadata": {},
     "output_type": "execute_result"
    }
   ],
   "source": [
    "import os\n",
    "os.getcwd()"
   ]
  },
  {
   "cell_type": "code",
   "execution_count": 3,
   "id": "cd4af829-0b7b-4860-8915-f6f59e4a7264",
   "metadata": {
    "slideshow": {
     "slide_type": "fragment"
    }
   },
   "outputs": [],
   "source": [
    "url = 'https://raw.githubusercontent.com/Razelbaz1/exercises-package/master/data/titanic.csv'\n",
    "titanic_df = pd.read_csv(url,encoding='latin1')"
   ]
  },
  {
   "cell_type": "code",
   "execution_count": 4,
   "id": "4af287e2-d26b-41fb-be6e-85ed002ac590",
   "metadata": {
    "slideshow": {
     "slide_type": "fragment"
    }
   },
   "outputs": [
    {
     "data": {
      "text/html": [
       "<div>\n",
       "<style scoped>\n",
       "    .dataframe tbody tr th:only-of-type {\n",
       "        vertical-align: middle;\n",
       "    }\n",
       "\n",
       "    .dataframe tbody tr th {\n",
       "        vertical-align: top;\n",
       "    }\n",
       "\n",
       "    .dataframe thead th {\n",
       "        text-align: right;\n",
       "    }\n",
       "</style>\n",
       "<table border=\"1\" class=\"dataframe\">\n",
       "  <thead>\n",
       "    <tr style=\"text-align: right;\">\n",
       "      <th></th>\n",
       "      <th>row.names</th>\n",
       "      <th>pclass</th>\n",
       "      <th>survived</th>\n",
       "      <th>name</th>\n",
       "      <th>age</th>\n",
       "      <th>embarked</th>\n",
       "      <th>home.dest</th>\n",
       "      <th>room</th>\n",
       "      <th>ticket</th>\n",
       "      <th>boat</th>\n",
       "      <th>sex</th>\n",
       "    </tr>\n",
       "  </thead>\n",
       "  <tbody>\n",
       "    <tr>\n",
       "      <th>0</th>\n",
       "      <td>1</td>\n",
       "      <td>1st</td>\n",
       "      <td>1</td>\n",
       "      <td>Allen, Miss Elisabeth Walton</td>\n",
       "      <td>29.0000</td>\n",
       "      <td>Southampton</td>\n",
       "      <td>St Louis, MO</td>\n",
       "      <td>B-5</td>\n",
       "      <td>24160 L221</td>\n",
       "      <td>2</td>\n",
       "      <td>female</td>\n",
       "    </tr>\n",
       "    <tr>\n",
       "      <th>1</th>\n",
       "      <td>2</td>\n",
       "      <td>1st</td>\n",
       "      <td>0</td>\n",
       "      <td>Allison, Miss Helen Loraine</td>\n",
       "      <td>2.0000</td>\n",
       "      <td>Southampton</td>\n",
       "      <td>Montreal, PQ / Chesterville, ON</td>\n",
       "      <td>C26</td>\n",
       "      <td>NaN</td>\n",
       "      <td>NaN</td>\n",
       "      <td>female</td>\n",
       "    </tr>\n",
       "    <tr>\n",
       "      <th>2</th>\n",
       "      <td>3</td>\n",
       "      <td>1st</td>\n",
       "      <td>0</td>\n",
       "      <td>Allison, Mr Hudson Joshua Creighton</td>\n",
       "      <td>30.0000</td>\n",
       "      <td>Southampton</td>\n",
       "      <td>Montreal, PQ / Chesterville, ON</td>\n",
       "      <td>C26</td>\n",
       "      <td>NaN</td>\n",
       "      <td>-135</td>\n",
       "      <td>male</td>\n",
       "    </tr>\n",
       "    <tr>\n",
       "      <th>3</th>\n",
       "      <td>4</td>\n",
       "      <td>1st</td>\n",
       "      <td>0</td>\n",
       "      <td>Allison, Mrs Hudson J.C. (Bessie Waldo Daniels)</td>\n",
       "      <td>25.0000</td>\n",
       "      <td>Southampton</td>\n",
       "      <td>Montreal, PQ / Chesterville, ON</td>\n",
       "      <td>C26</td>\n",
       "      <td>NaN</td>\n",
       "      <td>NaN</td>\n",
       "      <td>female</td>\n",
       "    </tr>\n",
       "    <tr>\n",
       "      <th>4</th>\n",
       "      <td>5</td>\n",
       "      <td>1st</td>\n",
       "      <td>1</td>\n",
       "      <td>Allison, Master Hudson Trevor</td>\n",
       "      <td>0.9167</td>\n",
       "      <td>Southampton</td>\n",
       "      <td>Montreal, PQ / Chesterville, ON</td>\n",
       "      <td>C22</td>\n",
       "      <td>NaN</td>\n",
       "      <td>11</td>\n",
       "      <td>male</td>\n",
       "    </tr>\n",
       "  </tbody>\n",
       "</table>\n",
       "</div>"
      ],
      "text/plain": [
       "   row.names pclass  survived  \\\n",
       "0          1    1st         1   \n",
       "1          2    1st         0   \n",
       "2          3    1st         0   \n",
       "3          4    1st         0   \n",
       "4          5    1st         1   \n",
       "\n",
       "                                              name      age     embarked  \\\n",
       "0                     Allen, Miss Elisabeth Walton  29.0000  Southampton   \n",
       "1                      Allison, Miss Helen Loraine   2.0000  Southampton   \n",
       "2              Allison, Mr Hudson Joshua Creighton  30.0000  Southampton   \n",
       "3  Allison, Mrs Hudson J.C. (Bessie Waldo Daniels)  25.0000  Southampton   \n",
       "4                    Allison, Master Hudson Trevor   0.9167  Southampton   \n",
       "\n",
       "                         home.dest room      ticket  boat     sex  \n",
       "0                     St Louis, MO  B-5  24160 L221     2  female  \n",
       "1  Montreal, PQ / Chesterville, ON  C26         NaN   NaN  female  \n",
       "2  Montreal, PQ / Chesterville, ON  C26         NaN  -135    male  \n",
       "3  Montreal, PQ / Chesterville, ON  C26         NaN   NaN  female  \n",
       "4  Montreal, PQ / Chesterville, ON  C22         NaN    11    male  "
      ]
     },
     "execution_count": 4,
     "metadata": {},
     "output_type": "execute_result"
    }
   ],
   "source": [
    "titanic_df.head()"
   ]
  },
  {
   "cell_type": "markdown",
   "id": "7b23ae0c-3dc7-4fbb-89cc-c60cfbe7ec70",
   "metadata": {
    "slideshow": {
     "slide_type": "slide"
    }
   },
   "source": [
    "# Now you."
   ]
  },
  {
   "cell_type": "markdown",
   "id": "ab66c98b-c98a-432f-ae67-31f63f9b7741",
   "metadata": {
    "slideshow": {
     "slide_type": "fragment"
    }
   },
   "source": [
    "#### 1.1 What is the average age for male versus female Titanic passengers?"
   ]
  },
  {
   "cell_type": "code",
   "execution_count": 5,
   "id": "4e9c2d5f-8a05-4951-b719-169c81dd750c",
   "metadata": {
    "slideshow": {
     "slide_type": "fragment"
    }
   },
   "outputs": [
    {
     "data": {
      "text/plain": [
       "Index(['row.names', 'pclass', 'survived', 'name', 'age', 'embarked',\n",
       "       'home.dest', 'room', 'ticket', 'boat', 'sex'],\n",
       "      dtype='object')"
      ]
     },
     "execution_count": 5,
     "metadata": {},
     "output_type": "execute_result"
    }
   ],
   "source": [
    "titanic_df.columns"
   ]
  },
  {
   "cell_type": "code",
   "execution_count": null,
   "id": "796e8955-ea74-4cff-a9fc-e9fe43d6c853",
   "metadata": {},
   "outputs": [],
   "source": []
  },
  {
   "cell_type": "markdown",
   "id": "cb649827-7cdb-4a08-9b7b-eceed2b9ece2",
   "metadata": {
    "jp-MarkdownHeadingCollapsed": true
   },
   "source": [
    "##### Asn"
   ]
  },
  {
   "cell_type": "code",
   "execution_count": 6,
   "id": "aca8419d-7c90-4730-87ce-d6db8f6e4483",
   "metadata": {
    "slideshow": {
     "slide_type": "fragment"
    }
   },
   "outputs": [
    {
     "data": {
      "text/plain": [
       "sex\n",
       "female    30.572702\n",
       "male      31.581410\n",
       "Name: age, dtype: float64"
      ]
     },
     "execution_count": 6,
     "metadata": {},
     "output_type": "execute_result"
    }
   ],
   "source": [
    "titanic_df.groupby([\"sex\"])['age'].mean()"
   ]
  },
  {
   "cell_type": "markdown",
   "id": "9d2722f7-5bdd-4817-a1b6-8fa0c28cd9ef",
   "metadata": {
    "slideshow": {
     "slide_type": "fragment"
    }
   },
   "source": [
    "> Or alternatively: if we want to save the output as a `DataFrame`."
   ]
  },
  {
   "cell_type": "code",
   "execution_count": 7,
   "id": "296342a3-ff43-4fdc-ada5-6cc8cf34053b",
   "metadata": {
    "slideshow": {
     "slide_type": "fragment"
    }
   },
   "outputs": [
    {
     "data": {
      "text/html": [
       "<div>\n",
       "<style scoped>\n",
       "    .dataframe tbody tr th:only-of-type {\n",
       "        vertical-align: middle;\n",
       "    }\n",
       "\n",
       "    .dataframe tbody tr th {\n",
       "        vertical-align: top;\n",
       "    }\n",
       "\n",
       "    .dataframe thead th {\n",
       "        text-align: right;\n",
       "    }\n",
       "</style>\n",
       "<table border=\"1\" class=\"dataframe\">\n",
       "  <thead>\n",
       "    <tr style=\"text-align: right;\">\n",
       "      <th></th>\n",
       "      <th>age</th>\n",
       "    </tr>\n",
       "    <tr>\n",
       "      <th>sex</th>\n",
       "      <th></th>\n",
       "    </tr>\n",
       "  </thead>\n",
       "  <tbody>\n",
       "    <tr>\n",
       "      <th>female</th>\n",
       "      <td>30.572702</td>\n",
       "    </tr>\n",
       "    <tr>\n",
       "      <th>male</th>\n",
       "      <td>31.581410</td>\n",
       "    </tr>\n",
       "  </tbody>\n",
       "</table>\n",
       "</div>"
      ],
      "text/plain": [
       "              age\n",
       "sex              \n",
       "female  30.572702\n",
       "male    31.581410"
      ]
     },
     "execution_count": 7,
     "metadata": {},
     "output_type": "execute_result"
    }
   ],
   "source": [
    "titanic_df[[\"sex\", \"age\"]].groupby(\"sex\").mean()"
   ]
  },
  {
   "cell_type": "markdown",
   "id": "6c9a8a8c-5885-4596-93e2-d51302cb37ca",
   "metadata": {
    "slideshow": {
     "slide_type": "slide"
    }
   },
   "source": [
    "#### 1.2 How many passengers were in each class ?"
   ]
  },
  {
   "cell_type": "code",
   "execution_count": null,
   "id": "d206bb8c-8d99-40a7-b377-d9f89270ddf5",
   "metadata": {},
   "outputs": [],
   "source": []
  },
  {
   "cell_type": "markdown",
   "id": "f72cadbb-c00e-4dd0-bfc1-0b454cfdf165",
   "metadata": {
    "jp-MarkdownHeadingCollapsed": true
   },
   "source": [
    "##### Asn"
   ]
  },
  {
   "cell_type": "code",
   "execution_count": 8,
   "id": "570f0be8-d314-409e-b3ed-3e22b44d2ef6",
   "metadata": {
    "slideshow": {
     "slide_type": "fragment"
    }
   },
   "outputs": [
    {
     "data": {
      "text/plain": [
       "pclass\n",
       "1st    322\n",
       "2nd    280\n",
       "3rd    711\n",
       "Name: row.names, dtype: int64"
      ]
     },
     "execution_count": 8,
     "metadata": {},
     "output_type": "execute_result"
    }
   ],
   "source": [
    "titanic_df.groupby('pclass')['row.names'].count()"
   ]
  },
  {
   "cell_type": "code",
   "execution_count": 9,
   "id": "c784425d-8388-4cbf-a194-66baa5b06bdf",
   "metadata": {
    "slideshow": {
     "slide_type": "fragment"
    }
   },
   "outputs": [
    {
     "data": {
      "text/plain": [
       "pclass\n",
       "1st    322\n",
       "2nd    280\n",
       "3rd    711\n",
       "Name: pclass, dtype: int64"
      ]
     },
     "execution_count": 9,
     "metadata": {},
     "output_type": "execute_result"
    }
   ],
   "source": [
    "titanic_df.groupby('pclass')['pclass'].count()"
   ]
  },
  {
   "cell_type": "code",
   "execution_count": 10,
   "id": "5de617d6-e4cd-4bf6-a107-5856caaf83b1",
   "metadata": {
    "slideshow": {
     "slide_type": "fragment"
    }
   },
   "outputs": [
    {
     "data": {
      "text/html": [
       "<div>\n",
       "<style scoped>\n",
       "    .dataframe tbody tr th:only-of-type {\n",
       "        vertical-align: middle;\n",
       "    }\n",
       "\n",
       "    .dataframe tbody tr th {\n",
       "        vertical-align: top;\n",
       "    }\n",
       "\n",
       "    .dataframe thead th {\n",
       "        text-align: right;\n",
       "    }\n",
       "</style>\n",
       "<table border=\"1\" class=\"dataframe\">\n",
       "  <thead>\n",
       "    <tr style=\"text-align: right;\">\n",
       "      <th></th>\n",
       "      <th>pclass</th>\n",
       "      <th>counts</th>\n",
       "    </tr>\n",
       "  </thead>\n",
       "  <tbody>\n",
       "    <tr>\n",
       "      <th>0</th>\n",
       "      <td>1st</td>\n",
       "      <td>322</td>\n",
       "    </tr>\n",
       "    <tr>\n",
       "      <th>1</th>\n",
       "      <td>2nd</td>\n",
       "      <td>280</td>\n",
       "    </tr>\n",
       "    <tr>\n",
       "      <th>2</th>\n",
       "      <td>3rd</td>\n",
       "      <td>711</td>\n",
       "    </tr>\n",
       "  </tbody>\n",
       "</table>\n",
       "</div>"
      ],
      "text/plain": [
       "  pclass  counts\n",
       "0    1st     322\n",
       "1    2nd     280\n",
       "2    3rd     711"
      ]
     },
     "execution_count": 10,
     "metadata": {},
     "output_type": "execute_result"
    }
   ],
   "source": [
    "titanic_df.groupby(\"pclass\")[\"pclass\"].count().reset_index(name='counts')"
   ]
  },
  {
   "cell_type": "markdown",
   "id": "18f2abac-bdd9-47d1-8b91-824a563405d2",
   "metadata": {
    "slideshow": {
     "slide_type": "slide"
    }
   },
   "source": [
    "**OR**"
   ]
  },
  {
   "cell_type": "code",
   "execution_count": 11,
   "id": "5d2e0a42-3a1d-4ad0-aa3f-fd040e9932db",
   "metadata": {
    "slideshow": {
     "slide_type": "fragment"
    }
   },
   "outputs": [
    {
     "data": {
      "text/plain": [
       "pclass\n",
       "1st    322\n",
       "2nd    280\n",
       "3rd    711\n",
       "dtype: int64"
      ]
     },
     "execution_count": 11,
     "metadata": {},
     "output_type": "execute_result"
    }
   ],
   "source": [
    "titanic_df.groupby(['pclass']).size()"
   ]
  },
  {
   "cell_type": "markdown",
   "id": "0c3d009c-abc7-47f9-862e-62c87dd1602b",
   "metadata": {
    "slideshow": {
     "slide_type": "fragment"
    }
   },
   "source": [
    "> Basically, a `size` function counts the number of rows in each group."
   ]
  },
  {
   "cell_type": "code",
   "execution_count": 12,
   "id": "1a1a0b8b-6a2e-4809-94af-a96af83fc492",
   "metadata": {},
   "outputs": [],
   "source": [
    "#titanic_df.groupby(\"pclass\").count()  "
   ]
  },
  {
   "cell_type": "code",
   "execution_count": 13,
   "id": "6cddfd0d-5006-4d2d-b02e-e2538129fd5a",
   "metadata": {},
   "outputs": [],
   "source": [
    "# Whats the problem here ?"
   ]
  },
  {
   "cell_type": "markdown",
   "id": "97553187-31cc-4a65-b65c-7aaf7c1829b2",
   "metadata": {
    "slideshow": {
     "slide_type": "slide"
    }
   },
   "source": [
    "#### 1.3 Answer the question so that the output is as a data frame. "
   ]
  },
  {
   "cell_type": "code",
   "execution_count": null,
   "id": "dfd36faf-5222-4a34-ab02-2ba8b4acb464",
   "metadata": {},
   "outputs": [],
   "source": []
  },
  {
   "cell_type": "markdown",
   "id": "b13e8b0c-03b8-4cf1-bae4-d231865e387b",
   "metadata": {
    "jp-MarkdownHeadingCollapsed": true
   },
   "source": [
    "##### Asn"
   ]
  },
  {
   "cell_type": "code",
   "execution_count": 14,
   "id": "96b59740-b8a7-4ecf-832f-ebaeb98adccd",
   "metadata": {
    "slideshow": {
     "slide_type": "fragment"
    }
   },
   "outputs": [
    {
     "data": {
      "text/html": [
       "<div>\n",
       "<style scoped>\n",
       "    .dataframe tbody tr th:only-of-type {\n",
       "        vertical-align: middle;\n",
       "    }\n",
       "\n",
       "    .dataframe tbody tr th {\n",
       "        vertical-align: top;\n",
       "    }\n",
       "\n",
       "    .dataframe thead th {\n",
       "        text-align: right;\n",
       "    }\n",
       "</style>\n",
       "<table border=\"1\" class=\"dataframe\">\n",
       "  <thead>\n",
       "    <tr style=\"text-align: right;\">\n",
       "      <th></th>\n",
       "      <th>pclass</th>\n",
       "      <th>counts</th>\n",
       "    </tr>\n",
       "  </thead>\n",
       "  <tbody>\n",
       "    <tr>\n",
       "      <th>0</th>\n",
       "      <td>1st</td>\n",
       "      <td>322</td>\n",
       "    </tr>\n",
       "    <tr>\n",
       "      <th>1</th>\n",
       "      <td>2nd</td>\n",
       "      <td>280</td>\n",
       "    </tr>\n",
       "    <tr>\n",
       "      <th>2</th>\n",
       "      <td>3rd</td>\n",
       "      <td>711</td>\n",
       "    </tr>\n",
       "  </tbody>\n",
       "</table>\n",
       "</div>"
      ],
      "text/plain": [
       "  pclass  counts\n",
       "0    1st     322\n",
       "1    2nd     280\n",
       "2    3rd     711"
      ]
     },
     "execution_count": 14,
     "metadata": {},
     "output_type": "execute_result"
    }
   ],
   "source": [
    "# As dataframe\n",
    "titanic_df.groupby(['pclass']).size().reset_index(name='counts')"
   ]
  },
  {
   "cell_type": "markdown",
   "id": "de6f670b-5005-4797-9c7b-de38dfdfd5ca",
   "metadata": {
    "slideshow": {
     "slide_type": "fragment"
    }
   },
   "source": [
    "**OR**"
   ]
  },
  {
   "cell_type": "code",
   "execution_count": 15,
   "id": "243bebc9-ff11-4295-ab1d-14170b064a23",
   "metadata": {
    "slideshow": {
     "slide_type": "fragment"
    }
   },
   "outputs": [
    {
     "data": {
      "text/html": [
       "<div>\n",
       "<style scoped>\n",
       "    .dataframe tbody tr th:only-of-type {\n",
       "        vertical-align: middle;\n",
       "    }\n",
       "\n",
       "    .dataframe tbody tr th {\n",
       "        vertical-align: top;\n",
       "    }\n",
       "\n",
       "    .dataframe thead th {\n",
       "        text-align: right;\n",
       "    }\n",
       "</style>\n",
       "<table border=\"1\" class=\"dataframe\">\n",
       "  <thead>\n",
       "    <tr style=\"text-align: right;\">\n",
       "      <th></th>\n",
       "      <th>pclass</th>\n",
       "      <th>counts</th>\n",
       "    </tr>\n",
       "  </thead>\n",
       "  <tbody>\n",
       "    <tr>\n",
       "      <th>0</th>\n",
       "      <td>1st</td>\n",
       "      <td>322</td>\n",
       "    </tr>\n",
       "    <tr>\n",
       "      <th>1</th>\n",
       "      <td>2nd</td>\n",
       "      <td>280</td>\n",
       "    </tr>\n",
       "    <tr>\n",
       "      <th>2</th>\n",
       "      <td>3rd</td>\n",
       "      <td>711</td>\n",
       "    </tr>\n",
       "  </tbody>\n",
       "</table>\n",
       "</div>"
      ],
      "text/plain": [
       "  pclass  counts\n",
       "0    1st     322\n",
       "1    2nd     280\n",
       "2    3rd     711"
      ]
     },
     "execution_count": 15,
     "metadata": {},
     "output_type": "execute_result"
    }
   ],
   "source": [
    "titanic_df.groupby(['pclass'])[\"pclass\"].count().reset_index(name='counts')"
   ]
  },
  {
   "cell_type": "markdown",
   "id": "68dded89-1151-4996-872d-9b09a5ddd587",
   "metadata": {
    "slideshow": {
     "slide_type": "slide"
    }
   },
   "source": [
    "#### 2. Suggest a solution for the code you wrote to additionally classify by gender."
   ]
  },
  {
   "cell_type": "code",
   "execution_count": null,
   "id": "0a425eb5-666c-4427-8eb6-f9dc7b261ffa",
   "metadata": {},
   "outputs": [],
   "source": []
  },
  {
   "cell_type": "markdown",
   "id": "b451fb81-df3a-495a-b480-1eb642ba39b8",
   "metadata": {
    "jp-MarkdownHeadingCollapsed": true
   },
   "source": [
    "##### Asn"
   ]
  },
  {
   "cell_type": "code",
   "execution_count": 16,
   "id": "750c5497-8b95-4f19-a434-22b00a7c9b42",
   "metadata": {
    "slideshow": {
     "slide_type": "fragment"
    }
   },
   "outputs": [
    {
     "data": {
      "text/plain": [
       "pclass  sex   \n",
       "1st     male      179\n",
       "        female    143\n",
       "2nd     male      173\n",
       "        female    107\n",
       "3rd     male      498\n",
       "        female    213\n",
       "Name: count, dtype: int64"
      ]
     },
     "execution_count": 16,
     "metadata": {},
     "output_type": "execute_result"
    }
   ],
   "source": [
    "titanic_df.groupby(['pclass'])['sex'].value_counts()"
   ]
  },
  {
   "cell_type": "code",
   "execution_count": 17,
   "id": "9d6060e8-733d-48a7-a41b-3860c2696943",
   "metadata": {
    "slideshow": {
     "slide_type": "fragment"
    }
   },
   "outputs": [
    {
     "data": {
      "text/plain": [
       "pclass  sex   \n",
       "1st     female    143\n",
       "        male      179\n",
       "2nd     female    107\n",
       "        male      173\n",
       "3rd     female    213\n",
       "        male      498\n",
       "Name: sex, dtype: int64"
      ]
     },
     "execution_count": 17,
     "metadata": {},
     "output_type": "execute_result"
    }
   ],
   "source": [
    "titanic_df.groupby(['pclass','sex'])['sex'].count()"
   ]
  },
  {
   "cell_type": "markdown",
   "id": "b5e76940-d240-4402-9c15-529c75bbb3ed",
   "metadata": {
    "slideshow": {
     "slide_type": "slide"
    }
   },
   "source": [
    "#### 3.1 Suggest a solution for how many survived by class and gender."
   ]
  },
  {
   "cell_type": "code",
   "execution_count": null,
   "id": "7ba65b16-a220-45dd-a0a0-2bb6e5cec379",
   "metadata": {},
   "outputs": [],
   "source": []
  },
  {
   "cell_type": "markdown",
   "id": "4b561b87-0891-45c4-9696-24d6e9883431",
   "metadata": {
    "jp-MarkdownHeadingCollapsed": true
   },
   "source": [
    "##### Asn"
   ]
  },
  {
   "cell_type": "code",
   "execution_count": 18,
   "id": "21b214f6-eb15-452f-aa6c-45188c4f6ba7",
   "metadata": {
    "slideshow": {
     "slide_type": "fragment"
    }
   },
   "outputs": [
    {
     "data": {
      "text/plain": [
       "pclass  sex   \n",
       "1st     female    134\n",
       "        male       59\n",
       "2nd     female     94\n",
       "        male       25\n",
       "3rd     female     79\n",
       "        male       58\n",
       "Name: survived, dtype: int64"
      ]
     },
     "execution_count": 18,
     "metadata": {},
     "output_type": "execute_result"
    }
   ],
   "source": [
    "titanic_df.groupby(['pclass','sex'])['survived'].sum()"
   ]
  },
  {
   "cell_type": "markdown",
   "id": "903f7c54-153b-4bd5-b86c-bfe84b0fd042",
   "metadata": {
    "slideshow": {
     "slide_type": "fragment"
    }
   },
   "source": [
    "#### 3.2 Suggest a solution for how many survived AND not survived by class and gender."
   ]
  },
  {
   "cell_type": "code",
   "execution_count": null,
   "id": "b08d9fa6-47a4-4c26-935a-f1b9842dca65",
   "metadata": {},
   "outputs": [],
   "source": []
  },
  {
   "cell_type": "markdown",
   "id": "b193e1a7-de98-4f3b-99e2-13257ac68eeb",
   "metadata": {
    "jp-MarkdownHeadingCollapsed": true
   },
   "source": [
    "##### Asn"
   ]
  },
  {
   "cell_type": "code",
   "execution_count": 19,
   "id": "4b44465a-f910-4d26-b382-f16fb808559e",
   "metadata": {
    "slideshow": {
     "slide_type": "fragment"
    }
   },
   "outputs": [
    {
     "data": {
      "text/plain": [
       "pclass  sex     survived\n",
       "1st     female  1           134\n",
       "                0             9\n",
       "        male    0           120\n",
       "                1            59\n",
       "2nd     female  1            94\n",
       "                0            13\n",
       "        male    0           148\n",
       "                1            25\n",
       "3rd     female  0           134\n",
       "                1            79\n",
       "        male    0           440\n",
       "                1            58\n",
       "Name: count, dtype: int64"
      ]
     },
     "execution_count": 19,
     "metadata": {},
     "output_type": "execute_result"
    }
   ],
   "source": [
    "titanic_df.groupby(['pclass','sex'])['survived'].value_counts()"
   ]
  },
  {
   "cell_type": "markdown",
   "id": "deaed9cc-1c61-414d-8ad1-1b55a1b7da99",
   "metadata": {
    "slideshow": {
     "slide_type": "slide"
    }
   },
   "source": [
    "#### 4. Suggest a solution for how many total and average survivors by class"
   ]
  },
  {
   "cell_type": "code",
   "execution_count": null,
   "id": "edf75ba0-2f64-4fd0-97a3-306b50dd21c2",
   "metadata": {},
   "outputs": [],
   "source": []
  },
  {
   "cell_type": "markdown",
   "id": "96f0606d-d247-457e-9568-2972324d26c0",
   "metadata": {
    "jp-MarkdownHeadingCollapsed": true
   },
   "source": [
    "##### Asn"
   ]
  },
  {
   "cell_type": "code",
   "execution_count": 20,
   "id": "cc99e95b-2547-476f-90fb-b0dd2a04ae48",
   "metadata": {
    "slideshow": {
     "slide_type": "fragment"
    }
   },
   "outputs": [
    {
     "data": {
      "text/html": [
       "<div>\n",
       "<style scoped>\n",
       "    .dataframe tbody tr th:only-of-type {\n",
       "        vertical-align: middle;\n",
       "    }\n",
       "\n",
       "    .dataframe tbody tr th {\n",
       "        vertical-align: top;\n",
       "    }\n",
       "\n",
       "    .dataframe thead th {\n",
       "        text-align: right;\n",
       "    }\n",
       "</style>\n",
       "<table border=\"1\" class=\"dataframe\">\n",
       "  <thead>\n",
       "    <tr style=\"text-align: right;\">\n",
       "      <th></th>\n",
       "      <th>mean</th>\n",
       "      <th>sum</th>\n",
       "    </tr>\n",
       "    <tr>\n",
       "      <th>pclass</th>\n",
       "      <th></th>\n",
       "      <th></th>\n",
       "    </tr>\n",
       "  </thead>\n",
       "  <tbody>\n",
       "    <tr>\n",
       "      <th>1st</th>\n",
       "      <td>0.599379</td>\n",
       "      <td>193</td>\n",
       "    </tr>\n",
       "    <tr>\n",
       "      <th>2nd</th>\n",
       "      <td>0.425000</td>\n",
       "      <td>119</td>\n",
       "    </tr>\n",
       "    <tr>\n",
       "      <th>3rd</th>\n",
       "      <td>0.192686</td>\n",
       "      <td>137</td>\n",
       "    </tr>\n",
       "  </tbody>\n",
       "</table>\n",
       "</div>"
      ],
      "text/plain": [
       "            mean  sum\n",
       "pclass               \n",
       "1st     0.599379  193\n",
       "2nd     0.425000  119\n",
       "3rd     0.192686  137"
      ]
     },
     "execution_count": 20,
     "metadata": {},
     "output_type": "execute_result"
    }
   ],
   "source": [
    "titanic_df.groupby(['pclass'])['survived'].agg(['mean','sum'])"
   ]
  },
  {
   "cell_type": "markdown",
   "id": "eaf05b41-5844-4a23-be38-1f0555137a6a",
   "metadata": {
    "slideshow": {
     "slide_type": "slide"
    }
   },
   "source": [
    "#### Can we convert continuous or interval ratio types of data into a categorical variable ?\n",
    "#### Think about a way to group by `age`\n"
   ]
  },
  {
   "cell_type": "markdown",
   "id": "1577b59b-464e-4356-8bdf-3c93a556c0a1",
   "metadata": {
    "slideshow": {
     "slide_type": "fragment"
    }
   },
   "source": [
    "---\n",
    "#### A common way to look at the distribution of a continuous number is through a graph called a `histogram`. [Read here for more](#https://seaborn.pydata.org/generated/seaborn.histplot.html)\n",
    "A histogram is a classic visualization tool that represents the distribution of one or more variables by counting the number of observations that fall within discrete bins.\n",
    "\n",
    "We will talk about this in detail during the semester."
   ]
  },
  {
   "cell_type": "code",
   "execution_count": 6,
   "id": "341384df-250f-4f1f-a4f3-865f6641d58d",
   "metadata": {
    "slideshow": {
     "slide_type": "slide"
    }
   },
   "outputs": [
    {
     "data": {
      "image/png": "[encoded data removed]",
      "text/plain": [
       "<Figure size 640x480 with 1 Axes>"
      ]
     },
     "metadata": {},
     "output_type": "display_data"
    }
   ],
   "source": [
    "import seaborn as sns\n",
    "sns.histplot(titanic_df['age'],bins = 40 ,kde= True);"
   ]
  },
  {
   "cell_type": "markdown",
   "id": "a362f611-d696-432d-9f66-96f4b9c3f991",
   "metadata": {
    "slideshow": {
     "slide_type": "slide"
    }
   },
   "source": [
    "#### Can we convert continuous or interval ratio types of data into a categorical variable ?\n",
    "#### Think about a way to group by `age`\n"
   ]
  },
  {
   "cell_type": "markdown",
   "id": "a783f22b-ed54-45e7-a4f0-2591a09c8285",
   "metadata": {
    "slideshow": {
     "slide_type": "fragment"
    }
   },
   "source": [
    "##### Hint: look for `pd.cut` via internet\n",
    "\n",
    "\"\n",
    "    Bin values into discrete intervals.\n",
    "\n",
    "Use cut when you need to segment and sort data values into bins. This function is also useful for going from a continuous variable to a categorical variable. For example, cut could convert ages to groups of age ranges. Supports binning into an equal number of bins, or a pre-specified array of bins.\n",
    "        \""
   ]
  },
  {
   "cell_type": "markdown",
   "id": "b3d47f84-2851-4907-9930-f3fbf2cb1507",
   "metadata": {
    "slideshow": {
     "slide_type": "slide"
    }
   },
   "source": [
    "### So how do we divide them?\n",
    "##### By equal ranges in numbers **or** by the amount of values?"
   ]
  },
  {
   "cell_type": "code",
   "execution_count": 7,
   "id": "138981c2-c567-470b-af7b-89c98b94885f",
   "metadata": {
    "slideshow": {
     "slide_type": "fragment"
    }
   },
   "outputs": [
    {
     "data": {
      "text/html": [
       "<div>\n",
       "<style scoped>\n",
       "    .dataframe tbody tr th:only-of-type {\n",
       "        vertical-align: middle;\n",
       "    }\n",
       "\n",
       "    .dataframe tbody tr th {\n",
       "        vertical-align: top;\n",
       "    }\n",
       "\n",
       "    .dataframe thead th {\n",
       "        text-align: right;\n",
       "    }\n",
       "</style>\n",
       "<table border=\"1\" class=\"dataframe\">\n",
       "  <thead>\n",
       "    <tr style=\"text-align: right;\">\n",
       "      <th></th>\n",
       "      <th>age</th>\n",
       "    </tr>\n",
       "  </thead>\n",
       "  <tbody>\n",
       "    <tr>\n",
       "      <th>count</th>\n",
       "      <td>633.0</td>\n",
       "    </tr>\n",
       "    <tr>\n",
       "      <th>mean</th>\n",
       "      <td>31.0</td>\n",
       "    </tr>\n",
       "    <tr>\n",
       "      <th>std</th>\n",
       "      <td>15.0</td>\n",
       "    </tr>\n",
       "    <tr>\n",
       "      <th>min</th>\n",
       "      <td>0.0</td>\n",
       "    </tr>\n",
       "    <tr>\n",
       "      <th>25%</th>\n",
       "      <td>21.0</td>\n",
       "    </tr>\n",
       "    <tr>\n",
       "      <th>50%</th>\n",
       "      <td>30.0</td>\n",
       "    </tr>\n",
       "    <tr>\n",
       "      <th>75%</th>\n",
       "      <td>41.0</td>\n",
       "    </tr>\n",
       "    <tr>\n",
       "      <th>max</th>\n",
       "      <td>71.0</td>\n",
       "    </tr>\n",
       "  </tbody>\n",
       "</table>\n",
       "</div>"
      ],
      "text/plain": [
       "         age\n",
       "count  633.0\n",
       "mean    31.0\n",
       "std     15.0\n",
       "min      0.0\n",
       "25%     21.0\n",
       "50%     30.0\n",
       "75%     41.0\n",
       "max     71.0"
      ]
     },
     "execution_count": 7,
     "metadata": {},
     "output_type": "execute_result"
    }
   ],
   "source": [
    "titanic_df[['age']].describe().round()"
   ]
  },
  {
   "cell_type": "markdown",
   "id": "3a260224-7a2c-445e-86d2-a100e86d4745",
   "metadata": {
    "slideshow": {
     "slide_type": "slide"
    }
   },
   "source": [
    "<div style=\"color:white;display:fill;border-radius:8px;\n",
    "            background-color:#03112A;font-size:150%;\n",
    "            letter-spacing:1.0px;background-image: url(https://i.imgur.com/GVd0La1.png)\">\n",
    "    <p style=\"padding: 8px;color:white;\"><b><b><span style='color:#2ae4f5''> |</span></b> Division by fixed numerical ranges - pd.cut</b></p>\n",
    "</div>"
   ]
  },
  {
   "cell_type": "code",
   "execution_count": 8,
   "id": "89b17106-fd70-486d-b161-0e7bd787d695",
   "metadata": {
    "slideshow": {
     "slide_type": "fragment"
    }
   },
   "outputs": [],
   "source": [
    "titanic_df['age_bins'] = pd.cut(titanic_df['age'], bins = 3, labels = ('young', 'middle_age', 'old' )) # bins also accept intervals such as bins=range(0, 100, 10)"
   ]
  },
  {
   "cell_type": "code",
   "execution_count": 9,
   "id": "a176b1ad-6ea7-46bf-be53-fdca15bf4625",
   "metadata": {
    "slideshow": {
     "slide_type": "fragment"
    }
   },
   "outputs": [
    {
     "name": "stdout",
     "output_type": "stream",
     "text": [
      "IntervalIndex([(0.0959, 23.778], (23.778, 47.389], (47.389, 71.0]], dtype='interval[float64, right]')\n"
     ]
    }
   ],
   "source": [
    "bins = pd.cut(titanic_df['age'], bins=3) #show intervals\n",
    "print(bins.cat.categories)  "
   ]
  },
  {
   "cell_type": "code",
   "execution_count": 10,
   "id": "21255fcb-0a63-42a4-b759-50a9b8ac9934",
   "metadata": {
    "slideshow": {
     "slide_type": "fragment"
    }
   },
   "outputs": [
    {
     "data": {
      "image/png": "[encoded data removed]",
      "text/plain": [
       "<Figure size 1800x400 with 2 Axes>"
      ]
     },
     "metadata": {},
     "output_type": "display_data"
    }
   ],
   "source": [
    "import matplotlib.pyplot as plt  #for reshaping graph size\n",
    "\n",
    "fig, ax = plt.subplots(1,2, figsize = (18,4))\n",
    "plt.subplots_adjust(wspace = 0.5)\n",
    "\n",
    "sns.kdeplot(data = titanic_df,x='age', ax = ax[0]);\n",
    "ax[0].set_title('age');\n",
    "\n",
    "sns.kdeplot(data = titanic_df,x='age',hue= 'age_bins', ax = ax[1] );\n",
    "ax[1].set_title('age_bins');\n"
   ]
  },
  {
   "cell_type": "markdown",
   "id": "218e29c3-5a6f-438a-91d4-c0f5362789b0",
   "metadata": {
    "slideshow": {
     "slide_type": "fragment"
    }
   },
   "source": [
    "**KDE, or Kernl Density Estimation, is a statistical tool that aims to estimate the density function of a random variable (distribution) based on given data.** (More on the graph later in the semester.)"
   ]
  },
  {
   "cell_type": "markdown",
   "id": "306a2ffd-f32a-4564-abca-3b66d0929aad",
   "metadata": {
    "slideshow": {
     "slide_type": "slide"
    }
   },
   "source": [
    "#### How many have survived now by age group?"
   ]
  },
  {
   "cell_type": "code",
   "execution_count": null,
   "id": "c0d8dee0-7fc1-41f4-ae84-f5a869a9f895",
   "metadata": {},
   "outputs": [],
   "source": []
  },
  {
   "cell_type": "markdown",
   "id": "49148a1b-b618-4fc9-b612-895213859461",
   "metadata": {
    "jp-MarkdownHeadingCollapsed": true
   },
   "source": [
    "##### Asn"
   ]
  },
  {
   "cell_type": "code",
   "execution_count": 26,
   "id": "587e518c-a9fc-43bb-b990-19dcac0dfce4",
   "metadata": {
    "slideshow": {
     "slide_type": "fragment"
    }
   },
   "outputs": [
    {
     "data": {
      "text/plain": [
       "age_bins\n",
       "young         104\n",
       "middle_age    130\n",
       "old            47\n",
       "Name: survived, dtype: int64"
      ]
     },
     "execution_count": 26,
     "metadata": {},
     "output_type": "execute_result"
    }
   ],
   "source": [
    "titanic_df.groupby(['age_bins'], observed=False)['survived'].sum()\n",
    "\n",
    "# what happen if :\n",
    "# titanic_df.groupby(['age_bins']).sum()\n",
    "\n",
    "# every numeric column will appear"
   ]
  },
  {
   "cell_type": "markdown",
   "id": "6889f43e-4f2e-4c35-aacc-d75df8bc65cd",
   "metadata": {
    "slideshow": {
     "slide_type": "fragment"
    }
   },
   "source": [
    "**Add `observed=False` to include the categories that did not receive values** \n",
    "\n",
    "Suppose the `age_bins` category contains the following ranges: ['young', 'middle_age', 'old'], but the data only contains values for the ranges `young` and `old`.\n",
    "\n",
    "`observed=False`: The output will also include the `middle_age` category with a value of `0`, because it is part of the defined categories.\n",
    "\n",
    "`observed=True`: The output will only include `young` and `old`, without categories that have no data."
   ]
  },
  {
   "cell_type": "markdown",
   "id": "48df7dbb-e806-438e-8724-8cb4f1a78c03",
   "metadata": {
    "slideshow": {
     "slide_type": "slide"
    }
   },
   "source": [
    "##### Have we classified the ages correctly?\n",
    "##### Suggest a way to check this."
   ]
  },
  {
   "cell_type": "code",
   "execution_count": 11,
   "id": "ee334c2c-438f-4dc7-bbda-54d0888f99e6",
   "metadata": {
    "slideshow": {
     "slide_type": "fragment"
    }
   },
   "outputs": [
    {
     "data": {
      "text/html": [
       "<div>\n",
       "<style scoped>\n",
       "    .dataframe tbody tr th:only-of-type {\n",
       "        vertical-align: middle;\n",
       "    }\n",
       "\n",
       "    .dataframe tbody tr th {\n",
       "        vertical-align: top;\n",
       "    }\n",
       "\n",
       "    .dataframe thead th {\n",
       "        text-align: right;\n",
       "    }\n",
       "</style>\n",
       "<table border=\"1\" class=\"dataframe\">\n",
       "  <thead>\n",
       "    <tr style=\"text-align: right;\">\n",
       "      <th></th>\n",
       "      <th>count</th>\n",
       "      <th>mean</th>\n",
       "      <th>std</th>\n",
       "      <th>min</th>\n",
       "      <th>25%</th>\n",
       "      <th>50%</th>\n",
       "      <th>75%</th>\n",
       "      <th>max</th>\n",
       "    </tr>\n",
       "    <tr>\n",
       "      <th>age_bins</th>\n",
       "      <th></th>\n",
       "      <th></th>\n",
       "      <th></th>\n",
       "      <th></th>\n",
       "      <th></th>\n",
       "      <th></th>\n",
       "      <th></th>\n",
       "      <th></th>\n",
       "    </tr>\n",
       "  </thead>\n",
       "  <tbody>\n",
       "    <tr>\n",
       "      <th>young</th>\n",
       "      <td>209.0</td>\n",
       "      <td>15.946969</td>\n",
       "      <td>6.836041</td>\n",
       "      <td>0.1667</td>\n",
       "      <td>13.0</td>\n",
       "      <td>18.0</td>\n",
       "      <td>21.0</td>\n",
       "      <td>23.0</td>\n",
       "    </tr>\n",
       "    <tr>\n",
       "      <th>middle_age</th>\n",
       "      <td>325.0</td>\n",
       "      <td>33.596923</td>\n",
       "      <td>6.797829</td>\n",
       "      <td>24.0000</td>\n",
       "      <td>28.0</td>\n",
       "      <td>32.0</td>\n",
       "      <td>39.0</td>\n",
       "      <td>47.0</td>\n",
       "    </tr>\n",
       "    <tr>\n",
       "      <th>old</th>\n",
       "      <td>99.0</td>\n",
       "      <td>55.494949</td>\n",
       "      <td>6.255404</td>\n",
       "      <td>48.0000</td>\n",
       "      <td>50.0</td>\n",
       "      <td>54.0</td>\n",
       "      <td>60.0</td>\n",
       "      <td>71.0</td>\n",
       "    </tr>\n",
       "  </tbody>\n",
       "</table>\n",
       "</div>"
      ],
      "text/plain": [
       "            count       mean       std      min   25%   50%   75%   max\n",
       "age_bins                                                               \n",
       "young       209.0  15.946969  6.836041   0.1667  13.0  18.0  21.0  23.0\n",
       "middle_age  325.0  33.596923  6.797829  24.0000  28.0  32.0  39.0  47.0\n",
       "old          99.0  55.494949  6.255404  48.0000  50.0  54.0  60.0  71.0"
      ]
     },
     "execution_count": 11,
     "metadata": {},
     "output_type": "execute_result"
    }
   ],
   "source": [
    "age_group_stats = titanic_df.groupby('age_bins', observed=False)['age'].describe()\n",
    "age_group_stats"
   ]
  },
  {
   "cell_type": "markdown",
   "id": "982f0819-3c9c-4644-8fe5-5bfc5663b6d1",
   "metadata": {
    "slideshow": {
     "slide_type": "slide"
    }
   },
   "source": [
    "<div style=\"color:white;display:fill;border-radius:8px;\n",
    "            background-color:#03112A;font-size:150%;\n",
    "            letter-spacing:1.0px;background-image: url(https://i.imgur.com/GVd0La1.png)\">\n",
    "    <p style=\"padding: 8px;color:white;\"><b><b><span style='color:#2ae4f5''> |</span></b> Division by an equal number of values - pd.qcut</b></p>\n",
    "</div>"
   ]
  },
  {
   "cell_type": "code",
   "execution_count": 12,
   "id": "294fdf58-5941-4c58-b5b7-8e0892a6c51a",
   "metadata": {
    "slideshow": {
     "slide_type": "fragment"
    }
   },
   "outputs": [
    {
     "name": "stdout",
     "output_type": "stream",
     "text": [
      "IntervalIndex([(0.166, 24.0], (24.0, 36.0], (36.0, 71.0]], dtype='interval[float64, right]')\n"
     ]
    }
   ],
   "source": [
    "bins = pd.qcut(titanic_df['age'], q=3)\n",
    "print(bins.cat.categories)"
   ]
  },
  {
   "cell_type": "code",
   "execution_count": 13,
   "id": "32453125-6c23-44a1-b4bf-df8021668579",
   "metadata": {
    "slideshow": {
     "slide_type": "fragment"
    }
   },
   "outputs": [],
   "source": [
    "titanic_df['age_bins_qcut'] = pd.qcut(titanic_df['age'], q=3, labels=['young', 'middle_age', 'old'])"
   ]
  },
  {
   "cell_type": "code",
   "execution_count": 14,
   "id": "5b84bee9-bfb4-437c-9c85-bb3178dfe760",
   "metadata": {
    "slideshow": {
     "slide_type": "fragment"
    }
   },
   "outputs": [
    {
     "data": {
      "text/plain": [
       "Text(0.5, 1.0, 'age_bins')"
      ]
     },
     "execution_count": 14,
     "metadata": {},
     "output_type": "execute_result"
    },
    {
     "data": {
      "image/png": "[encoded data removed]",
      "text/plain": [
       "<Figure size 1800x400 with 2 Axes>"
      ]
     },
     "metadata": {},
     "output_type": "display_data"
    }
   ],
   "source": [
    "import matplotlib.pyplot as plt  #for reshaping graph size\n",
    "\n",
    "fig, ax = plt.subplots(1,2, figsize = (18,4))\n",
    "plt.subplots_adjust(wspace = 0.5)\n",
    "\n",
    "sns.kdeplot(data = titanic_df,x='age',hue= 'age_bins_qcut', ax = ax[0] );\n",
    "ax[0].set_title('age_bins_qcut');\n",
    "\n",
    "sns.kdeplot(data = titanic_df,x='age',hue= 'age_bins', ax = ax[1]);\n",
    "ax[1].set_title('age_bins')\n",
    "\n",
    "\n"
   ]
  },
  {
   "cell_type": "markdown",
   "id": "7999930e-c264-481e-9a87-57835f105193",
   "metadata": {
    "slideshow": {
     "slide_type": "slide"
    }
   },
   "source": [
    "### And now :"
   ]
  },
  {
   "cell_type": "code",
   "execution_count": 15,
   "id": "203ec855-4f03-4645-8142-5e3bb7f3b457",
   "metadata": {
    "slideshow": {
     "slide_type": "fragment"
    }
   },
   "outputs": [
    {
     "data": {
      "text/plain": [
       "age_bins_qcut\n",
       "young         114\n",
       "middle_age     82\n",
       "old            85\n",
       "Name: survived, dtype: int64"
      ]
     },
     "execution_count": 15,
     "metadata": {},
     "output_type": "execute_result"
    }
   ],
   "source": [
    "titanic_df.groupby(['age_bins_qcut'], observed=False)['survived'].sum()"
   ]
  },
  {
   "cell_type": "markdown",
   "id": "2e8182ae-e359-4142-9d17-1e6dda75abea",
   "metadata": {
    "slideshow": {
     "slide_type": "fragment"
    }
   },
   "source": [
    "> Instead of the predefined statistics, specific combinations of aggregating statistics for given columns can be defined using the `DataFrame.agg()` method:"
   ]
  },
  {
   "cell_type": "code",
   "execution_count": 16,
   "id": "fd829312-6b95-4b80-843d-a05423787ff6",
   "metadata": {
    "slideshow": {
     "slide_type": "fragment"
    }
   },
   "outputs": [
    {
     "data": {
      "text/html": [
       "<div>\n",
       "<style scoped>\n",
       "    .dataframe tbody tr th:only-of-type {\n",
       "        vertical-align: middle;\n",
       "    }\n",
       "\n",
       "    .dataframe tbody tr th {\n",
       "        vertical-align: top;\n",
       "    }\n",
       "\n",
       "    .dataframe thead th {\n",
       "        text-align: right;\n",
       "    }\n",
       "</style>\n",
       "<table border=\"1\" class=\"dataframe\">\n",
       "  <thead>\n",
       "    <tr style=\"text-align: right;\">\n",
       "      <th></th>\n",
       "      <th>age</th>\n",
       "    </tr>\n",
       "  </thead>\n",
       "  <tbody>\n",
       "    <tr>\n",
       "      <th>count</th>\n",
       "      <td>633.000000</td>\n",
       "    </tr>\n",
       "    <tr>\n",
       "      <th>min</th>\n",
       "      <td>0.166700</td>\n",
       "    </tr>\n",
       "    <tr>\n",
       "      <th>max</th>\n",
       "      <td>71.000000</td>\n",
       "    </tr>\n",
       "    <tr>\n",
       "      <th>median</th>\n",
       "      <td>30.000000</td>\n",
       "    </tr>\n",
       "    <tr>\n",
       "      <th>skew</th>\n",
       "      <td>0.302984</td>\n",
       "    </tr>\n",
       "  </tbody>\n",
       "</table>\n",
       "</div>"
      ],
      "text/plain": [
       "               age\n",
       "count   633.000000\n",
       "min       0.166700\n",
       "max      71.000000\n",
       "median   30.000000\n",
       "skew      0.302984"
      ]
     },
     "execution_count": 16,
     "metadata": {},
     "output_type": "execute_result"
    }
   ],
   "source": [
    "titanic_df.agg({\"age\": [\"count\",\"min\", \"max\", \"median\", \"skew\"]})"
   ]
  },
  {
   "cell_type": "markdown",
   "id": "bf141f14-3a66-4e0f-8f3e-32dd326a9ffd",
   "metadata": {
    "slideshow": {
     "slide_type": "slide"
    }
   },
   "source": [
    "### `pd.cut` vs `pd.qcut`"
   ]
  },
  {
   "cell_type": "code",
   "execution_count": 17,
   "id": "2d727b7a-ab9a-4db5-b14e-fbcd12fd7071",
   "metadata": {
    "slideshow": {
     "slide_type": "fragment"
    }
   },
   "outputs": [
    {
     "data": {
      "text/html": [
       "<div>\n",
       "<style scoped>\n",
       "    .dataframe tbody tr th:only-of-type {\n",
       "        vertical-align: middle;\n",
       "    }\n",
       "\n",
       "    .dataframe tbody tr th {\n",
       "        vertical-align: top;\n",
       "    }\n",
       "\n",
       "    .dataframe thead th {\n",
       "        text-align: right;\n",
       "    }\n",
       "</style>\n",
       "<table border=\"1\" class=\"dataframe\">\n",
       "  <thead>\n",
       "    <tr style=\"text-align: right;\">\n",
       "      <th></th>\n",
       "      <th></th>\n",
       "      <th>count</th>\n",
       "      <th>mean</th>\n",
       "      <th>std</th>\n",
       "      <th>min</th>\n",
       "      <th>25%</th>\n",
       "      <th>50%</th>\n",
       "      <th>75%</th>\n",
       "      <th>max</th>\n",
       "    </tr>\n",
       "    <tr>\n",
       "      <th>age_bins</th>\n",
       "      <th>age_bins_qcut</th>\n",
       "      <th></th>\n",
       "      <th></th>\n",
       "      <th></th>\n",
       "      <th></th>\n",
       "      <th></th>\n",
       "      <th></th>\n",
       "      <th></th>\n",
       "      <th></th>\n",
       "    </tr>\n",
       "  </thead>\n",
       "  <tbody>\n",
       "    <tr>\n",
       "      <th>young</th>\n",
       "      <th>young</th>\n",
       "      <td>209.0</td>\n",
       "      <td>15.946969</td>\n",
       "      <td>6.836041</td>\n",
       "      <td>0.1667</td>\n",
       "      <td>13.0</td>\n",
       "      <td>18.0</td>\n",
       "      <td>21.0</td>\n",
       "      <td>23.0</td>\n",
       "    </tr>\n",
       "    <tr>\n",
       "      <th rowspan=\"3\" valign=\"top\">middle_age</th>\n",
       "      <th>young</th>\n",
       "      <td>22.0</td>\n",
       "      <td>24.000000</td>\n",
       "      <td>0.000000</td>\n",
       "      <td>24.0000</td>\n",
       "      <td>24.0</td>\n",
       "      <td>24.0</td>\n",
       "      <td>24.0</td>\n",
       "      <td>24.0</td>\n",
       "    </tr>\n",
       "    <tr>\n",
       "      <th>middle_age</th>\n",
       "      <td>201.0</td>\n",
       "      <td>30.348259</td>\n",
       "      <td>3.550790</td>\n",
       "      <td>25.0000</td>\n",
       "      <td>27.0</td>\n",
       "      <td>30.0</td>\n",
       "      <td>33.0</td>\n",
       "      <td>36.0</td>\n",
       "    </tr>\n",
       "    <tr>\n",
       "      <th>old</th>\n",
       "      <td>102.0</td>\n",
       "      <td>42.068627</td>\n",
       "      <td>3.118961</td>\n",
       "      <td>37.0000</td>\n",
       "      <td>39.0</td>\n",
       "      <td>42.0</td>\n",
       "      <td>45.0</td>\n",
       "      <td>47.0</td>\n",
       "    </tr>\n",
       "    <tr>\n",
       "      <th>old</th>\n",
       "      <th>old</th>\n",
       "      <td>99.0</td>\n",
       "      <td>55.494949</td>\n",
       "      <td>6.255404</td>\n",
       "      <td>48.0000</td>\n",
       "      <td>50.0</td>\n",
       "      <td>54.0</td>\n",
       "      <td>60.0</td>\n",
       "      <td>71.0</td>\n",
       "    </tr>\n",
       "  </tbody>\n",
       "</table>\n",
       "</div>"
      ],
      "text/plain": [
       "                          count       mean       std      min   25%   50%  \\\n",
       "age_bins   age_bins_qcut                                                    \n",
       "young      young          209.0  15.946969  6.836041   0.1667  13.0  18.0   \n",
       "middle_age young           22.0  24.000000  0.000000  24.0000  24.0  24.0   \n",
       "           middle_age     201.0  30.348259  3.550790  25.0000  27.0  30.0   \n",
       "           old            102.0  42.068627  3.118961  37.0000  39.0  42.0   \n",
       "old        old             99.0  55.494949  6.255404  48.0000  50.0  54.0   \n",
       "\n",
       "                           75%   max  \n",
       "age_bins   age_bins_qcut              \n",
       "young      young          21.0  23.0  \n",
       "middle_age young          24.0  24.0  \n",
       "           middle_age     33.0  36.0  \n",
       "           old            45.0  47.0  \n",
       "old        old            60.0  71.0  "
      ]
     },
     "execution_count": 17,
     "metadata": {},
     "output_type": "execute_result"
    }
   ],
   "source": [
    "age_group_stats2 = titanic_df.groupby(['age_bins_qcut'], observed=False)['age'].describe()\n",
    "age_group_stats3 = titanic_df.groupby(['age_bins','age_bins_qcut'], observed=False)['age'].describe()\n",
    "age_group_stats3"
   ]
  },
  {
   "cell_type": "markdown",
   "id": "70cab6fb-b1f5-45fb-83ad-00f1c5070396",
   "metadata": {
    "slideshow": {
     "slide_type": "slide"
    }
   },
   "source": [
    "### **1. `pd.cut` - Division into Fixed Numerical Ranges**"
   ]
  },
  {
   "cell_type": "markdown",
   "id": "e36e1218-c839-40f3-8082-c63f4517fbf3",
   "metadata": {
    "slideshow": {
     "slide_type": "fragment"
    }
   },
   "source": [
    "#### When to Use:\n",
    "\n",
    "- Use when you want to divide data into **fixed numerical ranges**, not by the number of values.\n",
    "- Suitable for data with a **relatively uniform distribution**, meaning there isn’t a high concentration of values in specific ranges.\n",
    "- Ideal for analyzing specific numerical ranges, such as:\n",
    "  - Age ranges (e.g., 0-20, 20-40, 40-60).\n",
    "  - Known financial intervals."
   ]
  },
  {
   "cell_type": "markdown",
   "id": "841a54e3-ec89-49dd-9a93-6916b18f042a",
   "metadata": {
    "slideshow": {
     "slide_type": "fragment"
    }
   },
   "source": [
    "#### Example for Using `pd.cut`:\n",
    "\n",
    "Suppose you have Titanic passengers' ages (ranging from 0 to 80), and most passengers are evenly spread across this range. If you divide the ages into 3 bins, the division would look like this:\n",
    "\n",
    "- **Bin 1 (0-27):** Young passengers.\n",
    "- **Bin 2 (27-53):** Middle-aged passengers.\n",
    "- **Bin 3 (53-80):** Older passengers.\n",
    "\n",
    "**Advantage**: Easy to interpret the meaning of each range in numerical terms.  \n",
    "**Disadvantage**: If most passengers are young (e.g., 80% are between 0-27), this range will be \"overcrowded,\" making it hard to analyze the entire population fairly.\n",
    "\n",
    "---"
   ]
  },
  {
   "cell_type": "markdown",
   "id": "75024338-c48d-470a-bff5-e631a4970acf",
   "metadata": {
    "slideshow": {
     "slide_type": "slide"
    }
   },
   "source": [
    "### **2. `pd.qcut` - Division into Equal-Sized Groups**"
   ]
  },
  {
   "cell_type": "markdown",
   "id": "d7315bb4-7fa3-4e2a-be73-06086b493fd5",
   "metadata": {
    "slideshow": {
     "slide_type": "fragment"
    }
   },
   "source": [
    "#### When to Use:\n",
    "\n",
    "- Use when you want to divide the data into bins with an **equal number of values**.\n",
    "- Suitable for data with a **non-uniform distribution**, where values are concentrated in specific ranges.\n",
    "- Ideal for creating balanced groups that represent **quantiles** (e.g., terciles or quartiles).\n"
   ]
  },
  {
   "cell_type": "markdown",
   "id": "2ee20448-b1f9-49e6-879d-07eb16d9d441",
   "metadata": {
    "slideshow": {
     "slide_type": "fragment"
    }
   },
   "source": [
    "#### Example for Using `pd.qcut`:\n",
    "\n",
    "Using the same Titanic age data, suppose 80% of passengers are aged 0-27, and only 20% are aged 27-80. If you use `pd.qcut` to divide the data into 3 bins, the division would look like this:\n",
    "\n",
    "- **Bin 1 (0-15):** The first tercile of passengers (very young).\n",
    "- **Bin 2 (15-30):** The second tercile (slightly older).\n",
    "- **Bin 3 (30-80):** The last tercile (older passengers).\n",
    "\n",
    "**Advantage**: Each bin contains an equal number of passengers, even if the distribution is uneven.  \n",
    "**Disadvantage**: The numerical ranges may be harder to interpret intuitively (e.g., uneven ranges like 0-15, 15-30).\n",
    "\n",
    "---"
   ]
  },
  {
   "cell_type": "markdown",
   "id": "530cd6c1-4f2d-4061-a859-593b32f619ed",
   "metadata": {
    "slideshow": {
     "slide_type": "slide"
    }
   },
   "source": [
    "### **Comparison Between the Two Methods**"
   ]
  },
  {
   "cell_type": "markdown",
   "id": "859dd44a-8f51-4830-bb36-d64291b140cb",
   "metadata": {
    "output_scroll": false,
    "output_stretch": true,
    "slideshow": {
     "slide_type": "fragment"
    }
   },
   "source": [
    "| **Feature**                    | **`pd.cut`**                              | **`pd.qcut`**                             |\n",
    "|--------------------------------|-------------------------------------------|-------------------------------------------|\n",
    "| **Division by ranges**         | Divides into equal numerical ranges.       | Divides into ranges with equal number of values. |\n",
    "| **Number of values per range** | May vary across ranges.                    | Almost equal in every category.           |\n",
    "| **Use case**                   | Analysis based on fixed numerical ranges.  | Analysis based on equal-sized groups.     |\n",
    "| **Suitable for data distribution** | Uniform or near-uniform distribution.      | Non-uniform distribution or with dense clusters. |"
   ]
  },
  {
   "cell_type": "markdown",
   "id": "f5f7f808-b96f-4d00-88c1-b230c922c680",
   "metadata": {
    "slideshow": {
     "slide_type": "skip"
    }
   },
   "source": [
    "### [▲](#Top)"
   ]
  },
  {
   "cell_type": "markdown",
   "id": "403f22c1-2f61-4975-9589-001e1adbc2b4",
   "metadata": {
    "jp-MarkdownHeadingCollapsed": true,
    "slideshow": {
     "slide_type": "skip"
    }
   },
   "source": [
    "---\n"
   ]
  },
  {
   "cell_type": "markdown",
   "id": "8a91cbb7-77e5-4ef0-a88c-581f3f36c38b",
   "metadata": {
    "slideshow": {
     "slide_type": "slide"
    }
   },
   "source": [
    "<a id='3'></a>\n",
    "<h1 style=\"background-color: #fff4d9; color: #0046d6; border-radius: 20px; text-align: center; padding-top: 20px; padding-bottom: 20px; font-family: 'Arial'\" id=\"introduction\">DateTime.</h1>"
   ]
  },
  {
   "cell_type": "markdown",
   "id": "96e144ce-0db7-4061-9c88-f2773af40ee4",
   "metadata": {},
   "source": [
    "#### We will focus on date column"
   ]
  },
  {
   "cell_type": "code",
   "execution_count": 19,
   "id": "47f41672-462f-48a0-a0f0-3a61eb9b8ff1",
   "metadata": {},
   "outputs": [],
   "source": [
    "url = 'https://raw.githubusercontent.com/Razelbaz1/exercises-package/refs/heads/master/data/earthquake_data.csv'\n",
    "df = pd.read_csv(url)"
   ]
  },
  {
   "cell_type": "code",
   "execution_count": 22,
   "id": "840daaa6-2934-4719-b6d2-2fc82633d15a",
   "metadata": {},
   "outputs": [
    {
     "data": {
      "text/plain": [
       "0      22/11/2022 02:03\n",
       "1      18/11/2022 13:37\n",
       "2      12/11/2022 07:09\n",
       "3      11/11/2022 10:48\n",
       "4      09/11/2022 10:14\n",
       "             ...       \n",
       "777    13/01/2001 17:33\n",
       "778    10/01/2001 16:02\n",
       "779    09/01/2001 16:49\n",
       "780    01/01/2001 08:54\n",
       "781    01/01/2001 06:57\n",
       "Name: date_time, Length: 782, dtype: object"
      ]
     },
     "execution_count": 22,
     "metadata": {},
     "output_type": "execute_result"
    }
   ],
   "source": [
    "df[\"date_time\"]"
   ]
  },
  {
   "cell_type": "markdown",
   "id": "5070185f-6c12-4bf3-a49f-0c63da278948",
   "metadata": {},
   "source": [
    "#### note that date type is object. let's convert it to pandas datetime\n"
   ]
  },
  {
   "cell_type": "code",
   "execution_count": 23,
   "id": "7f53ae74-7e18-42a3-ae82-265065ba49e3",
   "metadata": {
    "colab": {
     "base_uri": "https://localhost:8080/"
    },
    "executionInfo": {
     "elapsed": 12,
     "status": "ok",
     "timestamp": 1688578153962,
     "user": {
      "displayName": "Shai Tirgulim",
      "userId": "18041892042069420089"
     },
     "user_tz": -180
    },
    "id": "zYMsuGtOthcN",
    "outputId": "1b081520-6267-42a3-da19-f6c3ff4afa90"
   },
   "outputs": [
    {
     "name": "stderr",
     "output_type": "stream",
     "text": [
      "C:\\Users\\razel\\AppData\\Local\\Temp\\ipykernel_16720\\3687597699.py:1: UserWarning: Parsing dates in %d/%m/%Y %H:%M format when dayfirst=False (the default) was specified. Pass `dayfirst=True` or specify a format to silence this warning.\n",
      "  df[\"date_time\"] = pd.to_datetime(df.date_time)\n"
     ]
    },
    {
     "data": {
      "text/plain": [
       "0     2022-11-22 02:03:00\n",
       "1     2022-11-18 13:37:00\n",
       "2     2022-11-12 07:09:00\n",
       "3     2022-11-11 10:48:00\n",
       "4     2022-11-09 10:14:00\n",
       "              ...        \n",
       "777   2001-01-13 17:33:00\n",
       "778   2001-01-10 16:02:00\n",
       "779   2001-01-09 16:49:00\n",
       "780   2001-01-01 08:54:00\n",
       "781   2001-01-01 06:57:00\n",
       "Name: date_time, Length: 782, dtype: datetime64[ns]"
      ]
     },
     "execution_count": 23,
     "metadata": {},
     "output_type": "execute_result"
    }
   ],
   "source": [
    "df[\"date_time\"] = pd.to_datetime(df.date_time)\n",
    "df[\"date_time\"]"
   ]
  },
  {
   "cell_type": "code",
   "execution_count": 24,
   "id": "1a7ed095-8fc9-40a7-998f-ad1eaa2c7ddb",
   "metadata": {},
   "outputs": [
    {
     "data": {
      "text/plain": [
       "0     2022-11-22 02:03:00\n",
       "1     2022-11-18 13:37:00\n",
       "2     2022-11-12 07:09:00\n",
       "3     2022-11-11 10:48:00\n",
       "4     2022-11-09 10:14:00\n",
       "              ...        \n",
       "777   2001-01-13 17:33:00\n",
       "778   2001-01-10 16:02:00\n",
       "779   2001-01-09 16:49:00\n",
       "780   2001-01-01 08:54:00\n",
       "781   2001-01-01 06:57:00\n",
       "Name: date_time, Length: 782, dtype: datetime64[ns]"
      ]
     },
     "execution_count": 24,
     "metadata": {},
     "output_type": "execute_result"
    }
   ],
   "source": [
    "df[\"date_time\"] = pd.to_datetime(df.date_time, dayfirst= True) #  format = '%d/%m/%Y %H:%M'\n",
    "df[\"date_time\"]"
   ]
  },
  {
   "cell_type": "markdown",
   "id": "e7261540-3ed1-4059-b2f9-6c121087c763",
   "metadata": {
    "id": "ejccW6LOQlzU"
   },
   "source": [
    "#### now we can extract the year,month,day and weekday properties (and much more )"
   ]
  },
  {
   "cell_type": "code",
   "execution_count": 26,
   "id": "1de57c24-9a7a-48e6-8fdd-f1e335e65d8f",
   "metadata": {
    "colab": {
     "base_uri": "https://localhost:8080/",
     "height": 424
    },
    "executionInfo": {
     "elapsed": 5,
     "status": "ok",
     "timestamp": 1688579126900,
     "user": {
      "displayName": "Shai Tirgulim",
      "userId": "18041892042069420089"
     },
     "user_tz": -180
    },
    "id": "DsFf3S4ithcO",
    "outputId": "a51b2c23-2c42-4329-ab55-ce7d26aa083a"
   },
   "outputs": [
    {
     "data": {
      "text/html": [
       "<div>\n",
       "<style scoped>\n",
       "    .dataframe tbody tr th:only-of-type {\n",
       "        vertical-align: middle;\n",
       "    }\n",
       "\n",
       "    .dataframe tbody tr th {\n",
       "        vertical-align: top;\n",
       "    }\n",
       "\n",
       "    .dataframe thead th {\n",
       "        text-align: right;\n",
       "    }\n",
       "</style>\n",
       "<table border=\"1\" class=\"dataframe\">\n",
       "  <thead>\n",
       "    <tr style=\"text-align: right;\">\n",
       "      <th></th>\n",
       "      <th>year</th>\n",
       "      <th>month</th>\n",
       "      <th>day</th>\n",
       "      <th>weekday</th>\n",
       "    </tr>\n",
       "  </thead>\n",
       "  <tbody>\n",
       "    <tr>\n",
       "      <th>0</th>\n",
       "      <td>2022</td>\n",
       "      <td>11</td>\n",
       "      <td>22</td>\n",
       "      <td>1</td>\n",
       "    </tr>\n",
       "    <tr>\n",
       "      <th>1</th>\n",
       "      <td>2022</td>\n",
       "      <td>11</td>\n",
       "      <td>18</td>\n",
       "      <td>4</td>\n",
       "    </tr>\n",
       "    <tr>\n",
       "      <th>2</th>\n",
       "      <td>2022</td>\n",
       "      <td>11</td>\n",
       "      <td>12</td>\n",
       "      <td>5</td>\n",
       "    </tr>\n",
       "    <tr>\n",
       "      <th>3</th>\n",
       "      <td>2022</td>\n",
       "      <td>11</td>\n",
       "      <td>11</td>\n",
       "      <td>4</td>\n",
       "    </tr>\n",
       "    <tr>\n",
       "      <th>4</th>\n",
       "      <td>2022</td>\n",
       "      <td>11</td>\n",
       "      <td>9</td>\n",
       "      <td>2</td>\n",
       "    </tr>\n",
       "    <tr>\n",
       "      <th>...</th>\n",
       "      <td>...</td>\n",
       "      <td>...</td>\n",
       "      <td>...</td>\n",
       "      <td>...</td>\n",
       "    </tr>\n",
       "    <tr>\n",
       "      <th>777</th>\n",
       "      <td>2001</td>\n",
       "      <td>1</td>\n",
       "      <td>13</td>\n",
       "      <td>5</td>\n",
       "    </tr>\n",
       "    <tr>\n",
       "      <th>778</th>\n",
       "      <td>2001</td>\n",
       "      <td>1</td>\n",
       "      <td>10</td>\n",
       "      <td>2</td>\n",
       "    </tr>\n",
       "    <tr>\n",
       "      <th>779</th>\n",
       "      <td>2001</td>\n",
       "      <td>1</td>\n",
       "      <td>9</td>\n",
       "      <td>1</td>\n",
       "    </tr>\n",
       "    <tr>\n",
       "      <th>780</th>\n",
       "      <td>2001</td>\n",
       "      <td>1</td>\n",
       "      <td>1</td>\n",
       "      <td>0</td>\n",
       "    </tr>\n",
       "    <tr>\n",
       "      <th>781</th>\n",
       "      <td>2001</td>\n",
       "      <td>1</td>\n",
       "      <td>1</td>\n",
       "      <td>0</td>\n",
       "    </tr>\n",
       "  </tbody>\n",
       "</table>\n",
       "<p>782 rows × 4 columns</p>\n",
       "</div>"
      ],
      "text/plain": [
       "     year  month  day  weekday\n",
       "0    2022     11   22        1\n",
       "1    2022     11   18        4\n",
       "2    2022     11   12        5\n",
       "3    2022     11   11        4\n",
       "4    2022     11    9        2\n",
       "..    ...    ...  ...      ...\n",
       "777  2001      1   13        5\n",
       "778  2001      1   10        2\n",
       "779  2001      1    9        1\n",
       "780  2001      1    1        0\n",
       "781  2001      1    1        0\n",
       "\n",
       "[782 rows x 4 columns]"
      ]
     },
     "execution_count": 26,
     "metadata": {},
     "output_type": "execute_result"
    }
   ],
   "source": [
    "dfDateTimeObj = pd.DatetimeIndex(df.date_time)\n",
    "df['year'] = dfDateTimeObj.year\n",
    "df['month'] = dfDateTimeObj.month\n",
    "df['day'] = dfDateTimeObj.day\n",
    "df['weekday'] = dfDateTimeObj.weekday\n",
    "\n",
    "df[['year','month','day','weekday']]\n"
   ]
  },
  {
   "cell_type": "code",
   "execution_count": 27,
   "id": "8e440f9e-0da0-4c82-b324-43dd0e7ffab7",
   "metadata": {},
   "outputs": [],
   "source": [
    "seasons = {\n",
    "    1: 'Winter',\n",
    "    2: 'Winter',\n",
    "    3: 'Spring',\n",
    "    4: 'Spring',\n",
    "    5: 'Spring',\n",
    "    6: 'Summer',\n",
    "    7: 'Summer',\n",
    "    8: 'Summer',\n",
    "    9: 'Autumn',\n",
    "    10: 'Autumn',\n",
    "    11: 'Autumn',\n",
    "    12: 'Winter'}\n",
    "df['Season'] = df['month'].apply(lambda x: seasons[x])"
   ]
  },
  {
   "cell_type": "code",
   "execution_count": 57,
   "id": "ab9155ae-a6c8-488c-87f5-71ce1e490ec6",
   "metadata": {},
   "outputs": [
    {
     "data": {
      "text/plain": [
       "Index(['title', 'magnitude', 'date_time', 'cdi', 'mmi', 'alert', 'tsunami',\n",
       "       'sig', 'net', 'nst', 'dmin', 'gap', 'magType', 'depth', 'latitude',\n",
       "       'longitude', 'location', 'continent', 'country', 'year', 'month', 'day',\n",
       "       'weekday', 'Season'],\n",
       "      dtype='object')"
      ]
     },
     "execution_count": 57,
     "metadata": {},
     "output_type": "execute_result"
    }
   ],
   "source": [
    "df.columns"
   ]
  },
  {
   "cell_type": "code",
   "execution_count": 62,
   "id": "ee660bf5-e933-4d29-8a47-28d920a19621",
   "metadata": {
    "scrolled": true
   },
   "outputs": [
    {
     "data": {
      "application/vnd.plotly.v1+json": {
       "config": {
        "plotlyServerURL": "https://plot.ly"
       },
       "data": [
        {
         "hovertemplate": "Season=Autumn<br>Time=%{x}<br>magnitude=%{y}<extra></extra>",
         "legendgroup": "Autumn",
         "line": {
          "color": "#636efa",
          "dash": "solid"
         },
         "marker": {
          "symbol": "circle"
         },
         "mode": "lines",
         "name": "Autumn",
         "orientation": "v",
         "showlegend": true,
         "type": "scatter",
         "x": [
          "2022-11-22T02:03:00",
          "2022-11-18T13:37:00",
          "2022-11-12T07:09:00",
          "2022-11-11T10:48:00",
          "2022-11-09T10:14:00",
          "2022-11-09T09:51:00",
          "2022-11-09T09:38:00",
          "2022-10-20T11:57:00",
          "2022-09-22T06:16:00",
          "2022-09-19T18:05:00",
          "2022-09-18T06:44:00",
          "2022-09-17T13:41:00",
          "2022-09-14T11:04:00",
          "2022-09-10T23:47:00",
          "2022-09-05T04:52:00",
          "2021-11-28T10:52:00",
          "2021-11-10T15:45:00",
          "2021-10-11T09:10:00",
          "2021-10-09T10:58:00",
          "2021-10-02T06:29:00",
          "2021-09-22T09:57:00",
          "2021-09-08T01:47:00",
          "2020-10-30T11:51:00",
          "2020-10-19T20:54:00",
          "2020-09-18T21:43:00",
          "2020-09-01T21:09:00",
          "2020-09-01T04:09:00",
          "2019-11-14T16:17:00",
          "2019-11-08T10:44:00",
          "2019-11-04T22:43:00",
          "2019-10-31T01:11:00",
          "2019-10-29T01:04:00",
          "2019-09-29T15:57:00",
          "2019-09-25T23:46:00",
          "2019-09-01T15:54:00",
          "2018-11-30T17:29:00",
          "2018-11-18T20:25:00",
          "2018-11-09T01:49:00",
          "2018-10-25T22:54:00",
          "2018-10-22T06:22:00",
          "2018-10-22T06:16:00",
          "2018-10-22T05:39:00",
          "2018-10-16T01:03:00",
          "2018-10-13T11:10:00",
          "2018-10-10T23:16:00",
          "2018-10-10T20:48:00",
          "2018-09-30T10:52:00",
          "2018-09-28T10:02:00",
          "2018-09-16T21:11:00",
          "2018-09-10T04:19:00",
          "2018-09-09T19:31:00",
          "2018-09-06T15:49:00",
          "2018-09-05T18:07:00",
          "2017-11-19T22:43:00",
          "2017-11-19T15:09:00",
          "2017-11-13T02:28:00",
          "2017-11-12T18:18:00",
          "2017-11-07T21:26:00",
          "2017-11-04T09:00:00",
          "2017-11-01T02:23:00",
          "2017-10-31T00:42:00",
          "2017-10-24T10:47:00",
          "2017-10-08T22:34:00",
          "2017-09-19T18:14:00",
          "2017-09-08T04:49:00",
          "2016-11-25T14:24:00",
          "2016-11-24T18:43:00",
          "2016-11-21T20:59:00",
          "2016-11-14T00:34:00",
          "2016-11-13T11:32:00",
          "2016-11-13T11:02:00",
          "2016-10-30T06:40:00",
          "2016-10-19T00:26:00",
          "2016-10-17T06:14:00",
          "2016-09-24T21:28:00",
          "2016-09-01T16:37:00"
         ],
         "xaxis": "x",
         "y": [
          7,
          6.9,
          7,
          7.3,
          6.6,
          7,
          6.8,
          6.7,
          6.8,
          7.6,
          6.9,
          6.5,
          7,
          7.6,
          6.6,
          7.5,
          6.6,
          6.9,
          6.9,
          7.3,
          6.5,
          7,
          7,
          7.6,
          6.9,
          6.5,
          6.8,
          7.1,
          6.5,
          6.6,
          6.5,
          6.6,
          6.7,
          6.5,
          6.6,
          7.1,
          6.8,
          6.7,
          6.8,
          6.5,
          6.8,
          6.5,
          6.5,
          6.7,
          6.5,
          7,
          6.7,
          7.5,
          6.5,
          6.9,
          6.5,
          7.9,
          6.6,
          7,
          6.6,
          6.5,
          7.3,
          6.5,
          6.8,
          6.6,
          6.7,
          6.7,
          6.5,
          7.1,
          8.2,
          6.6,
          6.9,
          6.9,
          6.5,
          6.5,
          7.8,
          6.6,
          6.6,
          6.8,
          6.9,
          7
         ],
         "yaxis": "y"
        },
        {
         "hovertemplate": "Season=Summer<br>Time=%{x}<br>magnitude=%{y}<extra></extra>",
         "legendgroup": "Summer",
         "line": {
          "color": "#EF553B",
          "dash": "solid"
         },
         "marker": {
          "symbol": "circle"
         },
         "mode": "lines",
         "name": "Summer",
         "orientation": "v",
         "showlegend": true,
         "type": "scatter",
         "x": [
          "2022-08-14T13:44:00",
          "2022-07-27T00:43:00",
          "2022-06-08T00:55:00",
          "2021-08-22T21:33:00",
          "2021-08-22T00:45:00",
          "2021-08-18T10:10:00",
          "2021-08-16T11:10:00",
          "2021-08-14T12:29:00",
          "2021-08-14T11:57:00",
          "2021-08-14T11:57:00",
          "2021-08-12T18:35:00",
          "2021-08-12T18:32:00",
          "2021-08-11T17:46:00",
          "2021-07-29T06:15:00",
          "2021-07-29T06:15:00",
          "2021-07-23T20:48:00",
          "2021-07-21T21:15:00",
          "2021-06-20T17:05:00",
          "2020-08-30T21:20:00",
          "2020-08-21T04:09:00",
          "2020-08-18T22:29:00",
          "2020-08-18T22:23:00",
          "2020-08-18T00:03:00",
          "2020-07-22T06:12:00",
          "2020-07-17T02:50:00",
          "2020-07-06T22:54:00",
          "2020-06-23T15:29:00",
          "2020-06-18T12:49:00",
          "2020-06-13T15:51:00",
          "2020-06-03T07:35:00",
          "2019-08-27T23:55:00",
          "2019-08-02T12:03:00",
          "2019-08-01T18:28:00",
          "2019-07-31T15:02:00",
          "2019-07-14T09:10:00",
          "2019-07-14T05:39:00",
          "2019-07-07T15:08:00",
          "2019-07-06T03:19:00",
          "2019-06-24T02:53:00",
          "2019-06-15T22:55:00",
          "2018-08-29T03:51:00",
          "2018-08-24T09:04:00",
          "2018-08-21T22:32:00",
          "2018-08-21T21:31:00",
          "2018-08-19T14:56:00",
          "2018-08-19T00:19:00",
          "2018-08-17T15:35:00",
          "2018-08-15T21:56:00",
          "2018-08-05T11:46:00",
          "2017-08-08T13:19:00",
          "2017-07-20T22:31:00",
          "2017-07-17T23:34:00",
          "2017-07-11T07:00:00",
          "2017-07-06T08:03:00",
          "2017-06-22T12:31:00",
          "2017-06-14T07:29:00",
          "2017-06-02T22:24:00",
          "2016-08-31T03:11:00",
          "2016-08-24T10:34:00",
          "2016-08-12T01:26:00",
          "2016-07-29T21:18:00",
          "2016-06-01T22:56:00"
         ],
         "xaxis": "x",
         "y": [
          6.6,
          7,
          6.5,
          7.1,
          6.6,
          6.9,
          6.9,
          7.2,
          6.9,
          6.9,
          8.1,
          7.5,
          7.1,
          8.2,
          8.2,
          6.7,
          6.7,
          6.5,
          6.5,
          6.9,
          6.9,
          6.8,
          6.6,
          7.8,
          7,
          6.6,
          7.4,
          7.4,
          6.6,
          6.8,
          6.6,
          6.9,
          6.8,
          6.6,
          7.2,
          6.6,
          6.9,
          7.1,
          7.3,
          7.3,
          7.1,
          7.1,
          6.5,
          7.3,
          6.9,
          8.2,
          6.5,
          6.5,
          6.9,
          6.5,
          6.6,
          7.7,
          6.6,
          6.5,
          6.8,
          6.9,
          6.8,
          6.8,
          6.8,
          7.2,
          7.7,
          6.6
         ],
         "yaxis": "y"
        },
        {
         "hovertemplate": "Season=Spring<br>Time=%{x}<br>magnitude=%{y}<extra></extra>",
         "legendgroup": "Spring",
         "line": {
          "color": "#00cc96",
          "dash": "solid"
         },
         "marker": {
          "symbol": "circle"
         },
         "mode": "lines",
         "name": "Spring",
         "orientation": "v",
         "showlegend": true,
         "type": "scatter",
         "x": [
          "2022-05-26T12:02:00",
          "2022-05-19T10:13:00",
          "2022-05-10T23:06:00",
          "2022-04-21T07:42:00",
          "2022-03-31T05:44:00",
          "2022-03-30T20:56:00",
          "2022-03-22T17:41:00",
          "2022-03-16T14:36:00",
          "2022-03-13T21:09:00",
          "2022-03-02T12:52:00",
          "2021-05-21T22:13:00",
          "2021-05-21T18:04:00",
          "2021-05-14T06:33:00",
          "2021-05-12T14:05:00",
          "2021-05-01T01:27:00",
          "2021-04-25T22:28:00",
          "2021-04-24T00:23:00",
          "2021-03-20T09:09:00",
          "2021-03-16T18:38:00",
          "2021-03-04T23:12:00",
          "2021-03-04T19:28:00",
          "2021-03-04T17:41:00",
          "2021-03-04T13:27:00",
          "2020-05-15T11:03:00",
          "2020-05-12T22:41:00",
          "2020-05-06T13:53:00",
          "2020-05-02T12:51:00",
          "2020-03-31T23:52:00",
          "2020-03-25T02:49:00",
          "2019-05-30T09:03:00",
          "2019-05-26T07:41:00",
          "2019-05-14T12:58:00",
          "2019-05-06T21:19:00",
          "2019-04-12T11:40:00",
          "2019-04-09T17:53:00",
          "2019-03-01T08:50:00",
          "2018-05-04T22:32:00",
          "2018-04-02T13:40:00",
          "2018-03-29T21:25:00",
          "2018-03-26T09:51:00",
          "2018-03-08T17:39:00",
          "2018-03-06T14:13:00",
          "2017-05-29T14:35:00",
          "2017-05-10T23:23:00",
          "2017-05-09T13:52:00",
          "2017-04-28T20:23:00",
          "2017-04-24T21:38:00",
          "2017-04-03T17:40:00",
          "2017-03-29T04:09:00",
          "2016-05-28T09:46:00",
          "2016-05-28T05:38:00",
          "2016-05-18T16:46:00",
          "2016-05-18T07:57:00",
          "2016-04-28T19:33:00",
          "2016-04-16T23:58:00",
          "2016-04-15T16:25:00",
          "2016-04-13T13:55:00",
          "2016-04-10T10:28:00",
          "2016-04-07T03:32:00",
          "2016-04-06T06:58:00",
          "2016-04-03T08:23:00",
          "2016-03-02T12:49:00"
         ],
         "xaxis": "x",
         "y": [
          7.2,
          6.9,
          6.8,
          6.6,
          7,
          6.9,
          6.7,
          7.3,
          6.7,
          6.6,
          6.5,
          7.3,
          6.7,
          6.7,
          6.9,
          6.5,
          6.5,
          7,
          6.6,
          6.5,
          8.1,
          7.4,
          7.3,
          6.5,
          6.6,
          6.8,
          6.5,
          6.5,
          7.5,
          6.6,
          8,
          7.6,
          7.1,
          6.8,
          6.5,
          7,
          6.9,
          6.8,
          6.9,
          6.7,
          6.8,
          6.7,
          6.6,
          6.5,
          6.8,
          6.9,
          6.9,
          6.5,
          6.6,
          7.2,
          6.9,
          6.9,
          6.7,
          7,
          7.8,
          7,
          6.9,
          6.6,
          6.7,
          6.7,
          6.9,
          7.8
         ],
         "yaxis": "y"
        },
        {
         "hovertemplate": "Season=Winter<br>Time=%{x}<br>magnitude=%{y}<extra></extra>",
         "legendgroup": "Winter",
         "line": {
          "color": "#ab63fa",
          "dash": "solid"
         },
         "marker": {
          "symbol": "circle"
         },
         "mode": "lines",
         "name": "Winter",
         "orientation": "v",
         "showlegend": true,
         "type": "scatter",
         "x": [
          "2022-02-16T20:21:00",
          "2022-02-03T15:58:00",
          "2022-01-29T02:46:00",
          "2022-01-14T09:05:00",
          "2022-01-11T12:39:00",
          "2022-01-11T12:39:00",
          "2022-01-11T12:39:00",
          "2022-01-11T11:35:00",
          "2022-01-11T11:35:00",
          "2022-01-11T11:35:00",
          "2022-01-11T01:07:00",
          "2022-01-07T17:45:00",
          "2021-12-29T18:25:00",
          "2021-12-14T03:20:00",
          "2021-02-13T14:07:00",
          "2021-02-10T13:19:00",
          "2021-01-23T23:36:00",
          "2021-01-21T12:23:00",
          "2021-01-11T21:32:00",
          "2020-12-27T21:39:00",
          "2020-02-13T10:33:00",
          "2020-01-28T19:10:00",
          "2020-01-24T17:55:00",
          "2019-12-15T06:11:00",
          "2019-02-22T10:17:00",
          "2019-02-01T16:14:00",
          "2019-01-22T19:01:00",
          "2019-01-20T01:32:00",
          "2019-01-15T18:06:00",
          "2019-01-06T17:27:00",
          "2019-01-05T19:25:00",
          "2018-12-29T03:39:00",
          "2018-12-20T17:01:00",
          "2018-12-11T02:26:00",
          "2018-12-05T06:43:00",
          "2018-12-05T04:18:00",
          "2018-02-25T17:44:00",
          "2018-02-16T23:39:00",
          "2018-01-23T09:31:00",
          "2018-01-14T09:18:00",
          "2018-01-10T02:51:00",
          "2017-12-15T16:47:00",
          "2017-12-13T18:03:00",
          "2017-02-24T17:28:00",
          "2017-02-21T14:09:00",
          "2017-02-10T14:03:00",
          "2017-01-22T04:30:00",
          "2017-01-19T23:04:00",
          "2017-01-10T06:13:00",
          "2017-01-03T21:52:00",
          "2016-12-25T14:22:00",
          "2016-12-21T00:17:00",
          "2016-12-17T10:51:00",
          "2016-12-09T19:10:00",
          "2016-12-08T21:56:00",
          "2016-12-08T17:38:00",
          "2016-12-08T14:49:00",
          "2016-12-06T22:03:00",
          "2016-01-30T03:25:00",
          "2016-01-24T10:30:00",
          "2016-01-21T18:06:00",
          "2016-01-14T03:25:00",
          "2016-01-11T16:38:00",
          "2016-01-03T23:05:00"
         ],
         "xaxis": "x",
         "y": [
          6.8,
          6.5,
          6.5,
          6.6,
          6.5,
          6.5,
          6.6,
          6.7,
          6.7,
          6.8,
          6.6,
          6.6,
          7.3,
          7.3,
          7.1,
          7.7,
          6.9,
          7,
          6.7,
          6.7,
          7,
          7.7,
          6.7,
          6.8,
          7.5,
          6.7,
          6.7,
          6.7,
          6.6,
          6.6,
          6.8,
          7,
          7.3,
          7.1,
          6.6,
          7.5,
          7.5,
          7.2,
          7.9,
          7.1,
          7.5,
          6.5,
          6.5,
          6.9,
          6.5,
          6.5,
          7.9,
          6.5,
          7.3,
          6.9,
          7.6,
          6.7,
          7.9,
          6.9,
          6.5,
          7.8,
          6.6,
          6.5,
          7.2,
          7.1,
          6.6,
          6.7,
          6.5,
          6.7
         ],
         "yaxis": "y"
        }
       ],
       "layout": {
        "legend": {
         "title": {
          "text": "Season"
         },
         "tracegroupgap": 0
        },
        "template": {
         "data": {
          "bar": [
           {
            "error_x": {
             "color": "#2a3f5f"
            },
            "error_y": {
             "color": "#2a3f5f"
            },
            "marker": {
             "line": {
              "color": "#E5ECF6",
              "width": 0.5
             },
             "pattern": {
              "fillmode": "overlay",
              "size": 10,
              "solidity": 0.2
             }
            },
            "type": "bar"
           }
          ],
          "barpolar": [
           {
            "marker": {
             "line": {
              "color": "#E5ECF6",
              "width": 0.5
             },
             "pattern": {
              "fillmode": "overlay",
              "size": 10,
              "solidity": 0.2
             }
            },
            "type": "barpolar"
           }
          ],
          "carpet": [
           {
            "aaxis": {
             "endlinecolor": "#2a3f5f",
             "gridcolor": "white",
             "linecolor": "white",
             "minorgridcolor": "white",
             "startlinecolor": "#2a3f5f"
            },
            "baxis": {
             "endlinecolor": "#2a3f5f",
             "gridcolor": "white",
             "linecolor": "white",
             "minorgridcolor": "white",
             "startlinecolor": "#2a3f5f"
            },
            "type": "carpet"
           }
          ],
          "choropleth": [
           {
            "colorbar": {
             "outlinewidth": 0,
             "ticks": ""
            },
            "type": "choropleth"
           }
          ],
          "contour": [
           {
            "colorbar": {
             "outlinewidth": 0,
             "ticks": ""
            },
            "colorscale": [
             [
              0,
              "#0d0887"
             ],
             [
              0.1111111111111111,
              "#46039f"
             ],
             [
              0.2222222222222222,
              "#7201a8"
             ],
             [
              0.3333333333333333,
              "#9c179e"
             ],
             [
              0.4444444444444444,
              "#bd3786"
             ],
             [
              0.5555555555555556,
              "#d8576b"
             ],
             [
              0.6666666666666666,
              "#ed7953"
             ],
             [
              0.7777777777777778,
              "#fb9f3a"
             ],
             [
              0.8888888888888888,
              "#fdca26"
             ],
             [
              1,
              "#f0f921"
             ]
            ],
            "type": "contour"
           }
          ],
          "contourcarpet": [
           {
            "colorbar": {
             "outlinewidth": 0,
             "ticks": ""
            },
            "type": "contourcarpet"
           }
          ],
          "heatmap": [
           {
            "colorbar": {
             "outlinewidth": 0,
             "ticks": ""
            },
            "colorscale": [
             [
              0,
              "#0d0887"
             ],
             [
              0.1111111111111111,
              "#46039f"
             ],
             [
              0.2222222222222222,
              "#7201a8"
             ],
             [
              0.3333333333333333,
              "#9c179e"
             ],
             [
              0.4444444444444444,
              "#bd3786"
             ],
             [
              0.5555555555555556,
              "#d8576b"
             ],
             [
              0.6666666666666666,
              "#ed7953"
             ],
             [
              0.7777777777777778,
              "#fb9f3a"
             ],
             [
              0.8888888888888888,
              "#fdca26"
             ],
             [
              1,
              "#f0f921"
             ]
            ],
            "type": "heatmap"
           }
          ],
          "heatmapgl": [
           {
            "colorbar": {
             "outlinewidth": 0,
             "ticks": ""
            },
            "colorscale": [
             [
              0,
              "#0d0887"
             ],
             [
              0.1111111111111111,
              "#46039f"
             ],
             [
              0.2222222222222222,
              "#7201a8"
             ],
             [
              0.3333333333333333,
              "#9c179e"
             ],
             [
              0.4444444444444444,
              "#bd3786"
             ],
             [
              0.5555555555555556,
              "#d8576b"
             ],
             [
              0.6666666666666666,
              "#ed7953"
             ],
             [
              0.7777777777777778,
              "#fb9f3a"
             ],
             [
              0.8888888888888888,
              "#fdca26"
             ],
             [
              1,
              "#f0f921"
             ]
            ],
            "type": "heatmapgl"
           }
          ],
          "histogram": [
           {
            "marker": {
             "pattern": {
              "fillmode": "overlay",
              "size": 10,
              "solidity": 0.2
             }
            },
            "type": "histogram"
           }
          ],
          "histogram2d": [
           {
            "colorbar": {
             "outlinewidth": 0,
             "ticks": ""
            },
            "colorscale": [
             [
              0,
              "#0d0887"
             ],
             [
              0.1111111111111111,
              "#46039f"
             ],
             [
              0.2222222222222222,
              "#7201a8"
             ],
             [
              0.3333333333333333,
              "#9c179e"
             ],
             [
              0.4444444444444444,
              "#bd3786"
             ],
             [
              0.5555555555555556,
              "#d8576b"
             ],
             [
              0.6666666666666666,
              "#ed7953"
             ],
             [
              0.7777777777777778,
              "#fb9f3a"
             ],
             [
              0.8888888888888888,
              "#fdca26"
             ],
             [
              1,
              "#f0f921"
             ]
            ],
            "type": "histogram2d"
           }
          ],
          "histogram2dcontour": [
           {
            "colorbar": {
             "outlinewidth": 0,
             "ticks": ""
            },
            "colorscale": [
             [
              0,
              "#0d0887"
             ],
             [
              0.1111111111111111,
              "#46039f"
             ],
             [
              0.2222222222222222,
              "#7201a8"
             ],
             [
              0.3333333333333333,
              "#9c179e"
             ],
             [
              0.4444444444444444,
              "#bd3786"
             ],
             [
              0.5555555555555556,
              "#d8576b"
             ],
             [
              0.6666666666666666,
              "#ed7953"
             ],
             [
              0.7777777777777778,
              "#fb9f3a"
             ],
             [
              0.8888888888888888,
              "#fdca26"
             ],
             [
              1,
              "#f0f921"
             ]
            ],
            "type": "histogram2dcontour"
           }
          ],
          "mesh3d": [
           {
            "colorbar": {
             "outlinewidth": 0,
             "ticks": ""
            },
            "type": "mesh3d"
           }
          ],
          "parcoords": [
           {
            "line": {
             "colorbar": {
              "outlinewidth": 0,
              "ticks": ""
             }
            },
            "type": "parcoords"
           }
          ],
          "pie": [
           {
            "automargin": true,
            "type": "pie"
           }
          ],
          "scatter": [
           {
            "fillpattern": {
             "fillmode": "overlay",
             "size": 10,
             "solidity": 0.2
            },
            "type": "scatter"
           }
          ],
          "scatter3d": [
           {
            "line": {
             "colorbar": {
              "outlinewidth": 0,
              "ticks": ""
             }
            },
            "marker": {
             "colorbar": {
              "outlinewidth": 0,
              "ticks": ""
             }
            },
            "type": "scatter3d"
           }
          ],
          "scattercarpet": [
           {
            "marker": {
             "colorbar": {
              "outlinewidth": 0,
              "ticks": ""
             }
            },
            "type": "scattercarpet"
           }
          ],
          "scattergeo": [
           {
            "marker": {
             "colorbar": {
              "outlinewidth": 0,
              "ticks": ""
             }
            },
            "type": "scattergeo"
           }
          ],
          "scattergl": [
           {
            "marker": {
             "colorbar": {
              "outlinewidth": 0,
              "ticks": ""
             }
            },
            "type": "scattergl"
           }
          ],
          "scattermapbox": [
           {
            "marker": {
             "colorbar": {
              "outlinewidth": 0,
              "ticks": ""
             }
            },
            "type": "scattermapbox"
           }
          ],
          "scatterpolar": [
           {
            "marker": {
             "colorbar": {
              "outlinewidth": 0,
              "ticks": ""
             }
            },
            "type": "scatterpolar"
           }
          ],
          "scatterpolargl": [
           {
            "marker": {
             "colorbar": {
              "outlinewidth": 0,
              "ticks": ""
             }
            },
            "type": "scatterpolargl"
           }
          ],
          "scatterternary": [
           {
            "marker": {
             "colorbar": {
              "outlinewidth": 0,
              "ticks": ""
             }
            },
            "type": "scatterternary"
           }
          ],
          "surface": [
           {
            "colorbar": {
             "outlinewidth": 0,
             "ticks": ""
            },
            "colorscale": [
             [
              0,
              "#0d0887"
             ],
             [
              0.1111111111111111,
              "#46039f"
             ],
             [
              0.2222222222222222,
              "#7201a8"
             ],
             [
              0.3333333333333333,
              "#9c179e"
             ],
             [
              0.4444444444444444,
              "#bd3786"
             ],
             [
              0.5555555555555556,
              "#d8576b"
             ],
             [
              0.6666666666666666,
              "#ed7953"
             ],
             [
              0.7777777777777778,
              "#fb9f3a"
             ],
             [
              0.8888888888888888,
              "#fdca26"
             ],
             [
              1,
              "#f0f921"
             ]
            ],
            "type": "surface"
           }
          ],
          "table": [
           {
            "cells": {
             "fill": {
              "color": "#EBF0F8"
             },
             "line": {
              "color": "white"
             }
            },
            "header": {
             "fill": {
              "color": "#C8D4E3"
             },
             "line": {
              "color": "white"
             }
            },
            "type": "table"
           }
          ]
         },
         "layout": {
          "annotationdefaults": {
           "arrowcolor": "#2a3f5f",
           "arrowhead": 0,
           "arrowwidth": 1
          },
          "autotypenumbers": "strict",
          "coloraxis": {
           "colorbar": {
            "outlinewidth": 0,
            "ticks": ""
           }
          },
          "colorscale": {
           "diverging": [
            [
             0,
             "#8e0152"
            ],
            [
             0.1,
             "#c51b7d"
            ],
            [
             0.2,
             "#de77ae"
            ],
            [
             0.3,
             "#f1b6da"
            ],
            [
             0.4,
             "#fde0ef"
            ],
            [
             0.5,
             "#f7f7f7"
            ],
            [
             0.6,
             "#e6f5d0"
            ],
            [
             0.7,
             "#b8e186"
            ],
            [
             0.8,
             "#7fbc41"
            ],
            [
             0.9,
             "#4d9221"
            ],
            [
             1,
             "#276419"
            ]
           ],
           "sequential": [
            [
             0,
             "#0d0887"
            ],
            [
             0.1111111111111111,
             "#46039f"
            ],
            [
             0.2222222222222222,
             "#7201a8"
            ],
            [
             0.3333333333333333,
             "#9c179e"
            ],
            [
             0.4444444444444444,
             "#bd3786"
            ],
            [
             0.5555555555555556,
             "#d8576b"
            ],
            [
             0.6666666666666666,
             "#ed7953"
            ],
            [
             0.7777777777777778,
             "#fb9f3a"
            ],
            [
             0.8888888888888888,
             "#fdca26"
            ],
            [
             1,
             "#f0f921"
            ]
           ],
           "sequentialminus": [
            [
             0,
             "#0d0887"
            ],
            [
             0.1111111111111111,
             "#46039f"
            ],
            [
             0.2222222222222222,
             "#7201a8"
            ],
            [
             0.3333333333333333,
             "#9c179e"
            ],
            [
             0.4444444444444444,
             "#bd3786"
            ],
            [
             0.5555555555555556,
             "#d8576b"
            ],
            [
             0.6666666666666666,
             "#ed7953"
            ],
            [
             0.7777777777777778,
             "#fb9f3a"
            ],
            [
             0.8888888888888888,
             "#fdca26"
            ],
            [
             1,
             "#f0f921"
            ]
           ]
          },
          "colorway": [
           "#636efa",
           "#EF553B",
           "#00cc96",
           "#ab63fa",
           "#FFA15A",
           "#19d3f3",
           "#FF6692",
           "#B6E880",
           "#FF97FF",
           "#FECB52"
          ],
          "font": {
           "color": "#2a3f5f"
          },
          "geo": {
           "bgcolor": "white",
           "lakecolor": "white",
           "landcolor": "#E5ECF6",
           "showlakes": true,
           "showland": true,
           "subunitcolor": "white"
          },
          "hoverlabel": {
           "align": "left"
          },
          "hovermode": "closest",
          "mapbox": {
           "style": "light"
          },
          "paper_bgcolor": "white",
          "plot_bgcolor": "#E5ECF6",
          "polar": {
           "angularaxis": {
            "gridcolor": "white",
            "linecolor": "white",
            "ticks": ""
           },
           "bgcolor": "#E5ECF6",
           "radialaxis": {
            "gridcolor": "white",
            "linecolor": "white",
            "ticks": ""
           }
          },
          "scene": {
           "xaxis": {
            "backgroundcolor": "#E5ECF6",
            "gridcolor": "white",
            "gridwidth": 2,
            "linecolor": "white",
            "showbackground": true,
            "ticks": "",
            "zerolinecolor": "white"
           },
           "yaxis": {
            "backgroundcolor": "#E5ECF6",
            "gridcolor": "white",
            "gridwidth": 2,
            "linecolor": "white",
            "showbackground": true,
            "ticks": "",
            "zerolinecolor": "white"
           },
           "zaxis": {
            "backgroundcolor": "#E5ECF6",
            "gridcolor": "white",
            "gridwidth": 2,
            "linecolor": "white",
            "showbackground": true,
            "ticks": "",
            "zerolinecolor": "white"
           }
          },
          "shapedefaults": {
           "line": {
            "color": "#2a3f5f"
           }
          },
          "ternary": {
           "aaxis": {
            "gridcolor": "white",
            "linecolor": "white",
            "ticks": ""
           },
           "baxis": {
            "gridcolor": "white",
            "linecolor": "white",
            "ticks": ""
           },
           "bgcolor": "#E5ECF6",
           "caxis": {
            "gridcolor": "white",
            "linecolor": "white",
            "ticks": ""
           }
          },
          "title": {
           "x": 0.05
          },
          "xaxis": {
           "automargin": true,
           "gridcolor": "white",
           "linecolor": "white",
           "ticks": "",
           "title": {
            "standoff": 15
           },
           "zerolinecolor": "white",
           "zerolinewidth": 2
          },
          "yaxis": {
           "automargin": true,
           "gridcolor": "white",
           "linecolor": "white",
           "ticks": "",
           "title": {
            "standoff": 15
           },
           "zerolinecolor": "white",
           "zerolinewidth": 2
          }
         }
        },
        "title": {
         "text": "sig Over Time"
        },
        "xaxis": {
         "anchor": "y",
         "domain": [
          0,
          1
         ],
         "title": {
          "text": "Time"
         }
        },
        "yaxis": {
         "anchor": "x",
         "domain": [
          0,
          1
         ],
         "title": {
          "text": "magnitude"
         }
        }
       }
      },
      "image/png": "[encoded data removed]",
      "text/html": [
       "<div>                            <div id=\"8dc69856-1e41-4055-8f87-18ecdc9f21bd\" class=\"plotly-graph-div\" style=\"height:525px; width:100%;\"></div>            <script type=\"text/javascript\">                require([\"plotly\"], function(Plotly) {                    window.PLOTLYENV=window.PLOTLYENV || {};                                    if (document.getElementById(\"8dc69856-1e41-4055-8f87-18ecdc9f21bd\")) {                    Plotly.newPlot(                        \"8dc69856-1e41-4055-8f87-18ecdc9f21bd\",                        [{\"hovertemplate\":\"Season=Autumn\\u003cbr\\u003eTime=%{x}\\u003cbr\\u003emagnitude=%{y}\\u003cextra\\u003e\\u003c\\u002fextra\\u003e\",\"legendgroup\":\"Autumn\",\"line\":{\"color\":\"#636efa\",\"dash\":\"solid\"},\"marker\":{\"symbol\":\"circle\"},\"mode\":\"lines\",\"name\":\"Autumn\",\"orientation\":\"v\",\"showlegend\":true,\"x\":[\"2022-11-22T02:03:00\",\"2022-11-18T13:37:00\",\"2022-11-12T07:09:00\",\"2022-11-11T10:48:00\",\"2022-11-09T10:14:00\",\"2022-11-09T09:51:00\",\"2022-11-09T09:38:00\",\"2022-10-20T11:57:00\",\"2022-09-22T06:16:00\",\"2022-09-19T18:05:00\",\"2022-09-18T06:44:00\",\"2022-09-17T13:41:00\",\"2022-09-14T11:04:00\",\"2022-09-10T23:47:00\",\"2022-09-05T04:52:00\",\"2021-11-28T10:52:00\",\"2021-11-10T15:45:00\",\"2021-10-11T09:10:00\",\"2021-10-09T10:58:00\",\"2021-10-02T06:29:00\",\"2021-09-22T09:57:00\",\"2021-09-08T01:47:00\",\"2020-10-30T11:51:00\",\"2020-10-19T20:54:00\",\"2020-09-18T21:43:00\",\"2020-09-01T21:09:00\",\"2020-09-01T04:09:00\",\"2019-11-14T16:17:00\",\"2019-11-08T10:44:00\",\"2019-11-04T22:43:00\",\"2019-10-31T01:11:00\",\"2019-10-29T01:04:00\",\"2019-09-29T15:57:00\",\"2019-09-25T23:46:00\",\"2019-09-01T15:54:00\",\"2018-11-30T17:29:00\",\"2018-11-18T20:25:00\",\"2018-11-09T01:49:00\",\"2018-10-25T22:54:00\",\"2018-10-22T06:22:00\",\"2018-10-22T06:16:00\",\"2018-10-22T05:39:00\",\"2018-10-16T01:03:00\",\"2018-10-13T11:10:00\",\"2018-10-10T23:16:00\",\"2018-10-10T20:48:00\",\"2018-09-30T10:52:00\",\"2018-09-28T10:02:00\",\"2018-09-16T21:11:00\",\"2018-09-10T04:19:00\",\"2018-09-09T19:31:00\",\"2018-09-06T15:49:00\",\"2018-09-05T18:07:00\",\"2017-11-19T22:43:00\",\"2017-11-19T15:09:00\",\"2017-11-13T02:28:00\",\"2017-11-12T18:18:00\",\"2017-11-07T21:26:00\",\"2017-11-04T09:00:00\",\"2017-11-01T02:23:00\",\"2017-10-31T00:42:00\",\"2017-10-24T10:47:00\",\"2017-10-08T22:34:00\",\"2017-09-19T18:14:00\",\"2017-09-08T04:49:00\",\"2016-11-25T14:24:00\",\"2016-11-24T18:43:00\",\"2016-11-21T20:59:00\",\"2016-11-14T00:34:00\",\"2016-11-13T11:32:00\",\"2016-11-13T11:02:00\",\"2016-10-30T06:40:00\",\"2016-10-19T00:26:00\",\"2016-10-17T06:14:00\",\"2016-09-24T21:28:00\",\"2016-09-01T16:37:00\"],\"xaxis\":\"x\",\"y\":[7.0,6.9,7.0,7.3,6.6,7.0,6.8,6.7,6.8,7.6,6.9,6.5,7.0,7.6,6.6,7.5,6.6,6.9,6.9,7.3,6.5,7.0,7.0,7.6,6.9,6.5,6.8,7.1,6.5,6.6,6.5,6.6,6.7,6.5,6.6,7.1,6.8,6.7,6.8,6.5,6.8,6.5,6.5,6.7,6.5,7.0,6.7,7.5,6.5,6.9,6.5,7.9,6.6,7.0,6.6,6.5,7.3,6.5,6.8,6.6,6.7,6.7,6.5,7.1,8.2,6.6,6.9,6.9,6.5,6.5,7.8,6.6,6.6,6.8,6.9,7.0],\"yaxis\":\"y\",\"type\":\"scatter\"},{\"hovertemplate\":\"Season=Summer\\u003cbr\\u003eTime=%{x}\\u003cbr\\u003emagnitude=%{y}\\u003cextra\\u003e\\u003c\\u002fextra\\u003e\",\"legendgroup\":\"Summer\",\"line\":{\"color\":\"#EF553B\",\"dash\":\"solid\"},\"marker\":{\"symbol\":\"circle\"},\"mode\":\"lines\",\"name\":\"Summer\",\"orientation\":\"v\",\"showlegend\":true,\"x\":[\"2022-08-14T13:44:00\",\"2022-07-27T00:43:00\",\"2022-06-08T00:55:00\",\"2021-08-22T21:33:00\",\"2021-08-22T00:45:00\",\"2021-08-18T10:10:00\",\"2021-08-16T11:10:00\",\"2021-08-14T12:29:00\",\"2021-08-14T11:57:00\",\"2021-08-14T11:57:00\",\"2021-08-12T18:35:00\",\"2021-08-12T18:32:00\",\"2021-08-11T17:46:00\",\"2021-07-29T06:15:00\",\"2021-07-29T06:15:00\",\"2021-07-23T20:48:00\",\"2021-07-21T21:15:00\",\"2021-06-20T17:05:00\",\"2020-08-30T21:20:00\",\"2020-08-21T04:09:00\",\"2020-08-18T22:29:00\",\"2020-08-18T22:23:00\",\"2020-08-18T00:03:00\",\"2020-07-22T06:12:00\",\"2020-07-17T02:50:00\",\"2020-07-06T22:54:00\",\"2020-06-23T15:29:00\",\"2020-06-18T12:49:00\",\"2020-06-13T15:51:00\",\"2020-06-03T07:35:00\",\"2019-08-27T23:55:00\",\"2019-08-02T12:03:00\",\"2019-08-01T18:28:00\",\"2019-07-31T15:02:00\",\"2019-07-14T09:10:00\",\"2019-07-14T05:39:00\",\"2019-07-07T15:08:00\",\"2019-07-06T03:19:00\",\"2019-06-24T02:53:00\",\"2019-06-15T22:55:00\",\"2018-08-29T03:51:00\",\"2018-08-24T09:04:00\",\"2018-08-21T22:32:00\",\"2018-08-21T21:31:00\",\"2018-08-19T14:56:00\",\"2018-08-19T00:19:00\",\"2018-08-17T15:35:00\",\"2018-08-15T21:56:00\",\"2018-08-05T11:46:00\",\"2017-08-08T13:19:00\",\"2017-07-20T22:31:00\",\"2017-07-17T23:34:00\",\"2017-07-11T07:00:00\",\"2017-07-06T08:03:00\",\"2017-06-22T12:31:00\",\"2017-06-14T07:29:00\",\"2017-06-02T22:24:00\",\"2016-08-31T03:11:00\",\"2016-08-24T10:34:00\",\"2016-08-12T01:26:00\",\"2016-07-29T21:18:00\",\"2016-06-01T22:56:00\"],\"xaxis\":\"x\",\"y\":[6.6,7.0,6.5,7.1,6.6,6.9,6.9,7.2,6.9,6.9,8.1,7.5,7.1,8.2,8.2,6.7,6.7,6.5,6.5,6.9,6.9,6.8,6.6,7.8,7.0,6.6,7.4,7.4,6.6,6.8,6.6,6.9,6.8,6.6,7.2,6.6,6.9,7.1,7.3,7.3,7.1,7.1,6.5,7.3,6.9,8.2,6.5,6.5,6.9,6.5,6.6,7.7,6.6,6.5,6.8,6.9,6.8,6.8,6.8,7.2,7.7,6.6],\"yaxis\":\"y\",\"type\":\"scatter\"},{\"hovertemplate\":\"Season=Spring\\u003cbr\\u003eTime=%{x}\\u003cbr\\u003emagnitude=%{y}\\u003cextra\\u003e\\u003c\\u002fextra\\u003e\",\"legendgroup\":\"Spring\",\"line\":{\"color\":\"#00cc96\",\"dash\":\"solid\"},\"marker\":{\"symbol\":\"circle\"},\"mode\":\"lines\",\"name\":\"Spring\",\"orientation\":\"v\",\"showlegend\":true,\"x\":[\"2022-05-26T12:02:00\",\"2022-05-19T10:13:00\",\"2022-05-10T23:06:00\",\"2022-04-21T07:42:00\",\"2022-03-31T05:44:00\",\"2022-03-30T20:56:00\",\"2022-03-22T17:41:00\",\"2022-03-16T14:36:00\",\"2022-03-13T21:09:00\",\"2022-03-02T12:52:00\",\"2021-05-21T22:13:00\",\"2021-05-21T18:04:00\",\"2021-05-14T06:33:00\",\"2021-05-12T14:05:00\",\"2021-05-01T01:27:00\",\"2021-04-25T22:28:00\",\"2021-04-24T00:23:00\",\"2021-03-20T09:09:00\",\"2021-03-16T18:38:00\",\"2021-03-04T23:12:00\",\"2021-03-04T19:28:00\",\"2021-03-04T17:41:00\",\"2021-03-04T13:27:00\",\"2020-05-15T11:03:00\",\"2020-05-12T22:41:00\",\"2020-05-06T13:53:00\",\"2020-05-02T12:51:00\",\"2020-03-31T23:52:00\",\"2020-03-25T02:49:00\",\"2019-05-30T09:03:00\",\"2019-05-26T07:41:00\",\"2019-05-14T12:58:00\",\"2019-05-06T21:19:00\",\"2019-04-12T11:40:00\",\"2019-04-09T17:53:00\",\"2019-03-01T08:50:00\",\"2018-05-04T22:32:00\",\"2018-04-02T13:40:00\",\"2018-03-29T21:25:00\",\"2018-03-26T09:51:00\",\"2018-03-08T17:39:00\",\"2018-03-06T14:13:00\",\"2017-05-29T14:35:00\",\"2017-05-10T23:23:00\",\"2017-05-09T13:52:00\",\"2017-04-28T20:23:00\",\"2017-04-24T21:38:00\",\"2017-04-03T17:40:00\",\"2017-03-29T04:09:00\",\"2016-05-28T09:46:00\",\"2016-05-28T05:38:00\",\"2016-05-18T16:46:00\",\"2016-05-18T07:57:00\",\"2016-04-28T19:33:00\",\"2016-04-16T23:58:00\",\"2016-04-15T16:25:00\",\"2016-04-13T13:55:00\",\"2016-04-10T10:28:00\",\"2016-04-07T03:32:00\",\"2016-04-06T06:58:00\",\"2016-04-03T08:23:00\",\"2016-03-02T12:49:00\"],\"xaxis\":\"x\",\"y\":[7.2,6.9,6.8,6.6,7.0,6.9,6.7,7.3,6.7,6.6,6.5,7.3,6.7,6.7,6.9,6.5,6.5,7.0,6.6,6.5,8.1,7.4,7.3,6.5,6.6,6.8,6.5,6.5,7.5,6.6,8.0,7.6,7.1,6.8,6.5,7.0,6.9,6.8,6.9,6.7,6.8,6.7,6.6,6.5,6.8,6.9,6.9,6.5,6.6,7.2,6.9,6.9,6.7,7.0,7.8,7.0,6.9,6.6,6.7,6.7,6.9,7.8],\"yaxis\":\"y\",\"type\":\"scatter\"},{\"hovertemplate\":\"Season=Winter\\u003cbr\\u003eTime=%{x}\\u003cbr\\u003emagnitude=%{y}\\u003cextra\\u003e\\u003c\\u002fextra\\u003e\",\"legendgroup\":\"Winter\",\"line\":{\"color\":\"#ab63fa\",\"dash\":\"solid\"},\"marker\":{\"symbol\":\"circle\"},\"mode\":\"lines\",\"name\":\"Winter\",\"orientation\":\"v\",\"showlegend\":true,\"x\":[\"2022-02-16T20:21:00\",\"2022-02-03T15:58:00\",\"2022-01-29T02:46:00\",\"2022-01-14T09:05:00\",\"2022-01-11T12:39:00\",\"2022-01-11T12:39:00\",\"2022-01-11T12:39:00\",\"2022-01-11T11:35:00\",\"2022-01-11T11:35:00\",\"2022-01-11T11:35:00\",\"2022-01-11T01:07:00\",\"2022-01-07T17:45:00\",\"2021-12-29T18:25:00\",\"2021-12-14T03:20:00\",\"2021-02-13T14:07:00\",\"2021-02-10T13:19:00\",\"2021-01-23T23:36:00\",\"2021-01-21T12:23:00\",\"2021-01-11T21:32:00\",\"2020-12-27T21:39:00\",\"2020-02-13T10:33:00\",\"2020-01-28T19:10:00\",\"2020-01-24T17:55:00\",\"2019-12-15T06:11:00\",\"2019-02-22T10:17:00\",\"2019-02-01T16:14:00\",\"2019-01-22T19:01:00\",\"2019-01-20T01:32:00\",\"2019-01-15T18:06:00\",\"2019-01-06T17:27:00\",\"2019-01-05T19:25:00\",\"2018-12-29T03:39:00\",\"2018-12-20T17:01:00\",\"2018-12-11T02:26:00\",\"2018-12-05T06:43:00\",\"2018-12-05T04:18:00\",\"2018-02-25T17:44:00\",\"2018-02-16T23:39:00\",\"2018-01-23T09:31:00\",\"2018-01-14T09:18:00\",\"2018-01-10T02:51:00\",\"2017-12-15T16:47:00\",\"2017-12-13T18:03:00\",\"2017-02-24T17:28:00\",\"2017-02-21T14:09:00\",\"2017-02-10T14:03:00\",\"2017-01-22T04:30:00\",\"2017-01-19T23:04:00\",\"2017-01-10T06:13:00\",\"2017-01-03T21:52:00\",\"2016-12-25T14:22:00\",\"2016-12-21T00:17:00\",\"2016-12-17T10:51:00\",\"2016-12-09T19:10:00\",\"2016-12-08T21:56:00\",\"2016-12-08T17:38:00\",\"2016-12-08T14:49:00\",\"2016-12-06T22:03:00\",\"2016-01-30T03:25:00\",\"2016-01-24T10:30:00\",\"2016-01-21T18:06:00\",\"2016-01-14T03:25:00\",\"2016-01-11T16:38:00\",\"2016-01-03T23:05:00\"],\"xaxis\":\"x\",\"y\":[6.8,6.5,6.5,6.6,6.5,6.5,6.6,6.7,6.7,6.8,6.6,6.6,7.3,7.3,7.1,7.7,6.9,7.0,6.7,6.7,7.0,7.7,6.7,6.8,7.5,6.7,6.7,6.7,6.6,6.6,6.8,7.0,7.3,7.1,6.6,7.5,7.5,7.2,7.9,7.1,7.5,6.5,6.5,6.9,6.5,6.5,7.9,6.5,7.3,6.9,7.6,6.7,7.9,6.9,6.5,7.8,6.6,6.5,7.2,7.1,6.6,6.7,6.5,6.7],\"yaxis\":\"y\",\"type\":\"scatter\"}],                        {\"template\":{\"data\":{\"histogram2dcontour\":[{\"type\":\"histogram2dcontour\",\"colorbar\":{\"outlinewidth\":0,\"ticks\":\"\"},\"colorscale\":[[0.0,\"#0d0887\"],[0.1111111111111111,\"#46039f\"],[0.2222222222222222,\"#7201a8\"],[0.3333333333333333,\"#9c179e\"],[0.4444444444444444,\"#bd3786\"],[0.5555555555555556,\"#d8576b\"],[0.6666666666666666,\"#ed7953\"],[0.7777777777777778,\"#fb9f3a\"],[0.8888888888888888,\"#fdca26\"],[1.0,\"#f0f921\"]]}],\"choropleth\":[{\"type\":\"choropleth\",\"colorbar\":{\"outlinewidth\":0,\"ticks\":\"\"}}],\"histogram2d\":[{\"type\":\"histogram2d\",\"colorbar\":{\"outlinewidth\":0,\"ticks\":\"\"},\"colorscale\":[[0.0,\"#0d0887\"],[0.1111111111111111,\"#46039f\"],[0.2222222222222222,\"#7201a8\"],[0.3333333333333333,\"#9c179e\"],[0.4444444444444444,\"#bd3786\"],[0.5555555555555556,\"#d8576b\"],[0.6666666666666666,\"#ed7953\"],[0.7777777777777778,\"#fb9f3a\"],[0.8888888888888888,\"#fdca26\"],[1.0,\"#f0f921\"]]}],\"heatmap\":[{\"type\":\"heatmap\",\"colorbar\":{\"outlinewidth\":0,\"ticks\":\"\"},\"colorscale\":[[0.0,\"#0d0887\"],[0.1111111111111111,\"#46039f\"],[0.2222222222222222,\"#7201a8\"],[0.3333333333333333,\"#9c179e\"],[0.4444444444444444,\"#bd3786\"],[0.5555555555555556,\"#d8576b\"],[0.6666666666666666,\"#ed7953\"],[0.7777777777777778,\"#fb9f3a\"],[0.8888888888888888,\"#fdca26\"],[1.0,\"#f0f921\"]]}],\"heatmapgl\":[{\"type\":\"heatmapgl\",\"colorbar\":{\"outlinewidth\":0,\"ticks\":\"\"},\"colorscale\":[[0.0,\"#0d0887\"],[0.1111111111111111,\"#46039f\"],[0.2222222222222222,\"#7201a8\"],[0.3333333333333333,\"#9c179e\"],[0.4444444444444444,\"#bd3786\"],[0.5555555555555556,\"#d8576b\"],[0.6666666666666666,\"#ed7953\"],[0.7777777777777778,\"#fb9f3a\"],[0.8888888888888888,\"#fdca26\"],[1.0,\"#f0f921\"]]}],\"contourcarpet\":[{\"type\":\"contourcarpet\",\"colorbar\":{\"outlinewidth\":0,\"ticks\":\"\"}}],\"contour\":[{\"type\":\"contour\",\"colorbar\":{\"outlinewidth\":0,\"ticks\":\"\"},\"colorscale\":[[0.0,\"#0d0887\"],[0.1111111111111111,\"#46039f\"],[0.2222222222222222,\"#7201a8\"],[0.3333333333333333,\"#9c179e\"],[0.4444444444444444,\"#bd3786\"],[0.5555555555555556,\"#d8576b\"],[0.6666666666666666,\"#ed7953\"],[0.7777777777777778,\"#fb9f3a\"],[0.8888888888888888,\"#fdca26\"],[1.0,\"#f0f921\"]]}],\"surface\":[{\"type\":\"surface\",\"colorbar\":{\"outlinewidth\":0,\"ticks\":\"\"},\"colorscale\":[[0.0,\"#0d0887\"],[0.1111111111111111,\"#46039f\"],[0.2222222222222222,\"#7201a8\"],[0.3333333333333333,\"#9c179e\"],[0.4444444444444444,\"#bd3786\"],[0.5555555555555556,\"#d8576b\"],[0.6666666666666666,\"#ed7953\"],[0.7777777777777778,\"#fb9f3a\"],[0.8888888888888888,\"#fdca26\"],[1.0,\"#f0f921\"]]}],\"mesh3d\":[{\"type\":\"mesh3d\",\"colorbar\":{\"outlinewidth\":0,\"ticks\":\"\"}}],\"scatter\":[{\"fillpattern\":{\"fillmode\":\"overlay\",\"size\":10,\"solidity\":0.2},\"type\":\"scatter\"}],\"parcoords\":[{\"type\":\"parcoords\",\"line\":{\"colorbar\":{\"outlinewidth\":0,\"ticks\":\"\"}}}],\"scatterpolargl\":[{\"type\":\"scatterpolargl\",\"marker\":{\"colorbar\":{\"outlinewidth\":0,\"ticks\":\"\"}}}],\"bar\":[{\"error_x\":{\"color\":\"#2a3f5f\"},\"error_y\":{\"color\":\"#2a3f5f\"},\"marker\":{\"line\":{\"color\":\"#E5ECF6\",\"width\":0.5},\"pattern\":{\"fillmode\":\"overlay\",\"size\":10,\"solidity\":0.2}},\"type\":\"bar\"}],\"scattergeo\":[{\"type\":\"scattergeo\",\"marker\":{\"colorbar\":{\"outlinewidth\":0,\"ticks\":\"\"}}}],\"scatterpolar\":[{\"type\":\"scatterpolar\",\"marker\":{\"colorbar\":{\"outlinewidth\":0,\"ticks\":\"\"}}}],\"histogram\":[{\"marker\":{\"pattern\":{\"fillmode\":\"overlay\",\"size\":10,\"solidity\":0.2}},\"type\":\"histogram\"}],\"scattergl\":[{\"type\":\"scattergl\",\"marker\":{\"colorbar\":{\"outlinewidth\":0,\"ticks\":\"\"}}}],\"scatter3d\":[{\"type\":\"scatter3d\",\"line\":{\"colorbar\":{\"outlinewidth\":0,\"ticks\":\"\"}},\"marker\":{\"colorbar\":{\"outlinewidth\":0,\"ticks\":\"\"}}}],\"scattermapbox\":[{\"type\":\"scattermapbox\",\"marker\":{\"colorbar\":{\"outlinewidth\":0,\"ticks\":\"\"}}}],\"scatterternary\":[{\"type\":\"scatterternary\",\"marker\":{\"colorbar\":{\"outlinewidth\":0,\"ticks\":\"\"}}}],\"scattercarpet\":[{\"type\":\"scattercarpet\",\"marker\":{\"colorbar\":{\"outlinewidth\":0,\"ticks\":\"\"}}}],\"carpet\":[{\"aaxis\":{\"endlinecolor\":\"#2a3f5f\",\"gridcolor\":\"white\",\"linecolor\":\"white\",\"minorgridcolor\":\"white\",\"startlinecolor\":\"#2a3f5f\"},\"baxis\":{\"endlinecolor\":\"#2a3f5f\",\"gridcolor\":\"white\",\"linecolor\":\"white\",\"minorgridcolor\":\"white\",\"startlinecolor\":\"#2a3f5f\"},\"type\":\"carpet\"}],\"table\":[{\"cells\":{\"fill\":{\"color\":\"#EBF0F8\"},\"line\":{\"color\":\"white\"}},\"header\":{\"fill\":{\"color\":\"#C8D4E3\"},\"line\":{\"color\":\"white\"}},\"type\":\"table\"}],\"barpolar\":[{\"marker\":{\"line\":{\"color\":\"#E5ECF6\",\"width\":0.5},\"pattern\":{\"fillmode\":\"overlay\",\"size\":10,\"solidity\":0.2}},\"type\":\"barpolar\"}],\"pie\":[{\"automargin\":true,\"type\":\"pie\"}]},\"layout\":{\"autotypenumbers\":\"strict\",\"colorway\":[\"#636efa\",\"#EF553B\",\"#00cc96\",\"#ab63fa\",\"#FFA15A\",\"#19d3f3\",\"#FF6692\",\"#B6E880\",\"#FF97FF\",\"#FECB52\"],\"font\":{\"color\":\"#2a3f5f\"},\"hovermode\":\"closest\",\"hoverlabel\":{\"align\":\"left\"},\"paper_bgcolor\":\"white\",\"plot_bgcolor\":\"#E5ECF6\",\"polar\":{\"bgcolor\":\"#E5ECF6\",\"angularaxis\":{\"gridcolor\":\"white\",\"linecolor\":\"white\",\"ticks\":\"\"},\"radialaxis\":{\"gridcolor\":\"white\",\"linecolor\":\"white\",\"ticks\":\"\"}},\"ternary\":{\"bgcolor\":\"#E5ECF6\",\"aaxis\":{\"gridcolor\":\"white\",\"linecolor\":\"white\",\"ticks\":\"\"},\"baxis\":{\"gridcolor\":\"white\",\"linecolor\":\"white\",\"ticks\":\"\"},\"caxis\":{\"gridcolor\":\"white\",\"linecolor\":\"white\",\"ticks\":\"\"}},\"coloraxis\":{\"colorbar\":{\"outlinewidth\":0,\"ticks\":\"\"}},\"colorscale\":{\"sequential\":[[0.0,\"#0d0887\"],[0.1111111111111111,\"#46039f\"],[0.2222222222222222,\"#7201a8\"],[0.3333333333333333,\"#9c179e\"],[0.4444444444444444,\"#bd3786\"],[0.5555555555555556,\"#d8576b\"],[0.6666666666666666,\"#ed7953\"],[0.7777777777777778,\"#fb9f3a\"],[0.8888888888888888,\"#fdca26\"],[1.0,\"#f0f921\"]],\"sequentialminus\":[[0.0,\"#0d0887\"],[0.1111111111111111,\"#46039f\"],[0.2222222222222222,\"#7201a8\"],[0.3333333333333333,\"#9c179e\"],[0.4444444444444444,\"#bd3786\"],[0.5555555555555556,\"#d8576b\"],[0.6666666666666666,\"#ed7953\"],[0.7777777777777778,\"#fb9f3a\"],[0.8888888888888888,\"#fdca26\"],[1.0,\"#f0f921\"]],\"diverging\":[[0,\"#8e0152\"],[0.1,\"#c51b7d\"],[0.2,\"#de77ae\"],[0.3,\"#f1b6da\"],[0.4,\"#fde0ef\"],[0.5,\"#f7f7f7\"],[0.6,\"#e6f5d0\"],[0.7,\"#b8e186\"],[0.8,\"#7fbc41\"],[0.9,\"#4d9221\"],[1,\"#276419\"]]},\"xaxis\":{\"gridcolor\":\"white\",\"linecolor\":\"white\",\"ticks\":\"\",\"title\":{\"standoff\":15},\"zerolinecolor\":\"white\",\"automargin\":true,\"zerolinewidth\":2},\"yaxis\":{\"gridcolor\":\"white\",\"linecolor\":\"white\",\"ticks\":\"\",\"title\":{\"standoff\":15},\"zerolinecolor\":\"white\",\"automargin\":true,\"zerolinewidth\":2},\"scene\":{\"xaxis\":{\"backgroundcolor\":\"#E5ECF6\",\"gridcolor\":\"white\",\"linecolor\":\"white\",\"showbackground\":true,\"ticks\":\"\",\"zerolinecolor\":\"white\",\"gridwidth\":2},\"yaxis\":{\"backgroundcolor\":\"#E5ECF6\",\"gridcolor\":\"white\",\"linecolor\":\"white\",\"showbackground\":true,\"ticks\":\"\",\"zerolinecolor\":\"white\",\"gridwidth\":2},\"zaxis\":{\"backgroundcolor\":\"#E5ECF6\",\"gridcolor\":\"white\",\"linecolor\":\"white\",\"showbackground\":true,\"ticks\":\"\",\"zerolinecolor\":\"white\",\"gridwidth\":2}},\"shapedefaults\":{\"line\":{\"color\":\"#2a3f5f\"}},\"annotationdefaults\":{\"arrowcolor\":\"#2a3f5f\",\"arrowhead\":0,\"arrowwidth\":1},\"geo\":{\"bgcolor\":\"white\",\"landcolor\":\"#E5ECF6\",\"subunitcolor\":\"white\",\"showland\":true,\"showlakes\":true,\"lakecolor\":\"white\"},\"title\":{\"x\":0.05},\"mapbox\":{\"style\":\"light\"}}},\"xaxis\":{\"anchor\":\"y\",\"domain\":[0.0,1.0],\"title\":{\"text\":\"Time\"}},\"yaxis\":{\"anchor\":\"x\",\"domain\":[0.0,1.0],\"title\":{\"text\":\"magnitude\"}},\"legend\":{\"title\":{\"text\":\"Season\"},\"tracegroupgap\":0},\"title\":{\"text\":\"sig Over Time\"}},                        {\"responsive\": true}                    ).then(function(){\n",
       "                            \n",
       "var gd = document.getElementById('8dc69856-1e41-4055-8f87-18ecdc9f21bd');\n",
       "var x = new MutationObserver(function (mutations, observer) {{\n",
       "        var display = window.getComputedStyle(gd).display;\n",
       "        if (!display || display === 'none') {{\n",
       "            console.log([gd, 'removed!']);\n",
       "            Plotly.purge(gd);\n",
       "            observer.disconnect();\n",
       "        }}\n",
       "}});\n",
       "\n",
       "// Listen for the removal of the full notebook cells\n",
       "var notebookContainer = gd.closest('#notebook-container');\n",
       "if (notebookContainer) {{\n",
       "    x.observe(notebookContainer, {childList: true});\n",
       "}}\n",
       "\n",
       "// Listen for the clearing of the current output cell\n",
       "var outputEl = gd.closest('.output');\n",
       "if (outputEl) {{\n",
       "    x.observe(outputEl, {childList: true});\n",
       "}}\n",
       "\n",
       "                        })                };                });            </script>        </div>"
      ]
     },
     "metadata": {},
     "output_type": "display_data"
    }
   ],
   "source": [
    "import plotly.express as px\n",
    "import numpy as np\n",
    "# Sort DataFrame by 'trending_date'\n",
    "\n",
    "df.sort_values(by='year')\n",
    "# Plot directly\n",
    "fig = px.line(df[df['year'] > 2015], x='date_time', y='magnitude', color='Season',\n",
    "              title='sig Over Time',\n",
    "              labels={'date_time': 'Time'})\n",
    "\n",
    "fig.show()"
   ]
  }
 ],
 "metadata": {
  "celltoolbar": "Slideshow",
  "kernelspec": {
   "display_name": "Python 3 (ipykernel)",
   "language": "python",
   "name": "python3"
  },
  "language_info": {
   "codemirror_mode": {
    "name": "ipython",
    "version": 3
   },
   "file_extension": ".py",
   "mimetype": "text/x-python",
   "name": "python",
   "nbconvert_exporter": "python",
   "pygments_lexer": "ipython3",
   "version": "3.13.0"
  }
 },
 "nbformat": 4,
 "nbformat_minor": 5
}
