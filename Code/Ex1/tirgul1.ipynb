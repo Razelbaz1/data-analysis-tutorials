{
 "cells": [
  {
   "cell_type": "markdown",
   "metadata": {
    "slideshow": {
     "slide_type": ""
    },
    "tags": []
   },
   "source": [
    "<div style=\"color:white;display:fill;border-radius:8px;\n",
    "            background-color:#03112A;font-size:200%; \n",
    "            letter-spacing:1.0px;background-image: url(https://i.imgur.com/GVd0La1.png)\">\n",
    "    <p style=\"padding: 8px;text-align: center;color:white; border-radius: 20px; padding-top: 20px; padding-bottom: 20px;\"><b><b><span style='color:#2ae4f5''></span></b> Welcome to Introduction to Data Analytics Course  </b></p>\n",
    "</div>"
   ]
  },
  {
   "cell_type": "markdown",
   "metadata": {},
   "source": [
    "<div style=\"color:white;display:fill;border-radius:8px;\n",
    "            background-color:#03112A;font-size:150%;\n",
    "            letter-spacing:1.0px;background-image: url(https://i.imgur.com/GVd0La1.png)\">\n",
    "    <p style=\"padding: 8px;color:white;\"><b><b><span style='color:#2ae4f5''> |</span></b> Table of Contents</b></p>\n",
    "</div>"
   ]
  },
  {
   "cell_type": "markdown",
   "metadata": {},
   "source": [
    "1. [Let's get to know each other.](#1)\n",
    "2. [Installation & Troubleshooting.](#2)\n",
    "3. [Neat work code wise.](#3)\n",
    "4. [Additional guides for you to review.](#4)\n",
    "5. [More experiences with Markdown.](#5)\n",
    "6. [Pandas.](#6)\n",
    "7. [More libraries.](#7)\n"
   ]
  },
  {
   "cell_type": "markdown",
   "metadata": {},
   "source": [
    "---"
   ]
  },
  {
   "cell_type": "markdown",
   "metadata": {},
   "source": [
    "<a class=\"anchor\" id='2'></a>"
   ]
  },
  {
   "cell_type": "markdown",
   "metadata": {},
   "source": [
    "<div style=\"color:white;display:fill;border-radius:8px;\n",
    "            background-color:#03112A;font-size:150%;\n",
    "            letter-spacing:1.0px;background-image: url(https://i.imgur.com/GVd0La1.png)\">\n",
    "    <p style=\"padding: 8px;color:white;\"><b><b><span style='color:#2ae4f5''> |</span></b> Installation & Troubleshooting.</b></p>\n",
    "</div>"
   ]
  },
  {
   "cell_type": "markdown",
   "metadata": {
    "id": "jpyLUqy9oK_n"
   },
   "source": [
    "# Installation instructions for JupyterLab:\n",
    "\n",
    "### https://www.youtube.com/watch?v=uOwCiZKj2rg\n",
    "#### Install Anaconda Navigator and Jupyter Lab\n",
    "\n",
    "# **If Anaconda allready installed then you have a working environment of Jupyter Lab**"
   ]
  },
  {
   "cell_type": "markdown",
   "metadata": {},
   "source": [
    "---"
   ]
  },
  {
   "cell_type": "markdown",
   "metadata": {},
   "source": [
    "#### For those who have everything working: where is your folder?"
   ]
  },
  {
   "cell_type": "code",
   "execution_count": 1,
   "metadata": {
    "colab": {
     "base_uri": "https://localhost:8080/",
     "height": 37
    },
    "executionInfo": {
     "elapsed": 296,
     "status": "ok",
     "timestamp": 1687888451742,
     "user": {
      "displayName": "Shai Tirgulim",
      "userId": "18041892042069420089"
     },
     "user_tz": -180
    },
    "id": "RBwOv9D5oK_8",
    "outputId": "98b49d13-843b-49d6-c099-6d44ebb9b291"
   },
   "outputs": [
    {
     "data": {
      "text/plain": [
       "'C:\\\\Users\\\\razel\\\\Desktop\\\\אריאל\\\\data-analytics\\\\\\u200f\\u200fMy Lectures Sem B 24\\\\tirgul1'"
      ]
     },
     "execution_count": 1,
     "metadata": {},
     "output_type": "execute_result"
    }
   ],
   "source": [
    "# Get current directory\n",
    "\n",
    "import os\n",
    "os.getcwd()"
   ]
  },
  {
   "cell_type": "code",
   "execution_count": 2,
   "metadata": {
    "id": "V7oBYRGdoK_9"
   },
   "outputs": [],
   "source": [
    "#### Reset kernel by: Menu -> Kernel -> Restart Kenel"
   ]
  },
  {
   "cell_type": "markdown",
   "metadata": {},
   "source": [
    "---"
   ]
  },
  {
   "cell_type": "markdown",
   "metadata": {},
   "source": [
    "<a class=\"anchor\" id='3'></a>"
   ]
  },
  {
   "cell_type": "markdown",
   "metadata": {},
   "source": [
    "<div style=\"color:white;display:fill;border-radius:8px;\n",
    "            background-color:#03112A;font-size:150%;\n",
    "            letter-spacing:1.0px;background-image: url(https://i.imgur.com/GVd0La1.png)\">\n",
    "    <p style=\"padding: 8px;color:white;\"><b><b><span style='color:#2ae4f5''> |</span></b> Neat work code wise.</b></p>\n",
    "</div>"
   ]
  },
  {
   "cell_type": "markdown",
   "metadata": {},
   "source": [
    "* Google Colab keyboard shortcuts: press ctrl+m+h to open shortcuts list\n",
    "### Jupiter Lab keyboard shortcuts\n",
    "### https://gist.github.com/discdiver/9e00618756d120a8c9fa344ac1c375ac\n",
    "\n",
    "> keyboard shortcuts __In the cell__ :\n",
    "> \n",
    "> Ctrl+Shift - Run Selection and jump next cell.\n",
    "> \n",
    "> Ctrl+Shift - Run Selection and __stay__ in same cell.\n",
    "> \n",
    "> Ctrl + / - toggle comment.\n",
    "> \n",
    "> Ctrl + ] - Indent.\n",
    "> \n",
    "> Ctrl + [ - Dedent.\n",
    "\n",
    "\n",
    "> keyboard shortcuts __Out of the cell__ :\n",
    ">\n",
    "> { Z : undo,Shift+Z : Redo, X : cut, C : copy, V: paste, D D: delete}\n",
    ">\n",
    "> B or Esc+b - Create a new cell below.\n",
    ">\n",
    "> A or Esc+a - Create a new cell above.\n",
    ">"
   ]
  },
  {
   "cell_type": "markdown",
   "metadata": {},
   "source": [
    "> packages\n",
    "\n",
    "cmd view point denoted by ! sign\n",
    "\n",
    "#!pip install numpy # install numpy package\n",
    "\n",
    "#!pip install pandas # install pandas package"
   ]
  },
  {
   "cell_type": "code",
   "execution_count": 11,
   "metadata": {
    "colab": {
     "base_uri": "https://localhost:8080/"
    },
    "executionInfo": {
     "elapsed": 436,
     "status": "ok",
     "timestamp": 1687887527275,
     "user": {
      "displayName": "Shai Tirgulim",
      "userId": "18041892042069420089"
     },
     "user_tz": -180
    },
    "id": "Hw5c1PdToK_v",
    "outputId": "7601f2ca-59b2-41c8-ab35-d8f9e46abec9"
   },
   "outputs": [
    {
     "name": "stdout",
     "output_type": "stream",
     "text": [
      "Hello Python notebook\n",
      "foo123\n"
     ]
    }
   ],
   "source": [
    "# same Python commands work\n",
    "print(\"Hello Python notebook\")\n",
    "print('foo123')\n"
   ]
  },
  {
   "cell_type": "markdown",
   "metadata": {},
   "source": [
    "---"
   ]
  },
  {
   "cell_type": "markdown",
   "metadata": {},
   "source": [
    "<a class=\"anchor\" id='4'></a>"
   ]
  },
  {
   "cell_type": "markdown",
   "metadata": {},
   "source": [
    "<div style=\"color:white;display:fill;border-radius:8px;\n",
    "            background-color:#03112A;font-size:150%;\n",
    "            letter-spacing:1.0px;background-image: url(https://i.imgur.com/GVd0La1.png)\">\n",
    "    <p style=\"padding: 8px;color:white;\"><b><b><span style='color:#2ae4f5''> |</span></b> Additional guides for you to review.</b></p>\n",
    "</div>"
   ]
  },
  {
   "cell_type": "markdown",
   "metadata": {
    "id": "9KSDLyKxoK_q"
   },
   "source": [
    "### great python numpy tutorials:\n",
    "#### https://www.youtube.com/watch?v=7wfPqAyYADY&list=PLcD0MjpSMpGRoZgeb509_yICnabm4PYqc\n"
   ]
  },
  {
   "cell_type": "markdown",
   "metadata": {},
   "source": [
    "---"
   ]
  },
  {
   "cell_type": "markdown",
   "metadata": {},
   "source": [
    "## markdown link - Notebooks Tutorials\n",
    "#### [press here](https://www.youtube.com/watch?v=7wfPqAyYADY&list=PLcD0MjpSMpGRoZgeb509_yICnabm4PYqc)"
   ]
  },
  {
   "cell_type": "markdown",
   "metadata": {},
   "source": [
    "---"
   ]
  },
  {
   "cell_type": "markdown",
   "metadata": {
    "id": "mqb-lUjloK_s"
   },
   "source": [
    "#### Hebrew tutorial for Jupyter Notebook (the old version before Jupyter Lab)\n",
    "#### [press here](https://www.youtube.com/watch?v=g9EglM7Ymns)"
   ]
  },
  {
   "cell_type": "markdown",
   "metadata": {},
   "source": [
    "---"
   ]
  },
  {
   "cell_type": "markdown",
   "metadata": {
    "id": "k3pfc_eQoK_v"
   },
   "source": [
    "### Markdown in wikipedia \n",
    "### [press here](https://en.wikipedia.org/wiki/Markdown)"
   ]
  },
  {
   "cell_type": "markdown",
   "metadata": {},
   "source": [
    "---"
   ]
  },
  {
   "cell_type": "markdown",
   "metadata": {},
   "source": [
    "<a class=\"anchor\" id='5'></a>"
   ]
  },
  {
   "cell_type": "markdown",
   "metadata": {},
   "source": [
    "<div style=\"color:white;display:fill;border-radius:8px;\n",
    "            background-color:#03112A;font-size:150%;\n",
    "            letter-spacing:1.0px;background-image: url(https://i.imgur.com/GVd0La1.png)\">\n",
    "    <p style=\"padding: 8px;color:white;\"><b><b><span style='color:#2ae4f5''> |</span></b> More experiences with Markdown.</b></p>\n",
    "</div>"
   ]
  },
  {
   "cell_type": "markdown",
   "metadata": {
    "id": "2Vahfo4UoDRC"
   },
   "source": [
    "# set nice equations\n",
    "### Sphere or Quadratic equations::\n",
    "$ x^2 + y^2 = z^2 \\\\\n",
    "\\\\ x_1,_2 =  \\frac{- b\\pm \\sqrt{b^2-4ac}}{2a} $"
   ]
  },
  {
   "cell_type": "markdown",
   "metadata": {
    "id": "Pfs9PWFVoK_7"
   },
   "source": [
    "Emphasis, aka italics, with *asterisks* or _underscores_.\n",
    "\n",
    "Strong emphasis, aka bold, with **asterisks** or __underscores__.\n",
    "\n",
    "Combined emphasis with **_asterisks and underscores_**.\n",
    "\n",
    "Strikethrough uses two tildes. ~~Scratch this.~~ "
   ]
  },
  {
   "cell_type": "markdown",
   "metadata": {},
   "source": [
    "---"
   ]
  },
  {
   "cell_type": "markdown",
   "metadata": {},
   "source": [
    "<a class=\"anchor\" id='6'></a>"
   ]
  },
  {
   "cell_type": "markdown",
   "metadata": {},
   "source": [
    "<div style=\"color:white;display:fill;border-radius:8px;\n",
    "            background-color:#03112A;font-size:150%;\n",
    "            letter-spacing:1.0px;background-image: url(https://i.imgur.com/GVd0La1.png)\">\n",
    "    <p style=\"padding: 8px;color:white;\"><b><b><span style='color:#2ae4f5''> |</span></b> Pandas.</b></p>\n",
    "</div>"
   ]
  },
  {
   "cell_type": "code",
   "execution_count": 17,
   "metadata": {
    "colab": {
     "base_uri": "https://localhost:8080/",
     "height": 363
    },
    "executionInfo": {
     "elapsed": 17,
     "status": "ok",
     "timestamp": 1687887691947,
     "user": {
      "displayName": "Shai Tirgulim",
      "userId": "18041892042069420089"
     },
     "user_tz": -180
    },
    "id": "1sXd5ZhxoK_z",
    "outputId": "fac137a5-2305-4929-d300-1a6b1d2cec8c"
   },
   "outputs": [
    {
     "data": {
      "text/plain": [
       "(30, 4)"
      ]
     },
     "execution_count": 17,
     "metadata": {},
     "output_type": "execute_result"
    }
   ],
   "source": [
    "import pandas as pd\n",
    "#encoding='latin1'\n",
    "url = 'https://github.com/Razelbaz1/exercises-package/blob/master/data/titanic_short.csv' # read from net.\n",
    "name = 'titanic_short.csv'\n",
    "path = 'C:\\\\Users\\\\razel\\\\Desktop\\\\אריאל\\\\data-analytics\\\\‏‏My Lectures Sem B 24\\\\tirgul1\\\\titanic_short.csv'\n",
    "data = pd.read_csv(path,encoding='latin1')\n",
    "data.head(20) # we can set the number of first rows to be displayed.\n",
    "data.shape"
   ]
  },
  {
   "cell_type": "markdown",
   "metadata": {},
   "source": [
    "---"
   ]
  },
  {
   "cell_type": "markdown",
   "metadata": {},
   "source": [
    "<a class=\"anchor\" id='7'></a>"
   ]
  },
  {
   "cell_type": "markdown",
   "metadata": {},
   "source": [
    "<div style=\"color:white;display:fill;border-radius:8px;\n",
    "            background-color:#03112A;font-size:150%;\n",
    "            letter-spacing:1.0px;background-image: url(https://i.imgur.com/GVd0La1.png)\">\n",
    "    <p style=\"padding: 8px;color:white;\"><b><b><span style='color:#2ae4f5''> |</span></b> More libraries.</b></p>\n",
    "</div>"
   ]
  },
  {
   "cell_type": "code",
   "execution_count": 5,
   "metadata": {},
   "outputs": [
    {
     "name": "stdout",
     "output_type": "stream",
     "text": [
      "Package                   Version\n",
      "------------------------- --------------\n",
      "ace_tools                 0.0\n",
      "alembic                   1.14.0\n",
      "anyio                     4.7.0\n",
      "argon2-cffi               23.1.0\n",
      "argon2-cffi-bindings      21.2.0\n",
      "arrow                     1.3.0\n",
      "asttokens                 3.0.0\n",
      "async-lru                 2.0.4\n",
      "attrs                     24.2.0\n",
      "autoviz                   0.1.905\n",
      "babel                     2.16.0\n",
      "beautifulsoup4            4.12.3\n",
      "bleach                    6.2.0\n",
      "bokeh                     3.6.2\n",
      "certifi                   2024.8.30\n",
      "cffi                      1.17.1\n",
      "charset-normalizer        3.4.0\n",
      "click                     8.1.7\n",
      "colorama                  0.4.6\n",
      "colorcet                  3.1.0\n",
      "comm                      0.2.2\n",
      "contourpy                 1.3.1\n",
      "cycler                    0.12.1\n",
      "debugpy                   1.8.9\n",
      "decorator                 5.1.1\n",
      "defusedxml                0.7.1\n",
      "emoji                     2.14.0\n",
      "et_xmlfile                2.0.0\n",
      "executing                 2.1.0\n",
      "fastjsonschema            2.21.1\n",
      "fonttools                 4.55.0\n",
      "fqdn                      1.5.1\n",
      "fsspec                    2024.10.0\n",
      "geographiclib             2.0\n",
      "geopandas                 1.0.1\n",
      "geopy                     2.4.1\n",
      "h11                       0.14.0\n",
      "holoviews                 1.20.0\n",
      "httpcore                  1.0.7\n",
      "httpx                     0.28.1\n",
      "hvplot                    0.11.1\n",
      "idna                      3.10\n",
      "imbalanced-learn          0.13.0\n",
      "ipykernel                 6.29.5\n",
      "ipython                   8.30.0\n",
      "ipython-genutils          0.2.0\n",
      "ipywidgets                8.1.5\n",
      "isoduration               20.11.0\n",
      "itables                   2.2.5\n",
      "jedi                      0.19.2\n",
      "Jinja2                    3.1.4\n",
      "joblib                    1.4.2\n",
      "json5                     0.10.0\n",
      "jsonpointer               3.0.0\n",
      "jsonschema                4.23.0\n",
      "jsonschema-specifications 2024.10.1\n",
      "jupyter_client            8.6.3\n",
      "jupyter_core              5.7.2\n",
      "jupyter-events            0.10.0\n",
      "jupyter-lsp               2.2.5\n",
      "jupyter_server            2.14.2\n",
      "jupyter_server_terminals  0.5.3\n",
      "jupyterlab                4.3.2\n",
      "jupyterlab_pygments       0.3.0\n",
      "jupyterlab_rise           0.42.0\n",
      "jupyterlab_server         2.27.3\n",
      "jupyterlab_widgets        3.0.13\n",
      "kiwisolver                1.4.7\n",
      "lightgbm                  4.5.0\n",
      "linkify-it-py             2.0.3\n",
      "Mako                      1.3.6\n",
      "Markdown                  3.7\n",
      "markdown-it-py            3.0.0\n",
      "MarkupSafe                3.0.2\n",
      "matplotlib                3.9.2\n",
      "matplotlib-inline         0.1.7\n",
      "mdit-py-plugins           0.4.2\n",
      "mdurl                     0.1.2\n",
      "mistune                   3.0.2\n",
      "nbclassic                 1.1.0\n",
      "nbclient                  0.10.1\n",
      "nbconvert                 7.16.4\n",
      "nbformat                  5.10.4\n",
      "nbgrader                  0.9.4\n",
      "nest-asyncio              1.6.0\n",
      "nltk                      3.9.1\n",
      "notebook                  7.3.1\n",
      "notebook_shim             0.2.4\n",
      "numpy                     2.1.3\n",
      "openpyxl                  3.1.5\n",
      "overrides                 7.7.0\n",
      "packaging                 24.2\n",
      "pandas                    2.2.3\n",
      "pandas-dq                 1.29\n",
      "pandocfilters             1.5.1\n",
      "panel                     1.5.4\n",
      "param                     2.1.1\n",
      "parso                     0.8.4\n",
      "patsy                     1.0.1\n",
      "pillow                    11.0.0\n",
      "pip                       24.3.1\n",
      "platformdirs              4.3.6\n",
      "plotly                    5.24.1\n",
      "prometheus_client         0.21.1\n",
      "prompt_toolkit            3.0.48\n",
      "psutil                    6.1.0\n",
      "pure_eval                 0.2.3\n",
      "pyamg                     5.2.1\n",
      "pycparser                 2.22\n",
      "Pygments                  2.18.0\n",
      "pyodbc                    5.2.0\n",
      "pyogrio                   0.10.0\n",
      "pyparsing                 3.2.0\n",
      "pyproj                    3.7.0\n",
      "python-dateutil           2.9.0.post0\n",
      "python-json-logger        2.0.7\n",
      "pytz                      2024.2\n",
      "pyviz_comms               3.0.3\n",
      "pywin32                   308\n",
      "pywinpty                  2.0.14\n",
      "PyYAML                    6.0.2\n",
      "pyzmq                     26.2.0\n",
      "RapidFuzz                 3.10.1\n",
      "referencing               0.35.1\n",
      "regex                     2024.11.6\n",
      "requests                  2.32.3\n",
      "rfc3339-validator         0.1.4\n",
      "rfc3986-validator         0.1.1\n",
      "rise                      5.7.1\n",
      "rpds-py                   0.22.3\n",
      "scikit-base               0.12.0\n",
      "scikit-learn              1.5.2\n",
      "scipy                     1.14.1\n",
      "seaborn                   0.13.2\n",
      "Send2Trash                1.8.3\n",
      "setuptools                75.6.0\n",
      "shapely                   2.0.6\n",
      "six                       1.17.0\n",
      "sklearn-compat            0.1.3\n",
      "sktime                    0.35.0\n",
      "sniffio                   1.3.1\n",
      "soupsieve                 2.6\n",
      "SQLAlchemy                2.0.36\n",
      "stack-data                0.6.3\n",
      "statsmodels               0.14.4\n",
      "tenacity                  9.0.0\n",
      "terminado                 0.18.1\n",
      "textblob                  0.18.0.post0\n",
      "threadpoolctl             3.5.0\n",
      "tinycss2                  1.4.0\n",
      "tornado                   6.4.2\n",
      "tqdm                      4.67.1\n",
      "traitlets                 5.14.3\n",
      "types-python-dateutil     2.9.0.20241206\n",
      "typing_extensions         4.12.2\n",
      "tzdata                    2024.2\n",
      "uc-micro-py               1.0.3\n",
      "uri-template              1.3.0\n",
      "urllib3                   2.2.3\n",
      "wcwidth                   0.2.13\n",
      "webcolors                 24.11.1\n",
      "webencodings              0.5.1\n",
      "websocket-client          1.8.0\n",
      "widgetsnbextension        4.0.13\n",
      "wordcloud                 1.9.4\n",
      "xgboost                   1.6.2\n",
      "xlrd                      2.0.1\n",
      "xyzservices               2024.9.0\n"
     ]
    }
   ],
   "source": [
    "!pip list"
   ]
  },
  {
   "cell_type": "code",
   "execution_count": null,
   "metadata": {},
   "outputs": [],
   "source": []
  }
 ],
 "metadata": {
  "colab": {
   "provenance": []
  },
  "kernelspec": {
   "display_name": "Python 3 (ipykernel)",
   "language": "python",
   "name": "python3"
  },
  "language_info": {
   "codemirror_mode": {
    "name": "ipython",
    "version": 3
   },
   "file_extension": ".py",
   "mimetype": "text/x-python",
   "name": "python",
   "nbconvert_exporter": "python",
   "pygments_lexer": "ipython3",
   "version": "3.13.0"
  }
 },
 "nbformat": 4,
 "nbformat_minor": 4
}
