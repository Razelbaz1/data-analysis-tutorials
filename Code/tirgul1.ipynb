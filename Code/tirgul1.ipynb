{
 "cells": [
  {
   "cell_type": "markdown",
   "metadata": {
    "slideshow": {
     "slide_type": ""
    },
    "tags": []
   },
   "source": [
    "<div style=\"color:white;display:fill;border-radius:8px;\n",
    "            background-color:#03112A;font-size:200%; \n",
    "            letter-spacing:1.0px;background-image: url(https://i.imgur.com/GVd0La1.png)\">\n",
    "    <p style=\"padding: 8px;text-align: center;color:white; border-radius: 20px; padding-top: 20px; padding-bottom: 20px;\"><b><b><span style='color:#2ae4f5''></span></b> Welcome to Introduction to Data Analytics Course  </b></p>\n",
    "</div>"
   ]
  },
  {
   "cell_type": "markdown",
   "metadata": {},
   "source": [
    "<div style=\"color:white;display:fill;border-radius:8px;\n",
    "            background-color:#03112A;font-size:150%;\n",
    "            letter-spacing:1.0px;background-image: url(https://i.imgur.com/GVd0La1.png)\">\n",
    "    <p style=\"padding: 8px;color:white;\"><b><b><span style='color:#2ae4f5''> |</span></b> Table of Contents</b></p>\n",
    "</div>"
   ]
  },
  {
   "cell_type": "markdown",
   "metadata": {},
   "source": [
    "1. [Let's get to know each other.](#1)\n",
    "2. [Installation & Troubleshooting.](#2)\n",
    "3. [Neat work code wise.](#3)\n",
    "4. [Additional guides for you to review.](#4)\n",
    "5. [More experiences with Markdown.](#5)\n",
    "6. [Pandas.](#6)\n",
    "7. [More libraries.](#7)\n"
   ]
  },
  {
   "cell_type": "markdown",
   "metadata": {},
   "source": [
    "---"
   ]
  },
  {
   "cell_type": "markdown",
   "metadata": {},
   "source": [
    "<a class=\"anchor\" id='2'></a>"
   ]
  },
  {
   "cell_type": "markdown",
   "metadata": {},
   "source": [
    "<div style=\"color:white;display:fill;border-radius:8px;\n",
    "            background-color:#03112A;font-size:150%;\n",
    "            letter-spacing:1.0px;background-image: url(https://i.imgur.com/GVd0La1.png)\">\n",
    "    <p style=\"padding: 8px;color:white;\"><b><b><span style='color:#2ae4f5''> |</span></b> Installation & Troubleshooting.</b></p>\n",
    "</div>"
   ]
  },
  {
   "cell_type": "markdown",
   "metadata": {
    "id": "jpyLUqy9oK_n"
   },
   "source": [
    "# Installation instructions for JupyterLab:\n",
    "\n",
    "### https://www.youtube.com/watch?v=uOwCiZKj2rg\n",
    "#### Install Anaconda Navigator and Jupyter Lab\n",
    "\n",
    "# **If Anaconda allready installed then you have a working environment of Jupyter Lab**"
   ]
  },
  {
   "cell_type": "markdown",
   "metadata": {},
   "source": [
    "---"
   ]
  },
  {
   "cell_type": "markdown",
   "metadata": {},
   "source": [
    "#### For those who have everything working: where is your folder?"
   ]
  },
  {
   "cell_type": "code",
   "execution_count": 1,
   "metadata": {
    "colab": {
     "base_uri": "https://localhost:8080/",
     "height": 37
    },
    "executionInfo": {
     "elapsed": 296,
     "status": "ok",
     "timestamp": 1687888451742,
     "user": {
      "displayName": "Shai Tirgulim",
      "userId": "18041892042069420089"
     },
     "user_tz": -180
    },
    "id": "RBwOv9D5oK_8",
    "outputId": "98b49d13-843b-49d6-c099-6d44ebb9b291"
   },
   "outputs": [
    {
     "data": {
      "text/plain": [
       "'C:\\\\Users\\\\razel\\\\Desktop\\\\אריאל\\\\data-analytics\\\\\\u200f\\u200fMy Lectures Sem B 24\\\\tirgul1'"
      ]
     },
     "execution_count": 1,
     "metadata": {},
     "output_type": "execute_result"
    }
   ],
   "source": [
    "# Get current directory\n",
    "\n",
    "import os\n",
    "os.getcwd()"
   ]
  },
  {
   "cell_type": "code",
   "execution_count": null,
   "metadata": {
    "id": "V7oBYRGdoK_9"
   },
   "outputs": [],
   "source": [
    "#### Reset kernel by: Menu -> Kernel -> Restart Kenel"
   ]
  },
  {
   "cell_type": "markdown",
   "metadata": {},
   "source": [
    "---"
   ]
  },
  {
   "cell_type": "markdown",
   "metadata": {},
   "source": [
    "<a class=\"anchor\" id='3'></a>"
   ]
  },
  {
   "cell_type": "markdown",
   "metadata": {},
   "source": [
    "<div style=\"color:white;display:fill;border-radius:8px;\n",
    "            background-color:#03112A;font-size:150%;\n",
    "            letter-spacing:1.0px;background-image: url(https://i.imgur.com/GVd0La1.png)\">\n",
    "    <p style=\"padding: 8px;color:white;\"><b><b><span style='color:#2ae4f5''> |</span></b> Neat work code wise.</b></p>\n",
    "</div>"
   ]
  },
  {
   "cell_type": "markdown",
   "metadata": {},
   "source": [
    "* Google Colab keyboard shortcuts: press ctrl+m+h to open shortcuts list\n",
    "### Jupiter Lab keyboard shortcuts\n",
    "### https://gist.github.com/discdiver/9e00618756d120a8c9fa344ac1c375ac\n",
    "\n",
    "> keyboard shortcuts __In the cell__ :\n",
    "> \n",
    "> Ctrl+Shift - Run Selection and jump next cell.\n",
    "> \n",
    "> Ctrl+Shift - Run Selection and __stay__ in same cell.\n",
    "> \n",
    "> Ctrl + / - toggle comment.\n",
    "> \n",
    "> Ctrl + ] - Indent.\n",
    "> \n",
    "> Ctrl + [ - Dedent.\n",
    "\n",
    "\n",
    "> keyboard shortcuts __Out of the cell__ :\n",
    ">\n",
    "> { Z : undo,Shift+Z : Redo, X : cut, C : copy, V: paste, D D: delete}\n",
    ">\n",
    "> B or Esc+b - Create a new cell below.\n",
    ">\n",
    "> A or Esc+a - Create a new cell above.\n",
    ">"
   ]
  },
  {
   "cell_type": "markdown",
   "metadata": {},
   "source": [
    "> packages\n",
    "\n",
    "cmd view point denoted by ! sign\n",
    "\n",
    "#!pip install numpy # install numpy package\n",
    "\n",
    "#!pip install pandas # install pandas package"
   ]
  },
  {
   "cell_type": "code",
   "execution_count": null,
   "metadata": {},
   "outputs": [],
   "source": []
  },
  {
   "cell_type": "code",
   "execution_count": 17,
   "metadata": {
    "colab": {
     "base_uri": "https://localhost:8080/"
    },
    "executionInfo": {
     "elapsed": 436,
     "status": "ok",
     "timestamp": 1687887527275,
     "user": {
      "displayName": "Shai Tirgulim",
      "userId": "18041892042069420089"
     },
     "user_tz": -180
    },
    "id": "Hw5c1PdToK_v",
    "outputId": "7601f2ca-59b2-41c8-ab35-d8f9e46abec9"
   },
   "outputs": [
    {
     "name": "stdout",
     "output_type": "stream",
     "text": [
      "Hello Python notebook\n",
      "foo123\n"
     ]
    }
   ],
   "source": [
    "# same Python commands work\n",
    "print(\"Hello Python notebook\")\n",
    "print('foo123')"
   ]
  },
  {
   "cell_type": "code",
   "execution_count": null,
   "metadata": {},
   "outputs": [],
   "source": []
  },
  {
   "cell_type": "code",
   "execution_count": null,
   "metadata": {},
   "outputs": [],
   "source": []
  },
  {
   "cell_type": "markdown",
   "metadata": {},
   "source": [
    "---"
   ]
  },
  {
   "cell_type": "markdown",
   "metadata": {},
   "source": [
    "<a class=\"anchor\" id='4'></a>"
   ]
  },
  {
   "cell_type": "markdown",
   "metadata": {},
   "source": [
    "<div style=\"color:white;display:fill;border-radius:8px;\n",
    "            background-color:#03112A;font-size:150%;\n",
    "            letter-spacing:1.0px;background-image: url(https://i.imgur.com/GVd0La1.png)\">\n",
    "    <p style=\"padding: 8px;color:white;\"><b><b><span style='color:#2ae4f5''> |</span></b> Additional guides for you to review.</b></p>\n",
    "</div>"
   ]
  },
  {
   "cell_type": "markdown",
   "metadata": {
    "id": "9KSDLyKxoK_q"
   },
   "source": [
    "### great python numpy tutorials:\n",
    "#### https://www.youtube.com/watch?v=7wfPqAyYADY&list=PLcD0MjpSMpGRoZgeb509_yICnabm4PYqc\n"
   ]
  },
  {
   "cell_type": "markdown",
   "metadata": {},
   "source": [
    "---"
   ]
  },
  {
   "cell_type": "markdown",
   "metadata": {},
   "source": [
    "## markdown link - Notebooks Tutorials\n",
    "#### [press here](https://www.youtube.com/watch?v=7wfPqAyYADY&list=PLcD0MjpSMpGRoZgeb509_yICnabm4PYqc)"
   ]
  },
  {
   "cell_type": "markdown",
   "metadata": {},
   "source": [
    "---"
   ]
  },
  {
   "cell_type": "markdown",
   "metadata": {
    "id": "mqb-lUjloK_s"
   },
   "source": [
    "#### Hebrew tutorial for Jupyter Notebook (the old version before Jupyter Lab)\n",
    "#### [press here](https://www.youtube.com/watch?v=g9EglM7Ymns)"
   ]
  },
  {
   "cell_type": "markdown",
   "metadata": {},
   "source": [
    "---"
   ]
  },
  {
   "cell_type": "markdown",
   "metadata": {
    "id": "k3pfc_eQoK_v"
   },
   "source": [
    "### Markdown in wikipedia \n",
    "### [press here](https://en.wikipedia.org/wiki/Markdown)"
   ]
  },
  {
   "cell_type": "markdown",
   "metadata": {},
   "source": [
    "---"
   ]
  },
  {
   "cell_type": "markdown",
   "metadata": {},
   "source": [
    "<a class=\"anchor\" id='5'></a>"
   ]
  },
  {
   "cell_type": "markdown",
   "metadata": {},
   "source": [
    "<div style=\"color:white;display:fill;border-radius:8px;\n",
    "            background-color:#03112A;font-size:150%;\n",
    "            letter-spacing:1.0px;background-image: url(https://i.imgur.com/GVd0La1.png)\">\n",
    "    <p style=\"padding: 8px;color:white;\"><b><b><span style='color:#2ae4f5''> |</span></b> More experiences with Markdown.</b></p>\n",
    "</div>"
   ]
  },
  {
   "cell_type": "markdown",
   "metadata": {
    "id": "2Vahfo4UoDRC"
   },
   "source": [
    "# set nice equations\n",
    "### Sphere or Quadratic equations::\n",
    "$ x^2 + y^2 = z^2 \\\\\n",
    "\\\\ x_1,_2 =  \\frac{- b\\pm \\sqrt{b^2-4ac}}{2a} $"
   ]
  },
  {
   "cell_type": "markdown",
   "metadata": {
    "id": "Pfs9PWFVoK_7"
   },
   "source": [
    "Emphasis, aka italics, with *asterisks* or _underscores_.\n",
    "\n",
    "Strong emphasis, aka bold, with **asterisks** or __underscores__.\n",
    "\n",
    "Combined emphasis with **_asterisks and underscores_**.\n",
    "\n",
    "Strikethrough uses two tildes. ~~Scratch this.~~ "
   ]
  },
  {
   "cell_type": "markdown",
   "metadata": {},
   "source": [
    "---"
   ]
  },
  {
   "cell_type": "markdown",
   "metadata": {},
   "source": [
    "<a class=\"anchor\" id='6'></a>"
   ]
  },
  {
   "cell_type": "markdown",
   "metadata": {},
   "source": [
    "<div style=\"color:white;display:fill;border-radius:8px;\n",
    "            background-color:#03112A;font-size:150%;\n",
    "            letter-spacing:1.0px;background-image: url(https://i.imgur.com/GVd0La1.png)\">\n",
    "    <p style=\"padding: 8px;color:white;\"><b><b><span style='color:#2ae4f5''> |</span></b> Pandas.</b></p>\n",
    "</div>"
   ]
  },
  {
   "cell_type": "markdown",
   "metadata": {},
   "source": [
    "---"
   ]
  },
  {
   "cell_type": "markdown",
   "metadata": {},
   "source": [
    "<a class=\"anchor\" id='7'></a>"
   ]
  },
  {
   "cell_type": "markdown",
   "metadata": {},
   "source": [
    "<div style=\"color:white;display:fill;border-radius:8px;\n",
    "            background-color:#03112A;font-size:150%;\n",
    "            letter-spacing:1.0px;background-image: url(https://i.imgur.com/GVd0La1.png)\">\n",
    "    <p style=\"padding: 8px;color:white;\"><b><b><span style='color:#2ae4f5''> |</span></b> More libraries.</b></p>\n",
    "</div>"
   ]
  },
  {
   "cell_type": "code",
   "execution_count": null,
   "metadata": {},
   "outputs": [],
   "source": [
    "!pip list"
   ]
  }
 ],
 "metadata": {
  "colab": {
   "provenance": []
  },
  "kernelspec": {
   "display_name": "Python 3 (ipykernel)",
   "language": "python",
   "name": "python3"
  },
  "language_info": {
   "codemirror_mode": {
    "name": "ipython",
    "version": 3
   },
   "file_extension": ".py",
   "mimetype": "text/x-python",
   "name": "python",
   "nbconvert_exporter": "python",
   "pygments_lexer": "ipython3",
   "version": "3.13.0"
  }
 },
 "nbformat": 4,
 "nbformat_minor": 4
}
