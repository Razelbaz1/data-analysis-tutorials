{
 "cells": [
  {
   "cell_type": "markdown",
   "id": "8944c5e5-eeda-447e-9271-a7893fb9fe9c",
   "metadata": {
    "editable": true,
    "slideshow": {
     "slide_type": "slide"
    },
    "tags": []
   },
   "source": [
    "<div style=\"color:white;display:fill;border-radius:8px;\n",
    "            background-color:#03112A;font-size:200%; \n",
    "            letter-spacing:1.0px;background-image: url(https://i.imgur.com/GVd0La1.png)\">\n",
    "    <p style=\"padding: 8px;text-align: center;color:white; border-radius: 20px; padding-top: 20px; padding-bottom: 20px;\"><b><b><span style='color:#2ae4f5''></span></b>  The OS Library and Basic Exam Preparation  </b></p>\n",
    "</div>"
   ]
  },
  {
   "cell_type": "markdown",
   "id": "2dc12757-f17f-42b2-9c9d-31d5eca7a297",
   "metadata": {
    "slideshow": {
     "slide_type": "slide"
    }
   },
   "source": [
    "<div style=\"color:white;display:fill;border-radius:8px;\n",
    "            background-color:#03112A;font-size:150%;\n",
    "            letter-spacing:1.0px;background-image: url(https://i.imgur.com/GVd0La1.png)\">\n",
    "    <p style=\"padding: 8px;color:white;\"><b><b><span style='color:#2ae4f5''> |</span></b> Table of Contents</b></p>\n",
    "</div>"
   ]
  },
  {
   "cell_type": "markdown",
   "id": "c95d6bd6-49d0-46a0-8dc5-8af80440ce23",
   "metadata": {
    "slideshow": {
     "slide_type": "fragment"
    }
   },
   "source": [
    "1. [**The OS Library**](#section1)\n",
    "2. [**Exam Preparation**](#section2)\n",
    "---"
   ]
  },
  {
   "cell_type": "markdown",
   "id": "f7258343-0835-4984-8a90-e32ab6989c7f",
   "metadata": {
    "slideshow": {
     "slide_type": "subslide"
    }
   },
   "source": [
    "<div style=\"color:white;display:fill;border-radius:8px;\n",
    "            background-color:#03112A;font-size:150%;\n",
    "            letter-spacing:1.0px;background-image: url(https://i.imgur.com/GVd0La1.png)\">\n",
    "    <p style=\"padding: 8px;color:white;\"><b><b><span style='color:#2ae4f5''> 1 |</span></b> OS Library</b></p>\n",
    "</div>"
   ]
  },
  {
   "cell_type": "markdown",
   "id": "5bec2371-3e46-4866-8928-e427cc5faa74",
   "metadata": {
    "slideshow": {
     "slide_type": "fragment"
    }
   },
   "source": [
    "The `os` library in Python allows interaction with the operating system, such as managing files and directories, accessing environment variables, and executing system commands.\n"
   ]
  },
  {
   "cell_type": "code",
   "execution_count": 11,
   "id": "832897ea-e7ea-4078-a852-55b733c40754",
   "metadata": {
    "slideshow": {
     "slide_type": "fragment"
    }
   },
   "outputs": [],
   "source": [
    "import os"
   ]
  },
  {
   "cell_type": "markdown",
   "id": "2507fb7a-a43b-4154-be23-27ee5c752f29",
   "metadata": {
    "id": "PfOwX1DssYuo",
    "slideshow": {
     "slide_type": "subslide"
    }
   },
   "source": [
    "#### Verify working directory path:"
   ]
  },
  {
   "cell_type": "code",
   "execution_count": 12,
   "id": "29cbc0c8-07f4-4830-a206-1d7d65b03c9e",
   "metadata": {
    "slideshow": {
     "slide_type": "fragment"
    }
   },
   "outputs": [
    {
     "data": {
      "text/plain": [
       "'C:\\\\Users\\\\razel\\\\Desktop\\\\אריאל\\\\data-analytics\\\\\\u200f\\u200fMy Lectures Sem B 24\\\\tirgul4\\\\Tigul4'"
      ]
     },
     "execution_count": 12,
     "metadata": {},
     "output_type": "execute_result"
    }
   ],
   "source": [
    "os.getcwd()"
   ]
  },
  {
   "cell_type": "markdown",
   "id": "9b93e8d9-df7a-4398-85ac-e937ede76a18",
   "metadata": {
    "slideshow": {
     "slide_type": "subslide"
    }
   },
   "source": [
    "**We can get the list of directoris in active folder:**"
   ]
  },
  {
   "cell_type": "code",
   "execution_count": 13,
   "id": "51384baf-59de-4285-be13-1b4483a160c9",
   "metadata": {
    "slideshow": {
     "slide_type": "fragment"
    }
   },
   "outputs": [
    {
     "data": {
      "text/plain": [
       "['.ipynb_checkpoints',\n",
       " 'Ex4.ipynb',\n",
       " 'Ex4_student.ipynb',\n",
       " 'OS_and_EXAMprep.ipynb',\n",
       " 'titanic.csv']"
      ]
     },
     "execution_count": 13,
     "metadata": {},
     "output_type": "execute_result"
    }
   ],
   "source": [
    "os.listdir()"
   ]
  },
  {
   "cell_type": "markdown",
   "id": "de7217ff-047e-411b-b41f-f977bc597543",
   "metadata": {
    "slideshow": {
     "slide_type": "subslide"
    }
   },
   "source": [
    "**Create directory**"
   ]
  },
  {
   "cell_type": "raw",
   "id": "5f12c340-d2ed-49ed-b876-7bbc8e6a8521",
   "metadata": {
    "slideshow": {
     "slide_type": "fragment"
    }
   },
   "source": [
    "os.makedirs('tempDir', exist_ok=True)"
   ]
  },
  {
   "cell_type": "markdown",
   "id": "fe7ffae3-72a9-4aae-bbff-114c359d0dc5",
   "metadata": {
    "slideshow": {
     "slide_type": "fragment"
    }
   },
   "source": [
    "The command `os.makedirs('tempDir', exist_ok=True)` performs the following:\n",
    "\n",
    "- **Creates a directory named `tempDir`**: If the directory does not already exist, it will be created.\n",
    "- **Allows nested directories**: If the specified path includes multiple levels of directories (e.g., `parentDir/tempDir`), it creates all the required directories in the path.\n",
    "- **Avoids errors if the directory already exists**: The parameter `exist_ok=True` prevents raising an error if the directory already exists. Without this parameter, Python would raise a `FileExistsError`.\n",
    "\n",
    "This is particularly useful for ensuring that a directory structure is in place without worrying about its prior existence.\n"
   ]
  },
  {
   "cell_type": "markdown",
   "id": "9b90506a-7509-4989-8d4c-965e18b53946",
   "metadata": {
    "id": "trypeoeoqpbd",
    "slideshow": {
     "slide_type": "subslide"
    }
   },
   "source": [
    "#### Change the current working directory:"
   ]
  },
  {
   "cell_type": "raw",
   "id": "52a2f532-abfd-4ca7-9413-564117d2201c",
   "metadata": {
    "slideshow": {
     "slide_type": "fragment"
    }
   },
   "source": [
    "os.chdir('./tempDir')"
   ]
  },
  {
   "cell_type": "markdown",
   "id": "274af2d0-4ee0-43f8-aa0b-4307d273437b",
   "metadata": {
    "slideshow": {
     "slide_type": "fragment"
    }
   },
   "source": [
    "> './' stands for current relative path"
   ]
  },
  {
   "cell_type": "markdown",
   "id": "22f60734-3cdb-48ce-abc6-f9f03d535463",
   "metadata": {
    "slideshow": {
     "slide_type": "subslide"
    }
   },
   "source": [
    "#### Reading data by url."
   ]
  },
  {
   "cell_type": "code",
   "execution_count": 6,
   "id": "2a39949c-0945-4875-9787-e78a65d4c23f",
   "metadata": {
    "slideshow": {
     "slide_type": "fragment"
    }
   },
   "outputs": [],
   "source": [
    "import pandas as pd\n",
    "url = 'https://raw.githubusercontent.com/Razelbaz1/exercises-package/master/data/titanic.csv'\n",
    "titanic_df = pd.read_csv(url ,encoding='latin1')"
   ]
  },
  {
   "cell_type": "markdown",
   "id": "420dd6b5-c805-4c6a-9314-76f3c6a1f498",
   "metadata": {
    "slideshow": {
     "slide_type": "fragment"
    }
   },
   "source": [
    "Read more about `encoding` [here.](#https://pandas.pydata.org/docs/reference/api/pandas.read_csv.html)"
   ]
  },
  {
   "cell_type": "markdown",
   "id": "d842863c-5b4b-4d88-8159-56fa833abdd3",
   "metadata": {
    "slideshow": {
     "slide_type": "subslide"
    }
   },
   "source": [
    "#### Reading a file from the computer: Direct name."
   ]
  },
  {
   "cell_type": "code",
   "execution_count": 7,
   "id": "f5206056-d090-4e8e-91a4-ffb741f49f4f",
   "metadata": {
    "slideshow": {
     "slide_type": "fragment"
    }
   },
   "outputs": [],
   "source": [
    "csv_name = 'titanic.csv'\n",
    "titanic_df = pd.read_csv(csv_name ,encoding='latin1')"
   ]
  },
  {
   "cell_type": "markdown",
   "id": "8af208d3-d381-470d-9a7c-7a9bae2bb885",
   "metadata": {
    "slideshow": {
     "slide_type": "subslide"
    }
   },
   "source": [
    "#### Reading a file from the computer: Via path.\n",
    "\n",
    "> Navigate to your file **>** Right click on your file **>** Copy path **>** paste as is in new var."
   ]
  },
  {
   "cell_type": "code",
   "execution_count": 9,
   "id": "cd2101b3-7e89-4e87-a834-cf02f6abaeda",
   "metadata": {
    "slideshow": {
     "slide_type": "fragment"
    }
   },
   "outputs": [],
   "source": [
    "path = r'C:\\Users\\razel\\Desktop\\אריאל\\data-analytics\\‏‏My Lectures Sem B 24\\tirgul2\\titanic.csv' \n",
    "titanic_df = pd.read_csv(path ,encoding='latin1')"
   ]
  },
  {
   "cell_type": "markdown",
   "id": "c3293f45-1414-42d0-9d8e-2d24c328a59b",
   "metadata": {
    "slideshow": {
     "slide_type": "subslide"
    }
   },
   "source": [
    "> Add **r** in your path: **r**'path\\to\\file' If your path includes non-English characters.\n",
    ">\n",
    "> **or alternatively**"
   ]
  },
  {
   "cell_type": "code",
   "execution_count": 15,
   "id": "91f543ce-0469-477c-a916-c24b63a8c383",
   "metadata": {
    "slideshow": {
     "slide_type": "fragment"
    }
   },
   "outputs": [
    {
     "name": "stdout",
     "output_type": "stream",
     "text": [
      "\n"
     ]
    }
   ],
   "source": [
    "path = 'C:\\\\Users\\\\razel\\\\Desktop\\\\אריאל\\\\data-analytics\\\\‏‏My Lectures Sem B 24\\\\tirgul2\\\\titanic.csv' \n",
    "titanic_df = pd.read_csv(path ,encoding='latin1')\n",
    "print()"
   ]
  },
  {
   "cell_type": "markdown",
   "id": "212aed27-e98f-4a9b-b4ad-86f845dedb34",
   "metadata": {
    "slideshow": {
     "slide_type": "slide"
    }
   },
   "source": [
    "<div style=\"color:white;display:fill;border-radius:8px;\n",
    "            background-color:#03112A;font-size:150%;\n",
    "            letter-spacing:1.0px;background-image: url(https://i.imgur.com/GVd0La1.png)\">\n",
    "    <p style=\"padding: 8px;color:white;\"><b><b><span style='color:#2ae4f5''> 2 |</span></b> Exam Preparation</b></p>\n",
    "</div>"
   ]
  },
  {
   "cell_type": "markdown",
   "id": "34fa26e7-1706-452a-8ad0-f17732d78ad7",
   "metadata": {
    "slideshow": {
     "slide_type": "fragment"
    }
   },
   "source": [
    "<div dir=\"rtl\">\n",
    "\n",
    "###### ### ✅ מה לעשות ומה לא לעשות\n",
    "\n",
    "#### ✔️ מה לעשות\n",
    "1. **פתרו את המבחן בכונן D בלבד !!!**  \n",
    "2. **בדקו את סוג קובץ ההגשה שלכם.**  \n",
    "3. **מחקו את הקרנל והריצו לפני ההגשה.**  \n",
    "4. **הריצו את המחברת לפני ההגשה.**  \n",
    "5. **שימו לב להוראות המתבקשות במבחן.**  \n",
    "6. **עבדו חכם: השתמשו ב- `Shift + Tab`.**   \n",
    "7. **עבדו חכם: השתמשו ב- Auto Complete.**\n",
    "8. **עבדו חכם: השתמשו ב - Auto Close Brackets**\n",
    "9. **עבדו חכם : קראו עוד על Keyboard Shortcuts**\n",
    "10. **עבדו עם כונן משלכם לאורך הסמסטר - תתמצאו בתיקיות והמטלות של עצמכם**\n",
    "\n",
    "#### ❌ מה לא לעשות\n",
    "1. **לא לחפור עמוק מידי בדיסק און קי שלכם - זה בזבוז זמן.**\n",
    "2. **לא להשאיר תא עם שגיאה**\n",
    "3. **לא להגיש במחברת אישית משלכם אלא אם התבקשתם אחרת**\n",
    "\n",
    "\n",
    "\n",
    "    \n",
    "#### 😊 בהצלחה !\n"
   ]
  },
  {
   "cell_type": "code",
   "execution_count": null,
   "id": "d5cd5ddd-1812-4acb-88cf-5f0e2edc60b6",
   "metadata": {},
   "outputs": [],
   "source": []
  }
 ],
 "metadata": {
  "celltoolbar": "Slideshow",
  "kernelspec": {
   "display_name": "Python 3 (ipykernel)",
   "language": "python",
   "name": "python3"
  },
  "language_info": {
   "codemirror_mode": {
    "name": "ipython",
    "version": 3
   },
   "file_extension": ".py",
   "mimetype": "text/x-python",
   "name": "python",
   "nbconvert_exporter": "python",
   "pygments_lexer": "ipython3",
   "version": "3.13.0"
  }
 },
 "nbformat": 4,
 "nbformat_minor": 5
}
