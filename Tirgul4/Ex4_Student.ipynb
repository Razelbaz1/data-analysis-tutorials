{
 "cells": [
  {
   "cell_type": "markdown",
   "id": "76cc84d2-4279-497a-bd2a-186aebfb1533",
   "metadata": {},
   "source": [
    "# Groupby & Boxplot"
   ]
  },
  {
   "cell_type": "markdown",
   "id": "80fd0699-11ff-4474-9fa0-040a02248505",
   "metadata": {},
   "source": [
    "1. [Quick recap](#section1)\n",
    "2. [titanic_df questions](#section2)\n",
    "3. [Survey_df](#section3)\n",
    "4. [Pivot table](#section4)\n",
    "5. [`dateTime` practice](#section5)\n",
    "6. [Boxplot: Definition and motivation](#section6)\n",
    "7. [Working with Boxplot](#section7)\n",
    "\n",
    "#  <b id=\"Top\"> </b>  "
   ]
  },
  {
   "cell_type": "markdown",
   "id": "c4b91ed7-2156-47cd-b588-6796fabefb69",
   "metadata": {},
   "source": [
    "<a id='section1'></a>\n",
    "### Quick recap"
   ]
  },
  {
   "cell_type": "markdown",
   "id": "16c5c84b-0d52-4b3c-b672-6a9a5c8cd225",
   "metadata": {},
   "source": [
    "---\n",
    "\n",
    ">\n",
    ">* `groupby()` - group according to the columns specified\n",
    ">\n",
    ">* `reset_index()`  adds a numerical index\n",
    ">\n",
    ">* `pd.to_datetime(df['date'])` - changes the attribute type to datetime\n",
    ">\n",
    ">* `pd.DatetimeIndex(df['date']).month` - extracts the month from the datatime attribute\n",
    ">\n",
    ">* `apply` - applies a function on each row (axis =0) in the dataframe. Change to (axis = 1) to apply the function on each column [documentation](https://pandas.pydata.org/pandas-docs/stable/reference/api/pandas.DataFrame.apply.html#pandas.DataFrame.apply)\n",
    ">\n",
    ">* `lambda` - small anonymous function\n",
    ">\n",
    ">* `agg` - apply multiple functions at once, one for each specified column [documentation](https://pandas.pydata.org/pandas-docs/stable/reference/api/pandas.DataFrame.agg.html)\n",
    ">\n",
    ">* `unstack` - unstack the inner-most index onto a column\n",
    ">\n",
    ">* `droplevel(0, axis = 1)` - drops the highest (first) level in the column index of a multi-index dataframe\n",
    ">\n",
    ">* `transpose` - switch between columns and rows\n",
    "---"
   ]
  },
  {
   "cell_type": "code",
   "execution_count": 1,
   "id": "7cfd7f66-8b32-4381-8c88-7df6a98fbb09",
   "metadata": {},
   "outputs": [],
   "source": [
    "import pandas as pd"
   ]
  },
  {
   "cell_type": "code",
   "execution_count": 2,
   "id": "cd4af829-0b7b-4860-8915-f6f59e4a7264",
   "metadata": {},
   "outputs": [],
   "source": [
    "url = 'https://raw.githubusercontent.com/Razelbaz1/exercises-package/master/data/titanic.csv'\n",
    "titanic_df = pd.read_csv(url,encoding='latin1')"
   ]
  },
  {
   "cell_type": "code",
   "execution_count": 3,
   "id": "4af287e2-d26b-41fb-be6e-85ed002ac590",
   "metadata": {},
   "outputs": [
    {
     "data": {
      "text/html": [
       "<div>\n",
       "<style scoped>\n",
       "    .dataframe tbody tr th:only-of-type {\n",
       "        vertical-align: middle;\n",
       "    }\n",
       "\n",
       "    .dataframe tbody tr th {\n",
       "        vertical-align: top;\n",
       "    }\n",
       "\n",
       "    .dataframe thead th {\n",
       "        text-align: right;\n",
       "    }\n",
       "</style>\n",
       "<table border=\"1\" class=\"dataframe\">\n",
       "  <thead>\n",
       "    <tr style=\"text-align: right;\">\n",
       "      <th></th>\n",
       "      <th>row.names</th>\n",
       "      <th>pclass</th>\n",
       "      <th>survived</th>\n",
       "      <th>name</th>\n",
       "      <th>age</th>\n",
       "      <th>embarked</th>\n",
       "      <th>home.dest</th>\n",
       "      <th>room</th>\n",
       "      <th>ticket</th>\n",
       "      <th>boat</th>\n",
       "      <th>sex</th>\n",
       "    </tr>\n",
       "  </thead>\n",
       "  <tbody>\n",
       "    <tr>\n",
       "      <th>0</th>\n",
       "      <td>1</td>\n",
       "      <td>1st</td>\n",
       "      <td>1</td>\n",
       "      <td>Allen, Miss Elisabeth Walton</td>\n",
       "      <td>29.0000</td>\n",
       "      <td>Southampton</td>\n",
       "      <td>St Louis, MO</td>\n",
       "      <td>B-5</td>\n",
       "      <td>24160 L221</td>\n",
       "      <td>2</td>\n",
       "      <td>female</td>\n",
       "    </tr>\n",
       "    <tr>\n",
       "      <th>1</th>\n",
       "      <td>2</td>\n",
       "      <td>1st</td>\n",
       "      <td>0</td>\n",
       "      <td>Allison, Miss Helen Loraine</td>\n",
       "      <td>2.0000</td>\n",
       "      <td>Southampton</td>\n",
       "      <td>Montreal, PQ / Chesterville, ON</td>\n",
       "      <td>C26</td>\n",
       "      <td>NaN</td>\n",
       "      <td>NaN</td>\n",
       "      <td>female</td>\n",
       "    </tr>\n",
       "    <tr>\n",
       "      <th>2</th>\n",
       "      <td>3</td>\n",
       "      <td>1st</td>\n",
       "      <td>0</td>\n",
       "      <td>Allison, Mr Hudson Joshua Creighton</td>\n",
       "      <td>30.0000</td>\n",
       "      <td>Southampton</td>\n",
       "      <td>Montreal, PQ / Chesterville, ON</td>\n",
       "      <td>C26</td>\n",
       "      <td>NaN</td>\n",
       "      <td>-135</td>\n",
       "      <td>male</td>\n",
       "    </tr>\n",
       "    <tr>\n",
       "      <th>3</th>\n",
       "      <td>4</td>\n",
       "      <td>1st</td>\n",
       "      <td>0</td>\n",
       "      <td>Allison, Mrs Hudson J.C. (Bessie Waldo Daniels)</td>\n",
       "      <td>25.0000</td>\n",
       "      <td>Southampton</td>\n",
       "      <td>Montreal, PQ / Chesterville, ON</td>\n",
       "      <td>C26</td>\n",
       "      <td>NaN</td>\n",
       "      <td>NaN</td>\n",
       "      <td>female</td>\n",
       "    </tr>\n",
       "    <tr>\n",
       "      <th>4</th>\n",
       "      <td>5</td>\n",
       "      <td>1st</td>\n",
       "      <td>1</td>\n",
       "      <td>Allison, Master Hudson Trevor</td>\n",
       "      <td>0.9167</td>\n",
       "      <td>Southampton</td>\n",
       "      <td>Montreal, PQ / Chesterville, ON</td>\n",
       "      <td>C22</td>\n",
       "      <td>NaN</td>\n",
       "      <td>11</td>\n",
       "      <td>male</td>\n",
       "    </tr>\n",
       "    <tr>\n",
       "      <th>...</th>\n",
       "      <td>...</td>\n",
       "      <td>...</td>\n",
       "      <td>...</td>\n",
       "      <td>...</td>\n",
       "      <td>...</td>\n",
       "      <td>...</td>\n",
       "      <td>...</td>\n",
       "      <td>...</td>\n",
       "      <td>...</td>\n",
       "      <td>...</td>\n",
       "      <td>...</td>\n",
       "    </tr>\n",
       "    <tr>\n",
       "      <th>1308</th>\n",
       "      <td>1309</td>\n",
       "      <td>3rd</td>\n",
       "      <td>0</td>\n",
       "      <td>Zakarian, Mr Artun</td>\n",
       "      <td>NaN</td>\n",
       "      <td>NaN</td>\n",
       "      <td>NaN</td>\n",
       "      <td>NaN</td>\n",
       "      <td>NaN</td>\n",
       "      <td>NaN</td>\n",
       "      <td>male</td>\n",
       "    </tr>\n",
       "    <tr>\n",
       "      <th>1309</th>\n",
       "      <td>1310</td>\n",
       "      <td>3rd</td>\n",
       "      <td>0</td>\n",
       "      <td>Zakarian, Mr Maprieder</td>\n",
       "      <td>NaN</td>\n",
       "      <td>NaN</td>\n",
       "      <td>NaN</td>\n",
       "      <td>NaN</td>\n",
       "      <td>NaN</td>\n",
       "      <td>NaN</td>\n",
       "      <td>male</td>\n",
       "    </tr>\n",
       "    <tr>\n",
       "      <th>1310</th>\n",
       "      <td>1311</td>\n",
       "      <td>3rd</td>\n",
       "      <td>0</td>\n",
       "      <td>Zenn, Mr Philip</td>\n",
       "      <td>NaN</td>\n",
       "      <td>NaN</td>\n",
       "      <td>NaN</td>\n",
       "      <td>NaN</td>\n",
       "      <td>NaN</td>\n",
       "      <td>NaN</td>\n",
       "      <td>male</td>\n",
       "    </tr>\n",
       "    <tr>\n",
       "      <th>1311</th>\n",
       "      <td>1312</td>\n",
       "      <td>3rd</td>\n",
       "      <td>0</td>\n",
       "      <td>Zievens, Rene</td>\n",
       "      <td>NaN</td>\n",
       "      <td>NaN</td>\n",
       "      <td>NaN</td>\n",
       "      <td>NaN</td>\n",
       "      <td>NaN</td>\n",
       "      <td>NaN</td>\n",
       "      <td>female</td>\n",
       "    </tr>\n",
       "    <tr>\n",
       "      <th>1312</th>\n",
       "      <td>1313</td>\n",
       "      <td>3rd</td>\n",
       "      <td>0</td>\n",
       "      <td>Zimmerman, Leo</td>\n",
       "      <td>NaN</td>\n",
       "      <td>NaN</td>\n",
       "      <td>NaN</td>\n",
       "      <td>NaN</td>\n",
       "      <td>NaN</td>\n",
       "      <td>NaN</td>\n",
       "      <td>male</td>\n",
       "    </tr>\n",
       "  </tbody>\n",
       "</table>\n",
       "<p>1313 rows × 11 columns</p>\n",
       "</div>"
      ],
      "text/plain": [
       "      row.names pclass  survived  \\\n",
       "0             1    1st         1   \n",
       "1             2    1st         0   \n",
       "2             3    1st         0   \n",
       "3             4    1st         0   \n",
       "4             5    1st         1   \n",
       "...         ...    ...       ...   \n",
       "1308       1309    3rd         0   \n",
       "1309       1310    3rd         0   \n",
       "1310       1311    3rd         0   \n",
       "1311       1312    3rd         0   \n",
       "1312       1313    3rd         0   \n",
       "\n",
       "                                                 name      age     embarked  \\\n",
       "0                        Allen, Miss Elisabeth Walton  29.0000  Southampton   \n",
       "1                         Allison, Miss Helen Loraine   2.0000  Southampton   \n",
       "2                 Allison, Mr Hudson Joshua Creighton  30.0000  Southampton   \n",
       "3     Allison, Mrs Hudson J.C. (Bessie Waldo Daniels)  25.0000  Southampton   \n",
       "4                       Allison, Master Hudson Trevor   0.9167  Southampton   \n",
       "...                                               ...      ...          ...   \n",
       "1308                               Zakarian, Mr Artun      NaN          NaN   \n",
       "1309                           Zakarian, Mr Maprieder      NaN          NaN   \n",
       "1310                                  Zenn, Mr Philip      NaN          NaN   \n",
       "1311                                    Zievens, Rene      NaN          NaN   \n",
       "1312                                   Zimmerman, Leo      NaN          NaN   \n",
       "\n",
       "                            home.dest room      ticket  boat     sex  \n",
       "0                        St Louis, MO  B-5  24160 L221     2  female  \n",
       "1     Montreal, PQ / Chesterville, ON  C26         NaN   NaN  female  \n",
       "2     Montreal, PQ / Chesterville, ON  C26         NaN  -135    male  \n",
       "3     Montreal, PQ / Chesterville, ON  C26         NaN   NaN  female  \n",
       "4     Montreal, PQ / Chesterville, ON  C22         NaN    11    male  \n",
       "...                               ...  ...         ...   ...     ...  \n",
       "1308                              NaN  NaN         NaN   NaN    male  \n",
       "1309                              NaN  NaN         NaN   NaN    male  \n",
       "1310                              NaN  NaN         NaN   NaN    male  \n",
       "1311                              NaN  NaN         NaN   NaN  female  \n",
       "1312                              NaN  NaN         NaN   NaN    male  \n",
       "\n",
       "[1313 rows x 11 columns]"
      ]
     },
     "execution_count": 3,
     "metadata": {},
     "output_type": "execute_result"
    }
   ],
   "source": [
    "titanic_df"
   ]
  },
  {
   "cell_type": "markdown",
   "id": "6c9a8a8c-5885-4596-93e2-d51302cb37ca",
   "metadata": {},
   "source": [
    "<a id='section2'></a>\n",
    "#### 1. How many passengers were in each class ?"
   ]
  },
  {
   "cell_type": "code",
   "execution_count": null,
   "id": "eaebdf98-4d6c-4358-9d46-e912e1827f94",
   "metadata": {},
   "outputs": [],
   "source": []
  },
  {
   "cell_type": "code",
   "execution_count": null,
   "id": "763977e7-626c-489d-8dc4-f1d4b2667899",
   "metadata": {},
   "outputs": [],
   "source": []
  },
  {
   "cell_type": "markdown",
   "id": "68dded89-1151-4996-872d-9b09a5ddd587",
   "metadata": {},
   "source": [
    "#### 2. Suggest a solution for the code you wrote to additionally classify by gender."
   ]
  },
  {
   "cell_type": "code",
   "execution_count": null,
   "id": "bcad6478-3175-487e-89e3-89ec194a19f9",
   "metadata": {},
   "outputs": [],
   "source": []
  },
  {
   "cell_type": "code",
   "execution_count": null,
   "id": "5b4472d9-af8d-46b9-b524-287fdb8af79f",
   "metadata": {},
   "outputs": [],
   "source": []
  },
  {
   "cell_type": "markdown",
   "id": "b5e76940-d240-4402-9c15-529c75bbb3ed",
   "metadata": {},
   "source": [
    "#### 3. Suggest a solution for how many survived by class and gender."
   ]
  },
  {
   "cell_type": "code",
   "execution_count": null,
   "id": "9dc58ee9-9a8c-4d7a-a1e7-ae85cc719cfa",
   "metadata": {},
   "outputs": [],
   "source": []
  },
  {
   "cell_type": "code",
   "execution_count": null,
   "id": "bd0cc1b9-81a3-4866-aa4a-db5a279ca422",
   "metadata": {},
   "outputs": [],
   "source": []
  },
  {
   "cell_type": "markdown",
   "id": "deaed9cc-1c61-414d-8ad1-1b55a1b7da99",
   "metadata": {},
   "source": [
    "#### 4. Suggest a solution for how many total and average survivors by class"
   ]
  },
  {
   "cell_type": "code",
   "execution_count": null,
   "id": "58392815-fc77-472f-82d2-44170e5a2d3e",
   "metadata": {},
   "outputs": [],
   "source": []
  },
  {
   "cell_type": "code",
   "execution_count": null,
   "id": "e5c7682b-fb5f-461a-98e2-6dcca78b3ccd",
   "metadata": {},
   "outputs": [],
   "source": []
  },
  {
   "cell_type": "markdown",
   "id": "eaf05b41-5844-4a23-be38-1f0555137a6a",
   "metadata": {},
   "source": [
    "#### Can we convert continuous or interval ratio types of data into a categorical variable ?\n",
    "#### Think about a way to group by `age`\n"
   ]
  },
  {
   "cell_type": "markdown",
   "id": "a783f22b-ed54-45e7-a4f0-2591a09c8285",
   "metadata": {
    "jp-MarkdownHeadingCollapsed": true
   },
   "source": [
    "##### Hint: look for `pd.cut` via internet"
   ]
  },
  {
   "cell_type": "code",
   "execution_count": 4,
   "id": "89b17106-fd70-486d-b161-0e7bd787d695",
   "metadata": {},
   "outputs": [
    {
     "data": {
      "text/html": [
       "<div>\n",
       "<style scoped>\n",
       "    .dataframe tbody tr th:only-of-type {\n",
       "        vertical-align: middle;\n",
       "    }\n",
       "\n",
       "    .dataframe tbody tr th {\n",
       "        vertical-align: top;\n",
       "    }\n",
       "\n",
       "    .dataframe thead th {\n",
       "        text-align: right;\n",
       "    }\n",
       "</style>\n",
       "<table border=\"1\" class=\"dataframe\">\n",
       "  <thead>\n",
       "    <tr style=\"text-align: right;\">\n",
       "      <th></th>\n",
       "      <th>row.names</th>\n",
       "      <th>pclass</th>\n",
       "      <th>survived</th>\n",
       "      <th>name</th>\n",
       "      <th>age</th>\n",
       "      <th>embarked</th>\n",
       "      <th>home.dest</th>\n",
       "      <th>room</th>\n",
       "      <th>ticket</th>\n",
       "      <th>boat</th>\n",
       "      <th>sex</th>\n",
       "      <th>age_bins</th>\n",
       "    </tr>\n",
       "  </thead>\n",
       "  <tbody>\n",
       "    <tr>\n",
       "      <th>0</th>\n",
       "      <td>1</td>\n",
       "      <td>1st</td>\n",
       "      <td>1</td>\n",
       "      <td>Allen, Miss Elisabeth Walton</td>\n",
       "      <td>29.0000</td>\n",
       "      <td>Southampton</td>\n",
       "      <td>St Louis, MO</td>\n",
       "      <td>B-5</td>\n",
       "      <td>24160 L221</td>\n",
       "      <td>2</td>\n",
       "      <td>female</td>\n",
       "      <td>middle_age</td>\n",
       "    </tr>\n",
       "    <tr>\n",
       "      <th>1</th>\n",
       "      <td>2</td>\n",
       "      <td>1st</td>\n",
       "      <td>0</td>\n",
       "      <td>Allison, Miss Helen Loraine</td>\n",
       "      <td>2.0000</td>\n",
       "      <td>Southampton</td>\n",
       "      <td>Montreal, PQ / Chesterville, ON</td>\n",
       "      <td>C26</td>\n",
       "      <td>NaN</td>\n",
       "      <td>NaN</td>\n",
       "      <td>female</td>\n",
       "      <td>young</td>\n",
       "    </tr>\n",
       "    <tr>\n",
       "      <th>2</th>\n",
       "      <td>3</td>\n",
       "      <td>1st</td>\n",
       "      <td>0</td>\n",
       "      <td>Allison, Mr Hudson Joshua Creighton</td>\n",
       "      <td>30.0000</td>\n",
       "      <td>Southampton</td>\n",
       "      <td>Montreal, PQ / Chesterville, ON</td>\n",
       "      <td>C26</td>\n",
       "      <td>NaN</td>\n",
       "      <td>-135</td>\n",
       "      <td>male</td>\n",
       "      <td>middle_age</td>\n",
       "    </tr>\n",
       "    <tr>\n",
       "      <th>3</th>\n",
       "      <td>4</td>\n",
       "      <td>1st</td>\n",
       "      <td>0</td>\n",
       "      <td>Allison, Mrs Hudson J.C. (Bessie Waldo Daniels)</td>\n",
       "      <td>25.0000</td>\n",
       "      <td>Southampton</td>\n",
       "      <td>Montreal, PQ / Chesterville, ON</td>\n",
       "      <td>C26</td>\n",
       "      <td>NaN</td>\n",
       "      <td>NaN</td>\n",
       "      <td>female</td>\n",
       "      <td>middle_age</td>\n",
       "    </tr>\n",
       "    <tr>\n",
       "      <th>4</th>\n",
       "      <td>5</td>\n",
       "      <td>1st</td>\n",
       "      <td>1</td>\n",
       "      <td>Allison, Master Hudson Trevor</td>\n",
       "      <td>0.9167</td>\n",
       "      <td>Southampton</td>\n",
       "      <td>Montreal, PQ / Chesterville, ON</td>\n",
       "      <td>C22</td>\n",
       "      <td>NaN</td>\n",
       "      <td>11</td>\n",
       "      <td>male</td>\n",
       "      <td>young</td>\n",
       "    </tr>\n",
       "    <tr>\n",
       "      <th>...</th>\n",
       "      <td>...</td>\n",
       "      <td>...</td>\n",
       "      <td>...</td>\n",
       "      <td>...</td>\n",
       "      <td>...</td>\n",
       "      <td>...</td>\n",
       "      <td>...</td>\n",
       "      <td>...</td>\n",
       "      <td>...</td>\n",
       "      <td>...</td>\n",
       "      <td>...</td>\n",
       "      <td>...</td>\n",
       "    </tr>\n",
       "    <tr>\n",
       "      <th>1308</th>\n",
       "      <td>1309</td>\n",
       "      <td>3rd</td>\n",
       "      <td>0</td>\n",
       "      <td>Zakarian, Mr Artun</td>\n",
       "      <td>NaN</td>\n",
       "      <td>NaN</td>\n",
       "      <td>NaN</td>\n",
       "      <td>NaN</td>\n",
       "      <td>NaN</td>\n",
       "      <td>NaN</td>\n",
       "      <td>male</td>\n",
       "      <td>NaN</td>\n",
       "    </tr>\n",
       "    <tr>\n",
       "      <th>1309</th>\n",
       "      <td>1310</td>\n",
       "      <td>3rd</td>\n",
       "      <td>0</td>\n",
       "      <td>Zakarian, Mr Maprieder</td>\n",
       "      <td>NaN</td>\n",
       "      <td>NaN</td>\n",
       "      <td>NaN</td>\n",
       "      <td>NaN</td>\n",
       "      <td>NaN</td>\n",
       "      <td>NaN</td>\n",
       "      <td>male</td>\n",
       "      <td>NaN</td>\n",
       "    </tr>\n",
       "    <tr>\n",
       "      <th>1310</th>\n",
       "      <td>1311</td>\n",
       "      <td>3rd</td>\n",
       "      <td>0</td>\n",
       "      <td>Zenn, Mr Philip</td>\n",
       "      <td>NaN</td>\n",
       "      <td>NaN</td>\n",
       "      <td>NaN</td>\n",
       "      <td>NaN</td>\n",
       "      <td>NaN</td>\n",
       "      <td>NaN</td>\n",
       "      <td>male</td>\n",
       "      <td>NaN</td>\n",
       "    </tr>\n",
       "    <tr>\n",
       "      <th>1311</th>\n",
       "      <td>1312</td>\n",
       "      <td>3rd</td>\n",
       "      <td>0</td>\n",
       "      <td>Zievens, Rene</td>\n",
       "      <td>NaN</td>\n",
       "      <td>NaN</td>\n",
       "      <td>NaN</td>\n",
       "      <td>NaN</td>\n",
       "      <td>NaN</td>\n",
       "      <td>NaN</td>\n",
       "      <td>female</td>\n",
       "      <td>NaN</td>\n",
       "    </tr>\n",
       "    <tr>\n",
       "      <th>1312</th>\n",
       "      <td>1313</td>\n",
       "      <td>3rd</td>\n",
       "      <td>0</td>\n",
       "      <td>Zimmerman, Leo</td>\n",
       "      <td>NaN</td>\n",
       "      <td>NaN</td>\n",
       "      <td>NaN</td>\n",
       "      <td>NaN</td>\n",
       "      <td>NaN</td>\n",
       "      <td>NaN</td>\n",
       "      <td>male</td>\n",
       "      <td>NaN</td>\n",
       "    </tr>\n",
       "  </tbody>\n",
       "</table>\n",
       "<p>1313 rows × 12 columns</p>\n",
       "</div>"
      ],
      "text/plain": [
       "      row.names pclass  survived  \\\n",
       "0             1    1st         1   \n",
       "1             2    1st         0   \n",
       "2             3    1st         0   \n",
       "3             4    1st         0   \n",
       "4             5    1st         1   \n",
       "...         ...    ...       ...   \n",
       "1308       1309    3rd         0   \n",
       "1309       1310    3rd         0   \n",
       "1310       1311    3rd         0   \n",
       "1311       1312    3rd         0   \n",
       "1312       1313    3rd         0   \n",
       "\n",
       "                                                 name      age     embarked  \\\n",
       "0                        Allen, Miss Elisabeth Walton  29.0000  Southampton   \n",
       "1                         Allison, Miss Helen Loraine   2.0000  Southampton   \n",
       "2                 Allison, Mr Hudson Joshua Creighton  30.0000  Southampton   \n",
       "3     Allison, Mrs Hudson J.C. (Bessie Waldo Daniels)  25.0000  Southampton   \n",
       "4                       Allison, Master Hudson Trevor   0.9167  Southampton   \n",
       "...                                               ...      ...          ...   \n",
       "1308                               Zakarian, Mr Artun      NaN          NaN   \n",
       "1309                           Zakarian, Mr Maprieder      NaN          NaN   \n",
       "1310                                  Zenn, Mr Philip      NaN          NaN   \n",
       "1311                                    Zievens, Rene      NaN          NaN   \n",
       "1312                                   Zimmerman, Leo      NaN          NaN   \n",
       "\n",
       "                            home.dest room      ticket  boat     sex  \\\n",
       "0                        St Louis, MO  B-5  24160 L221     2  female   \n",
       "1     Montreal, PQ / Chesterville, ON  C26         NaN   NaN  female   \n",
       "2     Montreal, PQ / Chesterville, ON  C26         NaN  -135    male   \n",
       "3     Montreal, PQ / Chesterville, ON  C26         NaN   NaN  female   \n",
       "4     Montreal, PQ / Chesterville, ON  C22         NaN    11    male   \n",
       "...                               ...  ...         ...   ...     ...   \n",
       "1308                              NaN  NaN         NaN   NaN    male   \n",
       "1309                              NaN  NaN         NaN   NaN    male   \n",
       "1310                              NaN  NaN         NaN   NaN    male   \n",
       "1311                              NaN  NaN         NaN   NaN  female   \n",
       "1312                              NaN  NaN         NaN   NaN    male   \n",
       "\n",
       "        age_bins  \n",
       "0     middle_age  \n",
       "1          young  \n",
       "2     middle_age  \n",
       "3     middle_age  \n",
       "4          young  \n",
       "...          ...  \n",
       "1308         NaN  \n",
       "1309         NaN  \n",
       "1310         NaN  \n",
       "1311         NaN  \n",
       "1312         NaN  \n",
       "\n",
       "[1313 rows x 12 columns]"
      ]
     },
     "execution_count": 4,
     "metadata": {},
     "output_type": "execute_result"
    }
   ],
   "source": [
    "titanic_df['age_bins'] = pd.cut(titanic_df['age'], bins = 3, labels = ('young', 'middle_age', 'old' )) # bins also accept intervals such as bins=range(0, 100, 10)\n",
    "titanic_df"
   ]
  },
  {
   "cell_type": "code",
   "execution_count": 5,
   "id": "587e518c-a9fc-43bb-b990-19dcac0dfce4",
   "metadata": {},
   "outputs": [
    {
     "data": {
      "text/plain": [
       "age_bins\n",
       "young         104\n",
       "middle_age    130\n",
       "old            47\n",
       "Name: survived, dtype: int64"
      ]
     },
     "execution_count": 5,
     "metadata": {},
     "output_type": "execute_result"
    }
   ],
   "source": [
    "titanic_df.groupby(['age_bins'])['survived'].sum()"
   ]
  },
  {
   "cell_type": "code",
   "execution_count": null,
   "id": "232fd9ec-2c30-46e9-9e70-21e2098c668f",
   "metadata": {},
   "outputs": [],
   "source": []
  },
  {
   "cell_type": "markdown",
   "id": "58152bad-fccc-4534-b1f5-569b00fd7704",
   "metadata": {},
   "source": [
    "###  Did you know ?"
   ]
  },
  {
   "cell_type": "markdown",
   "id": "5b5b58e1-94dc-42b5-a7b2-76bd1f3f0fa3",
   "metadata": {},
   "source": [
    "#### You can display a graph as a result of grouping directly."
   ]
  },
  {
   "cell_type": "markdown",
   "id": "184cb013-5527-485e-85f6-9b8715f38065",
   "metadata": {},
   "source": [
    "#### Read more online about `plot()`"
   ]
  },
  {
   "cell_type": "code",
   "execution_count": 6,
   "id": "172bbc84-3ade-400e-8bbd-ef90d2408e40",
   "metadata": {},
   "outputs": [
    {
     "data": {
      "image/png": "[encoded data removed]",
      "text/plain": [
       "<Figure size 432x288 with 1 Axes>"
      ]
     },
     "metadata": {},
     "output_type": "display_data"
    }
   ],
   "source": [
    "titanic_df.groupby(['age_bins'])['survived'].sum().plot(kind = 'pie');"
   ]
  },
  {
   "cell_type": "markdown",
   "id": "48df7dbb-e806-438e-8724-8cb4f1a78c03",
   "metadata": {},
   "source": [
    "##### Have we classified the ages correctly?\n",
    "##### Suggest a way to check this."
   ]
  },
  {
   "cell_type": "code",
   "execution_count": 7,
   "id": "ee334c2c-438f-4dc7-bbda-54d0888f99e6",
   "metadata": {},
   "outputs": [
    {
     "data": {
      "text/html": [
       "<div>\n",
       "<style scoped>\n",
       "    .dataframe tbody tr th:only-of-type {\n",
       "        vertical-align: middle;\n",
       "    }\n",
       "\n",
       "    .dataframe tbody tr th {\n",
       "        vertical-align: top;\n",
       "    }\n",
       "\n",
       "    .dataframe thead th {\n",
       "        text-align: right;\n",
       "    }\n",
       "</style>\n",
       "<table border=\"1\" class=\"dataframe\">\n",
       "  <thead>\n",
       "    <tr style=\"text-align: right;\">\n",
       "      <th></th>\n",
       "      <th>count</th>\n",
       "      <th>mean</th>\n",
       "      <th>std</th>\n",
       "      <th>min</th>\n",
       "      <th>25%</th>\n",
       "      <th>50%</th>\n",
       "      <th>75%</th>\n",
       "      <th>max</th>\n",
       "    </tr>\n",
       "    <tr>\n",
       "      <th>age_bins</th>\n",
       "      <th></th>\n",
       "      <th></th>\n",
       "      <th></th>\n",
       "      <th></th>\n",
       "      <th></th>\n",
       "      <th></th>\n",
       "      <th></th>\n",
       "      <th></th>\n",
       "    </tr>\n",
       "  </thead>\n",
       "  <tbody>\n",
       "    <tr>\n",
       "      <th>young</th>\n",
       "      <td>209.0</td>\n",
       "      <td>15.946969</td>\n",
       "      <td>6.836041</td>\n",
       "      <td>0.1667</td>\n",
       "      <td>13.0</td>\n",
       "      <td>18.0</td>\n",
       "      <td>21.0</td>\n",
       "      <td>23.0</td>\n",
       "    </tr>\n",
       "    <tr>\n",
       "      <th>middle_age</th>\n",
       "      <td>325.0</td>\n",
       "      <td>33.596923</td>\n",
       "      <td>6.797829</td>\n",
       "      <td>24.0000</td>\n",
       "      <td>28.0</td>\n",
       "      <td>32.0</td>\n",
       "      <td>39.0</td>\n",
       "      <td>47.0</td>\n",
       "    </tr>\n",
       "    <tr>\n",
       "      <th>old</th>\n",
       "      <td>99.0</td>\n",
       "      <td>55.494949</td>\n",
       "      <td>6.255404</td>\n",
       "      <td>48.0000</td>\n",
       "      <td>50.0</td>\n",
       "      <td>54.0</td>\n",
       "      <td>60.0</td>\n",
       "      <td>71.0</td>\n",
       "    </tr>\n",
       "  </tbody>\n",
       "</table>\n",
       "</div>"
      ],
      "text/plain": [
       "            count       mean       std      min   25%   50%   75%   max\n",
       "age_bins                                                               \n",
       "young       209.0  15.946969  6.836041   0.1667  13.0  18.0  21.0  23.0\n",
       "middle_age  325.0  33.596923  6.797829  24.0000  28.0  32.0  39.0  47.0\n",
       "old          99.0  55.494949  6.255404  48.0000  50.0  54.0  60.0  71.0"
      ]
     },
     "execution_count": 7,
     "metadata": {},
     "output_type": "execute_result"
    }
   ],
   "source": [
    "age_group_stats = titanic_df.groupby('age_bins')['age'].describe()\n",
    "age_group_stats"
   ]
  },
  {
   "cell_type": "markdown",
   "id": "bfea3ae0-8138-4b34-9f5b-0105b9bdeceb",
   "metadata": {},
   "source": [
    "##### According to this test we can say yes."
   ]
  },
  {
   "cell_type": "markdown",
   "id": "775ebb90-a873-4b52-80fa-0d087c7f0dbf",
   "metadata": {},
   "source": [
    "#### Bonus question: Is the following line of code necessary to write before?"
   ]
  },
  {
   "cell_type": "code",
   "execution_count": 8,
   "id": "7d2c7874-7468-4c18-8411-c8a8ff228e0d",
   "metadata": {},
   "outputs": [],
   "source": [
    "titanic_df.dropna(subset=['age'], inplace = True)"
   ]
  },
  {
   "cell_type": "markdown",
   "id": "f5f7f808-b96f-4d00-88c1-b230c922c680",
   "metadata": {},
   "source": [
    "### [▲](#Top)"
   ]
  },
  {
   "cell_type": "markdown",
   "id": "403f22c1-2f61-4975-9589-001e1adbc2b4",
   "metadata": {},
   "source": [
    "---\n",
    "<a id='section3'></a>\n",
    "## More practice : Survey_df"
   ]
  },
  {
   "cell_type": "markdown",
   "id": "da8be29e-1141-4b78-a1e0-51093d53633c",
   "metadata": {},
   "source": [
    "https://insights.stackoverflow.com/survey"
   ]
  },
  {
   "cell_type": "code",
   "execution_count": 9,
   "id": "1ee3892d-f97c-464f-9585-d1afe9b7f1d1",
   "metadata": {},
   "outputs": [],
   "source": [
    "df = pd.read_csv('survey_results_public.csv', index_col='ResponseId')\n",
    "schema_df = pd.read_csv('survey_results_schema.csv', index_col='qid')"
   ]
  },
  {
   "cell_type": "code",
   "execution_count": 10,
   "id": "84faa189-ea42-4c2d-9a62-bfe121125bef",
   "metadata": {},
   "outputs": [
    {
     "data": {
      "text/plain": [
       "(89184, 83)"
      ]
     },
     "execution_count": 10,
     "metadata": {},
     "output_type": "execute_result"
    }
   ],
   "source": [
    "df.shape"
   ]
  },
  {
   "cell_type": "markdown",
   "id": "22beddcf-ccdb-410c-b386-731a651b8662",
   "metadata": {},
   "source": [
    "#### A useful tip for working with a large database `pd.set_option('key', 'value')`"
   ]
  },
  {
   "cell_type": "markdown",
   "id": "5468d325-c5e5-46ab-a130-75000b94e387",
   "metadata": {},
   "source": [
    "Allows you to set various options to control the behavior and display of pandas objects, such as DataFrames or Series.\n",
    "It's useful for customizing the way pandas handles data, and it can be especially helpful when working with large datasets or when you want to change the default behavior of pandas for specific tasks."
   ]
  },
  {
   "cell_type": "code",
   "execution_count": 11,
   "id": "79865a1b-5a81-43ab-835c-633c56bf5f71",
   "metadata": {},
   "outputs": [],
   "source": [
    "pd.set_option('display.max_columns', 85)\n",
    "pd.set_option('display.max_rows', 85)"
   ]
  },
  {
   "cell_type": "code",
   "execution_count": 12,
   "id": "9c7d473c-cb5d-48d1-8e9b-fe61caa1a966",
   "metadata": {},
   "outputs": [
    {
     "data": {
      "text/html": [
       "<div>\n",
       "<style scoped>\n",
       "    .dataframe tbody tr th:only-of-type {\n",
       "        vertical-align: middle;\n",
       "    }\n",
       "\n",
       "    .dataframe tbody tr th {\n",
       "        vertical-align: top;\n",
       "    }\n",
       "\n",
       "    .dataframe thead th {\n",
       "        text-align: right;\n",
       "    }\n",
       "</style>\n",
       "<table border=\"1\" class=\"dataframe\">\n",
       "  <thead>\n",
       "    <tr style=\"text-align: right;\">\n",
       "      <th></th>\n",
       "      <th>Q120</th>\n",
       "      <th>MainBranch</th>\n",
       "      <th>Age</th>\n",
       "      <th>Employment</th>\n",
       "      <th>RemoteWork</th>\n",
       "      <th>CodingActivities</th>\n",
       "      <th>EdLevel</th>\n",
       "      <th>LearnCode</th>\n",
       "      <th>LearnCodeOnline</th>\n",
       "      <th>LearnCodeCoursesCert</th>\n",
       "      <th>YearsCode</th>\n",
       "      <th>YearsCodePro</th>\n",
       "      <th>DevType</th>\n",
       "      <th>OrgSize</th>\n",
       "      <th>PurchaseInfluence</th>\n",
       "      <th>TechList</th>\n",
       "      <th>BuyNewTool</th>\n",
       "      <th>Country</th>\n",
       "      <th>Currency</th>\n",
       "      <th>CompTotal</th>\n",
       "      <th>LanguageHaveWorkedWith</th>\n",
       "      <th>LanguageWantToWorkWith</th>\n",
       "      <th>DatabaseHaveWorkedWith</th>\n",
       "      <th>DatabaseWantToWorkWith</th>\n",
       "      <th>PlatformHaveWorkedWith</th>\n",
       "      <th>PlatformWantToWorkWith</th>\n",
       "      <th>WebframeHaveWorkedWith</th>\n",
       "      <th>WebframeWantToWorkWith</th>\n",
       "      <th>MiscTechHaveWorkedWith</th>\n",
       "      <th>MiscTechWantToWorkWith</th>\n",
       "      <th>ToolsTechHaveWorkedWith</th>\n",
       "      <th>ToolsTechWantToWorkWith</th>\n",
       "      <th>NEWCollabToolsHaveWorkedWith</th>\n",
       "      <th>NEWCollabToolsWantToWorkWith</th>\n",
       "      <th>OpSysPersonal use</th>\n",
       "      <th>OpSysProfessional use</th>\n",
       "      <th>OfficeStackAsyncHaveWorkedWith</th>\n",
       "      <th>OfficeStackAsyncWantToWorkWith</th>\n",
       "      <th>OfficeStackSyncHaveWorkedWith</th>\n",
       "      <th>OfficeStackSyncWantToWorkWith</th>\n",
       "      <th>AISearchHaveWorkedWith</th>\n",
       "      <th>AISearchWantToWorkWith</th>\n",
       "      <th>AIDevHaveWorkedWith</th>\n",
       "      <th>AIDevWantToWorkWith</th>\n",
       "      <th>NEWSOSites</th>\n",
       "      <th>SOVisitFreq</th>\n",
       "      <th>SOAccount</th>\n",
       "      <th>SOPartFreq</th>\n",
       "      <th>SOComm</th>\n",
       "      <th>SOAI</th>\n",
       "      <th>AISelect</th>\n",
       "      <th>AISent</th>\n",
       "      <th>AIAcc</th>\n",
       "      <th>AIBen</th>\n",
       "      <th>AIToolInterested in Using</th>\n",
       "      <th>AIToolCurrently Using</th>\n",
       "      <th>AIToolNot interested in Using</th>\n",
       "      <th>AINextVery different</th>\n",
       "      <th>AINextNeither different nor similar</th>\n",
       "      <th>AINextSomewhat similar</th>\n",
       "      <th>AINextVery similar</th>\n",
       "      <th>AINextSomewhat different</th>\n",
       "      <th>TBranch</th>\n",
       "      <th>ICorPM</th>\n",
       "      <th>WorkExp</th>\n",
       "      <th>Knowledge_1</th>\n",
       "      <th>Knowledge_2</th>\n",
       "      <th>Knowledge_3</th>\n",
       "      <th>Knowledge_4</th>\n",
       "      <th>Knowledge_5</th>\n",
       "      <th>Knowledge_6</th>\n",
       "      <th>Knowledge_7</th>\n",
       "      <th>Knowledge_8</th>\n",
       "      <th>Frequency_1</th>\n",
       "      <th>Frequency_2</th>\n",
       "      <th>Frequency_3</th>\n",
       "      <th>TimeSearching</th>\n",
       "      <th>TimeAnswering</th>\n",
       "      <th>ProfessionalTech</th>\n",
       "      <th>Industry</th>\n",
       "      <th>SurveyLength</th>\n",
       "      <th>SurveyEase</th>\n",
       "      <th>ConvertedCompYearly</th>\n",
       "    </tr>\n",
       "    <tr>\n",
       "      <th>ResponseId</th>\n",
       "      <th></th>\n",
       "      <th></th>\n",
       "      <th></th>\n",
       "      <th></th>\n",
       "      <th></th>\n",
       "      <th></th>\n",
       "      <th></th>\n",
       "      <th></th>\n",
       "      <th></th>\n",
       "      <th></th>\n",
       "      <th></th>\n",
       "      <th></th>\n",
       "      <th></th>\n",
       "      <th></th>\n",
       "      <th></th>\n",
       "      <th></th>\n",
       "      <th></th>\n",
       "      <th></th>\n",
       "      <th></th>\n",
       "      <th></th>\n",
       "      <th></th>\n",
       "      <th></th>\n",
       "      <th></th>\n",
       "      <th></th>\n",
       "      <th></th>\n",
       "      <th></th>\n",
       "      <th></th>\n",
       "      <th></th>\n",
       "      <th></th>\n",
       "      <th></th>\n",
       "      <th></th>\n",
       "      <th></th>\n",
       "      <th></th>\n",
       "      <th></th>\n",
       "      <th></th>\n",
       "      <th></th>\n",
       "      <th></th>\n",
       "      <th></th>\n",
       "      <th></th>\n",
       "      <th></th>\n",
       "      <th></th>\n",
       "      <th></th>\n",
       "      <th></th>\n",
       "      <th></th>\n",
       "      <th></th>\n",
       "      <th></th>\n",
       "      <th></th>\n",
       "      <th></th>\n",
       "      <th></th>\n",
       "      <th></th>\n",
       "      <th></th>\n",
       "      <th></th>\n",
       "      <th></th>\n",
       "      <th></th>\n",
       "      <th></th>\n",
       "      <th></th>\n",
       "      <th></th>\n",
       "      <th></th>\n",
       "      <th></th>\n",
       "      <th></th>\n",
       "      <th></th>\n",
       "      <th></th>\n",
       "      <th></th>\n",
       "      <th></th>\n",
       "      <th></th>\n",
       "      <th></th>\n",
       "      <th></th>\n",
       "      <th></th>\n",
       "      <th></th>\n",
       "      <th></th>\n",
       "      <th></th>\n",
       "      <th></th>\n",
       "      <th></th>\n",
       "      <th></th>\n",
       "      <th></th>\n",
       "      <th></th>\n",
       "      <th></th>\n",
       "      <th></th>\n",
       "      <th></th>\n",
       "      <th></th>\n",
       "      <th></th>\n",
       "      <th></th>\n",
       "      <th></th>\n",
       "    </tr>\n",
       "  </thead>\n",
       "  <tbody>\n",
       "    <tr>\n",
       "      <th>1</th>\n",
       "      <td>I agree</td>\n",
       "      <td>None of these</td>\n",
       "      <td>18-24 years old</td>\n",
       "      <td>NaN</td>\n",
       "      <td>NaN</td>\n",
       "      <td>NaN</td>\n",
       "      <td>NaN</td>\n",
       "      <td>NaN</td>\n",
       "      <td>NaN</td>\n",
       "      <td>NaN</td>\n",
       "      <td>NaN</td>\n",
       "      <td>NaN</td>\n",
       "      <td>NaN</td>\n",
       "      <td>NaN</td>\n",
       "      <td>NaN</td>\n",
       "      <td>NaN</td>\n",
       "      <td>NaN</td>\n",
       "      <td>NaN</td>\n",
       "      <td>NaN</td>\n",
       "      <td>NaN</td>\n",
       "      <td>NaN</td>\n",
       "      <td>NaN</td>\n",
       "      <td>NaN</td>\n",
       "      <td>NaN</td>\n",
       "      <td>NaN</td>\n",
       "      <td>NaN</td>\n",
       "      <td>NaN</td>\n",
       "      <td>NaN</td>\n",
       "      <td>NaN</td>\n",
       "      <td>NaN</td>\n",
       "      <td>NaN</td>\n",
       "      <td>NaN</td>\n",
       "      <td>NaN</td>\n",
       "      <td>NaN</td>\n",
       "      <td>NaN</td>\n",
       "      <td>NaN</td>\n",
       "      <td>NaN</td>\n",
       "      <td>NaN</td>\n",
       "      <td>NaN</td>\n",
       "      <td>NaN</td>\n",
       "      <td>NaN</td>\n",
       "      <td>NaN</td>\n",
       "      <td>NaN</td>\n",
       "      <td>NaN</td>\n",
       "      <td>NaN</td>\n",
       "      <td>NaN</td>\n",
       "      <td>NaN</td>\n",
       "      <td>NaN</td>\n",
       "      <td>NaN</td>\n",
       "      <td>NaN</td>\n",
       "      <td>NaN</td>\n",
       "      <td>NaN</td>\n",
       "      <td>NaN</td>\n",
       "      <td>NaN</td>\n",
       "      <td>NaN</td>\n",
       "      <td>NaN</td>\n",
       "      <td>NaN</td>\n",
       "      <td>NaN</td>\n",
       "      <td>NaN</td>\n",
       "      <td>NaN</td>\n",
       "      <td>NaN</td>\n",
       "      <td>NaN</td>\n",
       "      <td>NaN</td>\n",
       "      <td>NaN</td>\n",
       "      <td>NaN</td>\n",
       "      <td>NaN</td>\n",
       "      <td>NaN</td>\n",
       "      <td>NaN</td>\n",
       "      <td>NaN</td>\n",
       "      <td>NaN</td>\n",
       "      <td>NaN</td>\n",
       "      <td>NaN</td>\n",
       "      <td>NaN</td>\n",
       "      <td>NaN</td>\n",
       "      <td>NaN</td>\n",
       "      <td>NaN</td>\n",
       "      <td>NaN</td>\n",
       "      <td>NaN</td>\n",
       "      <td>NaN</td>\n",
       "      <td>NaN</td>\n",
       "      <td>NaN</td>\n",
       "      <td>NaN</td>\n",
       "      <td>NaN</td>\n",
       "    </tr>\n",
       "    <tr>\n",
       "      <th>2</th>\n",
       "      <td>I agree</td>\n",
       "      <td>I am a developer by profession</td>\n",
       "      <td>25-34 years old</td>\n",
       "      <td>Employed, full-time</td>\n",
       "      <td>Remote</td>\n",
       "      <td>Hobby;Contribute to open-source projects;Boots...</td>\n",
       "      <td>Bachelor’s degree (B.A., B.S., B.Eng., etc.)</td>\n",
       "      <td>Books / Physical media;Colleague;Friend or fam...</td>\n",
       "      <td>Formal documentation provided by the owner of ...</td>\n",
       "      <td>Other</td>\n",
       "      <td>18</td>\n",
       "      <td>9</td>\n",
       "      <td>Senior Executive (C-Suite, VP, etc.)</td>\n",
       "      <td>2 to 9 employees</td>\n",
       "      <td>I have a great deal of influence</td>\n",
       "      <td>Investigate</td>\n",
       "      <td>Start a free trial;Ask developers I know/work ...</td>\n",
       "      <td>United States of America</td>\n",
       "      <td>USD\\tUnited States dollar</td>\n",
       "      <td>285000.0</td>\n",
       "      <td>HTML/CSS;JavaScript;Python</td>\n",
       "      <td>Bash/Shell (all shells);C#;Dart;Elixir;GDScrip...</td>\n",
       "      <td>Supabase</td>\n",
       "      <td>Firebase Realtime Database;Supabase</td>\n",
       "      <td>Amazon Web Services (AWS);Netlify;Vercel</td>\n",
       "      <td>Fly.io;Netlify;Render</td>\n",
       "      <td>Next.js;React;Remix;Vue.js</td>\n",
       "      <td>Deno;Elm;Nuxt.js;React;Svelte;Vue.js</td>\n",
       "      <td>Electron;React Native;Tauri</td>\n",
       "      <td>Capacitor;Electron;Tauri;Uno Platform;Xamarin</td>\n",
       "      <td>Docker;Kubernetes;npm;Pip;Vite;Webpack;Yarn</td>\n",
       "      <td>Godot;npm;pnpm;Unity 3D;Unreal Engine;Vite;Web...</td>\n",
       "      <td>Vim;Visual Studio Code</td>\n",
       "      <td>Vim;Visual Studio Code</td>\n",
       "      <td>iOS;iPadOS;MacOS;Windows;Windows Subsystem for...</td>\n",
       "      <td>MacOS;Windows;Windows Subsystem for Linux (WSL)</td>\n",
       "      <td>Asana;Basecamp;GitHub Discussions;Jira;Linear;...</td>\n",
       "      <td>GitHub Discussions;Linear;Notion;Trello</td>\n",
       "      <td>Cisco Webex Teams;Discord;Google Chat;Google M...</td>\n",
       "      <td>Discord;Signal;Slack;Zoom</td>\n",
       "      <td>ChatGPT</td>\n",
       "      <td>ChatGPT;Neeva AI</td>\n",
       "      <td>GitHub Copilot</td>\n",
       "      <td>GitHub Copilot</td>\n",
       "      <td>Stack Overflow;Stack Exchange</td>\n",
       "      <td>Daily or almost daily</td>\n",
       "      <td>Yes</td>\n",
       "      <td>A few times per month or weekly</td>\n",
       "      <td>Yes, definitely</td>\n",
       "      <td>I don't think it's super necessary, but I thin...</td>\n",
       "      <td>Yes</td>\n",
       "      <td>Indifferent</td>\n",
       "      <td>Other (please explain)</td>\n",
       "      <td>Somewhat distrust</td>\n",
       "      <td>Learning about a codebase;Writing code;Debuggi...</td>\n",
       "      <td>Writing code;Committing and reviewing code</td>\n",
       "      <td>NaN</td>\n",
       "      <td>NaN</td>\n",
       "      <td>NaN</td>\n",
       "      <td>NaN</td>\n",
       "      <td>NaN</td>\n",
       "      <td>NaN</td>\n",
       "      <td>Yes</td>\n",
       "      <td>People manager</td>\n",
       "      <td>10.0</td>\n",
       "      <td>Strongly agree</td>\n",
       "      <td>Agree</td>\n",
       "      <td>Strongly agree</td>\n",
       "      <td>Agree</td>\n",
       "      <td>Agree</td>\n",
       "      <td>Agree</td>\n",
       "      <td>Agree</td>\n",
       "      <td>Strongly agree</td>\n",
       "      <td>1-2 times a week</td>\n",
       "      <td>10+ times a week</td>\n",
       "      <td>Never</td>\n",
       "      <td>15-30 minutes a day</td>\n",
       "      <td>15-30 minutes a day</td>\n",
       "      <td>DevOps function;Microservices;Automated testin...</td>\n",
       "      <td>Information Services, IT, Software Development...</td>\n",
       "      <td>Appropriate in length</td>\n",
       "      <td>Easy</td>\n",
       "      <td>285000.0</td>\n",
       "    </tr>\n",
       "    <tr>\n",
       "      <th>3</th>\n",
       "      <td>I agree</td>\n",
       "      <td>I am a developer by profession</td>\n",
       "      <td>45-54 years old</td>\n",
       "      <td>Employed, full-time</td>\n",
       "      <td>Hybrid (some remote, some in-person)</td>\n",
       "      <td>Hobby;Professional development or self-paced l...</td>\n",
       "      <td>Bachelor’s degree (B.A., B.S., B.Eng., etc.)</td>\n",
       "      <td>Books / Physical media;Colleague;On the job tr...</td>\n",
       "      <td>Formal documentation provided by the owner of ...</td>\n",
       "      <td>NaN</td>\n",
       "      <td>27</td>\n",
       "      <td>23</td>\n",
       "      <td>Developer, back-end</td>\n",
       "      <td>5,000 to 9,999 employees</td>\n",
       "      <td>I have some influence</td>\n",
       "      <td>Given a list</td>\n",
       "      <td>Start a free trial;Ask developers I know/work ...</td>\n",
       "      <td>United States of America</td>\n",
       "      <td>USD\\tUnited States dollar</td>\n",
       "      <td>250000.0</td>\n",
       "      <td>Bash/Shell (all shells);Go</td>\n",
       "      <td>Haskell;OCaml;Rust</td>\n",
       "      <td>NaN</td>\n",
       "      <td>NaN</td>\n",
       "      <td>Amazon Web Services (AWS);Google Cloud;OpenSta...</td>\n",
       "      <td>NaN</td>\n",
       "      <td>NaN</td>\n",
       "      <td>NaN</td>\n",
       "      <td>NaN</td>\n",
       "      <td>NaN</td>\n",
       "      <td>Cargo;Docker;Kubernetes;Make;Nix</td>\n",
       "      <td>Cargo;Kubernetes;Nix</td>\n",
       "      <td>Emacs;Helix</td>\n",
       "      <td>Emacs;Helix</td>\n",
       "      <td>MacOS;Other Linux-based</td>\n",
       "      <td>MacOS;Other Linux-based</td>\n",
       "      <td>Markdown File;Stack Overflow for Teams</td>\n",
       "      <td>Markdown File</td>\n",
       "      <td>Microsoft Teams;Slack;Zoom</td>\n",
       "      <td>Slack;Zoom</td>\n",
       "      <td>NaN</td>\n",
       "      <td>NaN</td>\n",
       "      <td>NaN</td>\n",
       "      <td>NaN</td>\n",
       "      <td>Stack Overflow;Stack Exchange;Stack Overflow f...</td>\n",
       "      <td>A few times per month or weekly</td>\n",
       "      <td>Yes</td>\n",
       "      <td>Less than once per month or monthly</td>\n",
       "      <td>Neutral</td>\n",
       "      <td>NaN</td>\n",
       "      <td>No, and I don't plan to</td>\n",
       "      <td>NaN</td>\n",
       "      <td>NaN</td>\n",
       "      <td>NaN</td>\n",
       "      <td>NaN</td>\n",
       "      <td>NaN</td>\n",
       "      <td>NaN</td>\n",
       "      <td>NaN</td>\n",
       "      <td>NaN</td>\n",
       "      <td>NaN</td>\n",
       "      <td>NaN</td>\n",
       "      <td>NaN</td>\n",
       "      <td>Yes</td>\n",
       "      <td>Individual contributor</td>\n",
       "      <td>23.0</td>\n",
       "      <td>Strongly agree</td>\n",
       "      <td>Neither agree nor disagree</td>\n",
       "      <td>Agree</td>\n",
       "      <td>Agree</td>\n",
       "      <td>Agree</td>\n",
       "      <td>Agree</td>\n",
       "      <td>Agree</td>\n",
       "      <td>Agree</td>\n",
       "      <td>6-10 times a week</td>\n",
       "      <td>6-10 times a week</td>\n",
       "      <td>3-5 times a week</td>\n",
       "      <td>30-60 minutes a day</td>\n",
       "      <td>30-60 minutes a day</td>\n",
       "      <td>DevOps function;Microservices;Automated testin...</td>\n",
       "      <td>Information Services, IT, Software Development...</td>\n",
       "      <td>Appropriate in length</td>\n",
       "      <td>Easy</td>\n",
       "      <td>250000.0</td>\n",
       "    </tr>\n",
       "    <tr>\n",
       "      <th>4</th>\n",
       "      <td>I agree</td>\n",
       "      <td>I am a developer by profession</td>\n",
       "      <td>25-34 years old</td>\n",
       "      <td>Employed, full-time</td>\n",
       "      <td>Hybrid (some remote, some in-person)</td>\n",
       "      <td>Hobby</td>\n",
       "      <td>Bachelor’s degree (B.A., B.S., B.Eng., etc.)</td>\n",
       "      <td>Colleague;Friend or family member;Other online...</td>\n",
       "      <td>Formal documentation provided by the owner of ...</td>\n",
       "      <td>NaN</td>\n",
       "      <td>12</td>\n",
       "      <td>7</td>\n",
       "      <td>Developer, front-end</td>\n",
       "      <td>100 to 499 employees</td>\n",
       "      <td>I have some influence</td>\n",
       "      <td>Investigate</td>\n",
       "      <td>Start a free trial;Ask developers I know/work ...</td>\n",
       "      <td>United States of America</td>\n",
       "      <td>USD\\tUnited States dollar</td>\n",
       "      <td>156000.0</td>\n",
       "      <td>Bash/Shell (all shells);HTML/CSS;JavaScript;PH...</td>\n",
       "      <td>Bash/Shell (all shells);HTML/CSS;JavaScript;Ru...</td>\n",
       "      <td>PostgreSQL;Redis</td>\n",
       "      <td>PostgreSQL;Redis</td>\n",
       "      <td>Cloudflare;Heroku</td>\n",
       "      <td>Cloudflare;Heroku</td>\n",
       "      <td>Node.js;React;Ruby on Rails;Vue.js;WordPress</td>\n",
       "      <td>Node.js;Ruby on Rails;Vue.js</td>\n",
       "      <td>NaN</td>\n",
       "      <td>NaN</td>\n",
       "      <td>Homebrew;npm;Vite;Webpack;Yarn</td>\n",
       "      <td>Homebrew;npm;Vite</td>\n",
       "      <td>IntelliJ IDEA;Vim;Visual Studio Code;WebStorm</td>\n",
       "      <td>IntelliJ IDEA;Vim;WebStorm</td>\n",
       "      <td>iOS;iPadOS;MacOS</td>\n",
       "      <td>iOS;iPadOS;MacOS</td>\n",
       "      <td>Jira</td>\n",
       "      <td>Jira</td>\n",
       "      <td>Discord;Google Meet;Microsoft Teams;Slack;Zoom</td>\n",
       "      <td>Discord;Google Meet;Slack;Zoom</td>\n",
       "      <td>NaN</td>\n",
       "      <td>NaN</td>\n",
       "      <td>NaN</td>\n",
       "      <td>NaN</td>\n",
       "      <td>Stack Overflow;Stack Exchange</td>\n",
       "      <td>A few times per week</td>\n",
       "      <td>Yes</td>\n",
       "      <td>Less than once per month or monthly</td>\n",
       "      <td>No, not really</td>\n",
       "      <td>I'm wearing of Stack Overflow using AI.</td>\n",
       "      <td>No, and I don't plan to</td>\n",
       "      <td>NaN</td>\n",
       "      <td>NaN</td>\n",
       "      <td>NaN</td>\n",
       "      <td>NaN</td>\n",
       "      <td>NaN</td>\n",
       "      <td>NaN</td>\n",
       "      <td>NaN</td>\n",
       "      <td>NaN</td>\n",
       "      <td>NaN</td>\n",
       "      <td>NaN</td>\n",
       "      <td>NaN</td>\n",
       "      <td>Yes</td>\n",
       "      <td>Individual contributor</td>\n",
       "      <td>7.0</td>\n",
       "      <td>Strongly agree</td>\n",
       "      <td>Strongly disagree</td>\n",
       "      <td>Strongly agree</td>\n",
       "      <td>Strongly agree</td>\n",
       "      <td>Agree</td>\n",
       "      <td>Neither agree nor disagree</td>\n",
       "      <td>Agree</td>\n",
       "      <td>Agree</td>\n",
       "      <td>1-2 times a week</td>\n",
       "      <td>10+ times a week</td>\n",
       "      <td>1-2 times a week</td>\n",
       "      <td>15-30 minutes a day</td>\n",
       "      <td>30-60 minutes a day</td>\n",
       "      <td>Automated testing;Continuous integration (CI) ...</td>\n",
       "      <td>NaN</td>\n",
       "      <td>Appropriate in length</td>\n",
       "      <td>Easy</td>\n",
       "      <td>156000.0</td>\n",
       "    </tr>\n",
       "    <tr>\n",
       "      <th>5</th>\n",
       "      <td>I agree</td>\n",
       "      <td>I am a developer by profession</td>\n",
       "      <td>25-34 years old</td>\n",
       "      <td>Employed, full-time;Independent contractor, fr...</td>\n",
       "      <td>Remote</td>\n",
       "      <td>Hobby;Contribute to open-source projects;Profe...</td>\n",
       "      <td>Bachelor’s degree (B.A., B.S., B.Eng., etc.)</td>\n",
       "      <td>Books / Physical media;Online Courses or Certi...</td>\n",
       "      <td>Formal documentation provided by the owner of ...</td>\n",
       "      <td>Other;Codecademy;edX</td>\n",
       "      <td>6</td>\n",
       "      <td>4</td>\n",
       "      <td>Developer, full-stack</td>\n",
       "      <td>20 to 99 employees</td>\n",
       "      <td>I have some influence</td>\n",
       "      <td>Investigate</td>\n",
       "      <td>Start a free trial;Ask developers I know/work ...</td>\n",
       "      <td>Philippines</td>\n",
       "      <td>PHP\\tPhilippine peso</td>\n",
       "      <td>1320000.0</td>\n",
       "      <td>HTML/CSS;JavaScript;TypeScript</td>\n",
       "      <td>HTML/CSS;JavaScript;Python;Rust;TypeScript</td>\n",
       "      <td>BigQuery;Elasticsearch;MongoDB;PostgreSQL</td>\n",
       "      <td>Elasticsearch;MongoDB;PostgreSQL;Redis;Supabase</td>\n",
       "      <td>Amazon Web Services (AWS);Firebase;Heroku;Netl...</td>\n",
       "      <td>Amazon Web Services (AWS);Cloudflare;Digital O...</td>\n",
       "      <td>Express;Gatsby;NestJS;Next.js;Node.js;React</td>\n",
       "      <td>Express;NestJS;Next.js;Node.js;React;Remix;Vue.js</td>\n",
       "      <td>NaN</td>\n",
       "      <td>NaN</td>\n",
       "      <td>Docker;npm;Webpack;Yarn</td>\n",
       "      <td>Docker;npm;Yarn</td>\n",
       "      <td>Vim;Visual Studio Code</td>\n",
       "      <td>Vim;Visual Studio Code</td>\n",
       "      <td>Other (Please Specify):</td>\n",
       "      <td>Other (Please Specify):</td>\n",
       "      <td>Confluence;Jira;Notion</td>\n",
       "      <td>Confluence;Jira;Notion</td>\n",
       "      <td>Discord;Google Meet;Slack;Zoom</td>\n",
       "      <td>Discord;Google Meet;Slack;Zoom</td>\n",
       "      <td>ChatGPT</td>\n",
       "      <td>ChatGPT</td>\n",
       "      <td>NaN</td>\n",
       "      <td>NaN</td>\n",
       "      <td>Stack Overflow;Stack Exchange</td>\n",
       "      <td>A few times per week</td>\n",
       "      <td>No</td>\n",
       "      <td>NaN</td>\n",
       "      <td>Neutral</td>\n",
       "      <td>Using AI to suggest better answer to my questi...</td>\n",
       "      <td>Yes</td>\n",
       "      <td>Very favorable</td>\n",
       "      <td>Increase productivity;Greater efficiency;Speed...</td>\n",
       "      <td>Somewhat trust</td>\n",
       "      <td>Project planning;Testing code;Committing and r...</td>\n",
       "      <td>Learning about a codebase;Writing code;Documen...</td>\n",
       "      <td>NaN</td>\n",
       "      <td>NaN</td>\n",
       "      <td>NaN</td>\n",
       "      <td>NaN</td>\n",
       "      <td>NaN</td>\n",
       "      <td>NaN</td>\n",
       "      <td>Yes</td>\n",
       "      <td>Individual contributor</td>\n",
       "      <td>6.0</td>\n",
       "      <td>Agree</td>\n",
       "      <td>Strongly agree</td>\n",
       "      <td>Agree</td>\n",
       "      <td>Agree</td>\n",
       "      <td>Neither agree nor disagree</td>\n",
       "      <td>Agree</td>\n",
       "      <td>Strongly agree</td>\n",
       "      <td>Agree</td>\n",
       "      <td>1-2 times a week</td>\n",
       "      <td>1-2 times a week</td>\n",
       "      <td>3-5 times a week</td>\n",
       "      <td>60-120 minutes a day</td>\n",
       "      <td>30-60 minutes a day</td>\n",
       "      <td>Microservices;Automated testing;Observability ...</td>\n",
       "      <td>Other</td>\n",
       "      <td>Appropriate in length</td>\n",
       "      <td>Neither easy nor difficult</td>\n",
       "      <td>23456.0</td>\n",
       "    </tr>\n",
       "  </tbody>\n",
       "</table>\n",
       "</div>"
      ],
      "text/plain": [
       "               Q120                      MainBranch              Age  \\\n",
       "ResponseId                                                             \n",
       "1           I agree                   None of these  18-24 years old   \n",
       "2           I agree  I am a developer by profession  25-34 years old   \n",
       "3           I agree  I am a developer by profession  45-54 years old   \n",
       "4           I agree  I am a developer by profession  25-34 years old   \n",
       "5           I agree  I am a developer by profession  25-34 years old   \n",
       "\n",
       "                                                   Employment  \\\n",
       "ResponseId                                                      \n",
       "1                                                         NaN   \n",
       "2                                         Employed, full-time   \n",
       "3                                         Employed, full-time   \n",
       "4                                         Employed, full-time   \n",
       "5           Employed, full-time;Independent contractor, fr...   \n",
       "\n",
       "                                      RemoteWork  \\\n",
       "ResponseId                                         \n",
       "1                                            NaN   \n",
       "2                                         Remote   \n",
       "3           Hybrid (some remote, some in-person)   \n",
       "4           Hybrid (some remote, some in-person)   \n",
       "5                                         Remote   \n",
       "\n",
       "                                             CodingActivities  \\\n",
       "ResponseId                                                      \n",
       "1                                                         NaN   \n",
       "2           Hobby;Contribute to open-source projects;Boots...   \n",
       "3           Hobby;Professional development or self-paced l...   \n",
       "4                                                       Hobby   \n",
       "5           Hobby;Contribute to open-source projects;Profe...   \n",
       "\n",
       "                                                 EdLevel  \\\n",
       "ResponseId                                                 \n",
       "1                                                    NaN   \n",
       "2           Bachelor’s degree (B.A., B.S., B.Eng., etc.)   \n",
       "3           Bachelor’s degree (B.A., B.S., B.Eng., etc.)   \n",
       "4           Bachelor’s degree (B.A., B.S., B.Eng., etc.)   \n",
       "5           Bachelor’s degree (B.A., B.S., B.Eng., etc.)   \n",
       "\n",
       "                                                    LearnCode  \\\n",
       "ResponseId                                                      \n",
       "1                                                         NaN   \n",
       "2           Books / Physical media;Colleague;Friend or fam...   \n",
       "3           Books / Physical media;Colleague;On the job tr...   \n",
       "4           Colleague;Friend or family member;Other online...   \n",
       "5           Books / Physical media;Online Courses or Certi...   \n",
       "\n",
       "                                              LearnCodeOnline  \\\n",
       "ResponseId                                                      \n",
       "1                                                         NaN   \n",
       "2           Formal documentation provided by the owner of ...   \n",
       "3           Formal documentation provided by the owner of ...   \n",
       "4           Formal documentation provided by the owner of ...   \n",
       "5           Formal documentation provided by the owner of ...   \n",
       "\n",
       "            LearnCodeCoursesCert YearsCode YearsCodePro  \\\n",
       "ResponseId                                                \n",
       "1                            NaN       NaN          NaN   \n",
       "2                          Other        18            9   \n",
       "3                            NaN        27           23   \n",
       "4                            NaN        12            7   \n",
       "5           Other;Codecademy;edX         6            4   \n",
       "\n",
       "                                         DevType                   OrgSize  \\\n",
       "ResponseId                                                                   \n",
       "1                                            NaN                       NaN   \n",
       "2           Senior Executive (C-Suite, VP, etc.)          2 to 9 employees   \n",
       "3                            Developer, back-end  5,000 to 9,999 employees   \n",
       "4                           Developer, front-end      100 to 499 employees   \n",
       "5                          Developer, full-stack        20 to 99 employees   \n",
       "\n",
       "                           PurchaseInfluence      TechList  \\\n",
       "ResponseId                                                   \n",
       "1                                        NaN           NaN   \n",
       "2           I have a great deal of influence   Investigate   \n",
       "3                      I have some influence  Given a list   \n",
       "4                      I have some influence   Investigate   \n",
       "5                      I have some influence   Investigate   \n",
       "\n",
       "                                                   BuyNewTool  \\\n",
       "ResponseId                                                      \n",
       "1                                                         NaN   \n",
       "2           Start a free trial;Ask developers I know/work ...   \n",
       "3           Start a free trial;Ask developers I know/work ...   \n",
       "4           Start a free trial;Ask developers I know/work ...   \n",
       "5           Start a free trial;Ask developers I know/work ...   \n",
       "\n",
       "                             Country                   Currency  CompTotal  \\\n",
       "ResponseId                                                                   \n",
       "1                                NaN                        NaN        NaN   \n",
       "2           United States of America  USD\\tUnited States dollar   285000.0   \n",
       "3           United States of America  USD\\tUnited States dollar   250000.0   \n",
       "4           United States of America  USD\\tUnited States dollar   156000.0   \n",
       "5                        Philippines       PHP\\tPhilippine peso  1320000.0   \n",
       "\n",
       "                                       LanguageHaveWorkedWith  \\\n",
       "ResponseId                                                      \n",
       "1                                                         NaN   \n",
       "2                                  HTML/CSS;JavaScript;Python   \n",
       "3                                  Bash/Shell (all shells);Go   \n",
       "4           Bash/Shell (all shells);HTML/CSS;JavaScript;PH...   \n",
       "5                              HTML/CSS;JavaScript;TypeScript   \n",
       "\n",
       "                                       LanguageWantToWorkWith  \\\n",
       "ResponseId                                                      \n",
       "1                                                         NaN   \n",
       "2           Bash/Shell (all shells);C#;Dart;Elixir;GDScrip...   \n",
       "3                                          Haskell;OCaml;Rust   \n",
       "4           Bash/Shell (all shells);HTML/CSS;JavaScript;Ru...   \n",
       "5                  HTML/CSS;JavaScript;Python;Rust;TypeScript   \n",
       "\n",
       "                               DatabaseHaveWorkedWith  \\\n",
       "ResponseId                                              \n",
       "1                                                 NaN   \n",
       "2                                            Supabase   \n",
       "3                                                 NaN   \n",
       "4                                    PostgreSQL;Redis   \n",
       "5           BigQuery;Elasticsearch;MongoDB;PostgreSQL   \n",
       "\n",
       "                                     DatabaseWantToWorkWith  \\\n",
       "ResponseId                                                    \n",
       "1                                                       NaN   \n",
       "2                       Firebase Realtime Database;Supabase   \n",
       "3                                                       NaN   \n",
       "4                                          PostgreSQL;Redis   \n",
       "5           Elasticsearch;MongoDB;PostgreSQL;Redis;Supabase   \n",
       "\n",
       "                                       PlatformHaveWorkedWith  \\\n",
       "ResponseId                                                      \n",
       "1                                                         NaN   \n",
       "2                    Amazon Web Services (AWS);Netlify;Vercel   \n",
       "3           Amazon Web Services (AWS);Google Cloud;OpenSta...   \n",
       "4                                           Cloudflare;Heroku   \n",
       "5           Amazon Web Services (AWS);Firebase;Heroku;Netl...   \n",
       "\n",
       "                                       PlatformWantToWorkWith  \\\n",
       "ResponseId                                                      \n",
       "1                                                         NaN   \n",
       "2                                       Fly.io;Netlify;Render   \n",
       "3                                                         NaN   \n",
       "4                                           Cloudflare;Heroku   \n",
       "5           Amazon Web Services (AWS);Cloudflare;Digital O...   \n",
       "\n",
       "                                  WebframeHaveWorkedWith  \\\n",
       "ResponseId                                                 \n",
       "1                                                    NaN   \n",
       "2                             Next.js;React;Remix;Vue.js   \n",
       "3                                                    NaN   \n",
       "4           Node.js;React;Ruby on Rails;Vue.js;WordPress   \n",
       "5            Express;Gatsby;NestJS;Next.js;Node.js;React   \n",
       "\n",
       "                                       WebframeWantToWorkWith  \\\n",
       "ResponseId                                                      \n",
       "1                                                         NaN   \n",
       "2                        Deno;Elm;Nuxt.js;React;Svelte;Vue.js   \n",
       "3                                                         NaN   \n",
       "4                                Node.js;Ruby on Rails;Vue.js   \n",
       "5           Express;NestJS;Next.js;Node.js;React;Remix;Vue.js   \n",
       "\n",
       "                 MiscTechHaveWorkedWith  \\\n",
       "ResponseId                                \n",
       "1                                   NaN   \n",
       "2           Electron;React Native;Tauri   \n",
       "3                                   NaN   \n",
       "4                                   NaN   \n",
       "5                                   NaN   \n",
       "\n",
       "                                   MiscTechWantToWorkWith  \\\n",
       "ResponseId                                                  \n",
       "1                                                     NaN   \n",
       "2           Capacitor;Electron;Tauri;Uno Platform;Xamarin   \n",
       "3                                                     NaN   \n",
       "4                                                     NaN   \n",
       "5                                                     NaN   \n",
       "\n",
       "                                ToolsTechHaveWorkedWith  \\\n",
       "ResponseId                                                \n",
       "1                                                   NaN   \n",
       "2           Docker;Kubernetes;npm;Pip;Vite;Webpack;Yarn   \n",
       "3                      Cargo;Docker;Kubernetes;Make;Nix   \n",
       "4                        Homebrew;npm;Vite;Webpack;Yarn   \n",
       "5                               Docker;npm;Webpack;Yarn   \n",
       "\n",
       "                                      ToolsTechWantToWorkWith  \\\n",
       "ResponseId                                                      \n",
       "1                                                         NaN   \n",
       "2           Godot;npm;pnpm;Unity 3D;Unreal Engine;Vite;Web...   \n",
       "3                                        Cargo;Kubernetes;Nix   \n",
       "4                                           Homebrew;npm;Vite   \n",
       "5                                             Docker;npm;Yarn   \n",
       "\n",
       "                             NEWCollabToolsHaveWorkedWith  \\\n",
       "ResponseId                                                  \n",
       "1                                                     NaN   \n",
       "2                                  Vim;Visual Studio Code   \n",
       "3                                             Emacs;Helix   \n",
       "4           IntelliJ IDEA;Vim;Visual Studio Code;WebStorm   \n",
       "5                                  Vim;Visual Studio Code   \n",
       "\n",
       "           NEWCollabToolsWantToWorkWith  \\\n",
       "ResponseId                                \n",
       "1                                   NaN   \n",
       "2                Vim;Visual Studio Code   \n",
       "3                           Emacs;Helix   \n",
       "4            IntelliJ IDEA;Vim;WebStorm   \n",
       "5                Vim;Visual Studio Code   \n",
       "\n",
       "                                            OpSysPersonal use  \\\n",
       "ResponseId                                                      \n",
       "1                                                         NaN   \n",
       "2           iOS;iPadOS;MacOS;Windows;Windows Subsystem for...   \n",
       "3                                     MacOS;Other Linux-based   \n",
       "4                                            iOS;iPadOS;MacOS   \n",
       "5                                     Other (Please Specify):   \n",
       "\n",
       "                                      OpSysProfessional use  \\\n",
       "ResponseId                                                    \n",
       "1                                                       NaN   \n",
       "2           MacOS;Windows;Windows Subsystem for Linux (WSL)   \n",
       "3                                   MacOS;Other Linux-based   \n",
       "4                                          iOS;iPadOS;MacOS   \n",
       "5                                   Other (Please Specify):   \n",
       "\n",
       "                               OfficeStackAsyncHaveWorkedWith  \\\n",
       "ResponseId                                                      \n",
       "1                                                         NaN   \n",
       "2           Asana;Basecamp;GitHub Discussions;Jira;Linear;...   \n",
       "3                      Markdown File;Stack Overflow for Teams   \n",
       "4                                                        Jira   \n",
       "5                                      Confluence;Jira;Notion   \n",
       "\n",
       "                     OfficeStackAsyncWantToWorkWith  \\\n",
       "ResponseId                                            \n",
       "1                                               NaN   \n",
       "2           GitHub Discussions;Linear;Notion;Trello   \n",
       "3                                     Markdown File   \n",
       "4                                              Jira   \n",
       "5                            Confluence;Jira;Notion   \n",
       "\n",
       "                                OfficeStackSyncHaveWorkedWith  \\\n",
       "ResponseId                                                      \n",
       "1                                                         NaN   \n",
       "2           Cisco Webex Teams;Discord;Google Chat;Google M...   \n",
       "3                                  Microsoft Teams;Slack;Zoom   \n",
       "4              Discord;Google Meet;Microsoft Teams;Slack;Zoom   \n",
       "5                              Discord;Google Meet;Slack;Zoom   \n",
       "\n",
       "             OfficeStackSyncWantToWorkWith AISearchHaveWorkedWith  \\\n",
       "ResponseId                                                          \n",
       "1                                      NaN                    NaN   \n",
       "2                Discord;Signal;Slack;Zoom                ChatGPT   \n",
       "3                               Slack;Zoom                    NaN   \n",
       "4           Discord;Google Meet;Slack;Zoom                    NaN   \n",
       "5           Discord;Google Meet;Slack;Zoom                ChatGPT   \n",
       "\n",
       "           AISearchWantToWorkWith AIDevHaveWorkedWith AIDevWantToWorkWith  \\\n",
       "ResponseId                                                                  \n",
       "1                             NaN                 NaN                 NaN   \n",
       "2                ChatGPT;Neeva AI      GitHub Copilot      GitHub Copilot   \n",
       "3                             NaN                 NaN                 NaN   \n",
       "4                             NaN                 NaN                 NaN   \n",
       "5                         ChatGPT                 NaN                 NaN   \n",
       "\n",
       "                                                   NEWSOSites  \\\n",
       "ResponseId                                                      \n",
       "1                                                         NaN   \n",
       "2                               Stack Overflow;Stack Exchange   \n",
       "3           Stack Overflow;Stack Exchange;Stack Overflow f...   \n",
       "4                               Stack Overflow;Stack Exchange   \n",
       "5                               Stack Overflow;Stack Exchange   \n",
       "\n",
       "                                SOVisitFreq SOAccount  \\\n",
       "ResponseId                                              \n",
       "1                                       NaN       NaN   \n",
       "2                     Daily or almost daily       Yes   \n",
       "3           A few times per month or weekly       Yes   \n",
       "4                      A few times per week       Yes   \n",
       "5                      A few times per week        No   \n",
       "\n",
       "                                     SOPartFreq           SOComm  \\\n",
       "ResponseId                                                         \n",
       "1                                           NaN              NaN   \n",
       "2               A few times per month or weekly  Yes, definitely   \n",
       "3           Less than once per month or monthly          Neutral   \n",
       "4           Less than once per month or monthly   No, not really   \n",
       "5                                           NaN          Neutral   \n",
       "\n",
       "                                                         SOAI  \\\n",
       "ResponseId                                                      \n",
       "1                                                         NaN   \n",
       "2           I don't think it's super necessary, but I thin...   \n",
       "3                                                         NaN   \n",
       "4                     I'm wearing of Stack Overflow using AI.   \n",
       "5           Using AI to suggest better answer to my questi...   \n",
       "\n",
       "                           AISelect          AISent  \\\n",
       "ResponseId                                            \n",
       "1                               NaN             NaN   \n",
       "2                               Yes     Indifferent   \n",
       "3           No, and I don't plan to             NaN   \n",
       "4           No, and I don't plan to             NaN   \n",
       "5                               Yes  Very favorable   \n",
       "\n",
       "                                                        AIAcc  \\\n",
       "ResponseId                                                      \n",
       "1                                                         NaN   \n",
       "2                                      Other (please explain)   \n",
       "3                                                         NaN   \n",
       "4                                                         NaN   \n",
       "5           Increase productivity;Greater efficiency;Speed...   \n",
       "\n",
       "                        AIBen  \\\n",
       "ResponseId                      \n",
       "1                         NaN   \n",
       "2           Somewhat distrust   \n",
       "3                         NaN   \n",
       "4                         NaN   \n",
       "5              Somewhat trust   \n",
       "\n",
       "                                    AIToolInterested in Using  \\\n",
       "ResponseId                                                      \n",
       "1                                                         NaN   \n",
       "2           Learning about a codebase;Writing code;Debuggi...   \n",
       "3                                                         NaN   \n",
       "4                                                         NaN   \n",
       "5           Project planning;Testing code;Committing and r...   \n",
       "\n",
       "                                        AIToolCurrently Using  \\\n",
       "ResponseId                                                      \n",
       "1                                                         NaN   \n",
       "2                  Writing code;Committing and reviewing code   \n",
       "3                                                         NaN   \n",
       "4                                                         NaN   \n",
       "5           Learning about a codebase;Writing code;Documen...   \n",
       "\n",
       "           AIToolNot interested in Using AINextVery different  \\\n",
       "ResponseId                                                      \n",
       "1                                    NaN                  NaN   \n",
       "2                                    NaN                  NaN   \n",
       "3                                    NaN                  NaN   \n",
       "4                                    NaN                  NaN   \n",
       "5                                    NaN                  NaN   \n",
       "\n",
       "           AINextNeither different nor similar AINextSomewhat similar  \\\n",
       "ResponseId                                                              \n",
       "1                                          NaN                    NaN   \n",
       "2                                          NaN                    NaN   \n",
       "3                                          NaN                    NaN   \n",
       "4                                          NaN                    NaN   \n",
       "5                                          NaN                    NaN   \n",
       "\n",
       "           AINextVery similar AINextSomewhat different TBranch  \\\n",
       "ResponseId                                                       \n",
       "1                         NaN                      NaN     NaN   \n",
       "2                         NaN                      NaN     Yes   \n",
       "3                         NaN                      NaN     Yes   \n",
       "4                         NaN                      NaN     Yes   \n",
       "5                         NaN                      NaN     Yes   \n",
       "\n",
       "                            ICorPM  WorkExp     Knowledge_1  \\\n",
       "ResponseId                                                    \n",
       "1                              NaN      NaN             NaN   \n",
       "2                   People manager     10.0  Strongly agree   \n",
       "3           Individual contributor     23.0  Strongly agree   \n",
       "4           Individual contributor      7.0  Strongly agree   \n",
       "5           Individual contributor      6.0           Agree   \n",
       "\n",
       "                           Knowledge_2     Knowledge_3     Knowledge_4  \\\n",
       "ResponseId                                                               \n",
       "1                                  NaN             NaN             NaN   \n",
       "2                                Agree  Strongly agree           Agree   \n",
       "3           Neither agree nor disagree           Agree           Agree   \n",
       "4                    Strongly disagree  Strongly agree  Strongly agree   \n",
       "5                       Strongly agree           Agree           Agree   \n",
       "\n",
       "                           Knowledge_5                 Knowledge_6  \\\n",
       "ResponseId                                                           \n",
       "1                                  NaN                         NaN   \n",
       "2                                Agree                       Agree   \n",
       "3                                Agree                       Agree   \n",
       "4                                Agree  Neither agree nor disagree   \n",
       "5           Neither agree nor disagree                       Agree   \n",
       "\n",
       "               Knowledge_7     Knowledge_8        Frequency_1  \\\n",
       "ResponseId                                                      \n",
       "1                      NaN             NaN                NaN   \n",
       "2                    Agree  Strongly agree   1-2 times a week   \n",
       "3                    Agree           Agree  6-10 times a week   \n",
       "4                    Agree           Agree   1-2 times a week   \n",
       "5           Strongly agree           Agree   1-2 times a week   \n",
       "\n",
       "                  Frequency_2       Frequency_3         TimeSearching  \\\n",
       "ResponseId                                                              \n",
       "1                         NaN               NaN                   NaN   \n",
       "2            10+ times a week             Never   15-30 minutes a day   \n",
       "3           6-10 times a week  3-5 times a week   30-60 minutes a day   \n",
       "4            10+ times a week  1-2 times a week   15-30 minutes a day   \n",
       "5            1-2 times a week  3-5 times a week  60-120 minutes a day   \n",
       "\n",
       "                  TimeAnswering  \\\n",
       "ResponseId                        \n",
       "1                           NaN   \n",
       "2           15-30 minutes a day   \n",
       "3           30-60 minutes a day   \n",
       "4           30-60 minutes a day   \n",
       "5           30-60 minutes a day   \n",
       "\n",
       "                                             ProfessionalTech  \\\n",
       "ResponseId                                                      \n",
       "1                                                         NaN   \n",
       "2           DevOps function;Microservices;Automated testin...   \n",
       "3           DevOps function;Microservices;Automated testin...   \n",
       "4           Automated testing;Continuous integration (CI) ...   \n",
       "5           Microservices;Automated testing;Observability ...   \n",
       "\n",
       "                                                     Industry  \\\n",
       "ResponseId                                                      \n",
       "1                                                         NaN   \n",
       "2           Information Services, IT, Software Development...   \n",
       "3           Information Services, IT, Software Development...   \n",
       "4                                                         NaN   \n",
       "5                                                       Other   \n",
       "\n",
       "                     SurveyLength                  SurveyEase  \\\n",
       "ResponseId                                                      \n",
       "1                             NaN                         NaN   \n",
       "2           Appropriate in length                        Easy   \n",
       "3           Appropriate in length                        Easy   \n",
       "4           Appropriate in length                        Easy   \n",
       "5           Appropriate in length  Neither easy nor difficult   \n",
       "\n",
       "            ConvertedCompYearly  \n",
       "ResponseId                       \n",
       "1                           NaN  \n",
       "2                      285000.0  \n",
       "3                      250000.0  \n",
       "4                      156000.0  \n",
       "5                       23456.0  "
      ]
     },
     "execution_count": 12,
     "metadata": {},
     "output_type": "execute_result"
    }
   ],
   "source": [
    "df.head()"
   ]
  },
  {
   "cell_type": "markdown",
   "id": "57b81ad8-1e1f-4679-b9b8-fc43b47bba1d",
   "metadata": {},
   "source": [
    "basic aggregation - combining multiple pieces of data into a single result.\n",
    "for example:\n",
    "mean\n",
    "median\n",
    "mode"
   ]
  },
  {
   "cell_type": "markdown",
   "id": "0a53e07d-d671-4530-8040-ae866f673d5d",
   "metadata": {},
   "source": [
    "#### 5. What is a typical salary for developers who answered this survey ?\n",
    "look for 'ConvertedCompYearly' column"
   ]
  },
  {
   "cell_type": "code",
   "execution_count": null,
   "id": "71ddce91-6358-43bc-bdab-e016126519eb",
   "metadata": {},
   "outputs": [],
   "source": []
  },
  {
   "cell_type": "code",
   "execution_count": null,
   "id": "47999c48-e857-420d-a491-e8bfdc187cd2",
   "metadata": {},
   "outputs": [],
   "source": []
  },
  {
   "cell_type": "markdown",
   "id": "b4ddc438-a60f-455d-a764-5c00f7bad550",
   "metadata": {},
   "source": [
    "What will happen if we run the following code?"
   ]
  },
  {
   "cell_type": "code",
   "execution_count": 13,
   "id": "c7275032-be39-4118-b3b6-8c2ccd088559",
   "metadata": {},
   "outputs": [],
   "source": [
    "#df.median()"
   ]
  },
  {
   "cell_type": "markdown",
   "id": "b080f7f4-aa48-4433-b97b-1564b248ddea",
   "metadata": {},
   "source": [
    "#### 6. Take a overview of some different stats"
   ]
  },
  {
   "cell_type": "code",
   "execution_count": 14,
   "id": "a723224a-02a1-4e7f-9fe0-ceafffea80a8",
   "metadata": {},
   "outputs": [
    {
     "data": {
      "text/html": [
       "<div>\n",
       "<style scoped>\n",
       "    .dataframe tbody tr th:only-of-type {\n",
       "        vertical-align: middle;\n",
       "    }\n",
       "\n",
       "    .dataframe tbody tr th {\n",
       "        vertical-align: top;\n",
       "    }\n",
       "\n",
       "    .dataframe thead th {\n",
       "        text-align: right;\n",
       "    }\n",
       "</style>\n",
       "<table border=\"1\" class=\"dataframe\">\n",
       "  <thead>\n",
       "    <tr style=\"text-align: right;\">\n",
       "      <th></th>\n",
       "      <th>CompTotal</th>\n",
       "      <th>WorkExp</th>\n",
       "      <th>ConvertedCompYearly</th>\n",
       "    </tr>\n",
       "  </thead>\n",
       "  <tbody>\n",
       "    <tr>\n",
       "      <th>count</th>\n",
       "      <td>4.822500e+04</td>\n",
       "      <td>43579.000000</td>\n",
       "      <td>4.801900e+04</td>\n",
       "    </tr>\n",
       "    <tr>\n",
       "      <th>mean</th>\n",
       "      <td>1.036807e+42</td>\n",
       "      <td>11.405126</td>\n",
       "      <td>1.031101e+05</td>\n",
       "    </tr>\n",
       "    <tr>\n",
       "      <th>std</th>\n",
       "      <td>2.276847e+44</td>\n",
       "      <td>9.051989</td>\n",
       "      <td>6.814188e+05</td>\n",
       "    </tr>\n",
       "    <tr>\n",
       "      <th>min</th>\n",
       "      <td>0.000000e+00</td>\n",
       "      <td>0.000000</td>\n",
       "      <td>1.000000e+00</td>\n",
       "    </tr>\n",
       "    <tr>\n",
       "      <th>25%</th>\n",
       "      <td>6.300000e+04</td>\n",
       "      <td>5.000000</td>\n",
       "      <td>4.390700e+04</td>\n",
       "    </tr>\n",
       "    <tr>\n",
       "      <th>50%</th>\n",
       "      <td>1.150000e+05</td>\n",
       "      <td>9.000000</td>\n",
       "      <td>7.496300e+04</td>\n",
       "    </tr>\n",
       "    <tr>\n",
       "      <th>75%</th>\n",
       "      <td>2.300000e+05</td>\n",
       "      <td>16.000000</td>\n",
       "      <td>1.216410e+05</td>\n",
       "    </tr>\n",
       "    <tr>\n",
       "      <th>max</th>\n",
       "      <td>5.000000e+46</td>\n",
       "      <td>50.000000</td>\n",
       "      <td>7.435143e+07</td>\n",
       "    </tr>\n",
       "  </tbody>\n",
       "</table>\n",
       "</div>"
      ],
      "text/plain": [
       "          CompTotal       WorkExp  ConvertedCompYearly\n",
       "count  4.822500e+04  43579.000000         4.801900e+04\n",
       "mean   1.036807e+42     11.405126         1.031101e+05\n",
       "std    2.276847e+44      9.051989         6.814188e+05\n",
       "min    0.000000e+00      0.000000         1.000000e+00\n",
       "25%    6.300000e+04      5.000000         4.390700e+04\n",
       "50%    1.150000e+05      9.000000         7.496300e+04\n",
       "75%    2.300000e+05     16.000000         1.216410e+05\n",
       "max    5.000000e+46     50.000000         7.435143e+07"
      ]
     },
     "execution_count": 14,
     "metadata": {},
     "output_type": "execute_result"
    }
   ],
   "source": [
    "df.describe()"
   ]
  },
  {
   "cell_type": "markdown",
   "id": "072bf182-97d1-444e-a8f8-c24f4a41d1ad",
   "metadata": {},
   "source": [
    "##### Look at the average salary among developers; `(ConvertedCompYearly)`, can we conclude from this that it is indeed the average for this profession?"
   ]
  },
  {
   "cell_type": "markdown",
   "id": "cddfaa6f-5477-4823-bdb7-531619068960",
   "metadata": {},
   "source": [
    "---\n",
    "#### In one of the survey questions, people were asked if they have a user account on the website;\n",
    "#### suggest a way to count how many people responded for each of the options provided in the survey.\n",
    "#### The column the question refers to is called 'SOAccount'"
   ]
  },
  {
   "cell_type": "code",
   "execution_count": 15,
   "id": "a8d5fed4-b2f3-422e-bac8-37bfcf72cba9",
   "metadata": {},
   "outputs": [
    {
     "data": {
      "text/plain": [
       "ResponseId\n",
       "1        NaN\n",
       "2        Yes\n",
       "3        Yes\n",
       "4        Yes\n",
       "5         No\n",
       "        ... \n",
       "89180    Yes\n",
       "89181    Yes\n",
       "89182    NaN\n",
       "89183     No\n",
       "89184    Yes\n",
       "Name: SOAccount, Length: 89184, dtype: object"
      ]
     },
     "execution_count": 15,
     "metadata": {},
     "output_type": "execute_result"
    }
   ],
   "source": [
    "df['SOAccount'] # the desired column"
   ]
  },
  {
   "cell_type": "code",
   "execution_count": 16,
   "id": "6b7350e6-a5d2-466f-8f8f-fa02bab4f0c0",
   "metadata": {},
   "outputs": [
    {
     "data": {
      "text/plain": [
       "Yes                        66282\n",
       "No                         14618\n",
       "Not sure/can't remember     6952\n",
       "Name: SOAccount, dtype: int64"
      ]
     },
     "execution_count": 16,
     "metadata": {},
     "output_type": "execute_result"
    }
   ],
   "source": [
    "df['SOAccount'].value_counts()"
   ]
  },
  {
   "cell_type": "markdown",
   "id": "d97c9214-73a1-468b-a4df-af797f8a14d5",
   "metadata": {},
   "source": [
    "###  A question to refresh the memory, \n",
    "#### in the database `schema_df` we can use it to retrieve the complete questions asked by the people who filled out the survey.\n",
    "#### Display the question asked by the name 'SOAccount'"
   ]
  },
  {
   "cell_type": "code",
   "execution_count": null,
   "id": "d33fd78b-f8af-4b6c-920c-eb1d4e65b62f",
   "metadata": {},
   "outputs": [],
   "source": []
  },
  {
   "cell_type": "markdown",
   "id": "c8a60f6d-6413-4c1e-8846-2fb5ea64b441",
   "metadata": {},
   "source": [
    "---\n",
    "#### Display the value counts for each country "
   ]
  },
  {
   "cell_type": "code",
   "execution_count": 17,
   "id": "d8f94cc8-8db2-4f2c-a552-7dfeebed0481",
   "metadata": {},
   "outputs": [
    {
     "data": {
      "text/plain": [
       "United States of America                                18647\n",
       "Germany                                                  7328\n",
       "India                                                    5625\n",
       "United Kingdom of Great Britain and Northern Ireland     5552\n",
       "Canada                                                   3507\n",
       "                                                        ...  \n",
       "Saint Kitts and Nevis                                       1\n",
       "Marshall Islands                                            1\n",
       "Samoa                                                       1\n",
       "Central African Republic                                    1\n",
       "San Marino                                                  1\n",
       "Name: Country, Length: 185, dtype: int64"
      ]
     },
     "execution_count": 17,
     "metadata": {},
     "output_type": "execute_result"
    }
   ],
   "source": [
    "df['Country'].value_counts()"
   ]
  },
  {
   "cell_type": "code",
   "execution_count": 18,
   "id": "c4ca5a56-0386-4375-97ab-ca3747b54c26",
   "metadata": {},
   "outputs": [
    {
     "data": {
      "text/plain": [
       "United States of America                                0.211963\n",
       "Germany                                                 0.083298\n",
       "India                                                   0.063940\n",
       "United Kingdom of Great Britain and Northern Ireland    0.063110\n",
       "Canada                                                  0.039865\n",
       "                                                          ...   \n",
       "Saint Kitts and Nevis                                   0.000011\n",
       "Marshall Islands                                        0.000011\n",
       "Samoa                                                   0.000011\n",
       "Central African Republic                                0.000011\n",
       "San Marino                                              0.000011\n",
       "Name: Country, Length: 185, dtype: float64"
      ]
     },
     "execution_count": 18,
     "metadata": {},
     "output_type": "execute_result"
    }
   ],
   "source": [
    "df['Country'].value_counts(normalize=True)"
   ]
  },
  {
   "cell_type": "markdown",
   "id": "d69ea647-5f7d-459a-b048-6dc996e037f6",
   "metadata": {},
   "source": [
    "#### 7. Group the data by `country` and display only the 'United States of America' by using the function `.groupby()`"
   ]
  },
  {
   "cell_type": "code",
   "execution_count": null,
   "id": "8c4aa247-add5-4daa-8d2d-a3736822042b",
   "metadata": {},
   "outputs": [],
   "source": []
  },
  {
   "cell_type": "code",
   "execution_count": null,
   "id": "b07b0738-0b45-407b-bde8-25c41ebe7581",
   "metadata": {},
   "outputs": [],
   "source": []
  },
  {
   "cell_type": "markdown",
   "id": "af1a6c55-4ad5-48b3-b378-d3b91037ddac",
   "metadata": {},
   "source": [
    "#### 8. Show the median annual salary by Germany"
   ]
  },
  {
   "cell_type": "code",
   "execution_count": null,
   "id": "132a21e0-892d-4cf7-890d-14a739c369e7",
   "metadata": {},
   "outputs": [],
   "source": []
  },
  {
   "cell_type": "markdown",
   "id": "d53b7d22-0a3d-4f21-9200-529c2b7d601c",
   "metadata": {},
   "source": [
    "## <b id=\"section_2\">Let's now try to answer a question, and by reading the  </b> <b style='color:#F05454'>error  </b> <b>we get we'll try to find the solution.</b> "
   ]
  },
  {
   "cell_type": "markdown",
   "id": "eff004fa-b5f0-472f-a482-993375db77e2",
   "metadata": {},
   "source": [
    "#### 9. How many people knew Python from 'United States of America' ?\n",
    "##### Suggest solving this by using the groupby() function and not using it."
   ]
  },
  {
   "cell_type": "markdown",
   "id": "5167d582-a741-4176-ab8b-ccad54d83b58",
   "metadata": {},
   "source": [
    "## 1."
   ]
  },
  {
   "cell_type": "code",
   "execution_count": null,
   "id": "1646cd75-03b1-486e-9451-23db075e4171",
   "metadata": {},
   "outputs": [],
   "source": []
  },
  {
   "cell_type": "markdown",
   "id": "4b57519e-2c0e-4c2a-a05a-e80179bb5c3f",
   "metadata": {},
   "source": [
    "## 2."
   ]
  },
  {
   "cell_type": "code",
   "execution_count": 19,
   "id": "9ed9eebb-d4bc-455f-b471-7614ddb1ee5f",
   "metadata": {},
   "outputs": [
    {
     "ename": "AttributeError",
     "evalue": "'SeriesGroupBy' object has no attribute 'str'",
     "output_type": "error",
     "traceback": [
      "\u001b[1;31m---------------------------------------------------------------------------\u001b[0m",
      "\u001b[1;31mAttributeError\u001b[0m                            Traceback (most recent call last)",
      "Input \u001b[1;32mIn [19]\u001b[0m, in \u001b[0;36m<cell line: 1>\u001b[1;34m()\u001b[0m\n\u001b[1;32m----> 1\u001b[0m \u001b[43mdf\u001b[49m\u001b[38;5;241;43m.\u001b[39;49m\u001b[43mgroupby\u001b[49m\u001b[43m(\u001b[49m\u001b[43m[\u001b[49m\u001b[38;5;124;43m'\u001b[39;49m\u001b[38;5;124;43mCountry\u001b[39;49m\u001b[38;5;124;43m'\u001b[39;49m\u001b[43m]\u001b[49m\u001b[43m)\u001b[49m\u001b[43m[\u001b[49m\u001b[38;5;124;43m'\u001b[39;49m\u001b[38;5;124;43mLanguageHaveWorkedWith\u001b[39;49m\u001b[38;5;124;43m'\u001b[39;49m\u001b[43m]\u001b[49m\u001b[38;5;241;43m.\u001b[39;49m\u001b[43mstr\u001b[49m\u001b[38;5;241m.\u001b[39mcontains(\u001b[38;5;124m'\u001b[39m\u001b[38;5;124mPython\u001b[39m\u001b[38;5;124m'\u001b[39m)\u001b[38;5;241m.\u001b[39msum()\n",
      "File \u001b[1;32m~\\AppData\\Local\\Programs\\Python\\Python310\\lib\\site-packages\\pandas\\core\\groupby\\groupby.py:904\u001b[0m, in \u001b[0;36mGroupBy.__getattr__\u001b[1;34m(self, attr)\u001b[0m\n\u001b[0;32m    901\u001b[0m \u001b[38;5;28;01mif\u001b[39;00m attr \u001b[38;5;129;01min\u001b[39;00m \u001b[38;5;28mself\u001b[39m\u001b[38;5;241m.\u001b[39mobj:\n\u001b[0;32m    902\u001b[0m     \u001b[38;5;28;01mreturn\u001b[39;00m \u001b[38;5;28mself\u001b[39m[attr]\n\u001b[1;32m--> 904\u001b[0m \u001b[38;5;28;01mraise\u001b[39;00m \u001b[38;5;167;01mAttributeError\u001b[39;00m(\n\u001b[0;32m    905\u001b[0m     \u001b[38;5;124mf\u001b[39m\u001b[38;5;124m\"\u001b[39m\u001b[38;5;124m'\u001b[39m\u001b[38;5;132;01m{\u001b[39;00m\u001b[38;5;28mtype\u001b[39m(\u001b[38;5;28mself\u001b[39m)\u001b[38;5;241m.\u001b[39m\u001b[38;5;18m__name__\u001b[39m\u001b[38;5;132;01m}\u001b[39;00m\u001b[38;5;124m'\u001b[39m\u001b[38;5;124m object has no attribute \u001b[39m\u001b[38;5;124m'\u001b[39m\u001b[38;5;132;01m{\u001b[39;00mattr\u001b[38;5;132;01m}\u001b[39;00m\u001b[38;5;124m'\u001b[39m\u001b[38;5;124m\"\u001b[39m\n\u001b[0;32m    906\u001b[0m )\n",
      "\u001b[1;31mAttributeError\u001b[0m: 'SeriesGroupBy' object has no attribute 'str'"
     ]
    }
   ],
   "source": [
    "df.groupby(['Country'])['LanguageHaveWorkedWith'].str.contains('Python').sum()"
   ]
  },
  {
   "cell_type": "code",
   "execution_count": null,
   "id": "3db096ca-a8a0-4a02-9184-af7c7f7d89d9",
   "metadata": {},
   "outputs": [],
   "source": []
  },
  {
   "cell_type": "markdown",
   "id": "ab92e1c0-5685-42eb-95c8-79550c446254",
   "metadata": {},
   "source": [
    "---\n",
    "#### 10. Does seeing these numbers by itself can help us understand of the percentage of people in each country who knew Python ? \n",
    "#### Suggest a way to solve it."
   ]
  },
  {
   "cell_type": "code",
   "execution_count": 20,
   "id": "1bb168dd-5fed-4076-a1b9-cd3b22705dfb",
   "metadata": {},
   "outputs": [
    {
     "data": {
      "text/plain": [
       "United States of America                                18647\n",
       "Germany                                                  7328\n",
       "India                                                    5625\n",
       "United Kingdom of Great Britain and Northern Ireland     5552\n",
       "Canada                                                   3507\n",
       "                                                        ...  \n",
       "Saint Kitts and Nevis                                       1\n",
       "Marshall Islands                                            1\n",
       "Samoa                                                       1\n",
       "Central African Republic                                    1\n",
       "San Marino                                                  1\n",
       "Name: Country, Length: 185, dtype: int64"
      ]
     },
     "execution_count": 20,
     "metadata": {},
     "output_type": "execute_result"
    }
   ],
   "source": [
    "country_respondents = df['Country'].value_counts()\n",
    "country_respondents"
   ]
  },
  {
   "cell_type": "markdown",
   "id": "f044401f-b407-4b62-97dc-7ded7324953c",
   "metadata": {},
   "source": [
    "---"
   ]
  },
  {
   "cell_type": "markdown",
   "id": "18d49333-1f68-4501-b789-74e56dc19883",
   "metadata": {},
   "source": [
    "#### 11. Show median and average together for the annual salary by Germany"
   ]
  },
  {
   "cell_type": "code",
   "execution_count": null,
   "id": "3b478cb3-c573-4a20-a3e3-cba6c57330d1",
   "metadata": {},
   "outputs": [],
   "source": []
  },
  {
   "cell_type": "code",
   "execution_count": null,
   "id": "37e58765-2015-4575-bfff-cae5a1a80107",
   "metadata": {},
   "outputs": [],
   "source": []
  },
  {
   "cell_type": "code",
   "execution_count": null,
   "id": "e95ac41f-0b90-44df-9abe-e637fb839431",
   "metadata": {},
   "outputs": [],
   "source": []
  },
  {
   "cell_type": "markdown",
   "id": "7a117d48-1404-4b16-a98b-97440f239a7a",
   "metadata": {},
   "source": [
    "### [▲](#Top)\n",
    "---\n",
    "# Pivot table :\n",
    "<a id='section4'></a>"
   ]
  },
  {
   "cell_type": "markdown",
   "id": "a9c3104c-53b9-44f6-b82b-31d49eb4b8d4",
   "metadata": {},
   "source": [
    "#### Pivot tables are especially useful when dealing with large and complex datasets."
   ]
  },
  {
   "cell_type": "markdown",
   "id": "3b1c230b-cf78-43ac-89ae-1ad33ea676dc",
   "metadata": {},
   "source": [
    "A pivot table is a data summarization tool used in spreadsheet software and data analysis tools, like Excel or Pandas in Python.\n",
    "It allows you to transform and aggregate data from a given dataset into a structured table format, making it easier to analyze and visualize information."
   ]
  },
  {
   "cell_type": "markdown",
   "id": "0a65ad03-53d5-4ba8-a0e9-b4573babbfe3",
   "metadata": {},
   "source": [
    "> <ins>**Rows and Columns:**</ins> In a pivot table, you select one or more columns to serve as the \"rows\" and one or more columns to serve as the \"columns.\" The data in these selected columns will be used to categorize and structure the pivot table.\n",
    "\n",
    "> <ins>**Values:**</ins> You can specify a numeric column whose values you want to aggregate or summarize. These values can be aggregated using various functions such as sum, average, count, etc.\n",
    "\n",
    "> <ins>**Aggregation:**</ins> Pivot tables perform aggregation operations on the values within each cell of the table. Common aggregation functions include sum, average, count, minimum, maximum, and more. You can choose the aggregation function that best suits your analysis.\n",
    "\n",
    "> <ins>**Filters:**</ins> Pivot tables often allow you to apply filters to restrict which data is included in the table. These filters can be based on the values in one or more columns.\n",
    "\n",
    "> <ins>**Row Totals and Column Totals:**</ins> Pivot tables typically include row totals and column totals, which display the aggregated values for each row and column.\n",
    "\n",
    "> <ins>**Grand Total:**</ins> A grand total is the sum of all values in the pivot table. It represents the overall summary of the data"
   ]
  },
  {
   "cell_type": "code",
   "execution_count": 21,
   "id": "b65388ca-cf66-490c-8f5e-0df2b4df31e9",
   "metadata": {},
   "outputs": [
    {
     "name": "stdout",
     "output_type": "stream",
     "text": [
      "  Category  Value\n",
      "0        A     10\n",
      "1        B     15\n",
      "2        A     20\n",
      "3        B     25\n",
      "4        A     30\n",
      "5        B     35\n"
     ]
    }
   ],
   "source": [
    "# Create a DataFrame\n",
    "data = {'Category': ['A', 'B', 'A', 'B', 'A', 'B'],\n",
    "        'Value': [10, 15, 20, 25, 30, 35]}\n",
    "df = pd.DataFrame(data)\n",
    "\n",
    "# Create a pivot table\n",
    "pivot_table = df.pivot_table(values='Value', index='Category', aggfunc='sum')\n",
    "\n",
    "print(df)"
   ]
  },
  {
   "cell_type": "code",
   "execution_count": 22,
   "id": "1f0aef30-abed-455e-8f34-2def78307480",
   "metadata": {},
   "outputs": [
    {
     "name": "stdout",
     "output_type": "stream",
     "text": [
      "          Value\n",
      "Category       \n",
      "A            60\n",
      "B            75\n"
     ]
    }
   ],
   "source": [
    "print(pivot_table)"
   ]
  },
  {
   "cell_type": "markdown",
   "id": "9776e14e-0675-4c63-bbdf-6dfbe238edc9",
   "metadata": {},
   "source": [
    "## <ins>**Filters:**</ins>\n",
    "Filters allow you to subset the data included in the pivot table based on specific criteria.\r\n"
   ]
  },
  {
   "cell_type": "code",
   "execution_count": 23,
   "id": "805d910b-b27e-4fc1-9e41-903cee3c9112",
   "metadata": {},
   "outputs": [
    {
     "data": {
      "text/html": [
       "<div>\n",
       "<style scoped>\n",
       "    .dataframe tbody tr th:only-of-type {\n",
       "        vertical-align: middle;\n",
       "    }\n",
       "\n",
       "    .dataframe tbody tr th {\n",
       "        vertical-align: top;\n",
       "    }\n",
       "\n",
       "    .dataframe thead th {\n",
       "        text-align: right;\n",
       "    }\n",
       "</style>\n",
       "<table border=\"1\" class=\"dataframe\">\n",
       "  <thead>\n",
       "    <tr style=\"text-align: right;\">\n",
       "      <th></th>\n",
       "      <th>Product</th>\n",
       "      <th>Category</th>\n",
       "      <th>Region</th>\n",
       "      <th>Sales</th>\n",
       "      <th>Date</th>\n",
       "    </tr>\n",
       "  </thead>\n",
       "  <tbody>\n",
       "    <tr>\n",
       "      <th>0</th>\n",
       "      <td>A</td>\n",
       "      <td>Electronics</td>\n",
       "      <td>North</td>\n",
       "      <td>100</td>\n",
       "      <td>2023-01-01</td>\n",
       "    </tr>\n",
       "    <tr>\n",
       "      <th>1</th>\n",
       "      <td>B</td>\n",
       "      <td>Clothing</td>\n",
       "      <td>South</td>\n",
       "      <td>150</td>\n",
       "      <td>2023-01-01</td>\n",
       "    </tr>\n",
       "    <tr>\n",
       "      <th>2</th>\n",
       "      <td>A</td>\n",
       "      <td>Electronics</td>\n",
       "      <td>North</td>\n",
       "      <td>200</td>\n",
       "      <td>2023-02-01</td>\n",
       "    </tr>\n",
       "    <tr>\n",
       "      <th>3</th>\n",
       "      <td>B</td>\n",
       "      <td>Clothing</td>\n",
       "      <td>South</td>\n",
       "      <td>250</td>\n",
       "      <td>2023-02-01</td>\n",
       "    </tr>\n",
       "    <tr>\n",
       "      <th>4</th>\n",
       "      <td>A</td>\n",
       "      <td>Electronics</td>\n",
       "      <td>North</td>\n",
       "      <td>300</td>\n",
       "      <td>2023-03-01</td>\n",
       "    </tr>\n",
       "    <tr>\n",
       "      <th>5</th>\n",
       "      <td>B</td>\n",
       "      <td>Clothing</td>\n",
       "      <td>South</td>\n",
       "      <td>350</td>\n",
       "      <td>2023-03-01</td>\n",
       "    </tr>\n",
       "  </tbody>\n",
       "</table>\n",
       "</div>"
      ],
      "text/plain": [
       "  Product     Category Region  Sales        Date\n",
       "0       A  Electronics  North    100  2023-01-01\n",
       "1       B     Clothing  South    150  2023-01-01\n",
       "2       A  Electronics  North    200  2023-02-01\n",
       "3       B     Clothing  South    250  2023-02-01\n",
       "4       A  Electronics  North    300  2023-03-01\n",
       "5       B     Clothing  South    350  2023-03-01"
      ]
     },
     "execution_count": 23,
     "metadata": {},
     "output_type": "execute_result"
    }
   ],
   "source": [
    "# Create a DataFrame\n",
    "\n",
    "data = {\n",
    "    'Product': ['A', 'B', 'A', 'B', 'A', 'B'],\n",
    "    'Category': ['Electronics', 'Clothing', 'Electronics', 'Clothing', 'Electronics', 'Clothing'],\n",
    "    'Region': ['North', 'South', 'North', 'South', 'North', 'South'],\n",
    "    'Sales': [100, 150, 200, 250, 300, 350],\n",
    "    'Date': ['2023-01-01', '2023-01-01', '2023-02-01', '2023-02-01', '2023-03-01', '2023-03-01']\n",
    "}\n",
    "\n",
    "df = pd.DataFrame(data)\n",
    "df"
   ]
  },
  {
   "cell_type": "code",
   "execution_count": 24,
   "id": "7e691b67-06cb-4e48-a0fd-db51d5716cea",
   "metadata": {},
   "outputs": [
    {
     "name": "stdout",
     "output_type": "stream",
     "text": [
      "Region       North  South\n",
      "Category                 \n",
      "Clothing       NaN  750.0\n",
      "Electronics  600.0    NaN\n",
      "\n",
      "Region       North  South\n",
      "Category                 \n",
      "Electronics  600.0    NaN\n"
     ]
    }
   ],
   "source": [
    "# Create a pivot table with 'Category' as rows, 'Region' as columns, and sum of 'Sales' as values\n",
    "pivot_table = df.pivot_table(values='Sales', index='Category', columns='Region', aggfunc='sum')\n",
    "\n",
    "# Apply a filter to only include rows where 'Category' is 'Electronics'\n",
    "filtered_pivot = pivot_table[pivot_table.index == 'Electronics']\n",
    "print(pivot_table)\n",
    "print()\n",
    "print(filtered_pivot)\n"
   ]
  },
  {
   "cell_type": "markdown",
   "id": "c1d2b164-491b-42d5-a760-c0e3c5a06563",
   "metadata": {},
   "source": [
    "## <ins>**Row Totals and Column Totals:**</ins>"
   ]
  },
  {
   "cell_type": "code",
   "execution_count": 25,
   "id": "c92e6710-ef94-45da-8ff0-ccc94975b3e8",
   "metadata": {},
   "outputs": [
    {
     "name": "stdout",
     "output_type": "stream",
     "text": [
      "Region       North  South   Total\n",
      "Category                         \n",
      "Clothing       NaN  750.0   750.0\n",
      "Electronics  600.0    NaN   600.0\n",
      "Total        600.0  750.0  1350.0\n"
     ]
    }
   ],
   "source": [
    "# Create a pivot table with 'Category' as rows, 'Region' as columns, and sum of 'Sales' as values\n",
    "pivot_table = df.pivot_table(values='Sales', index='Category', columns='Region', aggfunc='sum')\n",
    "\n",
    "# Add row totals and column totals\n",
    "pivot_table['Total'] = pivot_table.sum(axis=1)\n",
    "pivot_table.loc['Total'] = pivot_table.sum()\n",
    "\n",
    "print(pivot_table)\n"
   ]
  },
  {
   "cell_type": "markdown",
   "id": "cdb8964a-f646-4023-98fa-c74f21f9ddf2",
   "metadata": {},
   "source": [
    "In this example, we calculate row totals by adding a 'Total' row at the end, and column totals by adding a 'Total' column at the end of the pivot table."
   ]
  },
  {
   "cell_type": "markdown",
   "id": "f21e306c-acb7-4023-8a8e-a0c530b434c9",
   "metadata": {},
   "source": [
    "## <ins>**Grand Total:**</ins>"
   ]
  },
  {
   "cell_type": "markdown",
   "id": "87240f0c-cdb3-41ce-89a8-04808e69db23",
   "metadata": {},
   "source": [
    "The grand total represents the sum of all values in the pivot table, providing an overall summary."
   ]
  },
  {
   "cell_type": "code",
   "execution_count": 26,
   "id": "84dd6737-7ec9-461b-b4c6-51a3181a4029",
   "metadata": {},
   "outputs": [
    {
     "name": "stdout",
     "output_type": "stream",
     "text": [
      "Grand Total: nan\n"
     ]
    }
   ],
   "source": [
    "# Create a pivot table with 'Category' as rows, 'Region' as columns, and sum of 'Sales' as values\n",
    "pivot_table = df.pivot_table(values='Sales', index=['Category'], columns='Region', aggfunc='sum')\n",
    "\n",
    "# Calculate the grand total\n",
    "grand_total = pivot_table.values.sum()\n",
    "\n",
    "print(\"Grand Total:\", grand_total)"
   ]
  },
  {
   "cell_type": "markdown",
   "id": "02ff2cbf-14cb-44f2-b060-283eadbac378",
   "metadata": {},
   "source": [
    "In this example, we calculate the grand total by summing all the values in the pivot table, providing the total sales across all categories and regions."
   ]
  },
  {
   "cell_type": "markdown",
   "id": "43b8e036-8fd1-4b5b-8d3d-3afeb442e3bd",
   "metadata": {},
   "source": [
    "#### But note that we received NaN, `Grand Total` is sensitive to missing values! They must be dealt with first or just use `row totals and column totals`."
   ]
  },
  {
   "cell_type": "markdown",
   "id": "7bc9a923-3a6d-4a44-8eb4-0703b2eb3a94",
   "metadata": {},
   "source": [
    "## Exercise"
   ]
  },
  {
   "cell_type": "code",
   "execution_count": 27,
   "id": "5d34d6f0-d818-4307-ad1b-c9cbabf51054",
   "metadata": {},
   "outputs": [
    {
     "data": {
      "text/html": [
       "<div>\n",
       "<style scoped>\n",
       "    .dataframe tbody tr th:only-of-type {\n",
       "        vertical-align: middle;\n",
       "    }\n",
       "\n",
       "    .dataframe tbody tr th {\n",
       "        vertical-align: top;\n",
       "    }\n",
       "\n",
       "    .dataframe thead th {\n",
       "        text-align: right;\n",
       "    }\n",
       "</style>\n",
       "<table border=\"1\" class=\"dataframe\">\n",
       "  <thead>\n",
       "    <tr style=\"text-align: right;\">\n",
       "      <th></th>\n",
       "      <th>Month</th>\n",
       "      <th>Product</th>\n",
       "      <th>Sales</th>\n",
       "    </tr>\n",
       "  </thead>\n",
       "  <tbody>\n",
       "    <tr>\n",
       "      <th>0</th>\n",
       "      <td>Jan</td>\n",
       "      <td>A</td>\n",
       "      <td>1000</td>\n",
       "    </tr>\n",
       "    <tr>\n",
       "      <th>1</th>\n",
       "      <td>Feb</td>\n",
       "      <td>A</td>\n",
       "      <td>1200</td>\n",
       "    </tr>\n",
       "    <tr>\n",
       "      <th>2</th>\n",
       "      <td>Jan</td>\n",
       "      <td>B</td>\n",
       "      <td>800</td>\n",
       "    </tr>\n",
       "    <tr>\n",
       "      <th>3</th>\n",
       "      <td>Feb</td>\n",
       "      <td>B</td>\n",
       "      <td>900</td>\n",
       "    </tr>\n",
       "    <tr>\n",
       "      <th>4</th>\n",
       "      <td>Jan</td>\n",
       "      <td>C</td>\n",
       "      <td>1500</td>\n",
       "    </tr>\n",
       "    <tr>\n",
       "      <th>5</th>\n",
       "      <td>Feb</td>\n",
       "      <td>C</td>\n",
       "      <td>1600</td>\n",
       "    </tr>\n",
       "  </tbody>\n",
       "</table>\n",
       "</div>"
      ],
      "text/plain": [
       "  Month Product  Sales\n",
       "0   Jan       A   1000\n",
       "1   Feb       A   1200\n",
       "2   Jan       B    800\n",
       "3   Feb       B    900\n",
       "4   Jan       C   1500\n",
       "5   Feb       C   1600"
      ]
     },
     "execution_count": 27,
     "metadata": {},
     "output_type": "execute_result"
    }
   ],
   "source": [
    "data = {\n",
    "    'Month': ['Jan', 'Feb', 'Jan', 'Feb', 'Jan', 'Feb'],\n",
    "    'Product': ['A', 'A', 'B', 'B', 'C', 'C'],\n",
    "    'Sales': [1000, 1200, 800, 900, 1500, 1600]\n",
    "}\n",
    "\n",
    "df = pd.DataFrame(data)\n",
    "df"
   ]
  },
  {
   "cell_type": "markdown",
   "id": "24f4cffb-a9a9-4ad3-b77a-6273597b18d7",
   "metadata": {},
   "source": [
    "#### 12. What were the sales for Product A in February?"
   ]
  },
  {
   "cell_type": "code",
   "execution_count": null,
   "id": "28cc138f-b2ce-4883-955b-247d95398899",
   "metadata": {},
   "outputs": [],
   "source": []
  },
  {
   "cell_type": "code",
   "execution_count": null,
   "id": "4467011a-927b-4c76-b345-4957b9d9284f",
   "metadata": {},
   "outputs": [],
   "source": []
  },
  {
   "cell_type": "code",
   "execution_count": null,
   "id": "02e0b8da-a938-49f1-ad11-2d9e77d12083",
   "metadata": {},
   "outputs": [],
   "source": []
  },
  {
   "cell_type": "code",
   "execution_count": null,
   "id": "a1fc8cc3-2946-4619-b30d-83abdf665765",
   "metadata": {},
   "outputs": [],
   "source": []
  },
  {
   "cell_type": "markdown",
   "id": "9a19c890-abfb-465e-b98b-3d9add63ff1a",
   "metadata": {},
   "source": [
    "#### 13. Can you find the total sales for each month and the overall total sales across all products?"
   ]
  },
  {
   "cell_type": "code",
   "execution_count": null,
   "id": "faf48678-e151-4c96-ba75-abfc03f1fe72",
   "metadata": {},
   "outputs": [],
   "source": []
  },
  {
   "cell_type": "code",
   "execution_count": null,
   "id": "0f2c0209-dc75-4db1-b6ca-1e7e20ddf025",
   "metadata": {},
   "outputs": [],
   "source": []
  },
  {
   "cell_type": "markdown",
   "id": "3a86a4be-9db3-42e5-88a0-3b3f92936eb6",
   "metadata": {},
   "source": [
    "### Interactive Pivot Table Using PivotTableJS in Jupyter Notebook"
   ]
  },
  {
   "cell_type": "code",
   "execution_count": 21,
   "id": "7ae2ceb5-e50e-4b46-a3c5-b666ec1b9d43",
   "metadata": {},
   "outputs": [],
   "source": [
    "#!pip install pivottablejs\n",
    "from pivottablejs import pivot_ui"
   ]
  },
  {
   "cell_type": "code",
   "execution_count": 22,
   "id": "50705676-0120-4e5a-a5ed-4c1c5997a49f",
   "metadata": {},
   "outputs": [
    {
     "data": {
      "text/html": [
       "\n",
       "        <iframe\n",
       "            width=\"100%\"\n",
       "            height=\"500\"\n",
       "            src=\"pivottablejs.html\"\n",
       "            frameborder=\"0\"\n",
       "            allowfullscreen\n",
       "            \n",
       "        ></iframe>\n",
       "        "
      ],
      "text/plain": [
       "<IPython.lib.display.IFrame at 0x1245bdd1750>"
      ]
     },
     "execution_count": 22,
     "metadata": {},
     "output_type": "execute_result"
    }
   ],
   "source": [
    "pivot_ui(df,outfile_path='pivottablejs.html')\n",
    "#HTML('pivottablejs.html')"
   ]
  },
  {
   "cell_type": "markdown",
   "id": "c0db2513-aaf7-4b87-bbc9-6e0c06ef295f",
   "metadata": {},
   "source": [
    "##### Pivot tables are a powerful tool for data analysis and reporting, allowing you to quickly gain insights into your data by summarizing and aggregating information in a structured format."
   ]
  },
  {
   "cell_type": "markdown",
   "id": "0d73b584-16e6-4da4-a961-74557b9a0f75",
   "metadata": {},
   "source": [
    "### [▲](#Top)\n",
    "---"
   ]
  },
  {
   "cell_type": "markdown",
   "id": "c38fb22d-3bdb-4946-b08c-0234bbe346d8",
   "metadata": {},
   "source": [
    "<a id='section5'></a>\n",
    "## self `dateTime` practice"
   ]
  },
  {
   "cell_type": "markdown",
   "id": "d88e1ee1-1eff-42f8-9cea-40b5d0bf488d",
   "metadata": {},
   "source": [
    "#### Read data about Covid cases in Italy on start stage of pandemic using pandas"
   ]
  },
  {
   "cell_type": "code",
   "execution_count": 28,
   "id": "4b3a7c14-8705-4a70-b4e1-448c375f1631",
   "metadata": {},
   "outputs": [
    {
     "data": {
      "text/html": [
       "<div>\n",
       "<style scoped>\n",
       "    .dataframe tbody tr th:only-of-type {\n",
       "        vertical-align: middle;\n",
       "    }\n",
       "\n",
       "    .dataframe tbody tr th {\n",
       "        vertical-align: top;\n",
       "    }\n",
       "\n",
       "    .dataframe thead th {\n",
       "        text-align: right;\n",
       "    }\n",
       "</style>\n",
       "<table border=\"1\" class=\"dataframe\">\n",
       "  <thead>\n",
       "    <tr style=\"text-align: right;\">\n",
       "      <th></th>\n",
       "      <th>date</th>\n",
       "      <th>new_cases</th>\n",
       "      <th>new_deaths</th>\n",
       "      <th>new_tests</th>\n",
       "    </tr>\n",
       "  </thead>\n",
       "  <tbody>\n",
       "    <tr>\n",
       "      <th>243</th>\n",
       "      <td>2020-08-30</td>\n",
       "      <td>1444.0</td>\n",
       "      <td>1.0</td>\n",
       "      <td>53541.0</td>\n",
       "    </tr>\n",
       "    <tr>\n",
       "      <th>244</th>\n",
       "      <td>2020-08-31</td>\n",
       "      <td>1365.0</td>\n",
       "      <td>4.0</td>\n",
       "      <td>42583.0</td>\n",
       "    </tr>\n",
       "    <tr>\n",
       "      <th>245</th>\n",
       "      <td>2020-09-01</td>\n",
       "      <td>996.0</td>\n",
       "      <td>6.0</td>\n",
       "      <td>54395.0</td>\n",
       "    </tr>\n",
       "    <tr>\n",
       "      <th>246</th>\n",
       "      <td>2020-09-02</td>\n",
       "      <td>975.0</td>\n",
       "      <td>8.0</td>\n",
       "      <td>NaN</td>\n",
       "    </tr>\n",
       "    <tr>\n",
       "      <th>247</th>\n",
       "      <td>2020-09-03</td>\n",
       "      <td>1326.0</td>\n",
       "      <td>6.0</td>\n",
       "      <td>NaN</td>\n",
       "    </tr>\n",
       "  </tbody>\n",
       "</table>\n",
       "</div>"
      ],
      "text/plain": [
       "           date  new_cases  new_deaths  new_tests\n",
       "243  2020-08-30     1444.0         1.0    53541.0\n",
       "244  2020-08-31     1365.0         4.0    42583.0\n",
       "245  2020-09-01      996.0         6.0    54395.0\n",
       "246  2020-09-02      975.0         8.0        NaN\n",
       "247  2020-09-03     1326.0         6.0        NaN"
      ]
     },
     "execution_count": 28,
     "metadata": {},
     "output_type": "execute_result"
    }
   ],
   "source": [
    "url = 'https://raw.githubusercontent.com/Razelbaz1/exercises-package/master/data/datasets_italy-covid-daywise.csv'\n",
    "covid_df = pd.read_csv(url)\n",
    "covid_df.tail()"
   ]
  },
  {
   "cell_type": "markdown",
   "id": "160d1117-aed9-4fe9-9541-a6f8f075afd7",
   "metadata": {},
   "source": [
    "#### We will focus on date column"
   ]
  },
  {
   "cell_type": "code",
   "execution_count": 29,
   "id": "a166b666-ead5-46f8-8d05-269c5cfa109f",
   "metadata": {},
   "outputs": [
    {
     "data": {
      "text/plain": [
       "0      2019-12-31\n",
       "1      2020-01-01\n",
       "2      2020-01-02\n",
       "3      2020-01-03\n",
       "4      2020-01-04\n",
       "          ...    \n",
       "243    2020-08-30\n",
       "244    2020-08-31\n",
       "245    2020-09-01\n",
       "246    2020-09-02\n",
       "247    2020-09-03\n",
       "Name: date, Length: 248, dtype: object"
      ]
     },
     "execution_count": 29,
     "metadata": {},
     "output_type": "execute_result"
    }
   ],
   "source": [
    "covid_df[\"date\"]"
   ]
  },
  {
   "cell_type": "markdown",
   "id": "24b87a8c-a7b6-44e2-8888-11365e65f592",
   "metadata": {},
   "source": [
    "#### note that date type is object. let's convert it to pandas datetime\n",
    "#### for pandas datetime reference and examples: https://pandas.pydata.org/pandas-docs/stable/reference/api/pandas.to_datetime.html\n",
    "#### video tutorial: https://www.youtube.com/watch?v=UFuo7EHI8zc"
   ]
  },
  {
   "cell_type": "code",
   "execution_count": 30,
   "id": "e15a5625-0002-43c3-8e59-81bf38a37284",
   "metadata": {
    "colab": {
     "base_uri": "https://localhost:8080/"
    },
    "executionInfo": {
     "elapsed": 12,
     "status": "ok",
     "timestamp": 1688578153962,
     "user": {
      "displayName": "Shai Tirgulim",
      "userId": "18041892042069420089"
     },
     "user_tz": -180
    },
    "id": "zYMsuGtOthcN",
    "outputId": "1b081520-6267-42a3-da19-f6c3ff4afa90"
   },
   "outputs": [
    {
     "data": {
      "text/plain": [
       "0     2019-12-31\n",
       "1     2020-01-01\n",
       "2     2020-01-02\n",
       "3     2020-01-03\n",
       "4     2020-01-04\n",
       "         ...    \n",
       "243   2020-08-30\n",
       "244   2020-08-31\n",
       "245   2020-09-01\n",
       "246   2020-09-02\n",
       "247   2020-09-03\n",
       "Name: date, Length: 248, dtype: datetime64[ns]"
      ]
     },
     "execution_count": 30,
     "metadata": {},
     "output_type": "execute_result"
    }
   ],
   "source": [
    "covid_df['date'] = pd.to_datetime(covid_df.date)\n",
    "covid_df['date']"
   ]
  },
  {
   "cell_type": "markdown",
   "id": "7dc07dc0-818b-4e5f-82e4-c9a97c244eab",
   "metadata": {
    "id": "ejccW6LOQlzU"
   },
   "source": [
    "#### now we can extract the year,month,day and weekday properties (and much more )"
   ]
  },
  {
   "cell_type": "code",
   "execution_count": 31,
   "id": "163caacf-f939-499e-9fad-c6f199069049",
   "metadata": {
    "colab": {
     "base_uri": "https://localhost:8080/",
     "height": 424
    },
    "executionInfo": {
     "elapsed": 5,
     "status": "ok",
     "timestamp": 1688579126900,
     "user": {
      "displayName": "Shai Tirgulim",
      "userId": "18041892042069420089"
     },
     "user_tz": -180
    },
    "id": "DsFf3S4ithcO",
    "outputId": "a51b2c23-2c42-4329-ab55-ce7d26aa083a"
   },
   "outputs": [
    {
     "data": {
      "text/html": [
       "<div>\n",
       "<style scoped>\n",
       "    .dataframe tbody tr th:only-of-type {\n",
       "        vertical-align: middle;\n",
       "    }\n",
       "\n",
       "    .dataframe tbody tr th {\n",
       "        vertical-align: top;\n",
       "    }\n",
       "\n",
       "    .dataframe thead th {\n",
       "        text-align: right;\n",
       "    }\n",
       "</style>\n",
       "<table border=\"1\" class=\"dataframe\">\n",
       "  <thead>\n",
       "    <tr style=\"text-align: right;\">\n",
       "      <th></th>\n",
       "      <th>date</th>\n",
       "      <th>new_cases</th>\n",
       "      <th>new_deaths</th>\n",
       "      <th>new_tests</th>\n",
       "      <th>year</th>\n",
       "      <th>month</th>\n",
       "      <th>day</th>\n",
       "      <th>weekday</th>\n",
       "    </tr>\n",
       "  </thead>\n",
       "  <tbody>\n",
       "    <tr>\n",
       "      <th>0</th>\n",
       "      <td>2019-12-31</td>\n",
       "      <td>0.0</td>\n",
       "      <td>0.0</td>\n",
       "      <td>NaN</td>\n",
       "      <td>2019</td>\n",
       "      <td>12</td>\n",
       "      <td>31</td>\n",
       "      <td>1</td>\n",
       "    </tr>\n",
       "    <tr>\n",
       "      <th>1</th>\n",
       "      <td>2020-01-01</td>\n",
       "      <td>0.0</td>\n",
       "      <td>0.0</td>\n",
       "      <td>NaN</td>\n",
       "      <td>2020</td>\n",
       "      <td>1</td>\n",
       "      <td>1</td>\n",
       "      <td>2</td>\n",
       "    </tr>\n",
       "    <tr>\n",
       "      <th>2</th>\n",
       "      <td>2020-01-02</td>\n",
       "      <td>0.0</td>\n",
       "      <td>0.0</td>\n",
       "      <td>NaN</td>\n",
       "      <td>2020</td>\n",
       "      <td>1</td>\n",
       "      <td>2</td>\n",
       "      <td>3</td>\n",
       "    </tr>\n",
       "    <tr>\n",
       "      <th>3</th>\n",
       "      <td>2020-01-03</td>\n",
       "      <td>0.0</td>\n",
       "      <td>0.0</td>\n",
       "      <td>NaN</td>\n",
       "      <td>2020</td>\n",
       "      <td>1</td>\n",
       "      <td>3</td>\n",
       "      <td>4</td>\n",
       "    </tr>\n",
       "    <tr>\n",
       "      <th>4</th>\n",
       "      <td>2020-01-04</td>\n",
       "      <td>0.0</td>\n",
       "      <td>0.0</td>\n",
       "      <td>NaN</td>\n",
       "      <td>2020</td>\n",
       "      <td>1</td>\n",
       "      <td>4</td>\n",
       "      <td>5</td>\n",
       "    </tr>\n",
       "    <tr>\n",
       "      <th>...</th>\n",
       "      <td>...</td>\n",
       "      <td>...</td>\n",
       "      <td>...</td>\n",
       "      <td>...</td>\n",
       "      <td>...</td>\n",
       "      <td>...</td>\n",
       "      <td>...</td>\n",
       "      <td>...</td>\n",
       "    </tr>\n",
       "    <tr>\n",
       "      <th>243</th>\n",
       "      <td>2020-08-30</td>\n",
       "      <td>1444.0</td>\n",
       "      <td>1.0</td>\n",
       "      <td>53541.0</td>\n",
       "      <td>2020</td>\n",
       "      <td>8</td>\n",
       "      <td>30</td>\n",
       "      <td>6</td>\n",
       "    </tr>\n",
       "    <tr>\n",
       "      <th>244</th>\n",
       "      <td>2020-08-31</td>\n",
       "      <td>1365.0</td>\n",
       "      <td>4.0</td>\n",
       "      <td>42583.0</td>\n",
       "      <td>2020</td>\n",
       "      <td>8</td>\n",
       "      <td>31</td>\n",
       "      <td>0</td>\n",
       "    </tr>\n",
       "    <tr>\n",
       "      <th>245</th>\n",
       "      <td>2020-09-01</td>\n",
       "      <td>996.0</td>\n",
       "      <td>6.0</td>\n",
       "      <td>54395.0</td>\n",
       "      <td>2020</td>\n",
       "      <td>9</td>\n",
       "      <td>1</td>\n",
       "      <td>1</td>\n",
       "    </tr>\n",
       "    <tr>\n",
       "      <th>246</th>\n",
       "      <td>2020-09-02</td>\n",
       "      <td>975.0</td>\n",
       "      <td>8.0</td>\n",
       "      <td>NaN</td>\n",
       "      <td>2020</td>\n",
       "      <td>9</td>\n",
       "      <td>2</td>\n",
       "      <td>2</td>\n",
       "    </tr>\n",
       "    <tr>\n",
       "      <th>247</th>\n",
       "      <td>2020-09-03</td>\n",
       "      <td>1326.0</td>\n",
       "      <td>6.0</td>\n",
       "      <td>NaN</td>\n",
       "      <td>2020</td>\n",
       "      <td>9</td>\n",
       "      <td>3</td>\n",
       "      <td>3</td>\n",
       "    </tr>\n",
       "  </tbody>\n",
       "</table>\n",
       "<p>248 rows × 8 columns</p>\n",
       "</div>"
      ],
      "text/plain": [
       "          date  new_cases  new_deaths  new_tests  year  month  day  weekday\n",
       "0   2019-12-31        0.0         0.0        NaN  2019     12   31        1\n",
       "1   2020-01-01        0.0         0.0        NaN  2020      1    1        2\n",
       "2   2020-01-02        0.0         0.0        NaN  2020      1    2        3\n",
       "3   2020-01-03        0.0         0.0        NaN  2020      1    3        4\n",
       "4   2020-01-04        0.0         0.0        NaN  2020      1    4        5\n",
       "..         ...        ...         ...        ...   ...    ...  ...      ...\n",
       "243 2020-08-30     1444.0         1.0    53541.0  2020      8   30        6\n",
       "244 2020-08-31     1365.0         4.0    42583.0  2020      8   31        0\n",
       "245 2020-09-01      996.0         6.0    54395.0  2020      9    1        1\n",
       "246 2020-09-02      975.0         8.0        NaN  2020      9    2        2\n",
       "247 2020-09-03     1326.0         6.0        NaN  2020      9    3        3\n",
       "\n",
       "[248 rows x 8 columns]"
      ]
     },
     "execution_count": 31,
     "metadata": {},
     "output_type": "execute_result"
    }
   ],
   "source": [
    "cuvidDateTimeObj = pd.DatetimeIndex(covid_df.date)\n",
    "covid_df['year'] = cuvidDateTimeObj.year\n",
    "covid_df['month'] = cuvidDateTimeObj.month\n",
    "covid_df['day'] = cuvidDateTimeObj.day\n",
    "covid_df['weekday'] = cuvidDateTimeObj.weekday\n",
    "covid_df\n"
   ]
  },
  {
   "cell_type": "markdown",
   "id": "56280f5b-458e-4003-ad97-3b119a585894",
   "metadata": {
    "id": "YCJzWKJGQx1F"
   },
   "source": [
    "#### By using datetime we can present rows of specific dates, for example only August:"
   ]
  },
  {
   "cell_type": "code",
   "execution_count": 32,
   "id": "d1188bd7-f5ae-4914-831d-9e0526dc270f",
   "metadata": {
    "colab": {
     "base_uri": "https://localhost:8080/",
     "height": 206
    },
    "executionInfo": {
     "elapsed": 4,
     "status": "ok",
     "timestamp": 1688579149117,
     "user": {
      "displayName": "Shai Tirgulim",
      "userId": "18041892042069420089"
     },
     "user_tz": -180
    },
    "id": "un8xr42AthcR",
    "outputId": "de5d5f2e-5d44-40bb-967c-31f53bb54c00"
   },
   "outputs": [
    {
     "data": {
      "text/html": [
       "<div>\n",
       "<style scoped>\n",
       "    .dataframe tbody tr th:only-of-type {\n",
       "        vertical-align: middle;\n",
       "    }\n",
       "\n",
       "    .dataframe tbody tr th {\n",
       "        vertical-align: top;\n",
       "    }\n",
       "\n",
       "    .dataframe thead th {\n",
       "        text-align: right;\n",
       "    }\n",
       "</style>\n",
       "<table border=\"1\" class=\"dataframe\">\n",
       "  <thead>\n",
       "    <tr style=\"text-align: right;\">\n",
       "      <th></th>\n",
       "      <th>date</th>\n",
       "      <th>new_cases</th>\n",
       "      <th>new_deaths</th>\n",
       "      <th>new_tests</th>\n",
       "      <th>year</th>\n",
       "      <th>month</th>\n",
       "      <th>day</th>\n",
       "      <th>weekday</th>\n",
       "    </tr>\n",
       "  </thead>\n",
       "  <tbody>\n",
       "    <tr>\n",
       "      <th>240</th>\n",
       "      <td>2020-08-27</td>\n",
       "      <td>1366.0</td>\n",
       "      <td>13.0</td>\n",
       "      <td>57640.0</td>\n",
       "      <td>2020</td>\n",
       "      <td>8</td>\n",
       "      <td>27</td>\n",
       "      <td>3</td>\n",
       "    </tr>\n",
       "    <tr>\n",
       "      <th>241</th>\n",
       "      <td>2020-08-28</td>\n",
       "      <td>1409.0</td>\n",
       "      <td>5.0</td>\n",
       "      <td>65135.0</td>\n",
       "      <td>2020</td>\n",
       "      <td>8</td>\n",
       "      <td>28</td>\n",
       "      <td>4</td>\n",
       "    </tr>\n",
       "    <tr>\n",
       "      <th>242</th>\n",
       "      <td>2020-08-29</td>\n",
       "      <td>1460.0</td>\n",
       "      <td>9.0</td>\n",
       "      <td>64294.0</td>\n",
       "      <td>2020</td>\n",
       "      <td>8</td>\n",
       "      <td>29</td>\n",
       "      <td>5</td>\n",
       "    </tr>\n",
       "    <tr>\n",
       "      <th>243</th>\n",
       "      <td>2020-08-30</td>\n",
       "      <td>1444.0</td>\n",
       "      <td>1.0</td>\n",
       "      <td>53541.0</td>\n",
       "      <td>2020</td>\n",
       "      <td>8</td>\n",
       "      <td>30</td>\n",
       "      <td>6</td>\n",
       "    </tr>\n",
       "    <tr>\n",
       "      <th>244</th>\n",
       "      <td>2020-08-31</td>\n",
       "      <td>1365.0</td>\n",
       "      <td>4.0</td>\n",
       "      <td>42583.0</td>\n",
       "      <td>2020</td>\n",
       "      <td>8</td>\n",
       "      <td>31</td>\n",
       "      <td>0</td>\n",
       "    </tr>\n",
       "  </tbody>\n",
       "</table>\n",
       "</div>"
      ],
      "text/plain": [
       "          date  new_cases  new_deaths  new_tests  year  month  day  weekday\n",
       "240 2020-08-27     1366.0        13.0    57640.0  2020      8   27        3\n",
       "241 2020-08-28     1409.0         5.0    65135.0  2020      8   28        4\n",
       "242 2020-08-29     1460.0         9.0    64294.0  2020      8   29        5\n",
       "243 2020-08-30     1444.0         1.0    53541.0  2020      8   30        6\n",
       "244 2020-08-31     1365.0         4.0    42583.0  2020      8   31        0"
      ]
     },
     "execution_count": 32,
     "metadata": {},
     "output_type": "execute_result"
    }
   ],
   "source": [
    "covid_df_august = covid_df[covid_df.month == 8]\n",
    "covid_df_august.tail()"
   ]
  },
  {
   "cell_type": "code",
   "execution_count": 33,
   "id": "3f8d5134-df30-4280-b4f6-afe0e5054fe4",
   "metadata": {
    "colab": {
     "base_uri": "https://localhost:8080/"
    },
    "executionInfo": {
     "elapsed": 276,
     "status": "ok",
     "timestamp": 1688579431596,
     "user": {
      "displayName": "Shai Tirgulim",
      "userId": "18041892042069420089"
     },
     "user_tz": -180
    },
    "id": "_kqIv1inthch",
    "outputId": "479e9a55-4038-4235-cd9f-36d6d4a4aeb6"
   },
   "outputs": [
    {
     "name": "stdout",
     "output_type": "stream",
     "text": [
      "2023-09-11\n"
     ]
    }
   ],
   "source": [
    "# print todays date in pandas:\n",
    "# import pandas as pd\n",
    "from datetime import date # get python datetime\n",
    "print(date.today())"
   ]
  },
  {
   "cell_type": "code",
   "execution_count": 34,
   "id": "c17d324d-cc33-4111-95d4-7d9c3595d169",
   "metadata": {
    "executionInfo": {
     "elapsed": 26,
     "status": "ok",
     "timestamp": 1688578154454,
     "user": {
      "displayName": "Shai Tirgulim",
      "userId": "18041892042069420089"
     },
     "user_tz": -180
    },
    "id": "NbAcSPTCthci"
   },
   "outputs": [],
   "source": [
    "# self learning:.\n",
    "# 1. calculate total deaths in May at the above 'italy-covid-daywise.csv' url\n",
    "# 2. python pandas datetime excercises (with solutions):\n",
    "# https://www.w3resource.com/python-exercises/pandas/datetime/index.php\n",
    "\n",
    "# Read tirgul 5 on SeaBorn (not matplotlib)"
   ]
  },
  {
   "cell_type": "code",
   "execution_count": 35,
   "id": "ec5940af-a6cd-4be6-8984-a544e67f8378",
   "metadata": {
    "colab": {
     "base_uri": "https://localhost:8080/"
    },
    "executionInfo": {
     "elapsed": 28,
     "status": "ok",
     "timestamp": 1688578154456,
     "user": {
      "displayName": "Shai Tirgulim",
      "userId": "18041892042069420089"
     },
     "user_tz": -180
    },
    "id": "_IlG3Pi5thcj",
    "outputId": "3879e0f1-ac44-441d-fe38-41b24eb7c853"
   },
   "outputs": [
    {
     "name": "stdout",
     "output_type": "stream",
     "text": [
      "total deaths in May:  5658.0\n"
     ]
    }
   ],
   "source": [
    "\n",
    "\n",
    "\n",
    "\n",
    "\n",
    "\n",
    "\n",
    "\n",
    "\n",
    "\n",
    "\n",
    "# solution 1\n",
    "import pandas as pd\n",
    "url = 'https://raw.githubusercontent.com/nlihin/data-analytics/main/datasets/italy-covid-daywise.csv'\n",
    "covid_df = pd.read_csv(url)\n",
    "covid_df['date'] = pd.to_datetime(covid_df.date)\n",
    "covid_df['month'] = pd.DatetimeIndex(covid_df.date).month\n",
    "totalDeathsInMay = covid_df[covid_df.month == 5]['new_deaths'].sum()\n",
    "print('total deaths in May: ',totalDeathsInMay)"
   ]
  },
  {
   "cell_type": "markdown",
   "id": "1d7cc3a4-2491-4f1c-a63d-d22c00e34146",
   "metadata": {},
   "source": [
    "### [▲](#Top)\n",
    "---"
   ]
  },
  {
   "cell_type": "markdown",
   "id": "1934e292-ede1-4df4-a8ab-9804a045b993",
   "metadata": {},
   "source": [
    "<a id='section6'></a>\n",
    "# Boxplot"
   ]
  },
  {
   "cell_type": "markdown",
   "id": "af0a4b99-8b53-4683-b1f9-c4c4c0f3cb30",
   "metadata": {},
   "source": [
    "Check the [matplotlib documentation](https://matplotlib.org/api/_as_gen/matplotlib.pyplot.boxplot.html) for even more styling options"
   ]
  },
  {
   "cell_type": "markdown",
   "id": "8be0191d-bad1-4c11-a748-2011100b6ed0",
   "metadata": {},
   "source": [
    "<a id='section1'></a>\n",
    "\n",
    "<div class=\"image-container\">\n",
    "  <img src= \"https://github.com/Razelbaz1/exercises-package/blob/master/pics/boxplot.png?raw=true\"\n",
    "    alt=\"Centered Image\" width=\"800\" height=\"200\" /> </div>\n"
   ]
  },
  {
   "cell_type": "code",
   "execution_count": 36,
   "id": "2c68df90-8a29-4836-9e1f-9dae39d40603",
   "metadata": {},
   "outputs": [],
   "source": [
    "import seaborn as sns  # for creating the graphs\n",
    "import matplotlib.pyplot as plt  #for reshaping graph size\n",
    "import numpy as np\n",
    "import random"
   ]
  },
  {
   "cell_type": "markdown",
   "id": "72251db8-952d-4cc8-81dc-c7a69c709ec3",
   "metadata": {},
   "source": [
    "## Motivation"
   ]
  },
  {
   "cell_type": "code",
   "execution_count": 37,
   "id": "bc7055a3-7647-4af7-bacc-36a9c7ad7fa0",
   "metadata": {},
   "outputs": [
    {
     "name": "stdout",
     "output_type": "stream",
     "text": [
      "DataFrame 1:\n",
      "    ID        Name  Grade\n",
      "0    1   Student 1     72\n",
      "1    2   Student 2     75\n",
      "2    3   Student 3     81\n",
      "3    4   Student 4     60\n",
      "4    5   Student 5     63\n",
      "5    6   Student 6     87\n",
      "6    7   Student 7     63\n",
      "7    8   Student 8     67\n",
      "8    9   Student 9     69\n",
      "9   10  Student 10     79\n",
      "10  11  Student 11     81\n",
      "11  12  Student 12     78\n",
      "12  13  Student 13     64\n",
      "13  14  Student 14     83\n",
      "14  15  Student 15     66\n",
      "15  16  Student 16     84\n",
      "16  17  Student 17     84\n",
      "17  18  Student 18     72\n",
      "18  19  Student 19     86\n",
      "19  20  Student 20     61\n",
      "20  21  Student 21     66\n",
      "21  22  Student 22     67\n",
      "22  23  Student 23     83\n",
      "23  24  Student 24     74\n",
      "24  25  Student 25     84\n",
      "25  26  Student 26     77\n",
      "26  27  Student 27     65\n",
      "27  28  Student 28     85\n",
      "28  29  Student 29     73\n",
      "29  30  Student 30     68\n",
      "30  31  Student 31     69\n",
      "31  32  Student 32     80\n",
      "32  33  Student 33     79\n",
      "33  34  Student 34     76\n",
      "34  35  Student 35     79\n",
      "35  36  Student 36     65\n",
      "36  37  Student 37     75\n",
      "37  38  Student 38     75\n",
      "38  39  Student 39     60\n",
      "39  40  Student 40     78\n",
      "40  41  Student 41     63\n",
      "41  42  Student 42     84\n",
      "42  43  Student 43     77\n",
      "43  44  Student 44     79\n",
      "44  45  Student 45     89\n",
      "45  46  Student 46     79\n",
      "46  47  Student 47     79\n",
      "47  48  Student 48     74\n",
      "48  49  Student 49     67\n",
      "49  50  Student 50     60\n",
      "50  51  Student 51     61\n",
      "51  52  Student 52     69\n",
      "52  53  Student 53     85\n",
      "53  54  Student 54     60\n",
      "54  55  Student 55     70\n",
      "55  56  Student 56     80\n",
      "56  57  Student 57     83\n",
      "57  58  Student 58     63\n",
      "58  59  Student 59     71\n",
      "59  60  Student 60     78\n",
      "60  61  Student 61     83\n",
      "61  62  Student 62     88\n",
      "62  63  Student 63     62\n",
      "63  64  Student 64     60\n",
      "64  65  Student 65     60\n",
      "65  66  Student 66     64\n",
      "66  67  Student 67     81\n",
      "67  68  Student 68     65\n",
      "68  69  Student 69     66\n",
      "69  70  Student 70     68\n",
      "70  71  Student 71     80\n",
      "71  72  Student 72     77\n",
      "72  73  Student 73     75\n",
      "73  74  Student 74     64\n",
      "74  75  Student 75     69\n",
      "75  76  Student 76     70\n",
      "76  77  Student 77     86\n",
      "77  78  Student 78     84\n",
      "78  79  Student 79     61\n",
      "79  80  Student 80     61\n",
      "\n",
      "DataFrame 2:\n",
      "    ID        Name  Grade\n",
      "0    1   Student 1     55\n",
      "1    2   Student 2     99\n",
      "2    3   Student 3     50\n",
      "3    4   Student 4     99\n",
      "4    5   Student 5     95\n",
      "5    6   Student 6     92\n",
      "6    7   Student 7     48\n",
      "7    8   Student 8     93\n",
      "8    9   Student 9     57\n",
      "9   10  Student 10     52\n",
      "10  11  Student 11     90\n",
      "11  12  Student 12     94\n",
      "12  13  Student 13     99\n",
      "13  14  Student 14     49\n",
      "14  15  Student 15     49\n",
      "15  16  Student 16     99\n",
      "16  17  Student 17     97\n",
      "17  18  Student 18     48\n",
      "18  19  Student 19     53\n",
      "19  20  Student 20     93\n",
      "20  21  Student 21     97\n",
      "21  22  Student 22     99\n",
      "22  23  Student 23     93\n",
      "23  24  Student 24     40\n",
      "24  25  Student 25     54\n",
      "25  26  Student 26     41\n",
      "26  27  Student 27     57\n",
      "27  28  Student 28     95\n",
      "28  29  Student 29     94\n",
      "29  30  Student 30     40\n",
      "30  31  Student 31     51\n",
      "31  32  Student 32     98\n",
      "32  33  Student 33     45\n",
      "33  34  Student 34     44\n",
      "34  35  Student 35     55\n",
      "35  36  Student 36     99\n",
      "36  37  Student 37     51\n",
      "37  38  Student 38     97\n",
      "38  39  Student 39     97\n",
      "39  40  Student 40     45\n",
      "40  41  Student 41     58\n",
      "41  42  Student 42     52\n",
      "42  43  Student 43     53\n",
      "43  44  Student 44     56\n",
      "44  45  Student 45     51\n",
      "45  46  Student 46     46\n",
      "46  47  Student 47     96\n",
      "47  48  Student 48     49\n",
      "48  49  Student 49     58\n",
      "49  50  Student 50     96\n",
      "50  51  Student 51     91\n",
      "51  52  Student 52     92\n",
      "52  53  Student 53     47\n",
      "53  54  Student 54     90\n",
      "54  55  Student 55     99\n",
      "55  56  Student 56     93\n",
      "56  57  Student 57     93\n",
      "57  58  Student 58     96\n",
      "58  59  Student 59     92\n",
      "59  60  Student 60     50\n",
      "60  61  Student 61     59\n",
      "61  62  Student 62     47\n",
      "62  63  Student 63     91\n",
      "63  64  Student 64     94\n",
      "64  65  Student 65     97\n",
      "65  66  Student 66     90\n",
      "66  67  Student 67     97\n",
      "67  68  Student 68     48\n",
      "68  69  Student 69     49\n",
      "69  70  Student 70     45\n",
      "70  71  Student 71     94\n",
      "71  72  Student 72     93\n",
      "72  73  Student 73     98\n",
      "73  74  Student 74     47\n",
      "74  75  Student 75     58\n",
      "75  76  Student 76     97\n",
      "76  77  Student 77     53\n",
      "77  78  Student 78     41\n",
      "78  79  Student 79     40\n",
      "79  80  Student 80     98\n"
     ]
    }
   ],
   "source": [
    "# Creating a first DataFrame with the relative distribution of scores in the center and an average of 75\n",
    "np.random.seed(0)\n",
    "num_students = 80\n",
    "grades = np.random.randint(60, 90, num_students)  # grade range 60-89\n",
    "student_ids = range(1, num_students + 1)\n",
    "names = ['Student ' + str(i) for i in range(1, num_students + 1)]\n",
    "df1 = pd.DataFrame({'ID': student_ids, 'Name': names, 'Grade': grades})\n",
    "\n",
    "# Creating a second DataFrame with the distribution of scores at the edges and an average of 75\n",
    "np.random.seed(1)\n",
    "grades_low = np.random.randint(40, 60, num_students // 2)  # grade range  40-59\n",
    "grades_high = np.random.randint(90, 100, num_students // 2)  # grade range  90-99\n",
    "grades = np.concatenate((grades_low, grades_high))\n",
    "random.shuffle(grades)  # shuffle grades\n",
    "df2 = pd.DataFrame({'ID': student_ids, 'Name': names, 'Grade': grades})\n",
    "\n",
    "print(\"DataFrame 1:\")\n",
    "print(df1)\n",
    "print(\"\\nDataFrame 2:\")\n",
    "print(df2)\n"
   ]
  },
  {
   "cell_type": "code",
   "execution_count": 38,
   "id": "2bd682bf-8f8b-475e-9fce-e00e53d1a9ee",
   "metadata": {},
   "outputs": [
    {
     "data": {
      "image/png": "[encoded data removed]",
      "text/plain": [
       "<Figure size 864x288 with 2 Axes>"
      ]
     },
     "metadata": {
      "needs_background": "light"
     },
     "output_type": "display_data"
    }
   ],
   "source": [
    "fig, ax = plt.subplots(1,2, figsize = (12,4))\n",
    "plt.subplots_adjust(wspace = 0.5)\n",
    "\n",
    "# Create histograms for the 'Grade' column in df1 and df2 with titles\n",
    "sns.histplot(data = df1, x = 'Grade', ax = ax[0], bins=30)\n",
    "ax[0].set_title('Histogram of Grades in df1')\n",
    "\n",
    "sns.histplot(data = df2, x = 'Grade', ax = ax[1], bins=30)\n",
    "ax[1].set_title('Histogram of Grades in df2')\n",
    "\n",
    "plt.show()"
   ]
  },
  {
   "cell_type": "markdown",
   "id": "a803f5a9-ff14-4d7e-9fe0-8d8647124b41",
   "metadata": {},
   "source": [
    "#### Let's look at the statistics for each table, but we'll want to look at the data so that it's convenient for us to look at both at the same time - we'll add them together."
   ]
  },
  {
   "cell_type": "code",
   "execution_count": 39,
   "id": "c4dedd5e-e486-4570-bd0e-f18a7923d3df",
   "metadata": {},
   "outputs": [],
   "source": [
    "# Change column name from 'Grade' in-`df1` to 'grade_df1'\n",
    "df1.rename(columns={'Grade': 'grade_df1'}, inplace=True)\n",
    "\n",
    "# Change column name from 'Grade' in-`df2` to 'grade_df2'\n",
    "df2.rename(columns={'Grade': 'grade_df2'}, inplace=True)"
   ]
  },
  {
   "cell_type": "code",
   "execution_count": 40,
   "id": "8650382b-3f97-46a9-bc71-60443091bf46",
   "metadata": {},
   "outputs": [
    {
     "name": "stdout",
     "output_type": "stream",
     "text": [
      "     ID        Name  grade_df1  grade_df2\n",
      "0     1   Student 1       72.0        NaN\n",
      "1     2   Student 2       75.0        NaN\n",
      "2     3   Student 3       81.0        NaN\n",
      "3     4   Student 4       60.0        NaN\n",
      "4     5   Student 5       63.0        NaN\n",
      "..   ..         ...        ...        ...\n",
      "155  76  Student 76        NaN       97.0\n",
      "156  77  Student 77        NaN       53.0\n",
      "157  78  Student 78        NaN       41.0\n",
      "158  79  Student 79        NaN       40.0\n",
      "159  80  Student 80        NaN       98.0\n",
      "\n",
      "[160 rows x 4 columns]\n"
     ]
    }
   ],
   "source": [
    "\n",
    "# merge the data frames \n",
    "merged_df = pd.concat([df1, df2], ignore_index=True)\n",
    "\n",
    "# print merge df \n",
    "print(merged_df)\n"
   ]
  },
  {
   "cell_type": "code",
   "execution_count": 41,
   "id": "a39b6ae9-5b48-447b-b78f-ed3def2184b0",
   "metadata": {},
   "outputs": [
    {
     "data": {
      "text/html": [
       "<div>\n",
       "<style scoped>\n",
       "    .dataframe tbody tr th:only-of-type {\n",
       "        vertical-align: middle;\n",
       "    }\n",
       "\n",
       "    .dataframe tbody tr th {\n",
       "        vertical-align: top;\n",
       "    }\n",
       "\n",
       "    .dataframe thead th {\n",
       "        text-align: right;\n",
       "    }\n",
       "</style>\n",
       "<table border=\"1\" class=\"dataframe\">\n",
       "  <thead>\n",
       "    <tr style=\"text-align: right;\">\n",
       "      <th></th>\n",
       "      <th>ID</th>\n",
       "      <th>grade_df1</th>\n",
       "      <th>grade_df2</th>\n",
       "    </tr>\n",
       "  </thead>\n",
       "  <tbody>\n",
       "    <tr>\n",
       "      <th>count</th>\n",
       "      <td>160.00000</td>\n",
       "      <td>80.00000</td>\n",
       "      <td>80.000000</td>\n",
       "    </tr>\n",
       "    <tr>\n",
       "      <th>mean</th>\n",
       "      <td>40.50000</td>\n",
       "      <td>73.10000</td>\n",
       "      <td>72.462500</td>\n",
       "    </tr>\n",
       "    <tr>\n",
       "      <th>std</th>\n",
       "      <td>23.16471</td>\n",
       "      <td>8.67938</td>\n",
       "      <td>23.235146</td>\n",
       "    </tr>\n",
       "    <tr>\n",
       "      <th>min</th>\n",
       "      <td>1.00000</td>\n",
       "      <td>60.00000</td>\n",
       "      <td>40.000000</td>\n",
       "    </tr>\n",
       "    <tr>\n",
       "      <th>25%</th>\n",
       "      <td>20.75000</td>\n",
       "      <td>65.00000</td>\n",
       "      <td>49.750000</td>\n",
       "    </tr>\n",
       "    <tr>\n",
       "      <th>50%</th>\n",
       "      <td>40.50000</td>\n",
       "      <td>74.00000</td>\n",
       "      <td>74.500000</td>\n",
       "    </tr>\n",
       "    <tr>\n",
       "      <th>75%</th>\n",
       "      <td>60.25000</td>\n",
       "      <td>80.00000</td>\n",
       "      <td>95.250000</td>\n",
       "    </tr>\n",
       "    <tr>\n",
       "      <th>max</th>\n",
       "      <td>80.00000</td>\n",
       "      <td>89.00000</td>\n",
       "      <td>99.000000</td>\n",
       "    </tr>\n",
       "  </tbody>\n",
       "</table>\n",
       "</div>"
      ],
      "text/plain": [
       "              ID  grade_df1  grade_df2\n",
       "count  160.00000   80.00000  80.000000\n",
       "mean    40.50000   73.10000  72.462500\n",
       "std     23.16471    8.67938  23.235146\n",
       "min      1.00000   60.00000  40.000000\n",
       "25%     20.75000   65.00000  49.750000\n",
       "50%     40.50000   74.00000  74.500000\n",
       "75%     60.25000   80.00000  95.250000\n",
       "max     80.00000   89.00000  99.000000"
      ]
     },
     "execution_count": 41,
     "metadata": {},
     "output_type": "execute_result"
    }
   ],
   "source": [
    "merged_df.describe()"
   ]
  },
  {
   "cell_type": "code",
   "execution_count": 42,
   "id": "47ede73e-cfdc-4687-8a7f-460873b01463",
   "metadata": {},
   "outputs": [],
   "source": [
    "#df1.describe()"
   ]
  },
  {
   "cell_type": "code",
   "execution_count": 43,
   "id": "9bc776ca-d625-4397-9482-d9f5510de8f4",
   "metadata": {},
   "outputs": [],
   "source": [
    "#df2.describe()"
   ]
  },
  {
   "cell_type": "code",
   "execution_count": 44,
   "id": "14da4dac-562d-4048-b786-0afe67d02f0c",
   "metadata": {},
   "outputs": [],
   "source": [
    "import pandas as pd\n",
    "\n",
    "# list of grades\n",
    "grades_to_calculate = [i  for i in range(60,90)]\n",
    "\n",
    "# new data frame for calculation\n",
    "results_df = pd.DataFrame({'Grade': grades_to_calculate})\n",
    "\n",
    "# \n",
    "results_df['Frequency'] = [len(df1[df1['grade_df1'] == grade]) for grade in grades_to_calculate]\n",
    "results_df['Relative Frequency'] = results_df['Frequency'] / len(df1)\n",
    "results_df['Cumulative Relative Frequency'] = results_df['Relative Frequency'].cumsum()\n",
    "\n",
    "# final result"
   ]
  },
  {
   "cell_type": "code",
   "execution_count": 45,
   "id": "018cbc5a-e50c-4872-8882-a79c884b0023",
   "metadata": {},
   "outputs": [
    {
     "data": {
      "text/html": [
       "<style type=\"text/css\">\n",
       "#T_499d9_row5_col0, #T_499d9_row5_col1, #T_499d9_row5_col2, #T_499d9_row5_col3, #T_499d9_row20_col0, #T_499d9_row20_col1, #T_499d9_row20_col2, #T_499d9_row20_col3 {\n",
       "  background-color: yellow;\n",
       "}\n",
       "</style>\n",
       "<table id=\"T_499d9\">\n",
       "  <thead>\n",
       "    <tr>\n",
       "      <th class=\"blank level0\" >&nbsp;</th>\n",
       "      <th id=\"T_499d9_level0_col0\" class=\"col_heading level0 col0\" >Grade</th>\n",
       "      <th id=\"T_499d9_level0_col1\" class=\"col_heading level0 col1\" >Frequency</th>\n",
       "      <th id=\"T_499d9_level0_col2\" class=\"col_heading level0 col2\" >Relative Frequency</th>\n",
       "      <th id=\"T_499d9_level0_col3\" class=\"col_heading level0 col3\" >Cumulative Relative Frequency</th>\n",
       "    </tr>\n",
       "  </thead>\n",
       "  <tbody>\n",
       "    <tr>\n",
       "      <th id=\"T_499d9_level0_row0\" class=\"row_heading level0 row0\" >0</th>\n",
       "      <td id=\"T_499d9_row0_col0\" class=\"data row0 col0\" >60</td>\n",
       "      <td id=\"T_499d9_row0_col1\" class=\"data row0 col1\" >6</td>\n",
       "      <td id=\"T_499d9_row0_col2\" class=\"data row0 col2\" >0.075000</td>\n",
       "      <td id=\"T_499d9_row0_col3\" class=\"data row0 col3\" >0.075000</td>\n",
       "    </tr>\n",
       "    <tr>\n",
       "      <th id=\"T_499d9_level0_row1\" class=\"row_heading level0 row1\" >1</th>\n",
       "      <td id=\"T_499d9_row1_col0\" class=\"data row1 col0\" >61</td>\n",
       "      <td id=\"T_499d9_row1_col1\" class=\"data row1 col1\" >4</td>\n",
       "      <td id=\"T_499d9_row1_col2\" class=\"data row1 col2\" >0.050000</td>\n",
       "      <td id=\"T_499d9_row1_col3\" class=\"data row1 col3\" >0.125000</td>\n",
       "    </tr>\n",
       "    <tr>\n",
       "      <th id=\"T_499d9_level0_row2\" class=\"row_heading level0 row2\" >2</th>\n",
       "      <td id=\"T_499d9_row2_col0\" class=\"data row2 col0\" >62</td>\n",
       "      <td id=\"T_499d9_row2_col1\" class=\"data row2 col1\" >1</td>\n",
       "      <td id=\"T_499d9_row2_col2\" class=\"data row2 col2\" >0.012500</td>\n",
       "      <td id=\"T_499d9_row2_col3\" class=\"data row2 col3\" >0.137500</td>\n",
       "    </tr>\n",
       "    <tr>\n",
       "      <th id=\"T_499d9_level0_row3\" class=\"row_heading level0 row3\" >3</th>\n",
       "      <td id=\"T_499d9_row3_col0\" class=\"data row3 col0\" >63</td>\n",
       "      <td id=\"T_499d9_row3_col1\" class=\"data row3 col1\" >4</td>\n",
       "      <td id=\"T_499d9_row3_col2\" class=\"data row3 col2\" >0.050000</td>\n",
       "      <td id=\"T_499d9_row3_col3\" class=\"data row3 col3\" >0.187500</td>\n",
       "    </tr>\n",
       "    <tr>\n",
       "      <th id=\"T_499d9_level0_row4\" class=\"row_heading level0 row4\" >4</th>\n",
       "      <td id=\"T_499d9_row4_col0\" class=\"data row4 col0\" >64</td>\n",
       "      <td id=\"T_499d9_row4_col1\" class=\"data row4 col1\" >3</td>\n",
       "      <td id=\"T_499d9_row4_col2\" class=\"data row4 col2\" >0.037500</td>\n",
       "      <td id=\"T_499d9_row4_col3\" class=\"data row4 col3\" >0.225000</td>\n",
       "    </tr>\n",
       "    <tr>\n",
       "      <th id=\"T_499d9_level0_row5\" class=\"row_heading level0 row5\" >5</th>\n",
       "      <td id=\"T_499d9_row5_col0\" class=\"data row5 col0\" >65</td>\n",
       "      <td id=\"T_499d9_row5_col1\" class=\"data row5 col1\" >3</td>\n",
       "      <td id=\"T_499d9_row5_col2\" class=\"data row5 col2\" >0.037500</td>\n",
       "      <td id=\"T_499d9_row5_col3\" class=\"data row5 col3\" >0.262500</td>\n",
       "    </tr>\n",
       "    <tr>\n",
       "      <th id=\"T_499d9_level0_row6\" class=\"row_heading level0 row6\" >6</th>\n",
       "      <td id=\"T_499d9_row6_col0\" class=\"data row6 col0\" >66</td>\n",
       "      <td id=\"T_499d9_row6_col1\" class=\"data row6 col1\" >3</td>\n",
       "      <td id=\"T_499d9_row6_col2\" class=\"data row6 col2\" >0.037500</td>\n",
       "      <td id=\"T_499d9_row6_col3\" class=\"data row6 col3\" >0.300000</td>\n",
       "    </tr>\n",
       "    <tr>\n",
       "      <th id=\"T_499d9_level0_row7\" class=\"row_heading level0 row7\" >7</th>\n",
       "      <td id=\"T_499d9_row7_col0\" class=\"data row7 col0\" >67</td>\n",
       "      <td id=\"T_499d9_row7_col1\" class=\"data row7 col1\" >3</td>\n",
       "      <td id=\"T_499d9_row7_col2\" class=\"data row7 col2\" >0.037500</td>\n",
       "      <td id=\"T_499d9_row7_col3\" class=\"data row7 col3\" >0.337500</td>\n",
       "    </tr>\n",
       "    <tr>\n",
       "      <th id=\"T_499d9_level0_row8\" class=\"row_heading level0 row8\" >8</th>\n",
       "      <td id=\"T_499d9_row8_col0\" class=\"data row8 col0\" >68</td>\n",
       "      <td id=\"T_499d9_row8_col1\" class=\"data row8 col1\" >2</td>\n",
       "      <td id=\"T_499d9_row8_col2\" class=\"data row8 col2\" >0.025000</td>\n",
       "      <td id=\"T_499d9_row8_col3\" class=\"data row8 col3\" >0.362500</td>\n",
       "    </tr>\n",
       "    <tr>\n",
       "      <th id=\"T_499d9_level0_row9\" class=\"row_heading level0 row9\" >9</th>\n",
       "      <td id=\"T_499d9_row9_col0\" class=\"data row9 col0\" >69</td>\n",
       "      <td id=\"T_499d9_row9_col1\" class=\"data row9 col1\" >4</td>\n",
       "      <td id=\"T_499d9_row9_col2\" class=\"data row9 col2\" >0.050000</td>\n",
       "      <td id=\"T_499d9_row9_col3\" class=\"data row9 col3\" >0.412500</td>\n",
       "    </tr>\n",
       "    <tr>\n",
       "      <th id=\"T_499d9_level0_row10\" class=\"row_heading level0 row10\" >10</th>\n",
       "      <td id=\"T_499d9_row10_col0\" class=\"data row10 col0\" >70</td>\n",
       "      <td id=\"T_499d9_row10_col1\" class=\"data row10 col1\" >2</td>\n",
       "      <td id=\"T_499d9_row10_col2\" class=\"data row10 col2\" >0.025000</td>\n",
       "      <td id=\"T_499d9_row10_col3\" class=\"data row10 col3\" >0.437500</td>\n",
       "    </tr>\n",
       "    <tr>\n",
       "      <th id=\"T_499d9_level0_row11\" class=\"row_heading level0 row11\" >11</th>\n",
       "      <td id=\"T_499d9_row11_col0\" class=\"data row11 col0\" >71</td>\n",
       "      <td id=\"T_499d9_row11_col1\" class=\"data row11 col1\" >1</td>\n",
       "      <td id=\"T_499d9_row11_col2\" class=\"data row11 col2\" >0.012500</td>\n",
       "      <td id=\"T_499d9_row11_col3\" class=\"data row11 col3\" >0.450000</td>\n",
       "    </tr>\n",
       "    <tr>\n",
       "      <th id=\"T_499d9_level0_row12\" class=\"row_heading level0 row12\" >12</th>\n",
       "      <td id=\"T_499d9_row12_col0\" class=\"data row12 col0\" >72</td>\n",
       "      <td id=\"T_499d9_row12_col1\" class=\"data row12 col1\" >2</td>\n",
       "      <td id=\"T_499d9_row12_col2\" class=\"data row12 col2\" >0.025000</td>\n",
       "      <td id=\"T_499d9_row12_col3\" class=\"data row12 col3\" >0.475000</td>\n",
       "    </tr>\n",
       "    <tr>\n",
       "      <th id=\"T_499d9_level0_row13\" class=\"row_heading level0 row13\" >13</th>\n",
       "      <td id=\"T_499d9_row13_col0\" class=\"data row13 col0\" >73</td>\n",
       "      <td id=\"T_499d9_row13_col1\" class=\"data row13 col1\" >1</td>\n",
       "      <td id=\"T_499d9_row13_col2\" class=\"data row13 col2\" >0.012500</td>\n",
       "      <td id=\"T_499d9_row13_col3\" class=\"data row13 col3\" >0.487500</td>\n",
       "    </tr>\n",
       "    <tr>\n",
       "      <th id=\"T_499d9_level0_row14\" class=\"row_heading level0 row14\" >14</th>\n",
       "      <td id=\"T_499d9_row14_col0\" class=\"data row14 col0\" >74</td>\n",
       "      <td id=\"T_499d9_row14_col1\" class=\"data row14 col1\" >2</td>\n",
       "      <td id=\"T_499d9_row14_col2\" class=\"data row14 col2\" >0.025000</td>\n",
       "      <td id=\"T_499d9_row14_col3\" class=\"data row14 col3\" >0.512500</td>\n",
       "    </tr>\n",
       "    <tr>\n",
       "      <th id=\"T_499d9_level0_row15\" class=\"row_heading level0 row15\" >15</th>\n",
       "      <td id=\"T_499d9_row15_col0\" class=\"data row15 col0\" >75</td>\n",
       "      <td id=\"T_499d9_row15_col1\" class=\"data row15 col1\" >4</td>\n",
       "      <td id=\"T_499d9_row15_col2\" class=\"data row15 col2\" >0.050000</td>\n",
       "      <td id=\"T_499d9_row15_col3\" class=\"data row15 col3\" >0.562500</td>\n",
       "    </tr>\n",
       "    <tr>\n",
       "      <th id=\"T_499d9_level0_row16\" class=\"row_heading level0 row16\" >16</th>\n",
       "      <td id=\"T_499d9_row16_col0\" class=\"data row16 col0\" >76</td>\n",
       "      <td id=\"T_499d9_row16_col1\" class=\"data row16 col1\" >1</td>\n",
       "      <td id=\"T_499d9_row16_col2\" class=\"data row16 col2\" >0.012500</td>\n",
       "      <td id=\"T_499d9_row16_col3\" class=\"data row16 col3\" >0.575000</td>\n",
       "    </tr>\n",
       "    <tr>\n",
       "      <th id=\"T_499d9_level0_row17\" class=\"row_heading level0 row17\" >17</th>\n",
       "      <td id=\"T_499d9_row17_col0\" class=\"data row17 col0\" >77</td>\n",
       "      <td id=\"T_499d9_row17_col1\" class=\"data row17 col1\" >3</td>\n",
       "      <td id=\"T_499d9_row17_col2\" class=\"data row17 col2\" >0.037500</td>\n",
       "      <td id=\"T_499d9_row17_col3\" class=\"data row17 col3\" >0.612500</td>\n",
       "    </tr>\n",
       "    <tr>\n",
       "      <th id=\"T_499d9_level0_row18\" class=\"row_heading level0 row18\" >18</th>\n",
       "      <td id=\"T_499d9_row18_col0\" class=\"data row18 col0\" >78</td>\n",
       "      <td id=\"T_499d9_row18_col1\" class=\"data row18 col1\" >3</td>\n",
       "      <td id=\"T_499d9_row18_col2\" class=\"data row18 col2\" >0.037500</td>\n",
       "      <td id=\"T_499d9_row18_col3\" class=\"data row18 col3\" >0.650000</td>\n",
       "    </tr>\n",
       "    <tr>\n",
       "      <th id=\"T_499d9_level0_row19\" class=\"row_heading level0 row19\" >19</th>\n",
       "      <td id=\"T_499d9_row19_col0\" class=\"data row19 col0\" >79</td>\n",
       "      <td id=\"T_499d9_row19_col1\" class=\"data row19 col1\" >6</td>\n",
       "      <td id=\"T_499d9_row19_col2\" class=\"data row19 col2\" >0.075000</td>\n",
       "      <td id=\"T_499d9_row19_col3\" class=\"data row19 col3\" >0.725000</td>\n",
       "    </tr>\n",
       "    <tr>\n",
       "      <th id=\"T_499d9_level0_row20\" class=\"row_heading level0 row20\" >20</th>\n",
       "      <td id=\"T_499d9_row20_col0\" class=\"data row20 col0\" >80</td>\n",
       "      <td id=\"T_499d9_row20_col1\" class=\"data row20 col1\" >3</td>\n",
       "      <td id=\"T_499d9_row20_col2\" class=\"data row20 col2\" >0.037500</td>\n",
       "      <td id=\"T_499d9_row20_col3\" class=\"data row20 col3\" >0.762500</td>\n",
       "    </tr>\n",
       "    <tr>\n",
       "      <th id=\"T_499d9_level0_row21\" class=\"row_heading level0 row21\" >21</th>\n",
       "      <td id=\"T_499d9_row21_col0\" class=\"data row21 col0\" >81</td>\n",
       "      <td id=\"T_499d9_row21_col1\" class=\"data row21 col1\" >3</td>\n",
       "      <td id=\"T_499d9_row21_col2\" class=\"data row21 col2\" >0.037500</td>\n",
       "      <td id=\"T_499d9_row21_col3\" class=\"data row21 col3\" >0.800000</td>\n",
       "    </tr>\n",
       "    <tr>\n",
       "      <th id=\"T_499d9_level0_row22\" class=\"row_heading level0 row22\" >22</th>\n",
       "      <td id=\"T_499d9_row22_col0\" class=\"data row22 col0\" >82</td>\n",
       "      <td id=\"T_499d9_row22_col1\" class=\"data row22 col1\" >0</td>\n",
       "      <td id=\"T_499d9_row22_col2\" class=\"data row22 col2\" >0.000000</td>\n",
       "      <td id=\"T_499d9_row22_col3\" class=\"data row22 col3\" >0.800000</td>\n",
       "    </tr>\n",
       "    <tr>\n",
       "      <th id=\"T_499d9_level0_row23\" class=\"row_heading level0 row23\" >23</th>\n",
       "      <td id=\"T_499d9_row23_col0\" class=\"data row23 col0\" >83</td>\n",
       "      <td id=\"T_499d9_row23_col1\" class=\"data row23 col1\" >4</td>\n",
       "      <td id=\"T_499d9_row23_col2\" class=\"data row23 col2\" >0.050000</td>\n",
       "      <td id=\"T_499d9_row23_col3\" class=\"data row23 col3\" >0.850000</td>\n",
       "    </tr>\n",
       "    <tr>\n",
       "      <th id=\"T_499d9_level0_row24\" class=\"row_heading level0 row24\" >24</th>\n",
       "      <td id=\"T_499d9_row24_col0\" class=\"data row24 col0\" >84</td>\n",
       "      <td id=\"T_499d9_row24_col1\" class=\"data row24 col1\" >5</td>\n",
       "      <td id=\"T_499d9_row24_col2\" class=\"data row24 col2\" >0.062500</td>\n",
       "      <td id=\"T_499d9_row24_col3\" class=\"data row24 col3\" >0.912500</td>\n",
       "    </tr>\n",
       "    <tr>\n",
       "      <th id=\"T_499d9_level0_row25\" class=\"row_heading level0 row25\" >25</th>\n",
       "      <td id=\"T_499d9_row25_col0\" class=\"data row25 col0\" >85</td>\n",
       "      <td id=\"T_499d9_row25_col1\" class=\"data row25 col1\" >2</td>\n",
       "      <td id=\"T_499d9_row25_col2\" class=\"data row25 col2\" >0.025000</td>\n",
       "      <td id=\"T_499d9_row25_col3\" class=\"data row25 col3\" >0.937500</td>\n",
       "    </tr>\n",
       "    <tr>\n",
       "      <th id=\"T_499d9_level0_row26\" class=\"row_heading level0 row26\" >26</th>\n",
       "      <td id=\"T_499d9_row26_col0\" class=\"data row26 col0\" >86</td>\n",
       "      <td id=\"T_499d9_row26_col1\" class=\"data row26 col1\" >2</td>\n",
       "      <td id=\"T_499d9_row26_col2\" class=\"data row26 col2\" >0.025000</td>\n",
       "      <td id=\"T_499d9_row26_col3\" class=\"data row26 col3\" >0.962500</td>\n",
       "    </tr>\n",
       "    <tr>\n",
       "      <th id=\"T_499d9_level0_row27\" class=\"row_heading level0 row27\" >27</th>\n",
       "      <td id=\"T_499d9_row27_col0\" class=\"data row27 col0\" >87</td>\n",
       "      <td id=\"T_499d9_row27_col1\" class=\"data row27 col1\" >1</td>\n",
       "      <td id=\"T_499d9_row27_col2\" class=\"data row27 col2\" >0.012500</td>\n",
       "      <td id=\"T_499d9_row27_col3\" class=\"data row27 col3\" >0.975000</td>\n",
       "    </tr>\n",
       "    <tr>\n",
       "      <th id=\"T_499d9_level0_row28\" class=\"row_heading level0 row28\" >28</th>\n",
       "      <td id=\"T_499d9_row28_col0\" class=\"data row28 col0\" >88</td>\n",
       "      <td id=\"T_499d9_row28_col1\" class=\"data row28 col1\" >1</td>\n",
       "      <td id=\"T_499d9_row28_col2\" class=\"data row28 col2\" >0.012500</td>\n",
       "      <td id=\"T_499d9_row28_col3\" class=\"data row28 col3\" >0.987500</td>\n",
       "    </tr>\n",
       "    <tr>\n",
       "      <th id=\"T_499d9_level0_row29\" class=\"row_heading level0 row29\" >29</th>\n",
       "      <td id=\"T_499d9_row29_col0\" class=\"data row29 col0\" >89</td>\n",
       "      <td id=\"T_499d9_row29_col1\" class=\"data row29 col1\" >1</td>\n",
       "      <td id=\"T_499d9_row29_col2\" class=\"data row29 col2\" >0.012500</td>\n",
       "      <td id=\"T_499d9_row29_col3\" class=\"data row29 col3\" >1.000000</td>\n",
       "    </tr>\n",
       "  </tbody>\n",
       "</table>\n"
      ],
      "text/plain": [
       "<pandas.io.formats.style.Styler at 0x1aabf087880>"
      ]
     },
     "execution_count": 45,
     "metadata": {},
     "output_type": "execute_result"
    }
   ],
   "source": [
    "import pandas as pd\n",
    "\n",
    "# list of grades\n",
    "grades_to_calculate = [i for i in range(60, 90)]\n",
    "\n",
    "# new data frame for calculation\n",
    "results_df = pd.DataFrame({'Grade': grades_to_calculate})\n",
    "\n",
    "results_df['Frequency'] = [len(df1[df1['grade_df1'] == grade]) for grade in grades_to_calculate]\n",
    "results_df['Relative Frequency'] = results_df['Frequency'] / len(df1)\n",
    "results_df['Cumulative Relative Frequency'] = results_df['Relative Frequency'].cumsum()\n",
    "\n",
    "# Define a function to highlight specific rows\n",
    "def highlight_specific_rows(s, rows_to_highlight):\n",
    "    # Create a boolean mask for rows to highlight\n",
    "    mask = s.index.isin(rows_to_highlight)\n",
    "    # Create a DataFrame of styles\n",
    "    styles = pd.DataFrame('', index=s.index, columns=s.columns)\n",
    "    # Set the background color for the specified rows\n",
    "    styles.loc[mask, :] = 'background-color: yellow'\n",
    "    return styles\n",
    "\n",
    "# Rows to highlight (in this case, rows 5 and 20)\n",
    "rows_to_highlight = [5, 20]\n",
    "\n",
    "# Apply the styling to the DataFrame\n",
    "styled_results_df = results_df.style.apply(highlight_specific_rows, rows_to_highlight=rows_to_highlight, axis=None)\n",
    "\n",
    "# Display the styled DataFrame\n",
    "styled_results_df\n"
   ]
  },
  {
   "cell_type": "markdown",
   "id": "5e1f5213-d3ae-49d4-b711-283b06efa1da",
   "metadata": {},
   "source": [
    "---"
   ]
  },
  {
   "cell_type": "markdown",
   "id": "65a61a25-d926-497f-9c65-bd77fa42217e",
   "metadata": {
    "jp-MarkdownHeadingCollapsed": true
   },
   "source": [
    "### Bonus: manual boxplot construction and definition"
   ]
  },
  {
   "cell_type": "code",
   "execution_count": 46,
   "id": "b2ded2d0-7868-4fe6-af1b-118101c71c59",
   "metadata": {},
   "outputs": [],
   "source": [
    "sns.set_style('white')\n",
    "plt.rc('xtick', labelsize=14)\n",
    "plt.rc('ytick', labelsize=14)"
   ]
  },
  {
   "cell_type": "code",
   "execution_count": 47,
   "id": "b02b8e4b-af6c-4b74-8af3-6bddc135a589",
   "metadata": {},
   "outputs": [],
   "source": [
    "blue, orange, green, red = sns.color_palette()[:4]"
   ]
  },
  {
   "cell_type": "code",
   "execution_count": 48,
   "id": "482e5358-78db-4aa2-9f66-47de7b4e8d6a",
   "metadata": {},
   "outputs": [],
   "source": [
    "pts = [1, 1.5, (7/3), 3, 3.75, 4.25, 5, 19/3, 8, 12]"
   ]
  },
  {
   "cell_type": "code",
   "execution_count": 49,
   "id": "a222abca-07e3-4ba6-97a4-da5dbbea3be5",
   "metadata": {},
   "outputs": [
    {
     "data": {
      "image/png": "[encoded data removed]",
      "text/plain": [
       "<Figure size 576x288 with 1 Axes>"
      ]
     },
     "metadata": {},
     "output_type": "display_data"
    }
   ],
   "source": [
    "plt.figure(figsize=(8, 4))\n",
    "plt.scatter(pts, [0]*len(pts), s=100, zorder=1, color=green)\n",
    "plt.axhline(0, color='gray', zorder=0)\n",
    "plt.ylim(-0.02, 0.55)\n",
    "plt.xlim(-2, 14)\n",
    "plt.box(False)\n",
    "plt.xticks(range(13))\n",
    "plt.yticks([])\n",
    "plt.tight_layout();"
   ]
  },
  {
   "cell_type": "code",
   "execution_count": 50,
   "id": "e1ddfd57-38fe-47ee-bc08-09f0bac73c0b",
   "metadata": {},
   "outputs": [
    {
     "data": {
      "text/plain": [
       "count    10.000000\n",
       "mean      4.716667\n",
       "std       3.341010\n",
       "min       1.000000\n",
       "25%       2.500000\n",
       "50%       4.000000\n",
       "75%       6.000000\n",
       "max      12.000000\n",
       "dtype: float64"
      ]
     },
     "execution_count": 50,
     "metadata": {},
     "output_type": "execute_result"
    }
   ],
   "source": [
    "pd.Series(pts).describe()"
   ]
  },
  {
   "cell_type": "markdown",
   "id": "7aa57be7-8bee-4041-9417-b5af3df63c48",
   "metadata": {},
   "source": [
    "#### Draw the median"
   ]
  },
  {
   "cell_type": "code",
   "execution_count": 51,
   "id": "83a5c1ec-c22b-45d7-862d-b13df1d87e19",
   "metadata": {},
   "outputs": [
    {
     "data": {
      "image/png": "[encoded data removed]",
      "text/plain": [
       "<Figure size 576x288 with 1 Axes>"
      ]
     },
     "metadata": {},
     "output_type": "display_data"
    }
   ],
   "source": [
    "plt.figure(figsize=(8, 4))\n",
    "plt.scatter(pts, [0]*len(pts), s=100, zorder=1, color=green)\n",
    "plt.axvline(4, ymin=0.2, ymax=0.5, color='#3E3E3E')  #median at 4\n",
    "plt.axhline(0, color='gray', zorder=0)\n",
    "plt.ylim(-0.02, 0.55)\n",
    "plt.xlim(-2, 14)\n",
    "plt.box(False)\n",
    "plt.xticks(range(13))\n",
    "plt.yticks([])\n",
    "plt.tight_layout();"
   ]
  },
  {
   "cell_type": "markdown",
   "id": "bdd87c30-d888-426d-8944-56e3480a7ce0",
   "metadata": {},
   "source": [
    "#### Draw the 25th percentile"
   ]
  },
  {
   "cell_type": "code",
   "execution_count": 52,
   "id": "9d5f04f2-43d2-446d-9edf-9d076827c03f",
   "metadata": {},
   "outputs": [
    {
     "data": {
      "image/png": "[encoded data removed]",
      "text/plain": [
       "<Figure size 576x288 with 1 Axes>"
      ]
     },
     "metadata": {},
     "output_type": "display_data"
    }
   ],
   "source": [
    "plt.figure(figsize=(8, 4))\n",
    "plt.scatter(pts, [0]*len(pts), s=100, zorder=1, color=green)\n",
    "plt.axvline(4, ymin=0.2, ymax=0.5, color='#3E3E3E') \n",
    "plt.axvline(2.5, ymin=0.2, ymax=0.5, color='#3E3E3E') #25th percentile\n",
    "plt.axhline(0, color='gray', zorder=0)\n",
    "plt.ylim(-0.02, 0.55)\n",
    "plt.xlim(-2, 14)\n",
    "plt.box(False)\n",
    "plt.xticks(range(13))\n",
    "plt.yticks([])\n",
    "plt.tight_layout();"
   ]
  },
  {
   "cell_type": "markdown",
   "id": "0c2da9fb-53b6-4193-921f-0be598cd3dd0",
   "metadata": {},
   "source": [
    "#### Draw the 25th percentile on the other side that now represent the 75th percentile"
   ]
  },
  {
   "cell_type": "code",
   "execution_count": 53,
   "id": "7f1ff822-e316-4ff9-be67-93ad95714215",
   "metadata": {},
   "outputs": [
    {
     "data": {
      "image/png": "[encoded data removed]",
      "text/plain": [
       "<Figure size 576x288 with 1 Axes>"
      ]
     },
     "metadata": {},
     "output_type": "display_data"
    }
   ],
   "source": [
    "plt.figure(figsize=(8, 4))\n",
    "plt.scatter(pts, [0]*len(pts), s=100, zorder=1, color=green)\n",
    "plt.axvline(4, ymin=0.2, ymax=0.5, color='#3E3E3E')  \n",
    "plt.axvline(2.5, ymin=0.2, ymax=0.5, color='#3E3E3E')  \n",
    "plt.axvline(6, ymin=0.2, ymax=0.5, color='#3E3E3E')   #75th percentile\n",
    "plt.axhline(0, color='gray', zorder=0)\n",
    "plt.ylim(-0.02, 0.55)\n",
    "plt.xlim(-2, 14)\n",
    "plt.box(False)\n",
    "plt.xticks(range(13))\n",
    "plt.yticks([])\n",
    "plt.tight_layout();"
   ]
  },
  {
   "cell_type": "markdown",
   "id": "56687624-496c-45e4-9633-739a17ac13ea",
   "metadata": {},
   "source": [
    "#### Connect the lines and paint"
   ]
  },
  {
   "cell_type": "code",
   "execution_count": 54,
   "id": "95d2cf59-260a-40c3-9fa1-90bab5d5df74",
   "metadata": {},
   "outputs": [
    {
     "data": {
      "image/png": "[encoded data removed]",
      "text/plain": [
       "<Figure size 576x288 with 1 Axes>"
      ]
     },
     "metadata": {},
     "output_type": "display_data"
    }
   ],
   "source": [
    "xvals=np.linspace(2.5, 6, 100)\n",
    "\n",
    "plt.figure(figsize=(8, 4))\n",
    "plt.scatter(pts, [0]*len(pts), s=100, zorder=1, color=green)\n",
    "plt.axvline(4, ymin=0.2, ymax=0.5, color='#3E3E3E')\n",
    "plt.axvline(2.5, ymin=0.2, ymax=0.5, color='#3E3E3E')\n",
    "plt.axvline(6, ymin=0.2, ymax=0.5, color='#3E3E3E')\n",
    "plt.axhline(0.092, xmin=(4.5/16), xmax=0.5, color='#3E3E3E')  #connect box\n",
    "plt.axhline(0.268, xmin=(4.5/16), xmax=0.5, color='#3E3E3E')  #connect box\n",
    "plt.gca().fill_between(xvals, 0.092, 0.268, color=green)  #add color\n",
    "plt.axhline(0, color='gray', zorder=0)\n",
    "plt.ylim(-0.02, 0.55)\n",
    "plt.xlim(-2, 14)\n",
    "plt.box(False)\n",
    "plt.xticks(range(13))\n",
    "plt.yticks([])\n",
    "plt.tight_layout();"
   ]
  },
  {
   "cell_type": "code",
   "execution_count": 55,
   "id": "0720c964-1306-4002-af15-7a85056bc5ae",
   "metadata": {},
   "outputs": [
    {
     "data": {
      "image/png": "[encoded data removed]",
      "text/plain": [
       "<Figure size 576x288 with 1 Axes>"
      ]
     },
     "metadata": {},
     "output_type": "display_data"
    }
   ],
   "source": [
    "plt.figure(figsize=(8, 4))\n",
    "plt.scatter(pts, [0]*len(pts), s=100, zorder=1, color=green)\n",
    "plt.axvline(4, ymin=0.2, ymax=0.5, color='#3E3E3E')\n",
    "plt.axvline(2.5, ymin=0.2, ymax=0.5, color='#3E3E3E')\n",
    "plt.axvline(6, ymin=0.2, ymax=0.5, color='#3E3E3E')\n",
    "plt.axhline(0.092, xmin=(4.5/16), xmax=0.5, color='#3E3E3E')\n",
    "plt.axhline(0.268, xmin=(4.5/16), xmax=0.5, color='#3E3E3E')\n",
    "plt.axhline(0.18, xmin=(3/16), xmax=(4.5/16), color='#3E3E3E')\n",
    "plt.axvline(1, ymin=0.3, ymax=0.4, color='#3E3E3E')\n",
    "plt.axhline(0.18, xmin=(8/16), xmax=(10/16), color='#3E3E3E') #add upper whisker\n",
    "plt.axvline(8, ymin=0.3, ymax=0.4, color='#3E3E3E')           #add upper whisker\n",
    "plt.gca().fill_between(xvals, 0.092, 0.268, color=green)\n",
    "plt.axhline(0, color='gray', zorder=0)\n",
    "plt.ylim(-0.02, 0.55)\n",
    "plt.xlim(-2, 14)\n",
    "plt.box(False)\n",
    "plt.xticks(range(13))\n",
    "plt.yticks([])\n",
    "plt.tight_layout();"
   ]
  },
  {
   "cell_type": "code",
   "execution_count": 56,
   "id": "61d424f4-8b96-49dc-8aef-e766b8b0918d",
   "metadata": {},
   "outputs": [
    {
     "data": {
      "image/png": "[encoded data removed]",
      "text/plain": [
       "<Figure size 576x288 with 1 Axes>"
      ]
     },
     "metadata": {},
     "output_type": "display_data"
    }
   ],
   "source": [
    "plt.figure(figsize=(8, 4))\n",
    "plt.scatter(pts, [0]*len(pts), s=100, zorder=1, color=green)\n",
    "plt.axvline(4, ymin=0.2, ymax=0.5, color='#3E3E3E')\n",
    "plt.axvline(2.5, ymin=0.2, ymax=0.5, color='#3E3E3E')\n",
    "plt.axvline(6, ymin=0.2, ymax=0.5, color='#3E3E3E')\n",
    "plt.axhline(0.092, xmin=(4.5/16), xmax=0.5, color='#3E3E3E')\n",
    "plt.axhline(0.268, xmin=(4.5/16), xmax=0.5, color='#3E3E3E')\n",
    "plt.axhline(0.18, xmin=(3/16), xmax=(4.5/16), color='#3E3E3E')\n",
    "plt.axvline(1, ymin=0.3, ymax=0.4, color='#3E3E3E')\n",
    "plt.axhline(0.18, xmin=(8/16), xmax=(10/16), color='#3E3E3E')\n",
    "plt.axvline(8, ymin=0.3, ymax=0.4, color='#3E3E3E')\n",
    "plt.scatter(12, 0.18, marker=\"d\", s=30, color='#3E3E3E')  #add flier\n",
    "plt.gca().fill_between(xvals, 0.092, 0.268, color=green)\n",
    "plt.axhline(0, color='gray', zorder=0)\n",
    "plt.ylim(-0.02, 0.55)\n",
    "plt.xlim(-2, 14)\n",
    "plt.box(False)\n",
    "plt.xticks(range(13))\n",
    "plt.yticks([])\n",
    "plt.tight_layout();"
   ]
  },
  {
   "cell_type": "code",
   "execution_count": 57,
   "id": "0d88f5f9-932a-4ed2-a377-f292b4241e26",
   "metadata": {},
   "outputs": [
    {
     "name": "stderr",
     "output_type": "stream",
     "text": [
      "C:\\Users\\razel\\AppData\\Local\\Programs\\Python\\Python310\\lib\\site-packages\\seaborn\\_decorators.py:36: FutureWarning: Pass the following variable as a keyword arg: x. From version 0.12, the only valid positional argument will be `data`, and passing other arguments without an explicit keyword will result in an error or misinterpretation.\n",
      "  warnings.warn(\n"
     ]
    },
    {
     "data": {
      "image/png": "[encoded data removed]",
      "text/plain": [
       "<Figure size 576x288 with 1 Axes>"
      ]
     },
     "metadata": {},
     "output_type": "display_data"
    }
   ],
   "source": [
    "#check manual against seaborn plot\n",
    "\n",
    "plt.figure(figsize=(8,4))\n",
    "sns.boxplot(pts, color=green, width=0.3)\n",
    "sns.despine()\n",
    "plt.xlim(-1, 13)\n",
    "plt.tight_layout();"
   ]
  },
  {
   "cell_type": "code",
   "execution_count": 58,
   "id": "0c331517-0330-4406-9ad6-ded203e6260b",
   "metadata": {},
   "outputs": [],
   "source": [
    "plt.rc('xtick', labelsize=10)\n",
    "plt.rc('ytick', labelsize=10)"
   ]
  },
  {
   "cell_type": "markdown",
   "id": "a7c59bc4-16a4-40ba-a410-aac200d6dca9",
   "metadata": {},
   "source": [
    "### [▲](#Top)\n",
    "---"
   ]
  },
  {
   "cell_type": "markdown",
   "id": "fb849b62-3bc8-4dfe-9fde-56165778792c",
   "metadata": {},
   "source": [
    "\n",
    "<a id='section7'></a>\n",
    "## Working with Boxplot"
   ]
  },
  {
   "cell_type": "code",
   "execution_count": 59,
   "id": "5fb4e562-8ca3-4305-9118-76cd25d5c20e",
   "metadata": {},
   "outputs": [],
   "source": [
    "sns.set_style('whitegrid')"
   ]
  },
  {
   "cell_type": "code",
   "execution_count": 60,
   "id": "447ddf39-4c0c-40f8-b4be-cb6d226399b5",
   "metadata": {},
   "outputs": [
    {
     "data": {
      "text/plain": [
       "(392, 9)"
      ]
     },
     "execution_count": 60,
     "metadata": {},
     "output_type": "execute_result"
    }
   ],
   "source": [
    "cars = sns.load_dataset('mpg').dropna()\n",
    "\n",
    "cars.shape"
   ]
  },
  {
   "cell_type": "code",
   "execution_count": 61,
   "id": "8c940c40-397f-43ca-a0b2-f5db22486012",
   "metadata": {},
   "outputs": [
    {
     "data": {
      "text/html": [
       "<div>\n",
       "<style scoped>\n",
       "    .dataframe tbody tr th:only-of-type {\n",
       "        vertical-align: middle;\n",
       "    }\n",
       "\n",
       "    .dataframe tbody tr th {\n",
       "        vertical-align: top;\n",
       "    }\n",
       "\n",
       "    .dataframe thead th {\n",
       "        text-align: right;\n",
       "    }\n",
       "</style>\n",
       "<table border=\"1\" class=\"dataframe\">\n",
       "  <thead>\n",
       "    <tr style=\"text-align: right;\">\n",
       "      <th></th>\n",
       "      <th>mpg</th>\n",
       "      <th>cylinders</th>\n",
       "      <th>displacement</th>\n",
       "      <th>horsepower</th>\n",
       "      <th>weight</th>\n",
       "      <th>acceleration</th>\n",
       "      <th>model_year</th>\n",
       "      <th>origin</th>\n",
       "      <th>name</th>\n",
       "    </tr>\n",
       "  </thead>\n",
       "  <tbody>\n",
       "    <tr>\n",
       "      <th>0</th>\n",
       "      <td>18.0</td>\n",
       "      <td>8</td>\n",
       "      <td>307.0</td>\n",
       "      <td>130.0</td>\n",
       "      <td>3504</td>\n",
       "      <td>12.0</td>\n",
       "      <td>70</td>\n",
       "      <td>usa</td>\n",
       "      <td>chevrolet chevelle malibu</td>\n",
       "    </tr>\n",
       "    <tr>\n",
       "      <th>1</th>\n",
       "      <td>15.0</td>\n",
       "      <td>8</td>\n",
       "      <td>350.0</td>\n",
       "      <td>165.0</td>\n",
       "      <td>3693</td>\n",
       "      <td>11.5</td>\n",
       "      <td>70</td>\n",
       "      <td>usa</td>\n",
       "      <td>buick skylark 320</td>\n",
       "    </tr>\n",
       "    <tr>\n",
       "      <th>2</th>\n",
       "      <td>18.0</td>\n",
       "      <td>8</td>\n",
       "      <td>318.0</td>\n",
       "      <td>150.0</td>\n",
       "      <td>3436</td>\n",
       "      <td>11.0</td>\n",
       "      <td>70</td>\n",
       "      <td>usa</td>\n",
       "      <td>plymouth satellite</td>\n",
       "    </tr>\n",
       "    <tr>\n",
       "      <th>3</th>\n",
       "      <td>16.0</td>\n",
       "      <td>8</td>\n",
       "      <td>304.0</td>\n",
       "      <td>150.0</td>\n",
       "      <td>3433</td>\n",
       "      <td>12.0</td>\n",
       "      <td>70</td>\n",
       "      <td>usa</td>\n",
       "      <td>amc rebel sst</td>\n",
       "    </tr>\n",
       "    <tr>\n",
       "      <th>4</th>\n",
       "      <td>17.0</td>\n",
       "      <td>8</td>\n",
       "      <td>302.0</td>\n",
       "      <td>140.0</td>\n",
       "      <td>3449</td>\n",
       "      <td>10.5</td>\n",
       "      <td>70</td>\n",
       "      <td>usa</td>\n",
       "      <td>ford torino</td>\n",
       "    </tr>\n",
       "  </tbody>\n",
       "</table>\n",
       "</div>"
      ],
      "text/plain": [
       "    mpg  cylinders  displacement  horsepower  weight  acceleration  \\\n",
       "0  18.0          8         307.0       130.0    3504          12.0   \n",
       "1  15.0          8         350.0       165.0    3693          11.5   \n",
       "2  18.0          8         318.0       150.0    3436          11.0   \n",
       "3  16.0          8         304.0       150.0    3433          12.0   \n",
       "4  17.0          8         302.0       140.0    3449          10.5   \n",
       "\n",
       "   model_year origin                       name  \n",
       "0          70    usa  chevrolet chevelle malibu  \n",
       "1          70    usa          buick skylark 320  \n",
       "2          70    usa         plymouth satellite  \n",
       "3          70    usa              amc rebel sst  \n",
       "4          70    usa                ford torino  "
      ]
     },
     "execution_count": 61,
     "metadata": {},
     "output_type": "execute_result"
    }
   ],
   "source": [
    "cars.head()"
   ]
  },
  {
   "cell_type": "markdown",
   "id": "9b199416-c2f0-4312-9203-2542f42dfd2e",
   "metadata": {},
   "source": [
    "Filter down to only cars with even number of cylinders"
   ]
  },
  {
   "cell_type": "code",
   "execution_count": 62,
   "id": "5de90032-022b-4928-95fb-f3c54e82bcc4",
   "metadata": {},
   "outputs": [],
   "source": [
    "cars = cars[cars.cylinders.isin([4,6,8])]"
   ]
  },
  {
   "cell_type": "code",
   "execution_count": 63,
   "id": "dd0c4c61-a5af-4b2f-9bfa-72b8beb4bdc5",
   "metadata": {},
   "outputs": [
    {
     "name": "stderr",
     "output_type": "stream",
     "text": [
      "C:\\Users\\razel\\AppData\\Local\\Programs\\Python\\Python310\\lib\\site-packages\\seaborn\\_decorators.py:36: FutureWarning: Pass the following variable as a keyword arg: x. From version 0.12, the only valid positional argument will be `data`, and passing other arguments without an explicit keyword will result in an error or misinterpretation.\n",
      "  warnings.warn(\n"
     ]
    },
    {
     "data": {
      "image/png": "[encoded data removed]",
      "text/plain": [
       "<Figure size 432x288 with 1 Axes>"
      ]
     },
     "metadata": {},
     "output_type": "display_data"
    }
   ],
   "source": [
    "sns.boxplot(cars.mpg);"
   ]
  },
  {
   "cell_type": "code",
   "execution_count": 64,
   "id": "cd3a9e28-9e6e-4b27-9f05-7978f24504a1",
   "metadata": {},
   "outputs": [
    {
     "data": {
      "text/plain": [
       "count    385.000000\n",
       "mean      23.445455\n",
       "std        7.836911\n",
       "min        9.000000\n",
       "25%       17.000000\n",
       "50%       23.000000\n",
       "75%       29.000000\n",
       "max       46.600000\n",
       "Name: mpg, dtype: float64"
      ]
     },
     "execution_count": 64,
     "metadata": {},
     "output_type": "execute_result"
    }
   ],
   "source": [
    "cars.mpg.describe()"
   ]
  },
  {
   "cell_type": "code",
   "execution_count": 65,
   "id": "b73c0dee-1052-4888-9e07-009111af5c02",
   "metadata": {},
   "outputs": [
    {
     "data": {
      "image/png": "[encoded data removed]",
      "text/plain": [
       "<Figure size 432x288 with 1 Axes>"
      ]
     },
     "metadata": {},
     "output_type": "display_data"
    }
   ],
   "source": [
    "sns.boxplot(x=cars.origin, y=cars.mpg);"
   ]
  },
  {
   "cell_type": "code",
   "execution_count": 66,
   "id": "84cb90c5-467c-42e3-990f-49d87f2ed7bc",
   "metadata": {},
   "outputs": [
    {
     "data": {
      "image/png": "[encoded data removed]",
      "text/plain": [
       "<Figure size 432x288 with 1 Axes>"
      ]
     },
     "metadata": {},
     "output_type": "display_data"
    }
   ],
   "source": [
    "sns.boxplot(x='origin', y='mpg', data=cars);"
   ]
  },
  {
   "cell_type": "markdown",
   "id": "22f601d7-3bbb-46c1-923d-17d5a55874f0",
   "metadata": {},
   "source": [
    "### Hue"
   ]
  },
  {
   "cell_type": "markdown",
   "id": "2f75e09c-fd48-4166-8c51-5a2ee1b0c827",
   "metadata": {},
   "source": [
    "#### By Cylinders"
   ]
  },
  {
   "cell_type": "code",
   "execution_count": 67,
   "id": "99d6ea6c-5551-469e-9c68-31eb362bc550",
   "metadata": {},
   "outputs": [
    {
     "data": {
      "image/png": "[encoded data removed]",
      "text/plain": [
       "<Figure size 432x288 with 1 Axes>"
      ]
     },
     "metadata": {},
     "output_type": "display_data"
    }
   ],
   "source": [
    "sns.boxplot(x='origin', y='mpg', hue='cylinders', data=cars);"
   ]
  },
  {
   "cell_type": "markdown",
   "id": "33696495-4a3d-4f43-a519-7d243ff023e2",
   "metadata": {},
   "source": [
    "#### By Model Year"
   ]
  },
  {
   "cell_type": "code",
   "execution_count": 68,
   "id": "f88a59f2-77c1-48f8-a05b-92d1885863c5",
   "metadata": {},
   "outputs": [
    {
     "data": {
      "text/plain": [
       "count    385.000000\n",
       "mean      75.961039\n",
       "std        3.692058\n",
       "min       70.000000\n",
       "25%       73.000000\n",
       "50%       76.000000\n",
       "75%       79.000000\n",
       "max       82.000000\n",
       "Name: model_year, dtype: float64"
      ]
     },
     "execution_count": 68,
     "metadata": {},
     "output_type": "execute_result"
    }
   ],
   "source": [
    "cars.model_year.describe()"
   ]
  },
  {
   "cell_type": "code",
   "execution_count": 69,
   "id": "a61c1036-6083-4eca-a96e-1da8e86330b1",
   "metadata": {},
   "outputs": [],
   "source": [
    "cars['newer_model'] = cars.model_year > 76"
   ]
  },
  {
   "cell_type": "code",
   "execution_count": 70,
   "id": "a8c5d37c-bf74-40eb-8fc6-fd4113efabb9",
   "metadata": {},
   "outputs": [
    {
     "data": {
      "image/png": "[encoded data removed]",
      "text/plain": [
       "<Figure size 432x288 with 1 Axes>"
      ]
     },
     "metadata": {},
     "output_type": "display_data"
    }
   ],
   "source": [
    "sns.boxplot(x='origin', y='mpg', hue='newer_model', data=cars);"
   ]
  },
  {
   "cell_type": "markdown",
   "id": "b944f06f-8131-4fd6-bba0-b112d732d2dc",
   "metadata": {},
   "source": [
    "## Styling Options"
   ]
  },
  {
   "cell_type": "markdown",
   "id": "6f4d36e3-45b8-4b53-8151-6db19de0e69c",
   "metadata": {},
   "source": [
    "### order"
   ]
  },
  {
   "cell_type": "code",
   "execution_count": 71,
   "id": "0140c073-a9d9-42b0-bca8-a22765ebbca3",
   "metadata": {},
   "outputs": [
    {
     "data": {
      "image/png": "[encoded data removed]",
      "text/plain": [
       "<Figure size 432x288 with 1 Axes>"
      ]
     },
     "metadata": {},
     "output_type": "display_data"
    }
   ],
   "source": [
    "sns.boxplot(x='mpg', y='origin',   \n",
    "            data=cars\n",
    "           );"
   ]
  },
  {
   "cell_type": "code",
   "execution_count": 72,
   "id": "8d533754-9de6-4005-af27-2d6969452f89",
   "metadata": {},
   "outputs": [
    {
     "data": {
      "image/png": "[encoded data removed]",
      "text/plain": [
       "<Figure size 432x288 with 1 Axes>"
      ]
     },
     "metadata": {},
     "output_type": "display_data"
    }
   ],
   "source": [
    "sns.boxplot(x='mpg', y='origin', \n",
    "            data=cars,\n",
    "            order=['japan', 'europe', 'usa']\n",
    "           );"
   ]
  },
  {
   "cell_type": "code",
   "execution_count": 73,
   "id": "1c619a68-ac68-40f2-b1f6-99d3a9fe6c3b",
   "metadata": {},
   "outputs": [
    {
     "data": {
      "image/png": "[encoded data removed]",
      "text/plain": [
       "<Figure size 432x288 with 1 Axes>"
      ]
     },
     "metadata": {},
     "output_type": "display_data"
    }
   ],
   "source": [
    "sns.boxplot(x='mpg', y='origin', hue='newer_model',\n",
    "            data=cars,\n",
    "            order=['japan', 'europe', 'usa'],\n",
    "            hue_order=[True, False]\n",
    "           );"
   ]
  },
  {
   "cell_type": "markdown",
   "id": "a0587f77-a15a-40f5-9690-7c7976a78b4c",
   "metadata": {},
   "source": [
    "### color"
   ]
  },
  {
   "cell_type": "code",
   "execution_count": 74,
   "id": "2033e9b6-49c3-47c0-9531-b77c882050d3",
   "metadata": {},
   "outputs": [
    {
     "data": {
      "image/png": "[encoded data removed]",
      "text/plain": [
       "<Figure size 432x288 with 1 Axes>"
      ]
     },
     "metadata": {},
     "output_type": "display_data"
    }
   ],
   "source": [
    "sns.boxplot(x='mpg', y='origin',  \n",
    "            data=cars, \n",
    "            color='g'\n",
    "           );"
   ]
  },
  {
   "cell_type": "code",
   "execution_count": null,
   "id": "cea809ee-f7c4-4baa-b343-bbbaec156015",
   "metadata": {},
   "outputs": [],
   "source": [
    "sns.boxplot(x='mpg', y='origin', hue='newer_model',\n",
    "            data=cars,\n",
    "            color='g'\n",
    "           );"
   ]
  },
  {
   "cell_type": "markdown",
   "id": "e6c7a11a-05b8-4398-a940-8dee15179ed4",
   "metadata": {},
   "source": [
    "### width"
   ]
  },
  {
   "cell_type": "code",
   "execution_count": null,
   "id": "3975fe78-3bfe-420f-8352-fd25ba5d3501",
   "metadata": {},
   "outputs": [],
   "source": [
    "sns.boxplot(x='mpg', y='origin', \n",
    "            data=cars,\n",
    "            width=0.5\n",
    "           ); "
   ]
  },
  {
   "cell_type": "markdown",
   "id": "8d44a2a9-b122-4873-950a-e982c7756503",
   "metadata": {},
   "source": [
    "### linewidth"
   ]
  },
  {
   "cell_type": "code",
   "execution_count": null,
   "id": "7efebe26-c564-48a3-95ce-6cf825c2525a",
   "metadata": {},
   "outputs": [],
   "source": [
    "sns.boxplot(x='mpg', y='origin', \n",
    "            data=cars,\n",
    "            linewidth=2.5\n",
    "           );"
   ]
  },
  {
   "cell_type": "markdown",
   "id": "0546ce0a-0c3c-44a8-80b5-090b83e75eb2",
   "metadata": {},
   "source": [
    "### whis"
   ]
  },
  {
   "cell_type": "code",
   "execution_count": null,
   "id": "156e3a9d-f38c-43ff-9fee-66e7890b86e1",
   "metadata": {},
   "outputs": [],
   "source": [
    "sns.boxplot(x='mpg', y='origin', \n",
    "            data=cars,\n",
    "            whis=1\n",
    "           );"
   ]
  },
  {
   "cell_type": "code",
   "execution_count": null,
   "id": "54ff469c-5817-46cd-ad5f-73d51265cf69",
   "metadata": {},
   "outputs": [],
   "source": [
    "sns.boxplot(x='mpg', y='origin', \n",
    "            data=cars,\n",
    "            whis=2\n",
    "           );"
   ]
  },
  {
   "cell_type": "markdown",
   "id": "3639f9fb-ce98-4193-8f4e-21b9300dfbfd",
   "metadata": {},
   "source": [
    "### fliersize"
   ]
  },
  {
   "cell_type": "code",
   "execution_count": null,
   "id": "02ed5ca3-88db-42f9-b5df-ac992f2862b9",
   "metadata": {},
   "outputs": [],
   "source": [
    "sns.boxplot(x='mpg', y='origin', \n",
    "            data=cars,\n",
    "            fliersize=2\n",
    "           );"
   ]
  },
  {
   "cell_type": "code",
   "execution_count": null,
   "id": "4a354e33-4779-4b0d-b5e9-7701f13b3684",
   "metadata": {},
   "outputs": [],
   "source": [
    "sns.boxplot(x='mpg', y='origin', \n",
    "            data=cars,\n",
    "            fliersize=10\n",
    "           );"
   ]
  },
  {
   "cell_type": "markdown",
   "id": "f0df47aa-7db7-4a14-a4ae-b91b7f0c17db",
   "metadata": {},
   "source": [
    "### showcaps"
   ]
  },
  {
   "cell_type": "code",
   "execution_count": null,
   "id": "3f72b331-69d8-4361-ba84-c3bd8c407628",
   "metadata": {},
   "outputs": [],
   "source": [
    "sns.boxplot(x='mpg', y='origin', \n",
    "            data=cars,\n",
    "            showcaps=False\n",
    "           );"
   ]
  }
 ],
 "metadata": {
  "kernelspec": {
   "display_name": "Python 3 (ipykernel)",
   "language": "python",
   "name": "python3"
  },
  "language_info": {
   "codemirror_mode": {
    "name": "ipython",
    "version": 3
   },
   "file_extension": ".py",
   "mimetype": "text/x-python",
   "name": "python",
   "nbconvert_exporter": "python",
   "pygments_lexer": "ipython3",
   "version": "3.10.2"
  }
 },
 "nbformat": 4,
 "nbformat_minor": 5
}
